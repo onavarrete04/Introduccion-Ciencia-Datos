{
 "cells": [
  {
   "cell_type": "markdown",
   "id": "866a5909",
   "metadata": {},
   "source": [
    "## Práctica 2 usando datos\n",
    "\n",
    "Práctica 2 usando una base de datos Kaggle de Colombia.\n",
    "\n",
    "El conjunto de datos a utilizar es una recopilación sobre la violencia intrafamiliar que se ha desarrollado en Colombia a lo largo del tiempo. Los datos contienen datos que refieren la ubicación, las fechas de los sucesos, el género de la víctima, el grupo etario, la cantidad y las armas que fueron utilizadas."
   ]
  },
  {
   "cell_type": "code",
   "execution_count": 1,
   "id": "7e971aff",
   "metadata": {},
   "outputs": [],
   "source": [
    "# Importando librerias\n",
    "\n",
    "%matplotlib inline\n",
    "# Añadir los gráficos en el cuaderno, se usa dentro de los cuadernos jupyter\n",
    "import matplotlib.pyplot as plt\n",
    "import seaborn as sns\n",
    "import pandas as pd\n",
    "import numpy as np\n",
    "from scipy.stats import iqr"
   ]
  },
  {
   "cell_type": "code",
   "execution_count": 2,
   "id": "3b583702",
   "metadata": {},
   "outputs": [
    {
     "name": "stderr",
     "output_type": "stream",
     "text": [
      "/home/oscar/anaconda3/lib/python3.9/site-packages/IPython/core/interactiveshell.py:3444: DtypeWarning: Columns (2) have mixed types.Specify dtype option on import or set low_memory=False.\n",
      "  exec(code_obj, self.user_global_ns, self.user_ns)\n"
     ]
    }
   ],
   "source": [
    "# Importando la información \n",
    "\n",
    "df = pd.read_csv(\"Reporte_Delito_Violencia_Intrafamiliar_Polic_a_Nacional.csv\")"
   ]
  },
  {
   "cell_type": "code",
   "execution_count": 3,
   "id": "9538a0a8",
   "metadata": {},
   "outputs": [
    {
     "name": "stdout",
     "output_type": "stream",
     "text": [
      "<class 'pandas.core.frame.DataFrame'>\n",
      "RangeIndex: 476970 entries, 0 to 476969\n",
      "Data columns (total 8 columns):\n",
      " #   Column        Non-Null Count   Dtype \n",
      "---  ------        --------------   ----- \n",
      " 0   DEPARTAMENTO  476970 non-null  object\n",
      " 1   MUNICIPIO     476970 non-null  object\n",
      " 2   CODIGO DANE   476970 non-null  object\n",
      " 3   ARMAS MEDIOS  476968 non-null  object\n",
      " 4   FECHA HECHO   476970 non-null  object\n",
      " 5   GENERO        476967 non-null  object\n",
      " 6   GRUPO ETARIO  475355 non-null  object\n",
      " 7   CANTIDAD      476970 non-null  int64 \n",
      "dtypes: int64(1), object(7)\n",
      "memory usage: 29.1+ MB\n"
     ]
    }
   ],
   "source": [
    "df.info() # imprime columnas, tipo de variable, entre otras."
   ]
  },
  {
   "cell_type": "code",
   "execution_count": 4,
   "id": "88401346",
   "metadata": {},
   "outputs": [
    {
     "data": {
      "text/html": [
       "<div>\n",
       "<style scoped>\n",
       "    .dataframe tbody tr th:only-of-type {\n",
       "        vertical-align: middle;\n",
       "    }\n",
       "\n",
       "    .dataframe tbody tr th {\n",
       "        vertical-align: top;\n",
       "    }\n",
       "\n",
       "    .dataframe thead th {\n",
       "        text-align: right;\n",
       "    }\n",
       "</style>\n",
       "<table border=\"1\" class=\"dataframe\">\n",
       "  <thead>\n",
       "    <tr style=\"text-align: right;\">\n",
       "      <th></th>\n",
       "      <th>DEPARTAMENTO</th>\n",
       "      <th>MUNICIPIO</th>\n",
       "      <th>CODIGO DANE</th>\n",
       "      <th>ARMAS MEDIOS</th>\n",
       "      <th>FECHA HECHO</th>\n",
       "      <th>GENERO</th>\n",
       "      <th>GRUPO ETARIO</th>\n",
       "      <th>CANTIDAD</th>\n",
       "    </tr>\n",
       "  </thead>\n",
       "  <tbody>\n",
       "    <tr>\n",
       "      <th>0</th>\n",
       "      <td>ATLÁNTICO</td>\n",
       "      <td>BARRANQUILLA (CT)</td>\n",
       "      <td>8001000</td>\n",
       "      <td>ARMA BLANCA / CORTOPUNZANTE</td>\n",
       "      <td>1/01/2010</td>\n",
       "      <td>MASCULINO</td>\n",
       "      <td>ADULTOS</td>\n",
       "      <td>1</td>\n",
       "    </tr>\n",
       "    <tr>\n",
       "      <th>1</th>\n",
       "      <td>BOYACÁ</td>\n",
       "      <td>DUITAMA</td>\n",
       "      <td>15238000</td>\n",
       "      <td>ARMA BLANCA / CORTOPUNZANTE</td>\n",
       "      <td>1/01/2010</td>\n",
       "      <td>FEMENINO</td>\n",
       "      <td>ADULTOS</td>\n",
       "      <td>1</td>\n",
       "    </tr>\n",
       "    <tr>\n",
       "      <th>2</th>\n",
       "      <td>CAQUETÁ</td>\n",
       "      <td>PUERTO RICO</td>\n",
       "      <td>18592000</td>\n",
       "      <td>ARMA BLANCA / CORTOPUNZANTE</td>\n",
       "      <td>1/01/2010</td>\n",
       "      <td>MASCULINO</td>\n",
       "      <td>ADULTOS</td>\n",
       "      <td>1</td>\n",
       "    </tr>\n",
       "    <tr>\n",
       "      <th>3</th>\n",
       "      <td>CASANARE</td>\n",
       "      <td>MANÍ</td>\n",
       "      <td>85139000</td>\n",
       "      <td>ARMA BLANCA / CORTOPUNZANTE</td>\n",
       "      <td>1/01/2010</td>\n",
       "      <td>FEMENINO</td>\n",
       "      <td>ADULTOS</td>\n",
       "      <td>1</td>\n",
       "    </tr>\n",
       "    <tr>\n",
       "      <th>4</th>\n",
       "      <td>CUNDINAMARCA</td>\n",
       "      <td>BOGOTÁ D.C. (CT)</td>\n",
       "      <td>11001000</td>\n",
       "      <td>ARMA BLANCA / CORTOPUNZANTE</td>\n",
       "      <td>1/01/2010</td>\n",
       "      <td>FEMENINO</td>\n",
       "      <td>ADULTOS</td>\n",
       "      <td>1</td>\n",
       "    </tr>\n",
       "  </tbody>\n",
       "</table>\n",
       "</div>"
      ],
      "text/plain": [
       "   DEPARTAMENTO          MUNICIPIO CODIGO DANE                 ARMAS MEDIOS  \\\n",
       "0     ATLÁNTICO  BARRANQUILLA (CT)     8001000  ARMA BLANCA / CORTOPUNZANTE   \n",
       "1        BOYACÁ            DUITAMA    15238000  ARMA BLANCA / CORTOPUNZANTE   \n",
       "2       CAQUETÁ        PUERTO RICO    18592000  ARMA BLANCA / CORTOPUNZANTE   \n",
       "3      CASANARE               MANÍ    85139000  ARMA BLANCA / CORTOPUNZANTE   \n",
       "4  CUNDINAMARCA   BOGOTÁ D.C. (CT)    11001000  ARMA BLANCA / CORTOPUNZANTE   \n",
       "\n",
       "  FECHA HECHO     GENERO GRUPO ETARIO  CANTIDAD  \n",
       "0   1/01/2010  MASCULINO      ADULTOS         1  \n",
       "1   1/01/2010   FEMENINO      ADULTOS         1  \n",
       "2   1/01/2010  MASCULINO      ADULTOS         1  \n",
       "3   1/01/2010   FEMENINO      ADULTOS         1  \n",
       "4   1/01/2010   FEMENINO      ADULTOS         1  "
      ]
     },
     "execution_count": 4,
     "metadata": {},
     "output_type": "execute_result"
    }
   ],
   "source": [
    "df.head()"
   ]
  },
  {
   "cell_type": "code",
   "execution_count": 5,
   "id": "5fe961fa",
   "metadata": {},
   "outputs": [
    {
     "data": {
      "text/plain": [
       "ADULTOS         420237\n",
       "ADOLESCENTES     28396\n",
       "MENORES          26448\n",
       "NO REPORTA         274\n",
       "Name: GRUPO ETARIO, dtype: int64"
      ]
     },
     "execution_count": 5,
     "metadata": {},
     "output_type": "execute_result"
    }
   ],
   "source": [
    "# tabla de frecuencias grupo etario\n",
    "\n",
    "df[\"GRUPO ETARIO\"].value_counts()"
   ]
  },
  {
   "cell_type": "code",
   "execution_count": 6,
   "id": "7ab5eb0a",
   "metadata": {},
   "outputs": [
    {
     "data": {
      "text/plain": [
       "GENERO      GRUPO ETARIO\n",
       "FEMENINO    ADULTOS         333230\n",
       "            ADOLESCENTES     19991\n",
       "            MENORES          12684\n",
       "MASCULINO   ADULTOS          86989\n",
       "            MENORES          13762\n",
       "            ADOLESCENTES      8405\n",
       "NO REPORTA  NO REPORTA         274\n",
       "            ADULTOS             18\n",
       "            MENORES              2\n",
       "Name: GRUPO ETARIO, dtype: int64"
      ]
     },
     "execution_count": 6,
     "metadata": {},
     "output_type": "execute_result"
    }
   ],
   "source": [
    "dx = df.groupby(\"GENERO\")[\"GRUPO ETARIO\"].value_counts()\n",
    "\n",
    "dx"
   ]
  },
  {
   "cell_type": "code",
   "execution_count": 7,
   "id": "5bfce49c",
   "metadata": {},
   "outputs": [
    {
     "data": {
      "text/plain": [
       "<AxesSubplot:xlabel='GENERO', ylabel='count'>"
      ]
     },
     "execution_count": 7,
     "metadata": {},
     "output_type": "execute_result"
    },
    {
     "data": {
      "image/png": "[encoded data removed]",
      "text/plain": [
       "<Figure size 432x288 with 1 Axes>"
      ]
     },
     "metadata": {
      "needs_background": "light"
     },
     "output_type": "display_data"
    }
   ],
   "source": [
    "sns.countplot(x=df.GENERO.dropna())"
   ]
  },
  {
   "cell_type": "code",
   "execution_count": 8,
   "id": "4f0c7d22",
   "metadata": {},
   "outputs": [
    {
     "data": {
      "text/plain": [
       "<AxesSubplot:xlabel='GENERO', ylabel='CANTIDAD'>"
      ]
     },
     "execution_count": 8,
     "metadata": {},
     "output_type": "execute_result"
    },
    {
     "data": {
      "image/png": "[encoded data removed]",
      "text/plain": [
       "<Figure size 432x288 with 1 Axes>"
      ]
     },
     "metadata": {
      "needs_background": "light"
     },
     "output_type": "display_data"
    }
   ],
   "source": [
    "sns.boxplot(x=df.GENERO, y=df.CANTIDAD)"
   ]
  },
  {
   "cell_type": "code",
   "execution_count": 9,
   "id": "931d94b1",
   "metadata": {},
   "outputs": [
    {
     "data": {
      "text/plain": [
       "ARMAS MEDIOS                 GRUPO ETARIO  CANTIDAD\n",
       "-                            ADULTOS       1               1\n",
       "ARMA BLANCA / CORTOPUNZANTE  ADOLESCENTES  1            1753\n",
       "                                           2              55\n",
       "                                           3               3\n",
       "                             ADULTOS       1           31294\n",
       "                                                       ...  \n",
       "SIN EMPLEO DE ARMAS          MENORES       15              2\n",
       "                                           13              1\n",
       "                             NO REPORTA    1              36\n",
       "                                           2               4\n",
       "                                           3               3\n",
       "Name: CANTIDAD, Length: 414, dtype: int64"
      ]
     },
     "execution_count": 9,
     "metadata": {},
     "output_type": "execute_result"
    }
   ],
   "source": [
    "dx = df.loc[(df[\"MUNICIPIO\"] == \"BOGOTÁ D.C. (CT)\")]\n",
    "\n",
    "dx = df.groupby([\"ARMAS MEDIOS\",\"GRUPO ETARIO\"])[\"CANTIDAD\"]\n",
    "\n",
    "dx.value_counts()"
   ]
  },
  {
   "cell_type": "code",
   "execution_count": 10,
   "id": "7a7b8c69",
   "metadata": {},
   "outputs": [
    {
     "name": "stderr",
     "output_type": "stream",
     "text": [
      "/home/oscar/anaconda3/lib/python3.9/site-packages/seaborn/_decorators.py:36: FutureWarning: Pass the following variable as a keyword arg: x. From version 0.12, the only valid positional argument will be `data`, and passing other arguments without an explicit keyword will result in an error or misinterpretation.\n",
      "  warnings.warn(\n"
     ]
    },
    {
     "data": {
      "text/plain": [
       "<AxesSubplot:xlabel='DEPARTAMENTO', ylabel='count'>"
      ]
     },
     "execution_count": 10,
     "metadata": {},
     "output_type": "execute_result"
    },
    {
     "data": {
      "image/png": "[encoded data removed]",
      "text/plain": [
       "<Figure size 1080x360 with 1 Axes>"
      ]
     },
     "metadata": {
      "needs_background": "light"
     },
     "output_type": "display_data"
    }
   ],
   "source": [
    "dx = df.loc[:,[\"DEPARTAMENTO\", \"GENERO\", \"CANTIDAD\"]]\n",
    "plt.figure(figsize= (15,5))\n",
    "plt.xticks(rotation=90)\n",
    "\n",
    "sns.countplot(dx.DEPARTAMENTO)"
   ]
  },
  {
   "cell_type": "code",
   "execution_count": 11,
   "id": "0fb7ce04",
   "metadata": {},
   "outputs": [
    {
     "data": {
      "text/plain": [
       "<Figure size 1080x360 with 0 Axes>"
      ]
     },
     "metadata": {},
     "output_type": "display_data"
    },
    {
     "data": {
      "image/png": "[encoded data removed]",
      "text/plain": [
       "<Figure size 448.5x360 with 1 Axes>"
      ]
     },
     "metadata": {
      "needs_background": "light"
     },
     "output_type": "display_data"
    },
    {
     "data": {
      "image/png": "[encoded data removed]",
      "text/plain": [
       "<Figure size 455.625x360 with 1 Axes>"
      ]
     },
     "metadata": {
      "needs_background": "light"
     },
     "output_type": "display_data"
    }
   ],
   "source": [
    "dx = df.loc[(df.GENERO == \"FEMENINO\")]\n",
    "dm = df.loc[(df.GENERO == \"MASCULINO\")]\n",
    "plt.figure(figsize=(15,5))\n",
    "sns.displot(data=dx, y=dx.CANTIDAD, hue=\"GENERO\", x=dx.DEPARTAMENTO)\n",
    "plt.xticks(rotation=90)\n",
    "\n",
    "sns.displot(data=dm,y=dm.CANTIDAD,hue=\"GENERO\",x=dm.DEPARTAMENTO)\n",
    "plt.xticks(rotation=90)\n",
    "\n",
    "plt.show()"
   ]
  },
  {
   "cell_type": "code",
   "execution_count": 12,
   "id": "08064203",
   "metadata": {},
   "outputs": [
    {
     "data": {
      "image/png": "[encoded data removed]",
      "text/plain": [
       "<Figure size 432x288 with 1 Axes>"
      ]
     },
     "metadata": {
      "needs_background": "light"
     },
     "output_type": "display_data"
    }
   ],
   "source": [
    "sns.boxplot( y=df.CANTIDAD, x=df[\"ARMAS MEDIOS\"],data=df)\n",
    "plt.xticks(rotation=90)\n",
    "plt.show()\n",
    "\n"
   ]
  },
  {
   "cell_type": "code",
   "execution_count": 13,
   "id": "ff7a6133",
   "metadata": {},
   "outputs": [
    {
     "name": "stderr",
     "output_type": "stream",
     "text": [
      "/home/oscar/anaconda3/lib/python3.9/site-packages/seaborn/_decorators.py:36: FutureWarning: Pass the following variable as a keyword arg: x. From version 0.12, the only valid positional argument will be `data`, and passing other arguments without an explicit keyword will result in an error or misinterpretation.\n",
      "  warnings.warn(\n"
     ]
    },
    {
     "data": {
      "text/plain": [
       "(array([ 0,  1,  2,  3,  4,  5,  6,  7,  8,  9, 10]),\n",
       " [Text(0, 0, 'ARMA BLANCA / CORTOPUNZANTE'),\n",
       "  Text(1, 0, 'ARMA DE FUEGO'),\n",
       "  Text(2, 0, 'CONTUNDENTES'),\n",
       "  Text(3, 0, 'CORTANTES'),\n",
       "  Text(4, 0, 'CORTOPUNZANTES'),\n",
       "  Text(5, 0, 'NO REPORTADO'),\n",
       "  Text(6, 0, 'PUNZANTES'),\n",
       "  Text(7, 0, 'SIN EMPLEO DE ARMAS'),\n",
       "  Text(8, 0, 'NO REPORTA'),\n",
       "  Text(9, 0, 'ESCOPOLAMINA'),\n",
       "  Text(10, 0, '-')])"
      ]
     },
     "execution_count": 13,
     "metadata": {},
     "output_type": "execute_result"
    },
    {
     "data": {
      "image/png": "[encoded data removed]",
      "text/plain": [
       "<Figure size 1080x360 with 1 Axes>"
      ]
     },
     "metadata": {
      "needs_background": "light"
     },
     "output_type": "display_data"
    }
   ],
   "source": [
    "plt.figure(figsize=(15,5))\n",
    "sns.countplot(df[\"ARMAS MEDIOS\"])\n",
    "plt.xticks(rotation=90)"
   ]
  },
  {
   "cell_type": "code",
   "execution_count": 14,
   "id": "55c8feb6",
   "metadata": {},
   "outputs": [
    {
     "data": {
      "text/plain": [
       "<AxesSubplot:xlabel='CANTIDAD', ylabel='GENERO'>"
      ]
     },
     "execution_count": 14,
     "metadata": {},
     "output_type": "execute_result"
    },
    {
     "data": {
      "image/png": "[encoded data removed]",
      "text/plain": [
       "<Figure size 432x288 with 1 Axes>"
      ]
     },
     "metadata": {
      "needs_background": "light"
     },
     "output_type": "display_data"
    }
   ],
   "source": [
    "sns.boxplot(x=df.CANTIDAD, y=df.GENERO)"
   ]
  },
  {
   "cell_type": "code",
   "execution_count": 15,
   "id": "1856028d",
   "metadata": {},
   "outputs": [
    {
     "data": {
      "text/plain": [
       "CUNDINAMARCA          88100\n",
       "ANTIOQUIA             57288\n",
       "VALLE                 44909\n",
       "SANTANDER             38493\n",
       "BOYACÁ                26920\n",
       "ATLÁNTICO             17516\n",
       "TOLIMA                17007\n",
       "HUILA                 16547\n",
       "META                  16223\n",
       "BOLÍVAR               15954\n",
       "NORTE DE SANTANDER    14919\n",
       "RISARALDA             14381\n",
       "NARIÑO                14373\n",
       "CAUCA                 13947\n",
       "CÓRDOBA               10800\n",
       "SUCRE                  9745\n",
       "MAGDALENA              9691\n",
       "CALDAS                 8742\n",
       "CESAR                  7109\n",
       "CASANARE               6418\n",
       "CAQUETÁ                4857\n",
       "QUINDÍO                4800\n",
       "GUAJIRA                4434\n",
       "ARAUCA                 3852\n",
       "PUTUMAYO               3104\n",
       "CHOCÓ                  2071\n",
       "AMAZONAS               1408\n",
       "SAN ANDRÉS             1155\n",
       "GUAVIARE                886\n",
       "GUAINÍA                 518\n",
       "VICHADA                 424\n",
       "VAUPÉS                  373\n",
       "NO REPORTA                6\n",
       "Name: DEPARTAMENTO, dtype: int64"
      ]
     },
     "execution_count": 15,
     "metadata": {},
     "output_type": "execute_result"
    }
   ],
   "source": [
    "\n",
    "df.DEPARTAMENTO.value_counts()\n"
   ]
  },
  {
   "cell_type": "code",
   "execution_count": 16,
   "id": "d2876442",
   "metadata": {},
   "outputs": [
    {
     "data": {
      "text/plain": [
       "ARMAS MEDIOS                 GENERO    \n",
       "-                            FEMENINO           1\n",
       "ARMA BLANCA / CORTOPUNZANTE  FEMENINO       27409\n",
       "                             MASCULINO      10648\n",
       "                             NO REPORTA        12\n",
       "                             -                  1\n",
       "ARMA DE FUEGO                FEMENINO        1964\n",
       "                             MASCULINO        359\n",
       "CONTUNDENTES                 FEMENINO      191434\n",
       "                             MASCULINO      53387\n",
       "                             NO REPORTA       121\n",
       "                             -                  3\n",
       "CORTANTES                    FEMENINO         839\n",
       "                             MASCULINO        298\n",
       "                             NO REPORTA         1\n",
       "CORTOPUNZANTES               FEMENINO         886\n",
       "                             MASCULINO        279\n",
       "                             NO REPORTA         2\n",
       "ESCOPOLAMINA                 FEMENINO        2984\n",
       "                             MASCULINO        877\n",
       "                             NO REPORTA         2\n",
       "NO REPORTA                   FEMENINO        3454\n",
       "                             MASCULINO        960\n",
       "                             NO REPORTA         7\n",
       "NO REPORTADO                 FEMENINO       53579\n",
       "                             MASCULINO      18241\n",
       "                             NO REPORTA       101\n",
       "PUNZANTES                    FEMENINO         194\n",
       "                             MASCULINO        140\n",
       "SIN EMPLEO DE ARMAS          FEMENINO       84161\n",
       "                             MASCULINO      24570\n",
       "                             NO REPORTA        48\n",
       "                             -                  3\n",
       "Name: GENERO, dtype: int64"
      ]
     },
     "execution_count": 16,
     "metadata": {},
     "output_type": "execute_result"
    }
   ],
   "source": [
    "x = df.groupby([\"ARMAS MEDIOS\"])[\"GENERO\"].value_counts()\n",
    "x"
   ]
  },
  {
   "cell_type": "code",
   "execution_count": 17,
   "id": "3b79ffa0",
   "metadata": {},
   "outputs": [
    {
     "data": {
      "text/plain": [
       "count    476970.000000\n",
       "mean          1.707764\n",
       "std           3.338647\n",
       "min           1.000000\n",
       "25%           1.000000\n",
       "50%           1.000000\n",
       "75%           1.000000\n",
       "max         130.000000\n",
       "Name: CANTIDAD, dtype: float64"
      ]
     },
     "execution_count": 17,
     "metadata": {},
     "output_type": "execute_result"
    }
   ],
   "source": [
    "df.CANTIDAD.describe()"
   ]
  },
  {
   "cell_type": "code",
   "execution_count": 18,
   "id": "36d87bbc",
   "metadata": {},
   "outputs": [
    {
     "name": "stderr",
     "output_type": "stream",
     "text": [
      "/home/oscar/anaconda3/lib/python3.9/site-packages/seaborn/_decorators.py:36: FutureWarning: Pass the following variable as a keyword arg: x. From version 0.12, the only valid positional argument will be `data`, and passing other arguments without an explicit keyword will result in an error or misinterpretation.\n",
      "  warnings.warn(\n"
     ]
    },
    {
     "data": {
      "text/plain": [
       "<AxesSubplot:xlabel='CANTIDAD'>"
      ]
     },
     "execution_count": 18,
     "metadata": {},
     "output_type": "execute_result"
    },
    {
     "data": {
      "image/png": "[encoded data removed]",
      "text/plain": [
       "<Figure size 432x288 with 1 Axes>"
      ]
     },
     "metadata": {
      "needs_background": "light"
     },
     "output_type": "display_data"
    }
   ],
   "source": [
    "sns.boxplot(df.CANTIDAD)"
   ]
  },
  {
   "cell_type": "code",
   "execution_count": 19,
   "id": "2080b2de",
   "metadata": {},
   "outputs": [
    {
     "data": {
      "text/plain": [
       "1.7077635910015305"
      ]
     },
     "execution_count": 19,
     "metadata": {},
     "output_type": "execute_result"
    }
   ],
   "source": [
    "np.mean(df.CANTIDAD)\n"
   ]
  },
  {
   "cell_type": "code",
   "execution_count": 20,
   "id": "d644d752",
   "metadata": {},
   "outputs": [
    {
     "data": {
      "text/plain": [
       "130"
      ]
     },
     "execution_count": 20,
     "metadata": {},
     "output_type": "execute_result"
    }
   ],
   "source": [
    "df.CANTIDAD.max()"
   ]
  },
  {
   "cell_type": "code",
   "execution_count": 21,
   "id": "207afc8b",
   "metadata": {},
   "outputs": [
    {
     "data": {
      "text/html": [
       "<div>\n",
       "<style scoped>\n",
       "    .dataframe tbody tr th:only-of-type {\n",
       "        vertical-align: middle;\n",
       "    }\n",
       "\n",
       "    .dataframe tbody tr th {\n",
       "        vertical-align: top;\n",
       "    }\n",
       "\n",
       "    .dataframe thead th {\n",
       "        text-align: right;\n",
       "    }\n",
       "</style>\n",
       "<table border=\"1\" class=\"dataframe\">\n",
       "  <thead>\n",
       "    <tr style=\"text-align: right;\">\n",
       "      <th></th>\n",
       "      <th>DEPARTAMENTO</th>\n",
       "      <th>MUNICIPIO</th>\n",
       "      <th>CODIGO DANE</th>\n",
       "      <th>ARMAS MEDIOS</th>\n",
       "      <th>FECHA HECHO</th>\n",
       "      <th>GENERO</th>\n",
       "      <th>GRUPO ETARIO</th>\n",
       "      <th>CANTIDAD</th>\n",
       "    </tr>\n",
       "  </thead>\n",
       "  <tbody>\n",
       "    <tr>\n",
       "      <th>333317</th>\n",
       "      <td>CUNDINAMARCA</td>\n",
       "      <td>BOGOTÁ D.C. (CT)</td>\n",
       "      <td>11001000</td>\n",
       "      <td>NO REPORTADO</td>\n",
       "      <td>1/09/2019</td>\n",
       "      <td>FEMENINO</td>\n",
       "      <td>ADULTOS</td>\n",
       "      <td>130</td>\n",
       "    </tr>\n",
       "  </tbody>\n",
       "</table>\n",
       "</div>"
      ],
      "text/plain": [
       "        DEPARTAMENTO         MUNICIPIO CODIGO DANE  ARMAS MEDIOS FECHA HECHO  \\\n",
       "333317  CUNDINAMARCA  BOGOTÁ D.C. (CT)    11001000  NO REPORTADO   1/09/2019   \n",
       "\n",
       "          GENERO GRUPO ETARIO  CANTIDAD  \n",
       "333317  FEMENINO      ADULTOS       130  "
      ]
     },
     "execution_count": 21,
     "metadata": {},
     "output_type": "execute_result"
    }
   ],
   "source": [
    "dx = df.loc[(df.CANTIDAD == 130)]\n",
    "dx.head()"
   ]
  },
  {
   "cell_type": "code",
   "execution_count": 22,
   "id": "d2f6e1ad",
   "metadata": {},
   "outputs": [
    {
     "data": {
      "text/html": [
       "<div>\n",
       "<style scoped>\n",
       "    .dataframe tbody tr th:only-of-type {\n",
       "        vertical-align: middle;\n",
       "    }\n",
       "\n",
       "    .dataframe tbody tr th {\n",
       "        vertical-align: top;\n",
       "    }\n",
       "\n",
       "    .dataframe thead th {\n",
       "        text-align: right;\n",
       "    }\n",
       "</style>\n",
       "<table border=\"1\" class=\"dataframe\">\n",
       "  <thead>\n",
       "    <tr style=\"text-align: right;\">\n",
       "      <th></th>\n",
       "      <th>DEPARTAMENTO</th>\n",
       "      <th>MUNICIPIO</th>\n",
       "      <th>CODIGO DANE</th>\n",
       "      <th>ARMAS MEDIOS</th>\n",
       "      <th>FECHA HECHO</th>\n",
       "      <th>GENERO</th>\n",
       "      <th>GRUPO ETARIO</th>\n",
       "      <th>CANTIDAD</th>\n",
       "    </tr>\n",
       "  </thead>\n",
       "  <tbody>\n",
       "    <tr>\n",
       "      <th>39</th>\n",
       "      <td>CUNDINAMARCA</td>\n",
       "      <td>BOGOTÁ D.C. (CT)</td>\n",
       "      <td>11001000</td>\n",
       "      <td>CONTUNDENTES</td>\n",
       "      <td>1/01/2010</td>\n",
       "      <td>FEMENINO</td>\n",
       "      <td>ADULTOS</td>\n",
       "      <td>22</td>\n",
       "    </tr>\n",
       "    <tr>\n",
       "      <th>94</th>\n",
       "      <td>VALLE</td>\n",
       "      <td>CALI (CT)</td>\n",
       "      <td>76001000</td>\n",
       "      <td>CONTUNDENTES</td>\n",
       "      <td>1/01/2010</td>\n",
       "      <td>FEMENINO</td>\n",
       "      <td>ADULTOS</td>\n",
       "      <td>27</td>\n",
       "    </tr>\n",
       "    <tr>\n",
       "      <th>6022</th>\n",
       "      <td>CUNDINAMARCA</td>\n",
       "      <td>BOGOTÁ D.C. (CT)</td>\n",
       "      <td>11001000</td>\n",
       "      <td>CONTUNDENTES</td>\n",
       "      <td>9/05/2010</td>\n",
       "      <td>FEMENINO</td>\n",
       "      <td>ADULTOS</td>\n",
       "      <td>21</td>\n",
       "    </tr>\n",
       "    <tr>\n",
       "      <th>6362</th>\n",
       "      <td>CUNDINAMARCA</td>\n",
       "      <td>BOGOTÁ D.C. (CT)</td>\n",
       "      <td>11001000</td>\n",
       "      <td>CONTUNDENTES</td>\n",
       "      <td>16/05/2010</td>\n",
       "      <td>FEMENINO</td>\n",
       "      <td>ADULTOS</td>\n",
       "      <td>22</td>\n",
       "    </tr>\n",
       "    <tr>\n",
       "      <th>6696</th>\n",
       "      <td>CUNDINAMARCA</td>\n",
       "      <td>BOGOTÁ D.C. (CT)</td>\n",
       "      <td>11001000</td>\n",
       "      <td>CONTUNDENTES</td>\n",
       "      <td>23/05/2010</td>\n",
       "      <td>FEMENINO</td>\n",
       "      <td>ADULTOS</td>\n",
       "      <td>22</td>\n",
       "    </tr>\n",
       "  </tbody>\n",
       "</table>\n",
       "</div>"
      ],
      "text/plain": [
       "      DEPARTAMENTO         MUNICIPIO CODIGO DANE  ARMAS MEDIOS FECHA HECHO  \\\n",
       "39    CUNDINAMARCA  BOGOTÁ D.C. (CT)    11001000  CONTUNDENTES   1/01/2010   \n",
       "94           VALLE         CALI (CT)    76001000  CONTUNDENTES   1/01/2010   \n",
       "6022  CUNDINAMARCA  BOGOTÁ D.C. (CT)    11001000  CONTUNDENTES   9/05/2010   \n",
       "6362  CUNDINAMARCA  BOGOTÁ D.C. (CT)    11001000  CONTUNDENTES  16/05/2010   \n",
       "6696  CUNDINAMARCA  BOGOTÁ D.C. (CT)    11001000  CONTUNDENTES  23/05/2010   \n",
       "\n",
       "        GENERO GRUPO ETARIO  CANTIDAD  \n",
       "39    FEMENINO      ADULTOS        22  \n",
       "94    FEMENINO      ADULTOS        27  \n",
       "6022  FEMENINO      ADULTOS        21  \n",
       "6362  FEMENINO      ADULTOS        22  \n",
       "6696  FEMENINO      ADULTOS        22  "
      ]
     },
     "execution_count": 22,
     "metadata": {},
     "output_type": "execute_result"
    }
   ],
   "source": [
    "dx = df.loc[(df.CANTIDAD > 20)]\n",
    "dx.head()\n"
   ]
  },
  {
   "cell_type": "code",
   "execution_count": 47,
   "id": "c69936f0",
   "metadata": {},
   "outputs": [
    {
     "data": {
      "text/html": [
       "<div>\n",
       "<style scoped>\n",
       "    .dataframe tbody tr th:only-of-type {\n",
       "        vertical-align: middle;\n",
       "    }\n",
       "\n",
       "    .dataframe tbody tr th {\n",
       "        vertical-align: top;\n",
       "    }\n",
       "\n",
       "    .dataframe thead th {\n",
       "        text-align: right;\n",
       "    }\n",
       "</style>\n",
       "<table border=\"1\" class=\"dataframe\">\n",
       "  <thead>\n",
       "    <tr style=\"text-align: right;\">\n",
       "      <th></th>\n",
       "      <th></th>\n",
       "      <th>DEPARTAMENTO</th>\n",
       "      <th>MUNICIPIO</th>\n",
       "      <th>CODIGO DANE</th>\n",
       "      <th>ARMAS MEDIOS</th>\n",
       "      <th>GRUPO ETARIO</th>\n",
       "      <th>CANTIDAD</th>\n",
       "    </tr>\n",
       "    <tr>\n",
       "      <th>FECHA HECHO</th>\n",
       "      <th>GENERO</th>\n",
       "      <th></th>\n",
       "      <th></th>\n",
       "      <th></th>\n",
       "      <th></th>\n",
       "      <th></th>\n",
       "      <th></th>\n",
       "    </tr>\n",
       "  </thead>\n",
       "  <tbody>\n",
       "    <tr>\n",
       "      <th rowspan=\"2\" valign=\"top\">1/01/2010</th>\n",
       "      <th>FEMENINO</th>\n",
       "      <td>95</td>\n",
       "      <td>95</td>\n",
       "      <td>95</td>\n",
       "      <td>95</td>\n",
       "      <td>95</td>\n",
       "      <td>95</td>\n",
       "    </tr>\n",
       "    <tr>\n",
       "      <th>MASCULINO</th>\n",
       "      <td>28</td>\n",
       "      <td>28</td>\n",
       "      <td>28</td>\n",
       "      <td>28</td>\n",
       "      <td>28</td>\n",
       "      <td>28</td>\n",
       "    </tr>\n",
       "    <tr>\n",
       "      <th rowspan=\"2\" valign=\"top\">1/01/2011</th>\n",
       "      <th>FEMENINO</th>\n",
       "      <td>85</td>\n",
       "      <td>85</td>\n",
       "      <td>85</td>\n",
       "      <td>85</td>\n",
       "      <td>85</td>\n",
       "      <td>85</td>\n",
       "    </tr>\n",
       "    <tr>\n",
       "      <th>MASCULINO</th>\n",
       "      <td>33</td>\n",
       "      <td>33</td>\n",
       "      <td>33</td>\n",
       "      <td>33</td>\n",
       "      <td>33</td>\n",
       "      <td>33</td>\n",
       "    </tr>\n",
       "    <tr>\n",
       "      <th>1/01/2012</th>\n",
       "      <th>FEMENINO</th>\n",
       "      <td>119</td>\n",
       "      <td>119</td>\n",
       "      <td>119</td>\n",
       "      <td>119</td>\n",
       "      <td>119</td>\n",
       "      <td>119</td>\n",
       "    </tr>\n",
       "    <tr>\n",
       "      <th>...</th>\n",
       "      <th>...</th>\n",
       "      <td>...</td>\n",
       "      <td>...</td>\n",
       "      <td>...</td>\n",
       "      <td>...</td>\n",
       "      <td>...</td>\n",
       "      <td>...</td>\n",
       "    </tr>\n",
       "    <tr>\n",
       "      <th>9/12/2018</th>\n",
       "      <th>NO REPORTA</th>\n",
       "      <td>1</td>\n",
       "      <td>1</td>\n",
       "      <td>1</td>\n",
       "      <td>1</td>\n",
       "      <td>1</td>\n",
       "      <td>1</td>\n",
       "    </tr>\n",
       "    <tr>\n",
       "      <th rowspan=\"2\" valign=\"top\">9/12/2019</th>\n",
       "      <th>FEMENINO</th>\n",
       "      <td>125</td>\n",
       "      <td>125</td>\n",
       "      <td>125</td>\n",
       "      <td>125</td>\n",
       "      <td>125</td>\n",
       "      <td>125</td>\n",
       "    </tr>\n",
       "    <tr>\n",
       "      <th>MASCULINO</th>\n",
       "      <td>45</td>\n",
       "      <td>45</td>\n",
       "      <td>45</td>\n",
       "      <td>45</td>\n",
       "      <td>45</td>\n",
       "      <td>45</td>\n",
       "    </tr>\n",
       "    <tr>\n",
       "      <th rowspan=\"2\" valign=\"top\">9/12/2020</th>\n",
       "      <th>FEMENINO</th>\n",
       "      <td>188</td>\n",
       "      <td>188</td>\n",
       "      <td>188</td>\n",
       "      <td>188</td>\n",
       "      <td>161</td>\n",
       "      <td>188</td>\n",
       "    </tr>\n",
       "    <tr>\n",
       "      <th>MASCULINO</th>\n",
       "      <td>46</td>\n",
       "      <td>46</td>\n",
       "      <td>46</td>\n",
       "      <td>46</td>\n",
       "      <td>26</td>\n",
       "      <td>46</td>\n",
       "    </tr>\n",
       "  </tbody>\n",
       "</table>\n",
       "<p>8626 rows × 6 columns</p>\n",
       "</div>"
      ],
      "text/plain": [
       "                        DEPARTAMENTO  MUNICIPIO  CODIGO DANE  ARMAS MEDIOS  \\\n",
       "FECHA HECHO GENERO                                                           \n",
       "1/01/2010   FEMENINO              95         95           95            95   \n",
       "            MASCULINO             28         28           28            28   \n",
       "1/01/2011   FEMENINO              85         85           85            85   \n",
       "            MASCULINO             33         33           33            33   \n",
       "1/01/2012   FEMENINO             119        119          119           119   \n",
       "...                              ...        ...          ...           ...   \n",
       "9/12/2018   NO REPORTA             1          1            1             1   \n",
       "9/12/2019   FEMENINO             125        125          125           125   \n",
       "            MASCULINO             45         45           45            45   \n",
       "9/12/2020   FEMENINO             188        188          188           188   \n",
       "            MASCULINO             46         46           46            46   \n",
       "\n",
       "                        GRUPO ETARIO  CANTIDAD  \n",
       "FECHA HECHO GENERO                              \n",
       "1/01/2010   FEMENINO              95        95  \n",
       "            MASCULINO             28        28  \n",
       "1/01/2011   FEMENINO              85        85  \n",
       "            MASCULINO             33        33  \n",
       "1/01/2012   FEMENINO             119       119  \n",
       "...                              ...       ...  \n",
       "9/12/2018   NO REPORTA             1         1  \n",
       "9/12/2019   FEMENINO             125       125  \n",
       "            MASCULINO             45        45  \n",
       "9/12/2020   FEMENINO             161       188  \n",
       "            MASCULINO             26        46  \n",
       "\n",
       "[8626 rows x 6 columns]"
      ]
     },
     "execution_count": 47,
     "metadata": {},
     "output_type": "execute_result"
    }
   ],
   "source": [
    "dx = df.groupby([\"FECHA HECHO\",\"GENERO\"]).count()\n",
    "dx\n"
   ]
  },
  {
   "cell_type": "code",
   "execution_count": null,
   "id": "ff77642a",
   "metadata": {},
   "outputs": [],
   "source": []
  },
  {
   "cell_type": "code",
   "execution_count": null,
   "id": "9a7d806d",
   "metadata": {},
   "outputs": [],
   "source": []
  }
 ],
 "metadata": {
  "kernelspec": {
   "display_name": "Python 3 (ipykernel)",
   "language": "python",
   "name": "python3"
  },
  "language_info": {
   "codemirror_mode": {
    "name": "ipython",
    "version": 3
   },
   "file_extension": ".py",
   "mimetype": "text/x-python",
   "name": "python",
   "nbconvert_exporter": "python",
   "pygments_lexer": "ipython3",
   "version": "3.9.7"
  }
 },
 "nbformat": 4,
 "nbformat_minor": 5
}
