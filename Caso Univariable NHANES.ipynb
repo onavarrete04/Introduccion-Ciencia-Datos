{
 "cells": [
  {
   "cell_type": "markdown",
   "id": "9d776195",
   "metadata": {},
   "source": [
    "## Estudio de Caso NHANES\n",
    "\n",
    "Realización de análisis básico con datos univariantes del estudio NHANES."
   ]
  },
  {
   "cell_type": "code",
   "execution_count": 2,
   "id": "3b7ccd01",
   "metadata": {},
   "outputs": [],
   "source": [
    "%matplotlib inline\n",
    "# Añadir los gráficos en el cuaderno, se usa dentro de los cuadernos jupyter\n",
    "import matplotlib.pyplot as plt\n",
    "import seaborn as sns\n",
    "import pandas as pd\n",
    "import numpy as np"
   ]
  },
  {
   "cell_type": "code",
   "execution_count": 3,
   "id": "ac55bdfc",
   "metadata": {},
   "outputs": [],
   "source": [
    "# Cargamos conjunto de datos, que esta descargado dentro del directorio que estamos usando\n",
    "\n",
    "data = pd.read_csv(\"nhanes_2015_2016.csv\")"
   ]
  },
  {
   "cell_type": "code",
   "execution_count": 34,
   "id": "661a99f3",
   "metadata": {},
   "outputs": [
    {
     "data": {
      "text/html": [
       "<div>\n",
       "<style scoped>\n",
       "    .dataframe tbody tr th:only-of-type {\n",
       "        vertical-align: middle;\n",
       "    }\n",
       "\n",
       "    .dataframe tbody tr th {\n",
       "        vertical-align: top;\n",
       "    }\n",
       "\n",
       "    .dataframe thead th {\n",
       "        text-align: right;\n",
       "    }\n",
       "</style>\n",
       "<table border=\"1\" class=\"dataframe\">\n",
       "  <thead>\n",
       "    <tr style=\"text-align: right;\">\n",
       "      <th></th>\n",
       "      <th>SEQN</th>\n",
       "      <th>ALQ101</th>\n",
       "      <th>ALQ110</th>\n",
       "      <th>ALQ130</th>\n",
       "      <th>SMQ020</th>\n",
       "      <th>RIAGENDR</th>\n",
       "      <th>RIDAGEYR</th>\n",
       "      <th>RIDRETH1</th>\n",
       "      <th>DMDCITZN</th>\n",
       "      <th>DMDEDUC2</th>\n",
       "      <th>...</th>\n",
       "      <th>BPXSY2</th>\n",
       "      <th>BPXDI2</th>\n",
       "      <th>BMXWT</th>\n",
       "      <th>BMXHT</th>\n",
       "      <th>BMXBMI</th>\n",
       "      <th>BMXLEG</th>\n",
       "      <th>BMXARML</th>\n",
       "      <th>BMXARMC</th>\n",
       "      <th>BMXWAIST</th>\n",
       "      <th>HIQ210</th>\n",
       "    </tr>\n",
       "  </thead>\n",
       "  <tbody>\n",
       "    <tr>\n",
       "      <th>0</th>\n",
       "      <td>83732</td>\n",
       "      <td>1.0</td>\n",
       "      <td>NaN</td>\n",
       "      <td>1.0</td>\n",
       "      <td>1</td>\n",
       "      <td>1</td>\n",
       "      <td>62</td>\n",
       "      <td>3</td>\n",
       "      <td>1.0</td>\n",
       "      <td>5.0</td>\n",
       "      <td>...</td>\n",
       "      <td>124.0</td>\n",
       "      <td>64.0</td>\n",
       "      <td>94.8</td>\n",
       "      <td>184.5</td>\n",
       "      <td>27.8</td>\n",
       "      <td>43.3</td>\n",
       "      <td>43.6</td>\n",
       "      <td>35.9</td>\n",
       "      <td>101.1</td>\n",
       "      <td>2.0</td>\n",
       "    </tr>\n",
       "    <tr>\n",
       "      <th>1</th>\n",
       "      <td>83733</td>\n",
       "      <td>1.0</td>\n",
       "      <td>NaN</td>\n",
       "      <td>6.0</td>\n",
       "      <td>1</td>\n",
       "      <td>1</td>\n",
       "      <td>53</td>\n",
       "      <td>3</td>\n",
       "      <td>2.0</td>\n",
       "      <td>3.0</td>\n",
       "      <td>...</td>\n",
       "      <td>140.0</td>\n",
       "      <td>88.0</td>\n",
       "      <td>90.4</td>\n",
       "      <td>171.4</td>\n",
       "      <td>30.8</td>\n",
       "      <td>38.0</td>\n",
       "      <td>40.0</td>\n",
       "      <td>33.2</td>\n",
       "      <td>107.9</td>\n",
       "      <td>NaN</td>\n",
       "    </tr>\n",
       "    <tr>\n",
       "      <th>2</th>\n",
       "      <td>83734</td>\n",
       "      <td>1.0</td>\n",
       "      <td>NaN</td>\n",
       "      <td>NaN</td>\n",
       "      <td>1</td>\n",
       "      <td>1</td>\n",
       "      <td>78</td>\n",
       "      <td>3</td>\n",
       "      <td>1.0</td>\n",
       "      <td>3.0</td>\n",
       "      <td>...</td>\n",
       "      <td>132.0</td>\n",
       "      <td>44.0</td>\n",
       "      <td>83.4</td>\n",
       "      <td>170.1</td>\n",
       "      <td>28.8</td>\n",
       "      <td>35.6</td>\n",
       "      <td>37.0</td>\n",
       "      <td>31.0</td>\n",
       "      <td>116.5</td>\n",
       "      <td>2.0</td>\n",
       "    </tr>\n",
       "    <tr>\n",
       "      <th>3</th>\n",
       "      <td>83735</td>\n",
       "      <td>2.0</td>\n",
       "      <td>1.0</td>\n",
       "      <td>1.0</td>\n",
       "      <td>2</td>\n",
       "      <td>2</td>\n",
       "      <td>56</td>\n",
       "      <td>3</td>\n",
       "      <td>1.0</td>\n",
       "      <td>5.0</td>\n",
       "      <td>...</td>\n",
       "      <td>134.0</td>\n",
       "      <td>68.0</td>\n",
       "      <td>109.8</td>\n",
       "      <td>160.9</td>\n",
       "      <td>42.4</td>\n",
       "      <td>38.5</td>\n",
       "      <td>37.7</td>\n",
       "      <td>38.3</td>\n",
       "      <td>110.1</td>\n",
       "      <td>2.0</td>\n",
       "    </tr>\n",
       "    <tr>\n",
       "      <th>4</th>\n",
       "      <td>83736</td>\n",
       "      <td>2.0</td>\n",
       "      <td>1.0</td>\n",
       "      <td>1.0</td>\n",
       "      <td>2</td>\n",
       "      <td>2</td>\n",
       "      <td>42</td>\n",
       "      <td>4</td>\n",
       "      <td>1.0</td>\n",
       "      <td>4.0</td>\n",
       "      <td>...</td>\n",
       "      <td>114.0</td>\n",
       "      <td>54.0</td>\n",
       "      <td>55.2</td>\n",
       "      <td>164.9</td>\n",
       "      <td>20.3</td>\n",
       "      <td>37.4</td>\n",
       "      <td>36.0</td>\n",
       "      <td>27.2</td>\n",
       "      <td>80.4</td>\n",
       "      <td>2.0</td>\n",
       "    </tr>\n",
       "  </tbody>\n",
       "</table>\n",
       "<p>5 rows × 28 columns</p>\n",
       "</div>"
      ],
      "text/plain": [
       "    SEQN  ALQ101  ALQ110  ALQ130  SMQ020  RIAGENDR  RIDAGEYR  RIDRETH1  \\\n",
       "0  83732     1.0     NaN     1.0       1         1        62         3   \n",
       "1  83733     1.0     NaN     6.0       1         1        53         3   \n",
       "2  83734     1.0     NaN     NaN       1         1        78         3   \n",
       "3  83735     2.0     1.0     1.0       2         2        56         3   \n",
       "4  83736     2.0     1.0     1.0       2         2        42         4   \n",
       "\n",
       "   DMDCITZN  DMDEDUC2  ...  BPXSY2  BPXDI2  BMXWT  BMXHT  BMXBMI  BMXLEG  \\\n",
       "0       1.0       5.0  ...   124.0    64.0   94.8  184.5    27.8    43.3   \n",
       "1       2.0       3.0  ...   140.0    88.0   90.4  171.4    30.8    38.0   \n",
       "2       1.0       3.0  ...   132.0    44.0   83.4  170.1    28.8    35.6   \n",
       "3       1.0       5.0  ...   134.0    68.0  109.8  160.9    42.4    38.5   \n",
       "4       1.0       4.0  ...   114.0    54.0   55.2  164.9    20.3    37.4   \n",
       "\n",
       "   BMXARML  BMXARMC  BMXWAIST  HIQ210  \n",
       "0     43.6     35.9     101.1     2.0  \n",
       "1     40.0     33.2     107.9     NaN  \n",
       "2     37.0     31.0     116.5     2.0  \n",
       "3     37.7     38.3     110.1     2.0  \n",
       "4     36.0     27.2      80.4     2.0  \n",
       "\n",
       "[5 rows x 28 columns]"
      ]
     },
     "execution_count": 34,
     "metadata": {},
     "output_type": "execute_result"
    }
   ],
   "source": [
    "# Vamos a hacernos una idea inicial de los datos\n",
    "\n",
    "data.head()"
   ]
  },
  {
   "cell_type": "code",
   "execution_count": 15,
   "id": "83df4094",
   "metadata": {
    "scrolled": true
   },
   "outputs": [
    {
     "data": {
      "text/html": [
       "<div>\n",
       "<style scoped>\n",
       "    .dataframe tbody tr th:only-of-type {\n",
       "        vertical-align: middle;\n",
       "    }\n",
       "\n",
       "    .dataframe tbody tr th {\n",
       "        vertical-align: top;\n",
       "    }\n",
       "\n",
       "    .dataframe thead th {\n",
       "        text-align: right;\n",
       "    }\n",
       "</style>\n",
       "<table border=\"1\" class=\"dataframe\">\n",
       "  <thead>\n",
       "    <tr style=\"text-align: right;\">\n",
       "      <th></th>\n",
       "      <th>SEQN</th>\n",
       "      <th>ALQ101</th>\n",
       "      <th>ALQ110</th>\n",
       "      <th>ALQ130</th>\n",
       "      <th>SMQ020</th>\n",
       "      <th>RIAGENDR</th>\n",
       "      <th>RIDAGEYR</th>\n",
       "      <th>RIDRETH1</th>\n",
       "      <th>DMDCITZN</th>\n",
       "      <th>DMDEDUC2</th>\n",
       "      <th>...</th>\n",
       "      <th>BPXSY2</th>\n",
       "      <th>BPXDI2</th>\n",
       "      <th>BMXWT</th>\n",
       "      <th>BMXHT</th>\n",
       "      <th>BMXBMI</th>\n",
       "      <th>BMXLEG</th>\n",
       "      <th>BMXARML</th>\n",
       "      <th>BMXARMC</th>\n",
       "      <th>BMXWAIST</th>\n",
       "      <th>HIQ210</th>\n",
       "    </tr>\n",
       "  </thead>\n",
       "  <tbody>\n",
       "    <tr>\n",
       "      <th>count</th>\n",
       "      <td>5735.000000</td>\n",
       "      <td>5208.000000</td>\n",
       "      <td>1731.000000</td>\n",
       "      <td>3379.000000</td>\n",
       "      <td>5735.000000</td>\n",
       "      <td>5735.000000</td>\n",
       "      <td>5735.000000</td>\n",
       "      <td>5735.000000</td>\n",
       "      <td>5734.000000</td>\n",
       "      <td>5474.000000</td>\n",
       "      <td>...</td>\n",
       "      <td>5535.000000</td>\n",
       "      <td>5535.000000</td>\n",
       "      <td>5666.000000</td>\n",
       "      <td>5673.000000</td>\n",
       "      <td>5662.000000</td>\n",
       "      <td>5345.000000</td>\n",
       "      <td>5427.000000</td>\n",
       "      <td>5427.000000</td>\n",
       "      <td>5368.000000</td>\n",
       "      <td>4732.000000</td>\n",
       "    </tr>\n",
       "    <tr>\n",
       "      <th>mean</th>\n",
       "      <td>88678.583435</td>\n",
       "      <td>1.336406</td>\n",
       "      <td>1.587522</td>\n",
       "      <td>3.911512</td>\n",
       "      <td>1.607149</td>\n",
       "      <td>1.518919</td>\n",
       "      <td>48.052310</td>\n",
       "      <td>3.042371</td>\n",
       "      <td>1.185385</td>\n",
       "      <td>3.441725</td>\n",
       "      <td>...</td>\n",
       "      <td>124.783017</td>\n",
       "      <td>69.346703</td>\n",
       "      <td>81.342676</td>\n",
       "      <td>166.142834</td>\n",
       "      <td>29.382197</td>\n",
       "      <td>38.576782</td>\n",
       "      <td>37.146987</td>\n",
       "      <td>33.112235</td>\n",
       "      <td>99.567213</td>\n",
       "      <td>1.915469</td>\n",
       "    </tr>\n",
       "    <tr>\n",
       "      <th>std</th>\n",
       "      <td>2882.139237</td>\n",
       "      <td>0.505514</td>\n",
       "      <td>0.623940</td>\n",
       "      <td>34.341839</td>\n",
       "      <td>0.571975</td>\n",
       "      <td>0.499686</td>\n",
       "      <td>18.431011</td>\n",
       "      <td>1.296793</td>\n",
       "      <td>0.491678</td>\n",
       "      <td>1.309700</td>\n",
       "      <td>...</td>\n",
       "      <td>18.527012</td>\n",
       "      <td>13.022829</td>\n",
       "      <td>21.764409</td>\n",
       "      <td>10.079264</td>\n",
       "      <td>7.095921</td>\n",
       "      <td>3.873018</td>\n",
       "      <td>2.800784</td>\n",
       "      <td>5.268027</td>\n",
       "      <td>16.844109</td>\n",
       "      <td>0.414845</td>\n",
       "    </tr>\n",
       "    <tr>\n",
       "      <th>min</th>\n",
       "      <td>83732.000000</td>\n",
       "      <td>1.000000</td>\n",
       "      <td>1.000000</td>\n",
       "      <td>1.000000</td>\n",
       "      <td>1.000000</td>\n",
       "      <td>1.000000</td>\n",
       "      <td>18.000000</td>\n",
       "      <td>1.000000</td>\n",
       "      <td>1.000000</td>\n",
       "      <td>1.000000</td>\n",
       "      <td>...</td>\n",
       "      <td>84.000000</td>\n",
       "      <td>0.000000</td>\n",
       "      <td>32.400000</td>\n",
       "      <td>129.700000</td>\n",
       "      <td>14.500000</td>\n",
       "      <td>26.000000</td>\n",
       "      <td>28.200000</td>\n",
       "      <td>17.100000</td>\n",
       "      <td>58.700000</td>\n",
       "      <td>1.000000</td>\n",
       "    </tr>\n",
       "    <tr>\n",
       "      <th>25%</th>\n",
       "      <td>86164.000000</td>\n",
       "      <td>1.000000</td>\n",
       "      <td>1.000000</td>\n",
       "      <td>1.000000</td>\n",
       "      <td>1.000000</td>\n",
       "      <td>1.000000</td>\n",
       "      <td>32.000000</td>\n",
       "      <td>2.000000</td>\n",
       "      <td>1.000000</td>\n",
       "      <td>3.000000</td>\n",
       "      <td>...</td>\n",
       "      <td>112.000000</td>\n",
       "      <td>62.000000</td>\n",
       "      <td>65.900000</td>\n",
       "      <td>158.700000</td>\n",
       "      <td>24.300000</td>\n",
       "      <td>36.000000</td>\n",
       "      <td>35.200000</td>\n",
       "      <td>29.500000</td>\n",
       "      <td>87.600000</td>\n",
       "      <td>2.000000</td>\n",
       "    </tr>\n",
       "    <tr>\n",
       "      <th>50%</th>\n",
       "      <td>88668.000000</td>\n",
       "      <td>1.000000</td>\n",
       "      <td>2.000000</td>\n",
       "      <td>2.000000</td>\n",
       "      <td>2.000000</td>\n",
       "      <td>2.000000</td>\n",
       "      <td>48.000000</td>\n",
       "      <td>3.000000</td>\n",
       "      <td>1.000000</td>\n",
       "      <td>4.000000</td>\n",
       "      <td>...</td>\n",
       "      <td>122.000000</td>\n",
       "      <td>70.000000</td>\n",
       "      <td>78.200000</td>\n",
       "      <td>166.000000</td>\n",
       "      <td>28.300000</td>\n",
       "      <td>38.600000</td>\n",
       "      <td>37.100000</td>\n",
       "      <td>32.700000</td>\n",
       "      <td>98.300000</td>\n",
       "      <td>2.000000</td>\n",
       "    </tr>\n",
       "    <tr>\n",
       "      <th>75%</th>\n",
       "      <td>91178.500000</td>\n",
       "      <td>2.000000</td>\n",
       "      <td>2.000000</td>\n",
       "      <td>3.000000</td>\n",
       "      <td>2.000000</td>\n",
       "      <td>2.000000</td>\n",
       "      <td>63.000000</td>\n",
       "      <td>4.000000</td>\n",
       "      <td>1.000000</td>\n",
       "      <td>4.750000</td>\n",
       "      <td>...</td>\n",
       "      <td>134.000000</td>\n",
       "      <td>78.000000</td>\n",
       "      <td>92.700000</td>\n",
       "      <td>173.500000</td>\n",
       "      <td>33.000000</td>\n",
       "      <td>41.200000</td>\n",
       "      <td>39.000000</td>\n",
       "      <td>36.200000</td>\n",
       "      <td>109.300000</td>\n",
       "      <td>2.000000</td>\n",
       "    </tr>\n",
       "    <tr>\n",
       "      <th>max</th>\n",
       "      <td>93702.000000</td>\n",
       "      <td>9.000000</td>\n",
       "      <td>9.000000</td>\n",
       "      <td>999.000000</td>\n",
       "      <td>9.000000</td>\n",
       "      <td>2.000000</td>\n",
       "      <td>80.000000</td>\n",
       "      <td>5.000000</td>\n",
       "      <td>9.000000</td>\n",
       "      <td>9.000000</td>\n",
       "      <td>...</td>\n",
       "      <td>238.000000</td>\n",
       "      <td>144.000000</td>\n",
       "      <td>198.900000</td>\n",
       "      <td>202.700000</td>\n",
       "      <td>67.300000</td>\n",
       "      <td>51.500000</td>\n",
       "      <td>47.400000</td>\n",
       "      <td>58.400000</td>\n",
       "      <td>171.600000</td>\n",
       "      <td>9.000000</td>\n",
       "    </tr>\n",
       "  </tbody>\n",
       "</table>\n",
       "<p>8 rows × 28 columns</p>\n",
       "</div>"
      ],
      "text/plain": [
       "               SEQN       ALQ101       ALQ110       ALQ130       SMQ020  \\\n",
       "count   5735.000000  5208.000000  1731.000000  3379.000000  5735.000000   \n",
       "mean   88678.583435     1.336406     1.587522     3.911512     1.607149   \n",
       "std     2882.139237     0.505514     0.623940    34.341839     0.571975   \n",
       "min    83732.000000     1.000000     1.000000     1.000000     1.000000   \n",
       "25%    86164.000000     1.000000     1.000000     1.000000     1.000000   \n",
       "50%    88668.000000     1.000000     2.000000     2.000000     2.000000   \n",
       "75%    91178.500000     2.000000     2.000000     3.000000     2.000000   \n",
       "max    93702.000000     9.000000     9.000000   999.000000     9.000000   \n",
       "\n",
       "          RIAGENDR     RIDAGEYR     RIDRETH1     DMDCITZN     DMDEDUC2  ...  \\\n",
       "count  5735.000000  5735.000000  5735.000000  5734.000000  5474.000000  ...   \n",
       "mean      1.518919    48.052310     3.042371     1.185385     3.441725  ...   \n",
       "std       0.499686    18.431011     1.296793     0.491678     1.309700  ...   \n",
       "min       1.000000    18.000000     1.000000     1.000000     1.000000  ...   \n",
       "25%       1.000000    32.000000     2.000000     1.000000     3.000000  ...   \n",
       "50%       2.000000    48.000000     3.000000     1.000000     4.000000  ...   \n",
       "75%       2.000000    63.000000     4.000000     1.000000     4.750000  ...   \n",
       "max       2.000000    80.000000     5.000000     9.000000     9.000000  ...   \n",
       "\n",
       "            BPXSY2       BPXDI2        BMXWT        BMXHT       BMXBMI  \\\n",
       "count  5535.000000  5535.000000  5666.000000  5673.000000  5662.000000   \n",
       "mean    124.783017    69.346703    81.342676   166.142834    29.382197   \n",
       "std      18.527012    13.022829    21.764409    10.079264     7.095921   \n",
       "min      84.000000     0.000000    32.400000   129.700000    14.500000   \n",
       "25%     112.000000    62.000000    65.900000   158.700000    24.300000   \n",
       "50%     122.000000    70.000000    78.200000   166.000000    28.300000   \n",
       "75%     134.000000    78.000000    92.700000   173.500000    33.000000   \n",
       "max     238.000000   144.000000   198.900000   202.700000    67.300000   \n",
       "\n",
       "            BMXLEG      BMXARML      BMXARMC     BMXWAIST       HIQ210  \n",
       "count  5345.000000  5427.000000  5427.000000  5368.000000  4732.000000  \n",
       "mean     38.576782    37.146987    33.112235    99.567213     1.915469  \n",
       "std       3.873018     2.800784     5.268027    16.844109     0.414845  \n",
       "min      26.000000    28.200000    17.100000    58.700000     1.000000  \n",
       "25%      36.000000    35.200000    29.500000    87.600000     2.000000  \n",
       "50%      38.600000    37.100000    32.700000    98.300000     2.000000  \n",
       "75%      41.200000    39.000000    36.200000   109.300000     2.000000  \n",
       "max      51.500000    47.400000    58.400000   171.600000     9.000000  \n",
       "\n",
       "[8 rows x 28 columns]"
      ]
     },
     "execution_count": 15,
     "metadata": {},
     "output_type": "execute_result"
    }
   ],
   "source": [
    "data.describe()"
   ]
  },
  {
   "cell_type": "markdown",
   "id": "4760e5ca",
   "metadata": {},
   "source": [
    "## Tabla de Frecuencias\n",
    "\n",
    "La distribución de frecuencias o tabla de frecuencias es el número de veces (número) de una variable en un conjunto de datos, podríamos decir que es la repetitividad de esa variable en el conjunto de datos, en python podemos utilizar el metodo **value_counts** para determinarlo. "
   ]
  },
  {
   "cell_type": "code",
   "execution_count": 14,
   "id": "efbdd999",
   "metadata": {
    "scrolled": true
   },
   "outputs": [
    {
     "data": {
      "text/plain": [
       "4.0    1621\n",
       "5.0    1366\n",
       "3.0    1186\n",
       "1.0     655\n",
       "2.0     643\n",
       "9.0       3\n",
       "Name: DMDEDUC2, dtype: int64"
      ]
     },
     "execution_count": 14,
     "metadata": {},
     "output_type": "execute_result"
    }
   ],
   "source": [
    "# Veremos value_counts de la variable DMDEDUC2.\n",
    "# Variable que refleja el nivel de estudio de un individuo\n",
    "\n",
    "data.DMDEDUC2.value_counts()"
   ]
  },
  {
   "cell_type": "markdown",
   "id": "59dfc50f",
   "metadata": {},
   "source": [
    "Los números (1.0,2.0,3.0,4.0,5.0,9.0) que aparecen en la parte de arriba, y que se encuentran desordenados iniciando por el 4.0, 5.0 son seis códigos enteros para guardar valores no ausentes de las variables DMDEDUC2.\n",
    "\n",
    "Ejemplo:\n",
    "\n",
    "+ 4.0 = Estudios universitarios sin graduación\n",
    "+ 5.0 = Universitario graduado o superior"
   ]
  },
  {
   "cell_type": "markdown",
   "id": "b251dfb4",
   "metadata": {},
   "source": [
    "En los valores vistos y devueltos por **value_counts** observamos que al final de la sumatoria de los mismos se arrojan 5474 datos (excluye valores perdidos), sin embargo, dentro de las filas del conjunto datos se observan 5735 datos, si hacemos la operación matematica de esta variable (5735-5474 = 261 valores) vemos que hay datos perdidos en esta variable, y que esto mismo podría pasar en otras, con mayores o menores proporciones."
   ]
  },
  {
   "cell_type": "code",
   "execution_count": 20,
   "id": "5dd4544b",
   "metadata": {},
   "outputs": [
    {
     "name": "stdout",
     "output_type": "stream",
     "text": [
      "5474\n",
      "5474\n",
      "(5735, 28)\n"
     ]
    }
   ],
   "source": [
    "print(data.DMDEDUC2.value_counts().sum()) \n",
    "print(1621+1366+1186+655+643+3)\n",
    "print(data.shape) #Devuelve tupla con el tamaño del array"
   ]
  },
  {
   "cell_type": "code",
   "execution_count": 24,
   "id": "2d201d37",
   "metadata": {},
   "outputs": [
    {
     "data": {
      "text/plain": [
       "261"
      ]
     },
     "execution_count": 24,
     "metadata": {},
     "output_type": "execute_result"
    }
   ],
   "source": [
    "# conocer los valores persidos o nulos dentro del\n",
    "# conjunto de datos / array\n",
    "\n",
    "pd.isnull(data.DMDEDUC2).sum()"
   ]
  },
  {
   "cell_type": "markdown",
   "id": "75f28eea",
   "metadata": {},
   "source": [
    "Podemos remplazar los códigos enteros por etiquetas que reflejen el significado de esos códigos. Haremos eso con la variable DMDEDUC2 "
   ]
  },
  {
   "cell_type": "code",
   "execution_count": 33,
   "id": "ed3feed4",
   "metadata": {},
   "outputs": [
    {
     "data": {
      "text/plain": [
       "4.0    1621\n",
       "5.0    1366\n",
       "3.0    1186\n",
       "1.0     655\n",
       "2.0     643\n",
       "9.0       3\n",
       "Name: DMDEDUC2, dtype: int64"
      ]
     },
     "execution_count": 33,
     "metadata": {},
     "output_type": "execute_result"
    }
   ],
   "source": [
    "# Estamos creando una columna DMDEDUC2X para tener otros datos casi iguales\n",
    "# Es importante hacer eso para no comprometer los datos reales\n",
    "data[\"DMDEDUC2x\"] = data.DMDEDUC2.replace({1:\"<9\",2:\"9-11\",3:\"Bachiller\",\n",
    "                                          4:\"Universitario No Graduado\",\n",
    "                                          5:\"Universitario o Superior Graduado\",\n",
    "                                          7:\"Rechaza\", 9:\"No sabe\"\n",
    "                                         }) # Toca saber como se componen los elementos del array\n",
    "data.DMDEDUC2.value_counts()"
   ]
  },
  {
   "cell_type": "code",
   "execution_count": 37,
   "id": "2f1d340a",
   "metadata": {},
   "outputs": [
    {
     "data": {
      "text/html": [
       "<div>\n",
       "<style scoped>\n",
       "    .dataframe tbody tr th:only-of-type {\n",
       "        vertical-align: middle;\n",
       "    }\n",
       "\n",
       "    .dataframe tbody tr th {\n",
       "        vertical-align: top;\n",
       "    }\n",
       "\n",
       "    .dataframe thead th {\n",
       "        text-align: right;\n",
       "    }\n",
       "</style>\n",
       "<table border=\"1\" class=\"dataframe\">\n",
       "  <thead>\n",
       "    <tr style=\"text-align: right;\">\n",
       "      <th></th>\n",
       "      <th>SEQN</th>\n",
       "      <th>ALQ101</th>\n",
       "      <th>ALQ110</th>\n",
       "      <th>ALQ130</th>\n",
       "      <th>SMQ020</th>\n",
       "      <th>RIAGENDR</th>\n",
       "      <th>RIDAGEYR</th>\n",
       "      <th>RIDRETH1</th>\n",
       "      <th>DMDCITZN</th>\n",
       "      <th>DMDEDUC2</th>\n",
       "      <th>...</th>\n",
       "      <th>BPXDI2</th>\n",
       "      <th>BMXWT</th>\n",
       "      <th>BMXHT</th>\n",
       "      <th>BMXBMI</th>\n",
       "      <th>BMXLEG</th>\n",
       "      <th>BMXARML</th>\n",
       "      <th>BMXARMC</th>\n",
       "      <th>BMXWAIST</th>\n",
       "      <th>HIQ210</th>\n",
       "      <th>DMDEDUC2x</th>\n",
       "    </tr>\n",
       "  </thead>\n",
       "  <tbody>\n",
       "    <tr>\n",
       "      <th>0</th>\n",
       "      <td>83732</td>\n",
       "      <td>1.0</td>\n",
       "      <td>NaN</td>\n",
       "      <td>1.0</td>\n",
       "      <td>1</td>\n",
       "      <td>1</td>\n",
       "      <td>62</td>\n",
       "      <td>3</td>\n",
       "      <td>1.0</td>\n",
       "      <td>5.0</td>\n",
       "      <td>...</td>\n",
       "      <td>64.0</td>\n",
       "      <td>94.8</td>\n",
       "      <td>184.5</td>\n",
       "      <td>27.8</td>\n",
       "      <td>43.3</td>\n",
       "      <td>43.6</td>\n",
       "      <td>35.9</td>\n",
       "      <td>101.1</td>\n",
       "      <td>2.0</td>\n",
       "      <td>Universitario o Superior Graduado</td>\n",
       "    </tr>\n",
       "    <tr>\n",
       "      <th>1</th>\n",
       "      <td>83733</td>\n",
       "      <td>1.0</td>\n",
       "      <td>NaN</td>\n",
       "      <td>6.0</td>\n",
       "      <td>1</td>\n",
       "      <td>1</td>\n",
       "      <td>53</td>\n",
       "      <td>3</td>\n",
       "      <td>2.0</td>\n",
       "      <td>3.0</td>\n",
       "      <td>...</td>\n",
       "      <td>88.0</td>\n",
       "      <td>90.4</td>\n",
       "      <td>171.4</td>\n",
       "      <td>30.8</td>\n",
       "      <td>38.0</td>\n",
       "      <td>40.0</td>\n",
       "      <td>33.2</td>\n",
       "      <td>107.9</td>\n",
       "      <td>NaN</td>\n",
       "      <td>Bachiller</td>\n",
       "    </tr>\n",
       "    <tr>\n",
       "      <th>2</th>\n",
       "      <td>83734</td>\n",
       "      <td>1.0</td>\n",
       "      <td>NaN</td>\n",
       "      <td>NaN</td>\n",
       "      <td>1</td>\n",
       "      <td>1</td>\n",
       "      <td>78</td>\n",
       "      <td>3</td>\n",
       "      <td>1.0</td>\n",
       "      <td>3.0</td>\n",
       "      <td>...</td>\n",
       "      <td>44.0</td>\n",
       "      <td>83.4</td>\n",
       "      <td>170.1</td>\n",
       "      <td>28.8</td>\n",
       "      <td>35.6</td>\n",
       "      <td>37.0</td>\n",
       "      <td>31.0</td>\n",
       "      <td>116.5</td>\n",
       "      <td>2.0</td>\n",
       "      <td>Bachiller</td>\n",
       "    </tr>\n",
       "    <tr>\n",
       "      <th>3</th>\n",
       "      <td>83735</td>\n",
       "      <td>2.0</td>\n",
       "      <td>1.0</td>\n",
       "      <td>1.0</td>\n",
       "      <td>2</td>\n",
       "      <td>2</td>\n",
       "      <td>56</td>\n",
       "      <td>3</td>\n",
       "      <td>1.0</td>\n",
       "      <td>5.0</td>\n",
       "      <td>...</td>\n",
       "      <td>68.0</td>\n",
       "      <td>109.8</td>\n",
       "      <td>160.9</td>\n",
       "      <td>42.4</td>\n",
       "      <td>38.5</td>\n",
       "      <td>37.7</td>\n",
       "      <td>38.3</td>\n",
       "      <td>110.1</td>\n",
       "      <td>2.0</td>\n",
       "      <td>Universitario o Superior Graduado</td>\n",
       "    </tr>\n",
       "    <tr>\n",
       "      <th>4</th>\n",
       "      <td>83736</td>\n",
       "      <td>2.0</td>\n",
       "      <td>1.0</td>\n",
       "      <td>1.0</td>\n",
       "      <td>2</td>\n",
       "      <td>2</td>\n",
       "      <td>42</td>\n",
       "      <td>4</td>\n",
       "      <td>1.0</td>\n",
       "      <td>4.0</td>\n",
       "      <td>...</td>\n",
       "      <td>54.0</td>\n",
       "      <td>55.2</td>\n",
       "      <td>164.9</td>\n",
       "      <td>20.3</td>\n",
       "      <td>37.4</td>\n",
       "      <td>36.0</td>\n",
       "      <td>27.2</td>\n",
       "      <td>80.4</td>\n",
       "      <td>2.0</td>\n",
       "      <td>Universitario No Graduado</td>\n",
       "    </tr>\n",
       "  </tbody>\n",
       "</table>\n",
       "<p>5 rows × 29 columns</p>\n",
       "</div>"
      ],
      "text/plain": [
       "    SEQN  ALQ101  ALQ110  ALQ130  SMQ020  RIAGENDR  RIDAGEYR  RIDRETH1  \\\n",
       "0  83732     1.0     NaN     1.0       1         1        62         3   \n",
       "1  83733     1.0     NaN     6.0       1         1        53         3   \n",
       "2  83734     1.0     NaN     NaN       1         1        78         3   \n",
       "3  83735     2.0     1.0     1.0       2         2        56         3   \n",
       "4  83736     2.0     1.0     1.0       2         2        42         4   \n",
       "\n",
       "   DMDCITZN  DMDEDUC2  ...  BPXDI2  BMXWT  BMXHT  BMXBMI  BMXLEG  BMXARML  \\\n",
       "0       1.0       5.0  ...    64.0   94.8  184.5    27.8    43.3     43.6   \n",
       "1       2.0       3.0  ...    88.0   90.4  171.4    30.8    38.0     40.0   \n",
       "2       1.0       3.0  ...    44.0   83.4  170.1    28.8    35.6     37.0   \n",
       "3       1.0       5.0  ...    68.0  109.8  160.9    42.4    38.5     37.7   \n",
       "4       1.0       4.0  ...    54.0   55.2  164.9    20.3    37.4     36.0   \n",
       "\n",
       "   BMXARMC  BMXWAIST  HIQ210                          DMDEDUC2x  \n",
       "0     35.9     101.1     2.0  Universitario o Superior Graduado  \n",
       "1     33.2     107.9     NaN                          Bachiller  \n",
       "2     31.0     116.5     2.0                          Bachiller  \n",
       "3     38.3     110.1     2.0  Universitario o Superior Graduado  \n",
       "4     27.2      80.4     2.0          Universitario No Graduado  \n",
       "\n",
       "[5 rows x 29 columns]"
      ]
     },
     "execution_count": 37,
     "metadata": {},
     "output_type": "execute_result"
    }
   ],
   "source": [
    "data.head()"
   ]
  },
  {
   "cell_type": "code",
   "execution_count": 29,
   "id": "9410925b",
   "metadata": {},
   "outputs": [],
   "source": [
    "data[\"RIAGENDRx\"] = data.RIAGENDR.replace({\n",
    "    1:\"Masculino\",\n",
    "    2:\"Femenino\"\n",
    "})\n",
    "\n",
    "# Básicamente, estamos creando una nueva llave \n",
    "# en el diccionario, y le estamos indicando que \n",
    "# tiene los mismos valores de una llave ya\n",
    "# creada, pero modificamos las subllaves"
   ]
  },
  {
   "cell_type": "code",
   "execution_count": 34,
   "id": "ab25d7da",
   "metadata": {},
   "outputs": [
    {
     "name": "stdout",
     "output_type": "stream",
     "text": [
      "Universitario No Graduado            1621\n",
      "Universitario o Superior Graduado    1366\n",
      "Bachiller                            1186\n",
      "<9                                    655\n",
      "9-11                                  643\n",
      "No sabe                                 3\n",
      "Name: DMDEDUC2x, dtype: int64\n"
     ]
    },
    {
     "data": {
      "text/plain": [
       "5474"
      ]
     },
     "execution_count": 34,
     "metadata": {},
     "output_type": "execute_result"
    }
   ],
   "source": [
    "print(data.DMDEDUC2x.value_counts())\n",
    "\n",
    "data.DMDEDUC2x.value_counts().sum()\n",
    "\n",
    "# podemos hacer una variable temporal\n",
    "# Para imprimir la variable con esos datos"
   ]
  },
  {
   "cell_type": "markdown",
   "id": "f18a11a8",
   "metadata": {},
   "source": [
    "En ocasiones queremos representar la totalidad de los datos, incluyendo los valores perdidos, por tal razón podemos crear una categoria para estos valores, en este caso, el conjunto de datos es un diccionario y podremos hacerlo facilmente."
   ]
  },
  {
   "cell_type": "code",
   "execution_count": 47,
   "id": "c52f2984",
   "metadata": {},
   "outputs": [
    {
     "data": {
      "text/plain": [
       "Universitario No Graduado            0.282650\n",
       "Universitario o Superior Graduado    0.238187\n",
       "Bachiller                            0.206800\n",
       "<9                                   0.114211\n",
       "9-11                                 0.112119\n",
       "Valor Perdido                        0.045510\n",
       "No sabe                              0.000523\n",
       "Name: DMDEDUC2x, dtype: float64"
      ]
     },
     "execution_count": 47,
     "metadata": {},
     "output_type": "execute_result"
    }
   ],
   "source": [
    "# fillna -> reconoce los valores nulos\n",
    "data[\"DMDEDUC2x\"]= data.DMDEDUC2x.fillna(\"Valor Perdido\")\n",
    "\n",
    "variable_temporal = data.DMDEDUC2x.value_counts()\n",
    "variable_temporal/variable_temporal.sum() # -> Frecuencia relativa\n"
   ]
  },
  {
   "cell_type": "markdown",
   "id": "7cf5e1d7",
   "metadata": {},
   "source": [
    "  ### Resumen Númericos\n",
    "  \n",
    "  "
   ]
  },
  {
   "cell_type": "code",
   "execution_count": 58,
   "id": "d6c946c1",
   "metadata": {},
   "outputs": [
    {
     "data": {
      "text/plain": [
       "count    5666.000000\n",
       "mean       81.342676\n",
       "std        21.764409\n",
       "min        32.400000\n",
       "25%        65.900000\n",
       "50%        78.200000\n",
       "75%        92.700000\n",
       "max       198.900000\n",
       "Name: BMXWT, dtype: float64"
      ]
     },
     "execution_count": 58,
     "metadata": {},
     "output_type": "execute_result"
    }
   ],
   "source": [
    "data.BMXWT.dropna().describe()\n",
    "\n",
    "# dropna -> Elimina de manera explicita los datos faltantes"
   ]
  },
  {
   "cell_type": "code",
   "execution_count": 60,
   "id": "7831d545",
   "metadata": {},
   "outputs": [
    {
     "name": "stdout",
     "output_type": "stream",
     "text": [
      "81.34267560889509\n",
      "81.34267560889509\n",
      "78.2\n",
      "78.2\n",
      "92.7\n",
      "92.7\n"
     ]
    }
   ],
   "source": [
    "# Realizar operaciones matematicas para generar el resumen antes visto con funciones\n",
    "# de numpy o pandas\n",
    "\n",
    "x = data.BMXWT.dropna()  # Extract all non-missing values of BMXWT into a variable called 'x'\n",
    "print(x.mean()) # Pandas method\n",
    "print(np.mean(x)) # Numpy function\n",
    "\n",
    "print(x.median())\n",
    "print(np.percentile(x, 50))  # 50th percentile, same as the median\n",
    "print(np.percentile(x, 75))  # 75th percentile\n",
    "print(x.quantile(0.75)) # Pandas method for quantiles, equivalent to 75th percentile"
   ]
  },
  {
   "cell_type": "markdown",
   "id": "452988c7",
   "metadata": {},
   "source": [
    "\n",
    "**Presión Sistólica**\n",
    "\n",
    "Presión sistólica (BPXSY1) es la medición arterial (presión arterial en el punto máximo de latidos) y el \"1\" significa que es la primera medición de 3 mediciones que deben realizarse.\n",
    "\n",
    "Prehipertensión= Personas con presión arterial entre 120 y 139\n",
    "\n",
    "Diastólica= 80 y 89."
   ]
  },
  {
   "cell_type": "code",
   "execution_count": 6,
   "id": "bcb36e92",
   "metadata": {},
   "outputs": [
    {
     "data": {
      "text/plain": [
       "0.3741935483870968"
      ]
     },
     "execution_count": 6,
     "metadata": {},
     "output_type": "execute_result"
    }
   ],
   "source": [
    "# calcular media, de presión arterial sistólica\n",
    "\n",
    "np.mean((data.BPXSY1 >= 120) & (data.BPXSY2 <=139)) # and\n",
    "\n",
    "# personas con prehipertensión dentro del conjunto de datos\n",
    "\n"
   ]
  },
  {
   "cell_type": "code",
   "execution_count": 8,
   "id": "12ac60dd",
   "metadata": {},
   "outputs": [
    {
     "data": {
      "text/plain": [
       "0.14803836094158676"
      ]
     },
     "execution_count": 8,
     "metadata": {},
     "output_type": "execute_result"
    }
   ],
   "source": [
    "# presión arterial diastólica\n",
    "\n",
    "np.mean((data.BPXDI1 >= 80)  & (data.BPXDI2<=89))"
   ]
  },
  {
   "cell_type": "markdown",
   "id": "638e8ab8",
   "metadata": {},
   "source": [
    "Así, se puede calcular la proporción de sujetos que son prehipertensos según la presión arteríal sistólica o diastólica, entendiendo que en ambos caso puede haber prehipertensos.\n",
    "\n",
    "Ahora utilizando los elementos de conjuntos vamos "
   ]
  },
  {
   "cell_type": "code",
   "execution_count": 8,
   "id": "c7470fe8",
   "metadata": {},
   "outputs": [
    {
     "name": "stdout",
     "output_type": "stream",
     "text": [
      "0.43975588491717527\n",
      "---\n",
      "0       True\n",
      "1       True\n",
      "2       True\n",
      "3       True\n",
      "4       True\n",
      "        ... \n",
      "5730    True\n",
      "5731    True\n",
      "5732    True\n",
      "5733    True\n",
      "5734    True\n",
      "Length: 5735, dtype: bool\n"
     ]
    }
   ],
   "source": [
    "a = (data.BPXSY1 >= 120) & (data.BPXSY2 <=139)\n",
    "b = (data.BPXDI1>=80) & (data.BPXDI2 <=89)\n",
    "print(np.mean(a|b)) # promedio de a o b\n",
    "# da como una suma entre los dos\n",
    "\n"
   ]
  },
  {
   "cell_type": "code",
   "execution_count": 6,
   "id": "7acfe1bb",
   "metadata": {},
   "outputs": [
    {
     "name": "stdout",
     "output_type": "stream",
     "text": [
      "9.0\n"
     ]
    }
   ],
   "source": [
    "print(np.mean(1|8))"
   ]
  },
  {
   "cell_type": "markdown",
   "id": "6ac1b8fd",
   "metadata": {},
   "source": [
    "La ansiedad puede ser un elemento que pueda generar un aumento en la presión arterial, para ello se toman varias veces seguidas, así, se puede calcular hasta que punto la ansiedad esta presente en las observaciones observando la diferencias entre las dos primeras mediciones de la presión y cual es la diferencia media que esta presente."
   ]
  },
  {
   "cell_type": "code",
   "execution_count": 9,
   "id": "94720908",
   "metadata": {},
   "outputs": [
    {
     "name": "stdout",
     "output_type": "stream",
     "text": [
      "0.6749860309182343\n",
      "0.3490407897187558\n"
     ]
    }
   ],
   "source": [
    "print(np.mean(data.BPXSY1 - data.BPXSY2)) # Sistólica\n",
    "print(np.mean(data.BPXDI1 - data.BPXDI2)) # Diastólica\n"
   ]
  },
  {
   "cell_type": "markdown",
   "id": "9f8a9ac5",
   "metadata": {},
   "source": [
    "Podríamos decir que la ansiedad esta más elevada en la presión arterial sistólica comparada con la diastólica."
   ]
  },
  {
   "cell_type": "markdown",
   "id": "03bcaaf5",
   "metadata": {},
   "source": [
    "### Resumen Gráfico"
   ]
  },
  {
   "cell_type": "code",
   "execution_count": 10,
   "id": "a7b2b3df",
   "metadata": {},
   "outputs": [
    {
     "data": {
      "text/plain": [
       "<seaborn.axisgrid.FacetGrid at 0x7f1057919c40>"
      ]
     },
     "execution_count": 10,
     "metadata": {},
     "output_type": "execute_result"
    },
    {
     "data": {
      "image/png": "[encoded data removed]",
      "text/plain": [
       "<Figure size 360x360 with 1 Axes>"
      ]
     },
     "metadata": {
      "needs_background": "light"
     },
     "output_type": "display_data"
    }
   ],
   "source": [
    "# Histogramas\n",
    "\n",
    "sns.displot(data.BMXWT.dropna()) # dropna elimina espacios vacios o datos perdidos\n"
   ]
  },
  {
   "cell_type": "code",
   "execution_count": 12,
   "id": "6eb2546c",
   "metadata": {},
   "outputs": [
    {
     "name": "stderr",
     "output_type": "stream",
     "text": [
      "/home/oscar/anaconda3/lib/python3.9/site-packages/seaborn/distributions.py:2619: FutureWarning: `distplot` is a deprecated function and will be removed in a future version. Please adapt your code to use either `displot` (a figure-level function with similar flexibility) or `histplot` (an axes-level function for histograms).\n",
      "  warnings.warn(msg, FutureWarning)\n"
     ]
    },
    {
     "data": {
      "text/plain": [
       "<AxesSubplot:xlabel='BPXSY1', ylabel='Density'>"
      ]
     },
     "execution_count": 12,
     "metadata": {},
     "output_type": "execute_result"
    },
    {
     "data": {
      "image/png": "[encoded data removed]",
      "text/plain": [
       "<Figure size 432x288 with 1 Axes>"
      ]
     },
     "metadata": {
      "needs_background": "light"
     },
     "output_type": "display_data"
    }
   ],
   "source": [
    "# presión arterial sistólica\n",
    "\n",
    "sns.distplot(data.BPXSY1.dropna())"
   ]
  },
  {
   "cell_type": "code",
   "execution_count": 20,
   "id": "30475f48",
   "metadata": {},
   "outputs": [
    {
     "data": {
      "image/png": "[encoded data removed]",
      "text/plain": [
       "<Figure size 432x288 with 1 Axes>"
      ]
     },
     "metadata": {
      "needs_background": "light"
     },
     "output_type": "display_data"
    }
   ],
   "source": [
    "# Comparación presión arterial sistólica 1 y 2\n",
    "# Comparación presión arterial diastólica 1 y 2\n",
    "\n",
    "bp = sns.boxplot(data = data.loc[:,[\"BPXSY1\",\"BPXSY2\",\"BPXDI1\",\"BPXDI2\"]]) \n",
    "# Se define con la función loc las variables a observaar en la caja\n",
    "name = bp.set_ylabel(\"Presión sanguinea mm/Hg\")\n"
   ]
  },
  {
   "cell_type": "markdown",
   "id": "0235783f",
   "metadata": {},
   "source": [
    "Aprendizaje, de manera previa se definio la variable que tendría el conjunto de información como data, pero en las librerias también se maneja este mismo nombre, por lo cuál podría haber problemas, es aconsejable no manejar data como variable local como buena práctica, esto es algo que podemos ir aprendiendo con los pasos."
   ]
  },
  {
   "cell_type": "markdown",
   "id": "27e75571",
   "metadata": {},
   "source": [
    "## Estratificación \n",
    "\n",
    "Una de las prácticas comunes en el manejo de información, es dividir la misma en subconjuntos más pequeños y uniformes, y analizar estos \"estratos\" por separado. Cuando se trata de datos humanos es común estratificar en función de factores demográficos como edad, sexo y raza.\n",
    "\n",
    "La presión arterial tiende a aumentar por la edad, por lo cuál sería interesante construir los gráficos teniendo en cuenta este elemento, dado que la edad es una variable cuantitativa se pueden crear intervalos similares para estractividar."
   ]
  },
  {
   "cell_type": "code",
   "execution_count": 24,
   "id": "76e78535",
   "metadata": {},
   "outputs": [
    {
     "data": {
      "text/plain": [
       "<AxesSubplot:xlabel='agegrp', ylabel='BPXSY1'>"
      ]
     },
     "execution_count": 24,
     "metadata": {},
     "output_type": "execute_result"
    },
    {
     "data": {
      "image/png": "[encoded data removed]",
      "text/plain": [
       "<Figure size 864x360 with 1 Axes>"
      ]
     },
     "metadata": {
      "needs_background": "light"
     },
     "output_type": "display_data"
    }
   ],
   "source": [
    "# Crear estratos por puntos de edad\n",
    "# se crea columna agegrp en data\n",
    "data[\"agegrp\"] = pd.cut(data.RIDAGEYR, [18,30,40,50,60,70,80])\n",
    "\n",
    "# Ampliar la figura por defecto con pandas\n",
    "\n",
    "plt.figure(figsize=(12,5)) # 12 cm ancho 5 alto\n",
    "\n",
    "# Gráficar las cajas por la estratificación de edades\n",
    "\n",
    "sns.boxplot(x=\"agegrp\", y=\"BPXSY1\", data=data)"
   ]
  },
  {
   "cell_type": "markdown",
   "id": "5fe9b0d8",
   "metadata": {},
   "source": [
    "También se puede estratificar por sexo y edad, en este caso también se estratificaria por edad porque conocemos previamente que hay una asociación entre edad y presión arterial.\n",
    "\n",
    "En la figura que se abrira se verá que las personas mayores tienden a tener una presión arterial arta respecto a los jovenes, no obstante, en la relación de edad y género en la presión sistólica es algo complejo, porque se verá que los hombres más jovenes respecto a las mujeres de la misma edad, tendrán una presión arterial más alta, para las personas mayores de 50 años esta relación se vuelve mas debil, y para las personas de 70 años la relación se invierte."
   ]
  },
  {
   "cell_type": "code",
   "execution_count": 30,
   "id": "38c0242e",
   "metadata": {},
   "outputs": [
    {
     "data": {
      "text/plain": [
       "<AxesSubplot:xlabel='RIAGENDRx', ylabel='BPXSY1'>"
      ]
     },
     "execution_count": 30,
     "metadata": {},
     "output_type": "execute_result"
    },
    {
     "data": {
      "image/png": "[encoded data removed]",
      "text/plain": [
       "<Figure size 864x360 with 1 Axes>"
      ]
     },
     "metadata": {
      "needs_background": "light"
     },
     "output_type": "display_data"
    }
   ],
   "source": [
    "data[\"agegrp\"] = pd.cut(data.RIDAGEYR, [18,30,40,50,60,70,80]) # Intervalos de edades Estratificación\n",
    "plt.figure(figsize=(12,5)) # tamaño figura\n",
    "# gráficar\n",
    "sns.boxplot(x=\"RIAGENDRx\", y = \"BPXSY1\", hue=\"agegrp\",data=data)\n",
    "# -> hue parece que mantiene los intervalos de edad"
   ]
  },
  {
   "cell_type": "markdown",
   "id": "7f5b1126",
   "metadata": {},
   "source": [
    "Para datos categoricos o cualitativos también se puede realizar estratificación. \n",
    "\n",
    "Nota: Casualidad o confusión -> La estadística ayuda a los investigadores a identificar las causas que subyacen en las diferencias observadas. Para este caso, se observó diferencia entre la presión arterial como en el nivel educativo en función de la edad, es consecuente que un envejeciiento cause un aumento en la presión arterial, pero en el caso del nivel educativo se trata de un efecto de cohorte de nacimiento. Lo que se refiere a que todos los datos se recogieron en un único momento, por ejemplo, para las personas de 65 años ya hace mucho tiempo se recogieron los datos en el año 2015, igualmente para las personas que tenian 20 años estaban recien graduados o estaban cursando aún su universidad. Por lo cual de manera transversal se verá un cambio entre la relación de edad y nivel educativo, a medidad de que la variable de edad aumente. "
   ]
  },
  {
   "cell_type": "code",
   "execution_count": 40,
   "id": "b6f14f88",
   "metadata": {},
   "outputs": [
    {
     "data": {
      "text/plain": [
       "agegrp    DMDEDUC2x                        \n",
       "(18, 30]  Universitario No Graduado            364\n",
       "          Universitario o Superior Graduado    278\n",
       "          Bachiller                            237\n",
       "          9-11                                  99\n",
       "          <9                                    47\n",
       "(30, 40]  Universitario No Graduado            282\n",
       "          Universitario o Superior Graduado    264\n",
       "          Bachiller                            182\n",
       "          9-11                                 111\n",
       "          <9                                    93\n",
       "(40, 50]  Universitario No Graduado            262\n",
       "          Universitario o Superior Graduado    260\n",
       "          Bachiller                            171\n",
       "          9-11                                 112\n",
       "          <9                                    98\n",
       "(50, 60]  Universitario No Graduado            258\n",
       "          Bachiller                            220\n",
       "          Universitario o Superior Graduado    220\n",
       "          9-11                                 122\n",
       "          <9                                   104\n",
       "(60, 70]  Universitario No Graduado            238\n",
       "          Bachiller                            192\n",
       "          Universitario o Superior Graduado    188\n",
       "          <9                                   149\n",
       "          9-11                                 111\n",
       "(70, 80]  Universitario No Graduado            217\n",
       "          Bachiller                            184\n",
       "          <9                                   164\n",
       "          Universitario o Superior Graduado    156\n",
       "          9-11                                  88\n",
       "          No sabe                                3\n",
       "Name: DMDEDUC2x, dtype: int64"
      ]
     },
     "execution_count": 40,
     "metadata": {},
     "output_type": "execute_result"
    }
   ],
   "source": [
    "data.groupby(\"agegrp\")[\"DMDEDUC2x\"].value_counts()\n"
   ]
  },
  {
   "cell_type": "markdown",
   "id": "6246d5f7",
   "metadata": {},
   "source": [
    "Se pueden estratificar los conjuntos de edad y género para observar como varía el nivel educativo según los dos factores simultaneamente. Para ello, será más fácil pivotear los niveles de educación a columnas y normalizar los recuentos para que sumen 1, Una vez realizado esto, se podrán interpretar los resultados como proporciones o probabilidades. Para el caso de las mujeres es más probable que hayan obtenido un título universitario respecto a los hombres, pero en el caso de los hombres mayores de 60 años, esta relación se invierte. "
   ]
  },
  {
   "cell_type": "markdown",
   "id": "d940e857",
   "metadata": {},
   "source": []
  },
  {
   "cell_type": "code",
   "execution_count": 55,
   "id": "1b696134",
   "metadata": {},
   "outputs": [
    {
     "name": "stdout",
     "output_type": "stream",
     "text": [
      "DMDEDUC2x           9-11    <9  Bachiller  Universitario No Graduado  Universitario o Superior Graduado\n",
      "agegrp   RIAGENDRx                                                                                     \n",
      "(18, 30] Femenino  0.080 0.049      0.215                      0.374                              0.282\n",
      "         Masculino 0.117 0.042      0.250                      0.333                              0.258\n",
      "(30, 40] Femenino  0.089 0.097      0.165                      0.335                              0.314\n",
      "         Masculino 0.151 0.103      0.227                      0.269                              0.251\n",
      "(40, 50] Femenino  0.110 0.106      0.173                      0.313                              0.299\n",
      "         Masculino 0.142 0.112      0.209                      0.262                              0.274\n",
      "(50, 60] Femenino  0.117 0.102      0.234                      0.302                              0.245\n",
      "         Masculino 0.148 0.123      0.242                      0.256                              0.231\n",
      "(60, 70] Femenino  0.118 0.188      0.206                      0.293                              0.195\n",
      "         Masculino 0.135 0.151      0.231                      0.249                              0.233\n",
      "(70, 80] Femenino  0.105 0.225      0.240                      0.281                              0.149\n",
      "         Masculino 0.113 0.180      0.215                      0.255                              0.237\n"
     ]
    }
   ],
   "source": [
    "dx = data.loc[~data.DMDEDUC2x.isin([\"No sabe\", \"Rechaza\"]), :] # se eliminan o ignoran los datos raros del conjunto\n",
    "dx = dx.groupby([\"agegrp\", \"RIAGENDRx\"])[\"DMDEDUC2x\"]\n",
    "dx = dx.value_counts()\n",
    "dx = dx.unstack() # reestrucura los resultados de largo a ancho\n",
    "dx = dx.apply(lambda x: x/x.sum(),axis=1) # normaliza cada estrato para obtener las proporciones\n",
    "print(dx.to_string(float_format=\"%.3f\"))"
   ]
  },
  {
   "cell_type": "code",
   "execution_count": null,
   "id": "d06ab2de",
   "metadata": {},
   "outputs": [],
   "source": []
  },
  {
   "cell_type": "code",
   "execution_count": null,
   "id": "b4d91813",
   "metadata": {},
   "outputs": [],
   "source": []
  }
 ],
 "metadata": {
  "kernelspec": {
   "display_name": "Python 3 (ipykernel)",
   "language": "python",
   "name": "python3"
  },
  "language_info": {
   "codemirror_mode": {
    "name": "ipython",
    "version": 3
   },
   "file_extension": ".py",
   "mimetype": "text/x-python",
   "name": "python",
   "nbconvert_exporter": "python",
   "pygments_lexer": "ipython3",
   "version": "3.9.7"
  }
 },
 "nbformat": 4,
 "nbformat_minor": 5
}
