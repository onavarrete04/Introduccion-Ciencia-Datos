{
 "cells": [
  {
   "cell_type": "markdown",
   "id": "3a2f8d7c",
   "metadata": {},
   "source": [
    "Cuando se da una muestra suficientemente grande de alguna población, las distribuciones de muestreo de la mayoría de las estadísticas tenderán a la normalidad.\n",
    "\n",
    "El Teorema de Límite Central nos dice que si una muestra es lo suficientemente grande, inicialmente disminuiremos la variabilidad de muestreo, y la distribución tenderá a verse como curva de campana. Esto es lo que impulsa la inferencia estadística basada en el diseño, o lo que en ocasiones se denomina como inferencia estadística frecuente. Es decir, una característica de las distribuciones de muestreo, incluyendo valores estadísticos complejos (correlación y regresión líneal) tienden a ser normales y a centrarse en el valor verdadero, entre mayor la muestra menor variabilidad habra, y habra una distribución más simetrica.  "
   ]
  },
  {
   "cell_type": "markdown",
   "id": "34fb6d21",
   "metadata": {},
   "source": [
    "# ¿Cómo hacer una inferencia poblacional basada en una sola distribución de muestra?\n",
    "\n",
    "En la realidad, en investigación y analisis de datos no podemos tomar muchas muestras, solo podremos tomar casi siempre uno por lo costoso que esto puede resultar, y tendremos que hacer las inferencias sobre la población basados en esa unica muestra que tomamos, por eso es tan importante el diseño de nuestro estudio. \n",
    "\n",
    "Cundo estamos hablando de hacer inferencias sobre una población primero debemos hablar sobre las caracteristicas que vamos a evaluar de esa población. \n",
    "\n",
    "Una clave para hacer nuestras inferencias, es la noción de normalidad de la distribución de muestreo (distribución campana), sabiendo ya de antemano que a medida que la muestra sea más grande habrá menos variabilidad.\n",
    "\n",
    "## ¿Qué hariamos si la distribución de muestreo no es aproximadamente normal?\n",
    "\n",
    "Para esta respuesta se pueden observar otros enfoques inferenciales para estos casos más adelante en el curso. \n",
    "\n",
    "\n",
    "---------------------------------------"
   ]
  },
  {
   "cell_type": "markdown",
   "id": "5fa6a7b1",
   "metadata": {},
   "source": [
    "# Paso a Paso Distribuciones Muestrales Normales\n",
    "\n",
    "# INTERVALO DE CONFIANZA METODO 1\n",
    "\n",
    "1. Calculamos una estimación puntual. Se trata de una estimación de un parámetro de intereses para la población en general. En este punto hablariamos de calcular una estimación PUNTUAL IMPARCIAL DEL PARAMETRO DE INTERÉS, ¿qué quiere decir esto? Significa es que el promedio de todos los posibles valores para esa estimación a través de muestras repetidas hipotetica es igual al valor del parámetro verdadero, este valor es conocido como VALOR ESPERADO DE ESTIMACIÓN PUNTUAL. En sintesis, una estimación puntual imparcial significa que la distribución muestral se centra en los parámetros reales de la población que nos interesa. Así que si dentro del diseño de nuestra muestra, vemos que las probabilidades de selección son diferentes, necesitamos pesos para hacer que haya imparcialidad una imagen imparcial de la población en general.\n",
    "\n",
    "2. Estimación de varianza de muestreo asociada con la estimación puntual. En este caso también queremos calcular una estimación de varianza de mmuestreo imparcial. La raiz cuadrada de la vrianza que estamos tratando de estimar, es a lo que normalmente se refiere como ERROR ESTANDAR DE LAS ESTIMACIONES DE PUNTOS. En palabras sencillas, la varianza significa que tan lejos estamos de las diferentes estimaciones que calculamos en las muestras de los valores reales de la población. Ahora cuando decimos que el ERROR ESTANDAR TOMANDO LA RAÍZ CUADRADA DE LA VARIANZA estamos hablando de la DESVIACIÓN ESTANDAR DE LA DISTRIBUCIÓN DE MUESTRE \n",
    "\n",
    "### TÉCNICA\n",
    "\n",
    "1. Formar un intervalo de confianza, para hacerlo se toman las mejores estimaciones y sumamos o restamos un margen de error. Por lo tanto permitimos la variabilidad del muestreo al describir los valores plausibles para ese parametro en particular en la población. \n",
    "\n",
    "Es importante recordar que para obtener ese intervalo de confianza necesitamos 3 piezas. 1) Que la estimación puntual sea imparcial, 2) que el margen de error utilice el multiplicador correcto y 3) que el margen de error utilice una estimación imparcial del error estandar.\n",
    "\n",
    "Si no logramos estos, no tendremos un intervalo de confianza real de 95%, sino en la realidad estaríamos trabajando con uno menor, y necesitamos de estas tres piezas para que nuestro intervalo de confianza tenga una cobertura del parametro de la población real. \n",
    "\n",
    "# PRUEBA DE HIPOTESIS METODO 2\n",
    "\n",
    "+ Hipotesis: Nuestro valor de parametro podria ser nulo? (hablamos de la hipotesis nula)\n",
    "\n",
    "+ ¿La estimación de puntos para el parametro esta cerca de ese valor nulo?\n",
    "\n",
    "+ Usamos el error estandar de una estimación de puntos.\n",
    "\n",
    "Test estadístico = (estimación - valor nulo) / Error estandar.\n",
    "\n",
    "Este valor nos a una idea de que tan lejos o cerca esta nuestra estimación del valor de la hipotesis nula.\n"
   ]
  }
 ],
 "metadata": {
  "kernelspec": {
   "display_name": "Python 3 (ipykernel)",
   "language": "python",
   "name": "python3"
  },
  "language_info": {
   "codemirror_mode": {
    "name": "ipython",
    "version": 3
   },
   "file_extension": ".py",
   "mimetype": "text/x-python",
   "name": "python",
   "nbconvert_exporter": "python",
   "pygments_lexer": "ipython3",
   "version": "3.9.7"
  }
 },
 "nbformat": 4,
 "nbformat_minor": 5
}
