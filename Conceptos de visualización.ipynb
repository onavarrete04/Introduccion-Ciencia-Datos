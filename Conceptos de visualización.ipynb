{
 "cells": [
  {
   "cell_type": "markdown",
   "id": "e7ecd1d4",
   "metadata": {},
   "source": [
    "Para visualizar de manera correcta los datos tenemos que conocer el origen de los mismos.\n",
    "\n",
    "El muestreo aleatorio es una herramienta científica para poder hacer inferencias sobre poblaciones más grandes. Una muestra representativa aleatoria bien diseñada (personas, hogares, empresas, entre otras) de una población objetivo bien definida, nos permitirá sacar conclusiones científicas solidas sobre las características, para ello no se necesita una muestra grande para hacerlo. Pero si tenemos que conocer conceptos importantes.\n",
    "\n",
    "Debemos aprender sobre variabilidad de muestreo e incertidumbre asociada con estimaciones calculadas utilizando datos recopilados de muestras aleatorias.\n",
    "\n"
   ]
  },
  {
   "cell_type": "markdown",
   "id": "c4c41df9",
   "metadata": {},
   "source": [
    "# Paso 1.\n",
    "\n",
    "## ¿De donde vienen los datos?\n",
    "\n",
    "\n",
    "\n",
    "Para responder esta pregunta es importan que podamos responder ¿cuál es la poblaciones de la que queremos hacer declaraciones? así, debemos saber si la población esta compuesta por hombres o mujeres, o ambas, si es importante considerar un razgo de étnicidad.\n",
    "\n",
    "Por otro lado, debemos tener en cuenta el periodo en el cuál evaluaremos a la población, si estamos hablando del año 2021, o del semestre del año 2021, o de una decada, y en este mismo sentido, debemos saber donde se encuentra nuestra población geograficamente. Para ello un ejercicio es describir y definir nuestra población objetivo.\n",
    "\n",
    "# Paso 2.\n",
    "\n",
    "### ¿Cómo podemos hacer declaraciones inferenciales sobre esa población?\n",
    "\n",
    "+ Censo: Medir de manera concreta y definida a cada persona que compone la  población, la dificultad en este elemento es que requiere demasiados recursos y puede ser demorada. \n",
    "\n",
    "+ Elegir una muestra de probabilidad científica de la población e intentar medir todas las unidades de la muestra. Para hacerlo se construye un listado de todas las unidades de la población (marco de muestreo), esta lista es de donde sacaremos nuestra muestra, ahora, se determina la probabilidad de selección para cada unidad en la lista, esa probabilidad debe ser distinta de cero y debe ser conocida. El siguiente paso es seleccionar de esa lista al azar, donde las tasas de muestreo para los diferentes subgrupos estan determinadas por las probabilidades de selección, es decir que algunos subgrupos pueden tener mayor probabilidad de selección que otros subgrupos y finalmente por medio de la aleatoriedad seleccionamos los datos de la muestra. Ejemplo, en un salon de clases el profesor sacara una muestra compuesta por 5 niños y 5 niñas, la población esta compuesta por 20 niñas y 10 niños, es decir, 30 individuos en general, entonces la probabilidad de elección de los niños es 1 de cada 2 niños (1/2) y la de las niñas es de (1/4)\n",
    "\n",
    "+ Elegir una muestra probabilistica NO científica e intentar medir todas las unidades de la muestra: Esta selección de muestra no implica una selección aleatoria de individuos de acuerdo con la probabilidad de selección, y esto puede representar una dificultad porque no se esta seleccionando las unidades al azar que entran a la muestra, esto hace que no conozcamos las probabilidades de selección para las unidades de la población, lo que dificultad las declaraciones inferenciales representativas. Ejemplo, encuestas virtuales, en las que no se elige bajo un listado de opciones a las personas a encuestar, sino que cualquier voluntario puede participar en dicha encuesta, otra es encuestas a subgrupos, por ejemplo personas afrocolombianas jovenes que puedan enmarcarse en alguno de nuestros objetivos, pero estas personas no estan ligadas a un esquema de probabilidad, sino en las personas que esten disponibles. Este tipo de muestra permite que haya un alto potencial de sesgo.\n",
    "\n",
    "### Muestreo Probabilistico\n",
    "\n",
    "Con el muestreo probabilístico (probabilidades conocidas de selección diferentes a 0) para todas las unidades de la población nos permite hacer declaraciones imparciales sobre las características y las cosas que estamos tratando de estimar cuando analizamos los datos. Las características de la población y la incertidumbre en las estimaciones de la encuesta. Es decir, podemos decir las características demográficas, pero también, lo incierto que somos con las estimaciones. \n",
    "\n",
    "Ahora la lista de selección o marco de muestreo, nos protege contra el sesgo proveniente del mecanismo de selección de muestras."
   ]
  },
  {
   "cell_type": "code",
   "execution_count": null,
   "id": "0c5f1d08",
   "metadata": {},
   "outputs": [],
   "source": []
  }
 ],
 "metadata": {
  "kernelspec": {
   "display_name": "Python 3 (ipykernel)",
   "language": "python",
   "name": "python3"
  },
  "language_info": {
   "codemirror_mode": {
    "name": "ipython",
    "version": 3
   },
   "file_extension": ".py",
   "mimetype": "text/x-python",
   "name": "python",
   "nbconvert_exporter": "python",
   "pygments_lexer": "ipython3",
   "version": "3.9.7"
  }
 },
 "nbformat": 4,
 "nbformat_minor": 5
}
