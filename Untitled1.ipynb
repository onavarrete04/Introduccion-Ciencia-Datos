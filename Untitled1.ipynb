{
 "cells": [
  {
   "cell_type": "code",
   "execution_count": 1,
   "id": "95f97a4c",
   "metadata": {},
   "outputs": [
    {
     "name": "stdout",
     "output_type": "stream",
     "text": [
      "dict_keys(['rutina2019'])\n"
     ]
    }
   ],
   "source": [
    "import requests\n",
    "import pandas as pd\n",
    "\n",
    "url = 'https://api.sheety.co/f3d41739f79e26e0bcca4c9d027df686/sivigilaRutinaria/rutina2019'\n",
    "\n",
    "# Realizar la solicitud GET a la API\n",
    "response = requests.get(url)\n",
    "\n",
    "# Comprobar si la solicitud fue exitosa (código de estado 200)\n",
    "if response.status_code == 200:\n",
    "    # Obtener los datos de la respuesta en formato JSON\n",
    "    data = response.json()\n",
    "    \n",
    "    # Crear un DataFrame de pandas con los datos obtenidos\n",
    "    \n",
    "    datos = pd.DataFrame(data)\n",
    "    # Realizar operaciones y análisis en el DataFrame\n",
    "    # ...\n",
    "    \n",
    "    # Imprimir los primeros registros del DataFrame\n",
    "    print(data.keys())\n",
    "else:\n",
    "    # Manejar el caso si la solicitud no fue exitosa\n",
    "    print('Error en la solicitud:', response.status_code)\n"
   ]
  },
  {
   "cell_type": "code",
   "execution_count": 2,
   "id": "2f6de512",
   "metadata": {},
   "outputs": [],
   "source": [
    "\n",
    "enfermedades = datos[\"rutina2019\"]\n",
    "enfermedades\n",
    "\n",
    "nuevo_enfermedades = {\"Enfermedad\":[],\"Infectados_Año_2019\": []}\n",
    "\n",
    "for i in enfermedades:\n",
    "    nuevo_enfermedades[\"Enfermedad\"].append(i[\"nomEve\"])\n",
    "    nuevo_enfermedades[\"Infectados_Año_2019\"].append(i[\"grandTotal\"])\n",
    "    \n",
    "    \n",
    "        \n"
   ]
  },
  {
   "cell_type": "code",
   "execution_count": 3,
   "id": "bc921e58",
   "metadata": {},
   "outputs": [
    {
     "data": {
      "text/html": [
       "<div>\n",
       "<style scoped>\n",
       "    .dataframe tbody tr th:only-of-type {\n",
       "        vertical-align: middle;\n",
       "    }\n",
       "\n",
       "    .dataframe tbody tr th {\n",
       "        vertical-align: top;\n",
       "    }\n",
       "\n",
       "    .dataframe thead th {\n",
       "        text-align: right;\n",
       "    }\n",
       "</style>\n",
       "<table border=\"1\" class=\"dataframe\">\n",
       "  <thead>\n",
       "    <tr style=\"text-align: right;\">\n",
       "      <th></th>\n",
       "      <th>Enfermedad</th>\n",
       "      <th>Infectados_Año_2019</th>\n",
       "    </tr>\n",
       "  </thead>\n",
       "  <tbody>\n",
       "    <tr>\n",
       "      <th>0</th>\n",
       "      <td>DESNUTRICIÓN AGUDA EN MENORES DE 5 AÑOS</td>\n",
       "      <td>1</td>\n",
       "    </tr>\n",
       "    <tr>\n",
       "      <th>1</th>\n",
       "      <td>DENGUE</td>\n",
       "      <td>6</td>\n",
       "    </tr>\n",
       "    <tr>\n",
       "      <th>2</th>\n",
       "      <td>EXPOSICIÓN A FLÚOR</td>\n",
       "      <td>2</td>\n",
       "    </tr>\n",
       "    <tr>\n",
       "      <th>3</th>\n",
       "      <td>HEPATITIS A</td>\n",
       "      <td>1</td>\n",
       "    </tr>\n",
       "    <tr>\n",
       "      <th>4</th>\n",
       "      <td>INTOXICACION POR OTRAS SUSTANCIAS QUIMICAS</td>\n",
       "      <td>1</td>\n",
       "    </tr>\n",
       "    <tr>\n",
       "      <th>...</th>\n",
       "      <td>...</td>\n",
       "      <td>...</td>\n",
       "    </tr>\n",
       "    <tr>\n",
       "      <th>1846</th>\n",
       "      <td>VIH/SIDA/MORTALIDAD POR SIDA</td>\n",
       "      <td>10</td>\n",
       "    </tr>\n",
       "    <tr>\n",
       "      <th>1847</th>\n",
       "      <td>VCM VIF VSX</td>\n",
       "      <td>127</td>\n",
       "    </tr>\n",
       "    <tr>\n",
       "      <th>1848</th>\n",
       "      <td>ZIKA</td>\n",
       "      <td>2</td>\n",
       "    </tr>\n",
       "    <tr>\n",
       "      <th>1849</th>\n",
       "      <td></td>\n",
       "      <td>2</td>\n",
       "    </tr>\n",
       "    <tr>\n",
       "      <th>1850</th>\n",
       "      <td></td>\n",
       "      <td>770</td>\n",
       "    </tr>\n",
       "  </tbody>\n",
       "</table>\n",
       "<p>1851 rows × 2 columns</p>\n",
       "</div>"
      ],
      "text/plain": [
       "                                      Enfermedad  Infectados_Año_2019\n",
       "0        DESNUTRICIÓN AGUDA EN MENORES DE 5 AÑOS                    1\n",
       "1                                         DENGUE                    6\n",
       "2                             EXPOSICIÓN A FLÚOR                    2\n",
       "3                                    HEPATITIS A                    1\n",
       "4     INTOXICACION POR OTRAS SUSTANCIAS QUIMICAS                    1\n",
       "...                                          ...                  ...\n",
       "1846                VIH/SIDA/MORTALIDAD POR SIDA                   10\n",
       "1847                                 VCM VIF VSX                  127\n",
       "1848                                        ZIKA                    2\n",
       "1849                                                                2\n",
       "1850                                                              770\n",
       "\n",
       "[1851 rows x 2 columns]"
      ]
     },
     "execution_count": 3,
     "metadata": {},
     "output_type": "execute_result"
    }
   ],
   "source": [
    "datos_enfermedades = pd.DataFrame(nuevo_enfermedades)\n",
    "datos_enfermedades[\"Infectados_Año_2019\"] = datos_enfermedades[\"Infectados_Año_2019\"].astype(int)\n",
    "datos_enfermedades"
   ]
  },
  {
   "cell_type": "code",
   "execution_count": null,
   "id": "914f743c",
   "metadata": {},
   "outputs": [],
   "source": []
  },
  {
   "cell_type": "code",
   "execution_count": 5,
   "id": "f9887353",
   "metadata": {},
   "outputs": [
    {
     "name": "stdout",
     "output_type": "stream",
     "text": [
      "{'codDptoO': 0, 'ndepProce': 'PROCEDENCIA DESCONOCIDA', 'codEve': 113, 'nomEve': 'DESNUTRICIÓN AGUDA EN MENORES DE 5 AÑOS', 'semana01': 0, 'semana02': 0, 'semana03': 0, 'semana04': 0, 'semana05': 0, 'semana06': 0, 'semana07': 0, 'semana08': 0, 'semana09': 0, 'semana10': 0, 'semana11': 0, 'semana12': 0, 'semana13': 0, 'semana14': 0, 'semana15': 0, 'semana16': 0, 'semana17': 0, 'semana18': 0, 'semana19': 0, 'semana20': 0, 'semana21': 0, 'semana22': 0, 'semana23': 0, 'semana24': 0, 'semana25': 0, 'semana26': 0, 'semana27': 0, 'semana28': 0, 'semana29': 0, 'semana30': 0, 'semana31': 0, 'semana32': 0, 'semana33': 0, 'semana34': 0, 'semana35': 0, 'semana36': 0, 'semana37': 0, 'semana38': 0, 'semana39': 0, 'semana40': 1, 'semana41': 0, 'semana42': 0, 'semana43': 0, 'semana44': 0, 'semana45': 0, 'semana46': 0, 'semana47': 0, 'semana48': 0, 'semana49': 0, 'semana50': 0, 'semana51': 0, 'semana52': 0, 'grandTotal': 1, 'id': 2}\n",
      "---------------------------\n",
      "{'codDptoO': '', 'ndepProce': '', 'codEve': 210, 'nomEve': 'DENGUE', 'semana01': 0, 'semana02': 0, 'semana03': 0, 'semana04': 0, 'semana05': 0, 'semana06': 0, 'semana07': 0, 'semana08': 0, 'semana09': 0, 'semana10': 0, 'semana11': 0, 'semana12': 0, 'semana13': 0, 'semana14': 0, 'semana15': 0, 'semana16': 0, 'semana17': 0, 'semana18': 0, 'semana19': 0, 'semana20': 0, 'semana21': 0, 'semana22': 0, 'semana23': 0, 'semana24': 0, 'semana25': 0, 'semana26': 0, 'semana27': 0, 'semana28': 0, 'semana29': 0, 'semana30': 0, 'semana31': 0, 'semana32': 1, 'semana33': 0, 'semana34': 0, 'semana35': 0, 'semana36': 0, 'semana37': 1, 'semana38': 0, 'semana39': 1, 'semana40': 0, 'semana41': 1, 'semana42': 1, 'semana43': 0, 'semana44': 0, 'semana45': 0, 'semana46': 0, 'semana47': 0, 'semana48': 0, 'semana49': 1, 'semana50': 0, 'semana51': 0, 'semana52': 0, 'grandTotal': 6, 'id': 3}\n",
      "---------------------------\n"
     ]
    }
   ],
   "source": [
    "for i in range(2):\n",
    "    print(enfermedades[i])\n",
    "    print(\"---\"*9)"
   ]
  },
  {
   "cell_type": "markdown",
   "id": "2b695d77",
   "metadata": {},
   "source": [
    "¡Hola! ¡Claro! Aquí tienes algunos ejercicios sobre intervalos de confianza que puedes resolver:\n",
    "\n",
    "1. En una muestra de 100 estudiantes, se encontró que la media de sus calificaciones en matemáticas fue de 75, con una desviación estándar de 5. Calcula un intervalo de confianza al 95% para la media de las calificaciones de todos los estudiantes.\n",
    "\n",
    "2. Un estudio sobre la altura de una población encontró que en una muestra de 200 personas, la altura promedio era de 165 cm, con una desviación estándar de 10 cm. Calcula un intervalo de confianza al 90% para la altura media de la población.\n",
    "\n",
    "3. Un fabricante de bombillas afirma que la vida útil promedio de sus bombillas es de al menos 1000 horas. Se toma una muestra de 50 bombillas y se encuentra que la vida promedio de estas bombillas es de 980 horas, con una desviación estándar de 50 horas. Calcula un intervalo de confianza al 99% para la vida útil promedio de las bombillas.\n",
    "\n",
    "4. Se realiza un estudio para determinar el porcentaje de votantes que apoyan a un candidato político en una ciudad. Se encuestan a 500 votantes y se encuentra que el 55% de ellos apoyan al candidato. Calcula un intervalo de confianza al 95% para el verdadero porcentaje de votantes que apoyan al candidato en la ciudad.\n",
    "\n",
    "Recuerda que para calcular los intervalos de confianza, necesitarás utilizar la fórmula correspondiente dependiendo del caso (media o proporción) y utilizar los valores adecuados de la distribución t de Student o la distribución normal estándar, según corresponda."
   ]
  },
  {
   "cell_type": "code",
   "execution_count": 12,
   "id": "5f6db840",
   "metadata": {},
   "outputs": [],
   "source": [
    "# 1\n",
    "\n",
    "from scipy.stats import norm\n",
    "import numpy as np\n",
    "\n",
    "n = 100\n",
    "mean = 75\n",
    "std = 5"
   ]
  },
  {
   "cell_type": "code",
   "execution_count": 7,
   "id": "3d22685d",
   "metadata": {},
   "outputs": [
    {
     "data": {
      "text/plain": [
       "(9.260809456756391, 140.7391905432436)"
      ]
     },
     "execution_count": 7,
     "metadata": {},
     "output_type": "execute_result"
    }
   ],
   "source": [
    "# error estandar\n",
    "\n",
    "e = mean/np.sqrt(std)\n",
    "z = norm.ppf(0.5+(0.95/2)) # valor critico del 95%\n",
    "z\n",
    "\n",
    "intervalos = (\n",
    "    mean - (z * e),\n",
    "    mean + (z * e)\n",
    ")\n",
    "intervalos"
   ]
  },
  {
   "cell_type": "code",
   "execution_count": 8,
   "id": "9208e077",
   "metadata": {},
   "outputs": [
    {
     "data": {
      "text/plain": [
       "(163.83691284632332, 166.16308715367668)"
      ]
     },
     "execution_count": 8,
     "metadata": {},
     "output_type": "execute_result"
    }
   ],
   "source": [
    "# 2  \n",
    "\n",
    "n = 200\n",
    "m = 165\n",
    "std = 10\n",
    "z = norm.ppf(0.5+(0.90/2)) # valor critico de z\n",
    "\n",
    "e = std/np.sqrt(n)\n",
    "\n",
    "intervalo = (m - (z * e), m + (z * e))\n",
    "intervalo\n"
   ]
  },
  {
   "cell_type": "code",
   "execution_count": 9,
   "id": "0ec6ca0d",
   "metadata": {},
   "outputs": [
    {
     "data": {
      "text/plain": [
       "(961.7861363228155, 998.2138636771845)"
      ]
     },
     "execution_count": 9,
     "metadata": {},
     "output_type": "execute_result"
    }
   ],
   "source": [
    "n = 50\n",
    "m = 980\n",
    "std = 50\n",
    "\n",
    "e = std/np.sqrt(n)\n",
    "\n",
    "norm.interval(confidence = 0.99, loc = m, scale=e)"
   ]
  },
  {
   "cell_type": "code",
   "execution_count": 16,
   "id": "c56ae1f9",
   "metadata": {},
   "outputs": [
    {
     "data": {
      "text/plain": [
       "(0.5063935541892762, 0.5936064458107239)"
      ]
     },
     "execution_count": 16,
     "metadata": {},
     "output_type": "execute_result"
    }
   ],
   "source": [
    "# 4 np.sqrt((p_hat * (1 - p_hat))/n)\n",
    "\n",
    "\n",
    "n = 500\n",
    "p = 0.55\n",
    "confianza = 0.95\n",
    "\n",
    "\n",
    "e = np.sqrt((p * (1 - p))/n)\n",
    "\n",
    "norm.interval(confidence=confianza, loc=p, scale=e)"
   ]
  },
  {
   "cell_type": "markdown",
   "id": "6fac4042",
   "metadata": {},
   "source": [
    "Ejercicio 1:\n",
    "Deseas realizar un estudio para determinar el porcentaje de estudiantes universitarios que tienen un trabajo a tiempo parcial. Quieres estimar este porcentaje con un nivel de confianza del 90% y un margen de error máximo del 3%. ¿Cuál sería el tamaño de muestra necesario?"
   ]
  },
  {
   "cell_type": "code",
   "execution_count": 22,
   "id": "76c97e48",
   "metadata": {},
   "outputs": [
    {
     "data": {
      "text/plain": [
       "752"
      ]
     },
     "execution_count": 22,
     "metadata": {},
     "output_type": "execute_result"
    }
   ],
   "source": [
    "import math\n",
    "\n",
    "# Formula para hallar la muestra en proporción\n",
    "# n = (Z^2 * p * (1 - p)) / E^2\n",
    "\n",
    "z = norm.ppf(0.5+(0.90)/2)\n",
    "e = 0.03\n",
    "p = 0.5  # como no tenemos datos mi dato será del 50% tiene trabajo, es una suposición\n",
    "\n",
    "n = (z**2 * p * (1 - p)) / e ** 2\n",
    "math.ceil(n)\n",
    "\n"
   ]
  },
  {
   "cell_type": "markdown",
   "id": "12a5c35d",
   "metadata": {},
   "source": [
    "Ejercicio 2:\n",
    "Estás llevando a cabo una encuesta para determinar el porcentaje de hogares en una determinada ciudad que están interesados en instalar paneles solares en sus viviendas. Quieres obtener una estimación con un nivel de confianza del 95% y un margen de error máximo del 2%. No tienes una estimación previa de la proporción de hogares interesados. ¿Cuál sería el tamaño de muestra requerido?\n",
    "\n",
    "Para calcular el tamaño de muestra en estos ejercicios, puedes utilizar la fórmula:\n",
    "\n",
    "n = (Z^2 * p * (1 - p)) / E^2"
   ]
  },
  {
   "cell_type": "code",
   "execution_count": 24,
   "id": "079d0b81",
   "metadata": {},
   "outputs": [
    {
     "data": {
      "text/plain": [
       "865"
      ]
     },
     "execution_count": 24,
     "metadata": {},
     "output_type": "execute_result"
    }
   ],
   "source": [
    "p = 0.10 # considero de manera previa que máximo el 10% de la poblacion esta interesado por el momento en paneles\n",
    "\n",
    "e = 0.02\n",
    "z = norm.ppf(0.5+(0.95/2))\n",
    "\n",
    "n = (z ** 2 * p * (1 - p))/ e ** 2\n",
    "math.ceil(n)"
   ]
  },
  {
   "cell_type": "code",
   "execution_count": null,
   "id": "b3ca9d01",
   "metadata": {},
   "outputs": [],
   "source": []
  }
 ],
 "metadata": {
  "kernelspec": {
   "display_name": "Python 3 (ipykernel)",
   "language": "python",
   "name": "python3"
  },
  "language_info": {
   "codemirror_mode": {
    "name": "ipython",
    "version": 3
   },
   "file_extension": ".py",
   "mimetype": "text/x-python",
   "name": "python",
   "nbconvert_exporter": "python",
   "pygments_lexer": "ipython3",
   "version": "3.9.13"
  }
 },
 "nbformat": 4,
 "nbformat_minor": 5
}
