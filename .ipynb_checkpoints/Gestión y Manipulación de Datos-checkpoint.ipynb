{
 "cells": [
  {
   "cell_type": "markdown",
   "id": "c5ce04b7",
   "metadata": {},
   "source": [
    "#### Gestión de Datos\n",
    "\n",
    "Es el proceso de procesamiento de datos que se da despues de la recopilación de datos y antes del análisis real de datos.\n",
    "\n",
    "Normalmente se trabaja con conjuntos de datos, en donde las columnas representan las variables, y las filas los casos. \n",
    "\n",
    "#### Consejos\n",
    "\n",
    "1. No modificar los archivos de datos de origen, es muy importante conservar el registro original. \n",
    "2. Desarrollar un script para generar archivos de análisis apartir de los datos de origen, esto permitirá que si se incluyen los datos.\n",
    "3. Nombre de variables cortas que sean explicitas. \n",
    "4. Los datos en hoja de cálculo facilitarán el entendimiento de los mismos, pero es un intrumento limitado para cuando se trabaja con datos masivos.\n",
    "5. Los colores no son tenidos en cuenta en los software estadístico, mejor no tenerlo en cuenta. \n",
    "6. Normalmente se ignoran los gráficos de las hojas de cálculo cuando existen previamente.\n",
    "7. Cada hoja de calculo se importa por separado. \n",
    "8. Python puede leer directamente los archivos xlsx, pero puede haber problemas por la versión del archivo.\n",
    "\n",
    "#### Base de Datos\n",
    "\n",
    "1. Las herramientas de bases de datos relacionales (SQL) son muy utiles para el manejo de a gran escala de información, permitiendo generar programas estadísticos para leer directamente la base de datos o construir archivos de texto a partir de bases de datos.\n",
    "2. Apache Parquet, HDF5, Apache Arrow son estándares de código abierto para grandes conjuntos de datos binarios, este formato ahorra tiempo de procesamiento comparado con formatos de texto/csv.\n",
    "3. Hadoop y Spark son herramientas para manipular datos cuando hablamos de BIG DATA.\n",
    "\n",
    "#### Archivos de Almacenamiento\n",
    "\n",
    "El formato CSV es el más universal para el intercambio de información.\n",
    "\n",
    "* Los datos en un archivo CSV estan delimitados por una coma (,) o punto y coma (;).\n",
    "* Es posible comprimir los conjuntos de datos con gzip y luego sean leidos directamente desde el archivo comprimido, para disminuir el espacio de almacenamiento y aumentar su velocidad. \n",
    "* Hay archivos binarios de algunos paquetes estadísticos (SAS7BDAT para SAS o DTA para STATA) que pueden leerse directamente en python utilizando la libreria pandas, pero en algunos casos se presentan retos. Los archivos JSON y XML son utiles para conjuntos no rectangulares, pero tienden a generar archivos más grandes que son más demorados de leer. \n",
    "\n",
    "#### Datos de medidas repetitivas ANCHO - LARGO\n",
    "\n",
    "Las medidas repetitivas se dan cuando se hacen múltiples mediciones en cada sujeto de estudio. El análisis de estas medidas repetitivas es un tema avanzado, pero es posible encontra datos de este tipo y se necesite realizar unos informes básicos. \n",
    "\n",
    "\n",
    "FORMATO ANCHO: Una fila por tema, se usa cuando se necesita realizar estudios en donde se evalua cada sujeto, en este caso, IMC por edad.\n",
    "\n",
    "FORMATO LARGO: Una fila por medida, se usa o es más conveniente porque es un formato más flexible que permite obtener los datos arbitrarios por variables, ejemplo, la edad, y esto facilita utilizar esta información para aplicar otros métodos estadísticos.\n",
    "\n",
    "\n",
    "Por ejemplo en el formato ancho, podremos ver en varias colúmnas diferentes variables que respondan al índice de masa corporal, pero que se distinga por edad.\n",
    "\n",
    "| ID | L_NACIMIENTO| IMC_20 | IMC-30 | IMC-40 |\n",
    "\n",
    "En el largo, podremos ver que en una misma columna se define solo una variable, y se compara con otra.\n",
    "\n",
    "| ID | L_NACIMIENTO | EDAD | IMC |\n",
    "\n",
    "\n"
   ]
  },
  {
   "cell_type": "code",
   "execution_count": null,
   "id": "0ecd037f",
   "metadata": {},
   "outputs": [],
   "source": []
  }
 ],
 "metadata": {
  "kernelspec": {
   "display_name": "Python 3 (ipykernel)",
   "language": "python",
   "name": "python3"
  },
  "language_info": {
   "codemirror_mode": {
    "name": "ipython",
    "version": 3
   },
   "file_extension": ".py",
   "mimetype": "text/x-python",
   "name": "python",
   "nbconvert_exporter": "python",
   "pygments_lexer": "ipython3",
   "version": "3.9.7"
  }
 },
 "nbformat": 4,
 "nbformat_minor": 5
}
