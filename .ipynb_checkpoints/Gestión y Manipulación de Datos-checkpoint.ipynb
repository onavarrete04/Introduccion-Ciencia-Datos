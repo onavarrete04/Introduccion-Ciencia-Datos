{
 "cells": [
  {
   "cell_type": "markdown",
   "id": "e98a5fc2",
   "metadata": {},
   "source": [
    "#### Gestión de Datos\n",
    "\n",
    "Es el proceso de procesamiento de datos que se da despues de la recopilación de datos y antes del análisis real de datos.\n",
    "\n",
    "Normalmente se trabaja con conjuntos de datos, en donde las columnas representan las variables, y las filas los casos. \n",
    "\n",
    "#### Consejos\n",
    "\n",
    "1. No modificar los archivos de datos de origen, es muy importante conservar el registro original. \n",
    "2. Desarrollar un script para generar archivos de análisis apartir de los datos de origen."
   ]
  }
 ],
 "metadata": {
  "kernelspec": {
   "display_name": "Python 3 (ipykernel)",
   "language": "python",
   "name": "python3"
  },
  "language_info": {
   "codemirror_mode": {
    "name": "ipython",
    "version": 3
   },
   "file_extension": ".py",
   "mimetype": "text/x-python",
   "name": "python",
   "nbconvert_exporter": "python",
   "pygments_lexer": "ipython3",
   "version": "3.9.7"
  }
 },
 "nbformat": 4,
 "nbformat_minor": 5
}
