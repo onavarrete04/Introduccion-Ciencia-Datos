{
 "cells": [
  {
   "cell_type": "markdown",
   "id": "274f7886",
   "metadata": {},
   "source": [
    "## Datos\n",
    "\n",
    "\n",
    "Los datos pueden ser cualquier cosa:\n",
    "\n",
    "* Numeros, lo normal que entendemos cuando hablamos de datos es en una hoja de calculo con mucha información, pero esta puede provenir de otras formas. \n",
    "\n",
    "* Imagenes: Eigenfaces representan las caras con números y realizar interfaces para utilizar de muchas formas esta información, como reconocimiento facial, filtros en redes sociales, igualmente se puede usar fotografías satelitales para evidenciar un bosque, los cambios en un ecosistema, ver un área especifica, rastrear tormentas y daño causados.\n",
    "\n",
    "* Texto: Formas de texto predicivo, registro medico, clasificacion de documentos.\n",
    "\n",
    "* Audio: reconocimiento vocal, edición de audio y voz replicación de voz.\n",
    "\n",
    "\n"
   ]
  },
  {
   "cell_type": "markdown",
   "id": "b0693f4e",
   "metadata": {},
   "source": [
    "## Datos pensando en un enfoque estadístico\n",
    "\n",
    "Hay dos tipos de datos:\n",
    "\n",
    "1. Organicos o de proceso: Son resultado de algun proceso y lo normal es que se generen con el tiempo, por ejemplo transacciones en la bolsa, historial de visualizaciones de peliculas en netflix y o historial en la red, estas surgen del resultado de la interacción con un individuo. También podrían ser los eventos deportivos, resultados deportivos, capacidades atleticas de deportistas, marcas y records. Por otro lado, se puede pensar en datos que evaluen el clima, la contaminación. Todos estos datos pueden guarda muchisima información y ser considerada como Big Data, en la que hay una fuente masiva de información que es interesante para ser investigada y que puede arrojar conclusiones o inferencias importantes en determinadas áreas. <br><br> No obstante, la cantidad masiva de información requiere recursos humanos (personal entrenado), recursos computacionales (almacenamiento y procesamiento de la información) que requieren ser considerados.\n",
    "                    \n",
    "\n",
    "2. Diseñados: Son producto de el abordar un área puntual con un ojbetivo especifico, por ejemplo una investigación de mercado, un proyecto, el estudio de un medicamento, percepción de votación, entre otras, y estos datos ya han sido muestreados y se ha implementado una metodología estadística para ser abordada, como el tipo de población, tamaño de la muestra, y estos datos son muy centrados y especificos para una investigación o proyecto especifico, y a comparación con los organicos que son interesantes y alguien quiere abordar. <br><br> Caracteristicas:\n",
    "    * Muestra poblacional\n",
    "    * Preguntas cuidadosamente diseñadas\n",
    "    * Conjunto de datos más pequeños respecto a los organicos.\n",
    "    * Más sencillos de trabajar desde la perspectiva computacional.\n",
    "    * Formas de recopilación especificas. \n",
    "    \n",
    "### Preguntas que debemos hacernos al trabajar con los datos\n",
    "\n",
    "**¿De donde provienen los datos y que recursos necesitan para ser procesados?**\n",
    "\n",
    "**¿Cómo fue su proceso de recopilación y bajo que instrumentos?**\n",
    "\n",
    "\n",
    "\n",
    "\n",
    "\n"
   ]
  },
  {
   "cell_type": "markdown",
   "id": "1cf0dcd5",
   "metadata": {},
   "source": [
    "### I.I.D de los datos\n",
    "\n",
    "**I = Independencia**\n",
    "**I = Identicos**\n",
    "**D = Distribuidos**\n",
    "\n",
    "#### Independencia\n",
    "\n",
    "Esto se refiere a que la ocurrencia de un evento no afecta la ocurrencia de otro evento dentro de nuestro conjunto de datos. Es decir que los dos eventos estudiados son independientes el uno del otro. \n",
    "\n",
    "#### Distribución\n",
    "\n",
    "La observaciones son independientes de todas las demás observaciones, \n",
    "\n",
    "##### Ejemplo\n",
    "\n",
    "> En una clase se realiza un examente y cada estudiante obtiene una calificación respecto al rendimiento mostrado en el examen y sus respuestas. El evento es independiente porque cada estudiante esta siendo evaluado de manera individual, y sus observaciones son individuales porque no estan ligadas a los resultados de sus compañeros, y por lo cuál pueden obtener una distribución normal. <br><br> Cuando hay I.I.D puede haber mucha precisión en la estimación de diferentes medidas, como la varianza, media, entre otras.\n",
    "\n",
    "### ¿Qué hacer cuando no hay I.I.D?\n",
    "\n",
    "\n",
    "##### Ejemplo\n",
    "\n",
    "> Los estudiantes en un examen pudieron sentarse uno al lado del otro, y pueden ver las respuestas de los demas por lo cuál podrían tener puntuaciones similares, lo que elimina la independencia de los datos. Los estudiantes ubicados en cierta región del salon tienen a ver a otros y sus respuestas tienen respuestas similares\n",
    "\n",
    "Para ello hay que preguntarnos, ¿Podemos aplicar procedimientos estadisticos a estos datos que den inferencias reales?. No. Por lo cuál habrá que hacer correciones en el proceso.\n",
    "\n",
    "\n",
    "### Conclusiones  de preguntas de investigación\n",
    "\n",
    ">> ¿Los datos I.I.D que tenemos permiten aplicar procedimientos estadísticos?\n",
    "\n",
    ">> ¿De donde llegaron los datos y son organicos o diseñados?\n",
    "\n",
    ">> ¿Hay dependencias en los datos?\n",
    "\n",
    ">> ¿Cuáles son las caracteristicas que debemos tener en cuenta del conjunto de datos utilizados que debemos tener en cuenta?\n",
    "\n",
    "\n",
    "\n",
    "\n"
   ]
  },
  {
   "cell_type": "code",
   "execution_count": null,
   "id": "007d2107",
   "metadata": {},
   "outputs": [],
   "source": []
  }
 ],
 "metadata": {
  "kernelspec": {
   "display_name": "Python 3 (ipykernel)",
   "language": "python",
   "name": "python3"
  },
  "language_info": {
   "codemirror_mode": {
    "name": "ipython",
    "version": 3
   },
   "file_extension": ".py",
   "mimetype": "text/x-python",
   "name": "python",
   "nbconvert_exporter": "python",
   "pygments_lexer": "ipython3",
   "version": "3.9.7"
  }
 },
 "nbformat": 4,
 "nbformat_minor": 5
}
