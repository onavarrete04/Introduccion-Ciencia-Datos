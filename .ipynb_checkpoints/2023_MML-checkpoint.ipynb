{
 "cells": [
  {
   "cell_type": "markdown",
   "id": "4cb09ee7",
   "metadata": {},
   "source": [
    "## Que es la Inteligencia Artificial.\n",
    "\n",
    "\n",
    "La Inteligencia Artificial (IA) intenta dotar a una máquina de las capacidades humanas de percepción, razonamiento, comunicación, acción y aprendizaje, asociadas a la inteligencia natural. De esta forma, el aprendizaje automático es un área o disciplina de la Inteligencia Artificial.\n",
    "\n",
    "### Aprendizaje Automatico\n",
    "\n",
    "__Supervisado__\n",
    "\n",
    "Es un tipo de aprendizaje automático que utiliza conjuntos de datos estructurados y etiquetados para entrenar los modelos y predecir los resultados con precisión. En este tipo, el usuario ya conoce el tipo de resultado que se necesita de los datos. Contiene las variables independientes que se utilizan para el entrenamiento del modelo y la variable dependiente es el resultado que se va a predecir a partir de los datos. El modelo de Machine Learning aprende de las variables independientes y en base a ellas se realiza la predicción futura.\n",
    "\n",
    "El aprendizaje supervisado se clasifica en las siguientes dos categorías:\n",
    "\n",
    "Regresión: se usa cuando la salida es un valor continuo o real, como el precio de un automóvil o el peso de una persona, etc.\n",
    "Clasificación: La clasificación se utiliza cuando la variable dependiente es un valor discreto como \"spam\" o \"no spam\" y \"masculino\" o \"femenino\", etc.\n",
    "Los diferentes algoritmos supervisados ​​son regresión lineal, regresión logística, K-Nearest Neighbours, Decision Trees y SVM (Support Vector Machines), etc.\n",
    "\n",
    "Las aplicaciones del mundo real del aprendizaje supervisado son las siguientes:\n",
    "\n",
    "Predicción de precios\n",
    "Filtrado de correo no deseado\n",
    "Detección de rostro\n",
    "Reconocimiento de voz\n",
    "Clasificación de imágenes\n",
    "Traducción de idiomas, etc\n",
    "\n",
    "__No supervisado__\n",
    "\n",
    "Es un tipo de aprendizaje automático que utiliza conjuntos de datos no estructurados y sin etiquetar. Se utiliza para descubrir patrones ocultos en los datos sin supervisión humana. En esto, se desconoce la variable dependiente o objetivo, lo que significa que el resultado de los datos no se conoce en la fase inicial. La máquina misma descubre los patrones y da la salida correspondiente.\n",
    "\n",
    "El aprendizaje no supervisado tiene tres enfoques comunes que son los siguientes:\n",
    "\n",
    "Clustering: Es una técnica que agrupa o forma clusters de datos no etiquetados según las similitudes o diferencias en las propiedades de los datos.\n",
    "Reglas de Asociación: Es una técnica basada en reglas que encuentra las relaciones entre las diferentes variables del conjunto de datos. Generalmente se utiliza en el análisis de la cesta de la compra.\n",
    "Reducción de dimensionalidad: es una técnica que se utiliza para reducir el número de dimensiones o características en un conjunto de datos para que no resulte en un sobreajuste.\n",
    "Los diferentes algoritmos de aprendizaje no supervisado son K-Means Clustering, K-Nearest Neighbours, Hierarchical Clustering, Principle Component Analysis y Anomaly Detection, etc.\n",
    "\n",
    "Las aplicaciones del mundo real del aprendizaje no supervisado son las siguientes:\n",
    "\n",
    "Sistemas de recomendación\n",
    "Segmentación de productos\n",
    "Secciones de Noticias\n",
    "Visión por computador\n",
    "Segmentación de clientes, etc."
   ]
  },
  {
   "cell_type": "code",
   "execution_count": null,
   "id": "cfe157cd",
   "metadata": {},
   "outputs": [],
   "source": [
    "import pandas as pd\n",
    "import numpy as np\n",
    "import "
   ]
  }
 ],
 "metadata": {
  "kernelspec": {
   "display_name": "Python 3 (ipykernel)",
   "language": "python",
   "name": "python3"
  },
  "language_info": {
   "codemirror_mode": {
    "name": "ipython",
    "version": 3
   },
   "file_extension": ".py",
   "mimetype": "text/x-python",
   "name": "python",
   "nbconvert_exporter": "python",
   "pygments_lexer": "ipython3",
   "version": "3.9.13"
  }
 },
 "nbformat": 4,
 "nbformat_minor": 5
}
