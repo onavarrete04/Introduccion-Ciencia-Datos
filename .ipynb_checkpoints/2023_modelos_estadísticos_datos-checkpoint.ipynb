{
 "cells": [
  {
   "cell_type": "markdown",
   "id": "96899dae-97a7-4019-a3cc-a2433bd28f43",
   "metadata": {},
   "source": [
    "# Ajuste de modelos estadísticos a datos con las pautas de Python\n",
    "\n",
    "## ¿Qué queremos decir con ajustar modelos a datos?\n",
    "\n",
    "Esto quiere decir que se ajustan los modelos a los datos y no al rever, describen los comportamientos o las distribuciones. Los modelos parten del moelos y las medidas de interes. \n",
    "\n",
    "Los modelos párametricos tienen la necesidad de conocer el tipo de distribución con el que se trabajará, pero al mismo tiempo deben tener una serie de datos numericos fijos que vienen siendo los parametros del modelo. \n",
    "\n",
    "Un modelo paramétrico es como una receta para hacer una torta. Para hacer una torta necesitas ciertos ingredientes y seguir ciertos pasos en un orden específico para que la torta quede bien. Un modelo paramétrico es similar: tienes que elegir ciertas \"cosas\" que quieres estudiar (variables), como el tiempo que hace afuera y cuánto se vende de helado, y luego elegir un tipo de \"receta\" estadística (modelo) para estudiar cómo estas \"cosas\" están relacionadas. El modelo te ayuda a entender cómo una cosa puede afectar a otra cosa, como el hecho de que cuando hace mucho calor la gente tiende a comprar más helado.\n",
    "\n",
    "De manera resumida, un modelo paramétrico es una herramienta matemática que te ayuda a entender cómo las cosas están relacionadas entre sí, de una manera que te permita hacer predicciones y entender cómo cambiar una cosa puede afectar a otra.\n",
    "\n",
    "## Tipos de variable y modelado estadístico\n",
    "\n",
    "Conocemos normalmente las variables categoricas y cuantitativas, las categoricas pueden ser ordinales y nominales, y las cuantitativas discretas y continuas, no obstante para el modelado estadístico se hablara de variables dependientes e independientes.\n",
    "\n",
    "### VARIABLES DEPENDIENTES - DV\n",
    "\n",
    "Estas también pueden conocerse como:\n",
    "\n",
    "* Variables de resultado\n",
    "* Variables de respuesta\n",
    "* Variables endogenas.\n",
    "* Variables de interés\n",
    "\n",
    "Estas son las variables que en la normalidad nos interesan modelar.\n",
    "\n",
    "\n",
    "### VARIABLES INDEPENDIENTES - IVS\n",
    "\n",
    "Algunos de los nombres que se pueden escuchar para estos datos son:\n",
    "\n",
    "* Variables predictoras\n",
    "* Covariables\n",
    "* Exogenas\n",
    "* Regresivas \n",
    "\n",
    "Estas son las variables que se utilizan para predecir a las variables dependientes de interés. \n",
    "\n",
    "**Las preguntas de investigacion son las que definen las variables dependientes e independientes** \n",
    "\n",
    "### Variables de Control \n",
    "\n",
    "\n",
    "\n"
   ]
  }
 ],
 "metadata": {
  "kernelspec": {
   "display_name": "Python 3 (ipykernel)",
   "language": "python",
   "name": "python3"
  },
  "language_info": {
   "codemirror_mode": {
    "name": "ipython",
    "version": 3
   },
   "file_extension": ".py",
   "mimetype": "text/x-python",
   "name": "python",
   "nbconvert_exporter": "python",
   "pygments_lexer": "ipython3",
   "version": "3.9.13"
  }
 },
 "nbformat": 4,
 "nbformat_minor": 5
}
