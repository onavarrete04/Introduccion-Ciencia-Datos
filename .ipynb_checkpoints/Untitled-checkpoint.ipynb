{
 "cells": [
  {
   "cell_type": "markdown",
   "id": "627f0643",
   "metadata": {},
   "source": [
    "\n",
    "El código JavaScript debe generar dinámicamente los valores de\n",
    "la tabla de multiplicar utilizando ciclos for y llenar la tabla con\n",
    "estos valores. Además, debe implementar una función para\n",
    "verificar si el resultado de cada multiplicación es un número\n",
    "primo. Si el número es primo, el resultado debe mostrarse en\n",
    "negrita en la tabla.\n"
   ]
  },
  {
   "cell_type": "code",
   "execution_count": 32,
   "id": "0d4066ac",
   "metadata": {},
   "outputs": [
    {
     "data": {
      "text/plain": [
       "[['', 1, 2, 3, 4, 5, 6, 7, 8, 9, 10],\n",
       " [1, 1, 2, 3, 4, 5, 6, 7, 8, 9, 10],\n",
       " [2, 2, 4, 6, 8, 10, 12, 14, 16, 18, 20],\n",
       " [3, 3, 6, 9, 12, 15, 18, 21, 24, 27, 30],\n",
       " [4, 4, 8, 12, 16, 20, 24, 28, 32, 36, 40],\n",
       " [5, 5, 10, 15, 20, 25, 30, 35, 40, 45, 50],\n",
       " [6, 6, 12, 18, 24, 30, 36, 42, 48, 54, 60],\n",
       " [7, 7, 14, 21, 28, 35, 42, 49, 56, 63, 70],\n",
       " [8, 8, 16, 24, 32, 40, 48, 56, 64, 72, 80],\n",
       " [9, 9, 18, 27, 36, 45, 54, 63, 72, 81, 90],\n",
       " [10, 10, 20, 30, 40, 50, 60, 70, 80, 90, 100]]"
      ]
     },
     "execution_count": 32,
     "metadata": {},
     "output_type": "execute_result"
    }
   ],
   "source": [
    "tablas = [[\"\",1,2,3,4,5,6,7,8,9,10]]\n",
    "\n",
    "for numero1 in range(1,11):\n",
    "    esperador = []\n",
    "    esperador.insert(0,numero1)\n",
    "    for numero2 in range(1,11):\n",
    "        \n",
    "        esperador.append(numero2*numero1)\n",
    "       \n",
    "    tablas.append(esperador)\n",
    "tablas"
   ]
  },
  {
   "cell_type": "code",
   "execution_count": 120,
   "id": "ee774c6c",
   "metadata": {},
   "outputs": [],
   "source": [
    "\n",
    "def es_primo(lista_tabla):\n",
    "    \"\"\"Los elementos son el iterador\"\"\"\n",
    "    nueva_lista = []\n",
    "    sub_lista = []\n",
    "    \n",
    "    for lista in (lista_tabla):\n",
    "        \n",
    "        for elemento in lista:\n",
    "            \n",
    "            if not elemento == str():\n",
    "                divisor = list(range(2, int(math.sqrt(elemento)) + 1))\n",
    "                for i in divisor:\n",
    "                        if elemento % i == 0:\n",
    "                            elemento == str(elemento)\n",
    "                            sub_lista.append(elemento)\n",
    "                        else: \n",
    "                            sub_lista.append(elemento)\n",
    "                \n",
    "                lista.append(sub_lista)\n",
    "                sub_lista = []\n",
    "                             \n",
    "        "
   ]
  },
  {
   "cell_type": "code",
   "execution_count": 125,
   "id": "33422340",
   "metadata": {},
   "outputs": [
    {
     "data": {
      "text/plain": [
       "[['',\n",
       "  1,\n",
       "  2,\n",
       "  3,\n",
       "  '4',\n",
       "  5,\n",
       "  '6',\n",
       "  7,\n",
       "  '8',\n",
       "  '9',\n",
       "  '10',\n",
       "  [],\n",
       "  [],\n",
       "  [],\n",
       "  [4],\n",
       "  [5],\n",
       "  [6],\n",
       "  [7],\n",
       "  [8],\n",
       "  [9, 9],\n",
       "  [10, 10]],\n",
       " [1, 1, 2, 3, '4', 5, '6', 7, '8', '9', '10'],\n",
       " [2, 2, '4', '6', '8', '10', '12', '14', '16', '18', '20'],\n",
       " [3, 3, '6', '9', '12', '15', '18', '21', '24', '27', '30'],\n",
       " ['4', '4', '8', '12', '16', '20', '24', '28', '32', '36', '40'],\n",
       " [5, 5, '10', '15', '20', '25', '30', '35', '40', '45', '50'],\n",
       " ['6', '6', '12', '18', '24', '30', '36', '42', '48', '54', '60'],\n",
       " [7, 7, '14', '21', '28', '35', '42', '49', '56', '63', '70'],\n",
       " ['8', '8', '16', '24', '32', '40', '48', '56', '64', '72', '80'],\n",
       " ['9', '9', '18', '27', '36', '45', '54', '63', '72', '81', '90'],\n",
       " ['10', '10', '20', '30', '40', '50', '60', '70', '80', '90', '100']]"
      ]
     },
     "execution_count": 125,
     "metadata": {},
     "output_type": "execute_result"
    }
   ],
   "source": [
    "es_primo(tablas)"
   ]
  },
  {
   "cell_type": "code",
   "execution_count": 87,
   "id": "129b09ea",
   "metadata": {},
   "outputs": [
    {
     "data": {
      "text/plain": [
       "54"
      ]
     },
     "execution_count": 87,
     "metadata": {},
     "output_type": "execute_result"
    }
   ],
   "source": [
    "import math \n",
    "int(math.sqrt(2928))"
   ]
  },
  {
   "cell_type": "code",
   "execution_count": 124,
   "id": "7ad73627",
   "metadata": {},
   "outputs": [],
   "source": [
    "def es_primo(lista_tabla):\n",
    "    nueva_lista = []\n",
    "    for sublista in lista_tabla:\n",
    "        nueva_sublista = []\n",
    "        for elemento in sublista:\n",
    "            if not isinstance(elemento, list) and not isinstance(elemento, str):\n",
    "                divisor = list(range(2, int(math.sqrt(elemento)) + 1))\n",
    "                for i in divisor:\n",
    "                    if elemento % i == 0:\n",
    "                        elemento = str(elemento)\n",
    "                        break\n",
    "                else:\n",
    "                    elemento = (elemento)\n",
    "            nueva_sublista.append(elemento)\n",
    "        nueva_lista.append(nueva_sublista)\n",
    "    return nueva_lista\n"
   ]
  },
  {
   "cell_type": "code",
   "execution_count": null,
   "id": "8ea7314c",
   "metadata": {},
   "outputs": [],
   "source": []
  }
 ],
 "metadata": {
  "kernelspec": {
   "display_name": "Python 3 (ipykernel)",
   "language": "python",
   "name": "python3"
  },
  "language_info": {
   "codemirror_mode": {
    "name": "ipython",
    "version": 3
   },
   "file_extension": ".py",
   "mimetype": "text/x-python",
   "name": "python",
   "nbconvert_exporter": "python",
   "pygments_lexer": "ipython3",
   "version": "3.9.13"
  }
 },
 "nbformat": 4,
 "nbformat_minor": 5
}
