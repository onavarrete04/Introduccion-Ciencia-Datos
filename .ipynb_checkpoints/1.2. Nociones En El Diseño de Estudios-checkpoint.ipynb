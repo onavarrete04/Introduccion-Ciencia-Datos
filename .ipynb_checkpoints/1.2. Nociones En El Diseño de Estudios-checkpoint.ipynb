{
 "cells": [
  {
   "cell_type": "markdown",
   "id": "4b516d0f",
   "metadata": {},
   "source": [
    "# Diseño de Estudios\n",
    "\n",
    "\n",
    "Existe un gran exprectro de diseño de estudios <strong>desde análisis exploratorio con datos aleatorios, hasta diseño de estudios con datos alineados a preguntas especificas</strong>. El diseño de estudio abarca toda la preparación de la investigación basada en datos.\n",
    "\n",
    "Igualmente, existen campos de estudio donde ya se han consolidado metodologías de estudio de datos de las cuales podemos aprender muchisimas experiencias.\n",
    "\n",
    "1. Ensayos Medicos: Grandes estudios para la creación de medicamentos.\n",
    "2. Industria manufacturera: Estudios de fiabilidad y garantia.\n",
    "3. Opinión publica, que incluyen mucha información.\n",
    "4. Otras.\n",
    "\n",
    "La tarea es encajar de manera adecuada el diseño del estudio, entendiendo que en ocasiones el diseño puede responder a varias categorias. "
   ]
  },
  {
   "cell_type": "markdown",
   "id": "8f9599a8",
   "metadata": {},
   "source": [
    "### Estudios Exploratorios vs Estudios Confirmatorios\n",
    "\n",
    "Los estudios exploratorios de investigación estan fundados en recoger o recopilar datos sin tener una pregunta previa o una hipotesis ya diseñada, y estan encaminados a indagar y generar un acercamiento especifico con los datos o una variable especifica, para ir conociendo poco a poco el camino y hacernos una idea de los mismos. Por el contrario, los estudios confirmatorios estan alineados con los metodos de investigación cientifica, por lo que se prediseñan hipotesis falseables (son sometidas a diferentes pruebas que puedan refutarlas o confirmarlas) para luego recoger la información y validar si la hipotesis es correcta o no, este metodo tiene el objetivo de responder a la hipotesis por medio de todo el conjunto de datos. \n",
    "\n",
    "En las hipotesis falseables se pueden ver:\n",
    "\n",
    "> Hipotesis Nula, que básicamente refleja la situación ideal de ese proceso (evidencia muestral) y se representa con Ho y es contraría al proceso de investigación.\n",
    "\n",
    "> Hipotesis Alterna, que resumen nuestras sospechas o inferencias previas sobre el proceso, se presenta con Ha.\n",
    "\n",
    "Ambos estudios pueden ser informativos, sin embargo, hay que tener precaución por problemas de sobre ajuste:\n",
    "\n",
    "1. P-HACKING: Crear valores estadísticos inexistentes o artificiales por un mal uso de los datos, es decir, se hace una hipotesis: Los osos de goma evitan el dolor de cabeza, sin embargo, al evaluar los datos estadísticos nos damos cuenta que el p-valor (probabilidad de que un estudio calculado suceda) y se indicará que no hay significación estadística.\n",
    "\n",
    "2. Overfitting: En palabras coloquiales y como he podido absorber este conocimiento, es entendiendo que el modelo estadístico esta teniendo en cuenta otros datos (ruido que asocia a la incertidumbre) de sobremanera, lo que impide que el proceso no sea adecuado. Sin embargo, para mí este es un primer abordaje a este concepto.\n",
    "\n",
    "3. Multiple testing: Se puede llegar al error cuando testeamos de manera incorrecta\n",
    "\n",
    "\n",
    "### Estudios Comparativos vs Estudios No Comparativos\n",
    "\n",
    "Los estudios No Comparativos tienen el objeto de predecir cantidadese absolutas, por ejemplo, predecir el aumento de ingresos de una empresa en un año, o el aumento de valor de acciones de una empresa, o la valorización de un terreno, y por el contrario, el comparativo quiere tomar un elemento de referencia y ver las diferencias de los mismos en contextos diferentes, por ejemplo, la producción de manzanas por hectaria utilizando determinado fertilizante, la preferencia de los votantes por un candidato entre otras.  \n",
    "\n",
    "\n",
    "### Estudios de Observación vs Estudios Experimentales\n",
    "\n",
    "\n",
    "\n",
    "\n",
    "### Tipo de Hipotesis:\n",
    "\n",
    "1. Comparación: Como su nombre indica, esta comparando dos elementos, por ejemplo, ¿El salario medio en Europa es menor que el salario medio en EEUU?\n",
    "\n",
    "2. Relación o Asociación: Asocia un elemento con un resultado¿Beber frecuentemente alcohol esta relacionado con padecer cáncer?\n",
    "\n",
    "3. Causalidad: ¿Las visitas en una web es la causa de éxito en un proyecto?\n",
    "\n",
    "### P VALOR\n",
    "\n",
    "El P-VALOR es la probabilidad error que existe en el proceso y bajo esta incertidumbre se puede elegir la hipotesis. \n",
    "\n",
    "Si la incertidumbre es muy grande, significa que hay una mayor probabilidad de fallar en ese estudio.\n",
    "\n",
    "> P-VALOR = 0.08 significa que el estudio fallara 8 de cada 100 veces cada de vamos y es una incertidumbre demasiado alta.\n",
    "    \n",
    "Entonces nos vamos a quedar con el Ho si el valor es P-VALOR es mayor al 5% (0.05)\n",
    "\n",
    "<strong>H1 > 0.05 </strong>\n",
    "\n",
    "o nos vamos a quedar con el Ha (hipotesis alternativa) si el P-VALOR es menor al 5%.\n",
    "\n",
    "<strong>H1 < 0.05 </strong>"
   ]
  },
  {
   "cell_type": "code",
   "execution_count": null,
   "id": "835cf773",
   "metadata": {},
   "outputs": [],
   "source": []
  }
 ],
 "metadata": {
  "kernelspec": {
   "display_name": "Python 3 (ipykernel)",
   "language": "python",
   "name": "python3"
  },
  "language_info": {
   "codemirror_mode": {
    "name": "ipython",
    "version": 3
   },
   "file_extension": ".py",
   "mimetype": "text/x-python",
   "name": "python",
   "nbconvert_exporter": "python",
   "pygments_lexer": "ipython3",
   "version": "3.9.7"
  }
 },
 "nbformat": 4,
 "nbformat_minor": 5
}
