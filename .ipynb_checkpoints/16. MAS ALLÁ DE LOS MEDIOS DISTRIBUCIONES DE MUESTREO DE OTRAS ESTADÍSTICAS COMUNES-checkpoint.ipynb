{
 "cells": [
  {
   "cell_type": "markdown",
   "id": "79c447cd",
   "metadata": {},
   "source": [
    "Cuando se da una muestra suficientemente grande de alguna población, las distribuciones de muestreo de la mayoría de las estadísticas tenderán a la normalidad.\n",
    "\n",
    "El Teorema de Límite Central nos dice que si una muestra es lo suficientemente grande, inicialmente disminuiremos la variabilidad de muestreo, y la distribución tenderá a verse como curva de campana. Esto es lo que impulsa la inferencia estadística basada en el diseño, o lo que en ocasiones se denomina como inferencia estadística frecuente. Es decir, una característica de las distribuciones de muestreo, incluyendo valores estadísticos complejos (correlación y regresión líneal) tienden a ser normales y a centrarse en el valor verdadero, entre mayor la muestra menor variabilidad habra, y habra una distribución más simetrica.  "
   ]
  },
  {
   "cell_type": "markdown",
   "id": "2cdf808e",
   "metadata": {},
   "source": [
    "# ¿Cómo hacer una inferencia poblacional basada en una sola distribución de muestra?\n",
    "\n",
    "En la realidad, en investigación y analisis de datos no podemos tomar muchas muestras, solo podremos tomar casi siempre uno por lo costoso que esto puede resultar, y tendremos que hacer las inferencias sobre la población basados en esa unica muestra que tomamos, por eso es tan importante el diseño de nuestro estudio. \n",
    "\n",
    "Cundo estamos hablando de hacer inferencias sobre una población primero debemos hablar sobre las caracteristicas que vamos a evaluar de esa población. \n",
    "\n",
    "Una clave para hacer nuestras inferencias, es la noción de normalidad de la distribución de muestreo (distribución campana), sabiendo ya de antemano que a medida que la muestra sea más grande habrá menos variabilidad.\n",
    "\n",
    "## ¿Qué hariamos si la distribución de muestreo no es aproximadamente normal?\n",
    "\n",
    "Para esta respuesta se pueden observar otros enfoques inferenciales para estos casos más adelante en el curso. \n",
    "\n",
    "\n",
    "---------------------------------------"
   ]
  },
  {
   "cell_type": "markdown",
   "id": "6640426f",
   "metadata": {},
   "source": [
    "## Paso a Paso Distribuciones Muestrales Normales\n",
    "\n",
    "1. Calculamos una estimación puntual. Se trata de una estimación de un parámetro de intereses para la población en general. En este punto hablariamos de calcular una estimación PUNTUAL IMPARCIAL DEL PARAMETRO DE INTERÉS, ¿qué quiere decir esto? Significa es que el promedio de todos los posibles valores para esa estimación a través de muestras repetidas hipotetica es igual al valor del parámetro verdadero, este valor es conocido como VALOR ESPERADO DE ESTIMACIÓN PUNTUAL. En sintesis, una distribución puntual "
   ]
  }
 ],
 "metadata": {
  "kernelspec": {
   "display_name": "Python 3 (ipykernel)",
   "language": "python",
   "name": "python3"
  },
  "language_info": {
   "codemirror_mode": {
    "name": "ipython",
    "version": 3
   },
   "file_extension": ".py",
   "mimetype": "text/x-python",
   "name": "python",
   "nbconvert_exporter": "python",
   "pygments_lexer": "ipython3",
   "version": "3.9.7"
  }
 },
 "nbformat": 4,
 "nbformat_minor": 5
}
