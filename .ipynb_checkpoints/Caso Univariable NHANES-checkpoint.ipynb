{
 "cells": [
  {
   "cell_type": "markdown",
   "id": "2110b930",
   "metadata": {},
   "source": [
    "## Estudio de Caso NHANES\n",
    "\n",
    "Realización de análisis básico con datos univariantes del estudio NHANES."
   ]
  },
  {
   "cell_type": "code",
   "execution_count": null,
   "id": "909cd121",
   "metadata": {},
   "outputs": [],
   "source": [
    "%matplotlib inline # Añadir los gráficos en el cuaderno, se usa dentro de los cuadernos jupyter\n",
    "import matplotlib.pyplot as plt\n",
    "import seaborn as sns\n",
    "import pandas as pd\n",
    "import numpy as np"
   ]
  }
 ],
 "metadata": {
  "kernelspec": {
   "display_name": "Python 3 (ipykernel)",
   "language": "python",
   "name": "python3"
  },
  "language_info": {
   "codemirror_mode": {
    "name": "ipython",
    "version": 3
   },
   "file_extension": ".py",
   "mimetype": "text/x-python",
   "name": "python",
   "nbconvert_exporter": "python",
   "pygments_lexer": "ipython3",
   "version": "3.9.7"
  }
 },
 "nbformat": 4,
 "nbformat_minor": 5
}
