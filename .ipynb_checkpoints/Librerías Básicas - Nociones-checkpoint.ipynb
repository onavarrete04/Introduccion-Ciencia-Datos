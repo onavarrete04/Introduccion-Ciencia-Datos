{
 "cells": [
  {
   "cell_type": "markdown",
   "id": "04020e4e",
   "metadata": {},
   "source": [
    "# Numpy\n",
    "\n",
    "Matrices, es una cuadricula de valores entenos no negativos, que dan el largo y largo"
   ]
  },
  {
   "cell_type": "code",
   "execution_count": 1,
   "id": "8baafc37",
   "metadata": {},
   "outputs": [],
   "source": [
    "import numpy as np"
   ]
  },
  {
   "cell_type": "code",
   "execution_count": 8,
   "id": "80116436",
   "metadata": {},
   "outputs": [
    {
     "name": "stdout",
     "output_type": "stream",
     "text": [
      "(3, 1)\n"
     ]
    }
   ],
   "source": [
    "a = np.array([1,2,3]) # objeto básico de matriz usando el objeto lista\n",
    "\n",
    "type(a)\n",
    "\n",
    "a = np.array([[1],[2],[3]])\n",
    "print(np.shape(a))"
   ]
  },
  {
   "cell_type": "markdown",
   "id": "11fb3d19",
   "metadata": {},
   "source": [
    "Una de las carácteristicas de Numpy es que podemos ver la matriz que hemos creado"
   ]
  },
  {
   "cell_type": "code",
   "execution_count": 3,
   "id": "4fdf7d24",
   "metadata": {},
   "outputs": [
    {
     "name": "stdout",
     "output_type": "stream",
     "text": [
      "(3,)\n"
     ]
    }
   ],
   "source": [
    "print(np.shape(a))\n",
    "\n",
    "# -> (3,) -> muestra que es un objeto unidimensional"
   ]
  },
  {
   "cell_type": "code",
   "execution_count": 4,
   "id": "58c68cdf",
   "metadata": {},
   "outputs": [
    {
     "name": "stdout",
     "output_type": "stream",
     "text": [
      "(2, 2)\n"
     ]
    }
   ],
   "source": [
    "# matriz doble\n",
    "b = np.array([[1,2],[3,4]])\n",
    "\n",
    "print(np.shape(b))"
   ]
  },
  {
   "cell_type": "code",
   "execution_count": 6,
   "id": "a9f73185",
   "metadata": {},
   "outputs": [
    {
     "name": "stdout",
     "output_type": "stream",
     "text": [
      "[[0. 0.]\n",
      " [0. 0.]\n",
      " [0. 0.]]\n",
      "(3, 2)\n"
     ]
    }
   ],
   "source": [
    "# matriz con todos los ceros\n",
    "\n",
    "c = np.zeros((3,2))# 3 = elementos, 2 = dimensiones\n",
    "\n",
    "print(c)\n",
    "print(np.shape(c))"
   ]
  },
  {
   "cell_type": "code",
   "execution_count": 14,
   "id": "2e485940",
   "metadata": {},
   "outputs": [
    {
     "name": "stdout",
     "output_type": "stream",
     "text": [
      "[[5 5 5]\n",
      " [5 5 5]\n",
      " [5 5 5]]\n"
     ]
    }
   ],
   "source": [
    "e = np.full((3,3),5) # full recibe dos parametros, las dimensiones y elementos, y el valor que queremos mostrar\n",
    "\n",
    "print(e)"
   ]
  },
  {
   "cell_type": "code",
   "execution_count": 25,
   "id": "c35dd84e",
   "metadata": {},
   "outputs": [
    {
     "name": "stdout",
     "output_type": "stream",
     "text": [
      "[[0.53510435 0.48479161 0.50974305]\n",
      " [0.53168864 0.21520457 0.21083152]\n",
      " [0.25719768 0.41011942 0.51897401]]\n"
     ]
    }
   ],
   "source": [
    "g = np.random.random((int(3),int(3)))\n",
    "\n",
    "print(g)"
   ]
  },
  {
   "cell_type": "code",
   "execution_count": 31,
   "id": "867ad94c",
   "metadata": {},
   "outputs": [
    {
     "name": "stdout",
     "output_type": "stream",
     "text": [
      "0.7764063494593657\n"
     ]
    }
   ],
   "source": [
    "print(np.random.random())"
   ]
  },
  {
   "cell_type": "markdown",
   "id": "cc058da2",
   "metadata": {},
   "source": [
    "# Index"
   ]
  },
  {
   "cell_type": "code",
   "execution_count": 37,
   "id": "04956e00",
   "metadata": {},
   "outputs": [
    {
     "name": "stdout",
     "output_type": "stream",
     "text": [
      "[[2 2 2]\n",
      " [2 2 2]\n",
      " [2 2 2]\n",
      " [2 2 2]]\n"
     ]
    }
   ],
   "source": [
    "h = np.full((4,3),np.random.randint(4))\n",
    "\n",
    "print(h)"
   ]
  },
  {
   "cell_type": "code",
   "execution_count": 43,
   "id": "2c19f360",
   "metadata": {},
   "outputs": [
    {
     "name": "stdout",
     "output_type": "stream",
     "text": [
      "[[ 1  2  3  4]\n",
      " [ 5  6  7  8]\n",
      " [ 9 10 11 12]]\n"
     ]
    }
   ],
   "source": [
    "h = np.array([[1,2,3,4],\n",
    "              [5,6,7,8],\n",
    "              [9,10,11,12]])\n",
    "\n",
    "print(h)"
   ]
  },
  {
   "cell_type": "code",
   "execution_count": 50,
   "id": "d4a24702",
   "metadata": {},
   "outputs": [
    {
     "name": "stdout",
     "output_type": "stream",
     "text": [
      "[[2 3]\n",
      " [6 7]]\n"
     ]
    }
   ],
   "source": [
    "\n",
    "### Slice array to make a 2x2 sub-array\n",
    "i = h[:2, 1:3]\n",
    "\n",
    "print(i)\n"
   ]
  },
  {
   "cell_type": "code",
   "execution_count": 51,
   "id": "2db6bb6c",
   "metadata": {},
   "outputs": [
    {
     "name": "stdout",
     "output_type": "stream",
     "text": [
      "[[  1 333   3   4]\n",
      " [  5   6   7   8]\n",
      " [  9  10  11  12]]\n"
     ]
    }
   ],
   "source": [
    "# modificando la variable i y viendo las consecuencias\n",
    "# en la variable h\n",
    "\n",
    "i[0,0] = 333\n",
    "\n",
    "print(h)\n",
    "\n",
    "# en este caso como la matriz es una variable generada por\n",
    "# el array h, lo que pasa es que si modificamos el \n",
    "# subconjunto de la variable i, se modificara, la h\n",
    "# porque la h esta definida como una variable para i"
   ]
  },
  {
   "cell_type": "code",
   "execution_count": 53,
   "id": "2b1b65f6",
   "metadata": {},
   "outputs": [
    {
     "name": "stdout",
     "output_type": "stream",
     "text": [
      "3\n",
      "5\n"
     ]
    }
   ],
   "source": []
  },
  {
   "cell_type": "code",
   "execution_count": null,
   "id": "2ceb9ccd",
   "metadata": {},
   "outputs": [],
   "source": []
  }
 ],
 "metadata": {
  "kernelspec": {
   "display_name": "Python 3 (ipykernel)",
   "language": "python",
   "name": "python3"
  },
  "language_info": {
   "codemirror_mode": {
    "name": "ipython",
    "version": 3
   },
   "file_extension": ".py",
   "mimetype": "text/x-python",
   "name": "python",
   "nbconvert_exporter": "python",
   "pygments_lexer": "ipython3",
   "version": "3.9.7"
  }
 },
 "nbformat": 4,
 "nbformat_minor": 5
}
