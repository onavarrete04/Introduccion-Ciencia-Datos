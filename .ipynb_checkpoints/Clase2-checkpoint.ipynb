{
 "cells": [
  {
   "cell_type": "markdown",
   "id": "5bd92a35",
   "metadata": {},
   "source": [
    "## Clase 2. Lectura y exploración de datos"
   ]
  },
  {
   "cell_type": "markdown",
   "id": "25b2ceed",
   "metadata": {},
   "source": [
    "### Terminología\n"
   ]
  },
  {
   "cell_type": "markdown",
   "id": "f23a83d3",
   "metadata": {},
   "source": [
    "Las estadistica ayuda a generar análisis de datos, todos los días estamos hablando de resúmenes numéricos o gráficos de una colección de datos\n",
    "\n",
    "Pero el campo de las estadisticas es la disciplina académica que se centra en la metodología de investigación. "
   ]
  },
  {
   "cell_type": "markdown",
   "id": "65f1b5b7",
   "metadata": {},
   "source": [
    "* Uno de los elementos importantes dentro de la estádistica es la reducción de datos y que esta sea comprensible para el humano. \n",
    "\n",
    "* Los datos pueden ser engañosos, entonces es necesario aplicar metodologías para evaluar si los resultados de los datos se basan en evidencias significativas. \n",
    "\n",
    "* En estádistica nunca el 100% de los datos  son precisos pero permiten cuantificar hallazgos reales.\n",
    "\n",
    "* El margen de error es una idea sobre la discrepancia o el factor de error que pueden contener los datos. \n",
    "\n",
    "En el campo estadístico el objetivo final de cualqueir análisis estadístico es la toma de decisiones basados en información disminuyendo la incertidumbre. "
   ]
  },
  {
   "cell_type": "markdown",
   "id": "0e4bc03b",
   "metadata": {},
   "source": [
    "### Variación de datos\n"
   ]
  },
  {
   "cell_type": "markdown",
   "id": "5be784b7",
   "metadata": {},
   "source": [
    "En la estadistica hay datos de obtener, y existen otro tipo de datos que son complejos por su dinamismo, por ejemplo, la presión arterial cambia cada minuto, también la personalidad es un elemento dificil de medir entre otros elementos.\n",
    "\n",
    "Este elemento aún no es muy claro se pretende abordar más adelante\n"
   ]
  },
  {
   "cell_type": "markdown",
   "id": "60629852",
   "metadata": {},
   "source": [
    "## Datos no probabilisticos o muestras no probabilisticas\n",
    "\n",
    "Son datos o conjuntos de datos que posiblemente no cumplen con los requisitos dados y pueden tener un sesgo (Facebook, twter en base a publicaciones de terceros) y debe haber un cuestionamiento si estas metricas son teoricamente solidas para cuantificar el sesgo potencial. \n",
    "\n"
   ]
  },
  {
   "cell_type": "code",
   "execution_count": null,
   "id": "596b7a29",
   "metadata": {},
   "outputs": [],
   "source": []
  }
 ],
 "metadata": {
  "kernelspec": {
   "display_name": "Python 3 (ipykernel)",
   "language": "python",
   "name": "python3"
  },
  "language_info": {
   "codemirror_mode": {
    "name": "ipython",
    "version": 3
   },
   "file_extension": ".py",
   "mimetype": "text/x-python",
   "name": "python",
   "nbconvert_exporter": "python",
   "pygments_lexer": "ipython3",
   "version": "3.9.7"
  }
 },
 "nbformat": 4,
 "nbformat_minor": 5
}
