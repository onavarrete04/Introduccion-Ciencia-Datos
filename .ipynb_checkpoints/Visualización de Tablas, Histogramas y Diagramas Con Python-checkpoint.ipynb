{
 "cells": [
  {
   "cell_type": "markdown",
   "id": "7dfd9c99",
   "metadata": {},
   "source": [
    "## Tablas, Histogramas y Diagramas de Caja\n",
    "\n",
    "Análisis de datos exploratorios.\n",
    "\n",
    "Una de las formás más comunes para trabajar con los datos es comenzar a representarlos de manera gráfica para hacernos impresiones de ellos, esto también nos ayudará a hacer preguntas más interesantes sobre los mismos. "
   ]
  },
  {
   "cell_type": "code",
   "execution_count": null,
   "id": "06275cfd",
   "metadata": {},
   "outputs": [],
   "source": [
    "# Trabajando con paquete seaborn y matplotlib\n",
    "\n",
    "import seaborn as sns # Para Gráficos\n",
    "import matplotlib.pyplot as plt # Mostrar Gráficos\n",
    "\n",
    "# Carga un conjunto de datos\n",
    "\n",
    "tips_data = sns.load_dataset(\"tips\")"
   ]
  }
 ],
 "metadata": {
  "kernelspec": {
   "display_name": "Python 3 (ipykernel)",
   "language": "python",
   "name": "python3"
  },
  "language_info": {
   "codemirror_mode": {
    "name": "ipython",
    "version": 3
   },
   "file_extension": ".py",
   "mimetype": "text/x-python",
   "name": "python",
   "nbconvert_exporter": "python",
   "pygments_lexer": "ipython3",
   "version": "3.9.7"
  }
 },
 "nbformat": 4,
 "nbformat_minor": 5
}
