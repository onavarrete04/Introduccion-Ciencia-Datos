{
 "cells": [
  {
   "cell_type": "code",
   "execution_count": 3,
   "id": "a7fbf87f",
   "metadata": {},
   "outputs": [
    {
     "name": "stdout",
     "output_type": "stream",
     "text": [
      "Deme segundos174452\n",
      "Horas  48  h 27 m 32\n"
     ]
    }
   ],
   "source": [
    "segundos = int(input(\"Deme segundos\"))\n",
    "\n",
    "minutos = segundos // 60 # pasamos segundos a minutos\n",
    "segundos_resto = segundos % 60  # segundos que sobran\n",
    "\n",
    "horas = minutos//60 #pasamos minutos a horas\n",
    "minutos_resto = minutos % 60 # minutos que sobran\n",
    "\n",
    "\n",
    "print(\"Horas \",horas,\" h\", minutos_resto, \"m\", segundos_resto)\n"
   ]
  },
  {
   "cell_type": "code",
   "execution_count": 4,
   "id": "e712ca4e",
   "metadata": {},
   "outputs": [
    {
     "data": {
      "text/plain": [
       "'\\nDivisión sin resto\\nResto de la división\\n\\n'"
      ]
     },
     "execution_count": 4,
     "metadata": {},
     "output_type": "execute_result"
    }
   ],
   "source": [
    "\"\"\"\n",
    "División sin resto\n",
    "Resto de la división\n",
    "\n",
    "\"\"\""
   ]
  },
  {
   "cell_type": "code",
   "execution_count": 5,
   "id": "0218a8b3",
   "metadata": {},
   "outputs": [
    {
     "data": {
      "text/plain": [
       "2.5"
      ]
     },
     "execution_count": 5,
     "metadata": {},
     "output_type": "execute_result"
    }
   ],
   "source": [
    "5/2"
   ]
  },
  {
   "cell_type": "code",
   "execution_count": 7,
   "id": "c330d514",
   "metadata": {},
   "outputs": [
    {
     "data": {
      "text/plain": [
       "2"
      ]
     },
     "execution_count": 7,
     "metadata": {},
     "output_type": "execute_result"
    }
   ],
   "source": [
    "5//2 # da numero sin decimales"
   ]
  },
  {
   "cell_type": "code",
   "execution_count": 8,
   "id": "bb8ce04d",
   "metadata": {},
   "outputs": [
    {
     "data": {
      "text/plain": [
       "1"
      ]
     },
     "execution_count": 8,
     "metadata": {},
     "output_type": "execute_result"
    }
   ],
   "source": [
    "5 % 2 # lo que falta"
   ]
  },
  {
   "cell_type": "code",
   "execution_count": 9,
   "id": "055e6bdd",
   "metadata": {},
   "outputs": [
    {
     "data": {
      "text/plain": [
       "3.3333333333333335"
      ]
     },
     "execution_count": 9,
     "metadata": {},
     "output_type": "execute_result"
    }
   ],
   "source": [
    "10/3"
   ]
  },
  {
   "cell_type": "code",
   "execution_count": 10,
   "id": "c03e78ab",
   "metadata": {},
   "outputs": [
    {
     "data": {
      "text/plain": [
       "3"
      ]
     },
     "execution_count": 10,
     "metadata": {},
     "output_type": "execute_result"
    }
   ],
   "source": [
    "10 // 3"
   ]
  },
  {
   "cell_type": "code",
   "execution_count": 12,
   "id": "05587286",
   "metadata": {},
   "outputs": [
    {
     "data": {
      "text/plain": [
       "1"
      ]
     },
     "execution_count": 12,
     "metadata": {},
     "output_type": "execute_result"
    }
   ],
   "source": [
    "10 % 3 "
   ]
  },
  {
   "cell_type": "code",
   "execution_count": 17,
   "id": "20c97536",
   "metadata": {},
   "outputs": [
    {
     "name": "stdout",
     "output_type": "stream",
     "text": [
      "Cuantos niños hay?50\n",
      "cuantos caramelos hay500\n",
      "Son de a  10  Sobran 0\n"
     ]
    }
   ],
   "source": [
    "ninos = int(input(\"Cuantos niños hay?\"))\n",
    "caramelos = int(input(\"cuantos caramelos hay\"))\n",
    "\n",
    "cantidad_nino = caramelos//ninos\n",
    "sobrantes = caramelos % ninos\n",
    "\n",
    "print(\"Son de a \",cantidad_nino, \" Sobran\", sobrantes)\n"
   ]
  },
  {
   "cell_type": "code",
   "execution_count": 20,
   "id": "0d9c9389",
   "metadata": {},
   "outputs": [
    {
     "name": "stdout",
     "output_type": "stream",
     "text": [
      "ingrese un numero7\n",
      "7  el numero es impar\n"
     ]
    }
   ],
   "source": [
    "numero = int(input(\"ingrese un numero\"))\n",
    "\n",
    "if numero % 2 == 0:\n",
    "    print(numero,\" el numero es par\")\n",
    "else:\n",
    "    print(numero, \" el numero es impar\")"
   ]
  },
  {
   "cell_type": "code",
   "execution_count": 31,
   "id": "74de9f55",
   "metadata": {},
   "outputs": [
    {
     "name": "stdout",
     "output_type": "stream",
     "text": [
      "ingrese un numero30\n",
      "El numero  30  es multiplo de 3 y de 5\n"
     ]
    }
   ],
   "source": [
    "numero = int(input(\"ingrese un numero\"))\n",
    "\n",
    "if numero % 3 == 0 or numero % 5 == 0:\n",
    "    if numero %3==0 and numero % 5 == 0:\n",
    "        print(\"El numero \",numero, \" es multiplo de 3 y de 5\")\n",
    "    elif numero % 3 ==0:\n",
    "        print(\"El numero\",numero,\"Es multiplo de 3\")\n",
    "    else:\n",
    "        print(\"El numero\",numero,\" Es multiplo de 5\")\n",
    "        "
   ]
  },
  {
   "cell_type": "code",
   "execution_count": 40,
   "id": "8b89f12d",
   "metadata": {},
   "outputs": [
    {
     "name": "stdout",
     "output_type": "stream",
     "text": [
      "numero a3\n",
      "numero b2\n",
      "numero c1\n",
      "El mayor es a 3\n"
     ]
    }
   ],
   "source": [
    "a = int(input(\"numero a\"))\n",
    "b = int(input(\"numero b\"))\n",
    "c = int(input(\"numero c\"))\n",
    "\n",
    "if a != b and b != c:\n",
    "    if a > b and a > c:\n",
    "        print(\"El mayor es a\",a)\n",
    "    elif b > a and b > c:\n",
    "            print(\"El mayor es b\",b)\n",
    "    else:\n",
    "        print(\"el mayor es c\",c)"
   ]
  },
  {
   "cell_type": "code",
   "execution_count": 46,
   "id": "07516071",
   "metadata": {},
   "outputs": [
    {
     "name": "stdout",
     "output_type": "stream",
     "text": [
      "introduzca su contrañea22\n",
      "repita su contraseña22\n",
      "repita su contraseña22\n",
      "Su contraseña en ambas ocasiones ha sido correcta\n",
      "si\n"
     ]
    }
   ],
   "source": [
    "contraseña = str(input(\"introduzca su contrañea\"))\n",
    "\n",
    "while True:\n",
    "    for i in range(2):\n",
    "        a = str(input(\"repita su contraseña\"))\n",
    "        if contraseña != a:\n",
    "            print(\"contraseña incorrecta\")\n",
    "            break\n",
    "                   \n",
    "    print(\"Su contraseña en ambas ocasiones ha sido correcta\")    \n",
    "    break\n"
   ]
  },
  {
   "cell_type": "code",
   "execution_count": 50,
   "id": "7daa3bc9",
   "metadata": {},
   "outputs": [
    {
     "name": "stdout",
     "output_type": "stream",
     "text": [
      "['suana', 18]\n",
      "['Sara', 22]\n"
     ]
    }
   ],
   "source": [
    "nombres = [\"susana\",\"pedro\",\"clara\",\"pedro\"]\n",
    "edades = [18,19,20,21]\n",
    "\n",
    "amigos=[[\"suana\",18],\n",
    "       [\"pedro\",18],\n",
    "       [\"clara\",20],\n",
    "       [\"pedro\",21]]\n",
    "\n",
    "print(amigos[0])\n",
    "\n",
    "amigos.append([\"Sara\"])\n",
    "amigos[4].append(22)\n",
    "\n",
    "print(amigos[4])"
   ]
  },
  {
   "cell_type": "code",
   "execution_count": 52,
   "id": "4050433d",
   "metadata": {},
   "outputs": [
    {
     "name": "stdout",
     "output_type": "stream",
     "text": [
      "suana     : 18\n",
      "pedro     : 18\n",
      "clara     : 20\n",
      "pedro     : 21\n",
      "Sara      : 22\n"
     ]
    }
   ],
   "source": [
    "for amigo in amigos:\n",
    "    print(\"{:10}: {:1}\".format(amigo[0],amigo[1]))"
   ]
  },
  {
   "cell_type": "code",
   "execution_count": 57,
   "id": "6e503c24",
   "metadata": {},
   "outputs": [
    {
     "data": {
      "text/plain": [
       "[[[['a', 2], ['b', 3], ['c', 4], ['d', 3], ['e', 4]],\n",
       "  [['f', 9], ['g', 2], ['j', 8], ['i', 1], ['j', 5]],\n",
       "  [['k', 1], ['l', 2], ['m', 3], ['n', 9], ['ñ', 2]],\n",
       "  [['o', 2], ['p', 2], ['q', 6], ['r', 3], ['s', 1]],\n",
       "  [['t', 5], ['u', 9], ['v', 8], ['w', 1], ['x', 4]],\n",
       "  [['y', 3], ['z', 6], ['', 0], ['', 0], ['', 0]]]]"
      ]
     },
     "execution_count": 57,
     "metadata": {},
     "output_type": "execute_result"
    }
   ],
   "source": [
    "[[[[\"a\",2],[\"b\",3],[\"c\",4],[\"d\",3],[\"e\",4]],\n",
    " [[\"f\",9],[\"g\",2],[\"j\",8],[\"i\",1],[\"j\",5]],\n",
    " [[\"k\",1],[\"l\",2],[\"m\",3],[\"n\",9],[\"ñ\",2]],\n",
    " [[\"o\",2],[\"p\",2],[\"q\",6],[\"r\",3],[\"s\",1]],\n",
    " [[\"t\",5],[\"u\",9],[\"v\",8],[\"w\",1],[\"x\",4]],\n",
    " [[\"y\",3],[\"z\",6],[\"\",0],[\"\",0],[\"\",0]]]]"
   ]
  },
  {
   "cell_type": "code",
   "execution_count": 11,
   "id": "b35587c3",
   "metadata": {},
   "outputs": [
    {
     "name": "stdout",
     "output_type": "stream",
     "text": [
      "a\n",
      "b\n",
      "c\n",
      "d\n",
      "e\n",
      "f\n",
      "g\n",
      "h\n",
      "i\n"
     ]
    },
    {
     "ename": "TypeError",
     "evalue": "unsupported operand type(s) for -: 'str' and 'int'",
     "output_type": "error",
     "traceback": [
      "\u001b[0;31m---------------------------------------------------------------------------\u001b[0m",
      "\u001b[0;31mTypeError\u001b[0m                                 Traceback (most recent call last)",
      "\u001b[0;32m/tmp/ipykernel_15013/3081158094.py\u001b[0m in \u001b[0;36m<module>\u001b[0;34m\u001b[0m\n\u001b[1;32m      4\u001b[0m     \u001b[0mprint\u001b[0m\u001b[0;34m(\u001b[0m\u001b[0mlista\u001b[0m\u001b[0;34m[\u001b[0m\u001b[0mi\u001b[0m\u001b[0;34m]\u001b[0m\u001b[0;34m)\u001b[0m\u001b[0;34m\u001b[0m\u001b[0;34m\u001b[0m\u001b[0m\n\u001b[1;32m      5\u001b[0m \u001b[0;32mfor\u001b[0m \u001b[0mx\u001b[0m \u001b[0;32min\u001b[0m \u001b[0mlista\u001b[0m\u001b[0;34m:\u001b[0m\u001b[0;34m\u001b[0m\u001b[0;34m\u001b[0m\u001b[0m\n\u001b[0;32m----> 6\u001b[0;31m     \u001b[0mprint\u001b[0m\u001b[0;34m(\u001b[0m\u001b[0mlista\u001b[0m\u001b[0;34m[\u001b[0m\u001b[0mx\u001b[0m\u001b[0;34m-\u001b[0m\u001b[0;36m1\u001b[0m\u001b[0;34m]\u001b[0m\u001b[0;34m)\u001b[0m\u001b[0;34m\u001b[0m\u001b[0;34m\u001b[0m\u001b[0m\n\u001b[0m",
      "\u001b[0;31mTypeError\u001b[0m: unsupported operand type(s) for -: 'str' and 'int'"
     ]
    }
   ],
   "source": [
    "lista = [\"a\",\"b\",\"c\",\"d\",\"e\",\"f\",\"g\",\"h\",\"i\",\"j\"]\n",
    "\n",
    "for i in range(len(lista)-1):\n",
    "    print(lista[i])\n",
    "for x in lista:\n",
    "    print(lista[x])"
   ]
  },
  {
   "cell_type": "code",
   "execution_count": 6,
   "id": "3ba7cbe9",
   "metadata": {},
   "outputs": [
    {
     "data": {
      "text/plain": [
       "10"
      ]
     },
     "execution_count": 6,
     "metadata": {},
     "output_type": "execute_result"
    }
   ],
   "source": [
    "len(lista)"
   ]
  },
  {
   "cell_type": "code",
   "execution_count": 9,
   "id": "72afa81e",
   "metadata": {},
   "outputs": [
    {
     "data": {
      "text/plain": [
       "10"
      ]
     },
     "execution_count": 9,
     "metadata": {},
     "output_type": "execute_result"
    }
   ],
   "source": [
    "lista[9]"
   ]
  },
  {
   "cell_type": "code",
   "execution_count": 1,
   "id": "c1f2c98a",
   "metadata": {},
   "outputs": [
    {
     "data": {
      "text/plain": [
       "(2, 1)"
      ]
     },
     "execution_count": 1,
     "metadata": {},
     "output_type": "execute_result"
    }
   ],
   "source": [
    "def compareTriplets(a, b):\n",
    "    # Write your code here\n",
    "    alice = 0\n",
    "    bob = 0\n",
    "    \n",
    "    for i in range(3):\n",
    "        \n",
    "        if a[i] > b[i]:\n",
    "            alice += 1\n",
    "        if b[i] > a[i]:\n",
    "            bob += 1\n",
    "                \n",
    "    return alice, bob \n",
    "\n",
    "compareTriplets([17, 28, 30],[99, 16, 8])"
   ]
  },
  {
   "cell_type": "code",
   "execution_count": 2,
   "id": "b541d10a",
   "metadata": {},
   "outputs": [
    {
     "name": "stdout",
     "output_type": "stream",
     "text": [
      "1000000001\n",
      "2000000003\n",
      "3000000006\n",
      "4000000010\n",
      "5000000015\n"
     ]
    },
    {
     "data": {
      "text/plain": [
       "5000000015"
      ]
     },
     "execution_count": 2,
     "metadata": {},
     "output_type": "execute_result"
    }
   ],
   "source": [
    "def aVeryBigSum(ar):\n",
    "    # Write your code here\n",
    "    contador = 0\n",
    "    for i in range(1,ar+1):\n",
    "        contador += 1000000000 + i\n",
    "        print(contador)\n",
    "    return contador    \n",
    "aVeryBigSum(5)"
   ]
  },
  {
   "cell_type": "code",
   "execution_count": 3,
   "id": "2ba14cc2",
   "metadata": {},
   "outputs": [
    {
     "data": {
      "text/plain": [
       "5000000015"
      ]
     },
     "execution_count": 3,
     "metadata": {},
     "output_type": "execute_result"
    }
   ],
   "source": [
    "def aVeryBigSum(ar):\n",
    "    # Write your code here\n",
    "    contador = sum([1000000000 + i+1 for i in range(ar)])\n",
    "    return contador\n",
    "aVeryBigSum(5)"
   ]
  },
  {
   "cell_type": "code",
   "execution_count": 17,
   "id": "f33cc14d",
   "metadata": {},
   "outputs": [],
   "source": [
    "def hourglassSum(arr):\n",
    "    lista = []\n",
    "    cantidad = 0\n",
    "    \n",
    "    for i in range(1,5):\n",
    "       \n",
    "        for x in range(1,5):\n",
    "            cantidad = (arr[i-1][x-1] + arr[i-1][x] + arr[i-1][x+1] \n",
    "                        + arr[i][x] \n",
    "                        + arr[i+1][x-1] + arr[i+1][x] + arr[i+1][x+1])\n",
    "    \n",
    "            lista.append(cantidad)    \n",
    "            \n",
    "    lista.sort(reverse=True)        \n",
    "    return lista[0]"
   ]
  },
  {
   "cell_type": "code",
   "execution_count": 18,
   "id": "8f9bd615",
   "metadata": {},
   "outputs": [
    {
     "name": "stdout",
     "output_type": "stream",
     "text": [
      "[0, 1, 0, 0, 0, 0]\n",
      "[1, 1, 1, 0, 0, 0]\n",
      "[0, 0, 2, 4, 4, 0]\n",
      "[0, 0, 0, 2, 0, 0]\n"
     ]
    },
    {
     "data": {
      "text/plain": [
       "19"
      ]
     },
     "execution_count": 18,
     "metadata": {},
     "output_type": "execute_result"
    }
   ],
   "source": [
    "lista = [\n",
    "    [1, 1, 1, 0, 0, 0],\n",
    "    [0, 1, 0, 0, 0, 0],\n",
    "    [1, 1, 1, 0, 0, 0],\n",
    "    [0, 0, 2, 4, 4, 0],\n",
    "    [0, 0, 0, 2, 0, 0],\n",
    "    [0, 0, 1, 2, 4, 0]\n",
    "]\n",
    "hourglassSum(lista)"
   ]
  },
  {
   "cell_type": "code",
   "execution_count": null,
   "id": "d51110a6",
   "metadata": {},
   "outputs": [],
   "source": []
  }
 ],
 "metadata": {
  "kernelspec": {
   "display_name": "Python 3 (ipykernel)",
   "language": "python",
   "name": "python3"
  },
  "language_info": {
   "codemirror_mode": {
    "name": "ipython",
    "version": 3
   },
   "file_extension": ".py",
   "mimetype": "text/x-python",
   "name": "python",
   "nbconvert_exporter": "python",
   "pygments_lexer": "ipython3",
   "version": "3.9.13"
  }
 },
 "nbformat": 4,
 "nbformat_minor": 5
}
