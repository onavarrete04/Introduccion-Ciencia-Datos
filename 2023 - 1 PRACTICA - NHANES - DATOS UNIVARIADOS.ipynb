{
 "cells": [
  {
   "cell_type": "code",
   "execution_count": 142,
   "id": "c10a2538",
   "metadata": {},
   "outputs": [
    {
     "data": {
      "text/html": [
       "<div>\n",
       "<style scoped>\n",
       "    .dataframe tbody tr th:only-of-type {\n",
       "        vertical-align: middle;\n",
       "    }\n",
       "\n",
       "    .dataframe tbody tr th {\n",
       "        vertical-align: top;\n",
       "    }\n",
       "\n",
       "    .dataframe thead th {\n",
       "        text-align: right;\n",
       "    }\n",
       "</style>\n",
       "<table border=\"1\" class=\"dataframe\">\n",
       "  <thead>\n",
       "    <tr style=\"text-align: right;\">\n",
       "      <th></th>\n",
       "      <th>SEQN</th>\n",
       "      <th>ALQ101</th>\n",
       "      <th>ALQ110</th>\n",
       "      <th>ALQ130</th>\n",
       "      <th>SMQ020</th>\n",
       "      <th>RIAGENDR</th>\n",
       "      <th>RIDAGEYR</th>\n",
       "      <th>RIDRETH1</th>\n",
       "      <th>DMDCITZN</th>\n",
       "      <th>DMDEDUC2</th>\n",
       "      <th>...</th>\n",
       "      <th>BPXSY2</th>\n",
       "      <th>BPXDI2</th>\n",
       "      <th>BMXWT</th>\n",
       "      <th>BMXHT</th>\n",
       "      <th>BMXBMI</th>\n",
       "      <th>BMXLEG</th>\n",
       "      <th>BMXARML</th>\n",
       "      <th>BMXARMC</th>\n",
       "      <th>BMXWAIST</th>\n",
       "      <th>HIQ210</th>\n",
       "    </tr>\n",
       "  </thead>\n",
       "  <tbody>\n",
       "    <tr>\n",
       "      <th>0</th>\n",
       "      <td>83732</td>\n",
       "      <td>1.0</td>\n",
       "      <td>NaN</td>\n",
       "      <td>1.0</td>\n",
       "      <td>1</td>\n",
       "      <td>1</td>\n",
       "      <td>62</td>\n",
       "      <td>3</td>\n",
       "      <td>1.0</td>\n",
       "      <td>5.0</td>\n",
       "      <td>...</td>\n",
       "      <td>124.0</td>\n",
       "      <td>64.0</td>\n",
       "      <td>94.8</td>\n",
       "      <td>184.5</td>\n",
       "      <td>27.8</td>\n",
       "      <td>43.3</td>\n",
       "      <td>43.6</td>\n",
       "      <td>35.9</td>\n",
       "      <td>101.1</td>\n",
       "      <td>2.0</td>\n",
       "    </tr>\n",
       "    <tr>\n",
       "      <th>1</th>\n",
       "      <td>83733</td>\n",
       "      <td>1.0</td>\n",
       "      <td>NaN</td>\n",
       "      <td>6.0</td>\n",
       "      <td>1</td>\n",
       "      <td>1</td>\n",
       "      <td>53</td>\n",
       "      <td>3</td>\n",
       "      <td>2.0</td>\n",
       "      <td>3.0</td>\n",
       "      <td>...</td>\n",
       "      <td>140.0</td>\n",
       "      <td>88.0</td>\n",
       "      <td>90.4</td>\n",
       "      <td>171.4</td>\n",
       "      <td>30.8</td>\n",
       "      <td>38.0</td>\n",
       "      <td>40.0</td>\n",
       "      <td>33.2</td>\n",
       "      <td>107.9</td>\n",
       "      <td>NaN</td>\n",
       "    </tr>\n",
       "    <tr>\n",
       "      <th>2</th>\n",
       "      <td>83734</td>\n",
       "      <td>1.0</td>\n",
       "      <td>NaN</td>\n",
       "      <td>NaN</td>\n",
       "      <td>1</td>\n",
       "      <td>1</td>\n",
       "      <td>78</td>\n",
       "      <td>3</td>\n",
       "      <td>1.0</td>\n",
       "      <td>3.0</td>\n",
       "      <td>...</td>\n",
       "      <td>132.0</td>\n",
       "      <td>44.0</td>\n",
       "      <td>83.4</td>\n",
       "      <td>170.1</td>\n",
       "      <td>28.8</td>\n",
       "      <td>35.6</td>\n",
       "      <td>37.0</td>\n",
       "      <td>31.0</td>\n",
       "      <td>116.5</td>\n",
       "      <td>2.0</td>\n",
       "    </tr>\n",
       "    <tr>\n",
       "      <th>3</th>\n",
       "      <td>83735</td>\n",
       "      <td>2.0</td>\n",
       "      <td>1.0</td>\n",
       "      <td>1.0</td>\n",
       "      <td>2</td>\n",
       "      <td>2</td>\n",
       "      <td>56</td>\n",
       "      <td>3</td>\n",
       "      <td>1.0</td>\n",
       "      <td>5.0</td>\n",
       "      <td>...</td>\n",
       "      <td>134.0</td>\n",
       "      <td>68.0</td>\n",
       "      <td>109.8</td>\n",
       "      <td>160.9</td>\n",
       "      <td>42.4</td>\n",
       "      <td>38.5</td>\n",
       "      <td>37.7</td>\n",
       "      <td>38.3</td>\n",
       "      <td>110.1</td>\n",
       "      <td>2.0</td>\n",
       "    </tr>\n",
       "    <tr>\n",
       "      <th>4</th>\n",
       "      <td>83736</td>\n",
       "      <td>2.0</td>\n",
       "      <td>1.0</td>\n",
       "      <td>1.0</td>\n",
       "      <td>2</td>\n",
       "      <td>2</td>\n",
       "      <td>42</td>\n",
       "      <td>4</td>\n",
       "      <td>1.0</td>\n",
       "      <td>4.0</td>\n",
       "      <td>...</td>\n",
       "      <td>114.0</td>\n",
       "      <td>54.0</td>\n",
       "      <td>55.2</td>\n",
       "      <td>164.9</td>\n",
       "      <td>20.3</td>\n",
       "      <td>37.4</td>\n",
       "      <td>36.0</td>\n",
       "      <td>27.2</td>\n",
       "      <td>80.4</td>\n",
       "      <td>2.0</td>\n",
       "    </tr>\n",
       "  </tbody>\n",
       "</table>\n",
       "<p>5 rows × 28 columns</p>\n",
       "</div>"
      ],
      "text/plain": [
       "    SEQN  ALQ101  ALQ110  ALQ130  SMQ020  RIAGENDR  RIDAGEYR  RIDRETH1  \\\n",
       "0  83732     1.0     NaN     1.0       1         1        62         3   \n",
       "1  83733     1.0     NaN     6.0       1         1        53         3   \n",
       "2  83734     1.0     NaN     NaN       1         1        78         3   \n",
       "3  83735     2.0     1.0     1.0       2         2        56         3   \n",
       "4  83736     2.0     1.0     1.0       2         2        42         4   \n",
       "\n",
       "   DMDCITZN  DMDEDUC2  ...  BPXSY2  BPXDI2  BMXWT  BMXHT  BMXBMI  BMXLEG  \\\n",
       "0       1.0       5.0  ...   124.0    64.0   94.8  184.5    27.8    43.3   \n",
       "1       2.0       3.0  ...   140.0    88.0   90.4  171.4    30.8    38.0   \n",
       "2       1.0       3.0  ...   132.0    44.0   83.4  170.1    28.8    35.6   \n",
       "3       1.0       5.0  ...   134.0    68.0  109.8  160.9    42.4    38.5   \n",
       "4       1.0       4.0  ...   114.0    54.0   55.2  164.9    20.3    37.4   \n",
       "\n",
       "   BMXARML  BMXARMC  BMXWAIST  HIQ210  \n",
       "0     43.6     35.9     101.1     2.0  \n",
       "1     40.0     33.2     107.9     NaN  \n",
       "2     37.0     31.0     116.5     2.0  \n",
       "3     37.7     38.3     110.1     2.0  \n",
       "4     36.0     27.2      80.4     2.0  \n",
       "\n",
       "[5 rows x 28 columns]"
      ]
     },
     "execution_count": 142,
     "metadata": {},
     "output_type": "execute_result"
    }
   ],
   "source": [
    "%matplotlib inline \n",
    "import pandas as pd \n",
    "import seaborn as sns\n",
    "import matplotlib.pyplot as plt\n",
    "\n",
    "datos = pd.read_csv(\"nhanes_2015_2016.csv\")\n",
    "datos.head()"
   ]
  },
  {
   "cell_type": "code",
   "execution_count": 2,
   "id": "d79977ac",
   "metadata": {},
   "outputs": [
    {
     "data": {
      "text/html": [
       "<div>\n",
       "<style scoped>\n",
       "    .dataframe tbody tr th:only-of-type {\n",
       "        vertical-align: middle;\n",
       "    }\n",
       "\n",
       "    .dataframe tbody tr th {\n",
       "        vertical-align: top;\n",
       "    }\n",
       "\n",
       "    .dataframe thead th {\n",
       "        text-align: right;\n",
       "    }\n",
       "</style>\n",
       "<table border=\"1\" class=\"dataframe\">\n",
       "  <thead>\n",
       "    <tr style=\"text-align: right;\">\n",
       "      <th></th>\n",
       "      <th>SEQN</th>\n",
       "      <th>ALQ101</th>\n",
       "      <th>ALQ110</th>\n",
       "      <th>ALQ130</th>\n",
       "      <th>SMQ020</th>\n",
       "      <th>RIAGENDR</th>\n",
       "      <th>EDAD</th>\n",
       "      <th>RIDRETH1</th>\n",
       "      <th>DMDCITZN</th>\n",
       "      <th>NIVEL_EDUCATIVO</th>\n",
       "      <th>...</th>\n",
       "      <th>P_ARTERIAL_DIAS_2</th>\n",
       "      <th>BPXDI2</th>\n",
       "      <th>PESO_CORPORAL</th>\n",
       "      <th>BMXHT</th>\n",
       "      <th>BMXBMI</th>\n",
       "      <th>BMXLEG</th>\n",
       "      <th>BMXARML</th>\n",
       "      <th>BMXARMC</th>\n",
       "      <th>BMXWAIST</th>\n",
       "      <th>HIQ210</th>\n",
       "    </tr>\n",
       "  </thead>\n",
       "  <tbody>\n",
       "    <tr>\n",
       "      <th>0</th>\n",
       "      <td>83732</td>\n",
       "      <td>1.0</td>\n",
       "      <td>NaN</td>\n",
       "      <td>1.0</td>\n",
       "      <td>1</td>\n",
       "      <td>1</td>\n",
       "      <td>62</td>\n",
       "      <td>3</td>\n",
       "      <td>1.0</td>\n",
       "      <td>5.0</td>\n",
       "      <td>...</td>\n",
       "      <td>124.0</td>\n",
       "      <td>64.0</td>\n",
       "      <td>94.8</td>\n",
       "      <td>184.5</td>\n",
       "      <td>27.8</td>\n",
       "      <td>43.3</td>\n",
       "      <td>43.6</td>\n",
       "      <td>35.9</td>\n",
       "      <td>101.1</td>\n",
       "      <td>2.0</td>\n",
       "    </tr>\n",
       "    <tr>\n",
       "      <th>1</th>\n",
       "      <td>83733</td>\n",
       "      <td>1.0</td>\n",
       "      <td>NaN</td>\n",
       "      <td>6.0</td>\n",
       "      <td>1</td>\n",
       "      <td>1</td>\n",
       "      <td>53</td>\n",
       "      <td>3</td>\n",
       "      <td>2.0</td>\n",
       "      <td>3.0</td>\n",
       "      <td>...</td>\n",
       "      <td>140.0</td>\n",
       "      <td>88.0</td>\n",
       "      <td>90.4</td>\n",
       "      <td>171.4</td>\n",
       "      <td>30.8</td>\n",
       "      <td>38.0</td>\n",
       "      <td>40.0</td>\n",
       "      <td>33.2</td>\n",
       "      <td>107.9</td>\n",
       "      <td>NaN</td>\n",
       "    </tr>\n",
       "    <tr>\n",
       "      <th>2</th>\n",
       "      <td>83734</td>\n",
       "      <td>1.0</td>\n",
       "      <td>NaN</td>\n",
       "      <td>NaN</td>\n",
       "      <td>1</td>\n",
       "      <td>1</td>\n",
       "      <td>78</td>\n",
       "      <td>3</td>\n",
       "      <td>1.0</td>\n",
       "      <td>3.0</td>\n",
       "      <td>...</td>\n",
       "      <td>132.0</td>\n",
       "      <td>44.0</td>\n",
       "      <td>83.4</td>\n",
       "      <td>170.1</td>\n",
       "      <td>28.8</td>\n",
       "      <td>35.6</td>\n",
       "      <td>37.0</td>\n",
       "      <td>31.0</td>\n",
       "      <td>116.5</td>\n",
       "      <td>2.0</td>\n",
       "    </tr>\n",
       "    <tr>\n",
       "      <th>3</th>\n",
       "      <td>83735</td>\n",
       "      <td>2.0</td>\n",
       "      <td>1.0</td>\n",
       "      <td>1.0</td>\n",
       "      <td>2</td>\n",
       "      <td>2</td>\n",
       "      <td>56</td>\n",
       "      <td>3</td>\n",
       "      <td>1.0</td>\n",
       "      <td>5.0</td>\n",
       "      <td>...</td>\n",
       "      <td>134.0</td>\n",
       "      <td>68.0</td>\n",
       "      <td>109.8</td>\n",
       "      <td>160.9</td>\n",
       "      <td>42.4</td>\n",
       "      <td>38.5</td>\n",
       "      <td>37.7</td>\n",
       "      <td>38.3</td>\n",
       "      <td>110.1</td>\n",
       "      <td>2.0</td>\n",
       "    </tr>\n",
       "    <tr>\n",
       "      <th>4</th>\n",
       "      <td>83736</td>\n",
       "      <td>2.0</td>\n",
       "      <td>1.0</td>\n",
       "      <td>1.0</td>\n",
       "      <td>2</td>\n",
       "      <td>2</td>\n",
       "      <td>42</td>\n",
       "      <td>4</td>\n",
       "      <td>1.0</td>\n",
       "      <td>4.0</td>\n",
       "      <td>...</td>\n",
       "      <td>114.0</td>\n",
       "      <td>54.0</td>\n",
       "      <td>55.2</td>\n",
       "      <td>164.9</td>\n",
       "      <td>20.3</td>\n",
       "      <td>37.4</td>\n",
       "      <td>36.0</td>\n",
       "      <td>27.2</td>\n",
       "      <td>80.4</td>\n",
       "      <td>2.0</td>\n",
       "    </tr>\n",
       "  </tbody>\n",
       "</table>\n",
       "<p>5 rows × 28 columns</p>\n",
       "</div>"
      ],
      "text/plain": [
       "    SEQN  ALQ101  ALQ110  ALQ130  SMQ020  RIAGENDR  EDAD  RIDRETH1  DMDCITZN  \\\n",
       "0  83732     1.0     NaN     1.0       1         1    62         3       1.0   \n",
       "1  83733     1.0     NaN     6.0       1         1    53         3       2.0   \n",
       "2  83734     1.0     NaN     NaN       1         1    78         3       1.0   \n",
       "3  83735     2.0     1.0     1.0       2         2    56         3       1.0   \n",
       "4  83736     2.0     1.0     1.0       2         2    42         4       1.0   \n",
       "\n",
       "   NIVEL_EDUCATIVO  ...  P_ARTERIAL_DIAS_2  BPXDI2  PESO_CORPORAL  BMXHT  \\\n",
       "0              5.0  ...              124.0    64.0           94.8  184.5   \n",
       "1              3.0  ...              140.0    88.0           90.4  171.4   \n",
       "2              3.0  ...              132.0    44.0           83.4  170.1   \n",
       "3              5.0  ...              134.0    68.0          109.8  160.9   \n",
       "4              4.0  ...              114.0    54.0           55.2  164.9   \n",
       "\n",
       "   BMXBMI  BMXLEG  BMXARML  BMXARMC  BMXWAIST  HIQ210  \n",
       "0    27.8    43.3     43.6     35.9     101.1     2.0  \n",
       "1    30.8    38.0     40.0     33.2     107.9     NaN  \n",
       "2    28.8    35.6     37.0     31.0     116.5     2.0  \n",
       "3    42.4    38.5     37.7     38.3     110.1     2.0  \n",
       "4    20.3    37.4     36.0     27.2      80.4     2.0  \n",
       "\n",
       "[5 rows x 28 columns]"
      ]
     },
     "execution_count": 2,
     "metadata": {},
     "output_type": "execute_result"
    }
   ],
   "source": [
    "# Distribución de frecuencias, indica el numero de registros (filas) en nuestro\n",
    "# dataframe\n",
    "\n",
    "datos = datos.rename(columns=({\"DMDEDUC2\":\"NIVEL_EDUCATIVO\",\"BMXWT\":\"PESO_CORPORAL\",\n",
    "                              \"BPXSY1\":\"P_ARTERIAL_SIST_1\",\"BPXSY2\":\"P_ARTERIAL_SIST_2\",\n",
    "                               \"BPXDI1\":\"P_ARTERIAL_DIAS_1\",\"BPXSY2\":\"P_ARTERIAL_DIAS_2\",\n",
    "                               \"RIDAGEYR\":\"EDAD\"\n",
    "                              \n",
    "                              }))\n",
    "datos.head()"
   ]
  },
  {
   "cell_type": "code",
   "execution_count": 3,
   "id": "51611d70",
   "metadata": {},
   "outputs": [
    {
     "data": {
      "text/plain": [
       "SEQN   ALQ101  ALQ110  ALQ130  SMQ020  RIAGENDR  EDAD  RIDRETH1  DMDCITZN  NIVEL_EDUCATIVO  DMDMARTL  DMDHHSIZ  WTINT2YR   SDMVPSU  SDMVSTRA  INDFMPIR  P_ARTERIAL_SIST_1  P_ARTERIAL_DIAS_1  P_ARTERIAL_DIAS_2  BPXDI2  PESO_CORPORAL  BMXHT  BMXBMI  BMXLEG  BMXARML  BMXARMC  BMXWAIST  HIQ210  EDUCACION  \n",
       "83735  2.0     1.0     1.0     2       2         56    3         1.0       5.0              6.0       1         102718.00  1        131       5.00      132.0              72.0               134.0              68.0    109.8          160.9  42.4    38.5    37.7     38.3     110.1     2.0     No Indica      1\n",
       "86013  2.0     1.0     1.0     1       2         64    2         2.0       5.0              3.0       3         7791.99    1        124       3.48      122.0              74.0               126.0              78.0    76.4           168.6  26.9    38.1    37.2     32.2     96.2      2.0     No Indica      1\n",
       "84295  2.0     1.0     1.0     1       2         58    5         1.0       5.0              3.0       1         13895.12   2        119       1.18      136.0              92.0               144.0              88.0    69.7           153.8  29.5    37.8    34.6     31.2     95.6      2.0     No Indica      1\n",
       "83754  2.0     1.0     1.0     2       2         67    2         1.0       5.0              1.0       7         10495.87   1        128       0.89      124.0              76.0               116.0              64.0    117.8          164.1  43.7    34.8    38.6     42.7     123.0     2.0     No Indica      1\n",
       "83785  2.0     1.0     1.0     1       2         60    2         1.0       5.0              3.0       4         10495.87   1        128       5.00      142.0              74.0               136.0              74.0    75.6           145.2  35.9    31.0    33.1     36.0     108.0     2.0     No Indica      1\n",
       "                                                                                                                                                                                                                                                                                                                 ..\n",
       "93410  2.0     1.0     1.0     2       2         77    3         1.0       3.0              2.0       1         41696.52   1        130       2.10      120.0              58.0               122.0              50.0    100.2          162.0  38.2    38.4    37.2     38.8     117.5     2.0     Bachiller      1\n",
       "93488  2.0     1.0     1.0     2       2         47    4         1.0       4.0              1.0       5         20672.86   1        129       5.00      106.0              64.0               104.0              66.0    57.9           158.0  23.2    37.2    36.0     28.1     79.4      2.0     Universidad    1\n",
       "93524  2.0     1.0     2.0     2       2         26    1         1.0       4.0              5.0       3         28326.39   1        121       2.99      106.0              54.0               108.0              56.0    115.8          161.7  44.3    42.0    36.5     45.5     128.1     2.0     Universidad    1\n",
       "93554  2.0     1.0     1.0     1       1         54    5         1.0       4.0              1.0       3         32012.93   1        132       4.98      104.0              68.0               106.0              64.0    94.1           167.0  33.7    37.0    38.8     39.1     109.5     2.0     Universidad    1\n",
       "93664  2.0     1.0     2.0     2       1         39    1         2.0       3.0              1.0       5         25064.11   1        120       4.93      162.0              94.0               166.0              94.0    74.9           169.6  26.0    40.5    39.3     31.5     92.5      2.0     Bachiller      1\n",
       "Length: 259, dtype: int64"
      ]
     },
     "execution_count": 3,
     "metadata": {},
     "output_type": "execute_result"
    }
   ],
   "source": [
    "datos[\"EDUCACION\"] = datos.NIVEL_EDUCATIVO.replace({\n",
    "    1:\"Noveno Grado\",\n",
    "    2:\"Noveno a Undecimo Grado\",\n",
    "    3:\"Bachiller\",\n",
    "    4:\"Universidad\",\n",
    "    5:\"No Indica\",\n",
    "    9:\"Desconocido\"  \n",
    "    \n",
    "}) \n",
    "datos.value_counts().sort_values(ascending=False)"
   ]
  },
  {
   "cell_type": "code",
   "execution_count": 4,
   "id": "d4c36b37",
   "metadata": {},
   "outputs": [
    {
     "data": {
      "text/plain": [
       "261"
      ]
     },
     "execution_count": 4,
     "metadata": {},
     "output_type": "execute_result"
    }
   ],
   "source": [
    "a = datos\n",
    "datos[\"NIVEL_EDUCATIVO\"] = datos.NIVEL_EDUCATIVO.replace({\n",
    "    1:\"Noveno Grado\",\n",
    "    2:\"Noveno a Undecimo Grado\",\n",
    "    3:\"Bachiller\",\n",
    "    4:\"Universidad\",\n",
    "    5:\"No Indica\",\n",
    "    9:\"Desconocido\"  \n",
    "    \n",
    "}) \n",
    "\n",
    "pd.isnull(a.NIVEL_EDUCATIVO).sum() # datos vacios tipo NaN"
   ]
  },
  {
   "cell_type": "code",
   "execution_count": 5,
   "id": "2870da88",
   "metadata": {},
   "outputs": [
    {
     "name": "stdout",
     "output_type": "stream",
     "text": [
      "8\n",
      "16\n",
      "54\n",
      "59\n",
      "67\n",
      "86\n",
      "104\n",
      "171\n",
      "172\n",
      "230\n",
      "274\n",
      "278\n",
      "316\n",
      "371\n",
      "375\n",
      "383\n",
      "393\n",
      "404\n",
      "413\n",
      "420\n",
      "425\n",
      "455\n",
      "464\n",
      "487\n",
      "541\n",
      "555\n",
      "568\n",
      "575\n",
      "625\n",
      "630\n",
      "632\n",
      "683\n",
      "726\n",
      "741\n",
      "752\n",
      "835\n",
      "864\n",
      "886\n",
      "902\n",
      "912\n",
      "965\n",
      "968\n",
      "970\n",
      "1024\n",
      "1041\n",
      "1065\n",
      "1077\n",
      "1091\n",
      "1096\n",
      "1103\n",
      "1117\n",
      "1193\n",
      "1195\n",
      "1213\n",
      "1230\n",
      "1243\n",
      "1271\n",
      "1325\n",
      "1387\n",
      "1388\n",
      "1427\n",
      "1447\n",
      "1509\n",
      "1511\n",
      "1522\n",
      "1535\n",
      "1578\n",
      "1620\n",
      "1634\n",
      "1655\n",
      "1658\n",
      "1660\n",
      "1718\n",
      "1739\n",
      "1794\n",
      "1800\n",
      "1801\n",
      "1802\n",
      "1809\n",
      "1819\n",
      "1830\n",
      "1923\n",
      "1960\n",
      "1962\n",
      "1979\n",
      "2009\n",
      "2019\n",
      "2021\n",
      "2040\n",
      "2071\n",
      "2081\n",
      "2187\n",
      "2193\n",
      "2210\n",
      "2221\n",
      "2239\n",
      "2260\n",
      "2279\n",
      "2304\n",
      "2317\n",
      "2338\n",
      "2339\n",
      "2345\n",
      "2379\n",
      "2404\n",
      "2408\n",
      "2502\n",
      "2518\n",
      "2521\n",
      "2524\n",
      "2574\n",
      "2578\n",
      "2618\n",
      "2626\n",
      "2635\n",
      "2713\n",
      "2748\n",
      "2770\n",
      "2805\n",
      "2826\n",
      "2855\n",
      "2874\n",
      "2880\n",
      "2915\n",
      "2927\n",
      "2937\n",
      "2944\n",
      "2950\n",
      "2976\n",
      "2978\n",
      "2983\n",
      "2987\n",
      "3000\n",
      "3019\n",
      "3046\n",
      "3089\n",
      "3102\n",
      "3150\n",
      "3184\n",
      "3188\n",
      "3193\n",
      "3221\n",
      "3227\n",
      "3234\n",
      "3242\n",
      "3262\n",
      "3374\n",
      "3417\n",
      "3446\n",
      "3472\n",
      "3487\n",
      "3489\n",
      "3516\n",
      "3597\n",
      "3607\n",
      "3620\n",
      "3625\n",
      "3637\n",
      "3699\n",
      "3783\n",
      "3786\n",
      "3787\n",
      "3789\n",
      "3809\n",
      "3817\n",
      "3827\n",
      "3831\n",
      "3848\n",
      "3877\n",
      "3888\n",
      "3912\n",
      "3945\n",
      "3950\n",
      "3971\n",
      "3983\n",
      "3996\n",
      "4011\n",
      "4014\n",
      "4075\n",
      "4077\n",
      "4080\n",
      "4122\n",
      "4146\n",
      "4150\n",
      "4196\n",
      "4197\n",
      "4198\n",
      "4204\n",
      "4215\n",
      "4247\n",
      "4331\n",
      "4341\n",
      "4348\n",
      "4349\n",
      "4351\n",
      "4371\n",
      "4407\n",
      "4417\n",
      "4435\n",
      "4491\n",
      "4524\n",
      "4529\n",
      "4550\n",
      "4552\n",
      "4590\n",
      "4596\n",
      "4621\n",
      "4623\n",
      "4628\n",
      "4643\n",
      "4666\n",
      "4668\n",
      "4674\n",
      "4680\n",
      "4702\n",
      "4759\n",
      "4762\n",
      "4777\n",
      "4780\n",
      "4794\n",
      "4812\n",
      "4842\n",
      "4848\n",
      "4866\n",
      "4906\n",
      "4915\n",
      "4934\n",
      "4947\n",
      "5012\n",
      "5041\n",
      "5099\n",
      "5103\n",
      "5106\n",
      "5108\n",
      "5115\n",
      "5180\n",
      "5201\n",
      "5217\n",
      "5234\n",
      "5269\n",
      "5301\n",
      "5323\n",
      "5356\n",
      "5360\n",
      "5362\n",
      "5431\n",
      "5435\n",
      "5468\n",
      "5508\n",
      "5510\n",
      "5546\n",
      "5570\n",
      "5572\n",
      "5591\n",
      "5604\n",
      "5613\n",
      "5629\n",
      "5653\n",
      "5655\n",
      "5664\n",
      "5676\n",
      "datos vacios tipos nan son  261\n"
     ]
    }
   ],
   "source": [
    "contador = 0\n",
    "for i in range(len(a.NIVEL_EDUCATIVO)):\n",
    "    \n",
    "    if pd.isnull(a.NIVEL_EDUCATIVO[i]) ==  True:\n",
    "        print(a.NIVEL_EDUCATIVO.index[i])\n",
    "        contador += 1\n",
    "        \n",
    "print(\"datos vacios tipos nan son \",contador)        \n",
    "        \n",
    "    "
   ]
  },
  {
   "cell_type": "code",
   "execution_count": 6,
   "id": "741429c5",
   "metadata": {},
   "outputs": [
    {
     "data": {
      "text/plain": [
       "Universidad                1621\n",
       "No Indica                  1366\n",
       "Bachiller                  1186\n",
       "Noveno Grado                655\n",
       "Noveno a Undecimo Grado     643\n",
       "Desconocido                   3\n",
       "Name: NIVEL_EDUCATIVO, dtype: int64"
      ]
     },
     "execution_count": 6,
     "metadata": {},
     "output_type": "execute_result"
    }
   ],
   "source": [
    "a.NIVEL_EDUCATIVO.value_counts()"
   ]
  },
  {
   "cell_type": "code",
   "execution_count": 7,
   "id": "0afdef84",
   "metadata": {},
   "outputs": [
    {
     "data": {
      "text/plain": [
       "0       False\n",
       "1       False\n",
       "2       False\n",
       "3       False\n",
       "4       False\n",
       "        ...  \n",
       "5730    False\n",
       "5731    False\n",
       "5732    False\n",
       "5733    False\n",
       "5734    False\n",
       "Name: NIVEL_EDUCATIVO, Length: 5735, dtype: bool"
      ]
     },
     "execution_count": 7,
     "metadata": {},
     "output_type": "execute_result"
    }
   ],
   "source": [
    "pd.isnull(a.NIVEL_EDUCATIVO)"
   ]
  },
  {
   "cell_type": "code",
   "execution_count": 8,
   "id": "2a8796a7",
   "metadata": {},
   "outputs": [
    {
     "data": {
      "text/html": [
       "<div>\n",
       "<style scoped>\n",
       "    .dataframe tbody tr th:only-of-type {\n",
       "        vertical-align: middle;\n",
       "    }\n",
       "\n",
       "    .dataframe tbody tr th {\n",
       "        vertical-align: top;\n",
       "    }\n",
       "\n",
       "    .dataframe thead th {\n",
       "        text-align: right;\n",
       "    }\n",
       "</style>\n",
       "<table border=\"1\" class=\"dataframe\">\n",
       "  <thead>\n",
       "    <tr style=\"text-align: right;\">\n",
       "      <th></th>\n",
       "      <th>SEQN</th>\n",
       "      <th>ALQ101</th>\n",
       "      <th>ALQ110</th>\n",
       "      <th>ALQ130</th>\n",
       "      <th>SMQ020</th>\n",
       "      <th>RIAGENDR</th>\n",
       "      <th>EDAD</th>\n",
       "      <th>RIDRETH1</th>\n",
       "      <th>DMDCITZN</th>\n",
       "      <th>NIVEL_EDUCATIVO</th>\n",
       "      <th>...</th>\n",
       "      <th>PESO_CORPORAL</th>\n",
       "      <th>BMXHT</th>\n",
       "      <th>BMXBMI</th>\n",
       "      <th>BMXLEG</th>\n",
       "      <th>BMXARML</th>\n",
       "      <th>BMXARMC</th>\n",
       "      <th>BMXWAIST</th>\n",
       "      <th>HIQ210</th>\n",
       "      <th>EDUCACION</th>\n",
       "      <th>SEXO</th>\n",
       "    </tr>\n",
       "  </thead>\n",
       "  <tbody>\n",
       "    <tr>\n",
       "      <th>0</th>\n",
       "      <td>83732</td>\n",
       "      <td>1.0</td>\n",
       "      <td>NaN</td>\n",
       "      <td>1.0</td>\n",
       "      <td>1</td>\n",
       "      <td>1</td>\n",
       "      <td>62</td>\n",
       "      <td>3</td>\n",
       "      <td>1.0</td>\n",
       "      <td>No Indica</td>\n",
       "      <td>...</td>\n",
       "      <td>94.8</td>\n",
       "      <td>184.5</td>\n",
       "      <td>27.8</td>\n",
       "      <td>43.3</td>\n",
       "      <td>43.6</td>\n",
       "      <td>35.9</td>\n",
       "      <td>101.1</td>\n",
       "      <td>2.0</td>\n",
       "      <td>No Indica</td>\n",
       "      <td>Mujer</td>\n",
       "    </tr>\n",
       "    <tr>\n",
       "      <th>1</th>\n",
       "      <td>83733</td>\n",
       "      <td>1.0</td>\n",
       "      <td>NaN</td>\n",
       "      <td>6.0</td>\n",
       "      <td>1</td>\n",
       "      <td>1</td>\n",
       "      <td>53</td>\n",
       "      <td>3</td>\n",
       "      <td>2.0</td>\n",
       "      <td>Bachiller</td>\n",
       "      <td>...</td>\n",
       "      <td>90.4</td>\n",
       "      <td>171.4</td>\n",
       "      <td>30.8</td>\n",
       "      <td>38.0</td>\n",
       "      <td>40.0</td>\n",
       "      <td>33.2</td>\n",
       "      <td>107.9</td>\n",
       "      <td>NaN</td>\n",
       "      <td>Bachiller</td>\n",
       "      <td>Mujer</td>\n",
       "    </tr>\n",
       "    <tr>\n",
       "      <th>2</th>\n",
       "      <td>83734</td>\n",
       "      <td>1.0</td>\n",
       "      <td>NaN</td>\n",
       "      <td>NaN</td>\n",
       "      <td>1</td>\n",
       "      <td>1</td>\n",
       "      <td>78</td>\n",
       "      <td>3</td>\n",
       "      <td>1.0</td>\n",
       "      <td>Bachiller</td>\n",
       "      <td>...</td>\n",
       "      <td>83.4</td>\n",
       "      <td>170.1</td>\n",
       "      <td>28.8</td>\n",
       "      <td>35.6</td>\n",
       "      <td>37.0</td>\n",
       "      <td>31.0</td>\n",
       "      <td>116.5</td>\n",
       "      <td>2.0</td>\n",
       "      <td>Bachiller</td>\n",
       "      <td>Mujer</td>\n",
       "    </tr>\n",
       "    <tr>\n",
       "      <th>3</th>\n",
       "      <td>83735</td>\n",
       "      <td>2.0</td>\n",
       "      <td>1.0</td>\n",
       "      <td>1.0</td>\n",
       "      <td>2</td>\n",
       "      <td>2</td>\n",
       "      <td>56</td>\n",
       "      <td>3</td>\n",
       "      <td>1.0</td>\n",
       "      <td>No Indica</td>\n",
       "      <td>...</td>\n",
       "      <td>109.8</td>\n",
       "      <td>160.9</td>\n",
       "      <td>42.4</td>\n",
       "      <td>38.5</td>\n",
       "      <td>37.7</td>\n",
       "      <td>38.3</td>\n",
       "      <td>110.1</td>\n",
       "      <td>2.0</td>\n",
       "      <td>No Indica</td>\n",
       "      <td>Hombre</td>\n",
       "    </tr>\n",
       "    <tr>\n",
       "      <th>4</th>\n",
       "      <td>83736</td>\n",
       "      <td>2.0</td>\n",
       "      <td>1.0</td>\n",
       "      <td>1.0</td>\n",
       "      <td>2</td>\n",
       "      <td>2</td>\n",
       "      <td>42</td>\n",
       "      <td>4</td>\n",
       "      <td>1.0</td>\n",
       "      <td>Universidad</td>\n",
       "      <td>...</td>\n",
       "      <td>55.2</td>\n",
       "      <td>164.9</td>\n",
       "      <td>20.3</td>\n",
       "      <td>37.4</td>\n",
       "      <td>36.0</td>\n",
       "      <td>27.2</td>\n",
       "      <td>80.4</td>\n",
       "      <td>2.0</td>\n",
       "      <td>Universidad</td>\n",
       "      <td>Hombre</td>\n",
       "    </tr>\n",
       "    <tr>\n",
       "      <th>...</th>\n",
       "      <td>...</td>\n",
       "      <td>...</td>\n",
       "      <td>...</td>\n",
       "      <td>...</td>\n",
       "      <td>...</td>\n",
       "      <td>...</td>\n",
       "      <td>...</td>\n",
       "      <td>...</td>\n",
       "      <td>...</td>\n",
       "      <td>...</td>\n",
       "      <td>...</td>\n",
       "      <td>...</td>\n",
       "      <td>...</td>\n",
       "      <td>...</td>\n",
       "      <td>...</td>\n",
       "      <td>...</td>\n",
       "      <td>...</td>\n",
       "      <td>...</td>\n",
       "      <td>...</td>\n",
       "      <td>...</td>\n",
       "      <td>...</td>\n",
       "    </tr>\n",
       "    <tr>\n",
       "      <th>5730</th>\n",
       "      <td>93695</td>\n",
       "      <td>2.0</td>\n",
       "      <td>2.0</td>\n",
       "      <td>NaN</td>\n",
       "      <td>1</td>\n",
       "      <td>2</td>\n",
       "      <td>76</td>\n",
       "      <td>3</td>\n",
       "      <td>1.0</td>\n",
       "      <td>Bachiller</td>\n",
       "      <td>...</td>\n",
       "      <td>59.1</td>\n",
       "      <td>165.8</td>\n",
       "      <td>21.5</td>\n",
       "      <td>38.2</td>\n",
       "      <td>37.0</td>\n",
       "      <td>29.5</td>\n",
       "      <td>95.0</td>\n",
       "      <td>2.0</td>\n",
       "      <td>Bachiller</td>\n",
       "      <td>Hombre</td>\n",
       "    </tr>\n",
       "    <tr>\n",
       "      <th>5731</th>\n",
       "      <td>93696</td>\n",
       "      <td>2.0</td>\n",
       "      <td>2.0</td>\n",
       "      <td>NaN</td>\n",
       "      <td>2</td>\n",
       "      <td>1</td>\n",
       "      <td>26</td>\n",
       "      <td>3</td>\n",
       "      <td>1.0</td>\n",
       "      <td>No Indica</td>\n",
       "      <td>...</td>\n",
       "      <td>112.1</td>\n",
       "      <td>182.2</td>\n",
       "      <td>33.8</td>\n",
       "      <td>43.4</td>\n",
       "      <td>41.8</td>\n",
       "      <td>42.3</td>\n",
       "      <td>110.2</td>\n",
       "      <td>2.0</td>\n",
       "      <td>No Indica</td>\n",
       "      <td>Mujer</td>\n",
       "    </tr>\n",
       "    <tr>\n",
       "      <th>5732</th>\n",
       "      <td>93697</td>\n",
       "      <td>1.0</td>\n",
       "      <td>NaN</td>\n",
       "      <td>1.0</td>\n",
       "      <td>1</td>\n",
       "      <td>2</td>\n",
       "      <td>80</td>\n",
       "      <td>3</td>\n",
       "      <td>1.0</td>\n",
       "      <td>Universidad</td>\n",
       "      <td>...</td>\n",
       "      <td>71.7</td>\n",
       "      <td>152.2</td>\n",
       "      <td>31.0</td>\n",
       "      <td>31.3</td>\n",
       "      <td>37.5</td>\n",
       "      <td>28.8</td>\n",
       "      <td>NaN</td>\n",
       "      <td>2.0</td>\n",
       "      <td>Universidad</td>\n",
       "      <td>Hombre</td>\n",
       "    </tr>\n",
       "    <tr>\n",
       "      <th>5733</th>\n",
       "      <td>93700</td>\n",
       "      <td>NaN</td>\n",
       "      <td>NaN</td>\n",
       "      <td>NaN</td>\n",
       "      <td>1</td>\n",
       "      <td>1</td>\n",
       "      <td>35</td>\n",
       "      <td>3</td>\n",
       "      <td>2.0</td>\n",
       "      <td>Noveno Grado</td>\n",
       "      <td>...</td>\n",
       "      <td>78.2</td>\n",
       "      <td>173.3</td>\n",
       "      <td>26.0</td>\n",
       "      <td>40.3</td>\n",
       "      <td>37.5</td>\n",
       "      <td>30.6</td>\n",
       "      <td>98.9</td>\n",
       "      <td>2.0</td>\n",
       "      <td>Noveno Grado</td>\n",
       "      <td>Mujer</td>\n",
       "    </tr>\n",
       "    <tr>\n",
       "      <th>5734</th>\n",
       "      <td>93702</td>\n",
       "      <td>1.0</td>\n",
       "      <td>NaN</td>\n",
       "      <td>2.0</td>\n",
       "      <td>2</td>\n",
       "      <td>2</td>\n",
       "      <td>24</td>\n",
       "      <td>3</td>\n",
       "      <td>1.0</td>\n",
       "      <td>No Indica</td>\n",
       "      <td>...</td>\n",
       "      <td>58.3</td>\n",
       "      <td>165.0</td>\n",
       "      <td>21.4</td>\n",
       "      <td>38.2</td>\n",
       "      <td>33.5</td>\n",
       "      <td>26.2</td>\n",
       "      <td>72.5</td>\n",
       "      <td>2.0</td>\n",
       "      <td>No Indica</td>\n",
       "      <td>Hombre</td>\n",
       "    </tr>\n",
       "  </tbody>\n",
       "</table>\n",
       "<p>5735 rows × 30 columns</p>\n",
       "</div>"
      ],
      "text/plain": [
       "       SEQN  ALQ101  ALQ110  ALQ130  SMQ020  RIAGENDR  EDAD  RIDRETH1  \\\n",
       "0     83732     1.0     NaN     1.0       1         1    62         3   \n",
       "1     83733     1.0     NaN     6.0       1         1    53         3   \n",
       "2     83734     1.0     NaN     NaN       1         1    78         3   \n",
       "3     83735     2.0     1.0     1.0       2         2    56         3   \n",
       "4     83736     2.0     1.0     1.0       2         2    42         4   \n",
       "...     ...     ...     ...     ...     ...       ...   ...       ...   \n",
       "5730  93695     2.0     2.0     NaN       1         2    76         3   \n",
       "5731  93696     2.0     2.0     NaN       2         1    26         3   \n",
       "5732  93697     1.0     NaN     1.0       1         2    80         3   \n",
       "5733  93700     NaN     NaN     NaN       1         1    35         3   \n",
       "5734  93702     1.0     NaN     2.0       2         2    24         3   \n",
       "\n",
       "      DMDCITZN NIVEL_EDUCATIVO  ...  PESO_CORPORAL  BMXHT  BMXBMI  BMXLEG  \\\n",
       "0          1.0       No Indica  ...           94.8  184.5    27.8    43.3   \n",
       "1          2.0       Bachiller  ...           90.4  171.4    30.8    38.0   \n",
       "2          1.0       Bachiller  ...           83.4  170.1    28.8    35.6   \n",
       "3          1.0       No Indica  ...          109.8  160.9    42.4    38.5   \n",
       "4          1.0     Universidad  ...           55.2  164.9    20.3    37.4   \n",
       "...        ...             ...  ...            ...    ...     ...     ...   \n",
       "5730       1.0       Bachiller  ...           59.1  165.8    21.5    38.2   \n",
       "5731       1.0       No Indica  ...          112.1  182.2    33.8    43.4   \n",
       "5732       1.0     Universidad  ...           71.7  152.2    31.0    31.3   \n",
       "5733       2.0    Noveno Grado  ...           78.2  173.3    26.0    40.3   \n",
       "5734       1.0       No Indica  ...           58.3  165.0    21.4    38.2   \n",
       "\n",
       "      BMXARML  BMXARMC  BMXWAIST  HIQ210     EDUCACION    SEXO  \n",
       "0        43.6     35.9     101.1     2.0     No Indica   Mujer  \n",
       "1        40.0     33.2     107.9     NaN     Bachiller   Mujer  \n",
       "2        37.0     31.0     116.5     2.0     Bachiller   Mujer  \n",
       "3        37.7     38.3     110.1     2.0     No Indica  Hombre  \n",
       "4        36.0     27.2      80.4     2.0   Universidad  Hombre  \n",
       "...       ...      ...       ...     ...           ...     ...  \n",
       "5730     37.0     29.5      95.0     2.0     Bachiller  Hombre  \n",
       "5731     41.8     42.3     110.2     2.0     No Indica   Mujer  \n",
       "5732     37.5     28.8       NaN     2.0   Universidad  Hombre  \n",
       "5733     37.5     30.6      98.9     2.0  Noveno Grado   Mujer  \n",
       "5734     33.5     26.2      72.5     2.0     No Indica  Hombre  \n",
       "\n",
       "[5735 rows x 30 columns]"
      ]
     },
     "execution_count": 8,
     "metadata": {},
     "output_type": "execute_result"
    }
   ],
   "source": [
    "# creando columnas nuevas\n",
    "\n",
    "datos[\"SEXO\"] = datos.RIAGENDR.replace({1:\"Mujer\",2:\"Hombre\"})\n",
    "\n",
    "datos"
   ]
  },
  {
   "cell_type": "code",
   "execution_count": 9,
   "id": "08692965",
   "metadata": {},
   "outputs": [
    {
     "data": {
      "text/plain": [
       "Universidad                29.612715\n",
       "No Indica                  24.954330\n",
       "Bachiller                  21.666058\n",
       "Noveno Grado               11.965656\n",
       "Noveno a Undecimo Grado    11.746438\n",
       "Desconocido                 0.054805\n",
       "Name: NIVEL_EDUCATIVO, dtype: float64"
      ]
     },
     "execution_count": 9,
     "metadata": {},
     "output_type": "execute_result"
    }
   ],
   "source": [
    "# porcentajes - tabla de frecuencias\n",
    "\n",
    "datos.NIVEL_EDUCATIVO.value_counts(normalize=True)*100"
   ]
  },
  {
   "cell_type": "code",
   "execution_count": 10,
   "id": "bd5b39fc",
   "metadata": {},
   "outputs": [
    {
     "data": {
      "text/plain": [
       "Hombre    51.891892\n",
       "Mujer     48.108108\n",
       "Name: SEXO, dtype: float64"
      ]
     },
     "execution_count": 10,
     "metadata": {},
     "output_type": "execute_result"
    }
   ],
   "source": [
    "datos.SEXO.value_counts(normalize=True)*100"
   ]
  },
  {
   "cell_type": "code",
   "execution_count": 11,
   "id": "cfacf41b",
   "metadata": {},
   "outputs": [
    {
     "data": {
      "text/plain": [
       "5735"
      ]
     },
     "execution_count": 11,
     "metadata": {},
     "output_type": "execute_result"
    }
   ],
   "source": [
    "datos.SEXO.count()"
   ]
  },
  {
   "cell_type": "code",
   "execution_count": 12,
   "id": "af0c776b",
   "metadata": {},
   "outputs": [
    {
     "data": {
      "text/plain": [
       "count            5474\n",
       "unique              6\n",
       "top       Universidad\n",
       "freq             1621\n",
       "Name: NIVEL_EDUCATIVO, dtype: object"
      ]
     },
     "execution_count": 12,
     "metadata": {},
     "output_type": "execute_result"
    }
   ],
   "source": [
    "datos.NIVEL_EDUCATIVO.dropna().count()\n",
    "datos.NIVEL_EDUCATIVO.dropna().describe()"
   ]
  },
  {
   "cell_type": "code",
   "execution_count": 13,
   "id": "8d28164c",
   "metadata": {},
   "outputs": [
    {
     "data": {
      "text/plain": [
       "count    5666.000000\n",
       "mean       81.342676\n",
       "std        21.764409\n",
       "min        32.400000\n",
       "25%        65.900000\n",
       "50%        78.200000\n",
       "75%        92.700000\n",
       "max       198.900000\n",
       "Name: PESO_CORPORAL, dtype: float64"
      ]
     },
     "execution_count": 13,
     "metadata": {},
     "output_type": "execute_result"
    }
   ],
   "source": [
    "datos.PESO_CORPORAL.dropna().describe()"
   ]
  },
  {
   "cell_type": "markdown",
   "id": "f3b6257e",
   "metadata": {},
   "source": [
    "A continuación, calculamos la proporción de sujetos de NHANES que son prehipertensos en función de la presión arterial diastólica."
   ]
  },
  {
   "cell_type": "code",
   "execution_count": 14,
   "id": "b538a456",
   "metadata": {},
   "outputs": [
    {
     "ename": "AttributeError",
     "evalue": "'DataFrame' object has no attribute 'BPXDI1'",
     "output_type": "error",
     "traceback": [
      "\u001b[0;31m---------------------------------------------------------------------------\u001b[0m",
      "\u001b[0;31mAttributeError\u001b[0m                            Traceback (most recent call last)",
      "\u001b[0;32m/tmp/ipykernel_13565/2476457137.py\u001b[0m in \u001b[0;36m<module>\u001b[0;34m\u001b[0m\n\u001b[1;32m      1\u001b[0m \u001b[0;32mimport\u001b[0m \u001b[0mnumpy\u001b[0m \u001b[0;32mas\u001b[0m \u001b[0mnp\u001b[0m\u001b[0;34m\u001b[0m\u001b[0;34m\u001b[0m\u001b[0m\n\u001b[1;32m      2\u001b[0m \u001b[0;34m\u001b[0m\u001b[0m\n\u001b[0;32m----> 3\u001b[0;31m \u001b[0ma\u001b[0m \u001b[0;34m=\u001b[0m\u001b[0;34m(\u001b[0m\u001b[0;34m(\u001b[0m\u001b[0mdatos\u001b[0m\u001b[0;34m.\u001b[0m\u001b[0mBPXDI1\u001b[0m \u001b[0;34m>=\u001b[0m\u001b[0;36m80\u001b[0m\u001b[0;34m)\u001b[0m \u001b[0;34m&\u001b[0m \u001b[0;34m(\u001b[0m\u001b[0mdatos\u001b[0m\u001b[0;34m.\u001b[0m\u001b[0mBPXDI2\u001b[0m \u001b[0;34m<=\u001b[0m\u001b[0;36m89\u001b[0m\u001b[0;34m)\u001b[0m\u001b[0;34m)\u001b[0m\u001b[0;34m\u001b[0m\u001b[0;34m\u001b[0m\u001b[0m\n\u001b[0m\u001b[1;32m      4\u001b[0m \u001b[0ma\u001b[0m\u001b[0;34m.\u001b[0m\u001b[0mmean\u001b[0m\u001b[0;34m(\u001b[0m\u001b[0;34m)\u001b[0m\u001b[0;34m\u001b[0m\u001b[0;34m\u001b[0m\u001b[0m\n",
      "\u001b[0;32m~/anaconda3/lib/python3.9/site-packages/pandas/core/generic.py\u001b[0m in \u001b[0;36m__getattr__\u001b[0;34m(self, name)\u001b[0m\n\u001b[1;32m   5573\u001b[0m         ):\n\u001b[1;32m   5574\u001b[0m             \u001b[0;32mreturn\u001b[0m \u001b[0mself\u001b[0m\u001b[0;34m[\u001b[0m\u001b[0mname\u001b[0m\u001b[0;34m]\u001b[0m\u001b[0;34m\u001b[0m\u001b[0;34m\u001b[0m\u001b[0m\n\u001b[0;32m-> 5575\u001b[0;31m         \u001b[0;32mreturn\u001b[0m \u001b[0mobject\u001b[0m\u001b[0;34m.\u001b[0m\u001b[0m__getattribute__\u001b[0m\u001b[0;34m(\u001b[0m\u001b[0mself\u001b[0m\u001b[0;34m,\u001b[0m \u001b[0mname\u001b[0m\u001b[0;34m)\u001b[0m\u001b[0;34m\u001b[0m\u001b[0;34m\u001b[0m\u001b[0m\n\u001b[0m\u001b[1;32m   5576\u001b[0m \u001b[0;34m\u001b[0m\u001b[0m\n\u001b[1;32m   5577\u001b[0m     \u001b[0;32mdef\u001b[0m \u001b[0m__setattr__\u001b[0m\u001b[0;34m(\u001b[0m\u001b[0mself\u001b[0m\u001b[0;34m,\u001b[0m \u001b[0mname\u001b[0m\u001b[0;34m:\u001b[0m \u001b[0mstr\u001b[0m\u001b[0;34m,\u001b[0m \u001b[0mvalue\u001b[0m\u001b[0;34m)\u001b[0m \u001b[0;34m->\u001b[0m \u001b[0;32mNone\u001b[0m\u001b[0;34m:\u001b[0m\u001b[0;34m\u001b[0m\u001b[0;34m\u001b[0m\u001b[0m\n",
      "\u001b[0;31mAttributeError\u001b[0m: 'DataFrame' object has no attribute 'BPXDI1'"
     ]
    }
   ],
   "source": [
    "import numpy as np\n",
    "\n",
    "a =((datos.BPXDI1 >=80) & (datos.BPXDI2 <=89))\n",
    "a.mean()"
   ]
  },
  {
   "cell_type": "code",
   "execution_count": null,
   "id": "a319d89d",
   "metadata": {},
   "outputs": [],
   "source": [
    "b = ((datos.BPXDI1 >= 80) & (datos.BPXDI2 <= 89))\n",
    "b.mean()"
   ]
  },
  {
   "cell_type": "code",
   "execution_count": null,
   "id": "1614dcc8",
   "metadata": {},
   "outputs": [],
   "source": [
    "np.mean((datos.BPXDI1 >= 80) & (datos.BPXDI2 <= 89))"
   ]
  },
  {
   "cell_type": "code",
   "execution_count": null,
   "id": "3ea2b088",
   "metadata": {},
   "outputs": [],
   "source": [
    "prueba_promedio = [datos[\"BPXDI1\"],datos[\"BPXDI2\"]]\n",
    "np.mean((prueba_promedio[0] >= 80)&(prueba_promedio[1]<=89))"
   ]
  },
  {
   "cell_type": "code",
   "execution_count": null,
   "id": "8d30f416",
   "metadata": {},
   "outputs": [],
   "source": [
    "np.mean((datos.SEXO==\"Mujer\") &(BPXDI1))"
   ]
  },
  {
   "cell_type": "code",
   "execution_count": null,
   "id": "3ac235f2",
   "metadata": {},
   "outputs": [],
   "source": [
    "datos.SEXO"
   ]
  },
  {
   "cell_type": "code",
   "execution_count": null,
   "id": "93e9e9be",
   "metadata": {},
   "outputs": [],
   "source": [
    "a = sns.distplot(x=datos.BMXHT.dropna()) # Estamos gráficando datos sin los datos NAN\n",
    "b = sns.distplot(x=datos.BMXHT, kde= False)\n",
    "\n"
   ]
  },
  {
   "cell_type": "code",
   "execution_count": null,
   "id": "f906a8a1",
   "metadata": {},
   "outputs": [],
   "source": [
    "sub_datos = datos.loc[:,[\"BPXSY1\",\"BPXSY2\",\"BPXDI1\",\"BPXDI2\"]]\n",
    "\n",
    "a = sns.boxplot(data=sub_datos)\n",
    "a.set_title(\"Hola\")\n",
    "\n",
    "# Esta es una forma de gráficar nuestros datos"
   ]
  },
  {
   "cell_type": "code",
   "execution_count": null,
   "id": "bf808074",
   "metadata": {},
   "outputs": [],
   "source": [
    "# también podemos hacerlo directamente sobre sns\n",
    "\n",
    "sns.boxplot(data=datos.loc[:,[\"BPXSY1\",\"BPXSY2\",\"BPXDI1\",\"BPXDI2\"]])"
   ]
  },
  {
   "cell_type": "code",
   "execution_count": 15,
   "id": "4ce41061",
   "metadata": {},
   "outputs": [],
   "source": [
    "# podemos hacer cortes por edad y por género\n",
    "\n",
    "datos[\"Años_Corte\"] = pd.cut(datos.RIAGENDR,[18,30,40,50,60,70,80])\n",
    "\n",
    "#sns.boxplot(data=datos, y=\"P_ARTERIAL_SIST_1\",x=\"Años_Corte\", hue=\"SEXO\")\n",
    "\n",
    "\n",
    "# se hace un corte de años\n",
    "# luego se comparan tipo de años los cortes\n",
    "# finalmente se usa el parametro hue para diferenciar entre dos categorías"
   ]
  },
  {
   "cell_type": "code",
   "execution_count": 1,
   "id": "2192108f",
   "metadata": {},
   "outputs": [
    {
     "ename": "NameError",
     "evalue": "name 'sns' is not defined",
     "output_type": "error",
     "traceback": [
      "\u001b[0;31m---------------------------------------------------------------------------\u001b[0m",
      "\u001b[0;31mNameError\u001b[0m                                 Traceback (most recent call last)",
      "\u001b[0;32m/tmp/ipykernel_3742/174913333.py\u001b[0m in \u001b[0;36m<module>\u001b[0;34m\u001b[0m\n\u001b[1;32m      1\u001b[0m \u001b[0;31m# esto mismo se puede hacer haciendo la división por los años\u001b[0m\u001b[0;34m\u001b[0m\u001b[0;34m\u001b[0m\u001b[0m\n\u001b[1;32m      2\u001b[0m \u001b[0;34m\u001b[0m\u001b[0m\n\u001b[0;32m----> 3\u001b[0;31m \u001b[0msns\u001b[0m\u001b[0;34m.\u001b[0m\u001b[0mboxplot\u001b[0m\u001b[0;34m(\u001b[0m\u001b[0mdata\u001b[0m\u001b[0;34m=\u001b[0m\u001b[0mdatos\u001b[0m\u001b[0;34m,\u001b[0m \u001b[0my\u001b[0m\u001b[0;34m=\u001b[0m\u001b[0;34m\"P_ARTERIAL_SIST_1\"\u001b[0m\u001b[0;34m,\u001b[0m\u001b[0mx\u001b[0m\u001b[0;34m=\u001b[0m\u001b[0;34m\"SEXO\"\u001b[0m\u001b[0;34m,\u001b[0m \u001b[0mhue\u001b[0m\u001b[0;34m=\u001b[0m\u001b[0;34m\"Años_Corte\"\u001b[0m\u001b[0;34m)\u001b[0m\u001b[0;34m\u001b[0m\u001b[0;34m\u001b[0m\u001b[0m\n\u001b[0m",
      "\u001b[0;31mNameError\u001b[0m: name 'sns' is not defined"
     ]
    }
   ],
   "source": [
    "# esto mismo se puede hacer haciendo la división por los años\n",
    "\n",
    "sns.boxplot(data=datos, y=\"P_ARTERIAL_SIST_1\",x=\"SEXO\", hue=\"Años_Corte\")\n"
   ]
  },
  {
   "cell_type": "code",
   "execution_count": 24,
   "id": "3e0871b1",
   "metadata": {},
   "outputs": [
    {
     "ename": "ValueError",
     "evalue": "operands could not be broadcast together with shape (6,) (0,)",
     "output_type": "error",
     "traceback": [
      "\u001b[0;31m---------------------------------------------------------------------------\u001b[0m",
      "\u001b[0;31mValueError\u001b[0m                                Traceback (most recent call last)",
      "\u001b[0;32m/tmp/ipykernel_13565/126772345.py\u001b[0m in \u001b[0;36m<module>\u001b[0;34m\u001b[0m\n\u001b[1;32m      1\u001b[0m \u001b[0;31m# recordemos que groupby nos envia una seríe\u001b[0m\u001b[0;34m\u001b[0m\u001b[0;34m\u001b[0m\u001b[0m\n\u001b[1;32m      2\u001b[0m \u001b[0;34m\u001b[0m\u001b[0m\n\u001b[0;32m----> 3\u001b[0;31m \u001b[0mdatos\u001b[0m\u001b[0;34m.\u001b[0m\u001b[0mgroupby\u001b[0m\u001b[0;34m(\u001b[0m\u001b[0;34m[\u001b[0m\u001b[0;34m\"Años_Corte\"\u001b[0m\u001b[0;34m]\u001b[0m\u001b[0;34m)\u001b[0m\u001b[0;34m.\u001b[0m\u001b[0mSEXO\u001b[0m\u001b[0;34m.\u001b[0m\u001b[0mvalue_counts\u001b[0m\u001b[0;34m(\u001b[0m\u001b[0;34m)\u001b[0m\u001b[0;34m\u001b[0m\u001b[0;34m\u001b[0m\u001b[0m\n\u001b[0m\u001b[1;32m      4\u001b[0m \u001b[0;34m\u001b[0m\u001b[0m\n",
      "\u001b[0;32m~/anaconda3/lib/python3.9/site-packages/pandas/core/groupby/generic.py\u001b[0m in \u001b[0;36mvalue_counts\u001b[0;34m(self, normalize, sort, ascending, bins, dropna)\u001b[0m\n\u001b[1;32m    678\u001b[0m         \u001b[0;31m# multi-index components\u001b[0m\u001b[0;34m\u001b[0m\u001b[0;34m\u001b[0m\u001b[0m\n\u001b[1;32m    679\u001b[0m         \u001b[0mcodes\u001b[0m \u001b[0;34m=\u001b[0m \u001b[0mself\u001b[0m\u001b[0;34m.\u001b[0m\u001b[0mgrouper\u001b[0m\u001b[0;34m.\u001b[0m\u001b[0mreconstructed_codes\u001b[0m\u001b[0;34m\u001b[0m\u001b[0;34m\u001b[0m\u001b[0m\n\u001b[0;32m--> 680\u001b[0;31m         \u001b[0mcodes\u001b[0m \u001b[0;34m=\u001b[0m \u001b[0;34m[\u001b[0m\u001b[0mrep\u001b[0m\u001b[0;34m(\u001b[0m\u001b[0mlevel_codes\u001b[0m\u001b[0;34m)\u001b[0m \u001b[0;32mfor\u001b[0m \u001b[0mlevel_codes\u001b[0m \u001b[0;32min\u001b[0m \u001b[0mcodes\u001b[0m\u001b[0;34m]\u001b[0m \u001b[0;34m+\u001b[0m \u001b[0;34m[\u001b[0m\u001b[0mllab\u001b[0m\u001b[0;34m(\u001b[0m\u001b[0mlab\u001b[0m\u001b[0;34m,\u001b[0m \u001b[0minc\u001b[0m\u001b[0;34m)\u001b[0m\u001b[0;34m]\u001b[0m\u001b[0;34m\u001b[0m\u001b[0;34m\u001b[0m\u001b[0m\n\u001b[0m\u001b[1;32m    681\u001b[0m         \u001b[0;31m# error: List item 0 has incompatible type \"Union[ndarray[Any, Any], Index]\";\u001b[0m\u001b[0;34m\u001b[0m\u001b[0;34m\u001b[0m\u001b[0m\n\u001b[1;32m    682\u001b[0m         \u001b[0;31m# expected \"Index\"\u001b[0m\u001b[0;34m\u001b[0m\u001b[0;34m\u001b[0m\u001b[0m\n",
      "\u001b[0;32m~/anaconda3/lib/python3.9/site-packages/pandas/core/groupby/generic.py\u001b[0m in \u001b[0;36m<listcomp>\u001b[0;34m(.0)\u001b[0m\n\u001b[1;32m    678\u001b[0m         \u001b[0;31m# multi-index components\u001b[0m\u001b[0;34m\u001b[0m\u001b[0;34m\u001b[0m\u001b[0m\n\u001b[1;32m    679\u001b[0m         \u001b[0mcodes\u001b[0m \u001b[0;34m=\u001b[0m \u001b[0mself\u001b[0m\u001b[0;34m.\u001b[0m\u001b[0mgrouper\u001b[0m\u001b[0;34m.\u001b[0m\u001b[0mreconstructed_codes\u001b[0m\u001b[0;34m\u001b[0m\u001b[0;34m\u001b[0m\u001b[0m\n\u001b[0;32m--> 680\u001b[0;31m         \u001b[0mcodes\u001b[0m \u001b[0;34m=\u001b[0m \u001b[0;34m[\u001b[0m\u001b[0mrep\u001b[0m\u001b[0;34m(\u001b[0m\u001b[0mlevel_codes\u001b[0m\u001b[0;34m)\u001b[0m \u001b[0;32mfor\u001b[0m \u001b[0mlevel_codes\u001b[0m \u001b[0;32min\u001b[0m \u001b[0mcodes\u001b[0m\u001b[0;34m]\u001b[0m \u001b[0;34m+\u001b[0m \u001b[0;34m[\u001b[0m\u001b[0mllab\u001b[0m\u001b[0;34m(\u001b[0m\u001b[0mlab\u001b[0m\u001b[0;34m,\u001b[0m \u001b[0minc\u001b[0m\u001b[0;34m)\u001b[0m\u001b[0;34m]\u001b[0m\u001b[0;34m\u001b[0m\u001b[0;34m\u001b[0m\u001b[0m\n\u001b[0m\u001b[1;32m    681\u001b[0m         \u001b[0;31m# error: List item 0 has incompatible type \"Union[ndarray[Any, Any], Index]\";\u001b[0m\u001b[0;34m\u001b[0m\u001b[0;34m\u001b[0m\u001b[0m\n\u001b[1;32m    682\u001b[0m         \u001b[0;31m# expected \"Index\"\u001b[0m\u001b[0;34m\u001b[0m\u001b[0;34m\u001b[0m\u001b[0m\n",
      "\u001b[0;32m<__array_function__ internals>\u001b[0m in \u001b[0;36mrepeat\u001b[0;34m(*args, **kwargs)\u001b[0m\n",
      "\u001b[0;32m~/anaconda3/lib/python3.9/site-packages/numpy/core/fromnumeric.py\u001b[0m in \u001b[0;36mrepeat\u001b[0;34m(a, repeats, axis)\u001b[0m\n\u001b[1;32m    477\u001b[0m \u001b[0;34m\u001b[0m\u001b[0m\n\u001b[1;32m    478\u001b[0m     \"\"\"\n\u001b[0;32m--> 479\u001b[0;31m     \u001b[0;32mreturn\u001b[0m \u001b[0m_wrapfunc\u001b[0m\u001b[0;34m(\u001b[0m\u001b[0ma\u001b[0m\u001b[0;34m,\u001b[0m \u001b[0;34m'repeat'\u001b[0m\u001b[0;34m,\u001b[0m \u001b[0mrepeats\u001b[0m\u001b[0;34m,\u001b[0m \u001b[0maxis\u001b[0m\u001b[0;34m=\u001b[0m\u001b[0maxis\u001b[0m\u001b[0;34m)\u001b[0m\u001b[0;34m\u001b[0m\u001b[0;34m\u001b[0m\u001b[0m\n\u001b[0m\u001b[1;32m    480\u001b[0m \u001b[0;34m\u001b[0m\u001b[0m\n\u001b[1;32m    481\u001b[0m \u001b[0;34m\u001b[0m\u001b[0m\n",
      "\u001b[0;32m~/anaconda3/lib/python3.9/site-packages/numpy/core/fromnumeric.py\u001b[0m in \u001b[0;36m_wrapfunc\u001b[0;34m(obj, method, *args, **kwds)\u001b[0m\n\u001b[1;32m     55\u001b[0m \u001b[0;34m\u001b[0m\u001b[0m\n\u001b[1;32m     56\u001b[0m     \u001b[0;32mtry\u001b[0m\u001b[0;34m:\u001b[0m\u001b[0;34m\u001b[0m\u001b[0;34m\u001b[0m\u001b[0m\n\u001b[0;32m---> 57\u001b[0;31m         \u001b[0;32mreturn\u001b[0m \u001b[0mbound\u001b[0m\u001b[0;34m(\u001b[0m\u001b[0;34m*\u001b[0m\u001b[0margs\u001b[0m\u001b[0;34m,\u001b[0m \u001b[0;34m**\u001b[0m\u001b[0mkwds\u001b[0m\u001b[0;34m)\u001b[0m\u001b[0;34m\u001b[0m\u001b[0;34m\u001b[0m\u001b[0m\n\u001b[0m\u001b[1;32m     58\u001b[0m     \u001b[0;32mexcept\u001b[0m \u001b[0mTypeError\u001b[0m\u001b[0;34m:\u001b[0m\u001b[0;34m\u001b[0m\u001b[0;34m\u001b[0m\u001b[0m\n\u001b[1;32m     59\u001b[0m         \u001b[0;31m# A TypeError occurs if the object does have such a method in its\u001b[0m\u001b[0;34m\u001b[0m\u001b[0;34m\u001b[0m\u001b[0m\n",
      "\u001b[0;31mValueError\u001b[0m: operands could not be broadcast together with shape (6,) (0,)"
     ]
    }
   ],
   "source": [
    "# recordemos que groupby nos envia una seríe \n",
    "\n",
    "datos.groupby([\"Años_Corte\"]).SEXO.value_counts()\n",
    "\n"
   ]
  },
  {
   "cell_type": "code",
   "execution_count": null,
   "id": "9e9ef35c",
   "metadata": {},
   "outputs": [],
   "source": [
    "datos.groupby([\"Años_Corte\"]).SEXO.size()"
   ]
  },
  {
   "cell_type": "code",
   "execution_count": null,
   "id": "90217dc7",
   "metadata": {},
   "outputs": [],
   "source": [
    "\n",
    "ejemplo = datos.groupby([\"Años_Corte\",\"SEXO\",])[\"EDUCACION\"].value_counts(normalize=True)\n",
    "ejemplo = ejemplo.loc[~ejemplo.isin([\"Desconocido\"]),:]\n",
    "\n",
    "ejemplo.unstack()"
   ]
  },
  {
   "cell_type": "code",
   "execution_count": null,
   "id": "77a0c263",
   "metadata": {},
   "outputs": [],
   "source": []
  },
  {
   "cell_type": "code",
   "execution_count": null,
   "id": "9a63013c",
   "metadata": {},
   "outputs": [],
   "source": [
    "a = datos.index\n",
    "type(a)"
   ]
  },
  {
   "cell_type": "code",
   "execution_count": 19,
   "id": "8a56dd3f",
   "metadata": {},
   "outputs": [
    {
     "data": {
      "text/html": [
       "<div>\n",
       "<style scoped>\n",
       "    .dataframe tbody tr th:only-of-type {\n",
       "        vertical-align: middle;\n",
       "    }\n",
       "\n",
       "    .dataframe tbody tr th {\n",
       "        vertical-align: top;\n",
       "    }\n",
       "\n",
       "    .dataframe thead th {\n",
       "        text-align: right;\n",
       "    }\n",
       "</style>\n",
       "<table border=\"1\" class=\"dataframe\">\n",
       "  <thead>\n",
       "    <tr style=\"text-align: right;\">\n",
       "      <th></th>\n",
       "      <th>SEQN</th>\n",
       "      <th>ALQ101</th>\n",
       "      <th>ALQ110</th>\n",
       "      <th>ALQ130</th>\n",
       "      <th>SMQ020</th>\n",
       "      <th>RIAGENDR</th>\n",
       "      <th>EDAD</th>\n",
       "      <th>RIDRETH1</th>\n",
       "      <th>DMDCITZN</th>\n",
       "      <th>NIVEL_EDUCATIVO</th>\n",
       "      <th>...</th>\n",
       "      <th>BMXHT</th>\n",
       "      <th>BMXBMI</th>\n",
       "      <th>BMXLEG</th>\n",
       "      <th>BMXARML</th>\n",
       "      <th>BMXARMC</th>\n",
       "      <th>BMXWAIST</th>\n",
       "      <th>HIQ210</th>\n",
       "      <th>EDUCACION</th>\n",
       "      <th>SEXO</th>\n",
       "      <th>Años_Corte</th>\n",
       "    </tr>\n",
       "  </thead>\n",
       "  <tbody>\n",
       "    <tr>\n",
       "      <th>0</th>\n",
       "      <td>83732</td>\n",
       "      <td>1.0</td>\n",
       "      <td>NaN</td>\n",
       "      <td>1.0</td>\n",
       "      <td>1</td>\n",
       "      <td>1</td>\n",
       "      <td>62</td>\n",
       "      <td>3</td>\n",
       "      <td>1.0</td>\n",
       "      <td>No Indica</td>\n",
       "      <td>...</td>\n",
       "      <td>184.5</td>\n",
       "      <td>27.8</td>\n",
       "      <td>43.3</td>\n",
       "      <td>43.6</td>\n",
       "      <td>35.9</td>\n",
       "      <td>101.1</td>\n",
       "      <td>2.0</td>\n",
       "      <td>No Indica</td>\n",
       "      <td>Mujer</td>\n",
       "      <td>NaN</td>\n",
       "    </tr>\n",
       "    <tr>\n",
       "      <th>1</th>\n",
       "      <td>83733</td>\n",
       "      <td>1.0</td>\n",
       "      <td>NaN</td>\n",
       "      <td>6.0</td>\n",
       "      <td>1</td>\n",
       "      <td>1</td>\n",
       "      <td>53</td>\n",
       "      <td>3</td>\n",
       "      <td>2.0</td>\n",
       "      <td>Bachiller</td>\n",
       "      <td>...</td>\n",
       "      <td>171.4</td>\n",
       "      <td>30.8</td>\n",
       "      <td>38.0</td>\n",
       "      <td>40.0</td>\n",
       "      <td>33.2</td>\n",
       "      <td>107.9</td>\n",
       "      <td>NaN</td>\n",
       "      <td>Bachiller</td>\n",
       "      <td>Mujer</td>\n",
       "      <td>NaN</td>\n",
       "    </tr>\n",
       "    <tr>\n",
       "      <th>2</th>\n",
       "      <td>83734</td>\n",
       "      <td>1.0</td>\n",
       "      <td>NaN</td>\n",
       "      <td>NaN</td>\n",
       "      <td>1</td>\n",
       "      <td>1</td>\n",
       "      <td>78</td>\n",
       "      <td>3</td>\n",
       "      <td>1.0</td>\n",
       "      <td>Bachiller</td>\n",
       "      <td>...</td>\n",
       "      <td>170.1</td>\n",
       "      <td>28.8</td>\n",
       "      <td>35.6</td>\n",
       "      <td>37.0</td>\n",
       "      <td>31.0</td>\n",
       "      <td>116.5</td>\n",
       "      <td>2.0</td>\n",
       "      <td>Bachiller</td>\n",
       "      <td>Mujer</td>\n",
       "      <td>NaN</td>\n",
       "    </tr>\n",
       "    <tr>\n",
       "      <th>3</th>\n",
       "      <td>83735</td>\n",
       "      <td>2.0</td>\n",
       "      <td>1.0</td>\n",
       "      <td>1.0</td>\n",
       "      <td>2</td>\n",
       "      <td>2</td>\n",
       "      <td>56</td>\n",
       "      <td>3</td>\n",
       "      <td>1.0</td>\n",
       "      <td>No Indica</td>\n",
       "      <td>...</td>\n",
       "      <td>160.9</td>\n",
       "      <td>42.4</td>\n",
       "      <td>38.5</td>\n",
       "      <td>37.7</td>\n",
       "      <td>38.3</td>\n",
       "      <td>110.1</td>\n",
       "      <td>2.0</td>\n",
       "      <td>No Indica</td>\n",
       "      <td>Hombre</td>\n",
       "      <td>NaN</td>\n",
       "    </tr>\n",
       "    <tr>\n",
       "      <th>4</th>\n",
       "      <td>83736</td>\n",
       "      <td>2.0</td>\n",
       "      <td>1.0</td>\n",
       "      <td>1.0</td>\n",
       "      <td>2</td>\n",
       "      <td>2</td>\n",
       "      <td>42</td>\n",
       "      <td>4</td>\n",
       "      <td>1.0</td>\n",
       "      <td>Universidad</td>\n",
       "      <td>...</td>\n",
       "      <td>164.9</td>\n",
       "      <td>20.3</td>\n",
       "      <td>37.4</td>\n",
       "      <td>36.0</td>\n",
       "      <td>27.2</td>\n",
       "      <td>80.4</td>\n",
       "      <td>2.0</td>\n",
       "      <td>Universidad</td>\n",
       "      <td>Hombre</td>\n",
       "      <td>NaN</td>\n",
       "    </tr>\n",
       "  </tbody>\n",
       "</table>\n",
       "<p>5 rows × 31 columns</p>\n",
       "</div>"
      ],
      "text/plain": [
       "    SEQN  ALQ101  ALQ110  ALQ130  SMQ020  RIAGENDR  EDAD  RIDRETH1  DMDCITZN  \\\n",
       "0  83732     1.0     NaN     1.0       1         1    62         3       1.0   \n",
       "1  83733     1.0     NaN     6.0       1         1    53         3       2.0   \n",
       "2  83734     1.0     NaN     NaN       1         1    78         3       1.0   \n",
       "3  83735     2.0     1.0     1.0       2         2    56         3       1.0   \n",
       "4  83736     2.0     1.0     1.0       2         2    42         4       1.0   \n",
       "\n",
       "  NIVEL_EDUCATIVO  ...  BMXHT  BMXBMI  BMXLEG  BMXARML  BMXARMC  BMXWAIST  \\\n",
       "0       No Indica  ...  184.5    27.8    43.3     43.6     35.9     101.1   \n",
       "1       Bachiller  ...  171.4    30.8    38.0     40.0     33.2     107.9   \n",
       "2       Bachiller  ...  170.1    28.8    35.6     37.0     31.0     116.5   \n",
       "3       No Indica  ...  160.9    42.4    38.5     37.7     38.3     110.1   \n",
       "4     Universidad  ...  164.9    20.3    37.4     36.0     27.2      80.4   \n",
       "\n",
       "   HIQ210    EDUCACION    SEXO  Años_Corte  \n",
       "0     2.0    No Indica   Mujer         NaN  \n",
       "1     NaN    Bachiller   Mujer         NaN  \n",
       "2     2.0    Bachiller   Mujer         NaN  \n",
       "3     2.0    No Indica  Hombre         NaN  \n",
       "4     2.0  Universidad  Hombre         NaN  \n",
       "\n",
       "[5 rows x 31 columns]"
      ]
     },
     "execution_count": 19,
     "metadata": {},
     "output_type": "execute_result"
    }
   ],
   "source": [
    "datos_2 = datos\n",
    "datos_2.head()"
   ]
  },
  {
   "cell_type": "code",
   "execution_count": 23,
   "id": "c9dd5673",
   "metadata": {},
   "outputs": [
    {
     "data": {
      "text/plain": [
       "0       No Indica\n",
       "3       No Indica\n",
       "10      No Indica\n",
       "13      No Indica\n",
       "14      No Indica\n",
       "          ...    \n",
       "5724    No Indica\n",
       "5725    No Indica\n",
       "5729    No Indica\n",
       "5731    No Indica\n",
       "5734    No Indica\n",
       "Name: EDUCACION, Length: 1369, dtype: object"
      ]
     },
     "execution_count": 23,
     "metadata": {},
     "output_type": "execute_result"
    }
   ],
   "source": [
    "ejemplo_2 = datos.loc[datos_2.EDUCACION.isin([\"Desconocido\",\"No Indica\"]),:]\n",
    "#ejemplo_2 = datos.groupby([\"Años_Corte\",\"SEXO\",])[\"EDUCACION\"].value_counts(normalize=True)\n",
    "ejemplo_2.EDUCACION"
   ]
  },
  {
   "cell_type": "code",
   "execution_count": null,
   "id": "e8f9fe6b",
   "metadata": {},
   "outputs": [],
   "source": [
    "dx = datos.loc[~datos.DMDEDUC2.isin([\"Don't know\", \"Missing\"]), :]  # Eliminate rare/missing values\n",
    "dx = dx.groupby([\"Años_Corte\", \"RIAGENDR\"])[\"DMDEDUC2\"]\n",
    "dx = dx.value_counts()\n",
    "dx = dx.unstack() # Restructure the results from 'long' to 'wide'\n",
    "dx = dx.apply(lambda x: x/x.sum(), axis=1) # Normalize within each stratum to get proportions\n",
    "print(dx.to_string(float_format=\"%.3f\"))  # Limit display to 3 decimal places"
   ]
  },
  {
   "cell_type": "code",
   "execution_count": 21,
   "id": "d3e1f4e6",
   "metadata": {},
   "outputs": [
    {
     "data": {
      "text/html": [
       "<div>\n",
       "<style scoped>\n",
       "    .dataframe tbody tr th:only-of-type {\n",
       "        vertical-align: middle;\n",
       "    }\n",
       "\n",
       "    .dataframe tbody tr th {\n",
       "        vertical-align: top;\n",
       "    }\n",
       "\n",
       "    .dataframe thead th {\n",
       "        text-align: right;\n",
       "    }\n",
       "</style>\n",
       "<table border=\"1\" class=\"dataframe\">\n",
       "  <thead>\n",
       "    <tr style=\"text-align: right;\">\n",
       "      <th></th>\n",
       "      <th>SEQN</th>\n",
       "      <th>ALQ101</th>\n",
       "      <th>ALQ110</th>\n",
       "      <th>ALQ130</th>\n",
       "      <th>SMQ020</th>\n",
       "      <th>RIAGENDR</th>\n",
       "      <th>EDAD</th>\n",
       "      <th>RIDRETH1</th>\n",
       "      <th>DMDCITZN</th>\n",
       "      <th>NIVEL_EDUCATIVO</th>\n",
       "      <th>...</th>\n",
       "      <th>BMXHT</th>\n",
       "      <th>BMXBMI</th>\n",
       "      <th>BMXLEG</th>\n",
       "      <th>BMXARML</th>\n",
       "      <th>BMXARMC</th>\n",
       "      <th>BMXWAIST</th>\n",
       "      <th>HIQ210</th>\n",
       "      <th>EDUCACION</th>\n",
       "      <th>SEXO</th>\n",
       "      <th>Años_Corte</th>\n",
       "    </tr>\n",
       "  </thead>\n",
       "  <tbody>\n",
       "    <tr>\n",
       "      <th>0</th>\n",
       "      <td>83732</td>\n",
       "      <td>1.0</td>\n",
       "      <td>NaN</td>\n",
       "      <td>1.0</td>\n",
       "      <td>1</td>\n",
       "      <td>1</td>\n",
       "      <td>62</td>\n",
       "      <td>3</td>\n",
       "      <td>1.0</td>\n",
       "      <td>No Indica</td>\n",
       "      <td>...</td>\n",
       "      <td>184.5</td>\n",
       "      <td>27.8</td>\n",
       "      <td>43.3</td>\n",
       "      <td>43.6</td>\n",
       "      <td>35.9</td>\n",
       "      <td>101.1</td>\n",
       "      <td>2.0</td>\n",
       "      <td>No Indica</td>\n",
       "      <td>Mujer</td>\n",
       "      <td>NaN</td>\n",
       "    </tr>\n",
       "    <tr>\n",
       "      <th>1</th>\n",
       "      <td>83733</td>\n",
       "      <td>1.0</td>\n",
       "      <td>NaN</td>\n",
       "      <td>6.0</td>\n",
       "      <td>1</td>\n",
       "      <td>1</td>\n",
       "      <td>53</td>\n",
       "      <td>3</td>\n",
       "      <td>2.0</td>\n",
       "      <td>Bachiller</td>\n",
       "      <td>...</td>\n",
       "      <td>171.4</td>\n",
       "      <td>30.8</td>\n",
       "      <td>38.0</td>\n",
       "      <td>40.0</td>\n",
       "      <td>33.2</td>\n",
       "      <td>107.9</td>\n",
       "      <td>NaN</td>\n",
       "      <td>Bachiller</td>\n",
       "      <td>Mujer</td>\n",
       "      <td>NaN</td>\n",
       "    </tr>\n",
       "    <tr>\n",
       "      <th>2</th>\n",
       "      <td>83734</td>\n",
       "      <td>1.0</td>\n",
       "      <td>NaN</td>\n",
       "      <td>NaN</td>\n",
       "      <td>1</td>\n",
       "      <td>1</td>\n",
       "      <td>78</td>\n",
       "      <td>3</td>\n",
       "      <td>1.0</td>\n",
       "      <td>Bachiller</td>\n",
       "      <td>...</td>\n",
       "      <td>170.1</td>\n",
       "      <td>28.8</td>\n",
       "      <td>35.6</td>\n",
       "      <td>37.0</td>\n",
       "      <td>31.0</td>\n",
       "      <td>116.5</td>\n",
       "      <td>2.0</td>\n",
       "      <td>Bachiller</td>\n",
       "      <td>Mujer</td>\n",
       "      <td>NaN</td>\n",
       "    </tr>\n",
       "    <tr>\n",
       "      <th>3</th>\n",
       "      <td>83735</td>\n",
       "      <td>2.0</td>\n",
       "      <td>1.0</td>\n",
       "      <td>1.0</td>\n",
       "      <td>2</td>\n",
       "      <td>2</td>\n",
       "      <td>56</td>\n",
       "      <td>3</td>\n",
       "      <td>1.0</td>\n",
       "      <td>No Indica</td>\n",
       "      <td>...</td>\n",
       "      <td>160.9</td>\n",
       "      <td>42.4</td>\n",
       "      <td>38.5</td>\n",
       "      <td>37.7</td>\n",
       "      <td>38.3</td>\n",
       "      <td>110.1</td>\n",
       "      <td>2.0</td>\n",
       "      <td>No Indica</td>\n",
       "      <td>Hombre</td>\n",
       "      <td>NaN</td>\n",
       "    </tr>\n",
       "    <tr>\n",
       "      <th>4</th>\n",
       "      <td>83736</td>\n",
       "      <td>2.0</td>\n",
       "      <td>1.0</td>\n",
       "      <td>1.0</td>\n",
       "      <td>2</td>\n",
       "      <td>2</td>\n",
       "      <td>42</td>\n",
       "      <td>4</td>\n",
       "      <td>1.0</td>\n",
       "      <td>Universidad</td>\n",
       "      <td>...</td>\n",
       "      <td>164.9</td>\n",
       "      <td>20.3</td>\n",
       "      <td>37.4</td>\n",
       "      <td>36.0</td>\n",
       "      <td>27.2</td>\n",
       "      <td>80.4</td>\n",
       "      <td>2.0</td>\n",
       "      <td>Universidad</td>\n",
       "      <td>Hombre</td>\n",
       "      <td>NaN</td>\n",
       "    </tr>\n",
       "  </tbody>\n",
       "</table>\n",
       "<p>5 rows × 31 columns</p>\n",
       "</div>"
      ],
      "text/plain": [
       "    SEQN  ALQ101  ALQ110  ALQ130  SMQ020  RIAGENDR  EDAD  RIDRETH1  DMDCITZN  \\\n",
       "0  83732     1.0     NaN     1.0       1         1    62         3       1.0   \n",
       "1  83733     1.0     NaN     6.0       1         1    53         3       2.0   \n",
       "2  83734     1.0     NaN     NaN       1         1    78         3       1.0   \n",
       "3  83735     2.0     1.0     1.0       2         2    56         3       1.0   \n",
       "4  83736     2.0     1.0     1.0       2         2    42         4       1.0   \n",
       "\n",
       "  NIVEL_EDUCATIVO  ...  BMXHT  BMXBMI  BMXLEG  BMXARML  BMXARMC  BMXWAIST  \\\n",
       "0       No Indica  ...  184.5    27.8    43.3     43.6     35.9     101.1   \n",
       "1       Bachiller  ...  171.4    30.8    38.0     40.0     33.2     107.9   \n",
       "2       Bachiller  ...  170.1    28.8    35.6     37.0     31.0     116.5   \n",
       "3       No Indica  ...  160.9    42.4    38.5     37.7     38.3     110.1   \n",
       "4     Universidad  ...  164.9    20.3    37.4     36.0     27.2      80.4   \n",
       "\n",
       "   HIQ210    EDUCACION    SEXO  Años_Corte  \n",
       "0     2.0    No Indica   Mujer         NaN  \n",
       "1     NaN    Bachiller   Mujer         NaN  \n",
       "2     2.0    Bachiller   Mujer         NaN  \n",
       "3     2.0    No Indica  Hombre         NaN  \n",
       "4     2.0  Universidad  Hombre         NaN  \n",
       "\n",
       "[5 rows x 31 columns]"
      ]
     },
     "execution_count": 21,
     "metadata": {},
     "output_type": "execute_result"
    }
   ],
   "source": [
    "datos.head()"
   ]
  },
  {
   "cell_type": "code",
   "execution_count": 2,
   "id": "b68102c9",
   "metadata": {},
   "outputs": [
    {
     "data": {
      "text/html": [
       "<div>\n",
       "<style scoped>\n",
       "    .dataframe tbody tr th:only-of-type {\n",
       "        vertical-align: middle;\n",
       "    }\n",
       "\n",
       "    .dataframe tbody tr th {\n",
       "        vertical-align: top;\n",
       "    }\n",
       "\n",
       "    .dataframe thead th {\n",
       "        text-align: right;\n",
       "    }\n",
       "</style>\n",
       "<table border=\"1\" class=\"dataframe\">\n",
       "  <thead>\n",
       "    <tr style=\"text-align: right;\">\n",
       "      <th></th>\n",
       "      <th>SEQN</th>\n",
       "      <th>ALQ101</th>\n",
       "      <th>ALQ110</th>\n",
       "      <th>ALQ130</th>\n",
       "      <th>SMQ020</th>\n",
       "      <th>RIAGENDR</th>\n",
       "      <th>RIDAGEYR</th>\n",
       "      <th>RIDRETH1</th>\n",
       "      <th>DMDCITZN</th>\n",
       "      <th>DMDEDUC2</th>\n",
       "      <th>...</th>\n",
       "      <th>BPXSY2</th>\n",
       "      <th>BPXDI2</th>\n",
       "      <th>BMXWT</th>\n",
       "      <th>BMXHT</th>\n",
       "      <th>BMXBMI</th>\n",
       "      <th>BMXLEG</th>\n",
       "      <th>BMXARML</th>\n",
       "      <th>BMXARMC</th>\n",
       "      <th>BMXWAIST</th>\n",
       "      <th>HIQ210</th>\n",
       "    </tr>\n",
       "  </thead>\n",
       "  <tbody>\n",
       "    <tr>\n",
       "      <th>0</th>\n",
       "      <td>83732</td>\n",
       "      <td>1.0</td>\n",
       "      <td>NaN</td>\n",
       "      <td>1.0</td>\n",
       "      <td>1</td>\n",
       "      <td>1</td>\n",
       "      <td>62</td>\n",
       "      <td>3</td>\n",
       "      <td>1.0</td>\n",
       "      <td>5.0</td>\n",
       "      <td>...</td>\n",
       "      <td>124.0</td>\n",
       "      <td>64.0</td>\n",
       "      <td>94.8</td>\n",
       "      <td>184.5</td>\n",
       "      <td>27.8</td>\n",
       "      <td>43.3</td>\n",
       "      <td>43.6</td>\n",
       "      <td>35.9</td>\n",
       "      <td>101.1</td>\n",
       "      <td>2.0</td>\n",
       "    </tr>\n",
       "    <tr>\n",
       "      <th>1</th>\n",
       "      <td>83733</td>\n",
       "      <td>1.0</td>\n",
       "      <td>NaN</td>\n",
       "      <td>6.0</td>\n",
       "      <td>1</td>\n",
       "      <td>1</td>\n",
       "      <td>53</td>\n",
       "      <td>3</td>\n",
       "      <td>2.0</td>\n",
       "      <td>3.0</td>\n",
       "      <td>...</td>\n",
       "      <td>140.0</td>\n",
       "      <td>88.0</td>\n",
       "      <td>90.4</td>\n",
       "      <td>171.4</td>\n",
       "      <td>30.8</td>\n",
       "      <td>38.0</td>\n",
       "      <td>40.0</td>\n",
       "      <td>33.2</td>\n",
       "      <td>107.9</td>\n",
       "      <td>NaN</td>\n",
       "    </tr>\n",
       "    <tr>\n",
       "      <th>2</th>\n",
       "      <td>83734</td>\n",
       "      <td>1.0</td>\n",
       "      <td>NaN</td>\n",
       "      <td>NaN</td>\n",
       "      <td>1</td>\n",
       "      <td>1</td>\n",
       "      <td>78</td>\n",
       "      <td>3</td>\n",
       "      <td>1.0</td>\n",
       "      <td>3.0</td>\n",
       "      <td>...</td>\n",
       "      <td>132.0</td>\n",
       "      <td>44.0</td>\n",
       "      <td>83.4</td>\n",
       "      <td>170.1</td>\n",
       "      <td>28.8</td>\n",
       "      <td>35.6</td>\n",
       "      <td>37.0</td>\n",
       "      <td>31.0</td>\n",
       "      <td>116.5</td>\n",
       "      <td>2.0</td>\n",
       "    </tr>\n",
       "    <tr>\n",
       "      <th>3</th>\n",
       "      <td>83735</td>\n",
       "      <td>2.0</td>\n",
       "      <td>1.0</td>\n",
       "      <td>1.0</td>\n",
       "      <td>2</td>\n",
       "      <td>2</td>\n",
       "      <td>56</td>\n",
       "      <td>3</td>\n",
       "      <td>1.0</td>\n",
       "      <td>5.0</td>\n",
       "      <td>...</td>\n",
       "      <td>134.0</td>\n",
       "      <td>68.0</td>\n",
       "      <td>109.8</td>\n",
       "      <td>160.9</td>\n",
       "      <td>42.4</td>\n",
       "      <td>38.5</td>\n",
       "      <td>37.7</td>\n",
       "      <td>38.3</td>\n",
       "      <td>110.1</td>\n",
       "      <td>2.0</td>\n",
       "    </tr>\n",
       "    <tr>\n",
       "      <th>4</th>\n",
       "      <td>83736</td>\n",
       "      <td>2.0</td>\n",
       "      <td>1.0</td>\n",
       "      <td>1.0</td>\n",
       "      <td>2</td>\n",
       "      <td>2</td>\n",
       "      <td>42</td>\n",
       "      <td>4</td>\n",
       "      <td>1.0</td>\n",
       "      <td>4.0</td>\n",
       "      <td>...</td>\n",
       "      <td>114.0</td>\n",
       "      <td>54.0</td>\n",
       "      <td>55.2</td>\n",
       "      <td>164.9</td>\n",
       "      <td>20.3</td>\n",
       "      <td>37.4</td>\n",
       "      <td>36.0</td>\n",
       "      <td>27.2</td>\n",
       "      <td>80.4</td>\n",
       "      <td>2.0</td>\n",
       "    </tr>\n",
       "  </tbody>\n",
       "</table>\n",
       "<p>5 rows × 28 columns</p>\n",
       "</div>"
      ],
      "text/plain": [
       "    SEQN  ALQ101  ALQ110  ALQ130  SMQ020  RIAGENDR  RIDAGEYR  RIDRETH1  \\\n",
       "0  83732     1.0     NaN     1.0       1         1        62         3   \n",
       "1  83733     1.0     NaN     6.0       1         1        53         3   \n",
       "2  83734     1.0     NaN     NaN       1         1        78         3   \n",
       "3  83735     2.0     1.0     1.0       2         2        56         3   \n",
       "4  83736     2.0     1.0     1.0       2         2        42         4   \n",
       "\n",
       "   DMDCITZN  DMDEDUC2  ...  BPXSY2  BPXDI2  BMXWT  BMXHT  BMXBMI  BMXLEG  \\\n",
       "0       1.0       5.0  ...   124.0    64.0   94.8  184.5    27.8    43.3   \n",
       "1       2.0       3.0  ...   140.0    88.0   90.4  171.4    30.8    38.0   \n",
       "2       1.0       3.0  ...   132.0    44.0   83.4  170.1    28.8    35.6   \n",
       "3       1.0       5.0  ...   134.0    68.0  109.8  160.9    42.4    38.5   \n",
       "4       1.0       4.0  ...   114.0    54.0   55.2  164.9    20.3    37.4   \n",
       "\n",
       "   BMXARML  BMXARMC  BMXWAIST  HIQ210  \n",
       "0     43.6     35.9     101.1     2.0  \n",
       "1     40.0     33.2     107.9     NaN  \n",
       "2     37.0     31.0     116.5     2.0  \n",
       "3     37.7     38.3     110.1     2.0  \n",
       "4     36.0     27.2      80.4     2.0  \n",
       "\n",
       "[5 rows x 28 columns]"
      ]
     },
     "execution_count": 2,
     "metadata": {},
     "output_type": "execute_result"
    }
   ],
   "source": [
    "%matplotlib inline \n",
    "import pandas as pd \n",
    "import seaborn as sns\n",
    "\n",
    "datos = pd.read_csv(\"nhanes_2015_2016.csv\")\n",
    "datos.head()"
   ]
  },
  {
   "cell_type": "markdown",
   "id": "7ffeee75",
   "metadata": {},
   "source": [
    "## Pregunta 1\n",
    "Vuelva a etiquetar la variable de estado civil DMDMARTL para tener etiquetas de caracteres breves pero informativas. Luego construya una tabla de frecuencia de estos valores para todas las personas, luego solo para mujeres y solo para hombres. Luego construya estas tres tablas de frecuencia usando solo personas cuya edad esté entre 30 y 40 años."
   ]
  },
  {
   "cell_type": "code",
   "execution_count": 3,
   "id": "4954ef05",
   "metadata": {},
   "outputs": [
    {
     "data": {
      "text/plain": [
       "1.0     2780\n",
       "5.0     1004\n",
       "3.0      579\n",
       "6.0      527\n",
       "2.0      396\n",
       "4.0      186\n",
       "77.0       2\n",
       "Name: DMDMARTL, dtype: int64"
      ]
     },
     "execution_count": 3,
     "metadata": {},
     "output_type": "execute_result"
    }
   ],
   "source": [
    "datos.DMDMARTL.value_counts().sort_values(ascending=False)"
   ]
  },
  {
   "cell_type": "code",
   "execution_count": 164,
   "id": "e8132cbc",
   "metadata": {},
   "outputs": [
    {
     "data": {
      "text/plain": [
       "CASADO          2780\n",
       "NUNCA CASADO    1004\n",
       "DIVORCIADO       579\n",
       "UNION_LIBRE      527\n",
       "VIUDO            396\n",
       "APARTADO         186\n",
       "RECHAZA            2\n",
       "Name: ESTADO_CIVIL, dtype: int64"
      ]
     },
     "execution_count": 164,
     "metadata": {},
     "output_type": "execute_result"
    }
   ],
   "source": [
    "datos[\"ESTADO_CIVIL\"] = datos.DMDMARTL.replace({\n",
    "    1:\"CASADO\",\n",
    "    2:\"VIUDO\",\n",
    "    3:\"DIVORCIADO\",\n",
    "    4:\"APARTADO\",\n",
    "    5:\"NUNCA CASADO\",\n",
    "    6:\"UNION_LIBRE\",\n",
    "    77:\"RECHAZA\",\n",
    "    99:\"NO_SABE\"\n",
    "})\n",
    "\n",
    "datos[\"ESTADO_CIVIL\"].value_counts()"
   ]
  },
  {
   "cell_type": "code",
   "execution_count": 45,
   "id": "4de8c788",
   "metadata": {},
   "outputs": [
    {
     "data": {
      "text/plain": [
       "CASADO          1477\n",
       "NUNCA CASADO     484\n",
       "UNION_LIBRE      265\n",
       "DIVORCIADO       229\n",
       "VIUDO            100\n",
       "APARTADO          68\n",
       "RECHAZA            1\n",
       "Name: ESTADO_CIVIL, dtype: int64"
      ]
     },
     "execution_count": 45,
     "metadata": {},
     "output_type": "execute_result"
    }
   ],
   "source": [
    "a = datos.loc[datos.RIAGENDR.isin([1]),:]\n",
    "a.ESTADO_CIVIL.value_counts() # imprime solo los datos de las mujeres"
   ]
  },
  {
   "cell_type": "code",
   "execution_count": 48,
   "id": "aa05f7b7",
   "metadata": {},
   "outputs": [
    {
     "data": {
      "text/plain": [
       "ESTADO_CIVIL  RIAGENDR\n",
       "RECHAZA       1              1\n",
       "APARTADO      1             68\n",
       "VIUDO         1            100\n",
       "DIVORCIADO    1            229\n",
       "UNION_LIBRE   1            265\n",
       "NUNCA CASADO  1            484\n",
       "CASADO        1           1477\n",
       "Name: RIAGENDR, dtype: int64"
      ]
     },
     "execution_count": 48,
     "metadata": {},
     "output_type": "execute_result"
    }
   ],
   "source": [
    "a.groupby([\"ESTADO_CIVIL\"]).RIAGENDR.value_counts().sort_values()"
   ]
  },
  {
   "cell_type": "code",
   "execution_count": 63,
   "id": "ee712226",
   "metadata": {},
   "outputs": [
    {
     "data": {
      "text/plain": [
       "RECHAZA            1\n",
       "APARTADO         118\n",
       "UNION_LIBRE      262\n",
       "VIUDO            296\n",
       "DIVORCIADO       350\n",
       "NUNCA CASADO     520\n",
       "CASADO          1303\n",
       "Name: ESTADO_CIVIL, dtype: int64"
      ]
     },
     "execution_count": 63,
     "metadata": {},
     "output_type": "execute_result"
    }
   ],
   "source": [
    "b = datos.loc[datos.RIAGENDR.isin([2]),:]\n",
    "b.ESTADO_CIVIL.value_counts().sort_values() # imprime los hombres"
   ]
  },
  {
   "cell_type": "code",
   "execution_count": 165,
   "id": "3da7405e",
   "metadata": {},
   "outputs": [
    {
     "data": {
      "text/plain": [
       "ESTADO_CIVIL  SEXO  \n",
       "CASADO        MUJER     416\n",
       "              HOMBRE    362\n",
       "NUNCA CASADO  MUJER     356\n",
       "              HOMBRE    351\n",
       "UNION_LIBRE   MUJER     171\n",
       "              HOMBRE    167\n",
       "DIVORCIADO    MUJER      54\n",
       "APARTADO      MUJER      28\n",
       "DIVORCIADO    HOMBRE     26\n",
       "APARTADO      HOMBRE     19\n",
       "VIUDO         HOMBRE      4\n",
       "              MUJER       2\n",
       "RECHAZA       HOMBRE      1\n",
       "Name: SEXO, dtype: int64"
      ]
     },
     "execution_count": 165,
     "metadata": {},
     "output_type": "execute_result"
    }
   ],
   "source": [
    "datos[\"SEXO\"] = datos.RIAGENDR.replace({1:\"HOMBRE\",2:\"MUJER\"})\n",
    "c = datos.loc[(datos.RIDAGEYR >= 20) & (datos.RIDAGEYR <=40)]\n",
    "\n",
    "\n",
    "c.groupby([\"ESTADO_CIVIL\"]).SEXO.value_counts().sort_values(ascending=False)"
   ]
  },
  {
   "cell_type": "code",
   "execution_count": 116,
   "id": "2a8e0f03",
   "metadata": {},
   "outputs": [
    {
     "data": {
      "text/plain": [
       "<AxesSubplot:xlabel='RIDAGEYR', ylabel='ESTADO_CIVIL'>"
      ]
     },
     "execution_count": 116,
     "metadata": {},
     "output_type": "execute_result"
    },
    {
     "data": {
      "image/png": "[encoded data removed]",
      "text/plain": [
       "<Figure size 640x480 with 1 Axes>"
      ]
     },
     "metadata": {},
     "output_type": "display_data"
    }
   ],
   "source": [
    "\n",
    "sns.boxplot(data=datos, x=\"RIDAGEYR\", y=\"ESTADO_CIVIL\", hue=\"SEXO\")"
   ]
  },
  {
   "cell_type": "markdown",
   "id": "41fb21b4",
   "metadata": {},
   "source": [
    "Entre generos y estado civil podemos observar que las personas entre un rango de edad entre los 20 y los 40 años, predominan personas que nunca se han casado o que se encuentran en unińo libre, posteriormente vemos que las mujeres tienen a comprometerse antes que los hombres (apartado) pero estando en un rango de edad mucho más elevado, vemos que los hombres tienden a separarse en promedio mucho antes que las mujeres. y que equiparablemente, hay una proporción similar de como enviudan ambos sexos"
   ]
  },
  {
   "cell_type": "code",
   "execution_count": 117,
   "id": "cb2961cc",
   "metadata": {},
   "outputs": [
    {
     "data": {
      "image/png": "[encoded data removed]",
      "text/plain": [
       "<Figure size 1200x400 with 1 Axes>"
      ]
     },
     "metadata": {},
     "output_type": "display_data"
    }
   ],
   "source": [
    "\n",
    "dx = sns.boxplot(data=datos, y=\"RIDAGEYR\", x=\"ESTADO_CIVIL\")\n",
    "dx.set_title(\"Estado Civil - EDAD\", fontsize = 18)\n",
    "dx.figure.set_size_inches(12,4)"
   ]
  },
  {
   "cell_type": "code",
   "execution_count": 118,
   "id": "80634802",
   "metadata": {},
   "outputs": [
    {
     "data": {
      "text/plain": [
       "<AxesSubplot:xlabel='RIDAGEYR', ylabel='ESTADO_CIVIL'>"
      ]
     },
     "execution_count": 118,
     "metadata": {},
     "output_type": "execute_result"
    },
    {
     "data": {
      "image/png": "[encoded data removed]",
      "text/plain": [
       "<Figure size 640x480 with 1 Axes>"
      ]
     },
     "metadata": {},
     "output_type": "display_data"
    }
   ],
   "source": [
    "sns.boxplot(data=c, y=\"ESTADO_CIVIL\",x=\"RIDAGEYR\")"
   ]
  },
  {
   "cell_type": "markdown",
   "id": "67e1c13e",
   "metadata": {},
   "source": [
    "## Pregunta 2\n",
    "Restringiendo a la población femenina, estratifique a los sujetos en franjas de edad no mayores a diez años, y construya la distribución del estado civil dentro de cada franja de edad. Dentro de cada franja de edad, presente la distribución en términos de proporciones que deben sumar 1."
   ]
  },
  {
   "cell_type": "code",
   "execution_count": 166,
   "id": "f5a1febd",
   "metadata": {},
   "outputs": [
    {
     "data": {
      "text/html": [
       "<div>\n",
       "<style scoped>\n",
       "    .dataframe tbody tr th:only-of-type {\n",
       "        vertical-align: middle;\n",
       "    }\n",
       "\n",
       "    .dataframe tbody tr th {\n",
       "        vertical-align: top;\n",
       "    }\n",
       "\n",
       "    .dataframe thead th {\n",
       "        text-align: right;\n",
       "    }\n",
       "</style>\n",
       "<table border=\"1\" class=\"dataframe\">\n",
       "  <thead>\n",
       "    <tr style=\"text-align: right;\">\n",
       "      <th></th>\n",
       "      <th>(18, 30]</th>\n",
       "      <th>(30, 40]</th>\n",
       "      <th>(40, 50]</th>\n",
       "      <th>(50, 60]</th>\n",
       "      <th>(60, 70]</th>\n",
       "      <th>(70, 80]</th>\n",
       "    </tr>\n",
       "    <tr>\n",
       "      <th>ESTADO_CIVIL</th>\n",
       "      <th></th>\n",
       "      <th></th>\n",
       "      <th></th>\n",
       "      <th></th>\n",
       "      <th></th>\n",
       "      <th></th>\n",
       "    </tr>\n",
       "  </thead>\n",
       "  <tbody>\n",
       "    <tr>\n",
       "      <th>APARTADO</th>\n",
       "      <td>0.093220</td>\n",
       "      <td>0.144068</td>\n",
       "      <td>0.279661</td>\n",
       "      <td>0.228814</td>\n",
       "      <td>0.186441</td>\n",
       "      <td>0.067797</td>\n",
       "    </tr>\n",
       "    <tr>\n",
       "      <th>CASADO</th>\n",
       "      <td>0.121259</td>\n",
       "      <td>0.198005</td>\n",
       "      <td>0.221028</td>\n",
       "      <td>0.197237</td>\n",
       "      <td>0.162701</td>\n",
       "      <td>0.099770</td>\n",
       "    </tr>\n",
       "    <tr>\n",
       "      <th>DIVORCIADO</th>\n",
       "      <td>0.031429</td>\n",
       "      <td>0.122857</td>\n",
       "      <td>0.197143</td>\n",
       "      <td>0.237143</td>\n",
       "      <td>0.242857</td>\n",
       "      <td>0.168571</td>\n",
       "    </tr>\n",
       "    <tr>\n",
       "      <th>NUNCA CASADO</th>\n",
       "      <td>0.498077</td>\n",
       "      <td>0.186538</td>\n",
       "      <td>0.121154</td>\n",
       "      <td>0.080769</td>\n",
       "      <td>0.073077</td>\n",
       "      <td>0.040385</td>\n",
       "    </tr>\n",
       "    <tr>\n",
       "      <th>RECHAZA</th>\n",
       "      <td>0.000000</td>\n",
       "      <td>0.000000</td>\n",
       "      <td>0.000000</td>\n",
       "      <td>1.000000</td>\n",
       "      <td>0.000000</td>\n",
       "      <td>0.000000</td>\n",
       "    </tr>\n",
       "    <tr>\n",
       "      <th>UNION_LIBRE</th>\n",
       "      <td>0.435115</td>\n",
       "      <td>0.217557</td>\n",
       "      <td>0.141221</td>\n",
       "      <td>0.122137</td>\n",
       "      <td>0.072519</td>\n",
       "      <td>0.011450</td>\n",
       "    </tr>\n",
       "    <tr>\n",
       "      <th>VIUDO</th>\n",
       "      <td>0.000000</td>\n",
       "      <td>0.006757</td>\n",
       "      <td>0.040541</td>\n",
       "      <td>0.094595</td>\n",
       "      <td>0.219595</td>\n",
       "      <td>0.638514</td>\n",
       "    </tr>\n",
       "  </tbody>\n",
       "</table>\n",
       "</div>"
      ],
      "text/plain": [
       "              (18, 30]  (30, 40]  (40, 50]  (50, 60]  (60, 70]  (70, 80]\n",
       "ESTADO_CIVIL                                                            \n",
       "APARTADO      0.093220  0.144068  0.279661  0.228814  0.186441  0.067797\n",
       "CASADO        0.121259  0.198005  0.221028  0.197237  0.162701  0.099770\n",
       "DIVORCIADO    0.031429  0.122857  0.197143  0.237143  0.242857  0.168571\n",
       "NUNCA CASADO  0.498077  0.186538  0.121154  0.080769  0.073077  0.040385\n",
       "RECHAZA       0.000000  0.000000  0.000000  1.000000  0.000000  0.000000\n",
       "UNION_LIBRE   0.435115  0.217557  0.141221  0.122137  0.072519  0.011450\n",
       "VIUDO         0.000000  0.006757  0.040541  0.094595  0.219595  0.638514"
      ]
     },
     "execution_count": 166,
     "metadata": {},
     "output_type": "execute_result"
    }
   ],
   "source": [
    "datos[\"CORTE_EDAD\"] = pd.cut(datos.RIDAGEYR,[18,30,40,50,60,70,80])\n",
    "d = datos.loc[(datos.SEXO == \"MUJER\"),:]\n",
    "d = d.groupby([\"ESTADO_CIVIL\"]).CORTE_EDAD.value_counts(normalize = True).sort_values(ascending=False)\n",
    "d.unstack()\n",
    "\n",
    "# MUJERES"
   ]
  },
  {
   "cell_type": "code",
   "execution_count": 95,
   "id": "d5b5efdf",
   "metadata": {
    "scrolled": true
   },
   "outputs": [
    {
     "data": {
      "text/html": [
       "<div>\n",
       "<style scoped>\n",
       "    .dataframe tbody tr th:only-of-type {\n",
       "        vertical-align: middle;\n",
       "    }\n",
       "\n",
       "    .dataframe tbody tr th {\n",
       "        vertical-align: top;\n",
       "    }\n",
       "\n",
       "    .dataframe thead th {\n",
       "        text-align: right;\n",
       "    }\n",
       "</style>\n",
       "<table border=\"1\" class=\"dataframe\">\n",
       "  <thead>\n",
       "    <tr style=\"text-align: right;\">\n",
       "      <th></th>\n",
       "      <th>(18, 30]</th>\n",
       "      <th>(30, 40]</th>\n",
       "      <th>(40, 50]</th>\n",
       "      <th>(50, 60]</th>\n",
       "      <th>(60, 70]</th>\n",
       "      <th>(70, 80]</th>\n",
       "    </tr>\n",
       "    <tr>\n",
       "      <th>ESTADO_CIVIL</th>\n",
       "      <th></th>\n",
       "      <th></th>\n",
       "      <th></th>\n",
       "      <th></th>\n",
       "      <th></th>\n",
       "      <th></th>\n",
       "    </tr>\n",
       "  </thead>\n",
       "  <tbody>\n",
       "    <tr>\n",
       "      <th>APARTADO</th>\n",
       "      <td>0.093220</td>\n",
       "      <td>0.144068</td>\n",
       "      <td>0.279661</td>\n",
       "      <td>0.228814</td>\n",
       "      <td>0.186441</td>\n",
       "      <td>0.067797</td>\n",
       "    </tr>\n",
       "    <tr>\n",
       "      <th>CASADO</th>\n",
       "      <td>0.121259</td>\n",
       "      <td>0.198005</td>\n",
       "      <td>0.221028</td>\n",
       "      <td>0.197237</td>\n",
       "      <td>0.162701</td>\n",
       "      <td>0.099770</td>\n",
       "    </tr>\n",
       "    <tr>\n",
       "      <th>DIVORCIADO</th>\n",
       "      <td>0.031429</td>\n",
       "      <td>0.122857</td>\n",
       "      <td>0.197143</td>\n",
       "      <td>0.237143</td>\n",
       "      <td>0.242857</td>\n",
       "      <td>0.168571</td>\n",
       "    </tr>\n",
       "    <tr>\n",
       "      <th>NUNCA CASADO</th>\n",
       "      <td>0.498077</td>\n",
       "      <td>0.186538</td>\n",
       "      <td>0.121154</td>\n",
       "      <td>0.080769</td>\n",
       "      <td>0.073077</td>\n",
       "      <td>0.040385</td>\n",
       "    </tr>\n",
       "    <tr>\n",
       "      <th>RECHAZA</th>\n",
       "      <td>0.000000</td>\n",
       "      <td>0.000000</td>\n",
       "      <td>0.000000</td>\n",
       "      <td>1.000000</td>\n",
       "      <td>0.000000</td>\n",
       "      <td>0.000000</td>\n",
       "    </tr>\n",
       "    <tr>\n",
       "      <th>UNION_LIBRE</th>\n",
       "      <td>0.435115</td>\n",
       "      <td>0.217557</td>\n",
       "      <td>0.141221</td>\n",
       "      <td>0.122137</td>\n",
       "      <td>0.072519</td>\n",
       "      <td>0.011450</td>\n",
       "    </tr>\n",
       "    <tr>\n",
       "      <th>VIUDO</th>\n",
       "      <td>0.000000</td>\n",
       "      <td>0.006757</td>\n",
       "      <td>0.040541</td>\n",
       "      <td>0.094595</td>\n",
       "      <td>0.219595</td>\n",
       "      <td>0.638514</td>\n",
       "    </tr>\n",
       "  </tbody>\n",
       "</table>\n",
       "</div>"
      ],
      "text/plain": [
       "              (18, 30]  (30, 40]  (40, 50]  (50, 60]  (60, 70]  (70, 80]\n",
       "ESTADO_CIVIL                                                            \n",
       "APARTADO      0.093220  0.144068  0.279661  0.228814  0.186441  0.067797\n",
       "CASADO        0.121259  0.198005  0.221028  0.197237  0.162701  0.099770\n",
       "DIVORCIADO    0.031429  0.122857  0.197143  0.237143  0.242857  0.168571\n",
       "NUNCA CASADO  0.498077  0.186538  0.121154  0.080769  0.073077  0.040385\n",
       "RECHAZA       0.000000  0.000000  0.000000  1.000000  0.000000  0.000000\n",
       "UNION_LIBRE   0.435115  0.217557  0.141221  0.122137  0.072519  0.011450\n",
       "VIUDO         0.000000  0.006757  0.040541  0.094595  0.219595  0.638514"
      ]
     },
     "execution_count": 95,
     "metadata": {},
     "output_type": "execute_result"
    }
   ],
   "source": [
    "datos[\"CORTE_EDAD\"] = pd.cut(datos.RIDAGEYR,[18,30,40,50,60,70,80])\n",
    "d = datos.loc[(datos.SEXO == \"HOMBRE\"),:]\n",
    "d = d.groupby([\"ESTADO_CIVIL\"]).CORTE_EDAD.value_counts(normalize = True).sort_values(ascending=False)\n",
    "d.unstack()\n",
    "\n",
    "# HOMBRES"
   ]
  },
  {
   "cell_type": "markdown",
   "id": "c8a4454e",
   "metadata": {},
   "source": [
    "Construya un histograma de la distribución de alturas utilizando la variable BMXHT en la muestra NHANES."
   ]
  },
  {
   "cell_type": "code",
   "execution_count": 121,
   "id": "46c60ace",
   "metadata": {},
   "outputs": [
    {
     "data": {
      "text/plain": [
       "<seaborn.axisgrid.FacetGrid at 0x7f17aa9077c0>"
      ]
     },
     "execution_count": 121,
     "metadata": {},
     "output_type": "execute_result"
    },
    {
     "data": {
      "image/png": "[encoded data removed]",
      "text/plain": [
       "<Figure size 500x500 with 1 Axes>"
      ]
     },
     "metadata": {},
     "output_type": "display_data"
    }
   ],
   "source": [
    "sns.displot(x=datos.BMXHT, kde=False)"
   ]
  },
  {
   "cell_type": "markdown",
   "id": "2a6b841f",
   "metadata": {},
   "source": [
    "Use el argumento bins para distplot para producir histogramas con diferentes números de bins. Evalúe si el valor predeterminado para este argumento da un resultado significativo y comente lo que sucede a medida que la cantidad de contenedores crece excesivamente o es demasiado pequeña."
   ]
  },
  {
   "cell_type": "code",
   "execution_count": 122,
   "id": "9747462a",
   "metadata": {},
   "outputs": [
    {
     "data": {
      "text/plain": [
       "<seaborn.axisgrid.FacetGrid at 0x7f17aabac430>"
      ]
     },
     "execution_count": 122,
     "metadata": {},
     "output_type": "execute_result"
    },
    {
     "data": {
      "image/png": "[encoded data removed]",
      "text/plain": [
       "<Figure size 500x500 with 1 Axes>"
      ]
     },
     "metadata": {},
     "output_type": "display_data"
    },
    {
     "data": {
      "image/png": "[encoded data removed]",
      "text/plain": [
       "<Figure size 500x500 with 1 Axes>"
      ]
     },
     "metadata": {},
     "output_type": "display_data"
    }
   ],
   "source": [
    "sns.displot(x=datos.BMXHT, bins=10,kde=False)\n",
    "sns.displot(x=datos.BMXHT, bins=100,kde=False)"
   ]
  },
  {
   "cell_type": "markdown",
   "id": "2c7e091c",
   "metadata": {},
   "source": [
    "Haz histogramas separados para las estaturas de mujeres y hombres, luego haz un diagrama de caja de lado a lado que muestre las estaturas de mujeres y hombres."
   ]
  },
  {
   "cell_type": "code",
   "execution_count": 123,
   "id": "9f5b57cb",
   "metadata": {},
   "outputs": [
    {
     "name": "stderr",
     "output_type": "stream",
     "text": [
      "/home/oscar/anaconda3/lib/python3.9/site-packages/seaborn/distributions.py:2619: FutureWarning: `distplot` is a deprecated function and will be removed in a future version. Please adapt your code to use either `displot` (a figure-level function with similar flexibility) or `histplot` (an axes-level function for histograms).\n",
      "  warnings.warn(msg, FutureWarning)\n"
     ]
    },
    {
     "data": {
      "text/plain": [
       "Text(0.5, 0, 'Altura')"
      ]
     },
     "execution_count": 123,
     "metadata": {},
     "output_type": "execute_result"
    },
    {
     "data": {
      "image/png": "[encoded data removed]",
      "text/plain": [
       "<Figure size 640x480 with 1 Axes>"
      ]
     },
     "metadata": {},
     "output_type": "display_data"
    }
   ],
   "source": [
    "a = datos.loc[(datos.SEXO==\"MUJER\"),:]\n",
    "ax= sns.distplot(x=a.BMXHT, kde=False)\n",
    "a = datos.loc[(datos.SEXO==\"HOMBRE\"),:]\n",
    "ax = sns.distplot(x=a.BMXHT, kde=False)\n",
    "ax.set_title(\"Distribución de Frecuencias - SEXO\")\n",
    "ax.set_xlabel(\"Altura\")\n"
   ]
  },
  {
   "cell_type": "code",
   "execution_count": 125,
   "id": "dc633693",
   "metadata": {},
   "outputs": [
    {
     "data": {
      "text/plain": [
       "Text(0.5, 0, 'Altura')"
      ]
     },
     "execution_count": 125,
     "metadata": {},
     "output_type": "execute_result"
    },
    {
     "data": {
      "image/png": "[encoded data removed]",
      "text/plain": [
       "<Figure size 640x480 with 1 Axes>"
      ]
     },
     "metadata": {},
     "output_type": "display_data"
    }
   ],
   "source": [
    "ax = sns.boxplot(x=datos.BMXHT, y=datos.SEXO)\n",
    "ax.set_title(\"Distribución de Frecuencias - ALTURA\")\n",
    "ax.set_xlabel(\"Altura\")\n"
   ]
  },
  {
   "cell_type": "markdown",
   "id": "d35e0afe",
   "metadata": {},
   "source": [
    "Haga un diagrama de caja que muestre la distribución de las diferencias dentro del sujeto entre la primera y la segunda medición de la presión arterial sistólica (BPXSY1 y BPXSY2).\n"
   ]
  },
  {
   "cell_type": "code",
   "execution_count": 127,
   "id": "8c3617ba",
   "metadata": {},
   "outputs": [
    {
     "data": {
      "text/plain": [
       "<AxesSubplot:xlabel='DIFERENCIA'>"
      ]
     },
     "execution_count": 127,
     "metadata": {},
     "output_type": "execute_result"
    },
    {
     "data": {
      "image/png": "[encoded data removed]",
      "text/plain": [
       "<Figure size 640x480 with 1 Axes>"
      ]
     },
     "metadata": {},
     "output_type": "display_data"
    }
   ],
   "source": [
    "datos[\"DIFERENCIA\"] = datos.BPXSY1 - datos.BPXSY2\n",
    "sns.boxplot(x=datos.DIFERENCIA)"
   ]
  },
  {
   "cell_type": "markdown",
   "id": "c78008df",
   "metadata": {},
   "source": [
    "Que proporcion de personas tienen la segunda toma de la presion más baja que la primera"
   ]
  },
  {
   "cell_type": "code",
   "execution_count": 131,
   "id": "28391531",
   "metadata": {},
   "outputs": [
    {
     "data": {
      "text/plain": [
       "0.42946817785527464"
      ]
     },
     "execution_count": 131,
     "metadata": {},
     "output_type": "execute_result"
    }
   ],
   "source": [
    "\n",
    "\n",
    "proporcion =  np.mean((datos.BPXSY1 > datos.BPXSY2))\n",
    "proporcion"
   ]
  },
  {
   "cell_type": "code",
   "execution_count": 144,
   "id": "de0059ad",
   "metadata": {},
   "outputs": [
    {
     "data": {
      "image/png": "[encoded data removed]",
      "text/plain": [
       "<Figure size 640x480 with 1 Axes>"
      ]
     },
     "metadata": {},
     "output_type": "display_data"
    }
   ],
   "source": [
    "sns.boxplot(x=datos.BPXSY1,color=\"yellow\")\n",
    "\n",
    "sns.boxplot(x=datos.BPXSY2,color=\"green\")\n",
    "plt.show()"
   ]
  },
  {
   "cell_type": "code",
   "execution_count": 147,
   "id": "6d643f64",
   "metadata": {},
   "outputs": [
    {
     "data": {
      "text/plain": [
       "4.0    1621\n",
       "5.0    1366\n",
       "3.0    1186\n",
       "1.0     655\n",
       "2.0     643\n",
       "9.0       3\n",
       "Name: DMDEDUC2, dtype: int64"
      ]
     },
     "execution_count": 147,
     "metadata": {},
     "output_type": "execute_result"
    }
   ],
   "source": [
    "datos.DMDEDUC2.value_counts()"
   ]
  },
  {
   "cell_type": "code",
   "execution_count": 167,
   "id": "84751b0c",
   "metadata": {},
   "outputs": [
    {
     "data": {
      "text/html": [
       "<div>\n",
       "<style scoped>\n",
       "    .dataframe tbody tr th:only-of-type {\n",
       "        vertical-align: middle;\n",
       "    }\n",
       "\n",
       "    .dataframe tbody tr th {\n",
       "        vertical-align: top;\n",
       "    }\n",
       "\n",
       "    .dataframe thead th {\n",
       "        text-align: right;\n",
       "    }\n",
       "</style>\n",
       "<table border=\"1\" class=\"dataframe\">\n",
       "  <thead>\n",
       "    <tr style=\"text-align: right;\">\n",
       "      <th>DMDHHSIZ</th>\n",
       "      <th>1</th>\n",
       "      <th>2</th>\n",
       "      <th>3</th>\n",
       "      <th>4</th>\n",
       "      <th>5</th>\n",
       "      <th>6</th>\n",
       "      <th>7</th>\n",
       "    </tr>\n",
       "    <tr>\n",
       "      <th>NIVEL_EDUCATIVO</th>\n",
       "      <th></th>\n",
       "      <th></th>\n",
       "      <th></th>\n",
       "      <th></th>\n",
       "      <th></th>\n",
       "      <th></th>\n",
       "      <th></th>\n",
       "    </tr>\n",
       "  </thead>\n",
       "  <tbody>\n",
       "    <tr>\n",
       "      <th>Bachiller</th>\n",
       "      <td>15.261383</td>\n",
       "      <td>27.065767</td>\n",
       "      <td>17.116358</td>\n",
       "      <td>16.188870</td>\n",
       "      <td>10.961214</td>\n",
       "      <td>6.576728</td>\n",
       "      <td>6.829680</td>\n",
       "    </tr>\n",
       "    <tr>\n",
       "      <th>Desconocido</th>\n",
       "      <td>NaN</td>\n",
       "      <td>66.666667</td>\n",
       "      <td>NaN</td>\n",
       "      <td>NaN</td>\n",
       "      <td>33.333333</td>\n",
       "      <td>NaN</td>\n",
       "      <td>NaN</td>\n",
       "    </tr>\n",
       "    <tr>\n",
       "      <th>No Indica</th>\n",
       "      <td>14.275256</td>\n",
       "      <td>34.773060</td>\n",
       "      <td>19.399707</td>\n",
       "      <td>16.544656</td>\n",
       "      <td>9.516837</td>\n",
       "      <td>2.928258</td>\n",
       "      <td>2.562225</td>\n",
       "    </tr>\n",
       "    <tr>\n",
       "      <th>Noveno Grado</th>\n",
       "      <td>10.992366</td>\n",
       "      <td>22.442748</td>\n",
       "      <td>14.656489</td>\n",
       "      <td>13.282443</td>\n",
       "      <td>14.809160</td>\n",
       "      <td>10.839695</td>\n",
       "      <td>12.977099</td>\n",
       "    </tr>\n",
       "    <tr>\n",
       "      <th>Noveno a Undecimo Grado</th>\n",
       "      <td>11.664075</td>\n",
       "      <td>22.239502</td>\n",
       "      <td>16.329705</td>\n",
       "      <td>15.241058</td>\n",
       "      <td>14.618974</td>\n",
       "      <td>11.353033</td>\n",
       "      <td>8.553655</td>\n",
       "    </tr>\n",
       "    <tr>\n",
       "      <th>Universidad</th>\n",
       "      <td>15.114127</td>\n",
       "      <td>26.896977</td>\n",
       "      <td>19.309068</td>\n",
       "      <td>16.903146</td>\n",
       "      <td>12.214682</td>\n",
       "      <td>5.058606</td>\n",
       "      <td>4.503393</td>\n",
       "    </tr>\n",
       "  </tbody>\n",
       "</table>\n",
       "</div>"
      ],
      "text/plain": [
       "DMDHHSIZ                         1          2          3          4  \\\n",
       "NIVEL_EDUCATIVO                                                       \n",
       "Bachiller                15.261383  27.065767  17.116358  16.188870   \n",
       "Desconocido                    NaN  66.666667        NaN        NaN   \n",
       "No Indica                14.275256  34.773060  19.399707  16.544656   \n",
       "Noveno Grado             10.992366  22.442748  14.656489  13.282443   \n",
       "Noveno a Undecimo Grado  11.664075  22.239502  16.329705  15.241058   \n",
       "Universidad              15.114127  26.896977  19.309068  16.903146   \n",
       "\n",
       "DMDHHSIZ                         5          6          7  \n",
       "NIVEL_EDUCATIVO                                           \n",
       "Bachiller                10.961214   6.576728   6.829680  \n",
       "Desconocido              33.333333        NaN        NaN  \n",
       "No Indica                 9.516837   2.928258   2.562225  \n",
       "Noveno Grado             14.809160  10.839695  12.977099  \n",
       "Noveno a Undecimo Grado  14.618974  11.353033   8.553655  \n",
       "Universidad              12.214682   5.058606   4.503393  "
      ]
     },
     "execution_count": 167,
     "metadata": {},
     "output_type": "execute_result"
    }
   ],
   "source": [
    "datos[\"NIVEL_EDUCATIVO\"] = datos.DMDEDUC2.replace({\n",
    "    1:\"Noveno Grado\",\n",
    "    2:\"Noveno a Undecimo Grado\",\n",
    "    3:\"Bachiller\",\n",
    "    4:\"Universidad\",\n",
    "    5:\"No Indica\",\n",
    "    9:\"Desconocido\"  \n",
    "    \n",
    "}) \n",
    "\n",
    "a = (datos.groupby([\"NIVEL_EDUCATIVO\"]).DMDHHSIZ.value_counts(normalize=True))*100\n",
    "a.unstack()"
   ]
  },
  {
   "cell_type": "code",
   "execution_count": 168,
   "id": "10e3c9e1",
   "metadata": {},
   "outputs": [
    {
     "data": {
      "text/plain": [
       "Index(['SEQN', 'ALQ101', 'ALQ110', 'ALQ130', 'SMQ020', 'RIAGENDR', 'RIDAGEYR',\n",
       "       'RIDRETH1', 'DMDCITZN', 'DMDEDUC2', 'DMDMARTL', 'DMDHHSIZ', 'WTINT2YR',\n",
       "       'SDMVPSU', 'SDMVSTRA', 'INDFMPIR', 'BPXSY1', 'BPXDI1', 'BPXSY2',\n",
       "       'BPXDI2', 'BMXWT', 'BMXHT', 'BMXBMI', 'BMXLEG', 'BMXARML', 'BMXARMC',\n",
       "       'BMXWAIST', 'HIQ210', 'ESTADO_CIVIL', 'SEXO', 'CORTE_EDAD',\n",
       "       'NIVEL_EDUCATIVO'],\n",
       "      dtype='object')"
      ]
     },
     "execution_count": 168,
     "metadata": {},
     "output_type": "execute_result"
    }
   ],
   "source": [
    "datos.columns"
   ]
  },
  {
   "cell_type": "markdown",
   "id": "082a1e83",
   "metadata": {},
   "source": [
    "\n",
    "Restringir la muestra a personas entre 30 y 40 años de edad. Luego calcule el tamaño medio del hogar para mujeres y hombres dentro de cada nivel educativo."
   ]
  },
  {
   "cell_type": "code",
   "execution_count": 182,
   "id": "862fc03e",
   "metadata": {},
   "outputs": [
    {
     "data": {
      "text/plain": [
       "NIVEL_EDUCATIVO          SEXO  \n",
       "Bachiller                HOMBRE    3.273632\n",
       "                         MUJER     3.277873\n",
       "Desconocido              HOMBRE    3.500000\n",
       "                         MUJER     2.000000\n",
       "No Indica                HOMBRE    2.850539\n",
       "                         MUJER     2.969317\n",
       "Noveno Grado             HOMBRE    3.826797\n",
       "                         MUJER     3.830946\n",
       "Noveno a Undecimo Grado  HOMBRE    3.639205\n",
       "                         MUJER     3.711340\n",
       "Universidad              HOMBRE    3.108146\n",
       "                         MUJER     3.225523\n",
       "Name: DMDHHSIZ, dtype: float64"
      ]
     },
     "execution_count": 182,
     "metadata": {},
     "output_type": "execute_result"
    }
   ],
   "source": [
    "dx = datos.loc[(datos.RIDAGEYR >= 30) & (datos.RIDAGEYR<= 40 ) ,:]\n",
    "women = datos.groupby([\"NIVEL_EDUCATIVO\",\"SEXO\"]).DMDHHSIZ.mean()\n",
    "women"
   ]
  },
  {
   "cell_type": "code",
   "execution_count": 194,
   "id": "84e8a206",
   "metadata": {},
   "outputs": [
    {
     "data": {
      "text/plain": [
       "NIVEL_EDUCATIVO\n",
       "Bachiller    3.277873\n",
       "Name: DMDHHSIZ, dtype: float64"
      ]
     },
     "execution_count": 194,
     "metadata": {},
     "output_type": "execute_result"
    }
   ],
   "source": [
    "da = datos.loc[datos.NIVEL_EDUCATIVO.isin([\"Bachiller\"]),:]\n",
    "mujer = da.loc[(da.SEXO==\"MUJER\"),:]\n",
    "\n",
    "mujer.groupby(\"NIVEL_EDUCATIVO\").DMDHHSIZ.mean()"
   ]
  },
  {
   "cell_type": "markdown",
   "id": "e50aff28",
   "metadata": {},
   "source": [
    "Los participantes se pueden agrupar en \"unidades de varianza hechas\" (MVU) en función de cada combinación de las variables SDMVSTRA y SDMVPSU. Calcule la edad media (RIDAGEYR), la altura (BMXHT) y el IMC (BMXBMI) para cada sexo (RIAGENDR), dentro de cada MVU, e informe la relación entre la media más grande y la más pequeña (por ejemplo, para la altura) en las MVU."
   ]
  },
  {
   "cell_type": "code",
   "execution_count": 202,
   "id": "d383c831",
   "metadata": {},
   "outputs": [
    {
     "name": "stdout",
     "output_type": "stream",
     "text": [
      "18.014982625548203\n"
     ]
    },
    {
     "data": {
      "text/plain": [
       "0.2498967142260763"
      ]
     },
     "execution_count": 202,
     "metadata": {},
     "output_type": "execute_result"
    }
   ],
   "source": [
    "# varianza\n",
    "\n",
    "varianza = datos[\"SDMVSTRA\"].var()\n",
    "print(varianza)\n",
    "varianza = datos[\"SDMVPSU\"].var()\n",
    "varianza"
   ]
  },
  {
   "cell_type": "code",
   "execution_count": 39,
   "id": "abc07ce9",
   "metadata": {},
   "outputs": [
    {
     "data": {
      "text/html": [
       "<div>\n",
       "<style scoped>\n",
       "    .dataframe tbody tr th:only-of-type {\n",
       "        vertical-align: middle;\n",
       "    }\n",
       "\n",
       "    .dataframe tbody tr th {\n",
       "        vertical-align: top;\n",
       "    }\n",
       "\n",
       "    .dataframe thead th {\n",
       "        text-align: right;\n",
       "    }\n",
       "</style>\n",
       "<table border=\"1\" class=\"dataframe\">\n",
       "  <thead>\n",
       "    <tr style=\"text-align: right;\">\n",
       "      <th></th>\n",
       "      <th>SEQN</th>\n",
       "      <th>ALQ101</th>\n",
       "      <th>ALQ110</th>\n",
       "      <th>ALQ130</th>\n",
       "      <th>SMQ020</th>\n",
       "      <th>RIAGENDR</th>\n",
       "      <th>RIDAGEYR</th>\n",
       "      <th>RIDRETH1</th>\n",
       "      <th>DMDCITZN</th>\n",
       "      <th>DMDEDUC2</th>\n",
       "      <th>...</th>\n",
       "      <th>BPXSY2</th>\n",
       "      <th>BPXDI2</th>\n",
       "      <th>BMXWT</th>\n",
       "      <th>BMXHT</th>\n",
       "      <th>BMXBMI</th>\n",
       "      <th>BMXLEG</th>\n",
       "      <th>BMXARML</th>\n",
       "      <th>BMXARMC</th>\n",
       "      <th>BMXWAIST</th>\n",
       "      <th>HIQ210</th>\n",
       "    </tr>\n",
       "  </thead>\n",
       "  <tbody>\n",
       "    <tr>\n",
       "      <th>0</th>\n",
       "      <td>83732</td>\n",
       "      <td>1.0</td>\n",
       "      <td>NaN</td>\n",
       "      <td>1.0</td>\n",
       "      <td>1</td>\n",
       "      <td>1</td>\n",
       "      <td>62</td>\n",
       "      <td>3</td>\n",
       "      <td>1.0</td>\n",
       "      <td>5.0</td>\n",
       "      <td>...</td>\n",
       "      <td>124.0</td>\n",
       "      <td>64.0</td>\n",
       "      <td>94.8</td>\n",
       "      <td>184.5</td>\n",
       "      <td>27.8</td>\n",
       "      <td>43.3</td>\n",
       "      <td>43.6</td>\n",
       "      <td>35.9</td>\n",
       "      <td>101.1</td>\n",
       "      <td>2.0</td>\n",
       "    </tr>\n",
       "    <tr>\n",
       "      <th>1</th>\n",
       "      <td>83733</td>\n",
       "      <td>1.0</td>\n",
       "      <td>NaN</td>\n",
       "      <td>6.0</td>\n",
       "      <td>1</td>\n",
       "      <td>1</td>\n",
       "      <td>53</td>\n",
       "      <td>3</td>\n",
       "      <td>2.0</td>\n",
       "      <td>3.0</td>\n",
       "      <td>...</td>\n",
       "      <td>140.0</td>\n",
       "      <td>88.0</td>\n",
       "      <td>90.4</td>\n",
       "      <td>171.4</td>\n",
       "      <td>30.8</td>\n",
       "      <td>38.0</td>\n",
       "      <td>40.0</td>\n",
       "      <td>33.2</td>\n",
       "      <td>107.9</td>\n",
       "      <td>NaN</td>\n",
       "    </tr>\n",
       "    <tr>\n",
       "      <th>2</th>\n",
       "      <td>83734</td>\n",
       "      <td>1.0</td>\n",
       "      <td>NaN</td>\n",
       "      <td>NaN</td>\n",
       "      <td>1</td>\n",
       "      <td>1</td>\n",
       "      <td>78</td>\n",
       "      <td>3</td>\n",
       "      <td>1.0</td>\n",
       "      <td>3.0</td>\n",
       "      <td>...</td>\n",
       "      <td>132.0</td>\n",
       "      <td>44.0</td>\n",
       "      <td>83.4</td>\n",
       "      <td>170.1</td>\n",
       "      <td>28.8</td>\n",
       "      <td>35.6</td>\n",
       "      <td>37.0</td>\n",
       "      <td>31.0</td>\n",
       "      <td>116.5</td>\n",
       "      <td>2.0</td>\n",
       "    </tr>\n",
       "    <tr>\n",
       "      <th>3</th>\n",
       "      <td>83735</td>\n",
       "      <td>2.0</td>\n",
       "      <td>1.0</td>\n",
       "      <td>1.0</td>\n",
       "      <td>2</td>\n",
       "      <td>2</td>\n",
       "      <td>56</td>\n",
       "      <td>3</td>\n",
       "      <td>1.0</td>\n",
       "      <td>5.0</td>\n",
       "      <td>...</td>\n",
       "      <td>134.0</td>\n",
       "      <td>68.0</td>\n",
       "      <td>109.8</td>\n",
       "      <td>160.9</td>\n",
       "      <td>42.4</td>\n",
       "      <td>38.5</td>\n",
       "      <td>37.7</td>\n",
       "      <td>38.3</td>\n",
       "      <td>110.1</td>\n",
       "      <td>2.0</td>\n",
       "    </tr>\n",
       "    <tr>\n",
       "      <th>4</th>\n",
       "      <td>83736</td>\n",
       "      <td>2.0</td>\n",
       "      <td>1.0</td>\n",
       "      <td>1.0</td>\n",
       "      <td>2</td>\n",
       "      <td>2</td>\n",
       "      <td>42</td>\n",
       "      <td>4</td>\n",
       "      <td>1.0</td>\n",
       "      <td>4.0</td>\n",
       "      <td>...</td>\n",
       "      <td>114.0</td>\n",
       "      <td>54.0</td>\n",
       "      <td>55.2</td>\n",
       "      <td>164.9</td>\n",
       "      <td>20.3</td>\n",
       "      <td>37.4</td>\n",
       "      <td>36.0</td>\n",
       "      <td>27.2</td>\n",
       "      <td>80.4</td>\n",
       "      <td>2.0</td>\n",
       "    </tr>\n",
       "  </tbody>\n",
       "</table>\n",
       "<p>5 rows × 28 columns</p>\n",
       "</div>"
      ],
      "text/plain": [
       "    SEQN  ALQ101  ALQ110  ALQ130  SMQ020  RIAGENDR  RIDAGEYR  RIDRETH1  \\\n",
       "0  83732     1.0     NaN     1.0       1         1        62         3   \n",
       "1  83733     1.0     NaN     6.0       1         1        53         3   \n",
       "2  83734     1.0     NaN     NaN       1         1        78         3   \n",
       "3  83735     2.0     1.0     1.0       2         2        56         3   \n",
       "4  83736     2.0     1.0     1.0       2         2        42         4   \n",
       "\n",
       "   DMDCITZN  DMDEDUC2  ...  BPXSY2  BPXDI2  BMXWT  BMXHT  BMXBMI  BMXLEG  \\\n",
       "0       1.0       5.0  ...   124.0    64.0   94.8  184.5    27.8    43.3   \n",
       "1       2.0       3.0  ...   140.0    88.0   90.4  171.4    30.8    38.0   \n",
       "2       1.0       3.0  ...   132.0    44.0   83.4  170.1    28.8    35.6   \n",
       "3       1.0       5.0  ...   134.0    68.0  109.8  160.9    42.4    38.5   \n",
       "4       1.0       4.0  ...   114.0    54.0   55.2  164.9    20.3    37.4   \n",
       "\n",
       "   BMXARML  BMXARMC  BMXWAIST  HIQ210  \n",
       "0     43.6     35.9     101.1     2.0  \n",
       "1     40.0     33.2     107.9     NaN  \n",
       "2     37.0     31.0     116.5     2.0  \n",
       "3     37.7     38.3     110.1     2.0  \n",
       "4     36.0     27.2      80.4     2.0  \n",
       "\n",
       "[5 rows x 28 columns]"
      ]
     },
     "execution_count": 39,
     "metadata": {},
     "output_type": "execute_result"
    }
   ],
   "source": [
    "datos.head()"
   ]
  },
  {
   "cell_type": "code",
   "execution_count": 28,
   "id": "ccfe0d1d",
   "metadata": {},
   "outputs": [
    {
     "data": {
      "text/plain": [
       "max    55.638462\n",
       "min    42.541667\n",
       "Name: RIDAGEYR, dtype: float64"
      ]
     },
     "execution_count": 28,
     "metadata": {},
     "output_type": "execute_result"
    }
   ],
   "source": [
    "mujer = datos.loc[(datos.RIAGENDR == 2),:]\n",
    "\n",
    "mujer.groupby([\"SDMVSTRA\",\"SDMVPSU\"]).RIDAGEYR.mean().agg([max,min])"
   ]
  },
  {
   "cell_type": "code",
   "execution_count": 29,
   "id": "0d07b43c",
   "metadata": {},
   "outputs": [
    {
     "data": {
      "text/plain": [
       "max    55.165289\n",
       "min    42.063158\n",
       "Name: RIDAGEYR, dtype: float64"
      ]
     },
     "execution_count": 29,
     "metadata": {},
     "output_type": "execute_result"
    }
   ],
   "source": [
    "hombre = datos.loc[(datos.RIAGENDR == 1),:]\n",
    "\n",
    "hombre.groupby([\"SDMVSTRA\",\"SDMVPSU\"]).RIDAGEYR.mean().agg([max,min])"
   ]
  },
  {
   "cell_type": "code",
   "execution_count": 38,
   "id": "41c25fd6",
   "metadata": {},
   "outputs": [
    {
     "name": "stdout",
     "output_type": "stream",
     "text": [
      "hombre \n",
      "  max    176.974157\n",
      "min    169.325000\n",
      "Name: BMXHT, dtype: float64\n",
      "mujer \n",
      "  max    162.853521\n",
      "min    155.402041\n",
      "Name: BMXHT, dtype: float64\n"
     ]
    }
   ],
   "source": [
    "print(\"hombre \\n \",hombre.groupby([\"SDMVSTRA\",\"SDMVPSU\"]).BMXHT.mean().agg([max,min]))\n",
    "print(\"mujer \\n \",mujer.groupby([\"SDMVSTRA\",\"SDMVPSU\"]).BMXHT.mean().agg([max,min]))"
   ]
  },
  {
   "cell_type": "code",
   "execution_count": 50,
   "id": "0f9919ed",
   "metadata": {},
   "outputs": [
    {
     "name": "stdout",
     "output_type": "stream",
     "text": [
      "hombre \n",
      "  max    0.001115\n",
      "min    0.000864\n",
      "Name: IMC, dtype: float64\n",
      "mujer \n",
      "  max    0.001115\n",
      "min    0.000864\n",
      "Name: IMC, dtype: float64\n"
     ]
    }
   ],
   "source": [
    "datos[\"IMC\"] = (datos.BMXBMI/(datos.BMXHT*datos.BMXHT))\n",
    "hombre = datos.loc[(datos.RIAGENDR == 1),:]\n",
    "mujer = datos.loc[(datos.RIAGENDR == 1),:]\n",
    "\n",
    "print(\"hombre \\n \",hombre.groupby([\"SDMVSTRA\",\"SDMVPSU\"]).IMC.mean().agg([max,min]))\n",
    "print(\"mujer \\n \",mujer.groupby([\"SDMVSTRA\",\"SDMVPSU\"]).IMC.mean().agg([max,min]))\n"
   ]
  },
  {
   "cell_type": "code",
   "execution_count": 46,
   "id": "e40b56df",
   "metadata": {},
   "outputs": [
    {
     "data": {
      "text/plain": [
       "3       160.9\n",
       "4       164.9\n",
       "5       150.0\n",
       "7       151.3\n",
       "12      163.6\n",
       "        ...  \n",
       "5724    166.9\n",
       "5727    151.9\n",
       "5730    165.8\n",
       "5732    152.2\n",
       "5734    165.0\n",
       "Name: BMXHT, Length: 2976, dtype: float64"
      ]
     },
     "execution_count": 46,
     "metadata": {},
     "output_type": "execute_result"
    }
   ],
   "source": [
    "mujer.BMXHT"
   ]
  },
  {
   "cell_type": "code",
   "execution_count": 60,
   "id": "0436b89d",
   "metadata": {},
   "outputs": [
    {
     "name": "stdout",
     "output_type": "stream",
     "text": [
      "27.8 184.5\n"
     ]
    },
    {
     "data": {
      "text/plain": [
       "0.0008166802535234024"
      ]
     },
     "execution_count": 60,
     "metadata": {},
     "output_type": "execute_result"
    }
   ],
   "source": [
    "A=datos.BMXBMI.loc[0]\n",
    "B=datos.BMXHT.loc[0]\n",
    "print(A,B)\n",
    "\n",
    "(A/(B*B))"
   ]
  },
  {
   "cell_type": "markdown",
   "id": "274963af",
   "metadata": {},
   "source": [
    "Calcule el rango intercuartílico (IQR) para la edad, la altura y el IMC para cada sexo y cada MVU. Informe la relación entre el IQR más grande y el más pequeño en las MVU."
   ]
  },
  {
   "cell_type": "code",
   "execution_count": 84,
   "id": "e52766f0",
   "metadata": {},
   "outputs": [
    {
     "data": {
      "text/plain": [
       "8.7"
      ]
     },
     "execution_count": 84,
     "metadata": {},
     "output_type": "execute_result"
    }
   ],
   "source": [
    "datos.BMXBMI.quantile(0.75) - datos.BMXBMI.quantile(0.25)"
   ]
  },
  {
   "cell_type": "code",
   "execution_count": 82,
   "id": "6b8fd50f",
   "metadata": {},
   "outputs": [
    {
     "data": {
      "text/plain": [
       "0.5    28.3\n",
       "Name: BMXBMI, dtype: float64"
      ]
     },
     "execution_count": 82,
     "metadata": {},
     "output_type": "execute_result"
    }
   ],
   "source": [
    "a = datos.BMXBMI.quantile([0.75-0.25])\n",
    "a"
   ]
  },
  {
   "cell_type": "code",
   "execution_count": 77,
   "id": "c18613ec",
   "metadata": {},
   "outputs": [
    {
     "data": {
      "text/plain": [
       "8.7"
      ]
     },
     "execution_count": 77,
     "metadata": {},
     "output_type": "execute_result"
    }
   ],
   "source": [
    "33-24.3"
   ]
  },
  {
   "cell_type": "code",
   "execution_count": 95,
   "id": "a95f395b",
   "metadata": {},
   "outputs": [
    {
     "data": {
      "text/plain": [
       "18.686432773712156"
      ]
     },
     "execution_count": 95,
     "metadata": {},
     "output_type": "execute_result"
    }
   ],
   "source": [
    "edad = datos.groupby([\"SDMVSTRA\",\"SDMVPSU\"]).RIDAGEYR.mean().quantile(0.75) - datos.RIDAGEYR\n",
    "edad"
   ]
  },
  {
   "cell_type": "code",
   "execution_count": 90,
   "id": "c8ec6301",
   "metadata": {},
   "outputs": [
    {
     "data": {
      "text/plain": [
       "31.0"
      ]
     },
     "execution_count": 90,
     "metadata": {},
     "output_type": "execute_result"
    }
   ],
   "source": [
    "a = datos.RIDAGEYR.quantile(0.25)\n",
    "b = datos.RIDAGEYR.quantile(0.75)\n",
    "\n",
    "b - a"
   ]
  },
  {
   "cell_type": "code",
   "execution_count": 139,
   "id": "9c3757f4",
   "metadata": {},
   "outputs": [
    {
     "name": "stdout",
     "output_type": "stream",
     "text": [
      "0       31.0\n",
      "1       31.0\n",
      "2       31.0\n",
      "3       31.0\n",
      "4       31.0\n",
      "        ... \n",
      "5730    31.0\n",
      "5731    31.0\n",
      "5732    31.0\n",
      "5733    31.0\n",
      "5734    31.0\n",
      "Name: iqr_años, Length: 5735, dtype: float64\n",
      "31.0\n"
     ]
    },
    {
     "data": {
      "text/html": [
       "<div>\n",
       "<style scoped>\n",
       "    .dataframe tbody tr th:only-of-type {\n",
       "        vertical-align: middle;\n",
       "    }\n",
       "\n",
       "    .dataframe tbody tr th {\n",
       "        vertical-align: top;\n",
       "    }\n",
       "\n",
       "    .dataframe thead th {\n",
       "        text-align: right;\n",
       "    }\n",
       "</style>\n",
       "<table border=\"1\" class=\"dataframe\">\n",
       "  <thead>\n",
       "    <tr style=\"text-align: right;\">\n",
       "      <th></th>\n",
       "      <th>SEQN</th>\n",
       "      <th>ALQ101</th>\n",
       "      <th>ALQ110</th>\n",
       "      <th>ALQ130</th>\n",
       "      <th>SMQ020</th>\n",
       "      <th>RIAGENDR</th>\n",
       "      <th>RIDAGEYR</th>\n",
       "      <th>RIDRETH1</th>\n",
       "      <th>DMDCITZN</th>\n",
       "      <th>DMDEDUC2</th>\n",
       "      <th>...</th>\n",
       "      <th>BMXWT</th>\n",
       "      <th>BMXHT</th>\n",
       "      <th>BMXBMI</th>\n",
       "      <th>BMXLEG</th>\n",
       "      <th>BMXARML</th>\n",
       "      <th>BMXARMC</th>\n",
       "      <th>BMXWAIST</th>\n",
       "      <th>HIQ210</th>\n",
       "      <th>IMC</th>\n",
       "      <th>iqr_años</th>\n",
       "    </tr>\n",
       "  </thead>\n",
       "  <tbody>\n",
       "    <tr>\n",
       "      <th>0</th>\n",
       "      <td>83732</td>\n",
       "      <td>1.0</td>\n",
       "      <td>NaN</td>\n",
       "      <td>1.0</td>\n",
       "      <td>1</td>\n",
       "      <td>1</td>\n",
       "      <td>62</td>\n",
       "      <td>3</td>\n",
       "      <td>1.0</td>\n",
       "      <td>5.0</td>\n",
       "      <td>...</td>\n",
       "      <td>94.8</td>\n",
       "      <td>184.5</td>\n",
       "      <td>27.8</td>\n",
       "      <td>43.3</td>\n",
       "      <td>43.6</td>\n",
       "      <td>35.9</td>\n",
       "      <td>101.1</td>\n",
       "      <td>2.0</td>\n",
       "      <td>0.000817</td>\n",
       "      <td>31.0</td>\n",
       "    </tr>\n",
       "    <tr>\n",
       "      <th>1</th>\n",
       "      <td>83733</td>\n",
       "      <td>1.0</td>\n",
       "      <td>NaN</td>\n",
       "      <td>6.0</td>\n",
       "      <td>1</td>\n",
       "      <td>1</td>\n",
       "      <td>53</td>\n",
       "      <td>3</td>\n",
       "      <td>2.0</td>\n",
       "      <td>3.0</td>\n",
       "      <td>...</td>\n",
       "      <td>90.4</td>\n",
       "      <td>171.4</td>\n",
       "      <td>30.8</td>\n",
       "      <td>38.0</td>\n",
       "      <td>40.0</td>\n",
       "      <td>33.2</td>\n",
       "      <td>107.9</td>\n",
       "      <td>NaN</td>\n",
       "      <td>0.001048</td>\n",
       "      <td>31.0</td>\n",
       "    </tr>\n",
       "    <tr>\n",
       "      <th>2</th>\n",
       "      <td>83734</td>\n",
       "      <td>1.0</td>\n",
       "      <td>NaN</td>\n",
       "      <td>NaN</td>\n",
       "      <td>1</td>\n",
       "      <td>1</td>\n",
       "      <td>78</td>\n",
       "      <td>3</td>\n",
       "      <td>1.0</td>\n",
       "      <td>3.0</td>\n",
       "      <td>...</td>\n",
       "      <td>83.4</td>\n",
       "      <td>170.1</td>\n",
       "      <td>28.8</td>\n",
       "      <td>35.6</td>\n",
       "      <td>37.0</td>\n",
       "      <td>31.0</td>\n",
       "      <td>116.5</td>\n",
       "      <td>2.0</td>\n",
       "      <td>0.000995</td>\n",
       "      <td>31.0</td>\n",
       "    </tr>\n",
       "    <tr>\n",
       "      <th>3</th>\n",
       "      <td>83735</td>\n",
       "      <td>2.0</td>\n",
       "      <td>1.0</td>\n",
       "      <td>1.0</td>\n",
       "      <td>2</td>\n",
       "      <td>2</td>\n",
       "      <td>56</td>\n",
       "      <td>3</td>\n",
       "      <td>1.0</td>\n",
       "      <td>5.0</td>\n",
       "      <td>...</td>\n",
       "      <td>109.8</td>\n",
       "      <td>160.9</td>\n",
       "      <td>42.4</td>\n",
       "      <td>38.5</td>\n",
       "      <td>37.7</td>\n",
       "      <td>38.3</td>\n",
       "      <td>110.1</td>\n",
       "      <td>2.0</td>\n",
       "      <td>0.001638</td>\n",
       "      <td>31.0</td>\n",
       "    </tr>\n",
       "    <tr>\n",
       "      <th>4</th>\n",
       "      <td>83736</td>\n",
       "      <td>2.0</td>\n",
       "      <td>1.0</td>\n",
       "      <td>1.0</td>\n",
       "      <td>2</td>\n",
       "      <td>2</td>\n",
       "      <td>42</td>\n",
       "      <td>4</td>\n",
       "      <td>1.0</td>\n",
       "      <td>4.0</td>\n",
       "      <td>...</td>\n",
       "      <td>55.2</td>\n",
       "      <td>164.9</td>\n",
       "      <td>20.3</td>\n",
       "      <td>37.4</td>\n",
       "      <td>36.0</td>\n",
       "      <td>27.2</td>\n",
       "      <td>80.4</td>\n",
       "      <td>2.0</td>\n",
       "      <td>0.000747</td>\n",
       "      <td>31.0</td>\n",
       "    </tr>\n",
       "  </tbody>\n",
       "</table>\n",
       "<p>5 rows × 30 columns</p>\n",
       "</div>"
      ],
      "text/plain": [
       "    SEQN  ALQ101  ALQ110  ALQ130  SMQ020  RIAGENDR  RIDAGEYR  RIDRETH1  \\\n",
       "0  83732     1.0     NaN     1.0       1         1        62         3   \n",
       "1  83733     1.0     NaN     6.0       1         1        53         3   \n",
       "2  83734     1.0     NaN     NaN       1         1        78         3   \n",
       "3  83735     2.0     1.0     1.0       2         2        56         3   \n",
       "4  83736     2.0     1.0     1.0       2         2        42         4   \n",
       "\n",
       "   DMDCITZN  DMDEDUC2  ...  BMXWT  BMXHT  BMXBMI  BMXLEG  BMXARML  BMXARMC  \\\n",
       "0       1.0       5.0  ...   94.8  184.5    27.8    43.3     43.6     35.9   \n",
       "1       2.0       3.0  ...   90.4  171.4    30.8    38.0     40.0     33.2   \n",
       "2       1.0       3.0  ...   83.4  170.1    28.8    35.6     37.0     31.0   \n",
       "3       1.0       5.0  ...  109.8  160.9    42.4    38.5     37.7     38.3   \n",
       "4       1.0       4.0  ...   55.2  164.9    20.3    37.4     36.0     27.2   \n",
       "\n",
       "   BMXWAIST  HIQ210       IMC  iqr_años  \n",
       "0     101.1     2.0  0.000817      31.0  \n",
       "1     107.9     NaN  0.001048      31.0  \n",
       "2     116.5     2.0  0.000995      31.0  \n",
       "3     110.1     2.0  0.001638      31.0  \n",
       "4      80.4     2.0  0.000747      31.0  \n",
       "\n",
       "[5 rows x 30 columns]"
      ]
     },
     "execution_count": 139,
     "metadata": {},
     "output_type": "execute_result"
    }
   ],
   "source": [
    "datos[\"iqr_años\"] = datos.RIDAGEYR.quantile(0.75) - datos.RIDAGEYR.quantile(0.25)\n",
    "print(datos.iqr_años)\n",
    "\n",
    "import scipy.stats as stats\n",
    "\n",
    "print(stats.iqr(datos.RIDAGEYR))\n",
    "datos.head()"
   ]
  },
  {
   "cell_type": "code",
   "execution_count": 147,
   "id": "662366db",
   "metadata": {},
   "outputs": [
    {
     "name": "stdout",
     "output_type": "stream",
     "text": [
      "                    iqr\n",
      "SDMVSTRA SDMVPSU       \n",
      "119      1        31.25\n",
      "         2        33.50\n",
      "120      1        26.50\n",
      "         2        25.75\n",
      "121      1        26.25\n",
      "         2        26.00\n",
      "122      1        24.00\n",
      "         2        25.00\n",
      "123      1        30.50\n",
      "         2        34.50\n",
      "124      1        27.00\n",
      "         2        23.50\n",
      "125      1        31.00\n",
      "         2        32.25\n",
      "126      1        30.25\n",
      "         2        31.75\n",
      "127      1        27.25\n",
      "         2        30.00\n",
      "128      1        28.00\n",
      "         2        22.00\n",
      "129      1        24.75\n",
      "         2        26.25\n",
      "130      1        35.50\n",
      "         2        30.25\n",
      "131      1        35.75\n",
      "         2        24.00\n",
      "132      1        30.00\n",
      "         2        33.00\n",
      "133      1        34.00\n",
      "         2        28.50\n",
      "------------------\n",
      "                    iqr\n",
      "SDMVSTRA SDMVPSU       \n",
      "119      1        29.75\n",
      "         2        29.00\n",
      "120      1        23.75\n",
      "         2        26.00\n",
      "121      1        34.50\n",
      "         2        25.50\n",
      "122      1        29.50\n",
      "         2        30.00\n",
      "123      1        28.25\n",
      "         2        31.50\n",
      "124      1        32.00\n",
      "         2        31.00\n",
      "125      1        29.00\n",
      "         2        33.50\n",
      "126      1        36.25\n",
      "         2        34.00\n",
      "127      1        30.00\n",
      "         2        28.00\n",
      "128      1        33.00\n",
      "         2        25.50\n",
      "129      1        20.75\n",
      "         2        30.75\n",
      "130      1        36.00\n",
      "         2        28.50\n",
      "131      1        36.00\n",
      "         2        28.00\n",
      "132      1        21.25\n",
      "         2        38.00\n",
      "133      1        33.00\n",
      "         2        32.25\n"
     ]
    }
   ],
   "source": [
    "mujer = datos.loc[(datos.RIAGENDR == 2),:]\n",
    "hombre = datos.loc[(datos.RIAGENDR == 1),:]\n",
    "\n",
    "\n",
    "años_mujer = mujer.groupby([\"SDMVSTRA\",\"SDMVPSU\"]).RIDAGEYR.agg([stats.iqr])\n",
    "print(años_mujer)\n",
    "print(\"--\"*9)\n",
    "años_hombre = hombre.groupby([\"SDMVSTRA\",\"SDMVPSU\"]).RIDAGEYR.agg([stats.iqr])\n",
    "print(años_hombre)"
   ]
  },
  {
   "cell_type": "code",
   "execution_count": 142,
   "id": "72a07f65",
   "metadata": {},
   "outputs": [
    {
     "name": "stdout",
     "output_type": "stream",
     "text": [
      "\n",
      "BMXBMI GROUPED\n",
      "SDMVSTRA  SDMVPSU\n",
      "119       1          31.25\n",
      "          2          33.00\n",
      "120       1          26.00\n",
      "          2          27.00\n",
      "121       1          31.50\n",
      "          2          25.00\n",
      "122       1          27.00\n",
      "          2          28.75\n",
      "123       1          30.00\n",
      "          2          33.00\n",
      "124       1          30.00\n",
      "          2          26.00\n",
      "125       1          29.50\n",
      "          2          33.75\n",
      "126       1          33.00\n",
      "          2          32.50\n",
      "127       1          29.00\n",
      "          2          27.75\n",
      "128       1          30.00\n",
      "          2          24.00\n",
      "129       1          22.25\n",
      "          2          28.75\n",
      "130       1          35.25\n",
      "          2          29.00\n",
      "131       1          36.00\n",
      "          2          27.00\n",
      "132       1          25.00\n",
      "          2          35.00\n",
      "133       1          33.75\n",
      "          2          31.00\n",
      "Name: RIDAGEYR, dtype: float64\n"
     ]
    }
   ],
   "source": [
    "import pandas as pd\n",
    "from scipy.stats import iqr\n",
    "\n",
    "df = pd.read_csv(\"nhanes_2015_2016.csv\")\n",
    "\n",
    "# create a new \"grouped\" dataset\n",
    "BMXBMIGrp = df[df.RIDAGEYR.notna()].groupby(['SDMVSTRA', 'SDMVPSU'])\n",
    "\n",
    "# print a heading\n",
    "print(\"\\nBMXBMI GROUPED\")\n",
    "\n",
    "# print the \"grouped\" IQR\n",
    "print(BMXBMIGrp[\"RIDAGEYR\"].agg(iqr))"
   ]
  },
  {
   "cell_type": "code",
   "execution_count": null,
   "id": "dca0bda9",
   "metadata": {},
   "outputs": [],
   "source": []
  }
 ],
 "metadata": {
  "kernelspec": {
   "display_name": "Python 3 (ipykernel)",
   "language": "python",
   "name": "python3"
  },
  "language_info": {
   "codemirror_mode": {
    "name": "ipython",
    "version": 3
   },
   "file_extension": ".py",
   "mimetype": "text/x-python",
   "name": "python",
   "nbconvert_exporter": "python",
   "pygments_lexer": "ipython3",
   "version": "3.9.13"
  }
 },
 "nbformat": 4,
 "nbformat_minor": 5
}
