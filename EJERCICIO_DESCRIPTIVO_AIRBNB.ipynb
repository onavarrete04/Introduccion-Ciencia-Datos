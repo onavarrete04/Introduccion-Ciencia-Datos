{
 "cells": [
  {
   "cell_type": "code",
   "execution_count": 1,
   "id": "a4834f02-194d-4523-ad3f-a01c17a48be1",
   "metadata": {},
   "outputs": [
    {
     "name": "stderr",
     "output_type": "stream",
     "text": [
      "/tmp/ipykernel_12697/3140855592.py:6: DtypeWarning: Columns (30) have mixed types. Specify dtype option on import or set low_memory=False.\n",
      "  datos = pd.read_csv(\"AIRBNB.csv\")\n"
     ]
    },
    {
     "data": {
      "text/html": [
       "<div>\n",
       "<style scoped>\n",
       "    .dataframe tbody tr th:only-of-type {\n",
       "        vertical-align: middle;\n",
       "    }\n",
       "\n",
       "    .dataframe tbody tr th {\n",
       "        vertical-align: top;\n",
       "    }\n",
       "\n",
       "    .dataframe thead th {\n",
       "        text-align: right;\n",
       "    }\n",
       "</style>\n",
       "<table border=\"1\" class=\"dataframe\">\n",
       "  <thead>\n",
       "    <tr style=\"text-align: right;\">\n",
       "      <th></th>\n",
       "      <th>id</th>\n",
       "      <th>listing_url</th>\n",
       "      <th>scrape_id</th>\n",
       "      <th>last_scraped</th>\n",
       "      <th>name</th>\n",
       "      <th>description</th>\n",
       "      <th>neighborhood_overview</th>\n",
       "      <th>picture_url</th>\n",
       "      <th>host_id</th>\n",
       "      <th>host_url</th>\n",
       "      <th>...</th>\n",
       "      <th>review_scores_communication</th>\n",
       "      <th>review_scores_location</th>\n",
       "      <th>review_scores_value</th>\n",
       "      <th>license</th>\n",
       "      <th>instant_bookable</th>\n",
       "      <th>calculated_host_listings_count</th>\n",
       "      <th>calculated_host_listings_count_entire_homes</th>\n",
       "      <th>calculated_host_listings_count_private_rooms</th>\n",
       "      <th>calculated_host_listings_count_shared_rooms</th>\n",
       "      <th>reviews_per_month</th>\n",
       "    </tr>\n",
       "  </thead>\n",
       "  <tbody>\n",
       "    <tr>\n",
       "      <th>0</th>\n",
       "      <td>2818</td>\n",
       "      <td>https://www.airbnb.com/rooms/2818</td>\n",
       "      <td>20210409161549</td>\n",
       "      <td>12/04/2021</td>\n",
       "      <td>Quiet Garden View Room &amp; Super Fast WiFi</td>\n",
       "      <td>Quiet Garden View Room &amp; Super Fast WiFi&lt;br /&gt;...</td>\n",
       "      <td>Indische Buurt (\"Indies Neighborhood\") is a ne...</td>\n",
       "      <td>https://a0.muscache.com/pictures/10272854/8dcc...</td>\n",
       "      <td>3159</td>\n",
       "      <td>https://www.airbnb.com/users/show/3159</td>\n",
       "      <td>...</td>\n",
       "      <td>10.0</td>\n",
       "      <td>9.0</td>\n",
       "      <td>10.0</td>\n",
       "      <td>NaN</td>\n",
       "      <td>t</td>\n",
       "      <td>1</td>\n",
       "      <td>0</td>\n",
       "      <td>1</td>\n",
       "      <td>0</td>\n",
       "      <td>1.90</td>\n",
       "    </tr>\n",
       "    <tr>\n",
       "      <th>1</th>\n",
       "      <td>20168</td>\n",
       "      <td>https://www.airbnb.com/rooms/20168</td>\n",
       "      <td>20210409161549</td>\n",
       "      <td>12/04/2021</td>\n",
       "      <td>Studio with private bathroom in the centre 1</td>\n",
       "      <td>17th century Dutch townhouse in the heart of t...</td>\n",
       "      <td>Located just in between famous central canals....</td>\n",
       "      <td>https://a0.muscache.com/pictures/69979628/fd6a...</td>\n",
       "      <td>59484</td>\n",
       "      <td>https://www.airbnb.com/users/show/59484</td>\n",
       "      <td>...</td>\n",
       "      <td>10.0</td>\n",
       "      <td>10.0</td>\n",
       "      <td>9.0</td>\n",
       "      <td>0363 CBB3 2C10 0C2A 1E29</td>\n",
       "      <td>t</td>\n",
       "      <td>2</td>\n",
       "      <td>0</td>\n",
       "      <td>2</td>\n",
       "      <td>0</td>\n",
       "      <td>2.50</td>\n",
       "    </tr>\n",
       "    <tr>\n",
       "      <th>2</th>\n",
       "      <td>25428</td>\n",
       "      <td>https://www.airbnb.com/rooms/25428</td>\n",
       "      <td>20210409161549</td>\n",
       "      <td>11/04/2021</td>\n",
       "      <td>Lovely, 1 bed apt in Ctr (w.lift) -3/20-6/20(f...</td>\n",
       "      <td>Lovely apt in Centre ( lift &amp; fireplace) near ...</td>\n",
       "      <td>NaN</td>\n",
       "      <td>https://a0.muscache.com/pictures/138431/7079a9...</td>\n",
       "      <td>56142</td>\n",
       "      <td>https://www.airbnb.com/users/show/56142</td>\n",
       "      <td>...</td>\n",
       "      <td>10.0</td>\n",
       "      <td>10.0</td>\n",
       "      <td>10.0</td>\n",
       "      <td>NaN</td>\n",
       "      <td>f</td>\n",
       "      <td>2</td>\n",
       "      <td>2</td>\n",
       "      <td>0</td>\n",
       "      <td>0</td>\n",
       "      <td>0.13</td>\n",
       "    </tr>\n",
       "  </tbody>\n",
       "</table>\n",
       "<p>3 rows × 74 columns</p>\n",
       "</div>"
      ],
      "text/plain": [
       "      id                         listing_url       scrape_id last_scraped  \\\n",
       "0   2818   https://www.airbnb.com/rooms/2818  20210409161549   12/04/2021   \n",
       "1  20168  https://www.airbnb.com/rooms/20168  20210409161549   12/04/2021   \n",
       "2  25428  https://www.airbnb.com/rooms/25428  20210409161549   11/04/2021   \n",
       "\n",
       "                                                name  \\\n",
       "0           Quiet Garden View Room & Super Fast WiFi   \n",
       "1       Studio with private bathroom in the centre 1   \n",
       "2  Lovely, 1 bed apt in Ctr (w.lift) -3/20-6/20(f...   \n",
       "\n",
       "                                         description  \\\n",
       "0  Quiet Garden View Room & Super Fast WiFi<br />...   \n",
       "1  17th century Dutch townhouse in the heart of t...   \n",
       "2  Lovely apt in Centre ( lift & fireplace) near ...   \n",
       "\n",
       "                               neighborhood_overview  \\\n",
       "0  Indische Buurt (\"Indies Neighborhood\") is a ne...   \n",
       "1  Located just in between famous central canals....   \n",
       "2                                                NaN   \n",
       "\n",
       "                                         picture_url  host_id  \\\n",
       "0  https://a0.muscache.com/pictures/10272854/8dcc...     3159   \n",
       "1  https://a0.muscache.com/pictures/69979628/fd6a...    59484   \n",
       "2  https://a0.muscache.com/pictures/138431/7079a9...    56142   \n",
       "\n",
       "                                  host_url  ... review_scores_communication  \\\n",
       "0   https://www.airbnb.com/users/show/3159  ...                        10.0   \n",
       "1  https://www.airbnb.com/users/show/59484  ...                        10.0   \n",
       "2  https://www.airbnb.com/users/show/56142  ...                        10.0   \n",
       "\n",
       "  review_scores_location review_scores_value                   license  \\\n",
       "0                    9.0                10.0                       NaN   \n",
       "1                   10.0                 9.0  0363 CBB3 2C10 0C2A 1E29   \n",
       "2                   10.0                10.0                       NaN   \n",
       "\n",
       "  instant_bookable calculated_host_listings_count  \\\n",
       "0                t                              1   \n",
       "1                t                              2   \n",
       "2                f                              2   \n",
       "\n",
       "  calculated_host_listings_count_entire_homes  \\\n",
       "0                                           0   \n",
       "1                                           0   \n",
       "2                                           2   \n",
       "\n",
       "  calculated_host_listings_count_private_rooms  \\\n",
       "0                                            1   \n",
       "1                                            2   \n",
       "2                                            0   \n",
       "\n",
       "  calculated_host_listings_count_shared_rooms reviews_per_month  \n",
       "0                                           0              1.90  \n",
       "1                                           0              2.50  \n",
       "2                                           0              0.13  \n",
       "\n",
       "[3 rows x 74 columns]"
      ]
     },
     "execution_count": 1,
     "metadata": {},
     "output_type": "execute_result"
    }
   ],
   "source": [
    "import pandas as pd\n",
    "import numpy as np\n",
    "import matplotlib.pyplot as plt \n",
    "import seaborn as sns\n",
    "\n",
    "datos = pd.read_csv(\"AIRBNB.csv\")\n",
    "datos.head(3)\n"
   ]
  },
  {
   "cell_type": "markdown",
   "id": "674732b6-3506-43b4-9810-4c3ae6de2e04",
   "metadata": {},
   "source": [
    "# ¿Que tipo de columnas tiene nuestro dataset?"
   ]
  },
  {
   "cell_type": "code",
   "execution_count": 2,
   "id": "d2309133-ed3f-4454-97d5-0de5cc8db99a",
   "metadata": {},
   "outputs": [
    {
     "data": {
      "text/plain": [
       "id                                                int64\n",
       "listing_url                                      object\n",
       "scrape_id                                         int64\n",
       "last_scraped                                     object\n",
       "name                                             object\n",
       "                                                 ...   \n",
       "calculated_host_listings_count                    int64\n",
       "calculated_host_listings_count_entire_homes       int64\n",
       "calculated_host_listings_count_private_rooms      int64\n",
       "calculated_host_listings_count_shared_rooms       int64\n",
       "reviews_per_month                               float64\n",
       "Length: 74, dtype: object"
      ]
     },
     "execution_count": 2,
     "metadata": {},
     "output_type": "execute_result"
    }
   ],
   "source": [
    "datos.dtypes"
   ]
  },
  {
   "cell_type": "code",
   "execution_count": 3,
   "id": "e76d7a63-ebc8-45b5-a907-f7ea980ae021",
   "metadata": {},
   "outputs": [
    {
     "data": {
      "text/plain": [
       "review_scores_rating    float64\n",
       "dtype: object"
      ]
     },
     "execution_count": 3,
     "metadata": {},
     "output_type": "execute_result"
    }
   ],
   "source": [
    "dx  =  datos.review_scores_rating.dropna().to_frame()\n",
    "dx.reset_index()\n",
    "dx.dtypes"
   ]
  },
  {
   "cell_type": "markdown",
   "id": "86d654bd-d5f6-4efe-8a39-5ff637e0d4f4",
   "metadata": {},
   "source": [
    "El conjunto de datos evidencia que tenemos diferente tipos de datos, entre ellos observamos enteros, objetos y floats, esto es importante, pero también vemos que el conjunto datos es realmente ancho, aportando 74 columnas, por lo cual es importante reconocer la necesidad de trabajar toda la información. "
   ]
  },
  {
   "cell_type": "markdown",
   "id": "7839f705-e89b-43ef-80c0-184b998adeff",
   "metadata": {},
   "source": [
    "# ¿Cómo se distribuyen los precios en el conjunto de datos y cuáles son los valores más comunes de calificaciones?"
   ]
  },
  {
   "cell_type": "code",
   "execution_count": 4,
   "id": "20427db5-5e27-4659-b804-552feb5bc3eb",
   "metadata": {},
   "outputs": [
    {
     "data": {
      "text/plain": [
       "15"
      ]
     },
     "execution_count": 4,
     "metadata": {},
     "output_type": "execute_result"
    }
   ],
   "source": [
    "n = dx.shape[0] # devuelve la cantidad de registros y columnas\n",
    "\n",
    "k = 1 + (10/3) *np.log10(n) # esto es la formula de sturges\n",
    "k = int(k.round(0))\n",
    "k\n",
    "# esto es par acalcular los bins de la manera adecuada"
   ]
  },
  {
   "cell_type": "code",
   "execution_count": 5,
   "id": "a810196c-4f79-4aaf-b727-8abca58fe4ff",
   "metadata": {},
   "outputs": [
    {
     "data": {
      "text/plain": [
       "(19.999, 26.0]      24\n",
       "(26.0, 32.0]         1\n",
       "(32.0, 38.0]         0\n",
       "(38.0, 44.0]        22\n",
       "(44.0, 50.0]         9\n",
       "(50.0, 56.0]         3\n",
       "(56.0, 62.0]        94\n",
       "(62.0, 68.0]        31\n",
       "(68.0, 74.0]        80\n",
       "(74.0, 80.0]       449\n",
       "(80.0, 86.0]       443\n",
       "(86.0, 92.0]      2037\n",
       "(92.0, 98.0]      6481\n",
       "(98.0, 104.0]     5513\n",
       "Name: review_scores_rating, dtype: int64"
      ]
     },
     "execution_count": 5,
     "metadata": {},
     "output_type": "execute_result"
    }
   ],
   "source": [
    "# vamos a calcular los bins por lista por facilidad\n",
    "bins = [20,26,32,38,44,50,56,62,68,74,80,86,92,98,104]\n",
    "\n",
    "frecuencia= pd.value_counts(\n",
    "   pd.cut(\n",
    "      x = dx.review_scores_rating,\n",
    "      bins = bins,\n",
    "      include_lowest = True\n",
    "    ),\n",
    "   sort = False\n",
    ")\n",
    "frecuencia"
   ]
  },
  {
   "cell_type": "code",
   "execution_count": 6,
   "id": "5789bb60-86aa-4a09-9633-a592867f9590",
   "metadata": {},
   "outputs": [
    {
     "data": {
      "text/plain": [
       "(19.999, 26.0]     0.158030\n",
       "(26.0, 32.0]       0.006585\n",
       "(32.0, 38.0]       0.000000\n",
       "(38.0, 44.0]       0.144861\n",
       "(44.0, 50.0]       0.059261\n",
       "(50.0, 56.0]       0.019754\n",
       "(56.0, 62.0]       0.618950\n",
       "(62.0, 68.0]       0.204122\n",
       "(68.0, 74.0]       0.526766\n",
       "(74.0, 80.0]       2.956476\n",
       "(80.0, 86.0]       2.916968\n",
       "(86.0, 92.0]      13.412787\n",
       "(92.0, 98.0]      42.674656\n",
       "(98.0, 104.0]     36.300784\n",
       "Name: review_scores_rating, dtype: float64"
      ]
     },
     "execution_count": 6,
     "metadata": {},
     "output_type": "execute_result"
    }
   ],
   "source": [
    "porcentual = pd.value_counts(\n",
    "   pd.cut(\n",
    "      x = dx.review_scores_rating,\n",
    "      bins = bins,\n",
    "      include_lowest = True\n",
    "    ),\n",
    "   sort = False,\n",
    "   normalize = True\n",
    "    \n",
    ") * 100 \n",
    "porcentual"
   ]
  },
  {
   "cell_type": "code",
   "execution_count": 7,
   "id": "eb4b188e-7b16-4d62-9003-0617bfd42dbd",
   "metadata": {},
   "outputs": [
    {
     "data": {
      "text/plain": [
       "(19.999, 26.0]      0.158030\n",
       "(26.0, 32.0]        0.164614\n",
       "(32.0, 38.0]        0.164614\n",
       "(38.0, 44.0]        0.309475\n",
       "(44.0, 50.0]        0.368736\n",
       "(50.0, 56.0]        0.388490\n",
       "(56.0, 62.0]        1.007441\n",
       "(62.0, 68.0]        1.211563\n",
       "(68.0, 74.0]        1.738329\n",
       "(74.0, 80.0]        4.694805\n",
       "(80.0, 86.0]        7.611773\n",
       "(86.0, 92.0]       21.024560\n",
       "(92.0, 98.0]       63.699216\n",
       "(98.0, 104.0]     100.000000\n",
       "Name: review_scores_rating, dtype: float64"
      ]
     },
     "execution_count": 7,
     "metadata": {},
     "output_type": "execute_result"
    }
   ],
   "source": [
    "acumulada = frecuencia.cumsum()\n",
    "acumulada\n",
    "\n",
    "acumulada_porcentual = porcentual.cumsum()\n",
    "acumulada_porcentual"
   ]
  },
  {
   "cell_type": "code",
   "execution_count": 8,
   "id": "29ad5960-9ff5-43aa-b052-6d64d36c5fc6",
   "metadata": {},
   "outputs": [
    {
     "data": {
      "text/html": [
       "<div>\n",
       "<style scoped>\n",
       "    .dataframe tbody tr th:only-of-type {\n",
       "        vertical-align: middle;\n",
       "    }\n",
       "\n",
       "    .dataframe tbody tr th {\n",
       "        vertical-align: top;\n",
       "    }\n",
       "\n",
       "    .dataframe thead th {\n",
       "        text-align: right;\n",
       "    }\n",
       "</style>\n",
       "<table border=\"1\" class=\"dataframe\">\n",
       "  <thead>\n",
       "    <tr style=\"text-align: right;\">\n",
       "      <th></th>\n",
       "      <th>Frecuencia</th>\n",
       "      <th>Relativa</th>\n",
       "      <th>Acumulada</th>\n",
       "      <th>Acumulada_%</th>\n",
       "    </tr>\n",
       "  </thead>\n",
       "  <tbody>\n",
       "    <tr>\n",
       "      <th>(19.999, 26.0]</th>\n",
       "      <td>24</td>\n",
       "      <td>0.158030</td>\n",
       "      <td>24</td>\n",
       "      <td>0.158030</td>\n",
       "    </tr>\n",
       "    <tr>\n",
       "      <th>(26.0, 32.0]</th>\n",
       "      <td>1</td>\n",
       "      <td>0.006585</td>\n",
       "      <td>25</td>\n",
       "      <td>0.164614</td>\n",
       "    </tr>\n",
       "    <tr>\n",
       "      <th>(32.0, 38.0]</th>\n",
       "      <td>0</td>\n",
       "      <td>0.000000</td>\n",
       "      <td>25</td>\n",
       "      <td>0.164614</td>\n",
       "    </tr>\n",
       "    <tr>\n",
       "      <th>(38.0, 44.0]</th>\n",
       "      <td>22</td>\n",
       "      <td>0.144861</td>\n",
       "      <td>47</td>\n",
       "      <td>0.309475</td>\n",
       "    </tr>\n",
       "    <tr>\n",
       "      <th>(44.0, 50.0]</th>\n",
       "      <td>9</td>\n",
       "      <td>0.059261</td>\n",
       "      <td>56</td>\n",
       "      <td>0.368736</td>\n",
       "    </tr>\n",
       "    <tr>\n",
       "      <th>(50.0, 56.0]</th>\n",
       "      <td>3</td>\n",
       "      <td>0.019754</td>\n",
       "      <td>59</td>\n",
       "      <td>0.388490</td>\n",
       "    </tr>\n",
       "    <tr>\n",
       "      <th>(56.0, 62.0]</th>\n",
       "      <td>94</td>\n",
       "      <td>0.618950</td>\n",
       "      <td>153</td>\n",
       "      <td>1.007441</td>\n",
       "    </tr>\n",
       "    <tr>\n",
       "      <th>(62.0, 68.0]</th>\n",
       "      <td>31</td>\n",
       "      <td>0.204122</td>\n",
       "      <td>184</td>\n",
       "      <td>1.211563</td>\n",
       "    </tr>\n",
       "    <tr>\n",
       "      <th>(68.0, 74.0]</th>\n",
       "      <td>80</td>\n",
       "      <td>0.526766</td>\n",
       "      <td>264</td>\n",
       "      <td>1.738329</td>\n",
       "    </tr>\n",
       "    <tr>\n",
       "      <th>(74.0, 80.0]</th>\n",
       "      <td>449</td>\n",
       "      <td>2.956476</td>\n",
       "      <td>713</td>\n",
       "      <td>4.694805</td>\n",
       "    </tr>\n",
       "    <tr>\n",
       "      <th>(80.0, 86.0]</th>\n",
       "      <td>443</td>\n",
       "      <td>2.916968</td>\n",
       "      <td>1156</td>\n",
       "      <td>7.611773</td>\n",
       "    </tr>\n",
       "    <tr>\n",
       "      <th>(86.0, 92.0]</th>\n",
       "      <td>2037</td>\n",
       "      <td>13.412787</td>\n",
       "      <td>3193</td>\n",
       "      <td>21.024560</td>\n",
       "    </tr>\n",
       "    <tr>\n",
       "      <th>(92.0, 98.0]</th>\n",
       "      <td>6481</td>\n",
       "      <td>42.674656</td>\n",
       "      <td>9674</td>\n",
       "      <td>63.699216</td>\n",
       "    </tr>\n",
       "    <tr>\n",
       "      <th>(98.0, 104.0]</th>\n",
       "      <td>5513</td>\n",
       "      <td>36.300784</td>\n",
       "      <td>15187</td>\n",
       "      <td>100.000000</td>\n",
       "    </tr>\n",
       "  </tbody>\n",
       "</table>\n",
       "</div>"
      ],
      "text/plain": [
       "                Frecuencia   Relativa  Acumulada  Acumulada_%\n",
       "(19.999, 26.0]          24   0.158030         24     0.158030\n",
       "(26.0, 32.0]             1   0.006585         25     0.164614\n",
       "(32.0, 38.0]             0   0.000000         25     0.164614\n",
       "(38.0, 44.0]            22   0.144861         47     0.309475\n",
       "(44.0, 50.0]             9   0.059261         56     0.368736\n",
       "(50.0, 56.0]             3   0.019754         59     0.388490\n",
       "(56.0, 62.0]            94   0.618950        153     1.007441\n",
       "(62.0, 68.0]            31   0.204122        184     1.211563\n",
       "(68.0, 74.0]            80   0.526766        264     1.738329\n",
       "(74.0, 80.0]           449   2.956476        713     4.694805\n",
       "(80.0, 86.0]           443   2.916968       1156     7.611773\n",
       "(86.0, 92.0]          2037  13.412787       3193    21.024560\n",
       "(92.0, 98.0]          6481  42.674656       9674    63.699216\n",
       "(98.0, 104.0]         5513  36.300784      15187   100.000000"
      ]
     },
     "execution_count": 8,
     "metadata": {},
     "output_type": "execute_result"
    }
   ],
   "source": [
    "tabla_r = pd.DataFrame({\"Frecuencia\":frecuencia, \"Relativa\":porcentual, \"Acumulada\":acumulada,\"Acumulada_%\":acumulada_porcentual})\n",
    "tabla_r"
   ]
  },
  {
   "cell_type": "markdown",
   "id": "1f5e4589-9416-488b-910c-08555b9aaf59",
   "metadata": {},
   "source": [
    "Podemos observar como se distribuyen los datos de las calificaciones, podemos ver que existe un gran rango de calificaciones que se concentra entre el intervalo 92.0 al 98.0, esto mostrando que su frecuencia es de 6481, indicando que es el valor que más se repite dentro de los bins, en este sentido vemos que esto representa al 63.69% del conjunto total de los datos, bajo este supuesto podemos concluir que la mayoría de las calificaciones estan concentradas en la parte superior, lo que indica un alto compromiso por cada entidad que se vincula a AIRBNB para ofrecer un buen servicio. "
   ]
  },
  {
   "cell_type": "code",
   "execution_count": 9,
   "id": "bdb5703c-b3b8-4e30-a0d0-b1da12eef58a",
   "metadata": {},
   "outputs": [
    {
     "data": {
      "text/plain": [
       "297.911905361188"
      ]
     },
     "execution_count": 9,
     "metadata": {},
     "output_type": "execute_result"
    }
   ],
   "source": [
    "df = datos.price.dropna()\n",
    "a = df.quantile(0.78)\n",
    "\n",
    "quantil_78 = datos.loc[(datos.price >= 195), \"price\"]\n",
    "quantil_78.mean()"
   ]
  },
  {
   "cell_type": "code",
   "execution_count": 10,
   "id": "c2f1c378-9476-4206-810e-95918e459965",
   "metadata": {},
   "outputs": [
    {
     "data": {
      "text/plain": [
       "129.0"
      ]
     },
     "execution_count": 10,
     "metadata": {},
     "output_type": "execute_result"
    }
   ],
   "source": [
    "datos.price.quantile(0.5)"
   ]
  },
  {
   "cell_type": "code",
   "execution_count": 11,
   "id": "3b1aae65-6315-467c-bd5d-d7a1309ee7fc",
   "metadata": {},
   "outputs": [
    {
     "data": {
      "text/plain": [
       "154.16256588595425"
      ]
     },
     "execution_count": 11,
     "metadata": {},
     "output_type": "execute_result"
    }
   ],
   "source": [
    "mean = datos.price.dropna().mean()\n",
    "\n",
    "std = datos.price.std()\n",
    "std"
   ]
  },
  {
   "cell_type": "code",
   "execution_count": 12,
   "id": "fde357b9-7605-4ab1-bc44-8f63648d9a4f",
   "metadata": {},
   "outputs": [
    {
     "data": {
      "text/plain": [
       "254.4958765778401"
      ]
     },
     "execution_count": 12,
     "metadata": {},
     "output_type": "execute_result"
    }
   ],
   "source": [
    "suma = mean + 100\n",
    "suma"
   ]
  },
  {
   "cell_type": "code",
   "execution_count": 13,
   "id": "dadf4cb3-acc3-4925-8a5c-9f38524f5f25",
   "metadata": {},
   "outputs": [
    {
     "data": {
      "image/png": "[encoded data removed]",
      "text/plain": [
       "<Figure size 640x480 with 1 Axes>"
      ]
     },
     "metadata": {},
     "output_type": "display_data"
    }
   ],
   "source": [
    "df = datos.price.dropna()\n",
    "# Dibuja el boxplot\n",
    "sns.boxplot( x=df)\n",
    "\n",
    "\n",
    "# Dibuja las líneas para la media y la desviación estándar\n",
    "plt.axvline(mean, color='r', linestyle='--', label='Media')\n",
    "plt.axvline(mean+std, color='g', linestyle='--', label='+1 desviación estándar')\n",
    "plt.axvline(mean-std, color='g', linestyle='--', label='-1 desviación estándar')\n",
    "\n",
    "# Agrega una línea vertical para un valor ajeno\n",
    "plt.axvline(suma, color='purple', linestyle='--', label='Valor ajeno')\n",
    "\n",
    "# Añade leyendas\n",
    "plt.legend()\n",
    "\n",
    "# Muestra el plot\n",
    "plt.show()\n"
   ]
  },
  {
   "cell_type": "code",
   "execution_count": 14,
   "id": "713205cb-812d-45d3-a419-ef00850d1f23",
   "metadata": {},
   "outputs": [
    {
     "data": {
      "text/html": [
       "<div>\n",
       "<style scoped>\n",
       "    .dataframe tbody tr th:only-of-type {\n",
       "        vertical-align: middle;\n",
       "    }\n",
       "\n",
       "    .dataframe tbody tr th {\n",
       "        vertical-align: top;\n",
       "    }\n",
       "\n",
       "    .dataframe thead th {\n",
       "        text-align: right;\n",
       "    }\n",
       "</style>\n",
       "<table border=\"1\" class=\"dataframe\">\n",
       "  <thead>\n",
       "    <tr style=\"text-align: right;\">\n",
       "      <th></th>\n",
       "      <th>Frecuencia</th>\n",
       "      <th>Relativa</th>\n",
       "      <th>Acumulada</th>\n",
       "      <th>Acumulada_%</th>\n",
       "    </tr>\n",
       "  </thead>\n",
       "  <tbody>\n",
       "    <tr>\n",
       "      <th>(-8.001, 533.333]</th>\n",
       "      <td>17648</td>\n",
       "      <td>0.990070</td>\n",
       "      <td>17648</td>\n",
       "      <td>99.007013</td>\n",
       "    </tr>\n",
       "    <tr>\n",
       "      <th>(533.333, 1066.667]</th>\n",
       "      <td>151</td>\n",
       "      <td>0.008471</td>\n",
       "      <td>17799</td>\n",
       "      <td>99.854137</td>\n",
       "    </tr>\n",
       "    <tr>\n",
       "      <th>(1066.667, 1600.0]</th>\n",
       "      <td>14</td>\n",
       "      <td>0.000785</td>\n",
       "      <td>17813</td>\n",
       "      <td>99.932679</td>\n",
       "    </tr>\n",
       "    <tr>\n",
       "      <th>(1600.0, 2133.333]</th>\n",
       "      <td>5</td>\n",
       "      <td>0.000281</td>\n",
       "      <td>17818</td>\n",
       "      <td>99.960729</td>\n",
       "    </tr>\n",
       "    <tr>\n",
       "      <th>(2133.333, 2666.667]</th>\n",
       "      <td>2</td>\n",
       "      <td>0.000112</td>\n",
       "      <td>17820</td>\n",
       "      <td>99.971950</td>\n",
       "    </tr>\n",
       "    <tr>\n",
       "      <th>(2666.667, 3200.0]</th>\n",
       "      <td>1</td>\n",
       "      <td>0.000056</td>\n",
       "      <td>17821</td>\n",
       "      <td>99.977560</td>\n",
       "    </tr>\n",
       "    <tr>\n",
       "      <th>(3200.0, 3733.333]</th>\n",
       "      <td>0</td>\n",
       "      <td>0.000000</td>\n",
       "      <td>17821</td>\n",
       "      <td>99.977560</td>\n",
       "    </tr>\n",
       "    <tr>\n",
       "      <th>(3733.333, 4266.667]</th>\n",
       "      <td>0</td>\n",
       "      <td>0.000000</td>\n",
       "      <td>17821</td>\n",
       "      <td>99.977560</td>\n",
       "    </tr>\n",
       "    <tr>\n",
       "      <th>(4266.667, 4800.0]</th>\n",
       "      <td>0</td>\n",
       "      <td>0.000000</td>\n",
       "      <td>17821</td>\n",
       "      <td>99.977560</td>\n",
       "    </tr>\n",
       "    <tr>\n",
       "      <th>(4800.0, 5333.333]</th>\n",
       "      <td>1</td>\n",
       "      <td>0.000056</td>\n",
       "      <td>17822</td>\n",
       "      <td>99.983170</td>\n",
       "    </tr>\n",
       "    <tr>\n",
       "      <th>(5333.333, 5866.667]</th>\n",
       "      <td>0</td>\n",
       "      <td>0.000000</td>\n",
       "      <td>17822</td>\n",
       "      <td>99.983170</td>\n",
       "    </tr>\n",
       "    <tr>\n",
       "      <th>(5866.667, 6400.0]</th>\n",
       "      <td>0</td>\n",
       "      <td>0.000000</td>\n",
       "      <td>17822</td>\n",
       "      <td>99.983170</td>\n",
       "    </tr>\n",
       "    <tr>\n",
       "      <th>(6400.0, 6933.333]</th>\n",
       "      <td>0</td>\n",
       "      <td>0.000000</td>\n",
       "      <td>17822</td>\n",
       "      <td>99.983170</td>\n",
       "    </tr>\n",
       "    <tr>\n",
       "      <th>(6933.333, 7466.667]</th>\n",
       "      <td>0</td>\n",
       "      <td>0.000000</td>\n",
       "      <td>17822</td>\n",
       "      <td>99.983170</td>\n",
       "    </tr>\n",
       "    <tr>\n",
       "      <th>(7466.667, 8000.0]</th>\n",
       "      <td>3</td>\n",
       "      <td>0.000168</td>\n",
       "      <td>17825</td>\n",
       "      <td>100.000000</td>\n",
       "    </tr>\n",
       "  </tbody>\n",
       "</table>\n",
       "</div>"
      ],
      "text/plain": [
       "                      Frecuencia  Relativa  Acumulada  Acumulada_%\n",
       "(-8.001, 533.333]          17648  0.990070      17648    99.007013\n",
       "(533.333, 1066.667]          151  0.008471      17799    99.854137\n",
       "(1066.667, 1600.0]            14  0.000785      17813    99.932679\n",
       "(1600.0, 2133.333]             5  0.000281      17818    99.960729\n",
       "(2133.333, 2666.667]           2  0.000112      17820    99.971950\n",
       "(2666.667, 3200.0]             1  0.000056      17821    99.977560\n",
       "(3200.0, 3733.333]             0  0.000000      17821    99.977560\n",
       "(3733.333, 4266.667]           0  0.000000      17821    99.977560\n",
       "(4266.667, 4800.0]             0  0.000000      17821    99.977560\n",
       "(4800.0, 5333.333]             1  0.000056      17822    99.983170\n",
       "(5333.333, 5866.667]           0  0.000000      17822    99.983170\n",
       "(5866.667, 6400.0]             0  0.000000      17822    99.983170\n",
       "(6400.0, 6933.333]             0  0.000000      17822    99.983170\n",
       "(6933.333, 7466.667]           0  0.000000      17822    99.983170\n",
       "(7466.667, 8000.0]             3  0.000168      17825   100.000000"
      ]
     },
     "execution_count": 14,
     "metadata": {},
     "output_type": "execute_result"
    }
   ],
   "source": [
    "n = datos.shape[0] # devuelve la cantidad de registros y columnas\n",
    "\n",
    "k = 1 + (10/3) * np.log10(n) # esto es la formula de sturges\n",
    "k = int(k.round(0))\n",
    "k\n",
    "k1 = [100,200,300,400,500,600,700,800,900,1000,1100,1200]\n",
    "# esto es par acalcular los bins de la manera adecuada\n",
    "\n",
    "\n",
    "# Crear la tabla de frecuencia\n",
    "frecuencia = pd.value_counts(pd.cut(datos.price, bins=k, include_lowest=True), sort=False)\n",
    "\n",
    "# Crear la tabla de frecuencia relativa\n",
    "relativa = frecuencia / len(datos)\n",
    "\n",
    "# Crear la tabla de frecuencia acumulada\n",
    "acumulada = frecuencia.cumsum()\n",
    "\n",
    "# Crear la tabla de frecuencia acumulada porcentual\n",
    "acumulada_porcentual = acumulada / len(datos) * 100\n",
    "\n",
    "# Crear un DataFrame con todas las tablas\n",
    "tabla = pd.DataFrame({\"Frecuencia\": frecuencia, \"Relativa\": relativa, \"Acumulada\": acumulada, \"Acumulada_%\": acumulada_porcentual})\n",
    "tabla"
   ]
  },
  {
   "cell_type": "code",
   "execution_count": 15,
   "id": "822b8fc4-7681-4956-88cd-cdf85f84a811",
   "metadata": {},
   "outputs": [
    {
     "data": {
      "text/html": [
       "<div>\n",
       "<style scoped>\n",
       "    .dataframe tbody tr th:only-of-type {\n",
       "        vertical-align: middle;\n",
       "    }\n",
       "\n",
       "    .dataframe tbody tr th {\n",
       "        vertical-align: top;\n",
       "    }\n",
       "\n",
       "    .dataframe thead th {\n",
       "        text-align: right;\n",
       "    }\n",
       "</style>\n",
       "<table border=\"1\" class=\"dataframe\">\n",
       "  <thead>\n",
       "    <tr style=\"text-align: right;\">\n",
       "      <th></th>\n",
       "      <th>Cuantil</th>\n",
       "      <th>Valor</th>\n",
       "    </tr>\n",
       "  </thead>\n",
       "  <tbody>\n",
       "    <tr>\n",
       "      <th>0.00</th>\n",
       "      <td>0.00</td>\n",
       "      <td>0.00</td>\n",
       "    </tr>\n",
       "    <tr>\n",
       "      <th>0.01</th>\n",
       "      <td>0.01</td>\n",
       "      <td>31.00</td>\n",
       "    </tr>\n",
       "    <tr>\n",
       "      <th>0.02</th>\n",
       "      <td>0.02</td>\n",
       "      <td>40.00</td>\n",
       "    </tr>\n",
       "    <tr>\n",
       "      <th>0.03</th>\n",
       "      <td>0.03</td>\n",
       "      <td>47.00</td>\n",
       "    </tr>\n",
       "    <tr>\n",
       "      <th>0.04</th>\n",
       "      <td>0.04</td>\n",
       "      <td>50.00</td>\n",
       "    </tr>\n",
       "    <tr>\n",
       "      <th>...</th>\n",
       "      <td>...</td>\n",
       "      <td>...</td>\n",
       "    </tr>\n",
       "    <tr>\n",
       "      <th>0.96</th>\n",
       "      <td>0.96</td>\n",
       "      <td>350.00</td>\n",
       "    </tr>\n",
       "    <tr>\n",
       "      <th>0.97</th>\n",
       "      <td>0.97</td>\n",
       "      <td>392.12</td>\n",
       "    </tr>\n",
       "    <tr>\n",
       "      <th>0.98</th>\n",
       "      <td>0.98</td>\n",
       "      <td>447.52</td>\n",
       "    </tr>\n",
       "    <tr>\n",
       "      <th>0.99</th>\n",
       "      <td>0.99</td>\n",
       "      <td>524.76</td>\n",
       "    </tr>\n",
       "    <tr>\n",
       "      <th>1.00</th>\n",
       "      <td>1.00</td>\n",
       "      <td>8000.00</td>\n",
       "    </tr>\n",
       "  </tbody>\n",
       "</table>\n",
       "<p>101 rows × 2 columns</p>\n",
       "</div>"
      ],
      "text/plain": [
       "      Cuantil    Valor\n",
       "0.00     0.00     0.00\n",
       "0.01     0.01    31.00\n",
       "0.02     0.02    40.00\n",
       "0.03     0.03    47.00\n",
       "0.04     0.04    50.00\n",
       "...       ...      ...\n",
       "0.96     0.96   350.00\n",
       "0.97     0.97   392.12\n",
       "0.98     0.98   447.52\n",
       "0.99     0.99   524.76\n",
       "1.00     1.00  8000.00\n",
       "\n",
       "[101 rows x 2 columns]"
      ]
     },
     "execution_count": 15,
     "metadata": {},
     "output_type": "execute_result"
    }
   ],
   "source": [
    "\n",
    "# Obtener los cuantiles\n",
    "quantiles = np.linspace(0, 1, num=101)  # 100 partes, incluyendo el mínimo y el máximo\n",
    "valores_cuantiles = datos[\"price\"].quantile(quantiles)\n",
    "\n",
    "# Crear la tabla de quantiles\n",
    "tabla_quantiles = pd.DataFrame({\"Cuantil\": quantiles, \"Valor\": valores_cuantiles})\n",
    "tabla_quantiles"
   ]
  },
  {
   "cell_type": "code",
   "execution_count": 16,
   "id": "a9f487eb-3349-41e0-ae97-787d8761d57d",
   "metadata": {},
   "outputs": [
    {
     "data": {
      "text/plain": [
       "0.25     95.0\n",
       "0.50    129.0\n",
       "0.75    180.0\n",
       "Name: price, dtype: float64"
      ]
     },
     "execution_count": 16,
     "metadata": {},
     "output_type": "execute_result"
    }
   ],
   "source": [
    "datos[\"price\"].quantile([0.25,0.5,0.75])\n",
    "#180 - 95"
   ]
  },
  {
   "cell_type": "markdown",
   "id": "4ac6b7da-9d44-4fb3-9ec1-c92b9fa897de",
   "metadata": {},
   "source": [
    "Lo que podemos observar es que en la columna precio la tabla de frecuencias nos dificulta hacer un ejercicio descriptivo de manera sencilla, esto con ocasión a que se incluyen valores negativos dentro de los bins utilizando la formula de sturges, por tal motivo, se realiza una tabla de cuantiles de 0 a 100 que nos permite afirmar que existe gran variabilidad en los datos, no obstante la mayoría de los mismos son menores a 500, pudiendo ser 500 euores siendo en EUROPA, igualmente, vemos que el rango intercuantilico se establece en 85. Esto nos permite observar que el 50% de nuestros datos esta entre 95 y 180, cabe señalar que esta medida de variabilidad solo nos habla del rango intercuantilico y no de todo el conjunto de datos, por lo cual es dable afirmar que existen diferenets datos atipicos lo que genera una distribución sesgada hacia la derecha.  "
   ]
  },
  {
   "cell_type": "code",
   "execution_count": 17,
   "id": "2bb356ad-308e-4f03-9a93-722b11455470",
   "metadata": {},
   "outputs": [
    {
     "data": {
      "text/plain": [
       "<AxesSubplot:xlabel='room_type', ylabel='price'>"
      ]
     },
     "execution_count": 17,
     "metadata": {},
     "output_type": "execute_result"
    },
    {
     "data": {
      "image/png": "[encoded data removed]",
      "text/plain": [
       "<Figure size 640x480 with 1 Axes>"
      ]
     },
     "metadata": {},
     "output_type": "display_data"
    }
   ],
   "source": [
    "sns.barplot(y=datos.price.dropna(), x=datos.room_type.dropna())"
   ]
  },
  {
   "cell_type": "markdown",
   "id": "9a3f2201-fe81-45cb-a902-026e92866ef5",
   "metadata": {},
   "source": [
    "Ahora, podemos ver que se presentan el tipo de habitación y su precio, observando que en la tipologia Casas y Apartamentos existe una mejor valoración respecto a este tipo y el precio que se paga, asi sucesivamente le siguen los hoteles, habitaciones compartidas y cuartos privados."
   ]
  },
  {
   "cell_type": "code",
   "execution_count": 18,
   "id": "ea6b87cb-0797-44ad-9bc3-5088dd6b8378",
   "metadata": {},
   "outputs": [
    {
     "data": {
      "text/plain": [
       "<AxesSubplot:xlabel='reviews_per_month', ylabel='room_type'>"
      ]
     },
     "execution_count": 18,
     "metadata": {},
     "output_type": "execute_result"
    },
    {
     "data": {
      "image/png": "[encoded data removed]",
      "text/plain": [
       "<Figure size 640x480 with 1 Axes>"
      ]
     },
     "metadata": {},
     "output_type": "display_data"
    }
   ],
   "source": [
    "sns.boxplot(x=datos.reviews_per_month.dropna(), y=datos.room_type.dropna())"
   ]
  },
  {
   "cell_type": "markdown",
   "id": "e2d46173-12c8-4aa4-8b39-392b71128c59",
   "metadata": {},
   "source": [
    "# ¿Existe algún tipo de asociación entre las calificaciones por mes y el precio?"
   ]
  },
  {
   "cell_type": "code",
   "execution_count": 19,
   "id": "1e6fbf71-9fa6-4364-a574-9639ca15d73f",
   "metadata": {},
   "outputs": [
    {
     "data": {
      "text/html": [
       "<div>\n",
       "<style scoped>\n",
       "    .dataframe tbody tr th:only-of-type {\n",
       "        vertical-align: middle;\n",
       "    }\n",
       "\n",
       "    .dataframe tbody tr th {\n",
       "        vertical-align: top;\n",
       "    }\n",
       "\n",
       "    .dataframe thead th {\n",
       "        text-align: right;\n",
       "    }\n",
       "</style>\n",
       "<table border=\"1\" class=\"dataframe\">\n",
       "  <thead>\n",
       "    <tr style=\"text-align: right;\">\n",
       "      <th></th>\n",
       "      <th>price</th>\n",
       "      <th>reviews_per_month</th>\n",
       "    </tr>\n",
       "  </thead>\n",
       "  <tbody>\n",
       "    <tr>\n",
       "      <th>price</th>\n",
       "      <td>1.000000</td>\n",
       "      <td>-0.091638</td>\n",
       "    </tr>\n",
       "    <tr>\n",
       "      <th>reviews_per_month</th>\n",
       "      <td>-0.091638</td>\n",
       "      <td>1.000000</td>\n",
       "    </tr>\n",
       "  </tbody>\n",
       "</table>\n",
       "</div>"
      ],
      "text/plain": [
       "                      price  reviews_per_month\n",
       "price              1.000000          -0.091638\n",
       "reviews_per_month -0.091638           1.000000"
      ]
     },
     "execution_count": 19,
     "metadata": {},
     "output_type": "execute_result"
    }
   ],
   "source": [
    "df = datos[[\"price\",\"reviews_per_month\",\"room_type\"]].dropna()\n",
    "\n",
    "import scipy.stats as stats\n",
    "\n",
    "corr, pvalue = stats.pearsonr(df.price, df.reviews_per_month)\n",
    "(corr, pvalue)\n",
    "\n",
    "df[[\"price\",\"reviews_per_month\"]].corr(method=\"pearson\")\n"
   ]
  },
  {
   "cell_type": "code",
   "execution_count": 20,
   "id": "f53c1e4b-70a4-4253-904b-4171799dd155",
   "metadata": {},
   "outputs": [
    {
     "data": {
      "image/png": "[encoded data removed]",
      "text/plain": [
       "<Figure size 640x480 with 1 Axes>"
      ]
     },
     "metadata": {},
     "output_type": "display_data"
    },
    {
     "data": {
      "text/plain": [
       "'print(\"Correlación: {:.2f}\".format(corr))\\nprint(\"Valor p: {:.2f}\".format(pval))'"
      ]
     },
     "execution_count": 20,
     "metadata": {},
     "output_type": "execute_result"
    }
   ],
   "source": [
    "\n",
    "# Trazar gráfico de dispersión sin línea de ajuste y puntos semitransparentes\n",
    "sns.regplot(y=\"price\", x=\"reviews_per_month\", data=df, fit_reg=False, scatter_kws={\"alpha\":0.3})\n",
    "\n",
    "# Calcular correlación y valor p\n",
    "corr, pval = stats.pearsonr(df[\"price\"], df[\"reviews_per_month\"])\n",
    "plt.annotate(\"Correlación: {:.2f}\\nP-valor: {:.2f}\".format(corr, pval), xy=(0.7, 0.9), xycoords='axes fraction')\n",
    "plt.show()\n",
    "\"\"\"print(\"Correlación: {:.2f}\".format(corr))\n",
    "print(\"Valor p: {:.2f}\".format(pval))\"\"\""
   ]
  },
  {
   "cell_type": "markdown",
   "id": "71b7e691-0dd8-43f8-819c-bc943a4815a3",
   "metadata": {},
   "source": [
    "Podemos observar que en realidad existe una relación negativa mínima entre la variable precio y reviews por mes, esto nos indica que las calificaciones por mes no estan asociadas al valor de las habitación. "
   ]
  },
  {
   "cell_type": "code",
   "execution_count": 21,
   "id": "a40086a0-82f3-4609-ad8f-d4b4ef6fdbe8",
   "metadata": {},
   "outputs": [
    {
     "name": "stdout",
     "output_type": "stream",
     "text": [
      "Correlación de Spearman: 0.27\n",
      "Valor p de Spearman: 0.00\n"
     ]
    },
    {
     "name": "stderr",
     "output_type": "stream",
     "text": [
      "/home/oscar/anaconda3/lib/python3.9/site-packages/scipy/stats/_stats_py.py:110: RuntimeWarning: The input array could not be properly checked for nan values. nan values will be ignored.\n",
      "  warnings.warn(\"The input array could not be properly \"\n"
     ]
    }
   ],
   "source": [
    "# Calcular correlación y valor p de spearman\n",
    "\n",
    "x = df[\"room_type\"].dropna()\n",
    "x_2 = df[\"reviews_per_month\"].dropna()\n",
    "corr_spearman, pval_spearman = stats.spearmanr(x, x_2)\n",
    "\n",
    "print(\"Correlación de Spearman: {:.2f}\".format(corr_spearman))\n",
    "print(\"Valor p de Spearman: {:.2f}\".format(pval_spearman))"
   ]
  },
  {
   "cell_type": "markdown",
   "id": "f9166006-4393-4d77-a33d-19917565a705",
   "metadata": {},
   "source": [
    "Esto nos indica que existe una correlación de spearman moderada, que nos indica que existe asociación entre las calificaciones por mes y el tipo de habitación a alquilar. \n"
   ]
  },
  {
   "cell_type": "markdown",
   "id": "2f9255c5-4695-4a61-a9fe-4467088014f3",
   "metadata": {},
   "source": [
    "# ¿Existe algún tipo de asociación entre la variable reviews_scores_rating y reviews_scores_comunications? Describa lo sucedido"
   ]
  },
  {
   "cell_type": "code",
   "execution_count": 22,
   "id": "cc0fdc47-0d69-4ff6-8cc4-7b9747e88dbf",
   "metadata": {},
   "outputs": [
    {
     "name": "stdout",
     "output_type": "stream",
     "text": [
      "float64 float64\n"
     ]
    }
   ],
   "source": [
    "# Vamos a generar un sub dataframe de estos datos, primero miramos que tipo de columnas son\n",
    "\n",
    "print(datos.review_scores_rating.dtype, datos.review_scores_communication.dtype)"
   ]
  },
  {
   "cell_type": "code",
   "execution_count": 23,
   "id": "e242b23f-a032-4e5c-a3ef-901454654656",
   "metadata": {},
   "outputs": [
    {
     "data": {
      "text/html": [
       "<div>\n",
       "<style scoped>\n",
       "    .dataframe tbody tr th:only-of-type {\n",
       "        vertical-align: middle;\n",
       "    }\n",
       "\n",
       "    .dataframe tbody tr th {\n",
       "        vertical-align: top;\n",
       "    }\n",
       "\n",
       "    .dataframe thead th {\n",
       "        text-align: right;\n",
       "    }\n",
       "</style>\n",
       "<table border=\"1\" class=\"dataframe\">\n",
       "  <thead>\n",
       "    <tr style=\"text-align: right;\">\n",
       "      <th></th>\n",
       "      <th>review_scores_rating</th>\n",
       "      <th>review_scores_communication</th>\n",
       "    </tr>\n",
       "  </thead>\n",
       "  <tbody>\n",
       "    <tr>\n",
       "      <th>0</th>\n",
       "      <td>98.0</td>\n",
       "      <td>10.0</td>\n",
       "    </tr>\n",
       "    <tr>\n",
       "      <th>1</th>\n",
       "      <td>89.0</td>\n",
       "      <td>10.0</td>\n",
       "    </tr>\n",
       "    <tr>\n",
       "      <th>2</th>\n",
       "      <td>100.0</td>\n",
       "      <td>10.0</td>\n",
       "    </tr>\n",
       "  </tbody>\n",
       "</table>\n",
       "</div>"
      ],
      "text/plain": [
       "   review_scores_rating  review_scores_communication\n",
       "0                  98.0                         10.0\n",
       "1                  89.0                         10.0\n",
       "2                 100.0                         10.0"
      ]
     },
     "execution_count": 23,
     "metadata": {},
     "output_type": "execute_result"
    }
   ],
   "source": [
    "# los dos datos son floats por lo que les es aplicable la correlación de pearson, vamos a eliminar\n",
    "# los datos nan y los 0 debido a que eso pide el ejercicio\n",
    "\n",
    "df = datos.loc[(datos.review_scores_rating != 0) &  (datos.review_scores_communication != 0), [\"review_scores_rating\",\"review_scores_communication\"]]\n",
    "df = df.dropna()\n",
    "df.head(3)"
   ]
  },
  {
   "cell_type": "code",
   "execution_count": 24,
   "id": "9d55d816-65dd-4d58-8f94-1c678caa3c06",
   "metadata": {},
   "outputs": [
    {
     "data": {
      "image/png": "[encoded data removed]",
      "text/plain": [
       "<Figure size 640x480 with 1 Axes>"
      ]
     },
     "metadata": {},
     "output_type": "display_data"
    },
    {
     "data": {
      "text/plain": [
       "'print(\"Correlación: {:.2f}\".format(corr))\\nprint(\"Valor p: {:.2f}\".format(pval))'"
      ]
     },
     "execution_count": 24,
     "metadata": {},
     "output_type": "execute_result"
    }
   ],
   "source": [
    "# Trazar gráfico de dispersión con línea de ajuste y puntos semitransparentes\n",
    "sns.regplot(y=\"review_scores_communication\", x=\"review_scores_rating\", data=df, fit_reg=True, scatter_kws={\"alpha\":0.3})\n",
    "\n",
    "# Calcular correlación y valor p\n",
    "corr, pval = stats.pearsonr(df.review_scores_communication, df.review_scores_rating)\n",
    "plt.annotate(\"Correlación: {:.2f}\\nP-valor: {:.2f}\".format(corr, pval), xy=(1.1, 0.9), xycoords='axes fraction')\n",
    "plt.show()\n",
    "\"\"\"print(\"Correlación: {:.2f}\".format(corr))\n",
    "print(\"Valor p: {:.2f}\".format(pval))\"\"\""
   ]
  },
  {
   "cell_type": "markdown",
   "id": "cc63639d-6689-4f08-9fbd-869c3ce8c311",
   "metadata": {},
   "source": [
    "Se puede observar una asociación moderada positiva entre las variables, lo que indica que a medida que se tiene una mejor calificación en comunicación, esto se refleja en un incremento de la ponderación de la calificación, cabe decir que esta asociación no es casualidad.\n",
    "\n",
    "# ¿Existe asociación entre la variable Camas y Price? Elimine datos NaNs y valores 0"
   ]
  },
  {
   "cell_type": "code",
   "execution_count": 25,
   "id": "a3b4c553-3764-44ad-aa4c-65a2d2b7b412",
   "metadata": {},
   "outputs": [
    {
     "data": {
      "text/html": [
       "<div>\n",
       "<style scoped>\n",
       "    .dataframe tbody tr th:only-of-type {\n",
       "        vertical-align: middle;\n",
       "    }\n",
       "\n",
       "    .dataframe tbody tr th {\n",
       "        vertical-align: top;\n",
       "    }\n",
       "\n",
       "    .dataframe thead th {\n",
       "        text-align: right;\n",
       "    }\n",
       "</style>\n",
       "<table border=\"1\" class=\"dataframe\">\n",
       "  <thead>\n",
       "    <tr style=\"text-align: right;\">\n",
       "      <th></th>\n",
       "      <th>bedrooms</th>\n",
       "      <th>price</th>\n",
       "    </tr>\n",
       "  </thead>\n",
       "  <tbody>\n",
       "    <tr>\n",
       "      <th>0</th>\n",
       "      <td>1.0</td>\n",
       "      <td>59</td>\n",
       "    </tr>\n",
       "    <tr>\n",
       "      <th>1</th>\n",
       "      <td>1.0</td>\n",
       "      <td>200</td>\n",
       "    </tr>\n",
       "    <tr>\n",
       "      <th>2</th>\n",
       "      <td>1.0</td>\n",
       "      <td>125</td>\n",
       "    </tr>\n",
       "  </tbody>\n",
       "</table>\n",
       "</div>"
      ],
      "text/plain": [
       "   bedrooms  price\n",
       "0       1.0     59\n",
       "1       1.0    200\n",
       "2       1.0    125"
      ]
     },
     "execution_count": 25,
     "metadata": {},
     "output_type": "execute_result"
    }
   ],
   "source": [
    "dx = datos.loc[(datos.bedrooms != 0) &  (datos.price < 400), [\"bedrooms\",\"price\"]]\n",
    "dx = dx.dropna()\n",
    "dx.head(3)"
   ]
  },
  {
   "cell_type": "code",
   "execution_count": 26,
   "id": "8dbf4efe-22ce-4fa5-9ee0-eb4ada9e2ca1",
   "metadata": {},
   "outputs": [
    {
     "data": {
      "image/png": "[encoded data removed]",
      "text/plain": [
       "<Figure size 640x480 with 1 Axes>"
      ]
     },
     "metadata": {},
     "output_type": "display_data"
    }
   ],
   "source": [
    "# Trazar gráfico de dispersión con línea de ajuste y puntos semitransparentes\n",
    "sns.regplot(y=\"price\", x=\"bedrooms\", data=dx, fit_reg=True, scatter_kws={\"alpha\":0.3})\n",
    "\n",
    "# Calcular correlación y valor p\n",
    "corr, pval = stats.pearsonr(dx.price, dx.bedrooms)\n",
    "plt.annotate(\"Correlación: {:.2f}\\nP-valor: {:.2f}\".format(corr, pval), xy=(0.5, 0.9), xycoords='axes fraction')\n",
    "plt.show()"
   ]
  },
  {
   "cell_type": "code",
   "execution_count": 27,
   "id": "79bafe06-8f79-407c-86ff-a7b1ef869e5d",
   "metadata": {},
   "outputs": [
    {
     "data": {
      "text/html": [
       "<div>\n",
       "<style scoped>\n",
       "    .dataframe tbody tr th:only-of-type {\n",
       "        vertical-align: middle;\n",
       "    }\n",
       "\n",
       "    .dataframe tbody tr th {\n",
       "        vertical-align: top;\n",
       "    }\n",
       "\n",
       "    .dataframe thead th {\n",
       "        text-align: right;\n",
       "    }\n",
       "</style>\n",
       "<table border=\"1\" class=\"dataframe\">\n",
       "  <thead>\n",
       "    <tr style=\"text-align: right;\">\n",
       "      <th></th>\n",
       "      <th>bedrooms</th>\n",
       "      <th>price</th>\n",
       "    </tr>\n",
       "  </thead>\n",
       "  <tbody>\n",
       "    <tr>\n",
       "      <th>bedrooms</th>\n",
       "      <td>1.000000</td>\n",
       "      <td>0.468156</td>\n",
       "    </tr>\n",
       "    <tr>\n",
       "      <th>price</th>\n",
       "      <td>0.468156</td>\n",
       "      <td>1.000000</td>\n",
       "    </tr>\n",
       "  </tbody>\n",
       "</table>\n",
       "</div>"
      ],
      "text/plain": [
       "          bedrooms     price\n",
       "bedrooms  1.000000  0.468156\n",
       "price     0.468156  1.000000"
      ]
     },
     "execution_count": 27,
     "metadata": {},
     "output_type": "execute_result"
    }
   ],
   "source": [
    "dx.corr(method=\"spearman\")"
   ]
  },
  {
   "cell_type": "markdown",
   "id": "917e7d70-eee2-4f81-a271-be8d40a0216d",
   "metadata": {},
   "source": [
    "Podemos observar que existe una correlación de .38 de Pearson y de .47 de Spearman entre la variable precio y dormitorios dentro del conjunto de datos de AIRBNB, esta asociación baja positiva, lo que indica que a medida de que haya más dormitorios el precio tiende a incrementar o también podría indicarse que entre mayor es el precio mayor numero de habitaciones o dormitorios hay. No obstante, dentro del ejercicio se eliminaron los 0 dentro de la variable dormitorios y se filtraron los precios menos a 400, esto quiere decir que de cierta medida hemos reducido la variabilidad de la asociación y esto podría llevarnos a dar inferencias irrazonables o confusas que no esten alineadas a la realidad. Es importante reconocer que otras variables pueden estar teniendo influencia en esta asociación, por ejemplo la ubicación, las calificaciones del huesped, las temporadas, entre otras. \n",
    "\n",
    "En resumen los datos de la correlación de Spearman son más apropiados para el problema en cuestión porque tenemos datos continuos y discretos dentro las variables cuantitativas, por lo que de antemano podríamos considerar que no hay una relación lineal. "
   ]
  },
  {
   "cell_type": "markdown",
   "id": "6ddda3b3-4d19-4030-93d3-f867413cfcd4",
   "metadata": {},
   "source": [
    " # 1.\tSi se alquila un inmueble con puntaje de revisión entre 80 y 89 puntos el 80% de las publicaciones pueden ser habitación privada, casas o apartamento.\n"
   ]
  },
  {
   "cell_type": "code",
   "execution_count": 31,
   "id": "92455f65-8a33-4a89-bd23-aba0f261abd7",
   "metadata": {},
   "outputs": [
    {
     "data": {
      "text/plain": [
       "Entire home/apt    0.711525\n",
       "Private room       0.271912\n",
       "Hotel room         0.011732\n",
       "Shared room        0.004831\n",
       "Name: room_type, dtype: float64"
      ]
     },
     "execution_count": 31,
     "metadata": {},
     "output_type": "execute_result"
    }
   ],
   "source": [
    "dx = datos.loc[(datos.review_scores_rating >= 80) & (datos.review_scores_rating < 90),\"room_type\"].dropna()\n",
    "dx.value_counts(normalize=True)"
   ]
  },
  {
   "cell_type": "markdown",
   "id": "5becfad7-0dbd-4532-a346-b9e0e84185e5",
   "metadata": {},
   "source": [
    "Si, teniendo en cuenta que el 80% hace parte de más de una categoria podríamos afirmar que esto es correcto, en tanto casas o apartamentos, sumado las habitaciones privadas nos muestran que suman cerca de un 90%.\n",
    "\n",
    "# 2.\tSi se alquila una casa o apartamento el 30% de las publicaciones tendrán un puntaje de revisión entre el 80 y 100 puntos."
   ]
  },
  {
   "cell_type": "code",
   "execution_count": 129,
   "id": "cf7a0b00-cbf4-49df-9655-376a5cb5350b",
   "metadata": {},
   "outputs": [
    {
     "data": {
      "text/plain": [
       "room_type    0.004685\n",
       "dtype: float64"
      ]
     },
     "execution_count": 129,
     "metadata": {},
     "output_type": "execute_result"
    }
   ],
   "source": [
    "dx = datos.loc[(datos.review_scores_rating >= 80) & (datos.review_scores_rating < 90) ,[\"room_type\",\"review_scores_rating\"]].dropna()\n",
    "a = dx.groupby([\"review_scores_rating\"]).agg({\"room_type\": lambda x: np.mean(x==\"Entire home/apt\")})\n",
    "a.sum()/dx.shape[0]"
   ]
  },
  {
   "cell_type": "markdown",
   "id": "e6334c4d-6d52-48e4-bb7a-699e1b341985",
   "metadata": {},
   "source": [
    "Podemos indicar que la afirmación anterior es incorrecta, pues solo el 15% de la categoría de alojamiento casa o apartamento tiene una ponderación entre 80 y 100 puntos. "
   ]
  },
  {
   "cell_type": "markdown",
   "id": "56301952-d525-482e-b45f-fa97ab4e9e37",
   "metadata": {},
   "source": [
    "# 3.\tEl 30% de las publicaciones son habitaciones privadas que poseen entre 90 y 100 puntos de revisión. "
   ]
  },
  {
   "cell_type": "code",
   "execution_count": 119,
   "id": "1f192a45-cf58-47fb-8ffb-8acd325cf29f",
   "metadata": {},
   "outputs": [
    {
     "data": {
      "text/plain": [
       "0.19637934887879016"
      ]
     },
     "execution_count": 119,
     "metadata": {},
     "output_type": "execute_result"
    }
   ],
   "source": [
    "dx = datos.loc[(datos.review_scores_rating > 89),[\"room_type\",\"review_scores_rating\"]].dropna()\n",
    "a = dx.groupby([\"review_scores_rating\"]).agg({\"room_type\": [lambda x: np.mean(x==\"Private room\"),\n",
    "                                                            lambda x: np.sum(x==\"Private room\")/dx.shape[0]]})\n",
    "a.columns = [\"porcentaje\",\"total\"]\n",
    "a.total.sum()\n"
   ]
  },
  {
   "cell_type": "markdown",
   "id": "e44278e9-8838-4661-acab-12914b1e105a",
   "metadata": {},
   "source": [
    "Podemos observar que la afirmación anterior es incorrecta, pues un el margen es de 19.6% porciento de la categoria habitaciones privadas se encuentra entre el 90 y 100 de calificación. Esta calificación la hallamos  "
   ]
  },
  {
   "cell_type": "code",
   "execution_count": 75,
   "id": "c10da6f2-db69-4f07-8f97-dcf811021ed9",
   "metadata": {},
   "outputs": [
    {
     "data": {
      "text/html": [
       "<div>\n",
       "<style scoped>\n",
       "    .dataframe tbody tr th:only-of-type {\n",
       "        vertical-align: middle;\n",
       "    }\n",
       "\n",
       "    .dataframe tbody tr th {\n",
       "        vertical-align: top;\n",
       "    }\n",
       "\n",
       "    .dataframe thead th {\n",
       "        text-align: right;\n",
       "    }\n",
       "</style>\n",
       "<table border=\"1\" class=\"dataframe\">\n",
       "  <thead>\n",
       "    <tr style=\"text-align: right;\">\n",
       "      <th>review_scores_rating</th>\n",
       "      <th>90.0</th>\n",
       "      <th>91.0</th>\n",
       "      <th>92.0</th>\n",
       "      <th>93.0</th>\n",
       "      <th>94.0</th>\n",
       "      <th>95.0</th>\n",
       "      <th>96.0</th>\n",
       "      <th>97.0</th>\n",
       "      <th>98.0</th>\n",
       "      <th>99.0</th>\n",
       "      <th>100.0</th>\n",
       "      <th>All</th>\n",
       "    </tr>\n",
       "    <tr>\n",
       "      <th>room_type</th>\n",
       "      <th></th>\n",
       "      <th></th>\n",
       "      <th></th>\n",
       "      <th></th>\n",
       "      <th></th>\n",
       "      <th></th>\n",
       "      <th></th>\n",
       "      <th></th>\n",
       "      <th></th>\n",
       "      <th></th>\n",
       "      <th></th>\n",
       "      <th></th>\n",
       "    </tr>\n",
       "  </thead>\n",
       "  <tbody>\n",
       "    <tr>\n",
       "      <th>Entire home/apt</th>\n",
       "      <td>0.738462</td>\n",
       "      <td>0.712042</td>\n",
       "      <td>0.763224</td>\n",
       "      <td>0.781659</td>\n",
       "      <td>0.751623</td>\n",
       "      <td>0.771967</td>\n",
       "      <td>0.779690</td>\n",
       "      <td>0.751962</td>\n",
       "      <td>0.791908</td>\n",
       "      <td>0.756176</td>\n",
       "      <td>0.850502</td>\n",
       "      <td>0.794904</td>\n",
       "    </tr>\n",
       "    <tr>\n",
       "      <th>Hotel room</th>\n",
       "      <td>0.007692</td>\n",
       "      <td>0.013089</td>\n",
       "      <td>0.017632</td>\n",
       "      <td>0.004367</td>\n",
       "      <td>0.006494</td>\n",
       "      <td>0.007322</td>\n",
       "      <td>0.011188</td>\n",
       "      <td>0.007064</td>\n",
       "      <td>0.007065</td>\n",
       "      <td>0.005371</td>\n",
       "      <td>0.002182</td>\n",
       "      <td>0.005960</td>\n",
       "    </tr>\n",
       "    <tr>\n",
       "      <th>Private room</th>\n",
       "      <td>0.249231</td>\n",
       "      <td>0.267016</td>\n",
       "      <td>0.211587</td>\n",
       "      <td>0.208515</td>\n",
       "      <td>0.238636</td>\n",
       "      <td>0.217573</td>\n",
       "      <td>0.205680</td>\n",
       "      <td>0.239403</td>\n",
       "      <td>0.200385</td>\n",
       "      <td>0.238453</td>\n",
       "      <td>0.144915</td>\n",
       "      <td>0.196379</td>\n",
       "    </tr>\n",
       "    <tr>\n",
       "      <th>Shared room</th>\n",
       "      <td>0.004615</td>\n",
       "      <td>0.007853</td>\n",
       "      <td>0.007557</td>\n",
       "      <td>0.005459</td>\n",
       "      <td>0.003247</td>\n",
       "      <td>0.003138</td>\n",
       "      <td>0.003442</td>\n",
       "      <td>0.001570</td>\n",
       "      <td>0.000642</td>\n",
       "      <td>0.000000</td>\n",
       "      <td>0.002401</td>\n",
       "      <td>0.002756</td>\n",
       "    </tr>\n",
       "  </tbody>\n",
       "</table>\n",
       "</div>"
      ],
      "text/plain": [
       "review_scores_rating      90.0      91.0      92.0      93.0      94.0  \\\n",
       "room_type                                                                \n",
       "Entire home/apt       0.738462  0.712042  0.763224  0.781659  0.751623   \n",
       "Hotel room            0.007692  0.013089  0.017632  0.004367  0.006494   \n",
       "Private room          0.249231  0.267016  0.211587  0.208515  0.238636   \n",
       "Shared room           0.004615  0.007853  0.007557  0.005459  0.003247   \n",
       "\n",
       "review_scores_rating      95.0      96.0      97.0      98.0      99.0  \\\n",
       "room_type                                                                \n",
       "Entire home/apt       0.771967  0.779690  0.751962  0.791908  0.756176   \n",
       "Hotel room            0.007322  0.011188  0.007064  0.007065  0.005371   \n",
       "Private room          0.217573  0.205680  0.239403  0.200385  0.238453   \n",
       "Shared room           0.003138  0.003442  0.001570  0.000642  0.000000   \n",
       "\n",
       "review_scores_rating     100.0       All  \n",
       "room_type                                 \n",
       "Entire home/apt       0.850502  0.794904  \n",
       "Hotel room            0.002182  0.005960  \n",
       "Private room          0.144915  0.196379  \n",
       "Shared room           0.002401  0.002756  "
      ]
     },
     "execution_count": 75,
     "metadata": {},
     "output_type": "execute_result"
    }
   ],
   "source": [
    "# creando una tabla de contingencia\n",
    "a = pd.crosstab(dx.room_type, dx.review_scores_rating, margins = True, normalize=\"columns\")\n",
    "a"
   ]
  },
  {
   "cell_type": "code",
   "execution_count": 121,
   "id": "ffcf86d4-c45e-4ba0-a1be-7fcd37097f27",
   "metadata": {},
   "outputs": [
    {
     "data": {
      "text/html": [
       "<div>\n",
       "<style scoped>\n",
       "    .dataframe tbody tr th:only-of-type {\n",
       "        vertical-align: middle;\n",
       "    }\n",
       "\n",
       "    .dataframe tbody tr th {\n",
       "        vertical-align: top;\n",
       "    }\n",
       "\n",
       "    .dataframe thead th {\n",
       "        text-align: right;\n",
       "    }\n",
       "</style>\n",
       "<table border=\"1\" class=\"dataframe\">\n",
       "  <thead>\n",
       "    <tr style=\"text-align: right;\">\n",
       "      <th>review_scores_rating</th>\n",
       "      <th>90.0</th>\n",
       "      <th>91.0</th>\n",
       "      <th>92.0</th>\n",
       "      <th>93.0</th>\n",
       "      <th>94.0</th>\n",
       "      <th>95.0</th>\n",
       "      <th>96.0</th>\n",
       "      <th>97.0</th>\n",
       "      <th>98.0</th>\n",
       "      <th>99.0</th>\n",
       "      <th>100.0</th>\n",
       "      <th>All</th>\n",
       "    </tr>\n",
       "    <tr>\n",
       "      <th>room_type</th>\n",
       "      <th></th>\n",
       "      <th></th>\n",
       "      <th></th>\n",
       "      <th></th>\n",
       "      <th></th>\n",
       "      <th></th>\n",
       "      <th></th>\n",
       "      <th></th>\n",
       "      <th></th>\n",
       "      <th></th>\n",
       "      <th></th>\n",
       "      <th></th>\n",
       "    </tr>\n",
       "  </thead>\n",
       "  <tbody>\n",
       "    <tr>\n",
       "      <th>Entire home/apt</th>\n",
       "      <td>480</td>\n",
       "      <td>272</td>\n",
       "      <td>303</td>\n",
       "      <td>716</td>\n",
       "      <td>463</td>\n",
       "      <td>738</td>\n",
       "      <td>906</td>\n",
       "      <td>958</td>\n",
       "      <td>1233</td>\n",
       "      <td>704</td>\n",
       "      <td>3897</td>\n",
       "      <td>10670</td>\n",
       "    </tr>\n",
       "    <tr>\n",
       "      <th>Hotel room</th>\n",
       "      <td>5</td>\n",
       "      <td>5</td>\n",
       "      <td>7</td>\n",
       "      <td>4</td>\n",
       "      <td>4</td>\n",
       "      <td>7</td>\n",
       "      <td>13</td>\n",
       "      <td>9</td>\n",
       "      <td>11</td>\n",
       "      <td>5</td>\n",
       "      <td>10</td>\n",
       "      <td>80</td>\n",
       "    </tr>\n",
       "    <tr>\n",
       "      <th>Private room</th>\n",
       "      <td>162</td>\n",
       "      <td>102</td>\n",
       "      <td>84</td>\n",
       "      <td>191</td>\n",
       "      <td>147</td>\n",
       "      <td>208</td>\n",
       "      <td>239</td>\n",
       "      <td>305</td>\n",
       "      <td>312</td>\n",
       "      <td>222</td>\n",
       "      <td>664</td>\n",
       "      <td>2636</td>\n",
       "    </tr>\n",
       "    <tr>\n",
       "      <th>Shared room</th>\n",
       "      <td>3</td>\n",
       "      <td>3</td>\n",
       "      <td>3</td>\n",
       "      <td>5</td>\n",
       "      <td>2</td>\n",
       "      <td>3</td>\n",
       "      <td>4</td>\n",
       "      <td>2</td>\n",
       "      <td>1</td>\n",
       "      <td>0</td>\n",
       "      <td>11</td>\n",
       "      <td>37</td>\n",
       "    </tr>\n",
       "    <tr>\n",
       "      <th>All</th>\n",
       "      <td>650</td>\n",
       "      <td>382</td>\n",
       "      <td>397</td>\n",
       "      <td>916</td>\n",
       "      <td>616</td>\n",
       "      <td>956</td>\n",
       "      <td>1162</td>\n",
       "      <td>1274</td>\n",
       "      <td>1557</td>\n",
       "      <td>931</td>\n",
       "      <td>4582</td>\n",
       "      <td>13423</td>\n",
       "    </tr>\n",
       "  </tbody>\n",
       "</table>\n",
       "</div>"
      ],
      "text/plain": [
       "review_scores_rating  90.0  91.0  92.0  93.0  94.0  95.0  96.0  97.0  98.0  \\\n",
       "room_type                                                                    \n",
       "Entire home/apt        480   272   303   716   463   738   906   958  1233   \n",
       "Hotel room               5     5     7     4     4     7    13     9    11   \n",
       "Private room           162   102    84   191   147   208   239   305   312   \n",
       "Shared room              3     3     3     5     2     3     4     2     1   \n",
       "All                    650   382   397   916   616   956  1162  1274  1557   \n",
       "\n",
       "review_scores_rating  99.0  100.0    All  \n",
       "room_type                                 \n",
       "Entire home/apt        704   3897  10670  \n",
       "Hotel room               5     10     80  \n",
       "Private room           222    664   2636  \n",
       "Shared room              0     11     37  \n",
       "All                    931   4582  13423  "
      ]
     },
     "execution_count": 121,
     "metadata": {},
     "output_type": "execute_result"
    }
   ],
   "source": [
    "tabla_contingencia = pd.crosstab(dx.room_type, dx.review_scores_rating, margins = True)\n",
    "tabla_contingencia"
   ]
  },
  {
   "cell_type": "markdown",
   "id": "933f43b8-c181-4735-906a-71af391d8eb9",
   "metadata": {},
   "source": [
    "# CHI AL CUADRADO\n",
    "\n",
    "Esta es una prueba de hipotesis para lo que se calcula la prueba de hipotesis chi y a partir de ahi se genera el pvalue para determinar que hacer con la hipotesis nula establecida. "
   ]
  },
  {
   "cell_type": "code",
   "execution_count": 130,
   "id": "78e5ac77-41e3-4c31-a2f0-3f2e1543b431",
   "metadata": {},
   "outputs": [
    {
     "data": {
      "text/plain": [
       "6.863859688450569e-20"
      ]
     },
     "execution_count": 130,
     "metadata": {},
     "output_type": "execute_result"
    }
   ],
   "source": [
    "chi, pvalue, dof, exp = stats.chi2_contingency(tabla_contingencia) \n",
    "pvalue"
   ]
  },
  {
   "cell_type": "code",
   "execution_count": 125,
   "id": "29f725fa-c866-4824-a834-05819ead4847",
   "metadata": {},
   "outputs": [
    {
     "data": {
      "text/plain": [
       "7.776945838974092"
      ]
     },
     "execution_count": 125,
     "metadata": {},
     "output_type": "execute_result"
    }
   ],
   "source": [
    "# valor critico \n",
    "\n",
    "stats_chi = stats.chi.ppf(0.95, dof)\n",
    "stats_chi"
   ]
  },
  {
   "cell_type": "code",
   "execution_count": 126,
   "id": "322c60e3-8dcb-4ece-b198-5537af00a5d0",
   "metadata": {},
   "outputs": [
    {
     "data": {
      "text/plain": [
       "True"
      ]
     },
     "execution_count": 126,
     "metadata": {},
     "output_type": "execute_result"
    }
   ],
   "source": [
    "chi > stats_chi"
   ]
  },
  {
   "cell_type": "markdown",
   "id": "c1ad4742-3ac3-49a5-b977-c38b31c4cbd0",
   "metadata": {},
   "source": [
    "En este elemento podríamos indicar que el pvalue es muy muy pequeño y podríamos rechazar la hipotesis nula, pero en este caso no establecimos hipotesis nula. "
   ]
  },
  {
   "cell_type": "code",
   "execution_count": 142,
   "id": "dbebb540-c35a-4486-bf1e-7b61c5f88f10",
   "metadata": {},
   "outputs": [
    {
     "name": "stderr",
     "output_type": "stream",
     "text": [
      "/tmp/ipykernel_12697/1727476613.py:2: SettingWithCopyWarning: \n",
      "A value is trying to be set on a copy of a slice from a DataFrame.\n",
      "Try using .loc[row_indexer,col_indexer] = value instead\n",
      "\n",
      "See the caveats in the documentation: https://pandas.pydata.org/pandas-docs/stable/user_guide/indexing.html#returning-a-view-versus-a-copy\n",
      "  dx[\"intervalo\"] = pd.cut(x=dx.review_scores_rating, bins=[20,30,40,50,60,70,80,90,100])\n"
     ]
    },
    {
     "data": {
      "text/html": [
       "<div>\n",
       "<style scoped>\n",
       "    .dataframe tbody tr th:only-of-type {\n",
       "        vertical-align: middle;\n",
       "    }\n",
       "\n",
       "    .dataframe tbody tr th {\n",
       "        vertical-align: top;\n",
       "    }\n",
       "\n",
       "    .dataframe thead th {\n",
       "        text-align: right;\n",
       "    }\n",
       "</style>\n",
       "<table border=\"1\" class=\"dataframe\">\n",
       "  <thead>\n",
       "    <tr style=\"text-align: right;\">\n",
       "      <th>intervalo</th>\n",
       "      <th>(30, 40]</th>\n",
       "      <th>(40, 50]</th>\n",
       "      <th>(50, 60]</th>\n",
       "      <th>(60, 70]</th>\n",
       "      <th>(70, 80]</th>\n",
       "      <th>(80, 90]</th>\n",
       "      <th>(90, 100]</th>\n",
       "      <th>All</th>\n",
       "    </tr>\n",
       "    <tr>\n",
       "      <th>room_type</th>\n",
       "      <th></th>\n",
       "      <th></th>\n",
       "      <th></th>\n",
       "      <th></th>\n",
       "      <th></th>\n",
       "      <th></th>\n",
       "      <th></th>\n",
       "      <th></th>\n",
       "    </tr>\n",
       "  </thead>\n",
       "  <tbody>\n",
       "    <tr>\n",
       "      <th>Entire home/apt</th>\n",
       "      <td>0.000857</td>\n",
       "      <td>0.000396</td>\n",
       "      <td>0.004682</td>\n",
       "      <td>0.003693</td>\n",
       "      <td>0.024006</td>\n",
       "      <td>0.079997</td>\n",
       "      <td>0.672031</td>\n",
       "      <td>0.785662</td>\n",
       "    </tr>\n",
       "    <tr>\n",
       "      <th>Hotel room</th>\n",
       "      <td>0.000000</td>\n",
       "      <td>0.000000</td>\n",
       "      <td>0.000000</td>\n",
       "      <td>0.000000</td>\n",
       "      <td>0.000198</td>\n",
       "      <td>0.001253</td>\n",
       "      <td>0.004946</td>\n",
       "      <td>0.006397</td>\n",
       "    </tr>\n",
       "    <tr>\n",
       "      <th>Private room</th>\n",
       "      <td>0.000660</td>\n",
       "      <td>0.000198</td>\n",
       "      <td>0.001715</td>\n",
       "      <td>0.001187</td>\n",
       "      <td>0.007782</td>\n",
       "      <td>0.030337</td>\n",
       "      <td>0.163160</td>\n",
       "      <td>0.205039</td>\n",
       "    </tr>\n",
       "    <tr>\n",
       "      <th>Shared room</th>\n",
       "      <td>0.000000</td>\n",
       "      <td>0.000000</td>\n",
       "      <td>0.000000</td>\n",
       "      <td>0.000000</td>\n",
       "      <td>0.000066</td>\n",
       "      <td>0.000594</td>\n",
       "      <td>0.002242</td>\n",
       "      <td>0.002902</td>\n",
       "    </tr>\n",
       "    <tr>\n",
       "      <th>All</th>\n",
       "      <td>0.001517</td>\n",
       "      <td>0.000594</td>\n",
       "      <td>0.006397</td>\n",
       "      <td>0.004880</td>\n",
       "      <td>0.032052</td>\n",
       "      <td>0.112181</td>\n",
       "      <td>0.842379</td>\n",
       "      <td>1.000000</td>\n",
       "    </tr>\n",
       "  </tbody>\n",
       "</table>\n",
       "</div>"
      ],
      "text/plain": [
       "intervalo        (30, 40]  (40, 50]  (50, 60]  (60, 70]  (70, 80]  (80, 90]  \\\n",
       "room_type                                                                     \n",
       "Entire home/apt  0.000857  0.000396  0.004682  0.003693  0.024006  0.079997   \n",
       "Hotel room       0.000000  0.000000  0.000000  0.000000  0.000198  0.001253   \n",
       "Private room     0.000660  0.000198  0.001715  0.001187  0.007782  0.030337   \n",
       "Shared room      0.000000  0.000000  0.000000  0.000000  0.000066  0.000594   \n",
       "All              0.001517  0.000594  0.006397  0.004880  0.032052  0.112181   \n",
       "\n",
       "intervalo        (90, 100]       All  \n",
       "room_type                             \n",
       "Entire home/apt   0.672031  0.785662  \n",
       "Hotel room        0.004946  0.006397  \n",
       "Private room      0.163160  0.205039  \n",
       "Shared room       0.002242  0.002902  \n",
       "All               0.842379  1.000000  "
      ]
     },
     "execution_count": 142,
     "metadata": {},
     "output_type": "execute_result"
    }
   ],
   "source": [
    "dx = datos[[\"room_type\",\"review_scores_rating\"]]\n",
    "dx[\"intervalo\"] = pd.cut(x=dx.review_scores_rating, bins=[20,30,40,50,60,70,80,90,100])\n",
    "tabla_contingencia = pd.crosstab(dx.room_type, dx.intervalo, margins = True, normalize=\"all\")\n",
    "tabla_contingencia"
   ]
  },
  {
   "cell_type": "code",
   "execution_count": null,
   "id": "7a464f5f-1fe0-46a3-b611-9a4fd0edc136",
   "metadata": {},
   "outputs": [],
   "source": [
    "tabla_contingencia1 = "
   ]
  },
  {
   "cell_type": "code",
   "execution_count": 134,
   "id": "3a2fb4e9-0a44-4f61-999f-1e5b92836405",
   "metadata": {},
   "outputs": [
    {
     "data": {
      "text/plain": [
       "1.2704433507242646e-07"
      ]
     },
     "execution_count": 134,
     "metadata": {},
     "output_type": "execute_result"
    }
   ],
   "source": [
    "chi, pvalue, dof, exp = stats.chi2_contingency(tabla_contingencia) \n",
    "pvalue"
   ]
  },
  {
   "cell_type": "code",
   "execution_count": 135,
   "id": "227810ff-fbd8-4782-9b34-98f077ebe091",
   "metadata": {},
   "outputs": [
    {
     "data": {
      "text/plain": [
       "6.429396406462071"
      ]
     },
     "execution_count": 135,
     "metadata": {},
     "output_type": "execute_result"
    }
   ],
   "source": [
    "stats_chi = stats.chi.ppf(0.95, dof)\n",
    "stats_chi"
   ]
  },
  {
   "cell_type": "markdown",
   "id": "ed885d3f-1d40-4311-8851-4030eefc9e4e",
   "metadata": {},
   "source": []
  },
  {
   "cell_type": "code",
   "execution_count": null,
   "id": "549d9663-0cc3-451a-8370-31a6a14febe0",
   "metadata": {},
   "outputs": [],
   "source": []
  }
 ],
 "metadata": {
  "kernelspec": {
   "display_name": "Python 3 (ipykernel)",
   "language": "python",
   "name": "python3"
  },
  "language_info": {
   "codemirror_mode": {
    "name": "ipython",
    "version": 3
   },
   "file_extension": ".py",
   "mimetype": "text/x-python",
   "name": "python",
   "nbconvert_exporter": "python",
   "pygments_lexer": "ipython3",
   "version": "3.9.13"
  }
 },
 "nbformat": 4,
 "nbformat_minor": 5
}
