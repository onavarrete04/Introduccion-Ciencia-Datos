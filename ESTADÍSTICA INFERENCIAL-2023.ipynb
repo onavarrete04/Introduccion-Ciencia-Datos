{
 "cells": [
  {
   "cell_type": "markdown",
   "id": "002eb9c3",
   "metadata": {},
   "source": [
    "## HIPOTESIS\n",
    "\n",
    "Cuando hacemos una prueba de hipótesis, estamos tratando de decidir si una afirmación sobre una población es verdadera o no. La afirmación se llama hipótesis y se divide en dos: la hipótesis nula (H0) y la hipótesis alternativa (H1).\n",
    "\n",
    "La hipótesis nula es una afirmación que queremos poner a prueba, y la hipótesis alternativa es la afirmación contraria. Por ejemplo, si queremos saber si la media de altura de las mujeres es mayor que 1.65 metros, la hipótesis nula sería que la media de altura de las mujeres es igual o menor que 1.65 metros, mientras que la hipótesis alternativa sería que la media de altura de las mujeres es mayor que 1.65 metros.\n",
    "\n",
    "Ahora bien, cuando hacemos una prueba de hipótesis, podemos cometer dos tipos de errores: el error tipo I y el error tipo II.\n",
    "\n",
    "**El error tipo I ocurre cuando rechazamos la hipótesis nula cuando en realidad es verdadera.** Es decir, elegimos la hipótesis alternativa cuando deberíamos haber elegido la hipótesis nula. Esto se llama error tipo I porque estamos tomando una decisión incorrecta al rechazar una afirmación que es cierta.\n",
    "\n",
    "**El error tipo II ocurre cuando aceptamos la hipótesis nula cuando en realidad es falsa.**\n",
    "Es decir, elegimos la hipótesis nula cuando deberíamos haber elegido la hipótesis alternativa. Esto se llama error tipo II porque estamos tomando una decisión incorrecta al aceptar una afirmación que es falsa.\n",
    "\n",
    "Para resumirlo, el error tipo I es cuando rechazamos una afirmación verdadera, y el error tipo II es cuando aceptamos una afirmación falsa. Ambos errores son importantes de tener en cuenta cuando hacemos una prueba de hipótesis, ya que pueden tener implicaciones importantes en la toma de decisiones."
   ]
  },
  {
   "cell_type": "markdown",
   "id": "8197a9eb",
   "metadata": {},
   "source": [
    "### INTRODUCCIÓN ESTADÍSTICA BAYESIANA\n",
    "\n",
    "\n",
    "En la estadística bayesiana lo que se hace es que se **incorporan datos nuevos al proceso a medida de que se hace el estudio** sin que este haya terminado. Es decir, es un proceso de incorpora información.\n",
    "\n",
    "la estadística bayesiana considera la probabilidad como una medida de incertidumbre, y esta incertidumbre se va actualizando a medida que se adquiere nueva información. Por ejemplo, si se tiene una hipótesis inicial sobre la probabilidad de un evento y luego se recopila nueva información, la estadística bayesiana actualiza la probabilidad inicial con la nueva información para obtener una probabilidad posterior más precisa y confiable. \n",
    "\n",
    "Ahora, la contraparte de la estadística bayesiana, es la estadística frecuentista en donde vemos (distribución normal, poisson y binomial), esta estadística se basa en las observaciones realizadas. \n",
    "\n",
    "\n",
    "De tal manera, un ejemplo:\n",
    "\n",
    "\n",
    "Entonces vamos a hacer un ejemplo, tenemos 4 chocolates, 3 son de color amarillo y 1 es de color azul. Entonces los meto en dos bolsas y luego las revuelvo, saco un chocolate y es de color amarillo, entonces con las estadísticas bayesianas como ahora tengo nueva información, diría que existe la probabilidad 2/3 de que salga amarillo y 1/3 de que salga azul, con esa información yo elegiria que salga amarillo porque es una probabilidad mayor. Ahora con la estadística frecuentista sacando el color amarillo, seguiría siendo la probabilidad en ambas bolsas del 50% de que sea un chocolate azul, aún habiendo sacado un chocolate. \n",
    "\n",
    "#### Ventajas de la estadística bayesiana:\n",
    "\n",
    "Considera la incertidumbre: La estadística bayesiana tiene en cuenta la incertidumbre y la subjetividad en las estimaciones, lo que la hace más útil para problemas complejos o poco convencionales.\n",
    "\n",
    "Puede utilizar pequeñas muestras: La estadística bayesiana puede utilizar pequeñas muestras y aún así producir estimaciones precisas.\n",
    "\n",
    "Permite actualización de las estimaciones: La estadística bayesiana permite la actualización de las estimaciones a medida que se adquiere nueva información.\n",
    "\n",
    "#### Desventajas de la estadística bayesiana:\n",
    "\n",
    "Requiere especificar una distribución a priori: La estadística bayesiana requiere especificar una distribución a priori, lo que puede ser difícil o subjetivo.\n",
    "\n",
    "Puede ser computacionalmente intensiva: La estadística bayesiana puede requerir cálculos computacionales intensivos.\n",
    "\n",
    "Puede ser difícil de interpretar: La estadística bayesiana puede ser difícil de interpretar para los no expertos debido a su enfoque subjetivo.\n",
    "\n",
    "#### Ventajas de la estadística frecuentista:\n",
    "\n",
    "Objetividad: La estadística frecuentista se basa en datos observados y repetidos, por lo que puede ser vista como más objetiva que la estadística bayesiana.\n",
    "\n",
    "Sencillez: La estadística frecuentista utiliza técnicas simples que son fáciles de implementar.\n",
    "\n",
    "Amplia aplicación: La estadística frecuentista es ampliamente utilizada en muchos campos de investigación, incluyendo la medicina, la biología, la física y la economía.\n",
    "\n",
    "#### Desventajas de la estadística frecuentista:\n",
    "\n",
    "No toma en cuenta la incertidumbre: La estadística frecuentista no tiene en cuenta la incertidumbre y la subjetividad en las estimaciones.\n",
    "\n",
    "Poca flexibilidad: La estadística frecuentista no se adapta bien a problemas complejos o poco convencionales.\n",
    "\n",
    "Puede requerir grandes muestras: La estadística frecuentista puede requerir grandes muestras para ser precisa.\n",
    "\n",
    "\n",
    "\n"
   ]
  },
  {
   "cell_type": "markdown",
   "id": "105a74eb",
   "metadata": {},
   "source": [
    "## Repasando PYTHON\n",
    "\n",
    "\n",
    "Las listas pueden tener varios tipos de datos. Por ejemplo, un elemento puede ser una cadena y otro puede ser un int y otro un flotador. Las listas se definen mediante el uso de corchetes: [ ], con elementos separados por comas, ','. Ex: \n",
    "\n",
    "mi_lista = [1, 'Colorado', 4.7, 'lluvia']\n",
    "Las listas están indexadas por posición. Recuerda, en Python, el índice comienza en 0 y termina en length(list)-1. Entonces, para recuperar el primer elemento de la lista que llamas:\n",
    "\n",
    "mi_lista[0]\n",
    "Las matrices Numpy np.arrays se diferencian de las listas en que contienen solo 1 tipo de datos. Por ejemplo, todos los elementos pueden ser enteros, cadenas, flotantes u objetos. Está definido por np.array(objeto), donde el 'objeto' de entrada puede ser, por ejemplo, una lista o una tupla.\n",
    "Ex:\n",
    "\n",
    "mi_matriz = np.matriz([1, 4, 5, 2])\n",
    "o\n",
    "\n",
    "mi_matriz = np.matriz((1, 4, 5, 2))\n",
    "Las listas y las matrices numpy difieren en su velocidad y eficiencia de memoria. Una razón intuitiva para esto es que las listas de Python tienen que almacenar el valor de cada elemento y también el tipo de cada elemento (ya que los tipos pueden diferir). Mientras que las matrices numpy solo necesitan almacenar el tipo una vez porque es el mismo para todos los elementos de la matriz.\n",
    "\n",
    "Puede hacer cálculos con matrices numpy que no se pueden hacer en listas.\n",
    "Ex:\n",
    "\n",
    "mi_matriz/3\n",
    "devolverá una matriz numpy, con cada uno de los elementos dividido por 3. Mientras que:\n",
    "\n",
    "mi_lista/3\n",
    "Tirará un error.\n",
    "\n",
    "Puede agregar elementos al final de las listas y matrices numpy, aunque tienen comandos ligeramente diferentes. Es casi digno de mención que las listas pueden agregar un elemento 'en su lugar', pero las matrices numpy no pueden.\n",
    "\n",
    "my_list.append('elemento nuevo')\n",
    "np.append(my_array, 5) # el nuevo elemento debe ser del mismo tipo que todos los demás elementos\n",
    "Enlaces a documentos de Python:\n",
    "Listas, arreglos, más sobre arreglos"
   ]
  },
  {
   "cell_type": "code",
   "execution_count": 8,
   "id": "dd166f8e",
   "metadata": {},
   "outputs": [],
   "source": [
    "import numpy as np\n",
    "import pandas as pd\n",
    "\n",
    "my_list = [1, 2, 3]\n",
    "my_array = np.array([1, 2, 3])"
   ]
  },
  {
   "cell_type": "code",
   "execution_count": 3,
   "id": "35848d9d",
   "metadata": {},
   "outputs": [
    {
     "data": {
      "text/plain": [
       "array([0.33333333, 0.66666667, 1.        ])"
      ]
     },
     "execution_count": 3,
     "metadata": {},
     "output_type": "execute_result"
    }
   ],
   "source": [
    "my_array/3"
   ]
  },
  {
   "cell_type": "markdown",
   "id": "ffab3c6e",
   "metadata": {},
   "source": [
    "### Diccionarios\n",
    "Almacenan pares clave-valor y están indexados por las claves. denotado con {clave1: valor1, clave2: valor2}. Las claves deben ser únicas, los valores no necesitan ser únicos.\n",
    "Se puede usar para muchas tareas, por ejemplo, crear tramas de datos y cambiar los nombres de las columnas."
   ]
  },
  {
   "cell_type": "code",
   "execution_count": 4,
   "id": "a2387d9a",
   "metadata": {},
   "outputs": [
    {
     "data": {
      "text/plain": [
       "2"
      ]
     },
     "execution_count": 4,
     "metadata": {},
     "output_type": "execute_result"
    }
   ],
   "source": [
    "dct = {'thing 1': 2, 'thing 2': 1}\n",
    "dct['thing 1']"
   ]
  },
  {
   "cell_type": "code",
   "execution_count": 5,
   "id": "6f45c761",
   "metadata": {},
   "outputs": [],
   "source": [
    "# add\n",
    "\n",
    "dct['new thing'] = 'woooo'"
   ]
  },
  {
   "cell_type": "code",
   "execution_count": 6,
   "id": "65ce2ecd",
   "metadata": {},
   "outputs": [
    {
     "data": {
      "text/plain": [
       "{'thing 1': 2, 'thing 2': 1, 'new thing': 'woooo'}"
      ]
     },
     "execution_count": 6,
     "metadata": {},
     "output_type": "execute_result"
    }
   ],
   "source": [
    "dct"
   ]
  },
  {
   "cell_type": "code",
   "execution_count": 9,
   "id": "f9abcde6",
   "metadata": {},
   "outputs": [
    {
     "data": {
      "text/html": [
       "<div>\n",
       "<style scoped>\n",
       "    .dataframe tbody tr th:only-of-type {\n",
       "        vertical-align: middle;\n",
       "    }\n",
       "\n",
       "    .dataframe tbody tr th {\n",
       "        vertical-align: top;\n",
       "    }\n",
       "\n",
       "    .dataframe thead th {\n",
       "        text-align: right;\n",
       "    }\n",
       "</style>\n",
       "<table border=\"1\" class=\"dataframe\">\n",
       "  <thead>\n",
       "    <tr style=\"text-align: right;\">\n",
       "      <th></th>\n",
       "      <th>col1</th>\n",
       "      <th>col2</th>\n",
       "    </tr>\n",
       "  </thead>\n",
       "  <tbody>\n",
       "    <tr>\n",
       "      <th>0</th>\n",
       "      <td>0</td>\n",
       "      <td>3</td>\n",
       "    </tr>\n",
       "    <tr>\n",
       "      <th>1</th>\n",
       "      <td>1</td>\n",
       "      <td>4</td>\n",
       "    </tr>\n",
       "    <tr>\n",
       "      <th>2</th>\n",
       "      <td>2</td>\n",
       "      <td>5</td>\n",
       "    </tr>\n",
       "  </tbody>\n",
       "</table>\n",
       "</div>"
      ],
      "text/plain": [
       "   col1  col2\n",
       "0     0     3\n",
       "1     1     4\n",
       "2     2     5"
      ]
     },
     "execution_count": 9,
     "metadata": {},
     "output_type": "execute_result"
    }
   ],
   "source": [
    "# Create DataFrame\n",
    "df = pd.DataFrame({'col1':range(3), 'col2':range(3,6)})\n",
    "df"
   ]
  },
  {
   "cell_type": "code",
   "execution_count": 13,
   "id": "742bfcb6",
   "metadata": {},
   "outputs": [
    {
     "data": {
      "text/html": [
       "<div>\n",
       "<style scoped>\n",
       "    .dataframe tbody tr th:only-of-type {\n",
       "        vertical-align: middle;\n",
       "    }\n",
       "\n",
       "    .dataframe tbody tr th {\n",
       "        vertical-align: top;\n",
       "    }\n",
       "\n",
       "    .dataframe thead th {\n",
       "        text-align: right;\n",
       "    }\n",
       "</style>\n",
       "<table border=\"1\" class=\"dataframe\">\n",
       "  <thead>\n",
       "    <tr style=\"text-align: right;\">\n",
       "      <th></th>\n",
       "      <th>apples</th>\n",
       "      <th>oranges</th>\n",
       "    </tr>\n",
       "  </thead>\n",
       "  <tbody>\n",
       "    <tr>\n",
       "      <th>0</th>\n",
       "      <td>0</td>\n",
       "      <td>3</td>\n",
       "    </tr>\n",
       "    <tr>\n",
       "      <th>1</th>\n",
       "      <td>1</td>\n",
       "      <td>4</td>\n",
       "    </tr>\n",
       "    <tr>\n",
       "      <th>2</th>\n",
       "      <td>2</td>\n",
       "      <td>5</td>\n",
       "    </tr>\n",
       "  </tbody>\n",
       "</table>\n",
       "</div>"
      ],
      "text/plain": [
       "   apples  oranges\n",
       "0       0        3\n",
       "1       1        4\n",
       "2       2        5"
      ]
     },
     "execution_count": 13,
     "metadata": {},
     "output_type": "execute_result"
    }
   ],
   "source": [
    "df = df.rename(columns={'col1': 'apples', 'col2':'oranges'})\n",
    "df"
   ]
  },
  {
   "cell_type": "markdown",
   "id": "3871e71c",
   "metadata": {},
   "source": [
    "### Funciones, funciones lambda y lectura de documentos de ayuda\n",
    "Vamos a presentar algunos conceptos más de Python. Si ha estado trabajando con los cuadernos de ejemplo de NHANES, ya los habrá visto en uso. Hay mucho que decir sobre estos nuevos conceptos, pero solo daremos una breve introducción a cada uno. Para obtener más información, siga los enlaces provistos o haga su propia búsqueda de los muchos recursos excelentes disponibles en la web.\n",
    "\n",
    "Funciones\n",
    "Si usa un fragmento de código varias veces, la mejor práctica es colocar ese código en una función en lugar de copiarlo y pegarlo. Por ejemplo, si quisiera varias gráficas iguales con datos diferentes, podría crear una función que devuelva ese estilo de gráfica para datos arbitrarios (aunque con la dimensión y el tipo correctos).\n",
    "\n",
    "En Python, la sangría es muy importante. Si se hace incorrectamente, su código no se ejecutará y en su lugar dará un error. Al definir una función, todo el código después de ':' debe sangrarse correctamente. La sangría transmite el alcance del código. Alguna explicación más.\n",
    "\n",
    "def nombre_función(argumentos):\n",
    "     \"\"\"\n",
    "     Comentario de encabezado: breve descripción de lo que hace esta función\n",
    "\n",
    "     Argumentos:\n",
    "         obj: entrada para esta función\n",
    "     Devoluciones:\n",
    "         out: la salida de esta función\n",
    "     \"\"\"\n",
    "\n",
    "     algún código\n",
    "\n",
    "     regresar\n",
    "La forma exacta de estructurar los comentarios del encabezado depende de usted si trabaja solo, o probablemente se especificará si trabaja para una empresa establecida.\n",
    "\n",
    "Los nombres de las funciones deben comenzar con una letra minúscula (no pueden comenzar con un número), y pueden estar en camelCase o snake_case.\n",
    "\n",
    "Si su función devuelve una variable, use 'return' para especificar esa variable. Sin embargo, una función no siempre tiene que devolver algo. Por ejemplo, podría tener una función que crea un gráfico y luego lo guarda en el directorio actual."
   ]
  },
  {
   "cell_type": "code",
   "execution_count": 14,
   "id": "e37ad032",
   "metadata": {},
   "outputs": [],
   "source": [
    "import numpy as np\n",
    "import pandas as pd\n",
    "import matplotlib.pyplot as plt\n",
    "%matplotlib inline"
   ]
  },
  {
   "cell_type": "code",
   "execution_count": 15,
   "id": "a7013e2c",
   "metadata": {},
   "outputs": [
    {
     "data": {
      "text/plain": [
       "7961"
      ]
     },
     "execution_count": 15,
     "metadata": {},
     "output_type": "execute_result"
    }
   ],
   "source": [
    "def suma(x, y):\n",
    "    sumando = x + y\n",
    "    return sumando\n",
    "\n",
    "suma(2,7959)"
   ]
  },
  {
   "cell_type": "code",
   "execution_count": 17,
   "id": "35c19aef",
   "metadata": {},
   "outputs": [
    {
     "data": {
      "text/plain": [
       "286"
      ]
     },
     "execution_count": 17,
     "metadata": {},
     "output_type": "execute_result"
    }
   ],
   "source": [
    "def dato_maximo(x):\n",
    "    maximo = x[0]\n",
    "    for i in x[1:]:\n",
    "        if i > maximo:\n",
    "            maximo = i\n",
    "        return maximo\n",
    "\n",
    "# datos al azar\n",
    "\n",
    "dato_maximo(np.random.choice(400,100))\n",
    "\n",
    "# np.random.choice(400, 100) elegirá aleatoriamente 100 enteros entre 0 y 400"
   ]
  },
  {
   "cell_type": "code",
   "execution_count": 29,
   "id": "da058612",
   "metadata": {},
   "outputs": [
    {
     "data": {
      "text/plain": [
       "394"
      ]
     },
     "execution_count": 29,
     "metadata": {},
     "output_type": "execute_result"
    }
   ],
   "source": [
    "def lista_mayor(array):\n",
    "    maximo = array[0]\n",
    "    for i in range(len(array)):\n",
    "        if array[i] > maximo:\n",
    "            maximo = array[i]\n",
    "    return maximo\n",
    "\n",
    "lista_mayor(np.random.choice(400,10))\n",
    "\n"
   ]
  },
  {
   "cell_type": "code",
   "execution_count": 41,
   "id": "f8db2327",
   "metadata": {},
   "outputs": [
    {
     "name": "stdout",
     "output_type": "stream",
     "text": [
      "[7, 37, 2, 6, 6, 30, 35, 25, 5, 17] ****\n",
      "[7, 6, 48, 37, 5, 6, 17, 2, 25, 35]\n"
     ]
    }
   ],
   "source": [
    "lista = list(np.random.choice(50,10))\n",
    "print(lista, \"****\")\n",
    "\n",
    "\n",
    "for x in range(len(lista)):\n",
    "    for i in range(len(lista)):\n",
    "        if lista[x] > lista[i]:\n",
    "            espera = mayor\n",
    "            mayor = lista[i]\n",
    "            lista[i] = espera\n",
    "\n",
    "        \n",
    "print(lista)\n",
    "    "
   ]
  },
  {
   "cell_type": "markdown",
   "id": "2f47df1a",
   "metadata": {},
   "source": [
    "### funciones lambda\n",
    "También se conocen como funciones anónimas porque no tienen nombre. Esta función puede tener cualquier número de argumentos pero solo una expresión. Las funciones lambda, a diferencia de las funciones definidas, siempre devuelven una variable. El formato de una función lambda es\n",
    "\n",
    "argumentos lambda: expresión\n",
    "Pueden parecerse a una expresión matemática para evaluar una función.\n",
    "Por ejemplo:\n",
    "\n",
    "(lambda x: x**2)(3)\n",
    "Es lo mismo que escribir matemáticamente\n",
    "f(x)=x2\n",
    "   an luego evaluando la función f\n",
    "   en x=3\n",
    "  ,\n",
    "f(3)=9"
   ]
  },
  {
   "cell_type": "code",
   "execution_count": 43,
   "id": "4bc07be2",
   "metadata": {},
   "outputs": [
    {
     "data": {
      "text/plain": [
       "9"
      ]
     },
     "execution_count": 43,
     "metadata": {},
     "output_type": "execute_result"
    }
   ],
   "source": [
    "(lambda x: x**2)(3)\n",
    "\n",
    "# (lambda argumentos: acciones)(parametro)"
   ]
  },
  {
   "cell_type": "code",
   "execution_count": 44,
   "id": "516ca34d",
   "metadata": {},
   "outputs": [
    {
     "name": "stdout",
     "output_type": "stream",
     "text": [
      "Help on _Helper in module _sitebuiltins object:\n",
      "\n",
      "class _Helper(builtins.object)\n",
      " |  Define the builtin 'help'.\n",
      " |  \n",
      " |  This is a wrapper around pydoc.help that provides a helpful message\n",
      " |  when 'help' is typed at the Python interactive prompt.\n",
      " |  \n",
      " |  Calling help() at the Python prompt starts an interactive help session.\n",
      " |  Calling help(thing) prints help for the python object 'thing'.\n",
      " |  \n",
      " |  Methods defined here:\n",
      " |  \n",
      " |  __call__(self, *args, **kwds)\n",
      " |      Call self as a function.\n",
      " |  \n",
      " |  __repr__(self)\n",
      " |      Return repr(self).\n",
      " |  \n",
      " |  ----------------------------------------------------------------------\n",
      " |  Data descriptors defined here:\n",
      " |  \n",
      " |  __dict__\n",
      " |      dictionary for instance variables (if defined)\n",
      " |  \n",
      " |  __weakref__\n",
      " |      list of weak references to the object (if defined)\n",
      "\n"
     ]
    }
   ],
   "source": [
    "help(help)"
   ]
  },
  {
   "cell_type": "code",
   "execution_count": 45,
   "id": "ec4c09fd",
   "metadata": {},
   "outputs": [
    {
     "name": "stdout",
     "output_type": "stream",
     "text": [
      "Help on function drop in module pandas.core.frame:\n",
      "\n",
      "drop(self, labels=None, axis: 'Axis' = 0, index=None, columns=None, level: 'Level | None' = None, inplace: 'bool' = False, errors: 'str' = 'raise')\n",
      "    Drop specified labels from rows or columns.\n",
      "    \n",
      "    Remove rows or columns by specifying label names and corresponding\n",
      "    axis, or by specifying directly index or column names. When using a\n",
      "    multi-index, labels on different levels can be removed by specifying\n",
      "    the level. See the `user guide <advanced.shown_levels>`\n",
      "    for more information about the now unused levels.\n",
      "    \n",
      "    Parameters\n",
      "    ----------\n",
      "    labels : single label or list-like\n",
      "        Index or column labels to drop. A tuple will be used as a single\n",
      "        label and not treated as a list-like.\n",
      "    axis : {0 or 'index', 1 or 'columns'}, default 0\n",
      "        Whether to drop labels from the index (0 or 'index') or\n",
      "        columns (1 or 'columns').\n",
      "    index : single label or list-like\n",
      "        Alternative to specifying axis (``labels, axis=0``\n",
      "        is equivalent to ``index=labels``).\n",
      "    columns : single label or list-like\n",
      "        Alternative to specifying axis (``labels, axis=1``\n",
      "        is equivalent to ``columns=labels``).\n",
      "    level : int or level name, optional\n",
      "        For MultiIndex, level from which the labels will be removed.\n",
      "    inplace : bool, default False\n",
      "        If False, return a copy. Otherwise, do operation\n",
      "        inplace and return None.\n",
      "    errors : {'ignore', 'raise'}, default 'raise'\n",
      "        If 'ignore', suppress error and only existing labels are\n",
      "        dropped.\n",
      "    \n",
      "    Returns\n",
      "    -------\n",
      "    DataFrame or None\n",
      "        DataFrame without the removed index or column labels or\n",
      "        None if ``inplace=True``.\n",
      "    \n",
      "    Raises\n",
      "    ------\n",
      "    KeyError\n",
      "        If any of the labels is not found in the selected axis.\n",
      "    \n",
      "    See Also\n",
      "    --------\n",
      "    DataFrame.loc : Label-location based indexer for selection by label.\n",
      "    DataFrame.dropna : Return DataFrame with labels on given axis omitted\n",
      "        where (all or any) data are missing.\n",
      "    DataFrame.drop_duplicates : Return DataFrame with duplicate rows\n",
      "        removed, optionally only considering certain columns.\n",
      "    Series.drop : Return Series with specified index labels removed.\n",
      "    \n",
      "    Examples\n",
      "    --------\n",
      "    >>> df = pd.DataFrame(np.arange(12).reshape(3, 4),\n",
      "    ...                   columns=['A', 'B', 'C', 'D'])\n",
      "    >>> df\n",
      "       A  B   C   D\n",
      "    0  0  1   2   3\n",
      "    1  4  5   6   7\n",
      "    2  8  9  10  11\n",
      "    \n",
      "    Drop columns\n",
      "    \n",
      "    >>> df.drop(['B', 'C'], axis=1)\n",
      "       A   D\n",
      "    0  0   3\n",
      "    1  4   7\n",
      "    2  8  11\n",
      "    \n",
      "    >>> df.drop(columns=['B', 'C'])\n",
      "       A   D\n",
      "    0  0   3\n",
      "    1  4   7\n",
      "    2  8  11\n",
      "    \n",
      "    Drop a row by index\n",
      "    \n",
      "    >>> df.drop([0, 1])\n",
      "       A  B   C   D\n",
      "    2  8  9  10  11\n",
      "    \n",
      "    Drop columns and/or rows of MultiIndex DataFrame\n",
      "    \n",
      "    >>> midx = pd.MultiIndex(levels=[['lama', 'cow', 'falcon'],\n",
      "    ...                              ['speed', 'weight', 'length']],\n",
      "    ...                      codes=[[0, 0, 0, 1, 1, 1, 2, 2, 2],\n",
      "    ...                             [0, 1, 2, 0, 1, 2, 0, 1, 2]])\n",
      "    >>> df = pd.DataFrame(index=midx, columns=['big', 'small'],\n",
      "    ...                   data=[[45, 30], [200, 100], [1.5, 1], [30, 20],\n",
      "    ...                         [250, 150], [1.5, 0.8], [320, 250],\n",
      "    ...                         [1, 0.8], [0.3, 0.2]])\n",
      "    >>> df\n",
      "                    big     small\n",
      "    lama    speed   45.0    30.0\n",
      "            weight  200.0   100.0\n",
      "            length  1.5     1.0\n",
      "    cow     speed   30.0    20.0\n",
      "            weight  250.0   150.0\n",
      "            length  1.5     0.8\n",
      "    falcon  speed   320.0   250.0\n",
      "            weight  1.0     0.8\n",
      "            length  0.3     0.2\n",
      "    \n",
      "    Drop a specific index combination from the MultiIndex\n",
      "    DataFrame, i.e., drop the combination ``'falcon'`` and\n",
      "    ``'weight'``, which deletes only the corresponding row\n",
      "    \n",
      "    >>> df.drop(index=('falcon', 'weight'))\n",
      "                    big     small\n",
      "    lama    speed   45.0    30.0\n",
      "            weight  200.0   100.0\n",
      "            length  1.5     1.0\n",
      "    cow     speed   30.0    20.0\n",
      "            weight  250.0   150.0\n",
      "            length  1.5     0.8\n",
      "    falcon  speed   320.0   250.0\n",
      "            length  0.3     0.2\n",
      "    \n",
      "    >>> df.drop(index='cow', columns='small')\n",
      "                    big\n",
      "    lama    speed   45.0\n",
      "            weight  200.0\n",
      "            length  1.5\n",
      "    falcon  speed   320.0\n",
      "            weight  1.0\n",
      "            length  0.3\n",
      "    \n",
      "    >>> df.drop(index='length', level=1)\n",
      "                    big     small\n",
      "    lama    speed   45.0    30.0\n",
      "            weight  200.0   100.0\n",
      "    cow     speed   30.0    20.0\n",
      "            weight  250.0   150.0\n",
      "    falcon  speed   320.0   250.0\n",
      "            weight  1.0     0.8\n",
      "\n"
     ]
    }
   ],
   "source": [
    "help(pd.DataFrame.drop)"
   ]
  },
  {
   "cell_type": "markdown",
   "id": "50c6ce18",
   "metadata": {},
   "source": [
    "### Problema de desafío:\n",
    "Escriba una función que tome cuatro argumentos: lst1, lst2, str1, str2, y devuelva un marco de datos de pandas que tenga la primera columna etiquetada como str1 y la segunda columna etiquetada como str2, que tienen valores lst1 y lst2 escalados entre 0 y 1."
   ]
  },
  {
   "cell_type": "code",
   "execution_count": 77,
   "id": "72ce091d",
   "metadata": {},
   "outputs": [],
   "source": [
    "import numpy as np\n",
    "def matrices(lt1, lt2, str1, str2):\n",
    "    a = np.interp(lt1, (min(lt1), max(lt1)), (0, 1))\n",
    "    b = np.interp(lt2, (min(lt2), max(lt2)), (0, 1))\n",
    "    df = pd.DataFrame({str1: a,  str2:b.round(3)})\n",
    "    \n",
    "    \n",
    "    return df"
   ]
  },
  {
   "cell_type": "code",
   "execution_count": 78,
   "id": "702c1873",
   "metadata": {},
   "outputs": [
    {
     "data": {
      "text/html": [
       "<div>\n",
       "<style scoped>\n",
       "    .dataframe tbody tr th:only-of-type {\n",
       "        vertical-align: middle;\n",
       "    }\n",
       "\n",
       "    .dataframe tbody tr th {\n",
       "        vertical-align: top;\n",
       "    }\n",
       "\n",
       "    .dataframe thead th {\n",
       "        text-align: right;\n",
       "    }\n",
       "</style>\n",
       "<table border=\"1\" class=\"dataframe\">\n",
       "  <thead>\n",
       "    <tr style=\"text-align: right;\">\n",
       "      <th></th>\n",
       "      <th>one</th>\n",
       "      <th>two</th>\n",
       "    </tr>\n",
       "  </thead>\n",
       "  <tbody>\n",
       "    <tr>\n",
       "      <th>0</th>\n",
       "      <td>0.0</td>\n",
       "      <td>0.000</td>\n",
       "    </tr>\n",
       "    <tr>\n",
       "      <th>1</th>\n",
       "      <td>0.5</td>\n",
       "      <td>0.667</td>\n",
       "    </tr>\n",
       "    <tr>\n",
       "      <th>2</th>\n",
       "      <td>1.0</td>\n",
       "      <td>1.000</td>\n",
       "    </tr>\n",
       "  </tbody>\n",
       "</table>\n",
       "</div>"
      ],
      "text/plain": [
       "   one    two\n",
       "0  0.0  0.000\n",
       "1  0.5  0.667\n",
       "2  1.0  1.000"
      ]
     },
     "execution_count": 78,
     "metadata": {},
     "output_type": "execute_result"
    }
   ],
   "source": [
    "lst1 = [1, 2, 3]\n",
    "lst2 = [2, 4, 5]\n",
    "str1 = 'one'\n",
    "str2 = 'two'\n",
    "matrices(lst1, lst2, str1,str2)"
   ]
  },
  {
   "cell_type": "code",
   "execution_count": 79,
   "id": "40a73ef4",
   "metadata": {},
   "outputs": [
    {
     "data": {
      "text/html": [
       "<div>\n",
       "<style scoped>\n",
       "    .dataframe tbody tr th:only-of-type {\n",
       "        vertical-align: middle;\n",
       "    }\n",
       "\n",
       "    .dataframe tbody tr th {\n",
       "        vertical-align: top;\n",
       "    }\n",
       "\n",
       "    .dataframe thead th {\n",
       "        text-align: right;\n",
       "    }\n",
       "</style>\n",
       "<table border=\"1\" class=\"dataframe\">\n",
       "  <thead>\n",
       "    <tr style=\"text-align: right;\">\n",
       "      <th></th>\n",
       "      <th>one</th>\n",
       "      <th>alpha</th>\n",
       "    </tr>\n",
       "  </thead>\n",
       "  <tbody>\n",
       "    <tr>\n",
       "      <th>0</th>\n",
       "      <td>0.235965</td>\n",
       "      <td>0.824</td>\n",
       "    </tr>\n",
       "    <tr>\n",
       "      <th>1</th>\n",
       "      <td>0.659649</td>\n",
       "      <td>0.177</td>\n",
       "    </tr>\n",
       "    <tr>\n",
       "      <th>2</th>\n",
       "      <td>0.241228</td>\n",
       "      <td>0.294</td>\n",
       "    </tr>\n",
       "    <tr>\n",
       "      <th>3</th>\n",
       "      <td>0.021053</td>\n",
       "      <td>0.198</td>\n",
       "    </tr>\n",
       "    <tr>\n",
       "      <th>4</th>\n",
       "      <td>0.869298</td>\n",
       "      <td>0.973</td>\n",
       "    </tr>\n",
       "    <tr>\n",
       "      <th>...</th>\n",
       "      <td>...</td>\n",
       "      <td>...</td>\n",
       "    </tr>\n",
       "    <tr>\n",
       "      <th>95</th>\n",
       "      <td>0.585088</td>\n",
       "      <td>0.809</td>\n",
       "    </tr>\n",
       "    <tr>\n",
       "      <th>96</th>\n",
       "      <td>0.179825</td>\n",
       "      <td>0.758</td>\n",
       "    </tr>\n",
       "    <tr>\n",
       "      <th>97</th>\n",
       "      <td>0.845614</td>\n",
       "      <td>0.684</td>\n",
       "    </tr>\n",
       "    <tr>\n",
       "      <th>98</th>\n",
       "      <td>0.997368</td>\n",
       "      <td>0.440</td>\n",
       "    </tr>\n",
       "    <tr>\n",
       "      <th>99</th>\n",
       "      <td>0.284211</td>\n",
       "      <td>0.677</td>\n",
       "    </tr>\n",
       "  </tbody>\n",
       "</table>\n",
       "<p>100 rows × 2 columns</p>\n",
       "</div>"
      ],
      "text/plain": [
       "         one  alpha\n",
       "0   0.235965  0.824\n",
       "1   0.659649  0.177\n",
       "2   0.241228  0.294\n",
       "3   0.021053  0.198\n",
       "4   0.869298  0.973\n",
       "..       ...    ...\n",
       "95  0.585088  0.809\n",
       "96  0.179825  0.758\n",
       "97  0.845614  0.684\n",
       "98  0.997368  0.440\n",
       "99  0.284211  0.677\n",
       "\n",
       "[100 rows x 2 columns]"
      ]
     },
     "execution_count": 79,
     "metadata": {},
     "output_type": "execute_result"
    }
   ],
   "source": [
    "lst1 = np.random.randint(-234, 938, 100)\n",
    "lst2 = np.random.randint(-522, 123, 100)\n",
    "str1 = 'one'\n",
    "str2 = 'alpha'\n",
    "\n",
    "matrices(lst1, lst2, str1,str2)"
   ]
  },
  {
   "cell_type": "code",
   "execution_count": 82,
   "id": "40d20c0b",
   "metadata": {},
   "outputs": [
    {
     "name": "stdout",
     "output_type": "stream",
     "text": [
      "Help on function sort in module numpy:\n",
      "\n",
      "sort(a, axis=-1, kind=None, order=None)\n",
      "    Return a sorted copy of an array.\n",
      "    \n",
      "    Parameters\n",
      "    ----------\n",
      "    a : array_like\n",
      "        Array to be sorted.\n",
      "    axis : int or None, optional\n",
      "        Axis along which to sort. If None, the array is flattened before\n",
      "        sorting. The default is -1, which sorts along the last axis.\n",
      "    kind : {'quicksort', 'mergesort', 'heapsort', 'stable'}, optional\n",
      "        Sorting algorithm. The default is 'quicksort'. Note that both 'stable'\n",
      "        and 'mergesort' use timsort or radix sort under the covers and, in general,\n",
      "        the actual implementation will vary with data type. The 'mergesort' option\n",
      "        is retained for backwards compatibility.\n",
      "    \n",
      "        .. versionchanged:: 1.15.0.\n",
      "           The 'stable' option was added.\n",
      "    \n",
      "    order : str or list of str, optional\n",
      "        When `a` is an array with fields defined, this argument specifies\n",
      "        which fields to compare first, second, etc.  A single field can\n",
      "        be specified as a string, and not all fields need be specified,\n",
      "        but unspecified fields will still be used, in the order in which\n",
      "        they come up in the dtype, to break ties.\n",
      "    \n",
      "    Returns\n",
      "    -------\n",
      "    sorted_array : ndarray\n",
      "        Array of the same type and shape as `a`.\n",
      "    \n",
      "    See Also\n",
      "    --------\n",
      "    ndarray.sort : Method to sort an array in-place.\n",
      "    argsort : Indirect sort.\n",
      "    lexsort : Indirect stable sort on multiple keys.\n",
      "    searchsorted : Find elements in a sorted array.\n",
      "    partition : Partial sort.\n",
      "    \n",
      "    Notes\n",
      "    -----\n",
      "    The various sorting algorithms are characterized by their average speed,\n",
      "    worst case performance, work space size, and whether they are stable. A\n",
      "    stable sort keeps items with the same key in the same relative\n",
      "    order. The four algorithms implemented in NumPy have the following\n",
      "    properties:\n",
      "    \n",
      "    =========== ======= ============= ============ ========\n",
      "       kind      speed   worst case    work space   stable\n",
      "    =========== ======= ============= ============ ========\n",
      "    'quicksort'    1     O(n^2)            0          no\n",
      "    'heapsort'     3     O(n*log(n))       0          no\n",
      "    'mergesort'    2     O(n*log(n))      ~n/2        yes\n",
      "    'timsort'      2     O(n*log(n))      ~n/2        yes\n",
      "    =========== ======= ============= ============ ========\n",
      "    \n",
      "    .. note:: The datatype determines which of 'mergesort' or 'timsort'\n",
      "       is actually used, even if 'mergesort' is specified. User selection\n",
      "       at a finer scale is not currently available.\n",
      "    \n",
      "    All the sort algorithms make temporary copies of the data when\n",
      "    sorting along any but the last axis.  Consequently, sorting along\n",
      "    the last axis is faster and uses less space than sorting along\n",
      "    any other axis.\n",
      "    \n",
      "    The sort order for complex numbers is lexicographic. If both the real\n",
      "    and imaginary parts are non-nan then the order is determined by the\n",
      "    real parts except when they are equal, in which case the order is\n",
      "    determined by the imaginary parts.\n",
      "    \n",
      "    Previous to numpy 1.4.0 sorting real and complex arrays containing nan\n",
      "    values led to undefined behaviour. In numpy versions >= 1.4.0 nan\n",
      "    values are sorted to the end. The extended sort order is:\n",
      "    \n",
      "      * Real: [R, nan]\n",
      "      * Complex: [R + Rj, R + nanj, nan + Rj, nan + nanj]\n",
      "    \n",
      "    where R is a non-nan real value. Complex values with the same nan\n",
      "    placements are sorted according to the non-nan part if it exists.\n",
      "    Non-nan values are sorted as before.\n",
      "    \n",
      "    .. versionadded:: 1.12.0\n",
      "    \n",
      "    quicksort has been changed to `introsort <https://en.wikipedia.org/wiki/Introsort>`_.\n",
      "    When sorting does not make enough progress it switches to\n",
      "    `heapsort <https://en.wikipedia.org/wiki/Heapsort>`_.\n",
      "    This implementation makes quicksort O(n*log(n)) in the worst case.\n",
      "    \n",
      "    'stable' automatically chooses the best stable sorting algorithm\n",
      "    for the data type being sorted.\n",
      "    It, along with 'mergesort' is currently mapped to\n",
      "    `timsort <https://en.wikipedia.org/wiki/Timsort>`_\n",
      "    or `radix sort <https://en.wikipedia.org/wiki/Radix_sort>`_\n",
      "    depending on the data type.\n",
      "    API forward compatibility currently limits the\n",
      "    ability to select the implementation and it is hardwired for the different\n",
      "    data types.\n",
      "    \n",
      "    .. versionadded:: 1.17.0\n",
      "    \n",
      "    Timsort is added for better performance on already or nearly\n",
      "    sorted data. On random data timsort is almost identical to\n",
      "    mergesort. It is now used for stable sort while quicksort is still the\n",
      "    default sort if none is chosen. For timsort details, refer to\n",
      "    `CPython listsort.txt <https://github.com/python/cpython/blob/3.7/Objects/listsort.txt>`_.\n",
      "    'mergesort' and 'stable' are mapped to radix sort for integer data types. Radix sort is an\n",
      "    O(n) sort instead of O(n log n).\n",
      "    \n",
      "    .. versionchanged:: 1.18.0\n",
      "    \n",
      "    NaT now sorts to the end of arrays for consistency with NaN.\n",
      "    \n",
      "    Examples\n",
      "    --------\n",
      "    >>> a = np.array([[1,4],[3,1]])\n",
      "    >>> np.sort(a)                # sort along the last axis\n",
      "    array([[1, 4],\n",
      "           [1, 3]])\n",
      "    >>> np.sort(a, axis=None)     # sort the flattened array\n",
      "    array([1, 1, 3, 4])\n",
      "    >>> np.sort(a, axis=0)        # sort along the first axis\n",
      "    array([[1, 1],\n",
      "           [3, 4]])\n",
      "    \n",
      "    Use the `order` keyword to specify a field to use when sorting a\n",
      "    structured array:\n",
      "    \n",
      "    >>> dtype = [('name', 'S10'), ('height', float), ('age', int)]\n",
      "    >>> values = [('Arthur', 1.8, 41), ('Lancelot', 1.9, 38),\n",
      "    ...           ('Galahad', 1.7, 38)]\n",
      "    >>> a = np.array(values, dtype=dtype)       # create a structured array\n",
      "    >>> np.sort(a, order='height')                        # doctest: +SKIP\n",
      "    array([('Galahad', 1.7, 38), ('Arthur', 1.8, 41),\n",
      "           ('Lancelot', 1.8999999999999999, 38)],\n",
      "          dtype=[('name', '|S10'), ('height', '<f8'), ('age', '<i4')])\n",
      "    \n",
      "    Sort by age, then height if ages are equal:\n",
      "    \n",
      "    >>> np.sort(a, order=['age', 'height'])               # doctest: +SKIP\n",
      "    array([('Galahad', 1.7, 38), ('Lancelot', 1.8999999999999999, 38),\n",
      "           ('Arthur', 1.8, 41)],\n",
      "          dtype=[('name', '|S10'), ('height', '<f8'), ('age', '<i4')])\n",
      "\n"
     ]
    }
   ],
   "source": [
    "help(np.sort)"
   ]
  },
  {
   "cell_type": "code",
   "execution_count": 83,
   "id": "35d4fa35",
   "metadata": {},
   "outputs": [
    {
     "data": {
      "text/plain": [
       "7"
      ]
     },
     "execution_count": 83,
     "metadata": {},
     "output_type": "execute_result"
    }
   ],
   "source": [
    "def get_element(lst):\n",
    "  new_lst = []\n",
    "  for i in lst:\n",
    "    new_lst.append(i**2)\n",
    "    return lst[1]\n",
    "\n",
    "lst = [1, 7, 3, 5]\n",
    "\n",
    "get_element(lst)"
   ]
  },
  {
   "cell_type": "code",
   "execution_count": 86,
   "id": "85a84407",
   "metadata": {},
   "outputs": [
    {
     "data": {
      "text/plain": [
       "'that one'"
      ]
     },
     "execution_count": 86,
     "metadata": {},
     "output_type": "execute_result"
    }
   ],
   "source": [
    "my_dict = {'peaches':'cream', 'cat':'dog', 'this one':'that one'}\n",
    "my_dict['this one']"
   ]
  },
  {
   "cell_type": "code",
   "execution_count": 93,
   "id": "9fbad3cc",
   "metadata": {},
   "outputs": [
    {
     "data": {
      "text/plain": [
       "dict_values(['cream', 'dog', 'that one'])"
      ]
     },
     "execution_count": 93,
     "metadata": {},
     "output_type": "execute_result"
    }
   ],
   "source": [
    "my_dict.values()"
   ]
  },
  {
   "cell_type": "code",
   "execution_count": 95,
   "id": "9a9b4b63",
   "metadata": {},
   "outputs": [
    {
     "name": "stdout",
     "output_type": "stream",
     "text": [
      "Help on function drop in module pandas.core.frame:\n",
      "\n",
      "drop(self, labels=None, axis: 'Axis' = 0, index=None, columns=None, level: 'Level | None' = None, inplace: 'bool' = False, errors: 'str' = 'raise')\n",
      "    Drop specified labels from rows or columns.\n",
      "    \n",
      "    Remove rows or columns by specifying label names and corresponding\n",
      "    axis, or by specifying directly index or column names. When using a\n",
      "    multi-index, labels on different levels can be removed by specifying\n",
      "    the level. See the `user guide <advanced.shown_levels>`\n",
      "    for more information about the now unused levels.\n",
      "    \n",
      "    Parameters\n",
      "    ----------\n",
      "    labels : single label or list-like\n",
      "        Index or column labels to drop. A tuple will be used as a single\n",
      "        label and not treated as a list-like.\n",
      "    axis : {0 or 'index', 1 or 'columns'}, default 0\n",
      "        Whether to drop labels from the index (0 or 'index') or\n",
      "        columns (1 or 'columns').\n",
      "    index : single label or list-like\n",
      "        Alternative to specifying axis (``labels, axis=0``\n",
      "        is equivalent to ``index=labels``).\n",
      "    columns : single label or list-like\n",
      "        Alternative to specifying axis (``labels, axis=1``\n",
      "        is equivalent to ``columns=labels``).\n",
      "    level : int or level name, optional\n",
      "        For MultiIndex, level from which the labels will be removed.\n",
      "    inplace : bool, default False\n",
      "        If False, return a copy. Otherwise, do operation\n",
      "        inplace and return None.\n",
      "    errors : {'ignore', 'raise'}, default 'raise'\n",
      "        If 'ignore', suppress error and only existing labels are\n",
      "        dropped.\n",
      "    \n",
      "    Returns\n",
      "    -------\n",
      "    DataFrame or None\n",
      "        DataFrame without the removed index or column labels or\n",
      "        None if ``inplace=True``.\n",
      "    \n",
      "    Raises\n",
      "    ------\n",
      "    KeyError\n",
      "        If any of the labels is not found in the selected axis.\n",
      "    \n",
      "    See Also\n",
      "    --------\n",
      "    DataFrame.loc : Label-location based indexer for selection by label.\n",
      "    DataFrame.dropna : Return DataFrame with labels on given axis omitted\n",
      "        where (all or any) data are missing.\n",
      "    DataFrame.drop_duplicates : Return DataFrame with duplicate rows\n",
      "        removed, optionally only considering certain columns.\n",
      "    Series.drop : Return Series with specified index labels removed.\n",
      "    \n",
      "    Examples\n",
      "    --------\n",
      "    >>> df = pd.DataFrame(np.arange(12).reshape(3, 4),\n",
      "    ...                   columns=['A', 'B', 'C', 'D'])\n",
      "    >>> df\n",
      "       A  B   C   D\n",
      "    0  0  1   2   3\n",
      "    1  4  5   6   7\n",
      "    2  8  9  10  11\n",
      "    \n",
      "    Drop columns\n",
      "    \n",
      "    >>> df.drop(['B', 'C'], axis=1)\n",
      "       A   D\n",
      "    0  0   3\n",
      "    1  4   7\n",
      "    2  8  11\n",
      "    \n",
      "    >>> df.drop(columns=['B', 'C'])\n",
      "       A   D\n",
      "    0  0   3\n",
      "    1  4   7\n",
      "    2  8  11\n",
      "    \n",
      "    Drop a row by index\n",
      "    \n",
      "    >>> df.drop([0, 1])\n",
      "       A  B   C   D\n",
      "    2  8  9  10  11\n",
      "    \n",
      "    Drop columns and/or rows of MultiIndex DataFrame\n",
      "    \n",
      "    >>> midx = pd.MultiIndex(levels=[['lama', 'cow', 'falcon'],\n",
      "    ...                              ['speed', 'weight', 'length']],\n",
      "    ...                      codes=[[0, 0, 0, 1, 1, 1, 2, 2, 2],\n",
      "    ...                             [0, 1, 2, 0, 1, 2, 0, 1, 2]])\n",
      "    >>> df = pd.DataFrame(index=midx, columns=['big', 'small'],\n",
      "    ...                   data=[[45, 30], [200, 100], [1.5, 1], [30, 20],\n",
      "    ...                         [250, 150], [1.5, 0.8], [320, 250],\n",
      "    ...                         [1, 0.8], [0.3, 0.2]])\n",
      "    >>> df\n",
      "                    big     small\n",
      "    lama    speed   45.0    30.0\n",
      "            weight  200.0   100.0\n",
      "            length  1.5     1.0\n",
      "    cow     speed   30.0    20.0\n",
      "            weight  250.0   150.0\n",
      "            length  1.5     0.8\n",
      "    falcon  speed   320.0   250.0\n",
      "            weight  1.0     0.8\n",
      "            length  0.3     0.2\n",
      "    \n",
      "    Drop a specific index combination from the MultiIndex\n",
      "    DataFrame, i.e., drop the combination ``'falcon'`` and\n",
      "    ``'weight'``, which deletes only the corresponding row\n",
      "    \n",
      "    >>> df.drop(index=('falcon', 'weight'))\n",
      "                    big     small\n",
      "    lama    speed   45.0    30.0\n",
      "            weight  200.0   100.0\n",
      "            length  1.5     1.0\n",
      "    cow     speed   30.0    20.0\n",
      "            weight  250.0   150.0\n",
      "            length  1.5     0.8\n",
      "    falcon  speed   320.0   250.0\n",
      "            length  0.3     0.2\n",
      "    \n",
      "    >>> df.drop(index='cow', columns='small')\n",
      "                    big\n",
      "    lama    speed   45.0\n",
      "            weight  200.0\n",
      "            length  1.5\n",
      "    falcon  speed   320.0\n",
      "            weight  1.0\n",
      "            length  0.3\n",
      "    \n",
      "    >>> df.drop(index='length', level=1)\n",
      "                    big     small\n",
      "    lama    speed   45.0    30.0\n",
      "            weight  200.0   100.0\n",
      "    cow     speed   30.0    20.0\n",
      "            weight  250.0   150.0\n",
      "    falcon  speed   320.0   250.0\n",
      "            weight  1.0     0.8\n",
      "\n"
     ]
    }
   ],
   "source": [
    "help(pd.DataFrame.drop)"
   ]
  },
  {
   "cell_type": "code",
   "execution_count": null,
   "id": "cc05ce78",
   "metadata": {},
   "outputs": [],
   "source": []
  }
 ],
 "metadata": {
  "kernelspec": {
   "display_name": "Python 3 (ipykernel)",
   "language": "python",
   "name": "python3"
  },
  "language_info": {
   "codemirror_mode": {
    "name": "ipython",
    "version": 3
   },
   "file_extension": ".py",
   "mimetype": "text/x-python",
   "name": "python",
   "nbconvert_exporter": "python",
   "pygments_lexer": "ipython3",
   "version": "3.9.13"
  }
 },
 "nbformat": 4,
 "nbformat_minor": 5
}
