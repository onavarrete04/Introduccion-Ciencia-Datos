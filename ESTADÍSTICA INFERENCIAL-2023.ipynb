{
 "cells": [
  {
   "cell_type": "markdown",
   "id": "002eb9c3",
   "metadata": {},
   "source": [
    "## HIPOTESIS\n",
    "\n",
    "Cuando hacemos una prueba de hipótesis, estamos tratando de decidir si una afirmación sobre una población es verdadera o no. La afirmación se llama hipótesis y se divide en dos: la hipótesis nula (H0) y la hipótesis alternativa (H1).\n",
    "\n",
    "La hipótesis nula es una afirmación que queremos poner a prueba, y la hipótesis alternativa es la afirmación contraria. Por ejemplo, si queremos saber si la media de altura de las mujeres es mayor que 1.65 metros, la hipótesis nula sería que la media de altura de las mujeres es igual o menor que 1.65 metros, mientras que la hipótesis alternativa sería que la media de altura de las mujeres es mayor que 1.65 metros.\n",
    "\n",
    "Ahora bien, cuando hacemos una prueba de hipótesis, podemos cometer dos tipos de errores: el error tipo I y el error tipo II.\n",
    "\n",
    "**El error tipo I ocurre cuando rechazamos la hipótesis nula cuando en realidad es verdadera.** Es decir, elegimos la hipótesis alternativa cuando deberíamos haber elegido la hipótesis nula. Esto se llama error tipo I porque estamos tomando una decisión incorrecta al rechazar una afirmación que es cierta.\n",
    "\n",
    "**El error tipo II ocurre cuando aceptamos la hipótesis nula cuando en realidad es falsa.**\n",
    "Es decir, elegimos la hipótesis nula cuando deberíamos haber elegido la hipótesis alternativa. Esto se llama error tipo II porque estamos tomando una decisión incorrecta al aceptar una afirmación que es falsa.\n",
    "\n",
    "Para resumirlo, el error tipo I es cuando rechazamos una afirmación verdadera, y el error tipo II es cuando aceptamos una afirmación falsa. Ambos errores son importantes de tener en cuenta cuando hacemos una prueba de hipótesis, ya que pueden tener implicaciones importantes en la toma de decisiones."
   ]
  },
  {
   "cell_type": "markdown",
   "id": "8197a9eb",
   "metadata": {},
   "source": [
    "### INTRODUCCIÓN ESTADÍSTICA BAYESIANA\n",
    "\n",
    "\n",
    "En la estadística bayesiana lo que se hace es que se **incorporan datos nuevos al proceso a medida de que se hace el estudio** sin que este haya terminado. Es decir, es un proceso de incorpora información.\n",
    "\n",
    "la estadística bayesiana considera la probabilidad como una medida de incertidumbre, y esta incertidumbre se va actualizando a medida que se adquiere nueva información. Por ejemplo, si se tiene una hipótesis inicial sobre la probabilidad de un evento y luego se recopila nueva información, la estadística bayesiana actualiza la probabilidad inicial con la nueva información para obtener una probabilidad posterior más precisa y confiable. \n",
    "\n",
    "Ahora, la contraparte de la estadística bayesiana, es la estadística frecuentista en donde vemos (distribución normal, poisson y binomial), esta estadística se basa en las observaciones realizadas. \n",
    "\n",
    "\n",
    "De tal manera, un ejemplo:\n",
    "\n",
    "\n",
    "Entonces vamos a hacer un ejemplo, tenemos 4 chocolates, 3 son de color amarillo y 1 es de color azul. Entonces los meto en dos bolsas y luego las revuelvo, saco un chocolate y es de color amarillo, entonces con las estadísticas bayesianas como ahora tengo nueva información, diría que existe la probabilidad 2/3 de que salga amarillo y 1/3 de que salga azul, con esa información yo elegiria que salga amarillo porque es una probabilidad mayor. Ahora con la estadística frecuentista sacando el color amarillo, seguiría siendo la probabilidad en ambas bolsas del 50% de que sea un chocolate azul, aún habiendo sacado un chocolate. \n",
    "\n",
    "#### Ventajas de la estadística bayesiana:\n",
    "\n",
    "Considera la incertidumbre: La estadística bayesiana tiene en cuenta la incertidumbre y la subjetividad en las estimaciones, lo que la hace más útil para problemas complejos o poco convencionales.\n",
    "\n",
    "Puede utilizar pequeñas muestras: La estadística bayesiana puede utilizar pequeñas muestras y aún así producir estimaciones precisas.\n",
    "\n",
    "Permite actualización de las estimaciones: La estadística bayesiana permite la actualización de las estimaciones a medida que se adquiere nueva información.\n",
    "\n",
    "#### Desventajas de la estadística bayesiana:\n",
    "\n",
    "Requiere especificar una distribución a priori: La estadística bayesiana requiere especificar una distribución a priori, lo que puede ser difícil o subjetivo.\n",
    "\n",
    "Puede ser computacionalmente intensiva: La estadística bayesiana puede requerir cálculos computacionales intensivos.\n",
    "\n",
    "Puede ser difícil de interpretar: La estadística bayesiana puede ser difícil de interpretar para los no expertos debido a su enfoque subjetivo.\n",
    "\n",
    "#### Ventajas de la estadística frecuentista:\n",
    "\n",
    "Objetividad: La estadística frecuentista se basa en datos observados y repetidos, por lo que puede ser vista como más objetiva que la estadística bayesiana.\n",
    "\n",
    "Sencillez: La estadística frecuentista utiliza técnicas simples que son fáciles de implementar.\n",
    "\n",
    "Amplia aplicación: La estadística frecuentista es ampliamente utilizada en muchos campos de investigación, incluyendo la medicina, la biología, la física y la economía.\n",
    "\n",
    "#### Desventajas de la estadística frecuentista:\n",
    "\n",
    "No toma en cuenta la incertidumbre: La estadística frecuentista no tiene en cuenta la incertidumbre y la subjetividad en las estimaciones.\n",
    "\n",
    "Poca flexibilidad: La estadística frecuentista no se adapta bien a problemas complejos o poco convencionales.\n",
    "\n",
    "Puede requerir grandes muestras: La estadística frecuentista puede requerir grandes muestras para ser precisa.\n",
    "\n",
    "\n",
    "\n"
   ]
  },
  {
   "cell_type": "markdown",
   "id": "105a74eb",
   "metadata": {},
   "source": [
    "## Repasando PYTHON\n",
    "\n",
    "\n",
    "Las listas pueden tener varios tipos de datos. Por ejemplo, un elemento puede ser una cadena y otro puede ser un int y otro un flotador. Las listas se definen mediante el uso de corchetes: [ ], con elementos separados por comas, ','. Ex: \n",
    "\n",
    "mi_lista = [1, 'Colorado', 4.7, 'lluvia']\n",
    "Las listas están indexadas por posición. Recuerda, en Python, el índice comienza en 0 y termina en length(list)-1. Entonces, para recuperar el primer elemento de la lista que llamas:\n",
    "\n",
    "mi_lista[0]\n",
    "Las matrices Numpy np.arrays se diferencian de las listas en que contienen solo 1 tipo de datos. Por ejemplo, todos los elementos pueden ser enteros, cadenas, flotantes u objetos. Está definido por np.array(objeto), donde el 'objeto' de entrada puede ser, por ejemplo, una lista o una tupla.\n",
    "Ex:\n",
    "\n",
    "mi_matriz = np.matriz([1, 4, 5, 2])\n",
    "o\n",
    "\n",
    "mi_matriz = np.matriz((1, 4, 5, 2))\n",
    "Las listas y las matrices numpy difieren en su velocidad y eficiencia de memoria. Una razón intuitiva para esto es que las listas de Python tienen que almacenar el valor de cada elemento y también el tipo de cada elemento (ya que los tipos pueden diferir). Mientras que las matrices numpy solo necesitan almacenar el tipo una vez porque es el mismo para todos los elementos de la matriz.\n",
    "\n",
    "Puede hacer cálculos con matrices numpy que no se pueden hacer en listas.\n",
    "Ex:\n",
    "\n",
    "mi_matriz/3\n",
    "devolverá una matriz numpy, con cada uno de los elementos dividido por 3. Mientras que:\n",
    "\n",
    "mi_lista/3\n",
    "Tirará un error.\n",
    "\n",
    "Puede agregar elementos al final de las listas y matrices numpy, aunque tienen comandos ligeramente diferentes. Es casi digno de mención que las listas pueden agregar un elemento 'en su lugar', pero las matrices numpy no pueden.\n",
    "\n",
    "my_list.append('elemento nuevo')\n",
    "np.append(my_array, 5) # el nuevo elemento debe ser del mismo tipo que todos los demás elementos\n",
    "Enlaces a documentos de Python:\n",
    "Listas, arreglos, más sobre arreglos"
   ]
  },
  {
   "cell_type": "code",
   "execution_count": 1,
   "id": "dd166f8e",
   "metadata": {},
   "outputs": [],
   "source": [
    "import numpy as np\n",
    "import pandas as pd\n",
    "\n",
    "my_list = [1, 2, 3]\n",
    "my_array = np.array([1, 2, 3])"
   ]
  },
  {
   "cell_type": "code",
   "execution_count": 2,
   "id": "35848d9d",
   "metadata": {},
   "outputs": [
    {
     "data": {
      "text/plain": [
       "array([0.33333333, 0.66666667, 1.        ])"
      ]
     },
     "execution_count": 2,
     "metadata": {},
     "output_type": "execute_result"
    }
   ],
   "source": [
    "my_array/3"
   ]
  },
  {
   "cell_type": "markdown",
   "id": "ffab3c6e",
   "metadata": {},
   "source": [
    "### Diccionarios\n",
    "Almacenan pares clave-valor y están indexados por las claves. denotado con {clave1: valor1, clave2: valor2}. Las claves deben ser únicas, los valores no necesitan ser únicos.\n",
    "Se puede usar para muchas tareas, por ejemplo, crear tramas de datos y cambiar los nombres de las columnas."
   ]
  },
  {
   "cell_type": "code",
   "execution_count": 3,
   "id": "a2387d9a",
   "metadata": {},
   "outputs": [
    {
     "data": {
      "text/plain": [
       "2"
      ]
     },
     "execution_count": 3,
     "metadata": {},
     "output_type": "execute_result"
    }
   ],
   "source": [
    "dct = {'thing 1': 2, 'thing 2': 1}\n",
    "dct['thing 1']"
   ]
  },
  {
   "cell_type": "code",
   "execution_count": 4,
   "id": "6f45c761",
   "metadata": {},
   "outputs": [],
   "source": [
    "# add\n",
    "\n",
    "dct['new thing'] = 'woooo'"
   ]
  },
  {
   "cell_type": "code",
   "execution_count": 5,
   "id": "65ce2ecd",
   "metadata": {},
   "outputs": [
    {
     "data": {
      "text/plain": [
       "{'thing 1': 2, 'thing 2': 1, 'new thing': 'woooo'}"
      ]
     },
     "execution_count": 5,
     "metadata": {},
     "output_type": "execute_result"
    }
   ],
   "source": [
    "dct"
   ]
  },
  {
   "cell_type": "code",
   "execution_count": 6,
   "id": "f9abcde6",
   "metadata": {},
   "outputs": [
    {
     "data": {
      "text/html": [
       "<div>\n",
       "<style scoped>\n",
       "    .dataframe tbody tr th:only-of-type {\n",
       "        vertical-align: middle;\n",
       "    }\n",
       "\n",
       "    .dataframe tbody tr th {\n",
       "        vertical-align: top;\n",
       "    }\n",
       "\n",
       "    .dataframe thead th {\n",
       "        text-align: right;\n",
       "    }\n",
       "</style>\n",
       "<table border=\"1\" class=\"dataframe\">\n",
       "  <thead>\n",
       "    <tr style=\"text-align: right;\">\n",
       "      <th></th>\n",
       "      <th>col1</th>\n",
       "      <th>col2</th>\n",
       "    </tr>\n",
       "  </thead>\n",
       "  <tbody>\n",
       "    <tr>\n",
       "      <th>0</th>\n",
       "      <td>0</td>\n",
       "      <td>3</td>\n",
       "    </tr>\n",
       "    <tr>\n",
       "      <th>1</th>\n",
       "      <td>1</td>\n",
       "      <td>4</td>\n",
       "    </tr>\n",
       "    <tr>\n",
       "      <th>2</th>\n",
       "      <td>2</td>\n",
       "      <td>5</td>\n",
       "    </tr>\n",
       "  </tbody>\n",
       "</table>\n",
       "</div>"
      ],
      "text/plain": [
       "   col1  col2\n",
       "0     0     3\n",
       "1     1     4\n",
       "2     2     5"
      ]
     },
     "execution_count": 6,
     "metadata": {},
     "output_type": "execute_result"
    }
   ],
   "source": [
    "# Create DataFrame\n",
    "df = pd.DataFrame({'col1':range(3), 'col2':range(3,6)})\n",
    "df"
   ]
  },
  {
   "cell_type": "code",
   "execution_count": 7,
   "id": "742bfcb6",
   "metadata": {},
   "outputs": [
    {
     "data": {
      "text/html": [
       "<div>\n",
       "<style scoped>\n",
       "    .dataframe tbody tr th:only-of-type {\n",
       "        vertical-align: middle;\n",
       "    }\n",
       "\n",
       "    .dataframe tbody tr th {\n",
       "        vertical-align: top;\n",
       "    }\n",
       "\n",
       "    .dataframe thead th {\n",
       "        text-align: right;\n",
       "    }\n",
       "</style>\n",
       "<table border=\"1\" class=\"dataframe\">\n",
       "  <thead>\n",
       "    <tr style=\"text-align: right;\">\n",
       "      <th></th>\n",
       "      <th>apples</th>\n",
       "      <th>oranges</th>\n",
       "    </tr>\n",
       "  </thead>\n",
       "  <tbody>\n",
       "    <tr>\n",
       "      <th>0</th>\n",
       "      <td>0</td>\n",
       "      <td>3</td>\n",
       "    </tr>\n",
       "    <tr>\n",
       "      <th>1</th>\n",
       "      <td>1</td>\n",
       "      <td>4</td>\n",
       "    </tr>\n",
       "    <tr>\n",
       "      <th>2</th>\n",
       "      <td>2</td>\n",
       "      <td>5</td>\n",
       "    </tr>\n",
       "  </tbody>\n",
       "</table>\n",
       "</div>"
      ],
      "text/plain": [
       "   apples  oranges\n",
       "0       0        3\n",
       "1       1        4\n",
       "2       2        5"
      ]
     },
     "execution_count": 7,
     "metadata": {},
     "output_type": "execute_result"
    }
   ],
   "source": [
    "df = df.rename(columns={'col1': 'apples', 'col2':'oranges'})\n",
    "df"
   ]
  },
  {
   "cell_type": "markdown",
   "id": "3871e71c",
   "metadata": {},
   "source": [
    "### Funciones, funciones lambda y lectura de documentos de ayuda\n",
    "Vamos a presentar algunos conceptos más de Python. Si ha estado trabajando con los cuadernos de ejemplo de NHANES, ya los habrá visto en uso. Hay mucho que decir sobre estos nuevos conceptos, pero solo daremos una breve introducción a cada uno. Para obtener más información, siga los enlaces provistos o haga su propia búsqueda de los muchos recursos excelentes disponibles en la web.\n",
    "\n",
    "Funciones\n",
    "Si usa un fragmento de código varias veces, la mejor práctica es colocar ese código en una función en lugar de copiarlo y pegarlo. Por ejemplo, si quisiera varias gráficas iguales con datos diferentes, podría crear una función que devuelva ese estilo de gráfica para datos arbitrarios (aunque con la dimensión y el tipo correctos).\n",
    "\n",
    "En Python, la sangría es muy importante. Si se hace incorrectamente, su código no se ejecutará y en su lugar dará un error. Al definir una función, todo el código después de ':' debe sangrarse correctamente. La sangría transmite el alcance del código. Alguna explicación más.\n",
    "\n",
    "def nombre_función(argumentos):\n",
    "     \"\"\"\n",
    "     Comentario de encabezado: breve descripción de lo que hace esta función\n",
    "\n",
    "     Argumentos:\n",
    "         obj: entrada para esta función\n",
    "     Devoluciones:\n",
    "         out: la salida de esta función\n",
    "     \"\"\"\n",
    "\n",
    "     algún código\n",
    "\n",
    "     regresar\n",
    "La forma exacta de estructurar los comentarios del encabezado depende de usted si trabaja solo, o probablemente se especificará si trabaja para una empresa establecida.\n",
    "\n",
    "Los nombres de las funciones deben comenzar con una letra minúscula (no pueden comenzar con un número), y pueden estar en camelCase o snake_case.\n",
    "\n",
    "Si su función devuelve una variable, use 'return' para especificar esa variable. Sin embargo, una función no siempre tiene que devolver algo. Por ejemplo, podría tener una función que crea un gráfico y luego lo guarda en el directorio actual."
   ]
  },
  {
   "cell_type": "code",
   "execution_count": 8,
   "id": "e37ad032",
   "metadata": {},
   "outputs": [],
   "source": [
    "import numpy as np\n",
    "import pandas as pd\n",
    "import matplotlib.pyplot as plt\n",
    "%matplotlib inline"
   ]
  },
  {
   "cell_type": "code",
   "execution_count": 9,
   "id": "a7013e2c",
   "metadata": {},
   "outputs": [
    {
     "data": {
      "text/plain": [
       "7961"
      ]
     },
     "execution_count": 9,
     "metadata": {},
     "output_type": "execute_result"
    }
   ],
   "source": [
    "def suma(x, y):\n",
    "    sumando = x + y\n",
    "    return sumando\n",
    "\n",
    "suma(2,7959)"
   ]
  },
  {
   "cell_type": "code",
   "execution_count": 10,
   "id": "35c19aef",
   "metadata": {},
   "outputs": [
    {
     "data": {
      "text/plain": [
       "356"
      ]
     },
     "execution_count": 10,
     "metadata": {},
     "output_type": "execute_result"
    }
   ],
   "source": [
    "def dato_maximo(x):\n",
    "    maximo = x[0]\n",
    "    for i in x[1:]:\n",
    "        if i > maximo:\n",
    "            maximo = i\n",
    "        return maximo\n",
    "\n",
    "# datos al azar\n",
    "\n",
    "dato_maximo(np.random.choice(400,100))\n",
    "\n",
    "# np.random.choice(400, 100) elegirá aleatoriamente 100 enteros entre 0 y 400"
   ]
  },
  {
   "cell_type": "code",
   "execution_count": 11,
   "id": "da058612",
   "metadata": {},
   "outputs": [
    {
     "data": {
      "text/plain": [
       "371"
      ]
     },
     "execution_count": 11,
     "metadata": {},
     "output_type": "execute_result"
    }
   ],
   "source": [
    "def lista_mayor(array):\n",
    "    maximo = array[0]\n",
    "    for i in range(len(array)):\n",
    "        if array[i] > maximo:\n",
    "            maximo = array[i]\n",
    "    return maximo\n",
    "\n",
    "lista_mayor(np.random.choice(400,10))\n",
    "\n"
   ]
  },
  {
   "cell_type": "code",
   "execution_count": null,
   "id": "f8db2327",
   "metadata": {},
   "outputs": [],
   "source": []
  },
  {
   "cell_type": "markdown",
   "id": "2f47df1a",
   "metadata": {},
   "source": [
    "### funciones lambda\n",
    "También se conocen como funciones anónimas porque no tienen nombre. Esta función puede tener cualquier número de argumentos pero solo una expresión. Las funciones lambda, a diferencia de las funciones definidas, siempre devuelven una variable. El formato de una función lambda es\n",
    "\n",
    "argumentos lambda: expresión\n",
    "Pueden parecerse a una expresión matemática para evaluar una función.\n",
    "Por ejemplo:\n",
    "\n",
    "(lambda x: x**2)(3)\n",
    "Es lo mismo que escribir matemáticamente\n",
    "f(x)=x2\n",
    "   an luego evaluando la función f\n",
    "   en x=3\n",
    "  ,\n",
    "f(3)=9"
   ]
  },
  {
   "cell_type": "code",
   "execution_count": 12,
   "id": "4bc07be2",
   "metadata": {},
   "outputs": [
    {
     "data": {
      "text/plain": [
       "9"
      ]
     },
     "execution_count": 12,
     "metadata": {},
     "output_type": "execute_result"
    }
   ],
   "source": [
    "(lambda x: x**2)(3)\n",
    "\n",
    "# (lambda argumentos: acciones)(parametro)"
   ]
  },
  {
   "cell_type": "code",
   "execution_count": 13,
   "id": "516ca34d",
   "metadata": {},
   "outputs": [
    {
     "name": "stdout",
     "output_type": "stream",
     "text": [
      "Help on _Helper in module _sitebuiltins object:\n",
      "\n",
      "class _Helper(builtins.object)\n",
      " |  Define the builtin 'help'.\n",
      " |  \n",
      " |  This is a wrapper around pydoc.help that provides a helpful message\n",
      " |  when 'help' is typed at the Python interactive prompt.\n",
      " |  \n",
      " |  Calling help() at the Python prompt starts an interactive help session.\n",
      " |  Calling help(thing) prints help for the python object 'thing'.\n",
      " |  \n",
      " |  Methods defined here:\n",
      " |  \n",
      " |  __call__(self, *args, **kwds)\n",
      " |      Call self as a function.\n",
      " |  \n",
      " |  __repr__(self)\n",
      " |      Return repr(self).\n",
      " |  \n",
      " |  ----------------------------------------------------------------------\n",
      " |  Data descriptors defined here:\n",
      " |  \n",
      " |  __dict__\n",
      " |      dictionary for instance variables (if defined)\n",
      " |  \n",
      " |  __weakref__\n",
      " |      list of weak references to the object (if defined)\n",
      "\n"
     ]
    }
   ],
   "source": [
    "help(help)"
   ]
  },
  {
   "cell_type": "code",
   "execution_count": 14,
   "id": "ec4c09fd",
   "metadata": {},
   "outputs": [
    {
     "name": "stdout",
     "output_type": "stream",
     "text": [
      "Help on function drop in module pandas.core.frame:\n",
      "\n",
      "drop(self, labels=None, axis: 'Axis' = 0, index=None, columns=None, level: 'Level | None' = None, inplace: 'bool' = False, errors: 'str' = 'raise')\n",
      "    Drop specified labels from rows or columns.\n",
      "    \n",
      "    Remove rows or columns by specifying label names and corresponding\n",
      "    axis, or by specifying directly index or column names. When using a\n",
      "    multi-index, labels on different levels can be removed by specifying\n",
      "    the level. See the `user guide <advanced.shown_levels>`\n",
      "    for more information about the now unused levels.\n",
      "    \n",
      "    Parameters\n",
      "    ----------\n",
      "    labels : single label or list-like\n",
      "        Index or column labels to drop. A tuple will be used as a single\n",
      "        label and not treated as a list-like.\n",
      "    axis : {0 or 'index', 1 or 'columns'}, default 0\n",
      "        Whether to drop labels from the index (0 or 'index') or\n",
      "        columns (1 or 'columns').\n",
      "    index : single label or list-like\n",
      "        Alternative to specifying axis (``labels, axis=0``\n",
      "        is equivalent to ``index=labels``).\n",
      "    columns : single label or list-like\n",
      "        Alternative to specifying axis (``labels, axis=1``\n",
      "        is equivalent to ``columns=labels``).\n",
      "    level : int or level name, optional\n",
      "        For MultiIndex, level from which the labels will be removed.\n",
      "    inplace : bool, default False\n",
      "        If False, return a copy. Otherwise, do operation\n",
      "        inplace and return None.\n",
      "    errors : {'ignore', 'raise'}, default 'raise'\n",
      "        If 'ignore', suppress error and only existing labels are\n",
      "        dropped.\n",
      "    \n",
      "    Returns\n",
      "    -------\n",
      "    DataFrame or None\n",
      "        DataFrame without the removed index or column labels or\n",
      "        None if ``inplace=True``.\n",
      "    \n",
      "    Raises\n",
      "    ------\n",
      "    KeyError\n",
      "        If any of the labels is not found in the selected axis.\n",
      "    \n",
      "    See Also\n",
      "    --------\n",
      "    DataFrame.loc : Label-location based indexer for selection by label.\n",
      "    DataFrame.dropna : Return DataFrame with labels on given axis omitted\n",
      "        where (all or any) data are missing.\n",
      "    DataFrame.drop_duplicates : Return DataFrame with duplicate rows\n",
      "        removed, optionally only considering certain columns.\n",
      "    Series.drop : Return Series with specified index labels removed.\n",
      "    \n",
      "    Examples\n",
      "    --------\n",
      "    >>> df = pd.DataFrame(np.arange(12).reshape(3, 4),\n",
      "    ...                   columns=['A', 'B', 'C', 'D'])\n",
      "    >>> df\n",
      "       A  B   C   D\n",
      "    0  0  1   2   3\n",
      "    1  4  5   6   7\n",
      "    2  8  9  10  11\n",
      "    \n",
      "    Drop columns\n",
      "    \n",
      "    >>> df.drop(['B', 'C'], axis=1)\n",
      "       A   D\n",
      "    0  0   3\n",
      "    1  4   7\n",
      "    2  8  11\n",
      "    \n",
      "    >>> df.drop(columns=['B', 'C'])\n",
      "       A   D\n",
      "    0  0   3\n",
      "    1  4   7\n",
      "    2  8  11\n",
      "    \n",
      "    Drop a row by index\n",
      "    \n",
      "    >>> df.drop([0, 1])\n",
      "       A  B   C   D\n",
      "    2  8  9  10  11\n",
      "    \n",
      "    Drop columns and/or rows of MultiIndex DataFrame\n",
      "    \n",
      "    >>> midx = pd.MultiIndex(levels=[['lama', 'cow', 'falcon'],\n",
      "    ...                              ['speed', 'weight', 'length']],\n",
      "    ...                      codes=[[0, 0, 0, 1, 1, 1, 2, 2, 2],\n",
      "    ...                             [0, 1, 2, 0, 1, 2, 0, 1, 2]])\n",
      "    >>> df = pd.DataFrame(index=midx, columns=['big', 'small'],\n",
      "    ...                   data=[[45, 30], [200, 100], [1.5, 1], [30, 20],\n",
      "    ...                         [250, 150], [1.5, 0.8], [320, 250],\n",
      "    ...                         [1, 0.8], [0.3, 0.2]])\n",
      "    >>> df\n",
      "                    big     small\n",
      "    lama    speed   45.0    30.0\n",
      "            weight  200.0   100.0\n",
      "            length  1.5     1.0\n",
      "    cow     speed   30.0    20.0\n",
      "            weight  250.0   150.0\n",
      "            length  1.5     0.8\n",
      "    falcon  speed   320.0   250.0\n",
      "            weight  1.0     0.8\n",
      "            length  0.3     0.2\n",
      "    \n",
      "    Drop a specific index combination from the MultiIndex\n",
      "    DataFrame, i.e., drop the combination ``'falcon'`` and\n",
      "    ``'weight'``, which deletes only the corresponding row\n",
      "    \n",
      "    >>> df.drop(index=('falcon', 'weight'))\n",
      "                    big     small\n",
      "    lama    speed   45.0    30.0\n",
      "            weight  200.0   100.0\n",
      "            length  1.5     1.0\n",
      "    cow     speed   30.0    20.0\n",
      "            weight  250.0   150.0\n",
      "            length  1.5     0.8\n",
      "    falcon  speed   320.0   250.0\n",
      "            length  0.3     0.2\n",
      "    \n",
      "    >>> df.drop(index='cow', columns='small')\n",
      "                    big\n",
      "    lama    speed   45.0\n",
      "            weight  200.0\n",
      "            length  1.5\n",
      "    falcon  speed   320.0\n",
      "            weight  1.0\n",
      "            length  0.3\n",
      "    \n",
      "    >>> df.drop(index='length', level=1)\n",
      "                    big     small\n",
      "    lama    speed   45.0    30.0\n",
      "            weight  200.0   100.0\n",
      "    cow     speed   30.0    20.0\n",
      "            weight  250.0   150.0\n",
      "    falcon  speed   320.0   250.0\n",
      "            weight  1.0     0.8\n",
      "\n"
     ]
    }
   ],
   "source": [
    "help(pd.DataFrame.drop)"
   ]
  },
  {
   "cell_type": "markdown",
   "id": "50c6ce18",
   "metadata": {},
   "source": [
    "### Problema de desafío:\n",
    "Escriba una función que tome cuatro argumentos: lst1, lst2, str1, str2, y devuelva un marco de datos de pandas que tenga la primera columna etiquetada como str1 y la segunda columna etiquetada como str2, que tienen valores lst1 y lst2 escalados entre 0 y 1."
   ]
  },
  {
   "cell_type": "code",
   "execution_count": 15,
   "id": "72ce091d",
   "metadata": {},
   "outputs": [],
   "source": [
    "import numpy as np\n",
    "def matrices(lt1, lt2, str1, str2):\n",
    "    a = np.interp(lt1, (min(lt1), max(lt1)), (0, 1))\n",
    "    b = np.interp(lt2, (min(lt2), max(lt2)), (0, 1))\n",
    "    df = pd.DataFrame({str1: a,  str2:b.round(3)})\n",
    "    \n",
    "    \n",
    "    return df"
   ]
  },
  {
   "cell_type": "code",
   "execution_count": 16,
   "id": "702c1873",
   "metadata": {},
   "outputs": [
    {
     "data": {
      "text/html": [
       "<div>\n",
       "<style scoped>\n",
       "    .dataframe tbody tr th:only-of-type {\n",
       "        vertical-align: middle;\n",
       "    }\n",
       "\n",
       "    .dataframe tbody tr th {\n",
       "        vertical-align: top;\n",
       "    }\n",
       "\n",
       "    .dataframe thead th {\n",
       "        text-align: right;\n",
       "    }\n",
       "</style>\n",
       "<table border=\"1\" class=\"dataframe\">\n",
       "  <thead>\n",
       "    <tr style=\"text-align: right;\">\n",
       "      <th></th>\n",
       "      <th>one</th>\n",
       "      <th>two</th>\n",
       "    </tr>\n",
       "  </thead>\n",
       "  <tbody>\n",
       "    <tr>\n",
       "      <th>0</th>\n",
       "      <td>0.0</td>\n",
       "      <td>0.000</td>\n",
       "    </tr>\n",
       "    <tr>\n",
       "      <th>1</th>\n",
       "      <td>0.5</td>\n",
       "      <td>0.667</td>\n",
       "    </tr>\n",
       "    <tr>\n",
       "      <th>2</th>\n",
       "      <td>1.0</td>\n",
       "      <td>1.000</td>\n",
       "    </tr>\n",
       "  </tbody>\n",
       "</table>\n",
       "</div>"
      ],
      "text/plain": [
       "   one    two\n",
       "0  0.0  0.000\n",
       "1  0.5  0.667\n",
       "2  1.0  1.000"
      ]
     },
     "execution_count": 16,
     "metadata": {},
     "output_type": "execute_result"
    }
   ],
   "source": [
    "lst1 = [1, 2, 3]\n",
    "lst2 = [2, 4, 5]\n",
    "str1 = 'one'\n",
    "str2 = 'two'\n",
    "matrices(lst1, lst2, str1,str2)"
   ]
  },
  {
   "cell_type": "code",
   "execution_count": 17,
   "id": "40a73ef4",
   "metadata": {},
   "outputs": [
    {
     "data": {
      "text/html": [
       "<div>\n",
       "<style scoped>\n",
       "    .dataframe tbody tr th:only-of-type {\n",
       "        vertical-align: middle;\n",
       "    }\n",
       "\n",
       "    .dataframe tbody tr th {\n",
       "        vertical-align: top;\n",
       "    }\n",
       "\n",
       "    .dataframe thead th {\n",
       "        text-align: right;\n",
       "    }\n",
       "</style>\n",
       "<table border=\"1\" class=\"dataframe\">\n",
       "  <thead>\n",
       "    <tr style=\"text-align: right;\">\n",
       "      <th></th>\n",
       "      <th>one</th>\n",
       "      <th>alpha</th>\n",
       "    </tr>\n",
       "  </thead>\n",
       "  <tbody>\n",
       "    <tr>\n",
       "      <th>0</th>\n",
       "      <td>0.019504</td>\n",
       "      <td>0.563</td>\n",
       "    </tr>\n",
       "    <tr>\n",
       "      <th>1</th>\n",
       "      <td>0.929965</td>\n",
       "      <td>0.866</td>\n",
       "    </tr>\n",
       "    <tr>\n",
       "      <th>2</th>\n",
       "      <td>0.399823</td>\n",
       "      <td>0.532</td>\n",
       "    </tr>\n",
       "    <tr>\n",
       "      <th>3</th>\n",
       "      <td>0.034574</td>\n",
       "      <td>0.128</td>\n",
       "    </tr>\n",
       "    <tr>\n",
       "      <th>4</th>\n",
       "      <td>0.385638</td>\n",
       "      <td>0.123</td>\n",
       "    </tr>\n",
       "    <tr>\n",
       "      <th>...</th>\n",
       "      <td>...</td>\n",
       "      <td>...</td>\n",
       "    </tr>\n",
       "    <tr>\n",
       "      <th>95</th>\n",
       "      <td>0.619681</td>\n",
       "      <td>0.790</td>\n",
       "    </tr>\n",
       "    <tr>\n",
       "      <th>96</th>\n",
       "      <td>0.979610</td>\n",
       "      <td>0.000</td>\n",
       "    </tr>\n",
       "    <tr>\n",
       "      <th>97</th>\n",
       "      <td>0.346631</td>\n",
       "      <td>0.347</td>\n",
       "    </tr>\n",
       "    <tr>\n",
       "      <th>98</th>\n",
       "      <td>0.675532</td>\n",
       "      <td>0.806</td>\n",
       "    </tr>\n",
       "    <tr>\n",
       "      <th>99</th>\n",
       "      <td>0.471631</td>\n",
       "      <td>0.008</td>\n",
       "    </tr>\n",
       "  </tbody>\n",
       "</table>\n",
       "<p>100 rows × 2 columns</p>\n",
       "</div>"
      ],
      "text/plain": [
       "         one  alpha\n",
       "0   0.019504  0.563\n",
       "1   0.929965  0.866\n",
       "2   0.399823  0.532\n",
       "3   0.034574  0.128\n",
       "4   0.385638  0.123\n",
       "..       ...    ...\n",
       "95  0.619681  0.790\n",
       "96  0.979610  0.000\n",
       "97  0.346631  0.347\n",
       "98  0.675532  0.806\n",
       "99  0.471631  0.008\n",
       "\n",
       "[100 rows x 2 columns]"
      ]
     },
     "execution_count": 17,
     "metadata": {},
     "output_type": "execute_result"
    }
   ],
   "source": [
    "lst1 = np.random.randint(-234, 938, 100)\n",
    "lst2 = np.random.randint(-522, 123, 100)\n",
    "str1 = 'one'\n",
    "str2 = 'alpha'\n",
    "\n",
    "matrices(lst1, lst2, str1,str2)"
   ]
  },
  {
   "cell_type": "code",
   "execution_count": 18,
   "id": "40d20c0b",
   "metadata": {},
   "outputs": [
    {
     "name": "stdout",
     "output_type": "stream",
     "text": [
      "Help on function sort in module numpy:\n",
      "\n",
      "sort(a, axis=-1, kind=None, order=None)\n",
      "    Return a sorted copy of an array.\n",
      "    \n",
      "    Parameters\n",
      "    ----------\n",
      "    a : array_like\n",
      "        Array to be sorted.\n",
      "    axis : int or None, optional\n",
      "        Axis along which to sort. If None, the array is flattened before\n",
      "        sorting. The default is -1, which sorts along the last axis.\n",
      "    kind : {'quicksort', 'mergesort', 'heapsort', 'stable'}, optional\n",
      "        Sorting algorithm. The default is 'quicksort'. Note that both 'stable'\n",
      "        and 'mergesort' use timsort or radix sort under the covers and, in general,\n",
      "        the actual implementation will vary with data type. The 'mergesort' option\n",
      "        is retained for backwards compatibility.\n",
      "    \n",
      "        .. versionchanged:: 1.15.0.\n",
      "           The 'stable' option was added.\n",
      "    \n",
      "    order : str or list of str, optional\n",
      "        When `a` is an array with fields defined, this argument specifies\n",
      "        which fields to compare first, second, etc.  A single field can\n",
      "        be specified as a string, and not all fields need be specified,\n",
      "        but unspecified fields will still be used, in the order in which\n",
      "        they come up in the dtype, to break ties.\n",
      "    \n",
      "    Returns\n",
      "    -------\n",
      "    sorted_array : ndarray\n",
      "        Array of the same type and shape as `a`.\n",
      "    \n",
      "    See Also\n",
      "    --------\n",
      "    ndarray.sort : Method to sort an array in-place.\n",
      "    argsort : Indirect sort.\n",
      "    lexsort : Indirect stable sort on multiple keys.\n",
      "    searchsorted : Find elements in a sorted array.\n",
      "    partition : Partial sort.\n",
      "    \n",
      "    Notes\n",
      "    -----\n",
      "    The various sorting algorithms are characterized by their average speed,\n",
      "    worst case performance, work space size, and whether they are stable. A\n",
      "    stable sort keeps items with the same key in the same relative\n",
      "    order. The four algorithms implemented in NumPy have the following\n",
      "    properties:\n",
      "    \n",
      "    =========== ======= ============= ============ ========\n",
      "       kind      speed   worst case    work space   stable\n",
      "    =========== ======= ============= ============ ========\n",
      "    'quicksort'    1     O(n^2)            0          no\n",
      "    'heapsort'     3     O(n*log(n))       0          no\n",
      "    'mergesort'    2     O(n*log(n))      ~n/2        yes\n",
      "    'timsort'      2     O(n*log(n))      ~n/2        yes\n",
      "    =========== ======= ============= ============ ========\n",
      "    \n",
      "    .. note:: The datatype determines which of 'mergesort' or 'timsort'\n",
      "       is actually used, even if 'mergesort' is specified. User selection\n",
      "       at a finer scale is not currently available.\n",
      "    \n",
      "    All the sort algorithms make temporary copies of the data when\n",
      "    sorting along any but the last axis.  Consequently, sorting along\n",
      "    the last axis is faster and uses less space than sorting along\n",
      "    any other axis.\n",
      "    \n",
      "    The sort order for complex numbers is lexicographic. If both the real\n",
      "    and imaginary parts are non-nan then the order is determined by the\n",
      "    real parts except when they are equal, in which case the order is\n",
      "    determined by the imaginary parts.\n",
      "    \n",
      "    Previous to numpy 1.4.0 sorting real and complex arrays containing nan\n",
      "    values led to undefined behaviour. In numpy versions >= 1.4.0 nan\n",
      "    values are sorted to the end. The extended sort order is:\n",
      "    \n",
      "      * Real: [R, nan]\n",
      "      * Complex: [R + Rj, R + nanj, nan + Rj, nan + nanj]\n",
      "    \n",
      "    where R is a non-nan real value. Complex values with the same nan\n",
      "    placements are sorted according to the non-nan part if it exists.\n",
      "    Non-nan values are sorted as before.\n",
      "    \n",
      "    .. versionadded:: 1.12.0\n",
      "    \n",
      "    quicksort has been changed to `introsort <https://en.wikipedia.org/wiki/Introsort>`_.\n",
      "    When sorting does not make enough progress it switches to\n",
      "    `heapsort <https://en.wikipedia.org/wiki/Heapsort>`_.\n",
      "    This implementation makes quicksort O(n*log(n)) in the worst case.\n",
      "    \n",
      "    'stable' automatically chooses the best stable sorting algorithm\n",
      "    for the data type being sorted.\n",
      "    It, along with 'mergesort' is currently mapped to\n",
      "    `timsort <https://en.wikipedia.org/wiki/Timsort>`_\n",
      "    or `radix sort <https://en.wikipedia.org/wiki/Radix_sort>`_\n",
      "    depending on the data type.\n",
      "    API forward compatibility currently limits the\n",
      "    ability to select the implementation and it is hardwired for the different\n",
      "    data types.\n",
      "    \n",
      "    .. versionadded:: 1.17.0\n",
      "    \n",
      "    Timsort is added for better performance on already or nearly\n",
      "    sorted data. On random data timsort is almost identical to\n",
      "    mergesort. It is now used for stable sort while quicksort is still the\n",
      "    default sort if none is chosen. For timsort details, refer to\n",
      "    `CPython listsort.txt <https://github.com/python/cpython/blob/3.7/Objects/listsort.txt>`_.\n",
      "    'mergesort' and 'stable' are mapped to radix sort for integer data types. Radix sort is an\n",
      "    O(n) sort instead of O(n log n).\n",
      "    \n",
      "    .. versionchanged:: 1.18.0\n",
      "    \n",
      "    NaT now sorts to the end of arrays for consistency with NaN.\n",
      "    \n",
      "    Examples\n",
      "    --------\n",
      "    >>> a = np.array([[1,4],[3,1]])\n",
      "    >>> np.sort(a)                # sort along the last axis\n",
      "    array([[1, 4],\n",
      "           [1, 3]])\n",
      "    >>> np.sort(a, axis=None)     # sort the flattened array\n",
      "    array([1, 1, 3, 4])\n",
      "    >>> np.sort(a, axis=0)        # sort along the first axis\n",
      "    array([[1, 1],\n",
      "           [3, 4]])\n",
      "    \n",
      "    Use the `order` keyword to specify a field to use when sorting a\n",
      "    structured array:\n",
      "    \n",
      "    >>> dtype = [('name', 'S10'), ('height', float), ('age', int)]\n",
      "    >>> values = [('Arthur', 1.8, 41), ('Lancelot', 1.9, 38),\n",
      "    ...           ('Galahad', 1.7, 38)]\n",
      "    >>> a = np.array(values, dtype=dtype)       # create a structured array\n",
      "    >>> np.sort(a, order='height')                        # doctest: +SKIP\n",
      "    array([('Galahad', 1.7, 38), ('Arthur', 1.8, 41),\n",
      "           ('Lancelot', 1.8999999999999999, 38)],\n",
      "          dtype=[('name', '|S10'), ('height', '<f8'), ('age', '<i4')])\n",
      "    \n",
      "    Sort by age, then height if ages are equal:\n",
      "    \n",
      "    >>> np.sort(a, order=['age', 'height'])               # doctest: +SKIP\n",
      "    array([('Galahad', 1.7, 38), ('Lancelot', 1.8999999999999999, 38),\n",
      "           ('Arthur', 1.8, 41)],\n",
      "          dtype=[('name', '|S10'), ('height', '<f8'), ('age', '<i4')])\n",
      "\n"
     ]
    }
   ],
   "source": [
    "help(np.sort)"
   ]
  },
  {
   "cell_type": "code",
   "execution_count": 19,
   "id": "35d4fa35",
   "metadata": {},
   "outputs": [
    {
     "data": {
      "text/plain": [
       "7"
      ]
     },
     "execution_count": 19,
     "metadata": {},
     "output_type": "execute_result"
    }
   ],
   "source": [
    "def get_element(lst):\n",
    "  new_lst = []\n",
    "  for i in lst:\n",
    "    new_lst.append(i**2)\n",
    "    return lst[1]\n",
    "\n",
    "lst = [1, 7, 3, 5]\n",
    "\n",
    "get_element(lst)"
   ]
  },
  {
   "cell_type": "code",
   "execution_count": 20,
   "id": "85a84407",
   "metadata": {},
   "outputs": [
    {
     "data": {
      "text/plain": [
       "'that one'"
      ]
     },
     "execution_count": 20,
     "metadata": {},
     "output_type": "execute_result"
    }
   ],
   "source": [
    "my_dict = {'peaches':'cream', 'cat':'dog', 'this one':'that one'}\n",
    "my_dict['this one']"
   ]
  },
  {
   "cell_type": "code",
   "execution_count": 21,
   "id": "9fbad3cc",
   "metadata": {},
   "outputs": [
    {
     "data": {
      "text/plain": [
       "dict_values(['cream', 'dog', 'that one'])"
      ]
     },
     "execution_count": 21,
     "metadata": {},
     "output_type": "execute_result"
    }
   ],
   "source": [
    "my_dict.values()"
   ]
  },
  {
   "cell_type": "code",
   "execution_count": 22,
   "id": "9a9b4b63",
   "metadata": {},
   "outputs": [
    {
     "name": "stdout",
     "output_type": "stream",
     "text": [
      "Help on function drop in module pandas.core.frame:\n",
      "\n",
      "drop(self, labels=None, axis: 'Axis' = 0, index=None, columns=None, level: 'Level | None' = None, inplace: 'bool' = False, errors: 'str' = 'raise')\n",
      "    Drop specified labels from rows or columns.\n",
      "    \n",
      "    Remove rows or columns by specifying label names and corresponding\n",
      "    axis, or by specifying directly index or column names. When using a\n",
      "    multi-index, labels on different levels can be removed by specifying\n",
      "    the level. See the `user guide <advanced.shown_levels>`\n",
      "    for more information about the now unused levels.\n",
      "    \n",
      "    Parameters\n",
      "    ----------\n",
      "    labels : single label or list-like\n",
      "        Index or column labels to drop. A tuple will be used as a single\n",
      "        label and not treated as a list-like.\n",
      "    axis : {0 or 'index', 1 or 'columns'}, default 0\n",
      "        Whether to drop labels from the index (0 or 'index') or\n",
      "        columns (1 or 'columns').\n",
      "    index : single label or list-like\n",
      "        Alternative to specifying axis (``labels, axis=0``\n",
      "        is equivalent to ``index=labels``).\n",
      "    columns : single label or list-like\n",
      "        Alternative to specifying axis (``labels, axis=1``\n",
      "        is equivalent to ``columns=labels``).\n",
      "    level : int or level name, optional\n",
      "        For MultiIndex, level from which the labels will be removed.\n",
      "    inplace : bool, default False\n",
      "        If False, return a copy. Otherwise, do operation\n",
      "        inplace and return None.\n",
      "    errors : {'ignore', 'raise'}, default 'raise'\n",
      "        If 'ignore', suppress error and only existing labels are\n",
      "        dropped.\n",
      "    \n",
      "    Returns\n",
      "    -------\n",
      "    DataFrame or None\n",
      "        DataFrame without the removed index or column labels or\n",
      "        None if ``inplace=True``.\n",
      "    \n",
      "    Raises\n",
      "    ------\n",
      "    KeyError\n",
      "        If any of the labels is not found in the selected axis.\n",
      "    \n",
      "    See Also\n",
      "    --------\n",
      "    DataFrame.loc : Label-location based indexer for selection by label.\n",
      "    DataFrame.dropna : Return DataFrame with labels on given axis omitted\n",
      "        where (all or any) data are missing.\n",
      "    DataFrame.drop_duplicates : Return DataFrame with duplicate rows\n",
      "        removed, optionally only considering certain columns.\n",
      "    Series.drop : Return Series with specified index labels removed.\n",
      "    \n",
      "    Examples\n",
      "    --------\n",
      "    >>> df = pd.DataFrame(np.arange(12).reshape(3, 4),\n",
      "    ...                   columns=['A', 'B', 'C', 'D'])\n",
      "    >>> df\n",
      "       A  B   C   D\n",
      "    0  0  1   2   3\n",
      "    1  4  5   6   7\n",
      "    2  8  9  10  11\n",
      "    \n",
      "    Drop columns\n",
      "    \n",
      "    >>> df.drop(['B', 'C'], axis=1)\n",
      "       A   D\n",
      "    0  0   3\n",
      "    1  4   7\n",
      "    2  8  11\n",
      "    \n",
      "    >>> df.drop(columns=['B', 'C'])\n",
      "       A   D\n",
      "    0  0   3\n",
      "    1  4   7\n",
      "    2  8  11\n",
      "    \n",
      "    Drop a row by index\n",
      "    \n",
      "    >>> df.drop([0, 1])\n",
      "       A  B   C   D\n",
      "    2  8  9  10  11\n",
      "    \n",
      "    Drop columns and/or rows of MultiIndex DataFrame\n",
      "    \n",
      "    >>> midx = pd.MultiIndex(levels=[['lama', 'cow', 'falcon'],\n",
      "    ...                              ['speed', 'weight', 'length']],\n",
      "    ...                      codes=[[0, 0, 0, 1, 1, 1, 2, 2, 2],\n",
      "    ...                             [0, 1, 2, 0, 1, 2, 0, 1, 2]])\n",
      "    >>> df = pd.DataFrame(index=midx, columns=['big', 'small'],\n",
      "    ...                   data=[[45, 30], [200, 100], [1.5, 1], [30, 20],\n",
      "    ...                         [250, 150], [1.5, 0.8], [320, 250],\n",
      "    ...                         [1, 0.8], [0.3, 0.2]])\n",
      "    >>> df\n",
      "                    big     small\n",
      "    lama    speed   45.0    30.0\n",
      "            weight  200.0   100.0\n",
      "            length  1.5     1.0\n",
      "    cow     speed   30.0    20.0\n",
      "            weight  250.0   150.0\n",
      "            length  1.5     0.8\n",
      "    falcon  speed   320.0   250.0\n",
      "            weight  1.0     0.8\n",
      "            length  0.3     0.2\n",
      "    \n",
      "    Drop a specific index combination from the MultiIndex\n",
      "    DataFrame, i.e., drop the combination ``'falcon'`` and\n",
      "    ``'weight'``, which deletes only the corresponding row\n",
      "    \n",
      "    >>> df.drop(index=('falcon', 'weight'))\n",
      "                    big     small\n",
      "    lama    speed   45.0    30.0\n",
      "            weight  200.0   100.0\n",
      "            length  1.5     1.0\n",
      "    cow     speed   30.0    20.0\n",
      "            weight  250.0   150.0\n",
      "            length  1.5     0.8\n",
      "    falcon  speed   320.0   250.0\n",
      "            length  0.3     0.2\n",
      "    \n",
      "    >>> df.drop(index='cow', columns='small')\n",
      "                    big\n",
      "    lama    speed   45.0\n",
      "            weight  200.0\n",
      "            length  1.5\n",
      "    falcon  speed   320.0\n",
      "            weight  1.0\n",
      "            length  0.3\n",
      "    \n",
      "    >>> df.drop(index='length', level=1)\n",
      "                    big     small\n",
      "    lama    speed   45.0    30.0\n",
      "            weight  200.0   100.0\n",
      "    cow     speed   30.0    20.0\n",
      "            weight  250.0   150.0\n",
      "    falcon  speed   320.0   250.0\n",
      "            weight  1.0     0.8\n",
      "\n"
     ]
    }
   ],
   "source": [
    "help(pd.DataFrame.drop)"
   ]
  },
  {
   "cell_type": "markdown",
   "id": "12b16d9b",
   "metadata": {},
   "source": [
    "### INTERVALOS DE CONFIANZA\n",
    "\n",
    "\n",
    "**Hay diferentes tipos de intervalos de confianza según el parámetro que se quiera estimar. Por ejemplo, para la media poblacional se utiliza el intervalo de confianza que mencionaste anteriormente, mientras que para la proporción poblacional se utiliza un intervalo de confianza diferente que depende del número de éxitos y fracasos en una muestra. También hay intervalos de confianza para la desviación estándar poblacional, para la diferencia de medias poblacionales, entre otros.**\n",
    "\n",
    "\n",
    "\n",
    "Listo, entonces vamos a resumir, tenemos significancia que es el porcentaje de error del intervalo de confianza, tenemos el error muestral que aveces se representa con la letra e, el cual refiere la muestra puede tener un error de hasta cierto punto, este error casi siempre lo normalizamos según los datos que estamos trabajando, por ejemplo, si me dice que el error es del 10% maximo y estamos trabajando con leche, tengo que pasar ese 10% a una variable de leche y finalmente tenemos para este repaso el error inferencial que es igual a error = z * std/raiz(n)\n",
    "\n",
    "\n",
    "el error estandar no se multiplica por z y el error inferencial si se multiplica por z\n",
    "\n",
    "> error estandar =   sqrt(p_hat * (1 - p_hat) / n)\n",
    "\n",
    "el error inferencial se da con el valor crítico de z\n",
    "\n",
    "> error inferencial = z * sqrt(phat * (1 - phat)/n) "
   ]
  },
  {
   "cell_type": "code",
   "execution_count": 23,
   "id": "f2598700",
   "metadata": {},
   "outputs": [
    {
     "name": "stdout",
     "output_type": "stream",
     "text": [
      "intervalo de confianza normal, formula normal para proporcion\n"
     ]
    },
    {
     "data": {
      "text/plain": [
       "(0.4688603494040079, 0.5911396505959922)"
      ]
     },
     "execution_count": 23,
     "metadata": {},
     "output_type": "execute_result"
    }
   ],
   "source": [
    "# Datos del problema\n",
    "n = 256\n",
    "p_hat = 0.53  # Proporción muestral \n",
    "z = 1.96  # Valor crítico para nivel de confianza del 95%\n",
    "e = 0.03  # Margen de error\n",
    "\n",
    "\n",
    "# Forma de calcular los intervalos de la proporcion muestral .\n",
    "se = np.sqrt((p_hat * (1 - p_hat))/n)\n",
    "\n",
    "print(\"intervalo de confianza normal, formula normal para proporcion\")\n",
    "\n",
    "lcb = p_hat - z * se\n",
    "ucb = p_hat + z * se\n",
    "(lcb, ucb)\n"
   ]
  },
  {
   "cell_type": "code",
   "execution_count": 24,
   "id": "6907da43",
   "metadata": {},
   "outputs": [
    {
     "name": "stdout",
     "output_type": "stream",
     "text": [
      "99% de confianza, con margen de error conservador\n"
     ]
    },
    {
     "data": {
      "text/plain": [
       "(0.4675, 0.5925)"
      ]
     },
     "execution_count": 24,
     "metadata": {},
     "output_type": "execute_result"
    }
   ],
   "source": [
    "\n",
    "# forma de hacerlo con un nivel mas conservador\n",
    "\n",
    "#1) parte del error muestral, estamos usando p-hat para hllar el\n",
    "#error estandar estimado\n",
    "\n",
    "# vamos a usar un margen de error conservador y si ¿p-hat no es exacta?\n",
    "\n",
    "# debido a esa pregunta en ocasiones se maximita el error esperado, para ello se trabaja con la desviación std\n",
    "\n",
    "\n",
    "lcb = p_hat  - (1/ np.sqrt(n))\n",
    "ucb = p_hat  + (1/ np.sqrt(n))\n",
    "print(\"99% de confianza, con margen de error conservador\")\n",
    "(lcb, ucb)\n",
    " \n",
    "# entonces la formula real sería\n",
    "\n",
    "#lcb = p_hat  - z * (1/ 2*(np.sqrt(n))) \n",
    "\n",
    "# no obstante como en el 99% z vale 2 entonces se haría eliminan y queda como la forma de arriba"
   ]
  },
  {
   "cell_type": "code",
   "execution_count": 25,
   "id": "fe968875",
   "metadata": {},
   "outputs": [
    {
     "name": "stdout",
     "output_type": "stream",
     "text": [
      "95% de confianza, con margen de error conservador\n"
     ]
    },
    {
     "data": {
      "text/plain": [
       "(0.46875, 0.59125)"
      ]
     },
     "execution_count": 25,
     "metadata": {},
     "output_type": "execute_result"
    }
   ],
   "source": [
    "# para el 95 % los intervalos serían\n",
    "print(\"95% de confianza, con margen de error conservador\")\n",
    "\n",
    "intervalos = (\n",
    "p_hat  - z * (1/(2*(np.sqrt(n)))) ,\n",
    "p_hat  + z * (1/(2*(np.sqrt(n))))     \n",
    "\n",
    ")\n",
    "intervalos"
   ]
  },
  {
   "cell_type": "markdown",
   "id": "b686c2f3",
   "metadata": {},
   "source": [
    "Otro investigador está buscando realizar una encuesta similar para averiguar la proporción de todos los residentes de Michigan que poseen una tableta. ¿Qué tamaño mínimo de muestra necesita el investigador para crear un intervalo de confianza conservador del 95 % con un margen de error de no más del 3 %? (No use el valor aproximado para \"algunos\"; use el valor estándar más preciso)."
   ]
  },
  {
   "cell_type": "code",
   "execution_count": 26,
   "id": "17c16de6",
   "metadata": {},
   "outputs": [
    {
     "data": {
      "text/plain": [
       "1068"
      ]
     },
     "execution_count": 26,
     "metadata": {},
     "output_type": "execute_result"
    }
   ],
   "source": [
    "from scipy.stats import norm\n",
    "import math\n",
    "\n",
    "# Especificamos el margen de error deseado\n",
    "e_margen = 0.03\n",
    "\n",
    "# Calculamos el valor de z correspondiente al nivel de confianza del 95%\n",
    "z = norm.ppf(0.5+(0.95/2))\n",
    "\n",
    "# Calculamos el tamaño mínimo de muestra requerido\n",
    "MoE = (1/e_margen)**2\n",
    "muestra = (z/(2*e_margen))**2\n",
    "\n",
    "# Redondeamos al entero más cercano y mostramos el resultado\n",
    "math.ceil(muestra)\n",
    "\n",
    "\n"
   ]
  },
  {
   "cell_type": "markdown",
   "id": "bcc3d3dd",
   "metadata": {},
   "source": [
    "Los dispositivos de información, como teléfonos inteligentes, tabletas, computadoras portátiles y lectores electrónicos, son ampliamente utilizados por los estadounidenses en la actualidad. Una encuesta realizada por el Pew Research Center en enero de 2018 solicitó a una muestra aleatoria de estadounidenses que informaran cuáles de estos dispositivos de información específicos poseen. El estudio reveló que el 53% de los estadounidenses encuestados posee una tableta (basado en una muestra aleatoria de 526 estadounidenses). A partir de estos resultados, se informó que el intervalo de confianza del 90 % para la proporción de la población estadounidense que posee una tableta es (0,4942, 0,5658)\n",
    "\n",
    "\n",
    "¿Qué tamaño mínimo de muestra necesita el investigador para crear un intervalo de confianza conservador del 95 % con un margen de error de no más del 4 %?"
   ]
  },
  {
   "cell_type": "code",
   "execution_count": 27,
   "id": "aaa9b1f0",
   "metadata": {},
   "outputs": [
    {
     "data": {
      "text/plain": [
       "601"
      ]
     },
     "execution_count": 27,
     "metadata": {},
     "output_type": "execute_result"
    }
   ],
   "source": [
    "n = 232\n",
    "phat = 232*0.43\n",
    "phat = math.ceil(phat)\n",
    "z = 1.96\n",
    "e = 0.04\n",
    "\n",
    "\n",
    "muestra = (z/(2*e))**2\n",
    "math.ceil(muestra)"
   ]
  },
  {
   "cell_type": "markdown",
   "id": "7625e98c",
   "metadata": {},
   "source": [
    "¿Qué tamaño mínimo de muestra necesita el investigador para crear un intervalo de confianza conservador del 98 % con un margen de error de no más del 3 %?"
   ]
  },
  {
   "cell_type": "code",
   "execution_count": 28,
   "id": "36030bd2",
   "metadata": {},
   "outputs": [
    {
     "data": {
      "text/plain": [
       "1068"
      ]
     },
     "execution_count": 28,
     "metadata": {},
     "output_type": "execute_result"
    }
   ],
   "source": [
    "## z = norm.pff(0.5+(0.98/2))\n",
    "e = 0.03\n",
    "\n",
    "muestra = (z/(2*e))**2\n",
    "math.ceil(muestra)"
   ]
  },
  {
   "cell_type": "code",
   "execution_count": null,
   "id": "78fe8707",
   "metadata": {},
   "outputs": [],
   "source": []
  },
  {
   "cell_type": "markdown",
   "id": "47fd4911",
   "metadata": {},
   "source": [
    "Se realizó una encuesta en una universidad pública preguntando a los estudiantes de pregrado si son estudiantes del estado o estudiantes de fuera del estado. Se preguntó a una muestra de 232 estudiantes de pregrado de la Universidad y se reveló que el 43% de los estudiantes eran de fuera del estado. A partir de los resultados, se calculó un intervalo de confianza del 95 % (0,3663, 0,4937)."
   ]
  },
  {
   "cell_type": "code",
   "execution_count": 29,
   "id": "3a5bfce1",
   "metadata": {},
   "outputs": [
    {
     "name": "stdout",
     "output_type": "stream",
     "text": [
      "0.0637\n"
     ]
    }
   ],
   "source": [
    "# porcentaje de los intervalos\n",
    "intervalo = (0.3663, 0.4937)\n",
    "margen_error = (intervalo[1] - intervalo[0]) / 2\n",
    "print(margen_error)"
   ]
  },
  {
   "cell_type": "markdown",
   "id": "d1dd8e40",
   "metadata": {},
   "source": [
    "¿Qué tamaño mínimo de muestra necesita el investigador para crear un intervalo de confianza conservador del 98 % con un margen de error de no más del 3 %?"
   ]
  },
  {
   "cell_type": "code",
   "execution_count": 30,
   "id": "f1aec87b",
   "metadata": {},
   "outputs": [
    {
     "data": {
      "text/plain": [
       "1503.3040086262056"
      ]
     },
     "execution_count": 30,
     "metadata": {},
     "output_type": "execute_result"
    }
   ],
   "source": [
    "n = 2323\n",
    "phat = 2323 * 0.43\n",
    "phat = math.ceil(phat)\n",
    "z = norm.ppf(0.5+(0.98/2))\n",
    "error = 0.03\n",
    "\n",
    "# formula \n",
    "\n",
    "muestra = (z/(2*error))**2\n",
    "muestra"
   ]
  },
  {
   "cell_type": "markdown",
   "id": "b3178e51",
   "metadata": {},
   "source": [
    "### CALCULANDO DOS PROPORCIONES CON INTERVALO DE CONFIANZA"
   ]
  },
  {
   "cell_type": "markdown",
   "id": "aad960a5",
   "metadata": {},
   "source": [
    "La anotación que se usa cuando se estudian dos proporciones es **(p1 - p2)** con esto estamos diferenciando que hay dos proporciones diferentes. \n",
    "\n",
    "#### Ejemplo\n",
    "\n",
    "hablaremos sobre la estimaciónuna diferencia en dos proporciones de población con confianza.Para empezar,estamos viendo una encuesta realizada por CS Mott Children's Hospital.Realizan muchas encuestas nacionales sobre temas relacionados con la salud infantil.En esta encuesta en particular,preguntaban sobre la seguridad en el agua y sobre las lecciones de natación.La pregunta de investigación que analizaremos es,¿cual es la diferencia de proporciones de la poblacionde los padres que informan que sus hijos de edad 6-18 han tenido algunas lecciones de natación entre niños blancos y niños negros? Entonces, nuestras poblaciones de interés,tenemos dos de ellos.Estaremos mirando a todos los padres de niños blancos de edad6-18 y todos los padres de niños negros de 6-18 años.\n",
    "\n",
    "> p1 = niños blancos\n",
    "> p2 = niños negros\n",
    "\n",
    "Datos del ejemplo:\n",
    "\n",
    "Muestra de 247 padres de niños negros.\n",
    "91 de ellos dijeron que habian tenido alguna lesión nadando.\n",
    "\n",
    "Muestra 988 padres de niños blancos.\n",
    "543 de ellos dijeron que sus hijos habian tenido alguna lesión nadando. \n",
    "\n",
    "> phat = pporcion_niños blancos - pprorcion_niños_negros\n",
    "\n",
    "Error inferencial de la proporción muestral, calculamos el error.\n",
    "\n",
    "##### Formula error estandar para una proporcion\n",
    "\n",
    "> sqrt((p_hat * (1 - p_hat))/n)\n",
    "\n",
    "##### Formula para calcular el margen de error inferencial para una sola proporcion\n",
    "\n",
    "> Error = z * sqrt((p_hat * (1 - p_hat))/n)\n",
    "\n",
    "##### Formula para calcular el margen de error para dos proporciones\n",
    "\n",
    "> Error = z *  np.sqrt((p_hat * (1 - p_hat)/n1) + (phat_2 * (1 - phat_2)/n2))\n",
    "\n",
    "##### Para obtener los intervalos de una sola proporcion  se haría\n",
    "\n",
    "> intervalos (phat - error_inferencial, phat+error_inferencial)\n",
    "\n",
    "eso se vería así\n",
    "\n",
    "> intervalos = phat - (z * sqrt((p_hat * (1 - p_hat))/n)\n",
    "\n",
    "##### Para obtener los intervalos de dos proporciones \n",
    "\n",
    "> intervalos = phat1-phat2 - (z *  np.sqrt((p_hat * (1 - p_hat)/n1) + (phat_2 * (1 - phat_2)/n2)))\n",
    "\n",
    "o utilizando math \n",
    "\n",
    "> intervalos =  phat1-phat2 - (z*math.sqrt((phat_1 * (1 - phat_1) / n1) + (phat_2 * (1 - phat_2) / n2)))\n",
    "\n",
    "Cabe recordar que en los intervalos se suma y se resta, por lo cual simplemente hay que repetir la formula sumando."
   ]
  },
  {
   "cell_type": "code",
   "execution_count": 31,
   "id": "a71a1283",
   "metadata": {},
   "outputs": [],
   "source": [
    "n1 = 988\n",
    "n2 = 247\n",
    "z = 1.96\n",
    "phat_1 = round(543/n1,2)\n",
    "phat_2 = round(91/n2,2)\n",
    "\n",
    "phat_g = round(phat_1 - phat_2,2) # esto se hace para obtener el valor global de los dos phats"
   ]
  },
  {
   "cell_type": "code",
   "execution_count": 32,
   "id": "147fa32d",
   "metadata": {},
   "outputs": [
    {
     "data": {
      "text/plain": [
       "(0.11222110846545348, 0.24777889153454652)"
      ]
     },
     "execution_count": 32,
     "metadata": {},
     "output_type": "execute_result"
    }
   ],
   "source": [
    "# para dos proporciones\n",
    "intervalos = (\n",
    "    \n",
    "    phat_g -  (z * np.sqrt((p_hat * (1 - p_hat)/n1) + (phat_2 * (1 - phat_2)/n2))),\n",
    "    phat_g +  (z * np.sqrt((p_hat * (1 - p_hat)/n1) + (phat_2 * (1 - phat_2)/n2)))\n",
    "    \n",
    "             \n",
    "                        \n",
    "             \n",
    "             )\n",
    "intervalos"
   ]
  },
  {
   "cell_type": "markdown",
   "id": "d26bda19",
   "metadata": {},
   "source": [
    "#### Intervalos de confianza para dos proporciones.\n",
    "\n",
    "Para calcular un intervalo de confianza de proporción para dos grupos (A y B) diferentes, generalmente necesitamos dos muestras independientes: una para el grupo A y otra para el grupo B. Estas muestras deben ser tomadas al azar y deben ser representativas de los grupos A y B respectivamente.\n",
    "\n",
    "Es importante que las muestras sean independientes, lo que significa que los individuos en una muestra no deben estar relacionados con los individuos en la otra muestra. Si los individuos en las muestras estuvieran relacionados (por ejemplo, si se tomaran medidas repetidas de la misma persona), entonces los intervalos de confianza calculados podrían ser demasiado optimistas, ya que no estaríamos considerando la correlación entre las observaciones."
   ]
  },
  {
   "cell_type": "markdown",
   "id": "fe52a54d",
   "metadata": {},
   "source": [
    "##### Intervalo de Confianza Para Media Poblacional\n",
    "\n",
    "La formula para hallar el error estandar, que viene siendo la variabilidad del parametros que estamos hallando a nivel poblacional, es decir, que si repetimos una y otra vez una muestra con la misma cantidad, la media de una muestra a la otra tendría una variabilidad que sería el error estandar. \n",
    "\n",
    "El error estandar disminuye a medida que la muestra es mayor.\n",
    "\n",
    "##### Formula error estandar cuando se conoce la desviación estandar de la poblacion\n",
    "\n",
    "> std_poblacion/sqrt(n)\n",
    "\n",
    "##### Formula error estandar cuando no se conoce la desviación estandar de la poblacion\n",
    "\n",
    "> std_muestra/sqrt(n)\n",
    "\n",
    "Cuando nuestro tamaño de la muestra es demasiado pequeño, lo que hacemos para es incluir el valor **T** student.\n",
    "\n",
    "en este caso \"t\" se refiere a la distribución de Student, que es una distribución de probabilidad que se utiliza en lugar de la distribución normal cuando se tienen muestras pequeñas y se desconoce la desviación estándar poblacional. La constante \"t\" se refiere al valor crítico obtenido de la tabla de la distribución t de Student con un cierto nivel de confianza y grados de libertad correspondientes al tamaño de la muestra. El valor de \"t\" es mayor que 1 y aumenta a medida que disminuye el tamaño de la muestra o aumenta el nivel de confianza.\n",
    "\n",
    "**Cuando se desconoce la desviación estándar poblacional y se utiliza la desviación estándar muestral en su lugar para calcular el error estándar, se utiliza la distribución t-student en lugar de la distribución normal estándar (z).**\n",
    "\n",
    "> (std_muestra / sqrt(n)) * t\n",
    "\n",
    "##### Intervalo de confianza media muestra\n",
    "\n",
    "> media_muestral + (t * (std_muestra/sqrt(n)))\n",
    "\n",
    "\n",
    "En el momento que nuestro valor de la muestra es suficientemente amplio, si utilizamos z para calcular el error inferencial\n",
    "\n",
    "##### Intervalo de confianza media muestral cuando la muestra es suficientemente amplia\n",
    "\n",
    "> media_muestral + (z*(std_muestral/sqrt(n)))\n",
    "\n",
    "\n",
    "**Los intervalos de confianza lo que nos dan es un rango de valores en el que puede estar el valor real poblacional, es decir que básicamente, si tenemos la oportunidad de reptir una y otra vez una muestra, evidentemente el resultado de la media puede variar, pero nosotros esperamos que ese valor de una media tras otra media, se encuentren en el nivel de confianza que estimamos para la investigación, por ejemplo, puede ser un nivel de confianza\"** Eso no necesariamente quiere decir que el valor real del parametro este en todo el centro del rango de valores, puede estar en uno u otro estremo. "
   ]
  },
  {
   "cell_type": "code",
   "execution_count": 33,
   "id": "3bd89d3d",
   "metadata": {},
   "outputs": [
    {
     "data": {
      "text/plain": [
       "0.37"
      ]
     },
     "execution_count": 33,
     "metadata": {},
     "output_type": "execute_result"
    }
   ],
   "source": []
  },
  {
   "cell_type": "code",
   "execution_count": 34,
   "id": "fb8f1703",
   "metadata": {},
   "outputs": [
    {
     "data": {
      "text/plain": [
       "0.18"
      ]
     },
     "execution_count": 34,
     "metadata": {},
     "output_type": "execute_result"
    }
   ],
   "source": []
  },
  {
   "cell_type": "code",
   "execution_count": null,
   "id": "ebb4a382",
   "metadata": {},
   "outputs": [],
   "source": []
  },
  {
   "cell_type": "code",
   "execution_count": null,
   "id": "35c5b8a2",
   "metadata": {},
   "outputs": [],
   "source": []
  }
 ],
 "metadata": {
  "kernelspec": {
   "display_name": "Python 3 (ipykernel)",
   "language": "python",
   "name": "python3"
  },
  "language_info": {
   "codemirror_mode": {
    "name": "ipython",
    "version": 3
   },
   "file_extension": ".py",
   "mimetype": "text/x-python",
   "name": "python",
   "nbconvert_exporter": "python",
   "pygments_lexer": "ipython3",
   "version": "3.9.13"
  }
 },
 "nbformat": 4,
 "nbformat_minor": 5
}
