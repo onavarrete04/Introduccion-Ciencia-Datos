{
 "cells": [
  {
   "cell_type": "markdown",
   "id": "002eb9c3",
   "metadata": {},
   "source": [
    "## HIPOTESIS\n",
    "\n",
    "Cuando hacemos una prueba de hipótesis, estamos tratando de decidir si una afirmación sobre una población es verdadera o no. La afirmación se llama hipótesis y se divide en dos: la hipótesis nula (H0) y la hipótesis alternativa (H1).\n",
    "\n",
    "La hipótesis nula es una afirmación que queremos poner a prueba, y la hipótesis alternativa es la afirmación contraria. Por ejemplo, si queremos saber si la media de altura de las mujeres es mayor que 1.65 metros, la hipótesis nula sería que la media de altura de las mujeres es igual o menor que 1.65 metros, mientras que la hipótesis alternativa sería que la media de altura de las mujeres es mayor que 1.65 metros.\n",
    "\n",
    "Ahora bien, cuando hacemos una prueba de hipótesis, podemos cometer dos tipos de errores: el error tipo I y el error tipo II.\n",
    "\n",
    "**El error tipo I ocurre cuando rechazamos la hipótesis nula cuando en realidad es verdadera.** Es decir, elegimos la hipótesis alternativa cuando deberíamos haber elegido la hipótesis nula. Esto se llama error tipo I porque estamos tomando una decisión incorrecta al rechazar una afirmación que es cierta.\n",
    "\n",
    "**El error tipo II ocurre cuando aceptamos la hipótesis nula cuando en realidad es falsa.**\n",
    "Es decir, elegimos la hipótesis nula cuando deberíamos haber elegido la hipótesis alternativa. Esto se llama error tipo II porque estamos tomando una decisión incorrecta al aceptar una afirmación que es falsa.\n",
    "\n",
    "Para resumirlo, el error tipo I es cuando rechazamos una afirmación verdadera, y el error tipo II es cuando aceptamos una afirmación falsa. Ambos errores son importantes de tener en cuenta cuando hacemos una prueba de hipótesis, ya que pueden tener implicaciones importantes en la toma de decisiones."
   ]
  },
  {
   "cell_type": "markdown",
   "id": "8197a9eb",
   "metadata": {},
   "source": [
    "### INTRODUCCIÓN ESTADÍSTICA BAYESIANA\n",
    "\n",
    "\n",
    "En la estadística bayesiana lo que se hace es que se **incorporan datos nuevos al proceso a medida de que se hace el estudio** sin que este haya terminado. Es decir, es un proceso de incorpora información.\n",
    "\n",
    "la estadística bayesiana considera la probabilidad como una medida de incertidumbre, y esta incertidumbre se va actualizando a medida que se adquiere nueva información. Por ejemplo, si se tiene una hipótesis inicial sobre la probabilidad de un evento y luego se recopila nueva información, la estadística bayesiana actualiza la probabilidad inicial con la nueva información para obtener una probabilidad posterior más precisa y confiable. \n",
    "\n",
    "Ahora, la contraparte de la estadística bayesiana, es la estadística frecuentista en donde vemos (distribución normal, poisson y binomial), esta estadística se basa en las observaciones realizadas. \n",
    "\n",
    "\n",
    "De tal manera, un ejemplo:\n",
    "\n",
    "\n",
    "Entonces vamos a hacer un ejemplo, tenemos 4 chocolates, 3 son de color amarillo y 1 es de color azul. Entonces los meto en dos bolsas y luego las revuelvo, saco un chocolate y es de color amarillo, entonces con las estadísticas bayesianas como ahora tengo nueva información, diría que existe la probabilidad 2/3 de que salga amarillo y 1/3 de que salga azul, con esa información yo elegiria que salga amarillo porque es una probabilidad mayor. Ahora con la estadística frecuentista sacando el color amarillo, seguiría siendo la probabilidad en ambas bolsas del 50% de que sea un chocolate azul, aún habiendo sacado un chocolate. \n",
    "\n",
    "#### Ventajas de la estadística bayesiana:\n",
    "\n",
    "Considera la incertidumbre: La estadística bayesiana tiene en cuenta la incertidumbre y la subjetividad en las estimaciones, lo que la hace más útil para problemas complejos o poco convencionales.\n",
    "\n",
    "Puede utilizar pequeñas muestras: La estadística bayesiana puede utilizar pequeñas muestras y aún así producir estimaciones precisas.\n",
    "\n",
    "Permite actualización de las estimaciones: La estadística bayesiana permite la actualización de las estimaciones a medida que se adquiere nueva información.\n",
    "\n",
    "#### Desventajas de la estadística bayesiana:\n",
    "\n",
    "Requiere especificar una distribución a priori: La estadística bayesiana requiere especificar una distribución a priori, lo que puede ser difícil o subjetivo.\n",
    "\n",
    "Puede ser computacionalmente intensiva: La estadística bayesiana puede requerir cálculos computacionales intensivos.\n",
    "\n",
    "Puede ser difícil de interpretar: La estadística bayesiana puede ser difícil de interpretar para los no expertos debido a su enfoque subjetivo.\n",
    "\n",
    "#### Ventajas de la estadística frecuentista:\n",
    "\n",
    "Objetividad: La estadística frecuentista se basa en datos observados y repetidos, por lo que puede ser vista como más objetiva que la estadística bayesiana.\n",
    "\n",
    "Sencillez: La estadística frecuentista utiliza técnicas simples que son fáciles de implementar.\n",
    "\n",
    "Amplia aplicación: La estadística frecuentista es ampliamente utilizada en muchos campos de investigación, incluyendo la medicina, la biología, la física y la economía.\n",
    "\n",
    "#### Desventajas de la estadística frecuentista:\n",
    "\n",
    "No toma en cuenta la incertidumbre: La estadística frecuentista no tiene en cuenta la incertidumbre y la subjetividad en las estimaciones.\n",
    "\n",
    "Poca flexibilidad: La estadística frecuentista no se adapta bien a problemas complejos o poco convencionales.\n",
    "\n",
    "Puede requerir grandes muestras: La estadística frecuentista puede requerir grandes muestras para ser precisa.\n",
    "\n",
    "\n",
    "\n"
   ]
  },
  {
   "cell_type": "code",
   "execution_count": null,
   "id": "a5c30091",
   "metadata": {},
   "outputs": [],
   "source": []
  }
 ],
 "metadata": {
  "kernelspec": {
   "display_name": "Python 3 (ipykernel)",
   "language": "python",
   "name": "python3"
  },
  "language_info": {
   "codemirror_mode": {
    "name": "ipython",
    "version": 3
   },
   "file_extension": ".py",
   "mimetype": "text/x-python",
   "name": "python",
   "nbconvert_exporter": "python",
   "pygments_lexer": "ipython3",
   "version": "3.9.13"
  }
 },
 "nbformat": 4,
 "nbformat_minor": 5
}
