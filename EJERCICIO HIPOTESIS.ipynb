{
 "cells": [
  {
   "cell_type": "markdown",
   "id": "25b7c12d-0595-41c0-bc43-f35b8d65e5a5",
   "metadata": {},
   "source": [
    "Su objetivo es analizar los datos que son el resultado de un estudio que examinó las diferencias en una serie de variables de sueño entre los niños pequeños que duermen siestas y los que no duermen siestas. Algunas de estas variables de sueño incluyeron: hora de acostarse (hora de apagado de las luces en tiempo decimal), hora de inicio del sueño nocturno (en tiempo decimal), hora de despertar (hora de finalización del sueño en tiempo decimal), duración del sueño nocturno (intervalo entre el inicio y el final del sueño). en minutos) y Duración total del sueño de 24 horas (en minutos). Nota: El tiempo decimalizado es la representación de la hora del día usando unidades relacionadas decimalmente.\n",
    "\n",
    "Los 20 participantes del estudio eran niños pequeños sanos, con un desarrollo normal, sin problemas de sueño ni de comportamiento. Estos niños se clasificaron como siestas o no siestas según el informe de los padres sobre los patrones de sueño habituales de los niños. Luego, los investigadores verificaron el estado de la siesta con datos de actigrafía (un método no invasivo para monitorear los ciclos de actividad/descanso humano mediante el uso de un sensor en la muñeca) y diarios de sueño durante los 5 días anteriores a las evaluaciones del estudio.\n",
    "\n",
    "Está específicamente interesado en los resultados de Hora de acostarse y Duración total del sueño de 24 horas."
   ]
  },
  {
   "cell_type": "code",
   "execution_count": 1,
   "id": "d4a99ba3-79bf-4591-a469-685414b9c85c",
   "metadata": {},
   "outputs": [],
   "source": [
    "import numpy as np\n",
    "import pandas as pd\n",
    "from scipy.stats import t, norm\n",
    "pd.set_option('display.max_columns', 30) # set so can see all columns of the DataFrame"
   ]
  },
  {
   "cell_type": "code",
   "execution_count": 2,
   "id": "388ebe42-6a4f-422c-91ad-0c68844171f2",
   "metadata": {},
   "outputs": [
    {
     "data": {
      "text/html": [
       "<div>\n",
       "<style scoped>\n",
       "    .dataframe tbody tr th:only-of-type {\n",
       "        vertical-align: middle;\n",
       "    }\n",
       "\n",
       "    .dataframe tbody tr th {\n",
       "        vertical-align: top;\n",
       "    }\n",
       "\n",
       "    .dataframe thead th {\n",
       "        text-align: right;\n",
       "    }\n",
       "</style>\n",
       "<table border=\"1\" class=\"dataframe\">\n",
       "  <thead>\n",
       "    <tr style=\"text-align: right;\">\n",
       "      <th></th>\n",
       "      <th>id</th>\n",
       "      <th>sex</th>\n",
       "      <th>age (months)</th>\n",
       "      <th>dlmo time</th>\n",
       "      <th>days napped</th>\n",
       "      <th>napping</th>\n",
       "      <th>nap lights outl time</th>\n",
       "      <th>nap sleep onset</th>\n",
       "      <th>nap midsleep</th>\n",
       "      <th>nap sleep offset</th>\n",
       "      <th>nap wake time</th>\n",
       "      <th>nap duration</th>\n",
       "      <th>nap time in bed</th>\n",
       "      <th>night bedtime</th>\n",
       "      <th>night sleep onset</th>\n",
       "      <th>sleep onset latency</th>\n",
       "      <th>night midsleep time</th>\n",
       "      <th>night wake time</th>\n",
       "      <th>night sleep duration</th>\n",
       "      <th>night time in bed</th>\n",
       "      <th>24 h sleep duration</th>\n",
       "      <th>bedtime phase difference</th>\n",
       "      <th>sleep onset phase difference</th>\n",
       "      <th>midsleep phase difference</th>\n",
       "      <th>wake time phase difference</th>\n",
       "    </tr>\n",
       "  </thead>\n",
       "  <tbody>\n",
       "    <tr>\n",
       "      <th>0</th>\n",
       "      <td>1</td>\n",
       "      <td>female</td>\n",
       "      <td>33.7</td>\n",
       "      <td>19.24</td>\n",
       "      <td>0</td>\n",
       "      <td>0</td>\n",
       "      <td>NaN</td>\n",
       "      <td>NaN</td>\n",
       "      <td>NaN</td>\n",
       "      <td>NaN</td>\n",
       "      <td>NaN</td>\n",
       "      <td>NaN</td>\n",
       "      <td>NaN</td>\n",
       "      <td>20.45</td>\n",
       "      <td>20.68</td>\n",
       "      <td>0.23</td>\n",
       "      <td>1.92</td>\n",
       "      <td>7.17</td>\n",
       "      <td>629.4</td>\n",
       "      <td>643.0</td>\n",
       "      <td>629.4</td>\n",
       "      <td>-1.21</td>\n",
       "      <td>-1.44</td>\n",
       "      <td>6.68</td>\n",
       "      <td>11.93</td>\n",
       "    </tr>\n",
       "    <tr>\n",
       "      <th>1</th>\n",
       "      <td>2</td>\n",
       "      <td>female</td>\n",
       "      <td>31.5</td>\n",
       "      <td>18.27</td>\n",
       "      <td>0</td>\n",
       "      <td>0</td>\n",
       "      <td>NaN</td>\n",
       "      <td>NaN</td>\n",
       "      <td>NaN</td>\n",
       "      <td>NaN</td>\n",
       "      <td>NaN</td>\n",
       "      <td>NaN</td>\n",
       "      <td>NaN</td>\n",
       "      <td>19.23</td>\n",
       "      <td>19.48</td>\n",
       "      <td>0.25</td>\n",
       "      <td>1.09</td>\n",
       "      <td>6.69</td>\n",
       "      <td>672.4</td>\n",
       "      <td>700.4</td>\n",
       "      <td>672.4</td>\n",
       "      <td>-0.96</td>\n",
       "      <td>-1.21</td>\n",
       "      <td>6.82</td>\n",
       "      <td>12.42</td>\n",
       "    </tr>\n",
       "    <tr>\n",
       "      <th>2</th>\n",
       "      <td>3</td>\n",
       "      <td>male</td>\n",
       "      <td>31.9</td>\n",
       "      <td>19.14</td>\n",
       "      <td>0</td>\n",
       "      <td>0</td>\n",
       "      <td>NaN</td>\n",
       "      <td>NaN</td>\n",
       "      <td>NaN</td>\n",
       "      <td>NaN</td>\n",
       "      <td>NaN</td>\n",
       "      <td>NaN</td>\n",
       "      <td>NaN</td>\n",
       "      <td>19.60</td>\n",
       "      <td>20.05</td>\n",
       "      <td>0.45</td>\n",
       "      <td>1.29</td>\n",
       "      <td>6.53</td>\n",
       "      <td>628.8</td>\n",
       "      <td>682.6</td>\n",
       "      <td>628.8</td>\n",
       "      <td>-0.46</td>\n",
       "      <td>-0.91</td>\n",
       "      <td>6.15</td>\n",
       "      <td>11.39</td>\n",
       "    </tr>\n",
       "    <tr>\n",
       "      <th>3</th>\n",
       "      <td>4</td>\n",
       "      <td>female</td>\n",
       "      <td>31.6</td>\n",
       "      <td>19.69</td>\n",
       "      <td>0</td>\n",
       "      <td>0</td>\n",
       "      <td>NaN</td>\n",
       "      <td>NaN</td>\n",
       "      <td>NaN</td>\n",
       "      <td>NaN</td>\n",
       "      <td>NaN</td>\n",
       "      <td>NaN</td>\n",
       "      <td>NaN</td>\n",
       "      <td>19.46</td>\n",
       "      <td>19.50</td>\n",
       "      <td>0.05</td>\n",
       "      <td>1.89</td>\n",
       "      <td>8.28</td>\n",
       "      <td>766.6</td>\n",
       "      <td>784.0</td>\n",
       "      <td>766.6</td>\n",
       "      <td>0.23</td>\n",
       "      <td>0.19</td>\n",
       "      <td>6.20</td>\n",
       "      <td>12.59</td>\n",
       "    </tr>\n",
       "    <tr>\n",
       "      <th>4</th>\n",
       "      <td>5</td>\n",
       "      <td>female</td>\n",
       "      <td>33.0</td>\n",
       "      <td>19.52</td>\n",
       "      <td>0</td>\n",
       "      <td>0</td>\n",
       "      <td>NaN</td>\n",
       "      <td>NaN</td>\n",
       "      <td>NaN</td>\n",
       "      <td>NaN</td>\n",
       "      <td>NaN</td>\n",
       "      <td>NaN</td>\n",
       "      <td>NaN</td>\n",
       "      <td>19.21</td>\n",
       "      <td>19.65</td>\n",
       "      <td>0.45</td>\n",
       "      <td>1.30</td>\n",
       "      <td>6.95</td>\n",
       "      <td>678.0</td>\n",
       "      <td>718.0</td>\n",
       "      <td>678.0</td>\n",
       "      <td>0.31</td>\n",
       "      <td>-0.13</td>\n",
       "      <td>5.78</td>\n",
       "      <td>11.43</td>\n",
       "    </tr>\n",
       "  </tbody>\n",
       "</table>\n",
       "</div>"
      ],
      "text/plain": [
       "   id     sex  age (months)  dlmo time  days napped  napping  \\\n",
       "0   1  female          33.7      19.24            0        0   \n",
       "1   2  female          31.5      18.27            0        0   \n",
       "2   3    male          31.9      19.14            0        0   \n",
       "3   4  female          31.6      19.69            0        0   \n",
       "4   5  female          33.0      19.52            0        0   \n",
       "\n",
       "   nap lights outl time  nap sleep onset  nap midsleep  nap sleep offset  \\\n",
       "0                   NaN              NaN           NaN               NaN   \n",
       "1                   NaN              NaN           NaN               NaN   \n",
       "2                   NaN              NaN           NaN               NaN   \n",
       "3                   NaN              NaN           NaN               NaN   \n",
       "4                   NaN              NaN           NaN               NaN   \n",
       "\n",
       "   nap wake time  nap duration  nap time in bed  night bedtime  \\\n",
       "0            NaN           NaN              NaN          20.45   \n",
       "1            NaN           NaN              NaN          19.23   \n",
       "2            NaN           NaN              NaN          19.60   \n",
       "3            NaN           NaN              NaN          19.46   \n",
       "4            NaN           NaN              NaN          19.21   \n",
       "\n",
       "   night sleep onset  sleep onset latency  night midsleep time  \\\n",
       "0              20.68                 0.23                 1.92   \n",
       "1              19.48                 0.25                 1.09   \n",
       "2              20.05                 0.45                 1.29   \n",
       "3              19.50                 0.05                 1.89   \n",
       "4              19.65                 0.45                 1.30   \n",
       "\n",
       "   night wake time  night sleep duration  night time in bed  \\\n",
       "0             7.17                 629.4              643.0   \n",
       "1             6.69                 672.4              700.4   \n",
       "2             6.53                 628.8              682.6   \n",
       "3             8.28                 766.6              784.0   \n",
       "4             6.95                 678.0              718.0   \n",
       "\n",
       "   24 h sleep duration  bedtime phase difference  \\\n",
       "0                629.4                     -1.21   \n",
       "1                672.4                     -0.96   \n",
       "2                628.8                     -0.46   \n",
       "3                766.6                      0.23   \n",
       "4                678.0                      0.31   \n",
       "\n",
       "   sleep onset phase difference  midsleep phase difference  \\\n",
       "0                         -1.44                       6.68   \n",
       "1                         -1.21                       6.82   \n",
       "2                         -0.91                       6.15   \n",
       "3                          0.19                       6.20   \n",
       "4                         -0.13                       5.78   \n",
       "\n",
       "   wake time phase difference  \n",
       "0                       11.93  \n",
       "1                       12.42  \n",
       "2                       11.39  \n",
       "3                       12.59  \n",
       "4                       11.43  "
      ]
     },
     "execution_count": 2,
     "metadata": {},
     "output_type": "execute_result"
    }
   ],
   "source": [
    "df = pd.read_csv(\"nap_no_nap.csv\") \n",
    "df.head(5)"
   ]
  },
  {
   "cell_type": "code",
   "execution_count": 3,
   "id": "a472d80f-89f2-4177-bcd2-131b3a06a009",
   "metadata": {},
   "outputs": [
    {
     "data": {
      "text/plain": [
       "(20, 25)"
      ]
     },
     "execution_count": 3,
     "metadata": {},
     "output_type": "execute_result"
    }
   ],
   "source": [
    "# 0 = no dormilon y 1 = dormilon \n",
    "df.shape"
   ]
  },
  {
   "cell_type": "markdown",
   "id": "722a5fc0-d0d2-42df-b7bd-13067ca8862d",
   "metadata": {},
   "source": [
    "## Pruebas de hipótesis\n",
    "Veremos dos pruebas de hipótesis, cada una con $\\alpha = .05$:\n",
    "\n",
    "\n",
    "1. ¿La hora promedio de acostarse para los niños pequeños que toman siesta es más tarde que la hora promedio de acostarse para los niños pequeños que no toman siesta?\n",
    "\n",
    "\n",
    "$$H_0: \\mu_{siesta}=\\mu_{no\\ siesta}, \\ H_a:\\mu_{siesta}>\\mu_{no\\ siesta}$$\n",
    "O equivalente:\n",
    "$$H_0: \\mu_{siesta}-\\mu_{sin\\ siesta}=0, \\ H_a:\\mu_{siesta}-\\mu_{sin\\ siesta}>0$$\n",
    "\n",
    "\n",
    "2. La duración promedio del sueño de 24 horas (en minutos) para los niños pequeños que duermen la siesta es diferente de la de los niños pequeños que no duermen la siesta.\n",
    "\n",
    "\n",
    "$$H_0: \\mu_{siesta}=\\mu_{no\\ siesta}, \\ H_a:\\mu_{siesta}\\neq\\mu_{no\\ siesta}$$\n",
    "O equivalente:\n",
    "$$H_0: \\mu_{siesta}-\\mu_{sin\\ siesta}=0, \\ H_a:\\mu_{siesta}-\\mu_{sin\\ siesta} \\neq 0$$"
   ]
  },
  {
   "cell_type": "markdown",
   "id": "9b4b87f7-a058-495f-85a0-b3da816d0f60",
   "metadata": {},
   "source": [
    "Primero aísle la \"hora de acostarse\" en dos variables: una para los niños pequeños que duermen la siesta y otra para los niños pequeños que no duermen la siesta."
   ]
  },
  {
   "cell_type": "code",
   "execution_count": 4,
   "id": "b9b3488f-1d40-448e-9572-789a30f0b6ff",
   "metadata": {},
   "outputs": [
    {
     "data": {
      "text/plain": [
       "Index(['id', 'sex', 'age (months)', 'dlmo time', 'days napped', 'napping',\n",
       "       'nap lights outl time', 'nap sleep onset', 'nap midsleep',\n",
       "       'nap sleep offset', 'nap wake time', 'nap duration', 'nap time in bed',\n",
       "       'night bedtime', 'night sleep onset', 'sleep onset latency',\n",
       "       'night midsleep time', 'night wake time', 'night sleep duration',\n",
       "       'night time in bed', '24 h sleep duration', 'bedtime phase difference',\n",
       "       'sleep onset phase difference', 'midsleep phase difference',\n",
       "       'wake time phase difference'],\n",
       "      dtype='object')"
      ]
     },
     "execution_count": 4,
     "metadata": {},
     "output_type": "execute_result"
    }
   ],
   "source": [
    "df.columns"
   ]
  },
  {
   "cell_type": "code",
   "execution_count": 9,
   "id": "5005fec7-be58-49cc-b939-4f4f9eba7330",
   "metadata": {},
   "outputs": [
    {
     "data": {
      "text/plain": [
       "15"
      ]
     },
     "execution_count": 9,
     "metadata": {},
     "output_type": "execute_result"
    }
   ],
   "source": [
    "nap_bedtime = df.loc[df.napping==1,[\"night bedtime\"]]\n",
    "nap_bedtime.size"
   ]
  },
  {
   "cell_type": "code",
   "execution_count": 10,
   "id": "c8676221-6ff5-4f84-92ec-ab623d0a4a1f",
   "metadata": {},
   "outputs": [
    {
     "data": {
      "text/plain": [
       "5"
      ]
     },
     "execution_count": 10,
     "metadata": {},
     "output_type": "execute_result"
    }
   ],
   "source": [
    "no_nap_bedtime = df.loc[df.napping==0,[\"night bedtime\"]]\n",
    "no_nap_bedtime.size"
   ]
  },
  {
   "cell_type": "markdown",
   "id": "8ac1a6fc-3535-4860-a61b-b740e5446d09",
   "metadata": {},
   "source": [
    "Ahora encuentre la hora de acostarse promedio de muestra para nap y no_nap."
   ]
  },
  {
   "cell_type": "code",
   "execution_count": 11,
   "id": "a420507e-4b6b-4946-a49f-429819c4522a",
   "metadata": {},
   "outputs": [
    {
     "data": {
      "text/plain": [
       "array([20.304])"
      ]
     },
     "execution_count": 11,
     "metadata": {},
     "output_type": "execute_result"
    }
   ],
   "source": [
    "nap_mean_bedtime = nap_bedtime.mean().values\n",
    "no_nap_mean_bedtime = no_nap_bedtime.mean().values\n",
    "nap_mean_bedtime"
   ]
  },
  {
   "cell_type": "markdown",
   "id": "fce65b49-bdc8-4646-acce-87d5ddf1626b",
   "metadata": {},
   "source": [
    "Pregunta: ¿Cuál es la diferencia muestral de la hora media de acostarse para los que duermen la siesta menos los que no duermen la siesta?"
   ]
  },
  {
   "cell_type": "code",
   "execution_count": 13,
   "id": "ec8ec8ee-2db7-47af-88f4-d7848d7f59c4",
   "metadata": {},
   "outputs": [
    {
     "data": {
      "text/plain": [
       "array([0.714])"
      ]
     },
     "execution_count": 13,
     "metadata": {},
     "output_type": "execute_result"
    }
   ],
   "source": [
    "mean_bedtime_diff = nap_mean_bedtime - no_nap_mean_bedtime\n",
    "mean_bedtime_diff"
   ]
  },
  {
   "cell_type": "markdown",
   "id": "579664ad-d892-4367-ac78-ff6382f44916",
   "metadata": {},
   "source": [
    "Pregunta: ¿Cuál es la diferencia muestral de la hora media de acostarse para los que duermen la siesta menos los que no duermen la siesta? Ahora encuentre la desviación estándar de la muestra para $X_{siesta}$ y $X_{no\\ siesta}$."
   ]
  },
  {
   "cell_type": "code",
   "execution_count": 14,
   "id": "40b7056b-e8b6-403c-8832-f401a7adcc40",
   "metadata": {},
   "outputs": [
    {
     "data": {
      "text/plain": [
       "(array([0.591062]), array([0.591062]))"
      ]
     },
     "execution_count": 14,
     "metadata": {},
     "output_type": "execute_result"
    }
   ],
   "source": [
    "nap_s_bedtime = nap_bedtime.std(ddof=1).values\n",
    "no_nap_s_bedtime = nap_bedtime.std(ddof=1).values\n",
    "(nap_s_bedtime, no_nap_s_bedtime)"
   ]
  },
  {
   "cell_type": "markdown",
   "id": "7a3c4edc-1be6-42a0-b36d-eada71e0f4dc",
   "metadata": {},
   "source": [
    "Pregunta: ¿Cuál es la diferencia muestral de la hora media de acostarse para los que duermen la siesta menos los que no duermen la siesta? Ahora encuentre la desviación estándar de la muestra para $X_{siesta}$ y $X_{no\\siesta}$.# La función np.std se puede usar para encontrar la desviación estándar. El\n",
    "#### El parámetro ddof debe establecerse en 1 para obtener la desviación estándar de la muestra.\n",
    "#### Si no es así, utilizará la desviación estándar de la población que\n",
    "#### no es el estimador correcto**Pregunta**: ¿Cuál es el s.e.$(\\bar{X}_{nap} - \\bar{X}_{no\\ nap})$?\n",
    "\n",
    "Esperamos que la variación en el tiempo de sueño de los niños pequeños que duermen la siesta y los niños pequeños que no duermen la siesta sea la misma. Así que usamos un error estándar combinado.\n",
    "\n",
    "Calcule el error estándar combinado de $\\bar{X}_{nap} - \\bar{X}_{no\\ nap}$ usando la fórmula a continuación.\n",
    "\n",
    "$s.e.(\\bar{X}_{siesta} - \\bar{X}_{no\\ siesta}) = \\sqrt{\\frac{(n_1-1)s_1^2 + (n_2-1)s_2^2} {n_1+n_2-2}(\\frac{1}{n_1}+\\frac{1}{n_2})}$"
   ]
  },
  {
   "cell_type": "code",
   "execution_count": 15,
   "id": "9cb6c6d2-ba0d-45da-a1f1-13aad23afa77",
   "metadata": {},
   "outputs": [
    {
     "data": {
      "text/plain": [
       "array([0.3052231])"
      ]
     },
     "execution_count": 15,
     "metadata": {},
     "output_type": "execute_result"
    }
   ],
   "source": [
    "pooled_se = np.sqrt(((nap_bedtime.size - 1)*nap_s_bedtime**2 +(no_nap_bedtime.size-1)*no_nap_s_bedtime**2)/(nap_bedtime.size + no_nap_bedtime.size - 2) * (1/nap_bedtime.size + 1/no_nap_bedtime.size))\n",
    "pooled_se"
   ]
  },
  {
   "cell_type": "markdown",
   "id": "bf32748e-037e-44cb-9460-0f10f3ef3cb2",
   "metadata": {},
   "source": [
    "**Pregunta**: Dado nuestro tamaño de muestra de $n$, ¿cuántos grados de libertad ($df$) hay para la distribución asociada de $t$?\n",
    "\n",
    "**RTA** Es n (20) - 2 = 18"
   ]
  },
  {
   "cell_type": "markdown",
   "id": "c565de09-b291-4505-b2ee-8b22fdcc318d",
   "metadata": {},
   "source": [
    "Ahora calcula la t\n",
    "  -Estadístico de prueba para nuestra primera prueba de hipótesis usando\n",
    "\n",
    "s.e. agrupados( X¯nap−X¯no nap\n",
    "  )\n",
    "X¯siesta−X¯no siesta\n",
    " \n",
    "μ0, siesta−μ0, sin siesta=0\n",
    "  , la diferencia de medias de la población bajo la hipótesis nula"
   ]
  },
  {
   "cell_type": "code",
   "execution_count": 16,
   "id": "317baf0a-f157-4b74-83c1-03cc487da329",
   "metadata": {},
   "outputs": [],
   "source": [
    "tstat = (nap_mean_bedtime - no_nap_mean_bedtime) / pooled_se\n"
   ]
  },
  {
   "cell_type": "markdown",
   "id": "816ab546-3386-4120-91bf-f45cf7a0bc85",
   "metadata": {},
   "source": [
    "**Pregunta**: ¿Cuál es el valor p para la primera prueba de hipótesis?"
   ]
  },
  {
   "cell_type": "code",
   "execution_count": 17,
   "id": "3caf190d-a3f7-4a6e-a4c7-4e6059a1b5b8",
   "metadata": {},
   "outputs": [
    {
     "name": "stdout",
     "output_type": "stream",
     "text": [
      "[0.01932134]\n",
      "[0.03105167]\n"
     ]
    }
   ],
   "source": [
    "print(2 * (norm.cdf(-abs(tstat))))\n",
    "print( 2 * t.sf(np.abs(tstat), df=18))\n"
   ]
  },
  {
   "cell_type": "code",
   "execution_count": 18,
   "id": "6c8420f2-6260-45a1-80f4-dee3eff27305",
   "metadata": {},
   "outputs": [],
   "source": [
    "pvalue1 = 2*(1 - t.cdf(tstat, df=18))"
   ]
  },
  {
   "cell_type": "markdown",
   "id": "f0911f3d-b95d-43dd-b236-64537c9e9826",
   "metadata": {},
   "source": [
    "Para obtener una discusión sobre las funciones de densidad de probabilidad (PDF) y las funciones de distribución acumulativa (CDF), consulte:\n",
    "\n",
    "https://integratedmlai.com/normal-distribution-an-introductory-guide-to-pdf-and-cdf/\n",
    "\n",
    "Para encontrar el valor p, podemos usar la CDF para la distribución t:\n",
    "```\n",
    "t.cdf(tstat, df)\n",
    "```\n",
    "Que para $X \\sim t(df)$ devuelve $P(X \\leq tstat)$.\n",
    "\n",
    "Debido a la simetría de la distribución $t$, tenemos que\n",
    "```\n",
    "1 - t.cdf(tstat, df)\n",
    "```\n",
    "devuelve $P(X > tstat)$\n",
    "\n",
    "La función `t.cdf(tstat, df)` le dará el mismo valor que encontrar la probabilidad de una cola de `tstat` en una tabla t con los grados de libertad especificados.\n",
    "\n",
    "Utilice la función `t.cdf(tstat, df)` para encontrar el valor p para la primera prueba de hipótesis."
   ]
  },
  {
   "cell_type": "markdown",
   "id": "a742a6ed-4d19-44ac-af0b-b659f1f22699",
   "metadata": {},
   "source": [
    "**Pregunta**: ¿Cuáles son el estadístico t y el valor p para la segunda prueba de hipótesis?\n",
    "\n",
    "Calcule las estadísticas de prueba $t$ y el valor p correspondiente usando la función `scipy` `scipy.stats.ttest_ind(a, b, equal_var=True)` y verifique con su respuesta."
   ]
  },
  {
   "cell_type": "code",
   "execution_count": 19,
   "id": "9312f293-97fe-4068-b818-1d400f8e95d7",
   "metadata": {},
   "outputs": [
    {
     "data": {
      "text/plain": [
       "Ttest_indResult(statistic=array([2.41063818]), pvalue=array([0.02683408]))"
      ]
     },
     "execution_count": 19,
     "metadata": {},
     "output_type": "execute_result"
    }
   ],
   "source": [
    "from scipy.stats import ttest_ind\n",
    "\n",
    "ttest_ind(nap_bedtime, no_nap_bedtime)"
   ]
  },
  {
   "cell_type": "code",
   "execution_count": 20,
   "id": "e1eff242-56ed-4114-a8cc-95c7edc1b627",
   "metadata": {},
   "outputs": [
    {
     "data": {
      "text/plain": [
       "Index(['id', 'sex', 'age (months)', 'dlmo time', 'days napped', 'napping',\n",
       "       'nap lights outl time', 'nap sleep onset', 'nap midsleep',\n",
       "       'nap sleep offset', 'nap wake time', 'nap duration', 'nap time in bed',\n",
       "       'night bedtime', 'night sleep onset', 'sleep onset latency',\n",
       "       'night midsleep time', 'night wake time', 'night sleep duration',\n",
       "       'night time in bed', '24 h sleep duration', 'bedtime phase difference',\n",
       "       'sleep onset phase difference', 'midsleep phase difference',\n",
       "       'wake time phase difference'],\n",
       "      dtype='object')"
      ]
     },
     "execution_count": 20,
     "metadata": {},
     "output_type": "execute_result"
    }
   ],
   "source": [
    "# buscando la variable de la segunda hipotesis \n",
    "\n",
    "df.columns"
   ]
  },
  {
   "cell_type": "code",
   "execution_count": 21,
   "id": "291d01a5-3580-41a1-802c-de386a913f42",
   "metadata": {},
   "outputs": [
    {
     "data": {
      "text/plain": [
       "Ttest_indResult(statistic=array([1.48112482]), pvalue=array([0.1558665]))"
      ]
     },
     "execution_count": 21,
     "metadata": {},
     "output_type": "execute_result"
    }
   ],
   "source": [
    "nap_bedtime = df.loc[df.napping==1,[\"24 h sleep duration\"]]\n",
    "no_nap_bedtime = df.loc[df.napping==0,[\"24 h sleep duration\"]]\n",
    "ttest_ind(nap_bedtime, no_nap_bedtime, equal_var=True)"
   ]
  },
  {
   "cell_type": "markdown",
   "id": "3a32367c-53b3-4c74-94f1-a0052c64c7b9",
   "metadata": {},
   "source": [
    "**Pregunta**: ¿`scipy.stats.ttest_ind` devuelve valores para una prueba unilateral o bilateral?"
   ]
  },
  {
   "cell_type": "code",
   "execution_count": 22,
   "id": "b40fa784-f232-4933-8735-4d9fe442232c",
   "metadata": {},
   "outputs": [],
   "source": [
    "# help(ttest_ind)\n",
    "\n",
    "# Bilateral, alternative='two-sided' o DOS COLAS "
   ]
  },
  {
   "cell_type": "markdown",
   "id": "cf6f4223-5584-4605-8ac9-5850b3dd6b08",
   "metadata": {},
   "source": [
    "**Pregunta**: ¿Puedes pensar en una forma de recuperar los resultados que obtuviste usando `1-t.cdf` del valor p dado por `scipy.stats.ttest_ind`?\n",
    "\n",
    "Utilice la función `scipy` `scipy.stats.ttest_ind(a, b, equal_var=True)` para encontrar la estadística de prueba $t$ y el valor p correspondiente para la segunda prueba de hipótesis."
   ]
  },
  {
   "cell_type": "code",
   "execution_count": 23,
   "id": "1acbce5a-c9be-47b6-b31f-62a0bba00105",
   "metadata": {},
   "outputs": [
    {
     "data": {
      "text/plain": [
       "array([0.07793325])"
      ]
     },
     "execution_count": 23,
     "metadata": {},
     "output_type": "execute_result"
    }
   ],
   "source": [
    "t, pvalue2 = ttest_ind(nap_bedtime, no_nap_bedtime, equal_var=True) \n",
    "pvalue2/2"
   ]
  },
  {
   "cell_type": "markdown",
   "id": "e1b71245-6d40-4750-9486-4e5c54dc7987",
   "metadata": {},
   "source": [
    "**Pregunta**: Para $\\alpha=.05$, ¿rechaza o no rechaza la primera hipótesis? ¿La hora promedio de acostarse para los niños pequeños que toman siesta es más tarde que la hora promedio de acostarse para los niños pequeños que no toman siesta?\n",
    "\n",
    "**Pregunta**: Para $\\alpha=.05$, ¿rechaza o no rechaza la segunda hipótesis? La duración promedio del sueño de 24 horas (en minutos) para los niños pequeños que duermen la siesta es diferente de la de los niños pequeños que no duermen la siesta."
   ]
  },
  {
   "cell_type": "code",
   "execution_count": 25,
   "id": "7be48072-3889-4580-8028-ce0462d2836e",
   "metadata": {},
   "outputs": [
    {
     "data": {
      "text/plain": [
       "(array([0.03105167]), array([0.1558665]))"
      ]
     },
     "execution_count": 25,
     "metadata": {},
     "output_type": "execute_result"
    }
   ],
   "source": [
    "(pvalue1, pvalue2)"
   ]
  },
  {
   "cell_type": "markdown",
   "id": "fdb9ae7f-8146-427e-9f01-67122751ffa2",
   "metadata": {},
   "source": [
    "Para la primera hipótesis, se encontró evidencia estadística significativa para rechazar la hipótesis nula y aceptar la hipótesis alternativa de que existe una diferencia en la hora promedio de acostarse entre los niños que toman siesta y aquellos que no la toman. Concretamente, se observó que los niños que toman siesta se acuestan más tarde en promedio que los que no toman siesta.\n",
    "\n",
    "En cuanto a la segunda hipótesis, no se encontraron pruebas estadísticas suficientes para rechazar la hipótesis nula. Por lo tanto, no se puede concluir que exista una diferencia en la duración del sueño de 24 horas entre los niños que toman siesta y los que no la toman."
   ]
  },
  {
   "cell_type": "code",
   "execution_count": 28,
   "id": "77a70630-7801-476c-b50f-4431f05c8a73",
   "metadata": {},
   "outputs": [
    {
     "data": {
      "text/plain": [
       "10"
      ]
     },
     "execution_count": 28,
     "metadata": {},
     "output_type": "execute_result"
    }
   ],
   "source": [
    "nap_bedtime = df.loc[df.napping==1,[\"night bedtime\",\"24 h sleep duration\"]]\n",
    "nap_bedtime.size\n",
    "no_nap_bedtime = df.loc[df.napping==0,[\"night bedtime\",\"24 h sleep duration\"]]\n",
    "no_nap_bedtime.size"
   ]
  },
  {
   "cell_type": "code",
   "execution_count": 29,
   "id": "886608e8-edb8-4fe5-b90b-02195a4b303c",
   "metadata": {},
   "outputs": [
    {
     "data": {
      "text/html": [
       "<div>\n",
       "<style scoped>\n",
       "    .dataframe tbody tr th:only-of-type {\n",
       "        vertical-align: middle;\n",
       "    }\n",
       "\n",
       "    .dataframe tbody tr th {\n",
       "        vertical-align: top;\n",
       "    }\n",
       "\n",
       "    .dataframe thead th {\n",
       "        text-align: right;\n",
       "    }\n",
       "</style>\n",
       "<table border=\"1\" class=\"dataframe\">\n",
       "  <thead>\n",
       "    <tr style=\"text-align: right;\">\n",
       "      <th></th>\n",
       "      <th>night bedtime</th>\n",
       "      <th>24 h sleep duration</th>\n",
       "    </tr>\n",
       "  </thead>\n",
       "  <tbody>\n",
       "    <tr>\n",
       "      <th>0</th>\n",
       "      <td>20.45</td>\n",
       "      <td>629.4</td>\n",
       "    </tr>\n",
       "    <tr>\n",
       "      <th>1</th>\n",
       "      <td>19.23</td>\n",
       "      <td>672.4</td>\n",
       "    </tr>\n",
       "    <tr>\n",
       "      <th>2</th>\n",
       "      <td>19.60</td>\n",
       "      <td>628.8</td>\n",
       "    </tr>\n",
       "    <tr>\n",
       "      <th>3</th>\n",
       "      <td>19.46</td>\n",
       "      <td>766.6</td>\n",
       "    </tr>\n",
       "    <tr>\n",
       "      <th>4</th>\n",
       "      <td>19.21</td>\n",
       "      <td>678.0</td>\n",
       "    </tr>\n",
       "  </tbody>\n",
       "</table>\n",
       "</div>"
      ],
      "text/plain": [
       "   night bedtime  24 h sleep duration\n",
       "0          20.45                629.4\n",
       "1          19.23                672.4\n",
       "2          19.60                628.8\n",
       "3          19.46                766.6\n",
       "4          19.21                678.0"
      ]
     },
     "execution_count": 29,
     "metadata": {},
     "output_type": "execute_result"
    }
   ],
   "source": [
    "no_nap_bedtime"
   ]
  },
  {
   "cell_type": "code",
   "execution_count": 42,
   "id": "8545185f-ceac-41e9-ae6e-e2a1c1e87783",
   "metadata": {},
   "outputs": [
    {
     "name": "stdout",
     "output_type": "stream",
     "text": [
      "h1 Ttest_indResult(statistic=-2.4106381824626966, pvalue=0.026834082877686044)\n",
      "h2 Ttest_indResult(statistic=-1.4811248223284985, pvalue=0.1558664953018476)\n"
     ]
    }
   ],
   "source": [
    "print(\"h1\",ttest_ind(no_nap_bedtime[\"night bedtime\"],nap_bedtime[\"night bedtime\"], equal_var=True) )\n",
    "print(\"h2\",ttest_ind(no_nap_bedtime[\"24 h sleep duration\"],nap_bedtime[\"24 h sleep duration\"], equal_var=True) )"
   ]
  },
  {
   "cell_type": "code",
   "execution_count": 45,
   "id": "70142154-f0bb-4620-bae0-1cffa70570cc",
   "metadata": {},
   "outputs": [
    {
     "data": {
      "text/plain": [
       "0.013417041438843022"
      ]
     },
     "execution_count": 45,
     "metadata": {},
     "output_type": "execute_result"
    }
   ],
   "source": [
    "_,p=ttest_ind(no_nap_bedtime[\"night bedtime\"],nap_bedtime[\"night bedtime\"], equal_var=True)\n",
    "p/2"
   ]
  },
  {
   "cell_type": "code",
   "execution_count": null,
   "id": "bfb2c753-57a7-4076-9786-fc2a00e7a54b",
   "metadata": {},
   "outputs": [],
   "source": []
  },
  {
   "cell_type": "code",
   "execution_count": 44,
   "id": "13a02500-8aa2-49d3-bc95-944d73376c80",
   "metadata": {},
   "outputs": [
    {
     "ename": "TypeError",
     "evalue": "ttest_ind() missing 1 required positional argument: 'b'",
     "output_type": "error",
     "traceback": [
      "\u001b[0;31m---------------------------------------------------------------------------\u001b[0m",
      "\u001b[0;31mTypeError\u001b[0m                                 Traceback (most recent call last)",
      "\u001b[0;32m/tmp/ipykernel_11863/2358677358.py\u001b[0m in \u001b[0;36m<module>\u001b[0;34m\u001b[0m\n\u001b[1;32m      4\u001b[0m \u001b[0mno_nap_bedtime\u001b[0m \u001b[0;34m=\u001b[0m \u001b[0mdf\u001b[0m\u001b[0;34m[\u001b[0m\u001b[0mdf\u001b[0m\u001b[0;34m[\u001b[0m\u001b[0;34m'napping'\u001b[0m\u001b[0;34m]\u001b[0m\u001b[0;34m==\u001b[0m\u001b[0;36m0\u001b[0m\u001b[0;34m]\u001b[0m\u001b[0;34m\u001b[0m\u001b[0;34m\u001b[0m\u001b[0m\n\u001b[1;32m      5\u001b[0m \u001b[0;34m\u001b[0m\u001b[0m\n\u001b[0;32m----> 6\u001b[0;31m \u001b[0mt_stat\u001b[0m\u001b[0;34m,\u001b[0m \u001b[0mp_value\u001b[0m \u001b[0;34m=\u001b[0m \u001b[0mttest_ind\u001b[0m\u001b[0;34m(\u001b[0m\u001b[0mno_nap_bedtime\u001b[0m\u001b[0;34m[\u001b[0m\u001b[0;34m'night bedtime'\u001b[0m\u001b[0;34m]\u001b[0m\u001b[0;34m,\u001b[0m \u001b[0mequal_var\u001b[0m\u001b[0;34m=\u001b[0m\u001b[0;32mTrue\u001b[0m\u001b[0;34m)\u001b[0m\u001b[0;34m\u001b[0m\u001b[0;34m\u001b[0m\u001b[0m\n\u001b[0m\u001b[1;32m      7\u001b[0m \u001b[0mprint\u001b[0m\u001b[0;34m(\u001b[0m\u001b[0;34mf\"p-value: {p_value:.4f}\"\u001b[0m\u001b[0;34m)\u001b[0m\u001b[0;34m\u001b[0m\u001b[0;34m\u001b[0m\u001b[0m\n",
      "\u001b[0;31mTypeError\u001b[0m: ttest_ind() missing 1 required positional argument: 'b'"
     ]
    }
   ],
   "source": [
    "from scipy.stats import ttest_ind\n",
    "\n",
    "nap_bedtime = df[df['napping']==1]\n",
    "no_nap_bedtime = df[df['napping']==0]\n",
    "\n",
    "t_stat, p_value = ttest_ind(no_nap_bedtime['night bedtime'], equal_var=True)\n",
    "print(f\"p-value: {p_value:.4f}\")\n"
   ]
  },
  {
   "cell_type": "code",
   "execution_count": 41,
   "id": "2b5038b1-aa5b-4484-90b2-cfa0d6bf9be7",
   "metadata": {},
   "outputs": [
    {
     "name": "stdout",
     "output_type": "stream",
     "text": [
      "0.01595252052146745\n"
     ]
    }
   ],
   "source": [
    "print(2 * (norm.cdf(-abs(2.41))))"
   ]
  },
  {
   "cell_type": "code",
   "execution_count": null,
   "id": "1139ec47-540a-4025-8156-5c1366797254",
   "metadata": {},
   "outputs": [],
   "source": []
  }
 ],
 "metadata": {
  "kernelspec": {
   "display_name": "Python 3 (ipykernel)",
   "language": "python",
   "name": "python3"
  },
  "language_info": {
   "codemirror_mode": {
    "name": "ipython",
    "version": 3
   },
   "file_extension": ".py",
   "mimetype": "text/x-python",
   "name": "python",
   "nbconvert_exporter": "python",
   "pygments_lexer": "ipython3",
   "version": "3.9.13"
  },
  "toc-showtags": false
 },
 "nbformat": 4,
 "nbformat_minor": 5
}
