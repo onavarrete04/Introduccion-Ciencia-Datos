{
 "cells": [
  {
   "cell_type": "markdown",
   "id": "4cb09ee7",
   "metadata": {},
   "source": [
    "## Que es la Inteligencia Artificial.\n",
    "\n",
    "\n",
    "La Inteligencia Artificial (IA) intenta dotar a una máquina de las capacidades humanas de percepción, razonamiento, comunicación, acción y aprendizaje, asociadas a la inteligencia natural. De esta forma, el aprendizaje automático es un área o disciplina de la Inteligencia Artificial.\n",
    "\n",
    "### Aprendizaje Automatico\n",
    "\n",
    "__Supervisado__\n",
    "\n",
    "Es un tipo de aprendizaje automático que utiliza conjuntos de datos estructurados y etiquetados para entrenar los modelos y predecir los resultados con precisión. En este tipo, el usuario ya conoce el tipo de resultado que se necesita de los datos. Contiene las variables independientes que se utilizan para el entrenamiento del modelo y la variable dependiente es el resultado que se va a predecir a partir de los datos. El modelo de Machine Learning aprende de las variables independientes y en base a ellas se realiza la predicción futura.\n",
    "\n",
    "El aprendizaje supervisado se clasifica en las siguientes dos categorías:\n",
    "\n",
    "Regresión: se usa cuando la salida es un valor continuo o real, como el precio de un automóvil o el peso de una persona, etc.\n",
    "Clasificación: La clasificación se utiliza cuando la variable dependiente es un valor discreto como \"spam\" o \"no spam\" y \"masculino\" o \"femenino\", etc.\n",
    "Los diferentes algoritmos supervisados ​​son regresión lineal, regresión logística, K-Nearest Neighbours, Decision Trees y SVM (Support Vector Machines), etc.\n",
    "\n",
    "Las aplicaciones del mundo real del aprendizaje supervisado son las siguientes:\n",
    "\n",
    "Predicción de precios\n",
    "Filtrado de correo no deseado\n",
    "Detección de rostro\n",
    "Reconocimiento de voz\n",
    "Clasificación de imágenes\n",
    "Traducción de idiomas, etc\n",
    "\n",
    "__No supervisado__\n",
    "\n",
    "Es un tipo de aprendizaje automático que utiliza conjuntos de datos no estructurados y sin etiquetar. Se utiliza para descubrir patrones ocultos en los datos sin supervisión humana. En esto, se desconoce la variable dependiente o objetivo, lo que significa que el resultado de los datos no se conoce en la fase inicial. La máquina misma descubre los patrones y da la salida correspondiente.\n",
    "\n",
    "El aprendizaje no supervisado tiene tres enfoques comunes que son los siguientes:\n",
    "\n",
    "Clustering: Es una técnica que agrupa o forma clusters de datos no etiquetados según las similitudes o diferencias en las propiedades de los datos.\n",
    "Reglas de Asociación: Es una técnica basada en reglas que encuentra las relaciones entre las diferentes variables del conjunto de datos. Generalmente se utiliza en el análisis de la cesta de la compra.\n",
    "Reducción de dimensionalidad: es una técnica que se utiliza para reducir el número de dimensiones o características en un conjunto de datos para que no resulte en un sobreajuste.\n",
    "Los diferentes algoritmos de aprendizaje no supervisado son K-Means Clustering, K-Nearest Neighbours, Hierarchical Clustering, Principle Component Analysis y Anomaly Detection, etc.\n",
    "\n",
    "Las aplicaciones del mundo real del aprendizaje no supervisado son las siguientes:\n",
    "\n",
    "Sistemas de recomendación\n",
    "Segmentación de productos\n",
    "Secciones de Noticias\n",
    "Visión por computador\n",
    "Segmentación de clientes, etc."
   ]
  },
  {
   "cell_type": "code",
   "execution_count": 1,
   "id": "946d9fa1",
   "metadata": {},
   "outputs": [
    {
     "data": {
      "text/html": [
       "<div>\n",
       "<style scoped>\n",
       "    .dataframe tbody tr th:only-of-type {\n",
       "        vertical-align: middle;\n",
       "    }\n",
       "\n",
       "    .dataframe tbody tr th {\n",
       "        vertical-align: top;\n",
       "    }\n",
       "\n",
       "    .dataframe thead th {\n",
       "        text-align: right;\n",
       "    }\n",
       "</style>\n",
       "<table border=\"1\" class=\"dataframe\">\n",
       "  <thead>\n",
       "    <tr style=\"text-align: right;\">\n",
       "      <th></th>\n",
       "      <th>numero_cuartos</th>\n",
       "      <th>numero_baños</th>\n",
       "      <th>area_de_ construcción_pie2</th>\n",
       "      <th>area_del lote_pie2</th>\n",
       "      <th>numero_pisos</th>\n",
       "      <th>condición</th>\n",
       "      <th>grado</th>\n",
       "      <th>superficie_sótano_pie2</th>\n",
       "      <th>año_de_construcción</th>\n",
       "      <th>precio</th>\n",
       "    </tr>\n",
       "  </thead>\n",
       "  <tbody>\n",
       "    <tr>\n",
       "      <th>0</th>\n",
       "      <td>3</td>\n",
       "      <td>1</td>\n",
       "      <td>1180</td>\n",
       "      <td>5650</td>\n",
       "      <td>1</td>\n",
       "      <td>3</td>\n",
       "      <td>7</td>\n",
       "      <td>0</td>\n",
       "      <td>1955</td>\n",
       "      <td>221900</td>\n",
       "    </tr>\n",
       "    <tr>\n",
       "      <th>1</th>\n",
       "      <td>2</td>\n",
       "      <td>1</td>\n",
       "      <td>770</td>\n",
       "      <td>10000</td>\n",
       "      <td>1</td>\n",
       "      <td>3</td>\n",
       "      <td>6</td>\n",
       "      <td>0</td>\n",
       "      <td>1933</td>\n",
       "      <td>180000</td>\n",
       "    </tr>\n",
       "    <tr>\n",
       "      <th>2</th>\n",
       "      <td>4</td>\n",
       "      <td>3</td>\n",
       "      <td>1960</td>\n",
       "      <td>5000</td>\n",
       "      <td>1</td>\n",
       "      <td>5</td>\n",
       "      <td>7</td>\n",
       "      <td>910</td>\n",
       "      <td>1965</td>\n",
       "      <td>604000</td>\n",
       "    </tr>\n",
       "  </tbody>\n",
       "</table>\n",
       "</div>"
      ],
      "text/plain": [
       "   numero_cuartos  numero_baños  area_de_ construcción_pie2  \\\n",
       "0               3             1                        1180   \n",
       "1               2             1                         770   \n",
       "2               4             3                        1960   \n",
       "\n",
       "   area_del lote_pie2  numero_pisos  condición  grado  superficie_sótano_pie2  \\\n",
       "0                5650             1          3      7                       0   \n",
       "1               10000             1          3      6                       0   \n",
       "2                5000             1          5      7                     910   \n",
       "\n",
       "   año_de_construcción  precio  \n",
       "0                 1955  221900  \n",
       "1                 1933  180000  \n",
       "2                 1965  604000  "
      ]
     },
     "execution_count": 1,
     "metadata": {},
     "output_type": "execute_result"
    }
   ],
   "source": [
    "import pandas as pd\n",
    "import numpy as np\n",
    "import matplotlib.pyplot as plt\n",
    "import seaborn as sns\n",
    "\n",
    "datos = pd.read_csv(\"venta_inmuebles_data.csv\")\n",
    "datos.head(3)"
   ]
  },
  {
   "cell_type": "code",
   "execution_count": 2,
   "id": "719e6b81",
   "metadata": {},
   "outputs": [
    {
     "data": {
      "text/plain": [
       "(5466, 10)"
      ]
     },
     "execution_count": 2,
     "metadata": {},
     "output_type": "execute_result"
    }
   ],
   "source": [
    "datos.shape"
   ]
  },
  {
   "cell_type": "markdown",
   "id": "2458c7cf",
   "metadata": {},
   "source": [
    "Existen 10 columnas y entre ellas existen 5466 datos, pero también podemos ver si existen datos nulos.\n"
   ]
  },
  {
   "cell_type": "code",
   "execution_count": 3,
   "id": "4d9848af",
   "metadata": {},
   "outputs": [
    {
     "data": {
      "text/plain": [
       "numero_cuartos                0\n",
       "numero_baños                  0\n",
       "area_de_ construcción_pie2    0\n",
       "area_del lote_pie2            0\n",
       "numero_pisos                  0\n",
       "condición                     0\n",
       "grado                         0\n",
       "superficie_sótano_pie2        0\n",
       "año_de_construcción           0\n",
       "precio                        0\n",
       "dtype: int64"
      ]
     },
     "execution_count": 3,
     "metadata": {},
     "output_type": "execute_result"
    }
   ],
   "source": [
    "datos.isnull().sum()"
   ]
  },
  {
   "cell_type": "markdown",
   "id": "675809a5",
   "metadata": {},
   "source": [
    "Como podemos ver no existen datos faltantes, esto se debe a que es un ejercicio academico y se han arreglado los datos antes de arreglar. "
   ]
  },
  {
   "cell_type": "code",
   "execution_count": 4,
   "id": "46d81c95",
   "metadata": {},
   "outputs": [
    {
     "data": {
      "text/html": [
       "<div>\n",
       "<style scoped>\n",
       "    .dataframe tbody tr th:only-of-type {\n",
       "        vertical-align: middle;\n",
       "    }\n",
       "\n",
       "    .dataframe tbody tr th {\n",
       "        vertical-align: top;\n",
       "    }\n",
       "\n",
       "    .dataframe thead th {\n",
       "        text-align: right;\n",
       "    }\n",
       "</style>\n",
       "<table border=\"1\" class=\"dataframe\">\n",
       "  <thead>\n",
       "    <tr style=\"text-align: right;\">\n",
       "      <th></th>\n",
       "      <th>numero_cuartos</th>\n",
       "      <th>numero_baños</th>\n",
       "      <th>area_de_ construcción_pie2</th>\n",
       "      <th>area_del lote_pie2</th>\n",
       "      <th>numero_pisos</th>\n",
       "      <th>condición</th>\n",
       "      <th>grado</th>\n",
       "      <th>superficie_sótano_pie2</th>\n",
       "      <th>año_de_construcción</th>\n",
       "      <th>precio</th>\n",
       "    </tr>\n",
       "  </thead>\n",
       "  <tbody>\n",
       "    <tr>\n",
       "      <th>count</th>\n",
       "      <td>5466.000000</td>\n",
       "      <td>5466.00000</td>\n",
       "      <td>5466.000000</td>\n",
       "      <td>5.466000e+03</td>\n",
       "      <td>5466.000000</td>\n",
       "      <td>5466.000000</td>\n",
       "      <td>5466.000000</td>\n",
       "      <td>5466.000000</td>\n",
       "      <td>5466.000000</td>\n",
       "      <td>5.466000e+03</td>\n",
       "    </tr>\n",
       "    <tr>\n",
       "      <th>mean</th>\n",
       "      <td>2.929382</td>\n",
       "      <td>1.53659</td>\n",
       "      <td>1498.602452</td>\n",
       "      <td>1.332597e+04</td>\n",
       "      <td>1.174716</td>\n",
       "      <td>3.454812</td>\n",
       "      <td>6.923710</td>\n",
       "      <td>199.205452</td>\n",
       "      <td>1957.169411</td>\n",
       "      <td>3.876553e+05</td>\n",
       "    </tr>\n",
       "    <tr>\n",
       "      <th>std</th>\n",
       "      <td>0.955433</td>\n",
       "      <td>0.73386</td>\n",
       "      <td>681.509065</td>\n",
       "      <td>4.500415e+04</td>\n",
       "      <td>0.420896</td>\n",
       "      <td>0.695475</td>\n",
       "      <td>0.910364</td>\n",
       "      <td>359.221943</td>\n",
       "      <td>26.314611</td>\n",
       "      <td>1.790408e+05</td>\n",
       "    </tr>\n",
       "    <tr>\n",
       "      <th>min</th>\n",
       "      <td>0.000000</td>\n",
       "      <td>0.00000</td>\n",
       "      <td>290.000000</td>\n",
       "      <td>6.000000e+02</td>\n",
       "      <td>1.000000</td>\n",
       "      <td>1.000000</td>\n",
       "      <td>1.000000</td>\n",
       "      <td>0.000000</td>\n",
       "      <td>1900.000000</td>\n",
       "      <td>7.500000e+04</td>\n",
       "    </tr>\n",
       "    <tr>\n",
       "      <th>25%</th>\n",
       "      <td>2.000000</td>\n",
       "      <td>1.00000</td>\n",
       "      <td>1020.000000</td>\n",
       "      <td>5.100000e+03</td>\n",
       "      <td>1.000000</td>\n",
       "      <td>3.000000</td>\n",
       "      <td>6.000000</td>\n",
       "      <td>0.000000</td>\n",
       "      <td>1942.000000</td>\n",
       "      <td>2.510000e+05</td>\n",
       "    </tr>\n",
       "    <tr>\n",
       "      <th>50%</th>\n",
       "      <td>3.000000</td>\n",
       "      <td>1.00000</td>\n",
       "      <td>1320.000000</td>\n",
       "      <td>7.351000e+03</td>\n",
       "      <td>1.000000</td>\n",
       "      <td>3.000000</td>\n",
       "      <td>7.000000</td>\n",
       "      <td>0.000000</td>\n",
       "      <td>1955.000000</td>\n",
       "      <td>3.500000e+05</td>\n",
       "    </tr>\n",
       "    <tr>\n",
       "      <th>75%</th>\n",
       "      <td>3.000000</td>\n",
       "      <td>2.00000</td>\n",
       "      <td>1780.000000</td>\n",
       "      <td>9.714750e+03</td>\n",
       "      <td>1.000000</td>\n",
       "      <td>4.000000</td>\n",
       "      <td>7.000000</td>\n",
       "      <td>300.000000</td>\n",
       "      <td>1973.750000</td>\n",
       "      <td>4.798000e+05</td>\n",
       "    </tr>\n",
       "    <tr>\n",
       "      <th>max</th>\n",
       "      <td>11.000000</td>\n",
       "      <td>6.00000</td>\n",
       "      <td>7120.000000</td>\n",
       "      <td>1.651359e+06</td>\n",
       "      <td>3.000000</td>\n",
       "      <td>5.000000</td>\n",
       "      <td>12.000000</td>\n",
       "      <td>2196.000000</td>\n",
       "      <td>2015.000000</td>\n",
       "      <td>2.000000e+06</td>\n",
       "    </tr>\n",
       "  </tbody>\n",
       "</table>\n",
       "</div>"
      ],
      "text/plain": [
       "       numero_cuartos  numero_baños  area_de_ construcción_pie2  \\\n",
       "count     5466.000000    5466.00000                 5466.000000   \n",
       "mean         2.929382       1.53659                 1498.602452   \n",
       "std          0.955433       0.73386                  681.509065   \n",
       "min          0.000000       0.00000                  290.000000   \n",
       "25%          2.000000       1.00000                 1020.000000   \n",
       "50%          3.000000       1.00000                 1320.000000   \n",
       "75%          3.000000       2.00000                 1780.000000   \n",
       "max         11.000000       6.00000                 7120.000000   \n",
       "\n",
       "       area_del lote_pie2  numero_pisos    condición        grado  \\\n",
       "count        5.466000e+03   5466.000000  5466.000000  5466.000000   \n",
       "mean         1.332597e+04      1.174716     3.454812     6.923710   \n",
       "std          4.500415e+04      0.420896     0.695475     0.910364   \n",
       "min          6.000000e+02      1.000000     1.000000     1.000000   \n",
       "25%          5.100000e+03      1.000000     3.000000     6.000000   \n",
       "50%          7.351000e+03      1.000000     3.000000     7.000000   \n",
       "75%          9.714750e+03      1.000000     4.000000     7.000000   \n",
       "max          1.651359e+06      3.000000     5.000000    12.000000   \n",
       "\n",
       "       superficie_sótano_pie2  año_de_construcción        precio  \n",
       "count             5466.000000          5466.000000  5.466000e+03  \n",
       "mean               199.205452          1957.169411  3.876553e+05  \n",
       "std                359.221943            26.314611  1.790408e+05  \n",
       "min                  0.000000          1900.000000  7.500000e+04  \n",
       "25%                  0.000000          1942.000000  2.510000e+05  \n",
       "50%                  0.000000          1955.000000  3.500000e+05  \n",
       "75%                300.000000          1973.750000  4.798000e+05  \n",
       "max               2196.000000          2015.000000  2.000000e+06  "
      ]
     },
     "execution_count": 4,
     "metadata": {},
     "output_type": "execute_result"
    }
   ],
   "source": [
    "datos.describe()"
   ]
  },
  {
   "cell_type": "markdown",
   "id": "6759cf9b",
   "metadata": {},
   "source": [
    "Podemos observar en este caso que para la variable precio minimo es de 7.5e04 y el máximo de 2.0e06, lo pero podemos ver los datos descriptivos de las variables y por ejemplo a partir de ahi calcular el IQR."
   ]
  },
  {
   "cell_type": "code",
   "execution_count": 5,
   "id": "e5f7826b",
   "metadata": {},
   "outputs": [
    {
     "data": {
      "image/png": "[encoded data removed]",
      "text/plain": [
       "<Figure size 1000x500 with 2 Axes>"
      ]
     },
     "metadata": {},
     "output_type": "display_data"
    }
   ],
   "source": [
    "matrix_corr = datos.corr().round(2)\n",
    "sns.set(rc={\"figure.figsize\":(10,5)})\n",
    "sns.heatmap(data=matrix_corr, annot=True)\n",
    "plt.show()"
   ]
  },
  {
   "cell_type": "markdown",
   "id": "05dca3db",
   "metadata": {},
   "source": [
    "__Modelos Predictivos de Aprendizaje Automatico.__\n",
    "\n",
    "x = variables independientes.\n",
    "y = variable dependiente.\n",
    "\n",
    "Diferencia entre un modelo lineal y no lineal. El lineal es una variable explicativa entre la variable dependiente e independiente que se representa por una recta, pero un modelo no lineal implica una relación funcional más compleja entre las variables independientes y la variable dependiente, que no se puede representar mediante una línea recta o una combinación lineal de coeficientes. En lugar de eso, las relaciones pueden ser curvas, exponenciales, logarítmicas, polinómicas u otro tipo de formas no lineales.\n",
    "\n",
    "__Regresion Simple__\n",
    "\n",
    "> y = precio estimado = w0 + w1 * area_construida\n",
    "\n",
    "w0 = intercepto\n",
    "w1 = inclinacion de pendiente\n",
    "\n",
    "\n",
    "__Metricas Para Interpretar el rendimiento__\n",
    "\n",
    "R^2 = Coeficiente de determinación.\n",
    "\n",
    "\n",
    "el __Error Cuadrático Medio (ECM) o (MSE)__ está relacionado con los residuos en un modelo de regresión. Los residuos son las diferencias entre los valores observados reales y los valores predichos por el modelo. El ECM se calcula como la media de los residuos al cuadrado.\n",
    "\n",
    "En un modelo de regresión, el objetivo es minimizar los residuos, es decir, que las predicciones del modelo se acerquen lo más posible a los valores reales. El ECM proporciona una medida de la precisión promedio del modelo al cuantificar el error cuadrático promedio de las predicciones.\n",
    "\n",
    "Al calcular el ECM, los residuos se elevan al cuadrado antes de tomar su media. Esto tiene dos efectos principales:\n",
    "\n",
    "    Los errores positivos y negativos no se cancelan entre sí. Al elevar al cuadrado los residuos, los valores negativos se convierten en positivos, lo que garantiza que todos los errores contribuyan al cálculo del ECM y no se compensen entre sí.\n",
    "\n",
    "    Los errores más grandes se penalizan más. Al elevar al cuadrado los residuos, los errores más grandes tienen un impacto mayor en el ECM. Esto significa que los valores extremos o atípicos tienen un efecto más pronunciado en la medida del error.\n",
    "\n",
    "En resumen, el ECM se calcula a partir de los residuos al cuadrado y proporciona una medida de la precisión promedio del modelo. Cuanto menor sea el ECM, mejor será la capacidad de predicción del modelo, ya que indica que los valores predichos se acercan más a los valores reales.\n",
    "\n",
    "__El Error Absoluto Medio (EAM) o (MAE)__, a diferencia del Error Cuadrático Medio (ECM), no eleva los residuos al cuadrado antes de tomar su media. En su lugar, el EAM calcula la media de los valores absolutos de los residuos. El EAM se utiliza como una medida alternativa de la precisión promedio de un modelo de regresión.\n",
    "\n",
    "La principal diferencia entre el ECM y el EAM radica en la forma en que tratan los errores negativos. Mientras que el ECM eleva al cuadrado los residuos, lo que implica que los errores negativos se convierten en positivos, el EAM simplemente toma el valor absoluto de los residuos, sin considerar su signo.\n",
    "\n",
    "El EAM tiene algunas características importantes:\n",
    "\n",
    "    Sensibilidad a los valores atípicos: A diferencia del ECM, el EAM no penaliza los errores más grandes de manera desproporcionada. Esto significa que los valores atípicos o errores grandes tienen un impacto similar a los errores más pequeños en la medida del error.\n",
    "\n",
    "    Interpretación en la misma unidad que la variable dependiente: El EAM tiene la misma unidad que la variable dependiente, lo que permite una interpretación más directa en términos de la magnitud promedio del error en la escala original de la variable.\n",
    "\n",
    "En términos generales, el ECM y el EAM proporcionan medidas diferentes de la precisión de un modelo de regresión. El ECM se enfoca en penalizar los errores cuadráticos y es más sensible a los errores grandes, mientras que el EAM trata los errores absolutos y es más robusto a los valores atípicos. La elección entre estos dos errores depende del contexto y de las preferencias específicas del análisis.\n",
    "\n",
    "__¿como determinar la capacidad de generalización de un modelo?__\n",
    "\n",
    "Para determinar la capacidad de generalización de un modelo, es común utilizar técnicas de validación cruzada y conjuntos de datos de prueba independientes. Aquí hay algunos pasos clave para evaluar la capacidad de generalización de un modelo:\n",
    "\n",
    "1. División de datos: Divide tus datos en al menos dos conjuntos: uno para entrenamiento y otro para evaluación. El conjunto de entrenamiento se utiliza para ajustar los parámetros del modelo, mientras que el conjunto de evaluación se utiliza para medir su rendimiento. La división debe realizarse de manera aleatoria y normalmente se usa un 80% de datos y un 20% para el test.\n",
    "  > Cuando ajustas un modelo a un conjunto de datos de entrenamiento, el modelo puede aprender los patrones y las características específicas de esos datos. Esto puede llevar a un ajuste demasiado ajustado o sobreajuste (overfitting) del modelo a los datos de entrenamiento, lo que significa que el modelo se adapta demasiado bien a los datos específicos utilizados para entrenarlo, pero no puede generalizar bien a nuevos datos. Por lo tanto, evaluar el rendimiento del modelo solo en el conjunto de entrenamiento puede ser engañoso. Es posible que el modelo tenga una precisión muy alta en los datos de entrenamiento, pero no sepa generalizar correctamente a datos nuevos o no vistos. Esta es la razón por la cual se necesita un conjunto de prueba separado, que contenga datos que el modelo no ha visto durante el entrenamiento, para evaluar su capacidad de generalización.\n",
    "\n",
    "2. Validación cruzada: Aplica técnicas de validación cruzada, como la validación cruzada k-fold, donde divides tus datos en k subconjuntos (folds) y realizas k iteraciones de entrenamiento y evaluación. Esto ayuda a obtener una estimación más robusta del rendimiento del modelo al utilizar diferentes combinaciones de datos de entrenamiento y evaluación.\n",
    "\n",
    "3. Métricas de rendimiento: Utiliza métricas adecuadas para evaluar el rendimiento del modelo en el conjunto de evaluación. Esto puede incluir el Error Absoluto Medio (MAE), el Error Cuadrático Medio (MSE), el Coeficiente de Determinación (R^2) u otras métricas relevantes para tu problema específico.\n",
    "\n",
    "4. Conjunto de prueba independiente: Si es posible, reserva un conjunto de datos completamente independiente llamado conjunto de prueba. Este conjunto no se utiliza durante el proceso de entrenamiento ni de evaluación del modelo. Es utilizado para evaluar la capacidad de generalización final del modelo en datos completamente nuevos.\n",
    "\n",
    "5. Análisis de resultados: Examina las métricas de rendimiento obtenidas en los conjuntos de evaluación y prueba para determinar si el modelo generaliza bien en datos no vistos previamente. Si el modelo muestra un rendimiento similar en ambos conjuntos, es una indicación de una buena capacidad de generalización.\n",
    "\n",
    "Es importante destacar que la capacidad de generalización también puede verse afectada por la calidad y representatividad de los datos utilizados para entrenar y evaluar el modelo. Por lo tanto, es fundamental tener conjuntos de datos adecuados y relevantes para el problema en cuestión. Además, otros enfoques, como la regularización y la optimización de hiperparámetros, también pueden influir en la capacidad de generalización del modelo."
   ]
  },
  {
   "cell_type": "code",
   "execution_count": 6,
   "id": "18b65640",
   "metadata": {},
   "outputs": [],
   "source": [
    "# Realizando importación de las librerias\n",
    "\n",
    "import os\n",
    "import pandas as pd\n",
    "import numpy as np\n",
    "\n",
    "from sklearn.model_selection import train_test_split\n",
    "# esta libreria permite dividir los datos y construir\n",
    "# el test y los datos del modelo\n",
    "\n",
    "from sklearn.linear_model import LinearRegression \n",
    "from sklearn.metrics import mean_squared_error, mean_absolute_error, r2_score # rendimiento\n",
    "import statsmodels.api as sm # estadísticas y ajuste de los modelos de regresion"
   ]
  },
  {
   "cell_type": "code",
   "execution_count": 7,
   "id": "1a44d523",
   "metadata": {},
   "outputs": [],
   "source": [
    "# cargando los datos\n",
    "\n",
    "datos = pd.read_csv(\"vehicles_us.csv\").dropna()\n",
    "\n",
    "# para efectos prácticos del ejercicio eliminamos todas las columnas vácias, no obstante\n",
    "# debería verificarse si la información eliminada podría ser recuperada por otro medio\n",
    "# para el tutorial que estoy realizando se hace este paso rapido. "
   ]
  },
  {
   "cell_type": "code",
   "execution_count": 8,
   "id": "0361ab2e",
   "metadata": {},
   "outputs": [
    {
     "data": {
      "text/plain": [
       "(14852, 13)"
      ]
     },
     "execution_count": 8,
     "metadata": {},
     "output_type": "execute_result"
    }
   ],
   "source": [
    "datos.shape "
   ]
  },
  {
   "cell_type": "code",
   "execution_count": 9,
   "id": "b51ceac7",
   "metadata": {},
   "outputs": [
    {
     "data": {
      "text/plain": [
       "price           0\n",
       "model_year      0\n",
       "model           0\n",
       "condition       0\n",
       "cylinders       0\n",
       "fuel            0\n",
       "odometer        0\n",
       "transmission    0\n",
       "type            0\n",
       "paint_color     0\n",
       "is_4wd          0\n",
       "date_posted     0\n",
       "days_listed     0\n",
       "dtype: int64"
      ]
     },
     "execution_count": 9,
     "metadata": {},
     "output_type": "execute_result"
    }
   ],
   "source": [
    "datos.isnull().sum() "
   ]
  },
  {
   "cell_type": "code",
   "execution_count": 10,
   "id": "ce315e2a",
   "metadata": {},
   "outputs": [
    {
     "data": {
      "text/plain": [
       "price           0.0\n",
       "model_year      0.0\n",
       "model           0.0\n",
       "condition       0.0\n",
       "cylinders       0.0\n",
       "fuel            0.0\n",
       "odometer        0.0\n",
       "transmission    0.0\n",
       "type            0.0\n",
       "paint_color     0.0\n",
       "is_4wd          0.0\n",
       "date_posted     0.0\n",
       "days_listed     0.0\n",
       "dtype: float64"
      ]
     },
     "execution_count": 10,
     "metadata": {},
     "output_type": "execute_result"
    }
   ],
   "source": [
    "datos.isna().sum()/datos.shape[0]"
   ]
  },
  {
   "cell_type": "code",
   "execution_count": 11,
   "id": "1ef0e22c",
   "metadata": {},
   "outputs": [],
   "source": [
    "datos_t = datos.drop_duplicates()\n",
    "datos_t = datos_t.drop(columns=[\"model\",\"transmission\",\"date_posted\",\"type\",\"paint_color\"])\n",
    "# eliminando las filas duplicadas"
   ]
  },
  {
   "cell_type": "code",
   "execution_count": 12,
   "id": "d107041e",
   "metadata": {},
   "outputs": [
    {
     "data": {
      "text/plain": [
       "price            int64\n",
       "model_year     float64\n",
       "condition       object\n",
       "cylinders      float64\n",
       "fuel            object\n",
       "odometer       float64\n",
       "is_4wd         float64\n",
       "days_listed      int64\n",
       "dtype: object"
      ]
     },
     "execution_count": 12,
     "metadata": {},
     "output_type": "execute_result"
    }
   ],
   "source": [
    "datos_t.dtypes"
   ]
  },
  {
   "cell_type": "code",
   "execution_count": 13,
   "id": "2937d756",
   "metadata": {},
   "outputs": [
    {
     "data": {
      "text/plain": [
       "gas         13017\n",
       "diesel       1789\n",
       "other          32\n",
       "hybrid         13\n",
       "electric        1\n",
       "Name: fuel, dtype: int64"
      ]
     },
     "execution_count": 13,
     "metadata": {},
     "output_type": "execute_result"
    }
   ],
   "source": [
    "datos_t.fuel.value_counts()"
   ]
  },
  {
   "cell_type": "code",
   "execution_count": 14,
   "id": "c8483452",
   "metadata": {},
   "outputs": [],
   "source": [
    "datos_t = pd.get_dummies(datos_t,columns=[\"condition\",\"fuel\"])\n",
    "\n",
    "\n",
    "# crea variables categoricas binarias. Mantiene el rseto de las columnas"
   ]
  },
  {
   "cell_type": "code",
   "execution_count": 15,
   "id": "f669e089",
   "metadata": {},
   "outputs": [
    {
     "data": {
      "text/plain": [
       "Index(['price', 'model_year', 'cylinders', 'odometer', 'is_4wd', 'days_listed',\n",
       "       'condition_excellent', 'condition_fair', 'condition_good',\n",
       "       'condition_like new', 'condition_new', 'condition_salvage',\n",
       "       'fuel_diesel', 'fuel_electric', 'fuel_gas', 'fuel_hybrid',\n",
       "       'fuel_other'],\n",
       "      dtype='object')"
      ]
     },
     "execution_count": 15,
     "metadata": {},
     "output_type": "execute_result"
    }
   ],
   "source": [
    "datos_t.columns"
   ]
  },
  {
   "cell_type": "markdown",
   "id": "e53185c2",
   "metadata": {},
   "source": [
    "## Construcción del modelo\n",
    "\n",
    "Modelo de regresion lineal"
   ]
  },
  {
   "cell_type": "code",
   "execution_count": 16,
   "id": "cd6d16b1",
   "metadata": {},
   "outputs": [
    {
     "data": {
      "text/plain": [
       "Index(['model_year', 'cylinders', 'odometer', 'is_4wd', 'days_listed',\n",
       "       'condition_excellent', 'condition_fair', 'condition_good',\n",
       "       'condition_like new', 'condition_new', 'condition_salvage',\n",
       "       'fuel_diesel', 'fuel_electric', 'fuel_gas', 'fuel_hybrid',\n",
       "       'fuel_other'],\n",
       "      dtype='object')"
      ]
     },
     "execution_count": 16,
     "metadata": {},
     "output_type": "execute_result"
    }
   ],
   "source": [
    "y = datos_t[\"price\"]\n",
    "X = datos_t.drop([\"price\"],axis=1) # variables dependientes\n",
    "# se eliminan algunas del dataset\n",
    "X.columns"
   ]
  },
  {
   "cell_type": "markdown",
   "id": "56a5ab5e",
   "metadata": {},
   "source": [
    "Separación de los datos, se recomienda 80% datos 20% entrenamiento."
   ]
  },
  {
   "cell_type": "code",
   "execution_count": 17,
   "id": "d6bcd813",
   "metadata": {},
   "outputs": [],
   "source": [
    "X_train, X_test, y_train, y_test = train_test_split(X, y, test_size=0.2, random_state=0)\n",
    "\n",
    "# x_train y x_test, dividen la variable price en 80% train y 20% test\n",
    "# y_train y y_test, dividen de la misma manera, pero todas las variables dependientes en el dataset\n",
    "# esto puede ser porque se pueden crear modelos con más de una variable dependiente, pero para el caso\n",
    "# solo vamos a usar regresion lineal que permite una variable nada más. "
   ]
  },
  {
   "cell_type": "code",
   "execution_count": 18,
   "id": "6fb4678d",
   "metadata": {},
   "outputs": [
    {
     "data": {
      "text/plain": [
       "LinearRegression()"
      ]
     },
     "execution_count": 18,
     "metadata": {},
     "output_type": "execute_result"
    }
   ],
   "source": [
    "# creamos un objeto de modelo\n",
    "\n",
    "m_regresion_lineal = LinearRegression()\n",
    "\n",
    "m_regresion_lineal"
   ]
  },
  {
   "cell_type": "markdown",
   "id": "6c4d8166",
   "metadata": {},
   "source": [
    "## Ajustamos los datos del entrenamiento"
   ]
  },
  {
   "cell_type": "code",
   "execution_count": 19,
   "id": "efddb053",
   "metadata": {},
   "outputs": [
    {
     "data": {
      "text/plain": [
       "LinearRegression()"
      ]
     },
     "execution_count": 19,
     "metadata": {},
     "output_type": "execute_result"
    }
   ],
   "source": [
    "m_regresion_lineal.fit(X_train, y_train)"
   ]
  },
  {
   "cell_type": "code",
   "execution_count": 20,
   "id": "702f9131",
   "metadata": {},
   "outputs": [
    {
     "name": "stdout",
     "output_type": "stream",
     "text": [
      "MSE: 66238139.25\n",
      "RMSE: 8138.68\n",
      "MAE: 4893.59\n",
      "R^2: 0.50\n"
     ]
    }
   ],
   "source": [
    "# Evaluando el modelo\n",
    "\n",
    "y_pred = m_regresion_lineal.predict(X_train)\n",
    "\n",
    "# obteniendo las metricas\n",
    "\n",
    "print(\"MSE: %.2f\" %mean_squared_error(y_train, y_pred, squared=True))\n",
    "print(\"RMSE: %.2f\" %mean_squared_error(y_train, y_pred, squared=False))\n",
    "print(\"MAE: %.2f\" %mean_absolute_error(y_train, y_pred))\n",
    "print(\"R^2: %.2f\" %r2_score(y_train, y_pred))\n",
    "\n",
    "\n"
   ]
  },
  {
   "cell_type": "markdown",
   "id": "06bc1717",
   "metadata": {},
   "source": [
    "Una vez analizado los datos con este modelo y el de pruebas, lo mejor sería utilizar o ingresar datos no vistos para estar mas seguro, pero para el ejemplo lo que se hace es que se crea el modelo con los datos completos"
   ]
  },
  {
   "cell_type": "code",
   "execution_count": 21,
   "id": "21399c2c",
   "metadata": {},
   "outputs": [
    {
     "data": {
      "text/plain": [
       "LinearRegression()"
      ]
     },
     "execution_count": 21,
     "metadata": {},
     "output_type": "execute_result"
    }
   ],
   "source": [
    "m_regresion_lineal.fit(X, y)"
   ]
  },
  {
   "cell_type": "code",
   "execution_count": 22,
   "id": "9540d25a",
   "metadata": {},
   "outputs": [
    {
     "data": {
      "text/plain": [
       "array([ 8.15164470e+02,  1.07297128e+03, -4.73048344e-02, -2.10889084e-11,\n",
       "       -8.05745596e-02, -1.68888843e+03, -2.79842411e+03, -1.10713495e+03,\n",
       "        1.21304580e+03,  1.04804046e+04, -6.09900286e+03,  1.71637046e+04,\n",
       "       -3.44021931e+04,  5.37805399e+03,  3.73187274e+03,  8.12856179e+03])"
      ]
     },
     "execution_count": 22,
     "metadata": {},
     "output_type": "execute_result"
    }
   ],
   "source": [
    "# vemos los coeficientes del modelo para todas las variables\n",
    "\n",
    "m_regresion_lineal.coef_"
   ]
  },
  {
   "cell_type": "code",
   "execution_count": 23,
   "id": "27587388",
   "metadata": {},
   "outputs": [
    {
     "data": {
      "text/plain": [
       "-1630384.5219508146"
      ]
     },
     "execution_count": 23,
     "metadata": {},
     "output_type": "execute_result"
    }
   ],
   "source": [
    "# y el intercepto \n",
    "\n",
    "m_regresion_lineal.intercept_"
   ]
  },
  {
   "cell_type": "code",
   "execution_count": 24,
   "id": "31a9574b",
   "metadata": {},
   "outputs": [
    {
     "data": {
      "text/html": [
       "<table class=\"simpletable\">\n",
       "<caption>OLS Regression Results</caption>\n",
       "<tr>\n",
       "  <th>Dep. Variable:</th>          <td>price</td>      <th>  R-squared:         </th>  <td>   0.506</td>  \n",
       "</tr>\n",
       "<tr>\n",
       "  <th>Model:</th>                   <td>OLS</td>       <th>  Adj. R-squared:    </th>  <td>   0.506</td>  \n",
       "</tr>\n",
       "<tr>\n",
       "  <th>Method:</th>             <td>Least Squares</td>  <th>  F-statistic:       </th>  <td>   1169.</td>  \n",
       "</tr>\n",
       "<tr>\n",
       "  <th>Date:</th>             <td>Tue, 20 Jun 2023</td> <th>  Prob (F-statistic):</th>   <td>  0.00</td>   \n",
       "</tr>\n",
       "<tr>\n",
       "  <th>Time:</th>                 <td>22:18:19</td>     <th>  Log-Likelihood:    </th> <td>-1.5457e+05</td>\n",
       "</tr>\n",
       "<tr>\n",
       "  <th>No. Observations:</th>      <td> 14852</td>      <th>  AIC:               </th>  <td>3.092e+05</td> \n",
       "</tr>\n",
       "<tr>\n",
       "  <th>Df Residuals:</th>          <td> 14838</td>      <th>  BIC:               </th>  <td>3.093e+05</td> \n",
       "</tr>\n",
       "<tr>\n",
       "  <th>Df Model:</th>              <td>    13</td>      <th>                     </th>      <td> </td>     \n",
       "</tr>\n",
       "<tr>\n",
       "  <th>Covariance Type:</th>      <td>nonrobust</td>    <th>                     </th>      <td> </td>     \n",
       "</tr>\n",
       "</table>\n",
       "<table class=\"simpletable\">\n",
       "<tr>\n",
       "           <td></td>              <th>coef</th>     <th>std err</th>      <th>t</th>      <th>P>|t|</th>  <th>[0.025</th>    <th>0.975]</th>  \n",
       "</tr>\n",
       "<tr>\n",
       "  <th>model_year</th>          <td>  815.1645</td> <td>   14.614</td> <td>   55.779</td> <td> 0.000</td> <td>  786.519</td> <td>  843.810</td>\n",
       "</tr>\n",
       "<tr>\n",
       "  <th>cylinders</th>           <td> 1072.9713</td> <td>   45.424</td> <td>   23.621</td> <td> 0.000</td> <td>  983.935</td> <td> 1162.007</td>\n",
       "</tr>\n",
       "<tr>\n",
       "  <th>odometer</th>            <td>   -0.0473</td> <td>    0.001</td> <td>  -36.743</td> <td> 0.000</td> <td>   -0.050</td> <td>   -0.045</td>\n",
       "</tr>\n",
       "<tr>\n",
       "  <th>is_4wd</th>              <td>-1.193e+06</td> <td> 2.16e+04</td> <td>  -55.219</td> <td> 0.000</td> <td>-1.24e+06</td> <td>-1.15e+06</td>\n",
       "</tr>\n",
       "<tr>\n",
       "  <th>days_listed</th>         <td>   -0.0806</td> <td>    2.342</td> <td>   -0.034</td> <td> 0.973</td> <td>   -4.672</td> <td>    4.511</td>\n",
       "</tr>\n",
       "<tr>\n",
       "  <th>condition_excellent</th> <td>-2.005e+05</td> <td> 3631.484</td> <td>  -55.216</td> <td> 0.000</td> <td>-2.08e+05</td> <td>-1.93e+05</td>\n",
       "</tr>\n",
       "<tr>\n",
       "  <th>condition_fair</th>      <td>-2.016e+05</td> <td> 3566.420</td> <td>  -56.535</td> <td> 0.000</td> <td>-2.09e+05</td> <td>-1.95e+05</td>\n",
       "</tr>\n",
       "<tr>\n",
       "  <th>condition_good</th>      <td>-1.999e+05</td> <td> 3613.379</td> <td>  -55.332</td> <td> 0.000</td> <td>-2.07e+05</td> <td>-1.93e+05</td>\n",
       "</tr>\n",
       "<tr>\n",
       "  <th>condition_like new</th>  <td>-1.976e+05</td> <td> 3641.646</td> <td>  -54.265</td> <td> 0.000</td> <td>-2.05e+05</td> <td> -1.9e+05</td>\n",
       "</tr>\n",
       "<tr>\n",
       "  <th>condition_new</th>       <td>-1.883e+05</td> <td> 3784.190</td> <td>  -49.772</td> <td> 0.000</td> <td>-1.96e+05</td> <td>-1.81e+05</td>\n",
       "</tr>\n",
       "<tr>\n",
       "  <th>condition_salvage</th>   <td>-2.049e+05</td> <td> 3900.017</td> <td>  -52.545</td> <td> 0.000</td> <td>-2.13e+05</td> <td>-1.97e+05</td>\n",
       "</tr>\n",
       "<tr>\n",
       "  <th>fuel_diesel</th>         <td>-2.214e+05</td> <td> 4556.938</td> <td>  -48.592</td> <td> 0.000</td> <td> -2.3e+05</td> <td>-2.12e+05</td>\n",
       "</tr>\n",
       "<tr>\n",
       "  <th>fuel_electric</th>       <td> -2.73e+05</td> <td> 8001.851</td> <td>  -34.116</td> <td> 0.000</td> <td>-2.89e+05</td> <td>-2.57e+05</td>\n",
       "</tr>\n",
       "<tr>\n",
       "  <th>fuel_gas</th>            <td>-2.332e+05</td> <td> 4540.798</td> <td>  -51.360</td> <td> 0.000</td> <td>-2.42e+05</td> <td>-2.24e+05</td>\n",
       "</tr>\n",
       "<tr>\n",
       "  <th>fuel_hybrid</th>         <td>-2.349e+05</td> <td> 4887.898</td> <td>  -48.049</td> <td> 0.000</td> <td>-2.44e+05</td> <td>-2.25e+05</td>\n",
       "</tr>\n",
       "<tr>\n",
       "  <th>fuel_other</th>          <td>-2.305e+05</td> <td> 4707.470</td> <td>  -48.957</td> <td> 0.000</td> <td> -2.4e+05</td> <td>-2.21e+05</td>\n",
       "</tr>\n",
       "</table>\n",
       "<table class=\"simpletable\">\n",
       "<tr>\n",
       "  <th>Omnibus:</th>       <td>20954.326</td> <th>  Durbin-Watson:     </th>   <td>   1.540</td>  \n",
       "</tr>\n",
       "<tr>\n",
       "  <th>Prob(Omnibus):</th>  <td> 0.000</td>   <th>  Jarque-Bera (JB):  </th> <td>66395068.960</td>\n",
       "</tr>\n",
       "<tr>\n",
       "  <th>Skew:</th>           <td> 7.410</td>   <th>  Prob(JB):          </th>   <td>    0.00</td>  \n",
       "</tr>\n",
       "<tr>\n",
       "  <th>Kurtosis:</th>       <td>330.217</td>  <th>  Cond. No.          </th>   <td>4.16e+21</td>  \n",
       "</tr>\n",
       "</table><br/><br/>Notes:<br/>[1] Standard Errors assume that the covariance matrix of the errors is correctly specified.<br/>[2] The smallest eigenvalue is 1.56e-29. This might indicate that there are<br/>strong multicollinearity problems or that the design matrix is singular."
      ],
      "text/plain": [
       "<class 'statsmodels.iolib.summary.Summary'>\n",
       "\"\"\"\n",
       "                            OLS Regression Results                            \n",
       "==============================================================================\n",
       "Dep. Variable:                  price   R-squared:                       0.506\n",
       "Model:                            OLS   Adj. R-squared:                  0.506\n",
       "Method:                 Least Squares   F-statistic:                     1169.\n",
       "Date:                Tue, 20 Jun 2023   Prob (F-statistic):               0.00\n",
       "Time:                        22:18:19   Log-Likelihood:            -1.5457e+05\n",
       "No. Observations:               14852   AIC:                         3.092e+05\n",
       "Df Residuals:                   14838   BIC:                         3.093e+05\n",
       "Df Model:                          13                                         \n",
       "Covariance Type:            nonrobust                                         \n",
       "=======================================================================================\n",
       "                          coef    std err          t      P>|t|      [0.025      0.975]\n",
       "---------------------------------------------------------------------------------------\n",
       "model_year            815.1645     14.614     55.779      0.000     786.519     843.810\n",
       "cylinders            1072.9713     45.424     23.621      0.000     983.935    1162.007\n",
       "odometer               -0.0473      0.001    -36.743      0.000      -0.050      -0.045\n",
       "is_4wd              -1.193e+06   2.16e+04    -55.219      0.000   -1.24e+06   -1.15e+06\n",
       "days_listed            -0.0806      2.342     -0.034      0.973      -4.672       4.511\n",
       "condition_excellent -2.005e+05   3631.484    -55.216      0.000   -2.08e+05   -1.93e+05\n",
       "condition_fair      -2.016e+05   3566.420    -56.535      0.000   -2.09e+05   -1.95e+05\n",
       "condition_good      -1.999e+05   3613.379    -55.332      0.000   -2.07e+05   -1.93e+05\n",
       "condition_like new  -1.976e+05   3641.646    -54.265      0.000   -2.05e+05    -1.9e+05\n",
       "condition_new       -1.883e+05   3784.190    -49.772      0.000   -1.96e+05   -1.81e+05\n",
       "condition_salvage   -2.049e+05   3900.017    -52.545      0.000   -2.13e+05   -1.97e+05\n",
       "fuel_diesel         -2.214e+05   4556.938    -48.592      0.000    -2.3e+05   -2.12e+05\n",
       "fuel_electric        -2.73e+05   8001.851    -34.116      0.000   -2.89e+05   -2.57e+05\n",
       "fuel_gas            -2.332e+05   4540.798    -51.360      0.000   -2.42e+05   -2.24e+05\n",
       "fuel_hybrid         -2.349e+05   4887.898    -48.049      0.000   -2.44e+05   -2.25e+05\n",
       "fuel_other          -2.305e+05   4707.470    -48.957      0.000    -2.4e+05   -2.21e+05\n",
       "==============================================================================\n",
       "Omnibus:                    20954.326   Durbin-Watson:                   1.540\n",
       "Prob(Omnibus):                  0.000   Jarque-Bera (JB):         66395068.960\n",
       "Skew:                           7.410   Prob(JB):                         0.00\n",
       "Kurtosis:                     330.217   Cond. No.                     4.16e+21\n",
       "==============================================================================\n",
       "\n",
       "Notes:\n",
       "[1] Standard Errors assume that the covariance matrix of the errors is correctly specified.\n",
       "[2] The smallest eigenvalue is 1.56e-29. This might indicate that there are\n",
       "strong multicollinearity problems or that the design matrix is singular.\n",
       "\"\"\""
      ]
     },
     "execution_count": 24,
     "metadata": {},
     "output_type": "execute_result"
    }
   ],
   "source": [
    "# interpretando el modelo de regresion normal\n",
    "\n",
    "model = sm.OLS(y, X).fit()\n",
    "model.summary()"
   ]
  },
  {
   "cell_type": "code",
   "execution_count": 25,
   "id": "0124c7d6",
   "metadata": {},
   "outputs": [
    {
     "data": {
      "text/plain": [
       "5        14990\n",
       "7        15990\n",
       "10       19500\n",
       "14       12990\n",
       "16       14990\n",
       "         ...  \n",
       "51494     7999\n",
       "51500     6995\n",
       "51509     5980\n",
       "51513    17999\n",
       "51515    12000\n",
       "Name: price, Length: 14852, dtype: int64"
      ]
     },
     "execution_count": 25,
     "metadata": {},
     "output_type": "execute_result"
    }
   ],
   "source": [
    "y"
   ]
  },
  {
   "cell_type": "code",
   "execution_count": 26,
   "id": "65421eca",
   "metadata": {},
   "outputs": [
    {
     "data": {
      "text/plain": [
       "(14852, 16)"
      ]
     },
     "execution_count": 26,
     "metadata": {},
     "output_type": "execute_result"
    }
   ],
   "source": [
    "X.shape"
   ]
  },
  {
   "cell_type": "markdown",
   "id": "9f94b420",
   "metadata": {},
   "source": [
    "## Segundo modelo "
   ]
  },
  {
   "cell_type": "code",
   "execution_count": 27,
   "id": "29146c5b",
   "metadata": {},
   "outputs": [
    {
     "data": {
      "text/html": [
       "<div>\n",
       "<style scoped>\n",
       "    .dataframe tbody tr th:only-of-type {\n",
       "        vertical-align: middle;\n",
       "    }\n",
       "\n",
       "    .dataframe tbody tr th {\n",
       "        vertical-align: top;\n",
       "    }\n",
       "\n",
       "    .dataframe thead th {\n",
       "        text-align: right;\n",
       "    }\n",
       "</style>\n",
       "<table border=\"1\" class=\"dataframe\">\n",
       "  <thead>\n",
       "    <tr style=\"text-align: right;\">\n",
       "      <th></th>\n",
       "      <th>numero_cuartos</th>\n",
       "      <th>numero_baños</th>\n",
       "      <th>area_de_ construcción_pie2</th>\n",
       "      <th>area_del lote_pie2</th>\n",
       "      <th>numero_pisos</th>\n",
       "      <th>condición</th>\n",
       "      <th>grado</th>\n",
       "      <th>superficie_sótano_pie2</th>\n",
       "      <th>año_de_construcción</th>\n",
       "      <th>precio</th>\n",
       "    </tr>\n",
       "  </thead>\n",
       "  <tbody>\n",
       "    <tr>\n",
       "      <th>0</th>\n",
       "      <td>3</td>\n",
       "      <td>1</td>\n",
       "      <td>1180</td>\n",
       "      <td>5650</td>\n",
       "      <td>1</td>\n",
       "      <td>3</td>\n",
       "      <td>7</td>\n",
       "      <td>0</td>\n",
       "      <td>1955</td>\n",
       "      <td>221900</td>\n",
       "    </tr>\n",
       "    <tr>\n",
       "      <th>1</th>\n",
       "      <td>2</td>\n",
       "      <td>1</td>\n",
       "      <td>770</td>\n",
       "      <td>10000</td>\n",
       "      <td>1</td>\n",
       "      <td>3</td>\n",
       "      <td>6</td>\n",
       "      <td>0</td>\n",
       "      <td>1933</td>\n",
       "      <td>180000</td>\n",
       "    </tr>\n",
       "  </tbody>\n",
       "</table>\n",
       "</div>"
      ],
      "text/plain": [
       "   numero_cuartos  numero_baños  area_de_ construcción_pie2  \\\n",
       "0               3             1                        1180   \n",
       "1               2             1                         770   \n",
       "\n",
       "   area_del lote_pie2  numero_pisos  condición  grado  superficie_sótano_pie2  \\\n",
       "0                5650             1          3      7                       0   \n",
       "1               10000             1          3      6                       0   \n",
       "\n",
       "   año_de_construcción  precio  \n",
       "0                 1955  221900  \n",
       "1                 1933  180000  "
      ]
     },
     "execution_count": 27,
     "metadata": {},
     "output_type": "execute_result"
    }
   ],
   "source": [
    "# vamos a cargar los datos y visualizarlos\n",
    "\n",
    "datos = pd.read_csv(\"venta_inmuebles_data.csv\")\n",
    "datos.head(2)"
   ]
  },
  {
   "cell_type": "code",
   "execution_count": 28,
   "id": "3baaad93",
   "metadata": {},
   "outputs": [
    {
     "data": {
      "image/png": "[encoded data removed]",
      "text/plain": [
       "<Figure size 1000x500 with 2 Axes>"
      ]
     },
     "metadata": {},
     "output_type": "display_data"
    }
   ],
   "source": [
    "# podríamos hacer una matriz de correlacion y ver si las variables estan asociadas entre si\n",
    "\n",
    "matriz = datos.corr().round(2)\n",
    "sns.set(rc={\"figure.figsize\":(10,5)})\n",
    "sns.heatmap(data=matriz, annot=True)\n",
    "plt.show()\n"
   ]
  },
  {
   "cell_type": "code",
   "execution_count": 29,
   "id": "23c06b9d",
   "metadata": {},
   "outputs": [
    {
     "data": {
      "text/plain": [
       "numero_cuartos                0\n",
       "numero_baños                  0\n",
       "area_de_ construcción_pie2    0\n",
       "area_del lote_pie2            0\n",
       "numero_pisos                  0\n",
       "condición                     0\n",
       "grado                         0\n",
       "superficie_sótano_pie2        0\n",
       "año_de_construcción           0\n",
       "precio                        0\n",
       "dtype: int64"
      ]
     },
     "execution_count": 29,
     "metadata": {},
     "output_type": "execute_result"
    }
   ],
   "source": [
    "# verifico la cantidad de columnas y los datos vácios\n",
    "\n",
    "datos.isnull().sum()\n",
    "\n",
    "# El conjunto de datos no presenta datos vácios, esto es bueno. "
   ]
  },
  {
   "cell_type": "code",
   "execution_count": 30,
   "id": "31ca46ae",
   "metadata": {},
   "outputs": [
    {
     "data": {
      "text/plain": [
       "0"
      ]
     },
     "execution_count": 30,
     "metadata": {},
     "output_type": "execute_result"
    }
   ],
   "source": [
    "datos.duplicated().sum()\n",
    "\n",
    "datos = datos.drop_duplicates()\n",
    "datos.duplicated().sum()\n",
    "\n",
    "# Solo existia uan fila duplicada y se elimino del conjunto de datos. "
   ]
  },
  {
   "cell_type": "code",
   "execution_count": 31,
   "id": "48f8c6bd",
   "metadata": {},
   "outputs": [
    {
     "data": {
      "text/plain": [
       "numero_cuartos                int64\n",
       "numero_baños                  int64\n",
       "area_de_ construcción_pie2    int64\n",
       "area_del lote_pie2            int64\n",
       "numero_pisos                  int64\n",
       "condición                     int64\n",
       "grado                         int64\n",
       "superficie_sótano_pie2        int64\n",
       "año_de_construcción           int64\n",
       "precio                        int64\n",
       "dtype: object"
      ]
     },
     "execution_count": 31,
     "metadata": {},
     "output_type": "execute_result"
    }
   ],
   "source": [
    "datos.dtypes\n",
    "\n",
    "# El conjunto de datos presenta todo tipo de variables numericas enteros."
   ]
  },
  {
   "cell_type": "code",
   "execution_count": 32,
   "id": "5d61d86c",
   "metadata": {},
   "outputs": [
    {
     "data": {
      "text/html": [
       "<table class=\"simpletable\">\n",
       "<caption>OLS Regression Results</caption>\n",
       "<tr>\n",
       "  <th>Dep. Variable:</th>         <td>precio</td>      <th>  R-squared:         </th> <td>   0.083</td> \n",
       "</tr>\n",
       "<tr>\n",
       "  <th>Model:</th>                   <td>OLS</td>       <th>  Adj. R-squared:    </th> <td>   0.083</td> \n",
       "</tr>\n",
       "<tr>\n",
       "  <th>Method:</th>             <td>Least Squares</td>  <th>  F-statistic:       </th> <td>   494.5</td> \n",
       "</tr>\n",
       "<tr>\n",
       "  <th>Date:</th>             <td>Tue, 20 Jun 2023</td> <th>  Prob (F-statistic):</th> <td>5.92e-105</td>\n",
       "</tr>\n",
       "<tr>\n",
       "  <th>Time:</th>                 <td>22:18:19</td>     <th>  Log-Likelihood:    </th> <td> -73619.</td> \n",
       "</tr>\n",
       "<tr>\n",
       "  <th>No. Observations:</th>      <td>  5465</td>      <th>  AIC:               </th> <td>1.472e+05</td>\n",
       "</tr>\n",
       "<tr>\n",
       "  <th>Df Residuals:</th>          <td>  5463</td>      <th>  BIC:               </th> <td>1.473e+05</td>\n",
       "</tr>\n",
       "<tr>\n",
       "  <th>Df Model:</th>              <td>     1</td>      <th>                     </th>     <td> </td>    \n",
       "</tr>\n",
       "<tr>\n",
       "  <th>Covariance Type:</th>      <td>nonrobust</td>    <th>                     </th>     <td> </td>    \n",
       "</tr>\n",
       "</table>\n",
       "<table class=\"simpletable\">\n",
       "<tr>\n",
       "         <td></td>           <th>coef</th>     <th>std err</th>      <th>t</th>      <th>P>|t|</th>  <th>[0.025</th>    <th>0.975]</th>  \n",
       "</tr>\n",
       "<tr>\n",
       "  <th>Intercept</th>      <td> 2.295e+05</td> <td> 7481.397</td> <td>   30.677</td> <td> 0.000</td> <td> 2.15e+05</td> <td> 2.44e+05</td>\n",
       "</tr>\n",
       "<tr>\n",
       "  <th>numero_cuartos</th> <td> 5.399e+04</td> <td> 2427.929</td> <td>   22.238</td> <td> 0.000</td> <td> 4.92e+04</td> <td> 5.88e+04</td>\n",
       "</tr>\n",
       "</table>\n",
       "<table class=\"simpletable\">\n",
       "<tr>\n",
       "  <th>Omnibus:</th>       <td>1073.520</td> <th>  Durbin-Watson:     </th> <td>   1.945</td>\n",
       "</tr>\n",
       "<tr>\n",
       "  <th>Prob(Omnibus):</th>  <td> 0.000</td>  <th>  Jarque-Bera (JB):  </th> <td>2595.941</td>\n",
       "</tr>\n",
       "<tr>\n",
       "  <th>Skew:</th>           <td> 1.091</td>  <th>  Prob(JB):          </th> <td>    0.00</td>\n",
       "</tr>\n",
       "<tr>\n",
       "  <th>Kurtosis:</th>       <td> 5.577</td>  <th>  Cond. No.          </th> <td>    10.9</td>\n",
       "</tr>\n",
       "</table><br/><br/>Notes:<br/>[1] Standard Errors assume that the covariance matrix of the errors is correctly specified."
      ],
      "text/plain": [
       "<class 'statsmodels.iolib.summary.Summary'>\n",
       "\"\"\"\n",
       "                            OLS Regression Results                            \n",
       "==============================================================================\n",
       "Dep. Variable:                 precio   R-squared:                       0.083\n",
       "Model:                            OLS   Adj. R-squared:                  0.083\n",
       "Method:                 Least Squares   F-statistic:                     494.5\n",
       "Date:                Tue, 20 Jun 2023   Prob (F-statistic):          5.92e-105\n",
       "Time:                        22:18:19   Log-Likelihood:                -73619.\n",
       "No. Observations:                5465   AIC:                         1.472e+05\n",
       "Df Residuals:                    5463   BIC:                         1.473e+05\n",
       "Df Model:                           1                                         \n",
       "Covariance Type:            nonrobust                                         \n",
       "==================================================================================\n",
       "                     coef    std err          t      P>|t|      [0.025      0.975]\n",
       "----------------------------------------------------------------------------------\n",
       "Intercept       2.295e+05   7481.397     30.677      0.000    2.15e+05    2.44e+05\n",
       "numero_cuartos  5.399e+04   2427.929     22.238      0.000    4.92e+04    5.88e+04\n",
       "==============================================================================\n",
       "Omnibus:                     1073.520   Durbin-Watson:                   1.945\n",
       "Prob(Omnibus):                  0.000   Jarque-Bera (JB):             2595.941\n",
       "Skew:                           1.091   Prob(JB):                         0.00\n",
       "Kurtosis:                       5.577   Cond. No.                         10.9\n",
       "==============================================================================\n",
       "\n",
       "Notes:\n",
       "[1] Standard Errors assume that the covariance matrix of the errors is correctly specified.\n",
       "\"\"\""
      ]
     },
     "execution_count": 32,
     "metadata": {},
     "output_type": "execute_result"
    }
   ],
   "source": [
    "# Pregunta 1\n",
    "\n",
    "# Construir un modelo de regresion lineal para predecir el precio\n",
    "# preparemos los datos de manera muy sencilla\n",
    "\n",
    "\n",
    "model = sm.OLS.from_formula(\n",
    "    \"precio ~ numero_cuartos\",\n",
    "    data = datos\n",
    ").fit()\n",
    "\n",
    "model.summary()\n",
    "\n",
    "# De este modo, construi uno muy simple, pero vamos a utilizar todas las variables.\n"
   ]
  },
  {
   "cell_type": "code",
   "execution_count": 33,
   "id": "c17c95f2",
   "metadata": {},
   "outputs": [],
   "source": [
    "y = datos[\"precio\"] \n",
    "X = datos.drop(\"precio\", axis=1)"
   ]
  },
  {
   "cell_type": "code",
   "execution_count": 34,
   "id": "39b28e17",
   "metadata": {},
   "outputs": [
    {
     "data": {
      "text/html": [
       "<table class=\"simpletable\">\n",
       "<caption>OLS Regression Results</caption>\n",
       "<tr>\n",
       "  <th>Dep. Variable:</th>         <td>precio</td>      <th>  R-squared (uncentered):</th>      <td>   0.900</td> \n",
       "</tr>\n",
       "<tr>\n",
       "  <th>Model:</th>                   <td>OLS</td>       <th>  Adj. R-squared (uncentered):</th> <td>   0.900</td> \n",
       "</tr>\n",
       "<tr>\n",
       "  <th>Method:</th>             <td>Least Squares</td>  <th>  F-statistic:       </th>          <td>   5470.</td> \n",
       "</tr>\n",
       "<tr>\n",
       "  <th>Date:</th>             <td>Tue, 20 Jun 2023</td> <th>  Prob (F-statistic):</th>           <td>  0.00</td>  \n",
       "</tr>\n",
       "<tr>\n",
       "  <th>Time:</th>                 <td>22:18:19</td>     <th>  Log-Likelihood:    </th>          <td> -72308.</td> \n",
       "</tr>\n",
       "<tr>\n",
       "  <th>No. Observations:</th>      <td>  5465</td>      <th>  AIC:               </th>          <td>1.446e+05</td>\n",
       "</tr>\n",
       "<tr>\n",
       "  <th>Df Residuals:</th>          <td>  5456</td>      <th>  BIC:               </th>          <td>1.447e+05</td>\n",
       "</tr>\n",
       "<tr>\n",
       "  <th>Df Model:</th>              <td>     9</td>      <th>                     </th>              <td> </td>    \n",
       "</tr>\n",
       "<tr>\n",
       "  <th>Covariance Type:</th>      <td>nonrobust</td>    <th>                     </th>              <td> </td>    \n",
       "</tr>\n",
       "</table>\n",
       "<table class=\"simpletable\">\n",
       "<tr>\n",
       "               <td></td>                 <th>coef</th>     <th>std err</th>      <th>t</th>      <th>P>|t|</th>  <th>[0.025</th>    <th>0.975]</th>  \n",
       "</tr>\n",
       "<tr>\n",
       "  <th>numero_cuartos</th>             <td>-1.903e+04</td> <td> 2628.468</td> <td>   -7.239</td> <td> 0.000</td> <td>-2.42e+04</td> <td>-1.39e+04</td>\n",
       "</tr>\n",
       "<tr>\n",
       "  <th>numero_baños</th>               <td>-1530.7478</td> <td> 4190.533</td> <td>   -0.365</td> <td> 0.715</td> <td>-9745.864</td> <td> 6684.368</td>\n",
       "</tr>\n",
       "<tr>\n",
       "  <th>area_de_ construcción_pie2</th> <td>   81.6265</td> <td>    5.754</td> <td>   14.185</td> <td> 0.000</td> <td>   70.346</td> <td>   92.908</td>\n",
       "</tr>\n",
       "<tr>\n",
       "  <th>area_del lote_pie2</th>         <td>    0.0791</td> <td>    0.042</td> <td>    1.906</td> <td> 0.057</td> <td>   -0.002</td> <td>    0.161</td>\n",
       "</tr>\n",
       "<tr>\n",
       "  <th>numero_pisos</th>               <td> 4.313e+04</td> <td> 5445.626</td> <td>    7.919</td> <td> 0.000</td> <td> 3.24e+04</td> <td> 5.38e+04</td>\n",
       "</tr>\n",
       "<tr>\n",
       "  <th>condición</th>                  <td> 2.538e+04</td> <td> 2641.505</td> <td>    9.607</td> <td> 0.000</td> <td> 2.02e+04</td> <td> 3.06e+04</td>\n",
       "</tr>\n",
       "<tr>\n",
       "  <th>grado</th>                      <td> 7.581e+04</td> <td> 2916.489</td> <td>   25.995</td> <td> 0.000</td> <td> 7.01e+04</td> <td> 8.15e+04</td>\n",
       "</tr>\n",
       "<tr>\n",
       "  <th>superficie_sótano_pie2</th>     <td>   47.1671</td> <td>    6.752</td> <td>    6.985</td> <td> 0.000</td> <td>   33.930</td> <td>   60.404</td>\n",
       "</tr>\n",
       "<tr>\n",
       "  <th>año_de_construcción</th>        <td> -179.2292</td> <td>   10.487</td> <td>  -17.090</td> <td> 0.000</td> <td> -199.789</td> <td> -158.670</td>\n",
       "</tr>\n",
       "</table>\n",
       "<table class=\"simpletable\">\n",
       "<tr>\n",
       "  <th>Omnibus:</th>       <td>875.262</td> <th>  Durbin-Watson:     </th> <td>   1.992</td>\n",
       "</tr>\n",
       "<tr>\n",
       "  <th>Prob(Omnibus):</th> <td> 0.000</td>  <th>  Jarque-Bera (JB):  </th> <td>2140.377</td>\n",
       "</tr>\n",
       "<tr>\n",
       "  <th>Skew:</th>          <td> 0.900</td>  <th>  Prob(JB):          </th> <td>    0.00</td>\n",
       "</tr>\n",
       "<tr>\n",
       "  <th>Kurtosis:</th>      <td> 5.481</td>  <th>  Cond. No.          </th> <td>1.48e+05</td>\n",
       "</tr>\n",
       "</table><br/><br/>Notes:<br/>[1] R² is computed without centering (uncentered) since the model does not contain a constant.<br/>[2] Standard Errors assume that the covariance matrix of the errors is correctly specified.<br/>[3] The condition number is large, 1.48e+05. This might indicate that there are<br/>strong multicollinearity or other numerical problems."
      ],
      "text/plain": [
       "<class 'statsmodels.iolib.summary.Summary'>\n",
       "\"\"\"\n",
       "                                 OLS Regression Results                                \n",
       "=======================================================================================\n",
       "Dep. Variable:                 precio   R-squared (uncentered):                   0.900\n",
       "Model:                            OLS   Adj. R-squared (uncentered):              0.900\n",
       "Method:                 Least Squares   F-statistic:                              5470.\n",
       "Date:                Tue, 20 Jun 2023   Prob (F-statistic):                        0.00\n",
       "Time:                        22:18:19   Log-Likelihood:                         -72308.\n",
       "No. Observations:                5465   AIC:                                  1.446e+05\n",
       "Df Residuals:                    5456   BIC:                                  1.447e+05\n",
       "Df Model:                           9                                                  \n",
       "Covariance Type:            nonrobust                                                  \n",
       "==============================================================================================\n",
       "                                 coef    std err          t      P>|t|      [0.025      0.975]\n",
       "----------------------------------------------------------------------------------------------\n",
       "numero_cuartos             -1.903e+04   2628.468     -7.239      0.000   -2.42e+04   -1.39e+04\n",
       "numero_baños               -1530.7478   4190.533     -0.365      0.715   -9745.864    6684.368\n",
       "area_de_ construcción_pie2    81.6265      5.754     14.185      0.000      70.346      92.908\n",
       "area_del lote_pie2             0.0791      0.042      1.906      0.057      -0.002       0.161\n",
       "numero_pisos                4.313e+04   5445.626      7.919      0.000    3.24e+04    5.38e+04\n",
       "condición                   2.538e+04   2641.505      9.607      0.000    2.02e+04    3.06e+04\n",
       "grado                       7.581e+04   2916.489     25.995      0.000    7.01e+04    8.15e+04\n",
       "superficie_sótano_pie2        47.1671      6.752      6.985      0.000      33.930      60.404\n",
       "año_de_construcción         -179.2292     10.487    -17.090      0.000    -199.789    -158.670\n",
       "==============================================================================\n",
       "Omnibus:                      875.262   Durbin-Watson:                   1.992\n",
       "Prob(Omnibus):                  0.000   Jarque-Bera (JB):             2140.377\n",
       "Skew:                           0.900   Prob(JB):                         0.00\n",
       "Kurtosis:                       5.481   Cond. No.                     1.48e+05\n",
       "==============================================================================\n",
       "\n",
       "Notes:\n",
       "[1] R² is computed without centering (uncentered) since the model does not contain a constant.\n",
       "[2] Standard Errors assume that the covariance matrix of the errors is correctly specified.\n",
       "[3] The condition number is large, 1.48e+05. This might indicate that there are\n",
       "strong multicollinearity or other numerical problems.\n",
       "\"\"\""
      ]
     },
     "execution_count": 34,
     "metadata": {},
     "output_type": "execute_result"
    }
   ],
   "source": [
    "model = sm.OLS(y, X).fit()\n",
    "model.summary()"
   ]
  },
  {
   "cell_type": "markdown",
   "id": "ace9dbef",
   "metadata": {},
   "source": [
    "De manera general, en la visualización estadística del modelo de regresion lineal para la predicción del precio, podemos observar que la mayoría de las variables presentan una significancia estadística si entendemos que el error máximo aceptado es hasta del 5%, esto quiere decir que solo las variables numero de baños y area del lote, no presentan una significancia y por lo tanto podemos indicar que no son relevantes para el modelo. Igualmente, a groso modo podemos observar que a medida que aumenta el precio los cuartos disminuyen, lo mismo sucede con la variable baño y el año de construcción, pero también vemos que también a medida que aumenta el precio también aumentan el numero de pisos, su condicion, superficie y area de construcción. También vemos que el modelo que tenemos es bastante optimo teniendo un coeficiente de determinación del 90% "
   ]
  },
  {
   "cell_type": "code",
   "execution_count": 35,
   "id": "ca23125f",
   "metadata": {},
   "outputs": [],
   "source": [
    "# ahora voy a pasar a crear el modelo con otra libreria y entrenarlo\n",
    "\n",
    "X_train1, X_test1, y_train1, y_test1 = train_test_split(X, y, test_size=0.2, random_state=0)"
   ]
  },
  {
   "cell_type": "code",
   "execution_count": 36,
   "id": "b8948904",
   "metadata": {},
   "outputs": [],
   "source": [
    "m_regresion_l = LinearRegression() # isntanciamos"
   ]
  },
  {
   "cell_type": "code",
   "execution_count": 37,
   "id": "7340a776",
   "metadata": {},
   "outputs": [
    {
     "data": {
      "text/plain": [
       "LinearRegression()"
      ]
     },
     "execution_count": 37,
     "metadata": {},
     "output_type": "execute_result"
    }
   ],
   "source": [
    "# Entrenamiento\n",
    "\n",
    "m_regresion_l.fit(X_train1, y_train1)"
   ]
  },
  {
   "cell_type": "code",
   "execution_count": 38,
   "id": "4a1f92cf",
   "metadata": {},
   "outputs": [
    {
     "data": {
      "text/plain": [
       "array([-1.65180622e+04,  3.16865957e+04,  8.02784870e+01,  7.65603102e-02,\n",
       "        4.47419625e+04,  1.08047628e+04,  9.11420210e+04,  1.36038844e+01,\n",
       "       -2.58167767e+03])"
      ]
     },
     "execution_count": 38,
     "metadata": {},
     "output_type": "execute_result"
    }
   ],
   "source": [
    "m_regresion_l.coef_"
   ]
  },
  {
   "cell_type": "code",
   "execution_count": 39,
   "id": "562c7b1c",
   "metadata": {},
   "outputs": [
    {
     "data": {
      "text/plain": [
       "4597044.679110851"
      ]
     },
     "execution_count": 39,
     "metadata": {},
     "output_type": "execute_result"
    }
   ],
   "source": [
    "m_regresion_l.intercept_"
   ]
  },
  {
   "cell_type": "code",
   "execution_count": 40,
   "id": "5889a3a8",
   "metadata": {},
   "outputs": [
    {
     "name": "stdout",
     "output_type": "stream",
     "text": [
      "MSE: 16003712845.34\n",
      "RMSE: 126505.78\n",
      "MAE: 95901.18\n",
      "R^2: 0.50\n"
     ]
    }
   ],
   "source": [
    "# Evaluando el modelo\n",
    "\n",
    "y_pred_1 = m_regresion_l.predict(X_train1)\n",
    "\n",
    "# obteniendo las metricas\n",
    "\n",
    "print(\"MSE: %.2f\" %mean_squared_error(y_train1, y_pred_1, squared=True))\n",
    "print(\"RMSE: %.2f\" %mean_squared_error(y_train1, y_pred_1, squared=False))\n",
    "print(\"MAE: %.2f\" %mean_absolute_error(y_train1, y_pred_1))\n",
    "print(\"R^2: %.2f\" %r2_score(y_train1, y_pred_1))\n",
    "\n",
    "\n"
   ]
  },
  {
   "cell_type": "code",
   "execution_count": 41,
   "id": "3ddb39ab",
   "metadata": {},
   "outputs": [
    {
     "name": "stdout",
     "output_type": "stream",
     "text": [
      "Métricas en el conjunto de prueba:\n",
      "MSE: 14565133371.50\n",
      "RMSE: 120686.09\n",
      "MAE: 95100.90\n",
      "R^2: 0.54\n"
     ]
    }
   ],
   "source": [
    "y_pred_test = m_regresion_l.predict(X_test1)\n",
    "print(\"Métricas en el conjunto de prueba:\")\n",
    "print(\"MSE: %.2f\" % mean_squared_error(y_test1, y_pred_test, squared=True))\n",
    "print(\"RMSE: %.2f\" % mean_squared_error(y_test1, y_pred_test, squared=False))\n",
    "print(\"MAE: %.2f\" % mean_absolute_error(y_test1, y_pred_test))\n",
    "print(\"R^2: %.2f\" % r2_score(y_test1, y_pred_test))"
   ]
  },
  {
   "cell_type": "markdown",
   "id": "9003d9e9",
   "metadata": {},
   "source": [
    "¿Cuáles son los valores de las métricas MSE, MAE y R2, tanto para el conjunto de entrenamiento como para el de test? ¿Qué puedes concluir a partir de estos valores? ¿Cuáles son las variables significativas en el modelo? ¿Las relaciones entre las variables predictoras y la variable objetivo son positivas o negativas?\n",
    "\n",
    "Podemos observar que en el test los datos de rendimientos mejoran, por ejemplo, el coeficiente de determinación aumenta en un 4%, pero así mismo disminuyen las medidas del MSE, RMSE, y MAE, y entre menor son estas datos, mejor es el rendimiento del modelo. Igualmente, podemos concluir que presentando un 80% de los datos se observa un 54% de r ^ 2, pero usando statmodels, podemos ver que utilizando todos los datos este coeficiente aumenta a un 90%, por lo que significa que el modelo es bástante bueno para explicar la varianza respecto a la variable dependiente que es el precio, como se indicó, se pueden observar que existen dos variables que no tienen una significancia estadística si nos ciñimos al 95% de confianza, así, podemos ver que existen coeficientes positivos y negativos que de manera explicativa o teorica nos muestran cual es el coeficiente si los datos esta nen 0, finalmente, podemos ver que existe correlacion entre las variables que ronda entre el 0.7 y disminuye hasta el 0.3, lo que indica que hay colinealidad, por lo cual se recomienda abir la posibilidad de trabajar con diferentes enfoques de regresion, por ejemplo multinivel o marginal, esto según sea la pregunta y los intereses de la investigacion, no obstante hay más enfoques pero no tengo conocimiento en ellos. "
   ]
  },
  {
   "cell_type": "code",
   "execution_count": 42,
   "id": "647d7483",
   "metadata": {},
   "outputs": [
    {
     "data": {
      "text/html": [
       "<div>\n",
       "<style scoped>\n",
       "    .dataframe tbody tr th:only-of-type {\n",
       "        vertical-align: middle;\n",
       "    }\n",
       "\n",
       "    .dataframe tbody tr th {\n",
       "        vertical-align: top;\n",
       "    }\n",
       "\n",
       "    .dataframe thead th {\n",
       "        text-align: right;\n",
       "    }\n",
       "</style>\n",
       "<table border=\"1\" class=\"dataframe\">\n",
       "  <thead>\n",
       "    <tr style=\"text-align: right;\">\n",
       "      <th></th>\n",
       "      <th>area_quemada</th>\n",
       "      <th>Prec_pre_30</th>\n",
       "      <th>Prec_pre_15</th>\n",
       "      <th>Prec_pre_7</th>\n",
       "      <th>Prec_cont</th>\n",
       "    </tr>\n",
       "  </thead>\n",
       "  <tbody>\n",
       "    <tr>\n",
       "      <th>count</th>\n",
       "      <td>37759.000000</td>\n",
       "      <td>37759.000000</td>\n",
       "      <td>37759.000000</td>\n",
       "      <td>37759.000000</td>\n",
       "      <td>37759.000000</td>\n",
       "    </tr>\n",
       "    <tr>\n",
       "      <th>mean</th>\n",
       "      <td>2344.983479</td>\n",
       "      <td>35.931177</td>\n",
       "      <td>16.127596</td>\n",
       "      <td>6.764959</td>\n",
       "      <td>21.260950</td>\n",
       "    </tr>\n",
       "    <tr>\n",
       "      <th>std</th>\n",
       "      <td>15512.560261</td>\n",
       "      <td>130.257343</td>\n",
       "      <td>65.928608</td>\n",
       "      <td>36.746405</td>\n",
       "      <td>69.377046</td>\n",
       "    </tr>\n",
       "    <tr>\n",
       "      <th>min</th>\n",
       "      <td>0.510000</td>\n",
       "      <td>0.000000</td>\n",
       "      <td>0.000000</td>\n",
       "      <td>0.000000</td>\n",
       "      <td>0.000000</td>\n",
       "    </tr>\n",
       "    <tr>\n",
       "      <th>25%</th>\n",
       "      <td>1.200000</td>\n",
       "      <td>0.000000</td>\n",
       "      <td>0.000000</td>\n",
       "      <td>0.000000</td>\n",
       "      <td>0.000000</td>\n",
       "    </tr>\n",
       "    <tr>\n",
       "      <th>50%</th>\n",
       "      <td>4.000000</td>\n",
       "      <td>0.600000</td>\n",
       "      <td>0.000000</td>\n",
       "      <td>0.000000</td>\n",
       "      <td>0.000000</td>\n",
       "    </tr>\n",
       "    <tr>\n",
       "      <th>75%</th>\n",
       "      <td>20.000000</td>\n",
       "      <td>37.900000</td>\n",
       "      <td>12.300000</td>\n",
       "      <td>1.500000</td>\n",
       "      <td>3.300000</td>\n",
       "    </tr>\n",
       "    <tr>\n",
       "      <th>max</th>\n",
       "      <td>538049.000000</td>\n",
       "      <td>13560.800000</td>\n",
       "      <td>2527.000000</td>\n",
       "      <td>1638.000000</td>\n",
       "      <td>2126.000000</td>\n",
       "    </tr>\n",
       "  </tbody>\n",
       "</table>\n",
       "</div>"
      ],
      "text/plain": [
       "        area_quemada   Prec_pre_30   Prec_pre_15    Prec_pre_7     Prec_cont\n",
       "count   37759.000000  37759.000000  37759.000000  37759.000000  37759.000000\n",
       "mean     2344.983479     35.931177     16.127596      6.764959     21.260950\n",
       "std     15512.560261    130.257343     65.928608     36.746405     69.377046\n",
       "min         0.510000      0.000000      0.000000      0.000000      0.000000\n",
       "25%         1.200000      0.000000      0.000000      0.000000      0.000000\n",
       "50%         4.000000      0.600000      0.000000      0.000000      0.000000\n",
       "75%        20.000000     37.900000     12.300000      1.500000      3.300000\n",
       "max    538049.000000  13560.800000   2527.000000   1638.000000   2126.000000"
      ]
     },
     "execution_count": 42,
     "metadata": {},
     "output_type": "execute_result"
    }
   ],
   "source": [
    "datos = pd.read_csv(\"incendios_forestales.csv\")\n",
    "datos.describe()"
   ]
  },
  {
   "cell_type": "code",
   "execution_count": 43,
   "id": "fe5a7e2b",
   "metadata": {},
   "outputs": [
    {
     "data": {
      "text/plain": [
       "area_quemada      0\n",
       "clase_incendio    0\n",
       "mes_incendio      0\n",
       "vegetacion        0\n",
       "Prec_pre_30       0\n",
       "Prec_pre_15       0\n",
       "Prec_pre_7        0\n",
       "Prec_cont         0\n",
       "dtype: int64"
      ]
     },
     "execution_count": 43,
     "metadata": {},
     "output_type": "execute_result"
    }
   ],
   "source": [
    "datos.isnull().sum()"
   ]
  },
  {
   "cell_type": "code",
   "execution_count": 44,
   "id": "5622a88f",
   "metadata": {},
   "outputs": [
    {
     "data": {
      "text/plain": [
       "11365"
      ]
     },
     "execution_count": 44,
     "metadata": {},
     "output_type": "execute_result"
    }
   ],
   "source": [
    "datos.duplicated().sum()"
   ]
  },
  {
   "cell_type": "code",
   "execution_count": 45,
   "id": "9742a0d1",
   "metadata": {},
   "outputs": [],
   "source": [
    "datos = datos.drop_duplicates()"
   ]
  },
  {
   "cell_type": "code",
   "execution_count": 46,
   "id": "46c70cb5",
   "metadata": {},
   "outputs": [
    {
     "data": {
      "text/plain": [
       "array(['Diciembre', 'Febrero', 'Junio', 'Enero', 'Noviembre', 'Agosto',\n",
       "       'Abril', 'Marzo', 'Octubre', 'Julio', 'Septiembre', 'Mayo'],\n",
       "      dtype=object)"
      ]
     },
     "execution_count": 46,
     "metadata": {},
     "output_type": "execute_result"
    }
   ],
   "source": [
    "datos[\"mes_incendio\"].unique()"
   ]
  },
  {
   "cell_type": "code",
   "execution_count": 47,
   "id": "9f371edc",
   "metadata": {
    "scrolled": true
   },
   "outputs": [
    {
     "data": {
      "text/html": [
       "<div>\n",
       "<style scoped>\n",
       "    .dataframe tbody tr th:only-of-type {\n",
       "        vertical-align: middle;\n",
       "    }\n",
       "\n",
       "    .dataframe tbody tr th {\n",
       "        vertical-align: top;\n",
       "    }\n",
       "\n",
       "    .dataframe thead th {\n",
       "        text-align: right;\n",
       "    }\n",
       "</style>\n",
       "<table border=\"1\" class=\"dataframe\">\n",
       "  <thead>\n",
       "    <tr style=\"text-align: right;\">\n",
       "      <th></th>\n",
       "      <th>area_quemada</th>\n",
       "      <th>clase_incendio</th>\n",
       "      <th>mes_incendio</th>\n",
       "      <th>vegetacion</th>\n",
       "      <th>Prec_pre_30</th>\n",
       "      <th>Prec_pre_15</th>\n",
       "      <th>Prec_pre_7</th>\n",
       "      <th>Prec_cont</th>\n",
       "    </tr>\n",
       "  </thead>\n",
       "  <tbody>\n",
       "    <tr>\n",
       "      <th>0</th>\n",
       "      <td>3.0</td>\n",
       "      <td>B</td>\n",
       "      <td>12</td>\n",
       "      <td>Desierto polar_roca</td>\n",
       "      <td>59.8</td>\n",
       "      <td>8.4</td>\n",
       "      <td>0.0</td>\n",
       "      <td>86.8</td>\n",
       "    </tr>\n",
       "    <tr>\n",
       "      <th>1</th>\n",
       "      <td>60.0</td>\n",
       "      <td>C</td>\n",
       "      <td>2</td>\n",
       "      <td>Bosque tropical perennifolio secundario</td>\n",
       "      <td>168.8</td>\n",
       "      <td>42.2</td>\n",
       "      <td>18.1</td>\n",
       "      <td>124.5</td>\n",
       "    </tr>\n",
       "  </tbody>\n",
       "</table>\n",
       "</div>"
      ],
      "text/plain": [
       "   area_quemada clase_incendio  mes_incendio  \\\n",
       "0           3.0              B            12   \n",
       "1          60.0              C             2   \n",
       "\n",
       "                                vegetacion  Prec_pre_30  Prec_pre_15  \\\n",
       "0                      Desierto polar_roca         59.8          8.4   \n",
       "1  Bosque tropical perennifolio secundario        168.8         42.2   \n",
       "\n",
       "   Prec_pre_7  Prec_cont  \n",
       "0         0.0       86.8  \n",
       "1        18.1      124.5  "
      ]
     },
     "execution_count": 47,
     "metadata": {},
     "output_type": "execute_result"
    }
   ],
   "source": [
    "datos_i = datos.copy()\n",
    "\n",
    "datos_i[\"mes_incendio\"] = datos_i.mes_incendio.replace({ \n",
    "    \"Enero\":1, \"Febrero\":2, \"Marzo\":3, \"Abril\":4,\n",
    "    \"Mayo\": 5, \"Junio\": 6, \"Julio\":7, \"Agosto\":8,\n",
    "    \"Septiembre\":9, \"Octubre\":10, \"Noviembre\":11, \"Diciembre\":12    \n",
    "})\n",
    "datos_i.head(2)"
   ]
  },
  {
   "cell_type": "code",
   "execution_count": 48,
   "id": "cfd007b7",
   "metadata": {},
   "outputs": [
    {
     "data": {
      "text/plain": [
       "array(['Desierto polar_roca', 'Bosque tropical perennifolio secundario',\n",
       "       'Bosque tropical perennifolio', 'Matorral abierto',\n",
       "       'Bosque templado', 'Pradera_estepa', 'Desierto'], dtype=object)"
      ]
     },
     "execution_count": 48,
     "metadata": {},
     "output_type": "execute_result"
    }
   ],
   "source": [
    "datos_i.vegetacion.unique()\n",
    "\n",
    "# Teniendo en cuenta que teniamos los meses del año, lo que se hizo para no crear tantas variables dummies \n",
    "# fue recodificar los meses por el numero del mes, esto también puede ayudar más adelante por si necesitamos \n",
    "# graficar los meses donde más se repite el año, pero necesitamos crear variables dummies porque existen\n",
    "# elementos categorico."
   ]
  },
  {
   "cell_type": "code",
   "execution_count": 49,
   "id": "51aa3b20",
   "metadata": {},
   "outputs": [
    {
     "data": {
      "text/html": [
       "<div>\n",
       "<style scoped>\n",
       "    .dataframe tbody tr th:only-of-type {\n",
       "        vertical-align: middle;\n",
       "    }\n",
       "\n",
       "    .dataframe tbody tr th {\n",
       "        vertical-align: top;\n",
       "    }\n",
       "\n",
       "    .dataframe thead th {\n",
       "        text-align: right;\n",
       "    }\n",
       "</style>\n",
       "<table border=\"1\" class=\"dataframe\">\n",
       "  <thead>\n",
       "    <tr style=\"text-align: right;\">\n",
       "      <th></th>\n",
       "      <th>area_quemada</th>\n",
       "      <th>Prec_pre_30</th>\n",
       "      <th>Prec_pre_15</th>\n",
       "      <th>Prec_pre_7</th>\n",
       "      <th>Prec_cont</th>\n",
       "      <th>clase_incendio_B</th>\n",
       "      <th>clase_incendio_C</th>\n",
       "      <th>clase_incendio_D</th>\n",
       "      <th>clase_incendio_E</th>\n",
       "      <th>clase_incendio_F</th>\n",
       "      <th>...</th>\n",
       "      <th>mes_incendio_3</th>\n",
       "      <th>mes_incendio_4</th>\n",
       "      <th>mes_incendio_5</th>\n",
       "      <th>mes_incendio_6</th>\n",
       "      <th>mes_incendio_7</th>\n",
       "      <th>mes_incendio_8</th>\n",
       "      <th>mes_incendio_9</th>\n",
       "      <th>mes_incendio_10</th>\n",
       "      <th>mes_incendio_11</th>\n",
       "      <th>mes_incendio_12</th>\n",
       "    </tr>\n",
       "  </thead>\n",
       "  <tbody>\n",
       "    <tr>\n",
       "      <th>0</th>\n",
       "      <td>3.0</td>\n",
       "      <td>59.8</td>\n",
       "      <td>8.4</td>\n",
       "      <td>0.0</td>\n",
       "      <td>86.8</td>\n",
       "      <td>1</td>\n",
       "      <td>0</td>\n",
       "      <td>0</td>\n",
       "      <td>0</td>\n",
       "      <td>0</td>\n",
       "      <td>...</td>\n",
       "      <td>0</td>\n",
       "      <td>0</td>\n",
       "      <td>0</td>\n",
       "      <td>0</td>\n",
       "      <td>0</td>\n",
       "      <td>0</td>\n",
       "      <td>0</td>\n",
       "      <td>0</td>\n",
       "      <td>0</td>\n",
       "      <td>1</td>\n",
       "    </tr>\n",
       "    <tr>\n",
       "      <th>1</th>\n",
       "      <td>60.0</td>\n",
       "      <td>168.8</td>\n",
       "      <td>42.2</td>\n",
       "      <td>18.1</td>\n",
       "      <td>124.5</td>\n",
       "      <td>0</td>\n",
       "      <td>1</td>\n",
       "      <td>0</td>\n",
       "      <td>0</td>\n",
       "      <td>0</td>\n",
       "      <td>...</td>\n",
       "      <td>0</td>\n",
       "      <td>0</td>\n",
       "      <td>0</td>\n",
       "      <td>0</td>\n",
       "      <td>0</td>\n",
       "      <td>0</td>\n",
       "      <td>0</td>\n",
       "      <td>0</td>\n",
       "      <td>0</td>\n",
       "      <td>0</td>\n",
       "    </tr>\n",
       "  </tbody>\n",
       "</table>\n",
       "<p>2 rows × 30 columns</p>\n",
       "</div>"
      ],
      "text/plain": [
       "   area_quemada  Prec_pre_30  Prec_pre_15  Prec_pre_7  Prec_cont  \\\n",
       "0           3.0         59.8          8.4         0.0       86.8   \n",
       "1          60.0        168.8         42.2        18.1      124.5   \n",
       "\n",
       "   clase_incendio_B  clase_incendio_C  clase_incendio_D  clase_incendio_E  \\\n",
       "0                 1                 0                 0                 0   \n",
       "1                 0                 1                 0                 0   \n",
       "\n",
       "   clase_incendio_F  ...  mes_incendio_3  mes_incendio_4  mes_incendio_5  \\\n",
       "0                 0  ...               0               0               0   \n",
       "1                 0  ...               0               0               0   \n",
       "\n",
       "   mes_incendio_6  mes_incendio_7  mes_incendio_8  mes_incendio_9  \\\n",
       "0               0               0               0               0   \n",
       "1               0               0               0               0   \n",
       "\n",
       "   mes_incendio_10  mes_incendio_11  mes_incendio_12  \n",
       "0                0                0                1  \n",
       "1                0                0                0  \n",
       "\n",
       "[2 rows x 30 columns]"
      ]
     },
     "execution_count": 49,
     "metadata": {},
     "output_type": "execute_result"
    }
   ],
   "source": [
    "datos_i = pd.get_dummies(datos_i, columns=[\"clase_incendio\",\"vegetacion\",\"mes_incendio\"])\n",
    "datos_i.head(2)\n",
    "\n"
   ]
  },
  {
   "cell_type": "code",
   "execution_count": 50,
   "id": "9bc6c803",
   "metadata": {},
   "outputs": [],
   "source": [
    "y = datos_i[\"area_quemada\"]\n",
    "X = datos_i.drop(\"area_quemada\", axis=1)"
   ]
  },
  {
   "cell_type": "code",
   "execution_count": 51,
   "id": "106b56a8",
   "metadata": {},
   "outputs": [],
   "source": [
    "X_train2, X_test2, y_train2, y_test2 = train_test_split(X,y, test_size=0.2 ,random_state=0)"
   ]
  },
  {
   "cell_type": "code",
   "execution_count": 52,
   "id": "82426804",
   "metadata": {},
   "outputs": [],
   "source": [
    "m_regresion2 = LinearRegression()"
   ]
  },
  {
   "cell_type": "code",
   "execution_count": 53,
   "id": "83f5db3c",
   "metadata": {},
   "outputs": [
    {
     "data": {
      "text/plain": [
       "LinearRegression()"
      ]
     },
     "execution_count": 53,
     "metadata": {},
     "output_type": "execute_result"
    }
   ],
   "source": [
    "m_regresion2.fit(X_train2, y_train2)"
   ]
  },
  {
   "cell_type": "code",
   "execution_count": 54,
   "id": "8e50ef0e",
   "metadata": {},
   "outputs": [
    {
     "name": "stdout",
     "output_type": "stream",
     "text": [
      "MSE: 234398654.01\n",
      "RMSE: 15310.08\n",
      "MAE: 3156.70\n",
      "R^2: 0.23\n"
     ]
    }
   ],
   "source": [
    "# Evaluando el modelo\n",
    "\n",
    "y_pred_2 = m_regresion2.predict(X_train2)\n",
    "\n",
    "# obteniendo las metricas\n",
    "\n",
    "print(\"MSE: %.2f\" %mean_squared_error(y_train2, y_pred_2, squared=True))\n",
    "print(\"RMSE: %.2f\" %mean_squared_error(y_train2, y_pred_2, squared=False))\n",
    "print(\"MAE: %.2f\" %mean_absolute_error(y_train2, y_pred_2))\n",
    "print(\"R^2: %.2f\" %r2_score(y_train2, y_pred_2))"
   ]
  },
  {
   "cell_type": "code",
   "execution_count": 55,
   "id": "dde61e3c",
   "metadata": {},
   "outputs": [
    {
     "name": "stdout",
     "output_type": "stream",
     "text": [
      "MSE: 297266010.18\n",
      "RMSE: 17241.40\n",
      "MAE: 3648.77\n",
      "R^2: 0.23\n"
     ]
    }
   ],
   "source": [
    "y_pred_test2 = m_regresion2.predict(X_test2)\n",
    "\n",
    "# obteniendo las metricas\n",
    "\n",
    "print(\"MSE: %.2f\" %mean_squared_error(y_test2, y_pred_test2, squared=True))\n",
    "print(\"RMSE: %.2f\" %mean_squared_error(y_test2, y_pred_test2, squared=False))\n",
    "print(\"MAE: %.2f\" %mean_absolute_error(y_test2, y_pred_test2))\n",
    "print(\"R^2: %.2f\" %r2_score(y_test2, y_pred_test2))      "
   ]
  },
  {
   "cell_type": "code",
   "execution_count": 56,
   "id": "c3733d09",
   "metadata": {},
   "outputs": [
    {
     "data": {
      "text/html": [
       "<table class=\"simpletable\">\n",
       "<caption>OLS Regression Results</caption>\n",
       "<tr>\n",
       "  <th>Dep. Variable:</th>      <td>area_quemada</td>   <th>  R-squared:         </th>  <td>   0.231</td>  \n",
       "</tr>\n",
       "<tr>\n",
       "  <th>Model:</th>                   <td>OLS</td>       <th>  Adj. R-squared:    </th>  <td>   0.230</td>  \n",
       "</tr>\n",
       "<tr>\n",
       "  <th>Method:</th>             <td>Least Squares</td>  <th>  F-statistic:       </th>  <td>   304.1</td>  \n",
       "</tr>\n",
       "<tr>\n",
       "  <th>Date:</th>             <td>Tue, 20 Jun 2023</td> <th>  Prob (F-statistic):</th>   <td>  0.00</td>   \n",
       "</tr>\n",
       "<tr>\n",
       "  <th>Time:</th>                 <td>22:18:20</td>     <th>  Log-Likelihood:    </th> <td>-2.9248e+05</td>\n",
       "</tr>\n",
       "<tr>\n",
       "  <th>No. Observations:</th>      <td> 26394</td>      <th>  AIC:               </th>  <td>5.850e+05</td> \n",
       "</tr>\n",
       "<tr>\n",
       "  <th>Df Residuals:</th>          <td> 26367</td>      <th>  BIC:               </th>  <td>5.852e+05</td> \n",
       "</tr>\n",
       "<tr>\n",
       "  <th>Df Model:</th>              <td>    26</td>      <th>                     </th>      <td> </td>     \n",
       "</tr>\n",
       "<tr>\n",
       "  <th>Covariance Type:</th>      <td>nonrobust</td>    <th>                     </th>      <td> </td>     \n",
       "</tr>\n",
       "</table>\n",
       "<table class=\"simpletable\">\n",
       "<tr>\n",
       "                           <td></td>                             <th>coef</th>     <th>std err</th>      <th>t</th>      <th>P>|t|</th>  <th>[0.025</th>    <th>0.975]</th>  \n",
       "</tr>\n",
       "<tr>\n",
       "  <th>Prec_pre_30</th>                                        <td>   -0.1962</td> <td>    0.904</td> <td>   -0.217</td> <td> 0.828</td> <td>   -1.967</td> <td>    1.575</td>\n",
       "</tr>\n",
       "<tr>\n",
       "  <th>Prec_pre_15</th>                                        <td>   -0.4358</td> <td>    2.430</td> <td>   -0.179</td> <td> 0.858</td> <td>   -5.198</td> <td>    4.327</td>\n",
       "</tr>\n",
       "<tr>\n",
       "  <th>Prec_pre_7</th>                                         <td>    0.1911</td> <td>    3.697</td> <td>    0.052</td> <td> 0.959</td> <td>   -7.055</td> <td>    7.437</td>\n",
       "</tr>\n",
       "<tr>\n",
       "  <th>Prec_cont</th>                                          <td>   -0.5541</td> <td>    1.246</td> <td>   -0.445</td> <td> 0.656</td> <td>   -2.995</td> <td>    1.887</td>\n",
       "</tr>\n",
       "<tr>\n",
       "  <th>clase_incendio_B</th>                                   <td>-2975.0499</td> <td>  173.874</td> <td>  -17.110</td> <td> 0.000</td> <td>-3315.853</td> <td>-2634.247</td>\n",
       "</tr>\n",
       "<tr>\n",
       "  <th>clase_incendio_C</th>                                   <td>-3019.5963</td> <td>  234.266</td> <td>  -12.890</td> <td> 0.000</td> <td>-3478.771</td> <td>-2560.422</td>\n",
       "</tr>\n",
       "<tr>\n",
       "  <th>clase_incendio_D</th>                                   <td>-3082.5684</td> <td>  496.486</td> <td>   -6.209</td> <td> 0.000</td> <td>-4055.708</td> <td>-2109.429</td>\n",
       "</tr>\n",
       "<tr>\n",
       "  <th>clase_incendio_E</th>                                   <td>-2652.2535</td> <td>  685.433</td> <td>   -3.869</td> <td> 0.000</td> <td>-3995.739</td> <td>-1308.768</td>\n",
       "</tr>\n",
       "<tr>\n",
       "  <th>clase_incendio_F</th>                                   <td>  154.4289</td> <td>  408.735</td> <td>    0.378</td> <td> 0.706</td> <td> -646.714</td> <td>  955.571</td>\n",
       "</tr>\n",
       "<tr>\n",
       "  <th>clase_incendio_G</th>                                   <td> 2.416e+04</td> <td>  306.042</td> <td>   78.937</td> <td> 0.000</td> <td> 2.36e+04</td> <td> 2.48e+04</td>\n",
       "</tr>\n",
       "<tr>\n",
       "  <th>vegetacion_Bosque templado</th>                         <td> 2272.2326</td> <td>  608.167</td> <td>    3.736</td> <td> 0.000</td> <td> 1080.192</td> <td> 3464.273</td>\n",
       "</tr>\n",
       "<tr>\n",
       "  <th>vegetacion_Bosque tropical perennifolio</th>            <td> 3336.2559</td> <td>  245.383</td> <td>   13.596</td> <td> 0.000</td> <td> 2855.292</td> <td> 3817.220</td>\n",
       "</tr>\n",
       "<tr>\n",
       "  <th>vegetacion_Bosque tropical perennifolio secundario</th> <td> 1841.1226</td> <td>  236.302</td> <td>    7.791</td> <td> 0.000</td> <td> 1377.958</td> <td> 2304.287</td>\n",
       "</tr>\n",
       "<tr>\n",
       "  <th>vegetacion_Desierto</th>                                <td>  -64.5713</td> <td>  747.593</td> <td>   -0.086</td> <td> 0.931</td> <td>-1529.893</td> <td> 1400.750</td>\n",
       "</tr>\n",
       "<tr>\n",
       "  <th>vegetacion_Desierto polar_roca</th>                     <td> 1638.9905</td> <td>  228.969</td> <td>    7.158</td> <td> 0.000</td> <td> 1190.199</td> <td> 2087.782</td>\n",
       "</tr>\n",
       "<tr>\n",
       "  <th>vegetacion_Matorral abierto</th>                        <td> 1862.3088</td> <td>  212.325</td> <td>    8.771</td> <td> 0.000</td> <td> 1446.140</td> <td> 2278.478</td>\n",
       "</tr>\n",
       "<tr>\n",
       "  <th>vegetacion_Pradera_estepa</th>                          <td> 1696.5936</td> <td>  328.230</td> <td>    5.169</td> <td> 0.000</td> <td> 1053.246</td> <td> 2339.941</td>\n",
       "</tr>\n",
       "<tr>\n",
       "  <th>mes_incendio_1</th>                                     <td>  796.1419</td> <td>  435.313</td> <td>    1.829</td> <td> 0.067</td> <td>  -57.094</td> <td> 1649.378</td>\n",
       "</tr>\n",
       "<tr>\n",
       "  <th>mes_incendio_2</th>                                     <td>  923.9684</td> <td>  346.539</td> <td>    2.666</td> <td> 0.008</td> <td>  244.734</td> <td> 1603.203</td>\n",
       "</tr>\n",
       "<tr>\n",
       "  <th>mes_incendio_3</th>                                     <td>  845.6677</td> <td>  271.459</td> <td>    3.115</td> <td> 0.002</td> <td>  313.594</td> <td> 1377.741</td>\n",
       "</tr>\n",
       "<tr>\n",
       "  <th>mes_incendio_4</th>                                     <td> 1039.8567</td> <td>  270.523</td> <td>    3.844</td> <td> 0.000</td> <td>  509.617</td> <td> 1570.097</td>\n",
       "</tr>\n",
       "<tr>\n",
       "  <th>mes_incendio_5</th>                                     <td> 1465.6019</td> <td>  335.683</td> <td>    4.366</td> <td> 0.000</td> <td>  807.645</td> <td> 2123.559</td>\n",
       "</tr>\n",
       "<tr>\n",
       "  <th>mes_incendio_6</th>                                     <td> 3079.7062</td> <td>  312.461</td> <td>    9.856</td> <td> 0.000</td> <td> 2467.265</td> <td> 3692.147</td>\n",
       "</tr>\n",
       "<tr>\n",
       "  <th>mes_incendio_7</th>                                     <td> 1181.7089</td> <td>  283.591</td> <td>    4.167</td> <td> 0.000</td> <td>  625.856</td> <td> 1737.562</td>\n",
       "</tr>\n",
       "<tr>\n",
       "  <th>mes_incendio_8</th>                                     <td>  528.3346</td> <td>  286.578</td> <td>    1.844</td> <td> 0.065</td> <td>  -33.374</td> <td> 1090.043</td>\n",
       "</tr>\n",
       "<tr>\n",
       "  <th>mes_incendio_9</th>                                     <td>  386.0783</td> <td>  364.245</td> <td>    1.060</td> <td> 0.289</td> <td> -327.861</td> <td> 1100.017</td>\n",
       "</tr>\n",
       "<tr>\n",
       "  <th>mes_incendio_10</th>                                    <td>  855.4445</td> <td>  389.352</td> <td>    2.197</td> <td> 0.028</td> <td>   92.293</td> <td> 1618.596</td>\n",
       "</tr>\n",
       "<tr>\n",
       "  <th>mes_incendio_11</th>                                    <td>  605.0395</td> <td>  417.572</td> <td>    1.449</td> <td> 0.147</td> <td> -213.425</td> <td> 1423.504</td>\n",
       "</tr>\n",
       "<tr>\n",
       "  <th>mes_incendio_12</th>                                    <td>  875.3842</td> <td>  525.086</td> <td>    1.667</td> <td> 0.096</td> <td> -153.814</td> <td> 1904.582</td>\n",
       "</tr>\n",
       "</table>\n",
       "<table class=\"simpletable\">\n",
       "<tr>\n",
       "  <th>Omnibus:</th>       <td>51464.736</td> <th>  Durbin-Watson:     </th>   <td>   1.834</td>   \n",
       "</tr>\n",
       "<tr>\n",
       "  <th>Prob(Omnibus):</th>  <td> 0.000</td>   <th>  Jarque-Bera (JB):  </th> <td>132729887.581</td>\n",
       "</tr>\n",
       "<tr>\n",
       "  <th>Skew:</th>           <td>15.546</td>   <th>  Prob(JB):          </th>   <td>    0.00</td>   \n",
       "</tr>\n",
       "<tr>\n",
       "  <th>Kurtosis:</th>       <td>349.012</td>  <th>  Cond. No.          </th>   <td>1.10e+16</td>   \n",
       "</tr>\n",
       "</table><br/><br/>Notes:<br/>[1] Standard Errors assume that the covariance matrix of the errors is correctly specified.<br/>[2] The smallest eigenvalue is 6.83e-24. This might indicate that there are<br/>strong multicollinearity problems or that the design matrix is singular."
      ],
      "text/plain": [
       "<class 'statsmodels.iolib.summary.Summary'>\n",
       "\"\"\"\n",
       "                            OLS Regression Results                            \n",
       "==============================================================================\n",
       "Dep. Variable:           area_quemada   R-squared:                       0.231\n",
       "Model:                            OLS   Adj. R-squared:                  0.230\n",
       "Method:                 Least Squares   F-statistic:                     304.1\n",
       "Date:                Tue, 20 Jun 2023   Prob (F-statistic):               0.00\n",
       "Time:                        22:18:20   Log-Likelihood:            -2.9248e+05\n",
       "No. Observations:               26394   AIC:                         5.850e+05\n",
       "Df Residuals:                   26367   BIC:                         5.852e+05\n",
       "Df Model:                          26                                         \n",
       "Covariance Type:            nonrobust                                         \n",
       "======================================================================================================================\n",
       "                                                         coef    std err          t      P>|t|      [0.025      0.975]\n",
       "----------------------------------------------------------------------------------------------------------------------\n",
       "Prec_pre_30                                           -0.1962      0.904     -0.217      0.828      -1.967       1.575\n",
       "Prec_pre_15                                           -0.4358      2.430     -0.179      0.858      -5.198       4.327\n",
       "Prec_pre_7                                             0.1911      3.697      0.052      0.959      -7.055       7.437\n",
       "Prec_cont                                             -0.5541      1.246     -0.445      0.656      -2.995       1.887\n",
       "clase_incendio_B                                   -2975.0499    173.874    -17.110      0.000   -3315.853   -2634.247\n",
       "clase_incendio_C                                   -3019.5963    234.266    -12.890      0.000   -3478.771   -2560.422\n",
       "clase_incendio_D                                   -3082.5684    496.486     -6.209      0.000   -4055.708   -2109.429\n",
       "clase_incendio_E                                   -2652.2535    685.433     -3.869      0.000   -3995.739   -1308.768\n",
       "clase_incendio_F                                     154.4289    408.735      0.378      0.706    -646.714     955.571\n",
       "clase_incendio_G                                    2.416e+04    306.042     78.937      0.000    2.36e+04    2.48e+04\n",
       "vegetacion_Bosque templado                          2272.2326    608.167      3.736      0.000    1080.192    3464.273\n",
       "vegetacion_Bosque tropical perennifolio             3336.2559    245.383     13.596      0.000    2855.292    3817.220\n",
       "vegetacion_Bosque tropical perennifolio secundario  1841.1226    236.302      7.791      0.000    1377.958    2304.287\n",
       "vegetacion_Desierto                                  -64.5713    747.593     -0.086      0.931   -1529.893    1400.750\n",
       "vegetacion_Desierto polar_roca                      1638.9905    228.969      7.158      0.000    1190.199    2087.782\n",
       "vegetacion_Matorral abierto                         1862.3088    212.325      8.771      0.000    1446.140    2278.478\n",
       "vegetacion_Pradera_estepa                           1696.5936    328.230      5.169      0.000    1053.246    2339.941\n",
       "mes_incendio_1                                       796.1419    435.313      1.829      0.067     -57.094    1649.378\n",
       "mes_incendio_2                                       923.9684    346.539      2.666      0.008     244.734    1603.203\n",
       "mes_incendio_3                                       845.6677    271.459      3.115      0.002     313.594    1377.741\n",
       "mes_incendio_4                                      1039.8567    270.523      3.844      0.000     509.617    1570.097\n",
       "mes_incendio_5                                      1465.6019    335.683      4.366      0.000     807.645    2123.559\n",
       "mes_incendio_6                                      3079.7062    312.461      9.856      0.000    2467.265    3692.147\n",
       "mes_incendio_7                                      1181.7089    283.591      4.167      0.000     625.856    1737.562\n",
       "mes_incendio_8                                       528.3346    286.578      1.844      0.065     -33.374    1090.043\n",
       "mes_incendio_9                                       386.0783    364.245      1.060      0.289    -327.861    1100.017\n",
       "mes_incendio_10                                      855.4445    389.352      2.197      0.028      92.293    1618.596\n",
       "mes_incendio_11                                      605.0395    417.572      1.449      0.147    -213.425    1423.504\n",
       "mes_incendio_12                                      875.3842    525.086      1.667      0.096    -153.814    1904.582\n",
       "==============================================================================\n",
       "Omnibus:                    51464.736   Durbin-Watson:                   1.834\n",
       "Prob(Omnibus):                  0.000   Jarque-Bera (JB):        132729887.581\n",
       "Skew:                          15.546   Prob(JB):                         0.00\n",
       "Kurtosis:                     349.012   Cond. No.                     1.10e+16\n",
       "==============================================================================\n",
       "\n",
       "Notes:\n",
       "[1] Standard Errors assume that the covariance matrix of the errors is correctly specified.\n",
       "[2] The smallest eigenvalue is 6.83e-24. This might indicate that there are\n",
       "strong multicollinearity problems or that the design matrix is singular.\n",
       "\"\"\""
      ]
     },
     "execution_count": 56,
     "metadata": {},
     "output_type": "execute_result"
    }
   ],
   "source": [
    "model = sm.OLS(y, X).fit()\n",
    "model.summary()"
   ]
  },
  {
   "cell_type": "markdown",
   "id": "72b54a57",
   "metadata": {},
   "source": [
    "¿Cuáles son las variables significativas para el problema?\n",
    "\n",
    "¿Cómo impactan estas características en la variable objetivo?\n",
    "\n",
    "¿Qué puedes decir del valor de R2? ¿Consideras que es adecuado?\n",
    "\n",
    "Para mejorar los resultados ¿Podrían incluirse otras variables?\n",
    "\n",
    "\n",
    "Para el problema observamos diferentes variables dependientes, así, parece contraintuitivo pero podemos detallar que las variables de precipitación y meses del año no tienen significancia estadística, por lo cual consideramos que estas variables no son importantes para el modelo, igualmente, podemos indicar lo mismo de la clase de incendio F, así, las otras variables si son significativas para el modelo.  \n",
    "\n",
    "Las caracteristicas independientes pueden explicar solo el 22.9% de la variabilidad de los incendios y por ende, del área quemada, y para esto tenemos que tener en cuenta que si bien las precipitaciones no estan jugando un papel importante en este modmento, esto no quiere decir que para analisis posteriores no nos ayuden a explicar otros fenemonos, por ejemplo, sería interesante estudiar los días de duracion por incendio y si hubo precipitacion en esas fechas, esto nos ayudaría a entender si estas variables tienen un efecto en el área quemada a futuro, no obstante, podemos ver en las variables independientes que en general disminuye el área quemada según la clase de incendio, y al mismo tiempo, que el area de incendio puede aumentar segun el tipo de vegetacion, lo cual es coherente, por ejemplo, la vegetacion que menor aumento representa manteniendo todas las variables iguales es la vegetacion de desierto, y esto puede deberse a la dispersion de las plantas unas de otras y su poca proliferacion en contraste con otrso escenarios.\n",
    "\n",
    "El R2 para el entrenamiento, el test y la visualizacion en statsmodels, esta cerca del 23% lo cual indica que si bien es un paso de que estas varaibles expliquen las areas quemadas, tambien nos esta diciendo que debemos incorporar informacion adicional para mejorar el modelo, por ejemplo, duracion de los incendios en días, iniciacion del fuego (natural o humana), respuesta de los organismos de emergencia en días u horas, pues podría pensars que si se demora un organismo de emergencia en controlar el fuego este puede extenderse, pero en todo caso, esto nos sirve para iniciar un proceso de iteracion y vinculacion de nuevas varaibles para mejorar nuestro modelo. \n"
   ]
  },
  {
   "cell_type": "code",
   "execution_count": 57,
   "id": "7b2b7915",
   "metadata": {},
   "outputs": [
    {
     "data": {
      "text/plain": [
       "64.51420000000002"
      ]
     },
     "execution_count": 57,
     "metadata": {},
     "output_type": "execute_result"
    }
   ],
   "source": [
    "-66.18 + ((20.89 * 9.34) - (140.04 * 0.46))"
   ]
  },
  {
   "cell_type": "code",
   "execution_count": 58,
   "id": "4bcdb19e",
   "metadata": {},
   "outputs": [
    {
     "data": {
      "text/html": [
       "<div>\n",
       "<style scoped>\n",
       "    .dataframe tbody tr th:only-of-type {\n",
       "        vertical-align: middle;\n",
       "    }\n",
       "\n",
       "    .dataframe tbody tr th {\n",
       "        vertical-align: top;\n",
       "    }\n",
       "\n",
       "    .dataframe thead th {\n",
       "        text-align: right;\n",
       "    }\n",
       "</style>\n",
       "<table border=\"1\" class=\"dataframe\">\n",
       "  <thead>\n",
       "    <tr style=\"text-align: right;\">\n",
       "      <th></th>\n",
       "      <th>area_quemada</th>\n",
       "      <th>Prec_pre_30</th>\n",
       "      <th>Prec_pre_15</th>\n",
       "      <th>Prec_pre_7</th>\n",
       "      <th>Prec_cont</th>\n",
       "      <th>clase_incendio_B</th>\n",
       "      <th>clase_incendio_C</th>\n",
       "      <th>clase_incendio_D</th>\n",
       "      <th>clase_incendio_E</th>\n",
       "      <th>clase_incendio_F</th>\n",
       "      <th>...</th>\n",
       "      <th>mes_incendio_3</th>\n",
       "      <th>mes_incendio_4</th>\n",
       "      <th>mes_incendio_5</th>\n",
       "      <th>mes_incendio_6</th>\n",
       "      <th>mes_incendio_7</th>\n",
       "      <th>mes_incendio_8</th>\n",
       "      <th>mes_incendio_9</th>\n",
       "      <th>mes_incendio_10</th>\n",
       "      <th>mes_incendio_11</th>\n",
       "      <th>mes_incendio_12</th>\n",
       "    </tr>\n",
       "  </thead>\n",
       "  <tbody>\n",
       "    <tr>\n",
       "      <th>count</th>\n",
       "      <td>26394.000000</td>\n",
       "      <td>26394.000000</td>\n",
       "      <td>26394.000000</td>\n",
       "      <td>26394.000000</td>\n",
       "      <td>26394.000000</td>\n",
       "      <td>26394.000000</td>\n",
       "      <td>26394.000000</td>\n",
       "      <td>26394.000000</td>\n",
       "      <td>26394.000000</td>\n",
       "      <td>26394.000000</td>\n",
       "      <td>...</td>\n",
       "      <td>26394.000000</td>\n",
       "      <td>26394.000000</td>\n",
       "      <td>26394.000000</td>\n",
       "      <td>26394.000000</td>\n",
       "      <td>26394.000000</td>\n",
       "      <td>26394.000000</td>\n",
       "      <td>26394.000000</td>\n",
       "      <td>26394.000000</td>\n",
       "      <td>26394.000000</td>\n",
       "      <td>26394.000000</td>\n",
       "    </tr>\n",
       "    <tr>\n",
       "      <th>mean</th>\n",
       "      <td>3172.047101</td>\n",
       "      <td>50.797568</td>\n",
       "      <td>22.813916</td>\n",
       "      <td>9.545003</td>\n",
       "      <td>30.116409</td>\n",
       "      <td>0.587103</td>\n",
       "      <td>0.205236</td>\n",
       "      <td>0.032810</td>\n",
       "      <td>0.016670</td>\n",
       "      <td>0.051262</td>\n",
       "      <td>...</td>\n",
       "      <td>0.131659</td>\n",
       "      <td>0.132151</td>\n",
       "      <td>0.078730</td>\n",
       "      <td>0.095400</td>\n",
       "      <td>0.117640</td>\n",
       "      <td>0.115746</td>\n",
       "      <td>0.065773</td>\n",
       "      <td>0.057740</td>\n",
       "      <td>0.050352</td>\n",
       "      <td>0.031106</td>\n",
       "    </tr>\n",
       "    <tr>\n",
       "      <th>std</th>\n",
       "      <td>17915.947068</td>\n",
       "      <td>152.717610</td>\n",
       "      <td>77.581773</td>\n",
       "      <td>43.286655</td>\n",
       "      <td>80.864260</td>\n",
       "      <td>0.492364</td>\n",
       "      <td>0.403882</td>\n",
       "      <td>0.178144</td>\n",
       "      <td>0.128036</td>\n",
       "      <td>0.220535</td>\n",
       "      <td>...</td>\n",
       "      <td>0.338126</td>\n",
       "      <td>0.338662</td>\n",
       "      <td>0.269322</td>\n",
       "      <td>0.293773</td>\n",
       "      <td>0.322188</td>\n",
       "      <td>0.319926</td>\n",
       "      <td>0.247889</td>\n",
       "      <td>0.233256</td>\n",
       "      <td>0.218675</td>\n",
       "      <td>0.173606</td>\n",
       "    </tr>\n",
       "    <tr>\n",
       "      <th>min</th>\n",
       "      <td>0.510000</td>\n",
       "      <td>0.000000</td>\n",
       "      <td>0.000000</td>\n",
       "      <td>0.000000</td>\n",
       "      <td>0.000000</td>\n",
       "      <td>0.000000</td>\n",
       "      <td>0.000000</td>\n",
       "      <td>0.000000</td>\n",
       "      <td>0.000000</td>\n",
       "      <td>0.000000</td>\n",
       "      <td>...</td>\n",
       "      <td>0.000000</td>\n",
       "      <td>0.000000</td>\n",
       "      <td>0.000000</td>\n",
       "      <td>0.000000</td>\n",
       "      <td>0.000000</td>\n",
       "      <td>0.000000</td>\n",
       "      <td>0.000000</td>\n",
       "      <td>0.000000</td>\n",
       "      <td>0.000000</td>\n",
       "      <td>0.000000</td>\n",
       "    </tr>\n",
       "    <tr>\n",
       "      <th>25%</th>\n",
       "      <td>1.500000</td>\n",
       "      <td>0.000000</td>\n",
       "      <td>0.000000</td>\n",
       "      <td>0.000000</td>\n",
       "      <td>0.000000</td>\n",
       "      <td>0.000000</td>\n",
       "      <td>0.000000</td>\n",
       "      <td>0.000000</td>\n",
       "      <td>0.000000</td>\n",
       "      <td>0.000000</td>\n",
       "      <td>...</td>\n",
       "      <td>0.000000</td>\n",
       "      <td>0.000000</td>\n",
       "      <td>0.000000</td>\n",
       "      <td>0.000000</td>\n",
       "      <td>0.000000</td>\n",
       "      <td>0.000000</td>\n",
       "      <td>0.000000</td>\n",
       "      <td>0.000000</td>\n",
       "      <td>0.000000</td>\n",
       "      <td>0.000000</td>\n",
       "    </tr>\n",
       "    <tr>\n",
       "      <th>50%</th>\n",
       "      <td>5.000000</td>\n",
       "      <td>16.600000</td>\n",
       "      <td>2.800000</td>\n",
       "      <td>0.000000</td>\n",
       "      <td>0.000000</td>\n",
       "      <td>1.000000</td>\n",
       "      <td>0.000000</td>\n",
       "      <td>0.000000</td>\n",
       "      <td>0.000000</td>\n",
       "      <td>0.000000</td>\n",
       "      <td>...</td>\n",
       "      <td>0.000000</td>\n",
       "      <td>0.000000</td>\n",
       "      <td>0.000000</td>\n",
       "      <td>0.000000</td>\n",
       "      <td>0.000000</td>\n",
       "      <td>0.000000</td>\n",
       "      <td>0.000000</td>\n",
       "      <td>0.000000</td>\n",
       "      <td>0.000000</td>\n",
       "      <td>0.000000</td>\n",
       "    </tr>\n",
       "    <tr>\n",
       "      <th>75%</th>\n",
       "      <td>46.000000</td>\n",
       "      <td>59.700000</td>\n",
       "      <td>23.500000</td>\n",
       "      <td>5.900000</td>\n",
       "      <td>28.900000</td>\n",
       "      <td>1.000000</td>\n",
       "      <td>0.000000</td>\n",
       "      <td>0.000000</td>\n",
       "      <td>0.000000</td>\n",
       "      <td>0.000000</td>\n",
       "      <td>...</td>\n",
       "      <td>0.000000</td>\n",
       "      <td>0.000000</td>\n",
       "      <td>0.000000</td>\n",
       "      <td>0.000000</td>\n",
       "      <td>0.000000</td>\n",
       "      <td>0.000000</td>\n",
       "      <td>0.000000</td>\n",
       "      <td>0.000000</td>\n",
       "      <td>0.000000</td>\n",
       "      <td>0.000000</td>\n",
       "    </tr>\n",
       "    <tr>\n",
       "      <th>max</th>\n",
       "      <td>538049.000000</td>\n",
       "      <td>13560.800000</td>\n",
       "      <td>2527.000000</td>\n",
       "      <td>1638.000000</td>\n",
       "      <td>2126.000000</td>\n",
       "      <td>1.000000</td>\n",
       "      <td>1.000000</td>\n",
       "      <td>1.000000</td>\n",
       "      <td>1.000000</td>\n",
       "      <td>1.000000</td>\n",
       "      <td>...</td>\n",
       "      <td>1.000000</td>\n",
       "      <td>1.000000</td>\n",
       "      <td>1.000000</td>\n",
       "      <td>1.000000</td>\n",
       "      <td>1.000000</td>\n",
       "      <td>1.000000</td>\n",
       "      <td>1.000000</td>\n",
       "      <td>1.000000</td>\n",
       "      <td>1.000000</td>\n",
       "      <td>1.000000</td>\n",
       "    </tr>\n",
       "  </tbody>\n",
       "</table>\n",
       "<p>8 rows × 30 columns</p>\n",
       "</div>"
      ],
      "text/plain": [
       "        area_quemada   Prec_pre_30   Prec_pre_15    Prec_pre_7     Prec_cont  \\\n",
       "count   26394.000000  26394.000000  26394.000000  26394.000000  26394.000000   \n",
       "mean     3172.047101     50.797568     22.813916      9.545003     30.116409   \n",
       "std     17915.947068    152.717610     77.581773     43.286655     80.864260   \n",
       "min         0.510000      0.000000      0.000000      0.000000      0.000000   \n",
       "25%         1.500000      0.000000      0.000000      0.000000      0.000000   \n",
       "50%         5.000000     16.600000      2.800000      0.000000      0.000000   \n",
       "75%        46.000000     59.700000     23.500000      5.900000     28.900000   \n",
       "max    538049.000000  13560.800000   2527.000000   1638.000000   2126.000000   \n",
       "\n",
       "       clase_incendio_B  clase_incendio_C  clase_incendio_D  clase_incendio_E  \\\n",
       "count      26394.000000      26394.000000      26394.000000      26394.000000   \n",
       "mean           0.587103          0.205236          0.032810          0.016670   \n",
       "std            0.492364          0.403882          0.178144          0.128036   \n",
       "min            0.000000          0.000000          0.000000          0.000000   \n",
       "25%            0.000000          0.000000          0.000000          0.000000   \n",
       "50%            1.000000          0.000000          0.000000          0.000000   \n",
       "75%            1.000000          0.000000          0.000000          0.000000   \n",
       "max            1.000000          1.000000          1.000000          1.000000   \n",
       "\n",
       "       clase_incendio_F  ...  mes_incendio_3  mes_incendio_4  mes_incendio_5  \\\n",
       "count      26394.000000  ...    26394.000000    26394.000000    26394.000000   \n",
       "mean           0.051262  ...        0.131659        0.132151        0.078730   \n",
       "std            0.220535  ...        0.338126        0.338662        0.269322   \n",
       "min            0.000000  ...        0.000000        0.000000        0.000000   \n",
       "25%            0.000000  ...        0.000000        0.000000        0.000000   \n",
       "50%            0.000000  ...        0.000000        0.000000        0.000000   \n",
       "75%            0.000000  ...        0.000000        0.000000        0.000000   \n",
       "max            1.000000  ...        1.000000        1.000000        1.000000   \n",
       "\n",
       "       mes_incendio_6  mes_incendio_7  mes_incendio_8  mes_incendio_9  \\\n",
       "count    26394.000000    26394.000000    26394.000000    26394.000000   \n",
       "mean         0.095400        0.117640        0.115746        0.065773   \n",
       "std          0.293773        0.322188        0.319926        0.247889   \n",
       "min          0.000000        0.000000        0.000000        0.000000   \n",
       "25%          0.000000        0.000000        0.000000        0.000000   \n",
       "50%          0.000000        0.000000        0.000000        0.000000   \n",
       "75%          0.000000        0.000000        0.000000        0.000000   \n",
       "max          1.000000        1.000000        1.000000        1.000000   \n",
       "\n",
       "       mes_incendio_10  mes_incendio_11  mes_incendio_12  \n",
       "count     26394.000000     26394.000000     26394.000000  \n",
       "mean          0.057740         0.050352         0.031106  \n",
       "std           0.233256         0.218675         0.173606  \n",
       "min           0.000000         0.000000         0.000000  \n",
       "25%           0.000000         0.000000         0.000000  \n",
       "50%           0.000000         0.000000         0.000000  \n",
       "75%           0.000000         0.000000         0.000000  \n",
       "max           1.000000         1.000000         1.000000  \n",
       "\n",
       "[8 rows x 30 columns]"
      ]
     },
     "execution_count": 58,
     "metadata": {},
     "output_type": "execute_result"
    }
   ],
   "source": [
    "datos_i.describe()"
   ]
  },
  {
   "cell_type": "code",
   "execution_count": 59,
   "id": "f5eb2e88",
   "metadata": {},
   "outputs": [
    {
     "data": {
      "text/html": [
       "<div>\n",
       "<style scoped>\n",
       "    .dataframe tbody tr th:only-of-type {\n",
       "        vertical-align: middle;\n",
       "    }\n",
       "\n",
       "    .dataframe tbody tr th {\n",
       "        vertical-align: top;\n",
       "    }\n",
       "\n",
       "    .dataframe thead th {\n",
       "        text-align: right;\n",
       "    }\n",
       "</style>\n",
       "<table border=\"1\" class=\"dataframe\">\n",
       "  <thead>\n",
       "    <tr style=\"text-align: right;\">\n",
       "      <th></th>\n",
       "      <th>area_quemada</th>\n",
       "      <th>Prec_pre_30</th>\n",
       "      <th>Prec_pre_15</th>\n",
       "      <th>Prec_pre_7</th>\n",
       "      <th>Prec_cont</th>\n",
       "    </tr>\n",
       "  </thead>\n",
       "  <tbody>\n",
       "    <tr>\n",
       "      <th>count</th>\n",
       "      <td>26394.000000</td>\n",
       "      <td>26394.000000</td>\n",
       "      <td>26394.000000</td>\n",
       "      <td>26394.000000</td>\n",
       "      <td>26394.000000</td>\n",
       "    </tr>\n",
       "    <tr>\n",
       "      <th>mean</th>\n",
       "      <td>3172.047101</td>\n",
       "      <td>50.797568</td>\n",
       "      <td>22.813916</td>\n",
       "      <td>9.545003</td>\n",
       "      <td>30.116409</td>\n",
       "    </tr>\n",
       "    <tr>\n",
       "      <th>std</th>\n",
       "      <td>17915.947068</td>\n",
       "      <td>152.717610</td>\n",
       "      <td>77.581773</td>\n",
       "      <td>43.286655</td>\n",
       "      <td>80.864260</td>\n",
       "    </tr>\n",
       "    <tr>\n",
       "      <th>min</th>\n",
       "      <td>0.510000</td>\n",
       "      <td>0.000000</td>\n",
       "      <td>0.000000</td>\n",
       "      <td>0.000000</td>\n",
       "      <td>0.000000</td>\n",
       "    </tr>\n",
       "    <tr>\n",
       "      <th>25%</th>\n",
       "      <td>1.500000</td>\n",
       "      <td>0.000000</td>\n",
       "      <td>0.000000</td>\n",
       "      <td>0.000000</td>\n",
       "      <td>0.000000</td>\n",
       "    </tr>\n",
       "    <tr>\n",
       "      <th>50%</th>\n",
       "      <td>5.000000</td>\n",
       "      <td>16.600000</td>\n",
       "      <td>2.800000</td>\n",
       "      <td>0.000000</td>\n",
       "      <td>0.000000</td>\n",
       "    </tr>\n",
       "    <tr>\n",
       "      <th>75%</th>\n",
       "      <td>46.000000</td>\n",
       "      <td>59.700000</td>\n",
       "      <td>23.500000</td>\n",
       "      <td>5.900000</td>\n",
       "      <td>28.900000</td>\n",
       "    </tr>\n",
       "    <tr>\n",
       "      <th>max</th>\n",
       "      <td>538049.000000</td>\n",
       "      <td>13560.800000</td>\n",
       "      <td>2527.000000</td>\n",
       "      <td>1638.000000</td>\n",
       "      <td>2126.000000</td>\n",
       "    </tr>\n",
       "  </tbody>\n",
       "</table>\n",
       "</div>"
      ],
      "text/plain": [
       "        area_quemada   Prec_pre_30   Prec_pre_15    Prec_pre_7     Prec_cont\n",
       "count   26394.000000  26394.000000  26394.000000  26394.000000  26394.000000\n",
       "mean     3172.047101     50.797568     22.813916      9.545003     30.116409\n",
       "std     17915.947068    152.717610     77.581773     43.286655     80.864260\n",
       "min         0.510000      0.000000      0.000000      0.000000      0.000000\n",
       "25%         1.500000      0.000000      0.000000      0.000000      0.000000\n",
       "50%         5.000000     16.600000      2.800000      0.000000      0.000000\n",
       "75%        46.000000     59.700000     23.500000      5.900000     28.900000\n",
       "max    538049.000000  13560.800000   2527.000000   1638.000000   2126.000000"
      ]
     },
     "execution_count": 59,
     "metadata": {},
     "output_type": "execute_result"
    }
   ],
   "source": [
    "datos.describe()"
   ]
  },
  {
   "cell_type": "code",
   "execution_count": 60,
   "id": "24efc647",
   "metadata": {},
   "outputs": [
    {
     "data": {
      "text/plain": [
       "Index(['area_quemada', 'clase_incendio', 'mes_incendio', 'vegetacion',\n",
       "       'Prec_pre_30', 'Prec_pre_15', 'Prec_pre_7', 'Prec_cont'],\n",
       "      dtype='object')"
      ]
     },
     "execution_count": 60,
     "metadata": {},
     "output_type": "execute_result"
    }
   ],
   "source": [
    "datos.columns"
   ]
  },
  {
   "cell_type": "code",
   "execution_count": 61,
   "id": "09707f51",
   "metadata": {},
   "outputs": [
    {
     "data": {
      "text/plain": [
       "B    15496\n",
       "C     5417\n",
       "G     2822\n",
       "F     1353\n",
       "D      866\n",
       "E      440\n",
       "Name: clase_incendio, dtype: int64"
      ]
     },
     "execution_count": 61,
     "metadata": {},
     "output_type": "execute_result"
    }
   ],
   "source": [
    "datos.clase_incendio.value_counts()"
   ]
  },
  {
   "cell_type": "markdown",
   "id": "49f48d9b",
   "metadata": {},
   "source": [
    "## Regresion Cuadratica o Polinomial"
   ]
  },
  {
   "cell_type": "code",
   "execution_count": 62,
   "id": "af091d29",
   "metadata": {},
   "outputs": [
    {
     "data": {
      "text/html": [
       "<div>\n",
       "<style scoped>\n",
       "    .dataframe tbody tr th:only-of-type {\n",
       "        vertical-align: middle;\n",
       "    }\n",
       "\n",
       "    .dataframe tbody tr th {\n",
       "        vertical-align: top;\n",
       "    }\n",
       "\n",
       "    .dataframe thead th {\n",
       "        text-align: right;\n",
       "    }\n",
       "</style>\n",
       "<table border=\"1\" class=\"dataframe\">\n",
       "  <thead>\n",
       "    <tr style=\"text-align: right;\">\n",
       "      <th></th>\n",
       "      <th>CRIM</th>\n",
       "      <th>ZN</th>\n",
       "      <th>INDUS</th>\n",
       "      <th>CHAS</th>\n",
       "      <th>NOX</th>\n",
       "      <th>RM</th>\n",
       "      <th>AGE</th>\n",
       "      <th>DIS</th>\n",
       "      <th>RAD</th>\n",
       "      <th>TAX</th>\n",
       "      <th>PTRATIO</th>\n",
       "      <th>B</th>\n",
       "      <th>LSTAT</th>\n",
       "      <th>target</th>\n",
       "    </tr>\n",
       "  </thead>\n",
       "  <tbody>\n",
       "    <tr>\n",
       "      <th>0</th>\n",
       "      <td>0.00632</td>\n",
       "      <td>18.0</td>\n",
       "      <td>2.31</td>\n",
       "      <td>0.0</td>\n",
       "      <td>0.538</td>\n",
       "      <td>6.575</td>\n",
       "      <td>65.2</td>\n",
       "      <td>4.0900</td>\n",
       "      <td>1.0</td>\n",
       "      <td>296.0</td>\n",
       "      <td>15.3</td>\n",
       "      <td>396.9</td>\n",
       "      <td>4.98</td>\n",
       "      <td>24.0</td>\n",
       "    </tr>\n",
       "    <tr>\n",
       "      <th>1</th>\n",
       "      <td>0.02731</td>\n",
       "      <td>0.0</td>\n",
       "      <td>7.07</td>\n",
       "      <td>0.0</td>\n",
       "      <td>0.469</td>\n",
       "      <td>6.421</td>\n",
       "      <td>78.9</td>\n",
       "      <td>4.9671</td>\n",
       "      <td>2.0</td>\n",
       "      <td>242.0</td>\n",
       "      <td>17.8</td>\n",
       "      <td>396.9</td>\n",
       "      <td>9.14</td>\n",
       "      <td>21.6</td>\n",
       "    </tr>\n",
       "  </tbody>\n",
       "</table>\n",
       "</div>"
      ],
      "text/plain": [
       "      CRIM    ZN  INDUS  CHAS    NOX     RM   AGE     DIS  RAD    TAX  \\\n",
       "0  0.00632  18.0   2.31   0.0  0.538  6.575  65.2  4.0900  1.0  296.0   \n",
       "1  0.02731   0.0   7.07   0.0  0.469  6.421  78.9  4.9671  2.0  242.0   \n",
       "\n",
       "   PTRATIO      B  LSTAT  target  \n",
       "0     15.3  396.9   4.98    24.0  \n",
       "1     17.8  396.9   9.14    21.6  "
      ]
     },
     "execution_count": 62,
     "metadata": {},
     "output_type": "execute_result"
    }
   ],
   "source": [
    "datos = pd.read_csv(\"bostonhousing.csv\")\n",
    "datos.head(2)"
   ]
  },
  {
   "cell_type": "code",
   "execution_count": 63,
   "id": "6e955284",
   "metadata": {},
   "outputs": [],
   "source": [
    "# importamos la librerias para elevar al cuadrado las variables\n",
    "\n",
    "from sklearn.preprocessing import PolynomialFeatures"
   ]
  },
  {
   "cell_type": "code",
   "execution_count": 64,
   "id": "fbde872d",
   "metadata": {},
   "outputs": [],
   "source": [
    "casas = datos[[\"CRIM\",\"target\"]]"
   ]
  },
  {
   "cell_type": "code",
   "execution_count": 65,
   "id": "314ed0ba",
   "metadata": {},
   "outputs": [
    {
     "data": {
      "image/png": "[encoded data removed]",
      "text/plain": [
       "<Figure size 1000x1000 with 1 Axes>"
      ]
     },
     "metadata": {},
     "output_type": "display_data"
    }
   ],
   "source": [
    "plt.figure(figsize = (10, 10))\n",
    "plt.plot( casas[\"target\"],  casas[\"CRIM\"], \".\")\n",
    "plt.show()"
   ]
  },
  {
   "cell_type": "code",
   "execution_count": 66,
   "id": "ee543fc4",
   "metadata": {},
   "outputs": [],
   "source": [
    "# Para este ejercicio no se observa mucha correlación y no sé si es un modelo lineal o cuadratico\n",
    "# pero utilizaré modelo cuadratico."
   ]
  },
  {
   "cell_type": "code",
   "execution_count": 67,
   "id": "0a33ad4c",
   "metadata": {},
   "outputs": [
    {
     "data": {
      "text/html": [
       "<div>\n",
       "<style scoped>\n",
       "    .dataframe tbody tr th:only-of-type {\n",
       "        vertical-align: middle;\n",
       "    }\n",
       "\n",
       "    .dataframe tbody tr th {\n",
       "        vertical-align: top;\n",
       "    }\n",
       "\n",
       "    .dataframe thead th {\n",
       "        text-align: right;\n",
       "    }\n",
       "</style>\n",
       "<table border=\"1\" class=\"dataframe\">\n",
       "  <thead>\n",
       "    <tr style=\"text-align: right;\">\n",
       "      <th></th>\n",
       "      <th>CRIM</th>\n",
       "      <th>CRIM_log</th>\n",
       "    </tr>\n",
       "  </thead>\n",
       "  <tbody>\n",
       "    <tr>\n",
       "      <th>0</th>\n",
       "      <td>0.00632</td>\n",
       "      <td>-5.064036</td>\n",
       "    </tr>\n",
       "    <tr>\n",
       "      <th>1</th>\n",
       "      <td>0.02731</td>\n",
       "      <td>-3.600502</td>\n",
       "    </tr>\n",
       "    <tr>\n",
       "      <th>2</th>\n",
       "      <td>0.02729</td>\n",
       "      <td>-3.601235</td>\n",
       "    </tr>\n",
       "    <tr>\n",
       "      <th>3</th>\n",
       "      <td>0.03237</td>\n",
       "      <td>-3.430523</td>\n",
       "    </tr>\n",
       "    <tr>\n",
       "      <th>4</th>\n",
       "      <td>0.06905</td>\n",
       "      <td>-2.672924</td>\n",
       "    </tr>\n",
       "    <tr>\n",
       "      <th>...</th>\n",
       "      <td>...</td>\n",
       "      <td>...</td>\n",
       "    </tr>\n",
       "    <tr>\n",
       "      <th>501</th>\n",
       "      <td>0.06263</td>\n",
       "      <td>-2.770511</td>\n",
       "    </tr>\n",
       "    <tr>\n",
       "      <th>502</th>\n",
       "      <td>0.04527</td>\n",
       "      <td>-3.095111</td>\n",
       "    </tr>\n",
       "    <tr>\n",
       "      <th>503</th>\n",
       "      <td>0.06076</td>\n",
       "      <td>-2.800824</td>\n",
       "    </tr>\n",
       "    <tr>\n",
       "      <th>504</th>\n",
       "      <td>0.10959</td>\n",
       "      <td>-2.211009</td>\n",
       "    </tr>\n",
       "    <tr>\n",
       "      <th>505</th>\n",
       "      <td>0.04741</td>\n",
       "      <td>-3.048922</td>\n",
       "    </tr>\n",
       "  </tbody>\n",
       "</table>\n",
       "<p>506 rows × 2 columns</p>\n",
       "</div>"
      ],
      "text/plain": [
       "        CRIM  CRIM_log\n",
       "0    0.00632 -5.064036\n",
       "1    0.02731 -3.600502\n",
       "2    0.02729 -3.601235\n",
       "3    0.03237 -3.430523\n",
       "4    0.06905 -2.672924\n",
       "..       ...       ...\n",
       "501  0.06263 -2.770511\n",
       "502  0.04527 -3.095111\n",
       "503  0.06076 -2.800824\n",
       "504  0.10959 -2.211009\n",
       "505  0.04741 -3.048922\n",
       "\n",
       "[506 rows x 2 columns]"
      ]
     },
     "execution_count": 67,
     "metadata": {},
     "output_type": "execute_result"
    }
   ],
   "source": [
    "# primero el simple \n",
    "\n",
    "y = casas[\"target\"]\n",
    "X = casas.drop([\"target\"],axis = 1)\n",
    "X[\"CRIM_log\"] = np.log(casas[\"CRIM\"]) # Creamos el logaritmo natural para disminuir el sesgo\n",
    "X"
   ]
  },
  {
   "cell_type": "code",
   "execution_count": 68,
   "id": "2234b47d",
   "metadata": {},
   "outputs": [],
   "source": [
    "X_train, X_test, y_train, y_test = train_test_split(X, y, test_size=0.2, random_state=0)"
   ]
  },
  {
   "cell_type": "code",
   "execution_count": 69,
   "id": "df86ccaa",
   "metadata": {},
   "outputs": [
    {
     "data": {
      "text/plain": [
       "LinearRegression()"
      ]
     },
     "execution_count": 69,
     "metadata": {},
     "output_type": "execute_result"
    }
   ],
   "source": [
    "l_model = LinearRegression()\n",
    "l_model.fit(X_train, y_train)"
   ]
  },
  {
   "cell_type": "code",
   "execution_count": 70,
   "id": "b8195140",
   "metadata": {},
   "outputs": [
    {
     "name": "stdout",
     "output_type": "stream",
     "text": [
      "MSE 81.38\n",
      "RMSE 9.02\n",
      "MAE 6.25\n",
      "R2 0.00\n"
     ]
    }
   ],
   "source": [
    "y_predict = l_model.predict(X_test)\n",
    "\n",
    "print(\"MSE %.2f\" % mean_squared_error(y_test, y_predict, squared=True))\n",
    "print(\"RMSE %.2f\" % mean_squared_error(y_test, y_predict, squared=False))\n",
    "print(\"MAE %.2f\" %mean_absolute_error(y_test, y_predict))\n",
    "print(\"R2 %.2f\" % r2_score(y_test, y_predict))"
   ]
  },
  {
   "cell_type": "code",
   "execution_count": 71,
   "id": "978f301b",
   "metadata": {},
   "outputs": [
    {
     "data": {
      "text/plain": [
       "-1.7959840114478873"
      ]
     },
     "execution_count": 71,
     "metadata": {},
     "output_type": "execute_result"
    }
   ],
   "source": [
    "w1 = l_model.coef_[1]\n",
    "w1"
   ]
  },
  {
   "cell_type": "code",
   "execution_count": 72,
   "id": "c8c62908",
   "metadata": {},
   "outputs": [
    {
     "data": {
      "text/plain": [
       "21.62397545618368"
      ]
     },
     "execution_count": 72,
     "metadata": {},
     "output_type": "execute_result"
    }
   ],
   "source": [
    "w0 = l_model.intercept_\n",
    "w0"
   ]
  },
  {
   "cell_type": "code",
   "execution_count": 73,
   "id": "12419212",
   "metadata": {},
   "outputs": [
    {
     "data": {
      "image/png": "[encoded data removed]",
      "text/plain": [
       "<Figure size 1000x1000 with 1 Axes>"
      ]
     },
     "metadata": {},
     "output_type": "display_data"
    }
   ],
   "source": [
    "plt.figure(figsize=(10, 10))\n",
    "plt.plot(X[\"CRIM_log\"], y, \".\", label=\"Puntos\")\n",
    "plt.plot(X[\"CRIM_log\"], w0 + w1 * X[\"CRIM_log\"], color=\"green\", label=\"Regresión lineal\")\n",
    "plt.xlabel(\"CRIM_log\")\n",
    "plt.ylabel(\"y\")\n",
    "plt.title(\"Regresión lineal\")\n",
    "plt.legend()\n",
    "plt.show()\n"
   ]
  },
  {
   "cell_type": "code",
   "execution_count": null,
   "id": "31b4a860",
   "metadata": {},
   "outputs": [],
   "source": []
  },
  {
   "cell_type": "markdown",
   "id": "67347ce5",
   "metadata": {},
   "source": [
    "__Crear ahora un modelo cuadratico, para lo que se necesita convertir las variables en cuadraticas__"
   ]
  },
  {
   "cell_type": "code",
   "execution_count": 74,
   "id": "2697268c",
   "metadata": {},
   "outputs": [],
   "source": [
    "pf = PolynomialFeatures(degree = 2)"
   ]
  },
  {
   "cell_type": "code",
   "execution_count": 75,
   "id": "f141c0e2",
   "metadata": {},
   "outputs": [
    {
     "data": {
      "text/plain": [
       "array([[ 1.        , -5.06403607, 25.64446133],\n",
       "       [ 1.        , -3.60050234, 12.96361713],\n",
       "       [ 1.        , -3.60123494, 12.96889312],\n",
       "       ...,\n",
       "       [ 1.        , -2.8008236 ,  7.84461285],\n",
       "       [ 1.        , -2.21100915,  4.88856146],\n",
       "       [ 1.        , -3.0489221 ,  9.29592598]])"
      ]
     },
     "execution_count": 75,
     "metadata": {},
     "output_type": "execute_result"
    }
   ],
   "source": [
    "X_pol = pf.fit_transform(X[[\"CRIM_log\"]])\n",
    "X_pol"
   ]
  },
  {
   "cell_type": "code",
   "execution_count": 76,
   "id": "57ebdf77",
   "metadata": {},
   "outputs": [],
   "source": [
    "X_train, X_test, y_train, y_test = train_test_split(X_pol, y, test_size=0.2, random_state=0)"
   ]
  },
  {
   "cell_type": "code",
   "execution_count": 77,
   "id": "dad05ace",
   "metadata": {},
   "outputs": [
    {
     "data": {
      "text/plain": [
       "LinearRegression()"
      ]
     },
     "execution_count": 77,
     "metadata": {},
     "output_type": "execute_result"
    }
   ],
   "source": [
    "l_model_cuadratico = LinearRegression()\n",
    "l_model_cuadratico.fit(X_train, y_train)"
   ]
  },
  {
   "cell_type": "code",
   "execution_count": 78,
   "id": "04d54bc1",
   "metadata": {},
   "outputs": [
    {
     "name": "stdout",
     "output_type": "stream",
     "text": [
      "MSE 81.73\n",
      "RMSE 9.04\n",
      "MAE 6.19\n",
      "R2 -0.00\n"
     ]
    }
   ],
   "source": [
    "y_predict = l_model_cuadratico.predict(X_test)\n",
    "\n",
    "print(\"MSE %.2f\" % mean_squared_error(y_test, y_predict, squared=True))\n",
    "print(\"RMSE %.2f\" % mean_squared_error(y_test, y_predict, squared=False))\n",
    "print(\"MAE %.2f\" %mean_absolute_error(y_test, y_predict))\n",
    "print(\"R2 %.2f\" % r2_score(y_test, y_predict))"
   ]
  },
  {
   "cell_type": "code",
   "execution_count": 79,
   "id": "0bfb6664",
   "metadata": {},
   "outputs": [],
   "source": [
    "w1 = l_model_cuadratico.coef_[1]\n",
    "w2 = l_model_cuadratico.coef_[2]\n",
    "w0 = l_model_cuadratico.intercept_\n"
   ]
  },
  {
   "cell_type": "code",
   "execution_count": 80,
   "id": "d5cb64cc",
   "metadata": {},
   "outputs": [
    {
     "data": {
      "image/png": "[encoded data removed]",
      "text/plain": [
       "<Figure size 1000x1000 with 1 Axes>"
      ]
     },
     "metadata": {},
     "output_type": "display_data"
    }
   ],
   "source": [
    "plt.figure(figsize=(10, 10))\n",
    "plt.plot(X[\"CRIM_log\"], y, \".\", label=\"Puntos\")\n",
    "puntos = np.linspace(0, 20, 100)\n",
    "\n",
    "modelo = w0 + w1 * puntos + w2 * (puntos**2)\n",
    "plt.plot(puntos, modelo, color = \"green\")\n",
    "\n",
    "plt.title(\"Regresión Cuadratica\")\n",
    "plt.legend()\n",
    "plt.show()\n"
   ]
  },
  {
   "cell_type": "code",
   "execution_count": 81,
   "id": "d3879b58",
   "metadata": {},
   "outputs": [],
   "source": [
    "# Ambos modelos que hicismos estuvieron mal hechos.\n",
    "# Pero pudimos visualizar como cambia la curva "
   ]
  },
  {
   "cell_type": "markdown",
   "id": "abdfb9d3",
   "metadata": {},
   "source": [
    "## Transformación polinomial: interacciones entre variables\n",
    "\n"
   ]
  },
  {
   "cell_type": "code",
   "execution_count": 82,
   "id": "8195182d",
   "metadata": {},
   "outputs": [],
   "source": [
    "datos = pd.read_csv(\"vehicles_us.csv\")"
   ]
  },
  {
   "cell_type": "code",
   "execution_count": 83,
   "id": "c307a1f9",
   "metadata": {},
   "outputs": [
    {
     "data": {
      "text/plain": [
       "(51525, 13)"
      ]
     },
     "execution_count": 83,
     "metadata": {},
     "output_type": "execute_result"
    }
   ],
   "source": [
    "datos.shape"
   ]
  },
  {
   "cell_type": "code",
   "execution_count": 84,
   "id": "a9cbbf45",
   "metadata": {},
   "outputs": [
    {
     "data": {
      "text/plain": [
       "(14852, 13)"
      ]
     },
     "execution_count": 84,
     "metadata": {},
     "output_type": "execute_result"
    }
   ],
   "source": [
    "datos = datos.dropna().drop_duplicates()\n",
    "datos_t = datos\n",
    "datos.shape"
   ]
  },
  {
   "cell_type": "code",
   "execution_count": 85,
   "id": "486b7840",
   "metadata": {},
   "outputs": [
    {
     "data": {
      "text/plain": [
       "Index(['price', 'model_year', 'model', 'condition', 'cylinders', 'fuel',\n",
       "       'odometer', 'transmission', 'type', 'paint_color', 'is_4wd',\n",
       "       'date_posted', 'days_listed'],\n",
       "      dtype='object')"
      ]
     },
     "execution_count": 85,
     "metadata": {},
     "output_type": "execute_result"
    }
   ],
   "source": [
    "datos.columns"
   ]
  },
  {
   "cell_type": "code",
   "execution_count": 86,
   "id": "2cf11a3f",
   "metadata": {},
   "outputs": [],
   "source": [
    "#datos_t = pd.get_dummies(datos_t, columns=[\"fuel\",\"transmission\"])"
   ]
  },
  {
   "cell_type": "code",
   "execution_count": 87,
   "id": "b9d8879e",
   "metadata": {},
   "outputs": [
    {
     "data": {
      "text/html": [
       "<div>\n",
       "<style scoped>\n",
       "    .dataframe tbody tr th:only-of-type {\n",
       "        vertical-align: middle;\n",
       "    }\n",
       "\n",
       "    .dataframe tbody tr th {\n",
       "        vertical-align: top;\n",
       "    }\n",
       "\n",
       "    .dataframe thead th {\n",
       "        text-align: right;\n",
       "    }\n",
       "</style>\n",
       "<table border=\"1\" class=\"dataframe\">\n",
       "  <thead>\n",
       "    <tr style=\"text-align: right;\">\n",
       "      <th></th>\n",
       "      <th>model_year</th>\n",
       "      <th>cylinders</th>\n",
       "      <th>odometer</th>\n",
       "      <th>is_4wd</th>\n",
       "      <th>days_listed</th>\n",
       "    </tr>\n",
       "  </thead>\n",
       "  <tbody>\n",
       "    <tr>\n",
       "      <th>5</th>\n",
       "      <td>2014.0</td>\n",
       "      <td>6.0</td>\n",
       "      <td>57954.0</td>\n",
       "      <td>1.0</td>\n",
       "      <td>15</td>\n",
       "    </tr>\n",
       "    <tr>\n",
       "      <th>7</th>\n",
       "      <td>2013.0</td>\n",
       "      <td>6.0</td>\n",
       "      <td>109473.0</td>\n",
       "      <td>1.0</td>\n",
       "      <td>68</td>\n",
       "    </tr>\n",
       "    <tr>\n",
       "      <th>10</th>\n",
       "      <td>2011.0</td>\n",
       "      <td>8.0</td>\n",
       "      <td>128413.0</td>\n",
       "      <td>1.0</td>\n",
       "      <td>38</td>\n",
       "    </tr>\n",
       "    <tr>\n",
       "      <th>14</th>\n",
       "      <td>2009.0</td>\n",
       "      <td>8.0</td>\n",
       "      <td>132285.0</td>\n",
       "      <td>1.0</td>\n",
       "      <td>24</td>\n",
       "    </tr>\n",
       "    <tr>\n",
       "      <th>16</th>\n",
       "      <td>2010.0</td>\n",
       "      <td>8.0</td>\n",
       "      <td>130725.0</td>\n",
       "      <td>1.0</td>\n",
       "      <td>13</td>\n",
       "    </tr>\n",
       "    <tr>\n",
       "      <th>...</th>\n",
       "      <td>...</td>\n",
       "      <td>...</td>\n",
       "      <td>...</td>\n",
       "      <td>...</td>\n",
       "      <td>...</td>\n",
       "    </tr>\n",
       "    <tr>\n",
       "      <th>51494</th>\n",
       "      <td>2009.0</td>\n",
       "      <td>6.0</td>\n",
       "      <td>95021.0</td>\n",
       "      <td>1.0</td>\n",
       "      <td>8</td>\n",
       "    </tr>\n",
       "    <tr>\n",
       "      <th>51500</th>\n",
       "      <td>2012.0</td>\n",
       "      <td>6.0</td>\n",
       "      <td>157000.0</td>\n",
       "      <td>1.0</td>\n",
       "      <td>17</td>\n",
       "    </tr>\n",
       "    <tr>\n",
       "      <th>51509</th>\n",
       "      <td>2010.0</td>\n",
       "      <td>4.0</td>\n",
       "      <td>121778.0</td>\n",
       "      <td>1.0</td>\n",
       "      <td>8</td>\n",
       "    </tr>\n",
       "    <tr>\n",
       "      <th>51513</th>\n",
       "      <td>2014.0</td>\n",
       "      <td>8.0</td>\n",
       "      <td>154000.0</td>\n",
       "      <td>1.0</td>\n",
       "      <td>11</td>\n",
       "    </tr>\n",
       "    <tr>\n",
       "      <th>51515</th>\n",
       "      <td>2005.0</td>\n",
       "      <td>8.0</td>\n",
       "      <td>228000.0</td>\n",
       "      <td>1.0</td>\n",
       "      <td>52</td>\n",
       "    </tr>\n",
       "  </tbody>\n",
       "</table>\n",
       "<p>14852 rows × 5 columns</p>\n",
       "</div>"
      ],
      "text/plain": [
       "       model_year  cylinders  odometer  is_4wd  days_listed\n",
       "5          2014.0        6.0   57954.0     1.0           15\n",
       "7          2013.0        6.0  109473.0     1.0           68\n",
       "10         2011.0        8.0  128413.0     1.0           38\n",
       "14         2009.0        8.0  132285.0     1.0           24\n",
       "16         2010.0        8.0  130725.0     1.0           13\n",
       "...           ...        ...       ...     ...          ...\n",
       "51494      2009.0        6.0   95021.0     1.0            8\n",
       "51500      2012.0        6.0  157000.0     1.0           17\n",
       "51509      2010.0        4.0  121778.0     1.0            8\n",
       "51513      2014.0        8.0  154000.0     1.0           11\n",
       "51515      2005.0        8.0  228000.0     1.0           52\n",
       "\n",
       "[14852 rows x 5 columns]"
      ]
     },
     "execution_count": 87,
     "metadata": {},
     "output_type": "execute_result"
    }
   ],
   "source": [
    "y = datos_t[\"price\"]\n",
    "X = datos_t.drop([\"price\", \"model\",\"condition\",\"fuel\",\"transmission\",\"paint_color\",\"date_posted\",\"type\"], axis = 1)\n",
    "X"
   ]
  },
  {
   "cell_type": "code",
   "execution_count": 88,
   "id": "40498d31",
   "metadata": {},
   "outputs": [
    {
     "data": {
      "text/plain": [
       "(14852, 21)"
      ]
     },
     "execution_count": 88,
     "metadata": {},
     "output_type": "execute_result"
    }
   ],
   "source": [
    "poly = PolynomialFeatures(degree = 2)\n",
    "poly_X = poly.fit_transform(X)\n",
    "poly_X.shape"
   ]
  },
  {
   "cell_type": "markdown",
   "id": "5568bb48",
   "metadata": {},
   "source": [
    "En el caso de tener dos variables [a,b] el resultado de la transformación al cuadrado dara [1 ,a,b, a^2, a * b, b^2 ]\n",
    "\n",
    "El primero es __1__ que el algoritmo lo usa para ubicar el intercepto.\n",
    "\n",
    "Luego sigue __a y b__\n",
    "Luego __a al cuadrado__\n",
    "Luego __a * b__\n",
    "Luebo __b al cuadrado__"
   ]
  },
  {
   "cell_type": "code",
   "execution_count": 89,
   "id": "301c714c",
   "metadata": {},
   "outputs": [],
   "source": [
    "poly_X_train, poly_X_test, poly_y_train, poly_y_test = train_test_split(poly_X, y, test_size=0.2,random_state=0)"
   ]
  },
  {
   "cell_type": "code",
   "execution_count": 90,
   "id": "750f4bb0",
   "metadata": {},
   "outputs": [
    {
     "data": {
      "text/plain": [
       "LinearRegression()"
      ]
     },
     "execution_count": 90,
     "metadata": {},
     "output_type": "execute_result"
    }
   ],
   "source": [
    "modelo_regresion_poli = LinearRegression()\n",
    "modelo_regresion_poli.fit(poly_X_train, poly_y_train)"
   ]
  },
  {
   "cell_type": "code",
   "execution_count": 91,
   "id": "90da55ab",
   "metadata": {},
   "outputs": [],
   "source": [
    "# Evaluamos el modelo\n",
    "\n",
    "y_pred = modelo_regresion_poli.predict(poly_X_test)\n"
   ]
  },
  {
   "cell_type": "code",
   "execution_count": 92,
   "id": "a0c4e756",
   "metadata": {},
   "outputs": [
    {
     "name": "stdout",
     "output_type": "stream",
     "text": [
      "Metricas\n",
      "__________\n",
      "MSE: 57460707.03\n",
      "RMSE: 7580.28\n",
      "MAE: 5216.21\n",
      "R2: 0.53\n"
     ]
    }
   ],
   "source": [
    "print(\"Metricas\")\n",
    "print(\"__\"*5)\n",
    "print(\"MSE: %.2f\" % mean_squared_error(poly_y_test,y_pred, squared=True))\n",
    "print(\"RMSE: %.2f\" % mean_squared_error(poly_y_test,y_pred, squared=False))\n",
    "print(\"MAE: %.2f\" % mean_absolute_error(poly_y_test,y_pred))\n",
    "print(\"R2: %.2f\" % r2_score(poly_y_test,y_pred))"
   ]
  },
  {
   "cell_type": "markdown",
   "id": "c55364db",
   "metadata": {},
   "source": [
    "En este caso en puntual, resulta que la regresion simple se adapta mejor a los datos y a sus comportamientos que la regresion lineal, por eso es importante aplicar los modelos de manera correcta. \n"
   ]
  },
  {
   "cell_type": "code",
   "execution_count": 93,
   "id": "8ee1a349",
   "metadata": {},
   "outputs": [
    {
     "data": {
      "text/html": [
       "<div>\n",
       "<style scoped>\n",
       "    .dataframe tbody tr th:only-of-type {\n",
       "        vertical-align: middle;\n",
       "    }\n",
       "\n",
       "    .dataframe tbody tr th {\n",
       "        vertical-align: top;\n",
       "    }\n",
       "\n",
       "    .dataframe thead th {\n",
       "        text-align: right;\n",
       "    }\n",
       "</style>\n",
       "<table border=\"1\" class=\"dataframe\">\n",
       "  <thead>\n",
       "    <tr style=\"text-align: right;\">\n",
       "      <th></th>\n",
       "      <th>numero_cuartos</th>\n",
       "      <th>numero_baños</th>\n",
       "      <th>area_de_ construcción_pie2</th>\n",
       "      <th>area_del lote_pie2</th>\n",
       "      <th>numero_pisos</th>\n",
       "      <th>condición</th>\n",
       "      <th>grado</th>\n",
       "      <th>superficie_sótano_pie2</th>\n",
       "      <th>año_de_construcción</th>\n",
       "      <th>precio</th>\n",
       "    </tr>\n",
       "  </thead>\n",
       "  <tbody>\n",
       "    <tr>\n",
       "      <th>0</th>\n",
       "      <td>3</td>\n",
       "      <td>1</td>\n",
       "      <td>1180</td>\n",
       "      <td>5650</td>\n",
       "      <td>1</td>\n",
       "      <td>3</td>\n",
       "      <td>7</td>\n",
       "      <td>0</td>\n",
       "      <td>1955</td>\n",
       "      <td>221900</td>\n",
       "    </tr>\n",
       "    <tr>\n",
       "      <th>1</th>\n",
       "      <td>2</td>\n",
       "      <td>1</td>\n",
       "      <td>770</td>\n",
       "      <td>10000</td>\n",
       "      <td>1</td>\n",
       "      <td>3</td>\n",
       "      <td>6</td>\n",
       "      <td>0</td>\n",
       "      <td>1933</td>\n",
       "      <td>180000</td>\n",
       "    </tr>\n",
       "  </tbody>\n",
       "</table>\n",
       "</div>"
      ],
      "text/plain": [
       "   numero_cuartos  numero_baños  area_de_ construcción_pie2  \\\n",
       "0               3             1                        1180   \n",
       "1               2             1                         770   \n",
       "\n",
       "   area_del lote_pie2  numero_pisos  condición  grado  superficie_sótano_pie2  \\\n",
       "0                5650             1          3      7                       0   \n",
       "1               10000             1          3      6                       0   \n",
       "\n",
       "   año_de_construcción  precio  \n",
       "0                 1955  221900  \n",
       "1                 1933  180000  "
      ]
     },
     "execution_count": 93,
     "metadata": {},
     "output_type": "execute_result"
    }
   ],
   "source": [
    "casas = pd.read_csv(\"venta_inmuebles_data.csv\")\n",
    "casas.head(2)"
   ]
  },
  {
   "cell_type": "code",
   "execution_count": 94,
   "id": "ae0bfb16",
   "metadata": {},
   "outputs": [],
   "source": [
    "casas.duplicated().sum()\n",
    "casas = casas.drop_duplicates()\n",
    "casas_t = casas"
   ]
  },
  {
   "cell_type": "code",
   "execution_count": 95,
   "id": "9590913e",
   "metadata": {},
   "outputs": [
    {
     "data": {
      "text/plain": [
       "numero_cuartos                int64\n",
       "numero_baños                  int64\n",
       "area_de_ construcción_pie2    int64\n",
       "area_del lote_pie2            int64\n",
       "numero_pisos                  int64\n",
       "condición                     int64\n",
       "grado                         int64\n",
       "superficie_sótano_pie2        int64\n",
       "año_de_construcción           int64\n",
       "precio                        int64\n",
       "dtype: object"
      ]
     },
     "execution_count": 95,
     "metadata": {},
     "output_type": "execute_result"
    }
   ],
   "source": [
    "casas.dtypes # para este caso los datos vienen limpios por lo que no se necesita limpiarlos ni usar dummies"
   ]
  },
  {
   "cell_type": "code",
   "execution_count": 96,
   "id": "58443284",
   "metadata": {},
   "outputs": [
    {
     "data": {
      "text/plain": [
       "(5465, 9)"
      ]
     },
     "execution_count": 96,
     "metadata": {},
     "output_type": "execute_result"
    }
   ],
   "source": [
    "y = casas_t[\"precio\"]\n",
    "X = casas_t.drop([\"precio\"], axis=1)\n",
    "X.shape"
   ]
  },
  {
   "cell_type": "code",
   "execution_count": 97,
   "id": "24ff5f17",
   "metadata": {},
   "outputs": [
    {
     "data": {
      "text/plain": [
       "(5465, 55)"
      ]
     },
     "execution_count": 97,
     "metadata": {},
     "output_type": "execute_result"
    }
   ],
   "source": [
    "# creando las variables al cuadrado\n",
    "\n",
    "poly_2 = PolynomialFeatures(degree=2)\n",
    "poly_X2 = poly_2.fit_transform(X) \n",
    "poly_X2.shape"
   ]
  },
  {
   "cell_type": "code",
   "execution_count": 98,
   "id": "0f772932",
   "metadata": {},
   "outputs": [],
   "source": [
    "poly_X_train, poly_X_test, poly_y_train, poly_y_test = train_test_split(poly_X2, y, test_size=0.2, random_state=0)"
   ]
  },
  {
   "cell_type": "code",
   "execution_count": 99,
   "id": "39752eb7",
   "metadata": {},
   "outputs": [
    {
     "data": {
      "text/plain": [
       "LinearRegression()"
      ]
     },
     "execution_count": 99,
     "metadata": {},
     "output_type": "execute_result"
    }
   ],
   "source": [
    "# instanciando\n",
    "\n",
    "poly_2_regression = LinearRegression()\n",
    "poly_2_regression.fit(poly_X_train, poly_y_train)\n"
   ]
  },
  {
   "cell_type": "code",
   "execution_count": 100,
   "id": "a2c4cb6e",
   "metadata": {},
   "outputs": [
    {
     "name": "stdout",
     "output_type": "stream",
     "text": [
      "Metricas\n",
      "--------------------\n",
      "MSE 15718559401\n",
      "RMSE 125374\n",
      "MAE 94674\n",
      "R2  0\n"
     ]
    }
   ],
   "source": [
    "# Evaluando el modelo con datos vistos\n",
    "\n",
    "y_predict = poly_2_regression.predict(poly_X_test)\n",
    "\n",
    "print(\"Metricas\")\n",
    "print(\"----\"*5)\n",
    "print(\"MSE %2.f\" % mean_squared_error(poly_y_test, y_predict, squared=True))\n",
    "print(\"RMSE %2.f\" % mean_squared_error(poly_y_test, y_predict, squared=False))\n",
    "print(\"MAE %2.f\" % mean_absolute_error(poly_y_test, y_predict))\n",
    "print(\"R2 %2.f\" % r2_score(poly_y_test, y_predict))"
   ]
  },
  {
   "cell_type": "code",
   "execution_count": 101,
   "id": "5a0d2f1d",
   "metadata": {},
   "outputs": [
    {
     "name": "stdout",
     "output_type": "stream",
     "text": [
      "Metricas\n",
      "--------------------\n",
      "MSE 14565133371\n",
      "RMSE 120686\n",
      "MAE 95101\n",
      "R2  1\n"
     ]
    }
   ],
   "source": [
    "# modelo de regresion lineal \n",
    "\n",
    "x_train, x_test, y_train, y_test = train_test_split(X, y, test_size=0.2, random_state=0)\n",
    "\n",
    "# instanciando\n",
    "\n",
    "l_model = LinearRegression().fit(x_train, y_train)\n",
    "\n",
    "# evaluando el modelo\n",
    "\n",
    "y_predict = l_model.predict(x_test)\n",
    "\n",
    "# metricas\n",
    "\n",
    "print(\"Metricas\")\n",
    "print(\"----\"*5)\n",
    "print(\"MSE %2.f\" % mean_squared_error(y_test, y_predict, squared=True))\n",
    "print(\"RMSE %2.f\" % mean_squared_error(y_test, y_predict, squared=False))\n",
    "print(\"MAE %2.f\" % mean_absolute_error(y_test, y_predict))\n",
    "print(\"R2 %2.f\" % r2_score(y_test, y_predict))"
   ]
  },
  {
   "cell_type": "markdown",
   "id": "96b8a909",
   "metadata": {},
   "source": [
    "\n",
    "\n",
    "4. Luego, compara los resultados con los obtenidos para regresión lineal y trata de responder las siguientes preguntas: ¿Cuántas nuevas variables fueron generadas con la transformación de grado 2? ¿Hay diferencias en las métricas entre los dos modelos? ¿Cuál generaliza mejor? Si el modelo de regresión polinomial no mejora los resultados ¿Cuál puede ser la razón?\n",
    "\n",
    "5. Intenta construir un modelo de regresión polinomial de grado 3. Ahora, ¿cuál es el tamaño del conjunto de datos? \n",
    "\n",
    "\n",
    "RTA\n",
    "\n",
    "Paso de 9 columnas a 55 columnas, lo que hizo fue genero multiples columnas adicionales, no obstante, los resultados del modelo cuadratico no fue optimo, peus no es el mejor model oque se ajusta, por ejemplo solo con el coeficiente de determinación en este modelo se pondero en 0, vs el modelo de regresion lineal que tuvo un 1, es decir un rendimiento perfecto, uno de los problemas es que desde el inicio estamos trabajando con variables continuas que pueden responder en este caso a una pendiente lineal y el comportamient ode las variables asi lo indican. \n"
   ]
  },
  {
   "cell_type": "code",
   "execution_count": 102,
   "id": "295975e1",
   "metadata": {},
   "outputs": [
    {
     "data": {
      "text/plain": [
       "LinearRegression()"
      ]
     },
     "execution_count": 102,
     "metadata": {},
     "output_type": "execute_result"
    }
   ],
   "source": [
    "y = casas_t[\"precio\"]\n",
    "A = casas_t.drop([\"precio\"], axis=1)\n",
    "X.shape\n",
    "\n",
    "# creando las variables al cuadrado\n",
    "\n",
    "poly_3 = PolynomialFeatures(degree=3)\n",
    "poly_X2 = poly_3.fit_transform(A) \n",
    "poly_X2.shape\n",
    "\n",
    "poly_X_train, poly_X_test, poly_y_train, poly_y_test = train_test_split(poly_X2, y, test_size=0.2, random_state=0)\n",
    "\n",
    "# instanciando\n",
    "\n",
    "poly_2_regression = LinearRegression()\n",
    "poly_2_regression.fit(poly_X_train, poly_y_train)\n",
    "\n"
   ]
  },
  {
   "cell_type": "markdown",
   "id": "ce72efa0",
   "metadata": {},
   "source": [
    "## Medidas de Complejidad en los modelos\n",
    "\n",
    "Resulta que en ocasiones generamos sobreajuste (overfitting) o subajuste (underfitting) en nuestros modelos de aprendizaje automatico, esto quiere decir, que nuestros modelos no tienen la capacidad de generalizar los datos y responden de manera adecuada a lo que estamos pidiendo. En el primer caso el sobreajuste sucede cuando los datos en el proceso del entrenamiento y test se ajustan tan bien a los datos, que nos muestran un comportamiento idoneo, no obstante, aprenden las caracteristicas de los datos y no a predecirlas, entonces pasamos datos nuevos y lo que hace es que no es capaz de reconocer datos nuevos que no estan dentro del modelo. En el segundo caso con el subajuste, lo que sucede es que el modelo no logra capturar las caracteristicas de los datos y no esta en la capacidad de responder a los mismos, por lo que tiene un mal desempeño en el proceso de aprendizaje.\n",
    "\n",
    "Así, cuando tenemos un bajo ajuste debemos intentar mejorar el modelo incluyendo más complejidad, es decir más parámetros (variables independientes) con el fin de el mismo mejore, o podemos buscar evaluar el modelo de forma polinomial, lo cual genera indudablemente más parametros.\n",
    "\n",
    "Cuando existe sobreajuste, debemos de intentar eliminar informacion no relevante del modelo, como las variables que no aportan nada al mismo, o incluyendo más datos representativos dle problema que deseamos investigar. \n",
    "\n",
    "Como detectar un sobreajuste.\n",
    "\n",
    "1. Diferencia significativa en el rendimiento: Si el modelo tiene un rendimiento mucho mejor en el conjunto de entrenamiento en comparación con el conjunto de prueba, es un indicio de sobreajuste. El modelo se ha adaptado demasiado a los datos de entrenamiento y no puede generalizar bien a nuevos datos.\n",
    "\n",
    "2. Error bajo en el entrenamiento, pero alto en la prueba: Si el error (por ejemplo, MSE o RMSE) es muy bajo en el conjunto de entrenamiento, pero alto en el conjunto de prueba, es una señal de sobreajuste. El modelo está capturando el ruido y las características específicas de los datos de entrenamiento, en lugar de aprender las relaciones generales en los datos.\n",
    "\n",
    "3. Variaciones excesivas en el rendimiento: Si el rendimiento del modelo varía drásticamente entre diferentes conjuntos de prueba (por ejemplo, diferentes divisiones de datos de prueba), es probable que el modelo esté sobreajustado. Un modelo bien generalizado debería tener un rendimiento más consistente en diferentes conjuntos de prueba.\n",
    "\n",
    "### Regularizar\n",
    "\n",
    "Generar normas para evitar que exista sobreajuste ene el modelo. Esto ayuda a utilizar modelos complejos para problemas simples sin que caigamos en el overfitting, uno de los metodos para hacer esto, es __modificando la función de costo del algoritmo para imponer restricciones sobre los valores de los parámetros__ Lo que se hace es que se incluye una variable de penalizacion dentro del modelo, con el fin de que la información cumpla ciertos requisitos. \n",
    "\n",
    "De este modo, en la práctica se utilizan los modelos que incluyen variables de penalización L1 y L2.\n",
    "\n",
    "__L1__ = a regularización de __Lasso__, lo que hace es que penaliza los coeficientes grandes y elimina información no relevante para el modelo, esto resulta un poco contraintuitivo porque pareciera que los coeficientes grandes responden de mejor manera al modelo, pero internamente se verifica con esta formula y se eliminan disminuyendo la complejidad del modelo. \n",
    "\n",
    "__L2__ = La regularización __Ridge__ tiene en cuenta la suma de los parametros al cuadrado, lo que hace que penalice los valores altos, pero que no los convierta en 0, esto hace que el modelo tenga más estabilidad. \n",
    "\n",
    "\n",
    "\n",
    "Función de costo incluyendo = Sumatoria(i=1 hasta N) [(y_i - (w0 + w1*x_i1 + w2*x_i2 + ... + wd*x_id))^2] + α * Sumatoria(j=1 hasta d) (Wj)^2\n",
    "\n",
    "Función de costo = Sumatoria(i=1 hasta N) [(y_i - (w0 + w1*x_i1 + w2*x_i2 + ... + wd*x_id))^2] + α * Sumatoria(j=1 hasta d) |Wj|\n"
   ]
  },
  {
   "cell_type": "markdown",
   "id": "09fc6d2b",
   "metadata": {},
   "source": [
    "1. Parámetros: Los parámetros son valores que el modelo aprende durante el proceso de entrenamiento. Estos valores representan los coeficientes o pesos que el modelo ajusta para encontrar la mejor forma de relacionar las variables de entrada con la variable objetivo. En un modelo lineal, por ejemplo, los parámetros serían los coeficientes de las variables predictoras.\n",
    "\n",
    "2. Hiperparámetros: Los hiperparámetros son configuraciones externas al modelo que controlan su comportamiento y rendimiento, y no son aprendidos directamente del conjunto de datos. Estos parámetros se establecen antes del proceso de entrenamiento y afectan cómo se aprenden los parámetros del modelo. Algunos ejemplos comunes de hiperparámetros son la tasa de aprendizaje, la regularización (como α en la regularización L1 y L2), entre otros. Los hiperparámetros deben ajustarse y seleccionarse adecuadamente para obtener un modelo óptimo, y generalmente se realiza mediante métodos de búsqueda y validación cruzada.\n",
    "\n",
    "En el caso de la regresion lineal o polinomial, no se puede utilizar el conjunto para el __test__ para ajustar los hiperparametros, porque debemos recordar que el __test lo que hace es que nos permite evaluar la generalización del modelo__\n",
    "\n",
    "Para determinar los valores de los hiperparámetros (como el grado del polinomio en regresión polinomial o el parámetro α en la regresión Ridge o Lasso) se emplean técnicas de validación o de selección de modelos. Por ejemplo, se puede realizar otra división sobre el conjunto de entrenamiento, para generar dos conjuntos: uno para la construcción de un modelo con unos valores particulares de hiperparámetros y el otro para determinar su rendimiento con las métricas seleccionadas. Este proceso se repite con diferentes valores de hiperparámetros. Finalmente, se seleccionan aquellos que ofrezcan el mejor rendimiento y con estos se entrena un modelo sobre todo el conjunto de entrenamiento, el cual se aplica sobre el conjunto test para determinar el rendimiento de generalización.\n",
    "\n",
    "Entonces, para ajustar los hiperparámetros utilizamos la __validacion__ que consiste en utilizar una proporcion de los datos, es decir (entrenamiento, validacion, test) para verificar que la información obtenida este bien.\n",
    "\n",
    "DATOS - 100% \n",
    "\n",
    "Entrenamiento 80%  - Test 20%\n",
    "\n",
    "Entrenamiento 60% - Validación 20% - Test 20%\n",
    "\n",
    "__Cuando ya sabemos como debemos ajustar los hiperparametros volvemos a:__\n",
    "\n",
    "Entrenamiento 80% - Test 20% \n",
    "\n",
    "y estos a su vez ya incluyen el ajuste del hiperparámetros. \n",
    "\n",
    "\n",
    "__K fold cross__\n",
    "\n",
    "\n",
    "K-Fold Cross-Validation (validación cruzada con K pliegues) es una técnica comúnmente utilizada para evaluar y seleccionar modelos de machine learning. En lugar de dividir los datos en solo dos conjuntos (entrenamiento y prueba), K-Fold Cross-Validation divide los datos en K pliegues o subconjuntos de tamaño aproximadamente igual.\n",
    "\n",
    "El proceso de K-Fold Cross-Validation implica lo siguiente:\n",
    "\n",
    "1. División de los datos: Los datos se dividen en K pliegues o subconjuntos. Por lo general, se elige un valor de K entre 5 y 10, pero puede variar según el tamaño del conjunto de datos y la cantidad de recursos disponibles.\n",
    "\n",
    "2. Iteraciones del modelo: El modelo se entrena y evalúa K veces. En cada iteración, se selecciona un pliegue diferente como conjunto de prueba y los K-1 pliegues restantes se utilizan como conjunto de entrenamiento.\n",
    "\n",
    "3. Evaluación del rendimiento: En cada iteración, se evalúa el rendimiento del modelo utilizando una métrica relevante, como la precisión, el error cuadrático medio, el coeficiente de determinación (R^2), etc. Los resultados de rendimiento de cada iteración se promedian para obtener una estimación más confiable del rendimiento del modelo.\n",
    "\n",
    "4. Selección del modelo: Una vez completadas las K iteraciones, se pueden comparar los resultados de rendimiento de los diferentes modelos o configuraciones para seleccionar el mejor modelo. Esto puede basarse en la media de las métricas de rendimiento o en otro criterio de selección.\n",
    "\n",
    "La validación cruzada con K pliegues es útil porque utiliza todos los datos disponibles tanto para entrenamiento como para evaluación. Esto proporciona una estimación más robusta del rendimiento del modelo, ya que cada dato se utiliza tanto para entrenamiento como para evaluación en diferentes iteraciones.\n",
    "\n",
    "En resumen, K-Fold Cross-Validation es una técnica que divide los datos en K pliegues, entrena y evalúa el modelo K veces utilizando diferentes combinaciones de pliegues como conjunto de entrenamiento y prueba. Esto ayuda a obtener una estimación más confiable del rendimiento del modelo y permite comparar diferentes modelos o configuraciones de manera justa.\n",
    "\n",
    "En K-Fold Cross debemos de haber seleccionado los hiperparametros antes de iniciar. "
   ]
  },
  {
   "cell_type": "markdown",
   "id": "09aca17b",
   "metadata": {},
   "source": [
    "## Caso L2 Ridge"
   ]
  },
  {
   "cell_type": "code",
   "execution_count": 103,
   "id": "bb91976c",
   "metadata": {},
   "outputs": [],
   "source": [
    "datos = pd.read_csv(\"vehicles_us.csv\")\n",
    "\n",
    "from sklearn.pipeline import make_pipeline # para hacer una tuberia de datos\n",
    "from sklearn.preprocessing import StandardScaler # para escalar los datos\n",
    "\n",
    "from sklearn.linear_model import Ridge \n",
    "\n",
    "# Busca los hiperparametros\n",
    "from sklearn.model_selection import GridSearchCV, KFold\n",
    "\n",
    "# validación cruzada kfold\n"
   ]
  },
  {
   "cell_type": "code",
   "execution_count": 104,
   "id": "03a6203d",
   "metadata": {},
   "outputs": [],
   "source": [
    "datos = datos.dropna()"
   ]
  },
  {
   "cell_type": "code",
   "execution_count": 105,
   "id": "85f8d5e4",
   "metadata": {},
   "outputs": [
    {
     "data": {
      "text/plain": [
       "(14852, 13)"
      ]
     },
     "execution_count": 105,
     "metadata": {},
     "output_type": "execute_result"
    }
   ],
   "source": [
    "datos.shape"
   ]
  },
  {
   "cell_type": "code",
   "execution_count": 106,
   "id": "6f62cf1a",
   "metadata": {},
   "outputs": [
    {
     "data": {
      "text/plain": [
       "(14852, 13)"
      ]
     },
     "execution_count": 106,
     "metadata": {},
     "output_type": "execute_result"
    }
   ],
   "source": [
    "datos = datos.drop_duplicates()\n",
    "datos.shape"
   ]
  },
  {
   "cell_type": "code",
   "execution_count": 107,
   "id": "ef5a5063",
   "metadata": {},
   "outputs": [
    {
     "data": {
      "text/plain": [
       "price             int64\n",
       "model_year      float64\n",
       "model            object\n",
       "condition        object\n",
       "cylinders       float64\n",
       "fuel             object\n",
       "odometer        float64\n",
       "transmission     object\n",
       "type             object\n",
       "paint_color      object\n",
       "is_4wd          float64\n",
       "date_posted      object\n",
       "days_listed       int64\n",
       "dtype: object"
      ]
     },
     "execution_count": 107,
     "metadata": {},
     "output_type": "execute_result"
    }
   ],
   "source": [
    "datos.dtypes"
   ]
  },
  {
   "cell_type": "code",
   "execution_count": 108,
   "id": "a8b673de",
   "metadata": {},
   "outputs": [
    {
     "data": {
      "text/html": [
       "<div>\n",
       "<style scoped>\n",
       "    .dataframe tbody tr th:only-of-type {\n",
       "        vertical-align: middle;\n",
       "    }\n",
       "\n",
       "    .dataframe tbody tr th {\n",
       "        vertical-align: top;\n",
       "    }\n",
       "\n",
       "    .dataframe thead th {\n",
       "        text-align: right;\n",
       "    }\n",
       "</style>\n",
       "<table border=\"1\" class=\"dataframe\">\n",
       "  <thead>\n",
       "    <tr style=\"text-align: right;\">\n",
       "      <th></th>\n",
       "      <th>model_year</th>\n",
       "      <th>cylinders</th>\n",
       "      <th>odometer</th>\n",
       "      <th>is_4wd</th>\n",
       "      <th>days_listed</th>\n",
       "      <th>fuel_diesel</th>\n",
       "      <th>fuel_electric</th>\n",
       "      <th>fuel_gas</th>\n",
       "      <th>fuel_hybrid</th>\n",
       "      <th>fuel_other</th>\n",
       "    </tr>\n",
       "  </thead>\n",
       "  <tbody>\n",
       "    <tr>\n",
       "      <th>5</th>\n",
       "      <td>2014.0</td>\n",
       "      <td>6.0</td>\n",
       "      <td>57954.0</td>\n",
       "      <td>1.0</td>\n",
       "      <td>15</td>\n",
       "      <td>0</td>\n",
       "      <td>0</td>\n",
       "      <td>1</td>\n",
       "      <td>0</td>\n",
       "      <td>0</td>\n",
       "    </tr>\n",
       "    <tr>\n",
       "      <th>7</th>\n",
       "      <td>2013.0</td>\n",
       "      <td>6.0</td>\n",
       "      <td>109473.0</td>\n",
       "      <td>1.0</td>\n",
       "      <td>68</td>\n",
       "      <td>0</td>\n",
       "      <td>0</td>\n",
       "      <td>1</td>\n",
       "      <td>0</td>\n",
       "      <td>0</td>\n",
       "    </tr>\n",
       "  </tbody>\n",
       "</table>\n",
       "</div>"
      ],
      "text/plain": [
       "   model_year  cylinders  odometer  is_4wd  days_listed  fuel_diesel  \\\n",
       "5      2014.0        6.0   57954.0     1.0           15            0   \n",
       "7      2013.0        6.0  109473.0     1.0           68            0   \n",
       "\n",
       "   fuel_electric  fuel_gas  fuel_hybrid  fuel_other  \n",
       "5              0         1            0           0  \n",
       "7              0         1            0           0  "
      ]
     },
     "execution_count": 108,
     "metadata": {},
     "output_type": "execute_result"
    }
   ],
   "source": [
    "y = datos[[\"price\"]]\n",
    "X = datos.drop([\"price\", \"paint_color\",\"date_posted\",\"transmission\",\"model\", \"type\",\"condition\"], axis=1)\n",
    "X = pd.get_dummies(X, columns=[\"fuel\"])\n",
    "X.head(2) "
   ]
  },
  {
   "cell_type": "code",
   "execution_count": 109,
   "id": "f8849069",
   "metadata": {},
   "outputs": [],
   "source": [
    "# CONSTRUYENDO EL MODELO\n",
    "\n",
    "X_train, X_test, y_train, y_test = train_test_split(X,y, test_size=0.2, random_state=0)\n"
   ]
  },
  {
   "cell_type": "markdown",
   "id": "47699d6b",
   "metadata": {},
   "source": [
    "__L2__ o regresión de ridge lo que hace es que penaliza los valores, teniendo en cuenta la suma de los coeficientes de mínimos cuadrados. "
   ]
  },
  {
   "cell_type": "code",
   "execution_count": 110,
   "id": "2fe9bfd7",
   "metadata": {},
   "outputs": [],
   "source": [
    "# alpha es el hiperparametro que se controla\n",
    "# en este modelo se usa primero la tuberia, se estalan los datos y se pasa el modelo Ridge\n",
    "# esto es porque  Ridge(alpha=2, normalize=True) esta depredado normalize\n",
    "\n",
    "modelo_ridge = make_pipeline(StandardScaler(with_mean=False), Ridge(alpha=2))"
   ]
  },
  {
   "cell_type": "code",
   "execution_count": 111,
   "id": "1022a511",
   "metadata": {},
   "outputs": [
    {
     "data": {
      "text/plain": [
       "Pipeline(steps=[('standardscaler', StandardScaler(with_mean=False)),\n",
       "                ('ridge', Ridge(alpha=2))])"
      ]
     },
     "execution_count": 111,
     "metadata": {},
     "output_type": "execute_result"
    }
   ],
   "source": [
    "modelo_ridge\n"
   ]
  },
  {
   "cell_type": "code",
   "execution_count": 112,
   "id": "286e3b50",
   "metadata": {},
   "outputs": [
    {
     "data": {
      "text/plain": [
       "Pipeline(steps=[('standardscaler', StandardScaler(with_mean=False)),\n",
       "                ('ridge', Ridge(alpha=2))])"
      ]
     },
     "execution_count": 112,
     "metadata": {},
     "output_type": "execute_result"
    }
   ],
   "source": [
    "# ajustamos el modelo\n",
    "modelo_ridge.fit(X_train, y_train)"
   ]
  },
  {
   "cell_type": "code",
   "execution_count": 113,
   "id": "cbbb1e45",
   "metadata": {},
   "outputs": [
    {
     "name": "stdout",
     "output_type": "stream",
     "text": [
      "Metricas\n",
      "MSE 56415182.55\n",
      "RMSE 7511.00\n",
      "MAE 5024.41\n",
      "R2 0.54\n"
     ]
    }
   ],
   "source": [
    "# predictivos\n",
    "\n",
    "y_predict = modelo_ridge.predict(X_test)\n",
    "print(\"Metricas\")\n",
    "print(\"MSE %.02f\" % mean_squared_error(y_test,y_predict,squared=True))\n",
    "print(\"RMSE %.02f\" % mean_squared_error(y_test,y_predict,squared=False))\n",
    "print(\"MAE %.02f\" % mean_absolute_error(y_test,y_predict))\n",
    "print(\"R2 %.02f\" % r2_score(y_test,y_predict))"
   ]
  },
  {
   "cell_type": "markdown",
   "id": "233230a8",
   "metadata": {},
   "source": [
    "¿__Como saber cual es el mejor valor de alpha__? Debemos ajustar el hiperparametro a los datos en la (validacion) pero no se puede utilizar el conjunto de test para realizar esa tarea, entonces de deben recurrir a dos técnicas especificas\n",
    "\n",
    "1. __Usando un conjunto de validación__\n",
    "2. __Usando un conjunto kFold_Cross_Validation__\n"
   ]
  },
  {
   "cell_type": "code",
   "execution_count": 114,
   "id": "3ff87835",
   "metadata": {},
   "outputs": [],
   "source": [
    "# Debemos hacer la validacion, y para ello dividiremos nuevamente\n",
    "# la informacion, pero esta vez sobre el 80% de los datos\n",
    "\n",
    "X_trainval, X_val, y_trainval, y_val = train_test_split(X_train, y_train, random_state=0, test_size=0.15)"
   ]
  },
  {
   "cell_type": "code",
   "execution_count": 115,
   "id": "586f359e",
   "metadata": {},
   "outputs": [
    {
     "name": "stdout",
     "output_type": "stream",
     "text": [
      "MAE: 5023.53\n"
     ]
    }
   ],
   "source": [
    "# Debemos fijar la metrica con la cual evaluar la eficiencia\n",
    "# del modelo, en este caso será MAE\n",
    "\n",
    "# alpha 1\n",
    "modelo_ridge = make_pipeline(StandardScaler(with_mean=False), Ridge(alpha=1))\n",
    "modelo_ridge.fit(X_trainval, y_trainval)\n",
    "y_pred = modelo_ridge.predict(X_val)\n",
    "print(\"MAE: %.02f\" % mean_absolute_error(y_val, y_pred))"
   ]
  },
  {
   "cell_type": "code",
   "execution_count": 116,
   "id": "d6d09c4f",
   "metadata": {},
   "outputs": [
    {
     "name": "stdout",
     "output_type": "stream",
     "text": [
      "MAE: 5023.59\n"
     ]
    }
   ],
   "source": [
    "#alpha 2\n",
    "modelo_ridge = make_pipeline(StandardScaler(with_mean=False), Ridge(alpha=2))\n",
    "modelo_ridge.fit(X_trainval, y_trainval)\n",
    "y_pred = modelo_ridge.predict(X_val)\n",
    "print(\"MAE: %.02f\" % mean_absolute_error(y_val, y_pred))"
   ]
  },
  {
   "cell_type": "code",
   "execution_count": 117,
   "id": "a31d7a83",
   "metadata": {},
   "outputs": [
    {
     "name": "stdout",
     "output_type": "stream",
     "text": [
      "MAE: 5023.74\n"
     ]
    }
   ],
   "source": [
    "#alpha 5\n",
    "modelo_ridge = make_pipeline(StandardScaler(with_mean=False), Ridge(alpha=5))\n",
    "modelo_ridge.fit(X_trainval, y_trainval)\n",
    "y_pred = modelo_ridge.predict(X_val)\n",
    "print(\"MAE: %.02f\" % mean_absolute_error(y_val, y_pred))"
   ]
  },
  {
   "cell_type": "markdown",
   "id": "d72698fe",
   "metadata": {},
   "source": [
    "El mejor alpha en este caso fue el 1, no obstante casi no hubo cambios por lo cual es posible que los datos con los que trabajamos no son sensibles a este hiperparametro porque no hay multicolinealidad"
   ]
  },
  {
   "cell_type": "code",
   "execution_count": 118,
   "id": "8729694e",
   "metadata": {},
   "outputs": [
    {
     "name": "stdout",
     "output_type": "stream",
     "text": [
      "MAE: 5024.37\n"
     ]
    }
   ],
   "source": [
    "# ahora se trabaja con todos los datos con el modelo elegido para observar su generalizacion\n",
    "\n",
    "modelo_ridge = make_pipeline(StandardScaler(with_mean=False), Ridge(alpha=1))\n",
    "modelo_ridge.fit(X_train, y_train)\n",
    "y_pred = modelo_ridge.predict(X_test)\n",
    "print(\"MAE: %.02f\" % mean_absolute_error(y_test, y_pred))"
   ]
  },
  {
   "cell_type": "markdown",
   "id": "173ba393",
   "metadata": {},
   "source": [
    "Como lo hemos indicado este modelo no es sensible a estos datos y por lo tanto el rendimiento no esta siendo afectado por alpha."
   ]
  },
  {
   "cell_type": "markdown",
   "id": "92b0a0c3",
   "metadata": {},
   "source": [
    "__KFold con particiones__\n",
    "\n",
    "Ahora veremos o trabajaremos con kparticiones, y también veremos metodos que automatizan el proceso de buscar los hiperparámetros con GridSearchCV, el cual esta vazado en la validación cruzada.\n",
    "\n"
   ]
  },
  {
   "cell_type": "code",
   "execution_count": 119,
   "id": "a7ae1c7a",
   "metadata": {},
   "outputs": [],
   "source": [
    "particiones = KFold(n_splits = 10, shuffle= True, random_state=0)\n",
    "# shuffle True hace que se mezclen los datos aleatoriamente\n",
    "# antes de crear las particiones."
   ]
  },
  {
   "cell_type": "code",
   "execution_count": 120,
   "id": "f213b266",
   "metadata": {},
   "outputs": [],
   "source": [
    "param_grid = {\"ridge__alpha\":[1,2,5]}\n"
   ]
  },
  {
   "cell_type": "code",
   "execution_count": 121,
   "id": "75097a71",
   "metadata": {},
   "outputs": [],
   "source": [
    "modelo_ridge = make_pipeline(StandardScaler(with_mean=False), Ridge())\n"
   ]
  },
  {
   "cell_type": "code",
   "execution_count": 122,
   "id": "9509ee59",
   "metadata": {},
   "outputs": [],
   "source": [
    "mejor_modelo = GridSearchCV(modelo_ridge, param_grid, cv=particiones, n_jobs=-1)"
   ]
  },
  {
   "cell_type": "code",
   "execution_count": 123,
   "id": "d9617dc2",
   "metadata": {},
   "outputs": [
    {
     "data": {
      "text/plain": [
       "GridSearchCV(cv=KFold(n_splits=10, random_state=0, shuffle=True),\n",
       "             estimator=Pipeline(steps=[('standardscaler',\n",
       "                                        StandardScaler(with_mean=False)),\n",
       "                                       ('ridge', Ridge())]),\n",
       "             n_jobs=-1, param_grid={'ridge__alpha': [1, 2, 5]})"
      ]
     },
     "execution_count": 123,
     "metadata": {},
     "output_type": "execute_result"
    }
   ],
   "source": [
    "mejor_modelo.fit(X_train, y_train)"
   ]
  },
  {
   "cell_type": "code",
   "execution_count": 124,
   "id": "72e79acf",
   "metadata": {},
   "outputs": [
    {
     "data": {
      "text/plain": [
       "{'ridge__alpha': 1}"
      ]
     },
     "execution_count": 124,
     "metadata": {},
     "output_type": "execute_result"
    }
   ],
   "source": [
    "# ahora podemos ver cual fue el mejor hiperparametro\n",
    "\n",
    "mejor_modelo.best_params_"
   ]
  },
  {
   "cell_type": "code",
   "execution_count": 125,
   "id": "878e83fb",
   "metadata": {},
   "outputs": [
    {
     "name": "stdout",
     "output_type": "stream",
     "text": [
      "Mejor parametro {'ridge__alpha': 1}\n"
     ]
    }
   ],
   "source": [
    "# este GridSearchCV busca por defecto sobre el mejor modelo a partir del R2\n",
    "# pero se puede definir otra metrica\n",
    "# jobs -1 le indica que la maquina trabaje con todos los hilos del procesador\n",
    "mejor_modelo = GridSearchCV(modelo_ridge, param_grid, scoring=\"neg_mean_absolute_error\", n_jobs=-1)\n",
    "mejor_modelo.fit(X_train, y_train)\n",
    "print(\"Mejor parametro {}\".format(mejor_modelo.best_params_))"
   ]
  },
  {
   "cell_type": "markdown",
   "id": "0bde8481",
   "metadata": {},
   "source": [
    "Como el mejor parametro es alpha 1, por defecto GridSearchCV lo que hace es que lo toma como el modelo predefinido"
   ]
  },
  {
   "cell_type": "code",
   "execution_count": 126,
   "id": "b260dede",
   "metadata": {},
   "outputs": [
    {
     "name": "stdout",
     "output_type": "stream",
     "text": [
      "RMSE: 56415007.94\n",
      "MSE: 7510.99\n",
      "RAE: 5024.37\n",
      "R2: 0.54\n"
     ]
    }
   ],
   "source": [
    "modelo_final = mejor_modelo.best_estimator_\n",
    "\n",
    "y_pred = modelo_final.predict(X_test)\n",
    "\n",
    "print(\"RMSE: %.02f\" % mean_squared_error(y_test, y_pred, squared=True))\n",
    "print(\"MSE: %.02f\" % mean_squared_error(y_test, y_pred, squared=False))\n",
    "print(\"RAE: %.02f\" % mean_absolute_error(y_test, y_pred))\n",
    "print(\"R2: %.02f\" % r2_score(y_test, y_pred))"
   ]
  },
  {
   "cell_type": "markdown",
   "id": "017fe1e6",
   "metadata": {},
   "source": [
    "## L1 - Regularización de Lasso"
   ]
  },
  {
   "cell_type": "code",
   "execution_count": 127,
   "id": "2dedf8f0",
   "metadata": {},
   "outputs": [
    {
     "data": {
      "text/html": [
       "<div>\n",
       "<style scoped>\n",
       "    .dataframe tbody tr th:only-of-type {\n",
       "        vertical-align: middle;\n",
       "    }\n",
       "\n",
       "    .dataframe tbody tr th {\n",
       "        vertical-align: top;\n",
       "    }\n",
       "\n",
       "    .dataframe thead th {\n",
       "        text-align: right;\n",
       "    }\n",
       "</style>\n",
       "<table border=\"1\" class=\"dataframe\">\n",
       "  <thead>\n",
       "    <tr style=\"text-align: right;\">\n",
       "      <th></th>\n",
       "      <th>model_year</th>\n",
       "      <th>cylinders</th>\n",
       "      <th>odometer</th>\n",
       "      <th>is_4wd</th>\n",
       "      <th>days_listed</th>\n",
       "      <th>fuel_diesel</th>\n",
       "      <th>fuel_electric</th>\n",
       "      <th>fuel_gas</th>\n",
       "      <th>fuel_hybrid</th>\n",
       "      <th>fuel_other</th>\n",
       "    </tr>\n",
       "  </thead>\n",
       "  <tbody>\n",
       "    <tr>\n",
       "      <th>5</th>\n",
       "      <td>2014.0</td>\n",
       "      <td>6.0</td>\n",
       "      <td>57954.0</td>\n",
       "      <td>1.0</td>\n",
       "      <td>15</td>\n",
       "      <td>0</td>\n",
       "      <td>0</td>\n",
       "      <td>1</td>\n",
       "      <td>0</td>\n",
       "      <td>0</td>\n",
       "    </tr>\n",
       "    <tr>\n",
       "      <th>7</th>\n",
       "      <td>2013.0</td>\n",
       "      <td>6.0</td>\n",
       "      <td>109473.0</td>\n",
       "      <td>1.0</td>\n",
       "      <td>68</td>\n",
       "      <td>0</td>\n",
       "      <td>0</td>\n",
       "      <td>1</td>\n",
       "      <td>0</td>\n",
       "      <td>0</td>\n",
       "    </tr>\n",
       "    <tr>\n",
       "      <th>10</th>\n",
       "      <td>2011.0</td>\n",
       "      <td>8.0</td>\n",
       "      <td>128413.0</td>\n",
       "      <td>1.0</td>\n",
       "      <td>38</td>\n",
       "      <td>0</td>\n",
       "      <td>0</td>\n",
       "      <td>1</td>\n",
       "      <td>0</td>\n",
       "      <td>0</td>\n",
       "    </tr>\n",
       "    <tr>\n",
       "      <th>14</th>\n",
       "      <td>2009.0</td>\n",
       "      <td>8.0</td>\n",
       "      <td>132285.0</td>\n",
       "      <td>1.0</td>\n",
       "      <td>24</td>\n",
       "      <td>0</td>\n",
       "      <td>0</td>\n",
       "      <td>1</td>\n",
       "      <td>0</td>\n",
       "      <td>0</td>\n",
       "    </tr>\n",
       "    <tr>\n",
       "      <th>16</th>\n",
       "      <td>2010.0</td>\n",
       "      <td>8.0</td>\n",
       "      <td>130725.0</td>\n",
       "      <td>1.0</td>\n",
       "      <td>13</td>\n",
       "      <td>0</td>\n",
       "      <td>0</td>\n",
       "      <td>1</td>\n",
       "      <td>0</td>\n",
       "      <td>0</td>\n",
       "    </tr>\n",
       "    <tr>\n",
       "      <th>...</th>\n",
       "      <td>...</td>\n",
       "      <td>...</td>\n",
       "      <td>...</td>\n",
       "      <td>...</td>\n",
       "      <td>...</td>\n",
       "      <td>...</td>\n",
       "      <td>...</td>\n",
       "      <td>...</td>\n",
       "      <td>...</td>\n",
       "      <td>...</td>\n",
       "    </tr>\n",
       "    <tr>\n",
       "      <th>51494</th>\n",
       "      <td>2009.0</td>\n",
       "      <td>6.0</td>\n",
       "      <td>95021.0</td>\n",
       "      <td>1.0</td>\n",
       "      <td>8</td>\n",
       "      <td>0</td>\n",
       "      <td>0</td>\n",
       "      <td>1</td>\n",
       "      <td>0</td>\n",
       "      <td>0</td>\n",
       "    </tr>\n",
       "    <tr>\n",
       "      <th>51500</th>\n",
       "      <td>2012.0</td>\n",
       "      <td>6.0</td>\n",
       "      <td>157000.0</td>\n",
       "      <td>1.0</td>\n",
       "      <td>17</td>\n",
       "      <td>0</td>\n",
       "      <td>0</td>\n",
       "      <td>1</td>\n",
       "      <td>0</td>\n",
       "      <td>0</td>\n",
       "    </tr>\n",
       "    <tr>\n",
       "      <th>51509</th>\n",
       "      <td>2010.0</td>\n",
       "      <td>4.0</td>\n",
       "      <td>121778.0</td>\n",
       "      <td>1.0</td>\n",
       "      <td>8</td>\n",
       "      <td>0</td>\n",
       "      <td>0</td>\n",
       "      <td>1</td>\n",
       "      <td>0</td>\n",
       "      <td>0</td>\n",
       "    </tr>\n",
       "    <tr>\n",
       "      <th>51513</th>\n",
       "      <td>2014.0</td>\n",
       "      <td>8.0</td>\n",
       "      <td>154000.0</td>\n",
       "      <td>1.0</td>\n",
       "      <td>11</td>\n",
       "      <td>0</td>\n",
       "      <td>0</td>\n",
       "      <td>1</td>\n",
       "      <td>0</td>\n",
       "      <td>0</td>\n",
       "    </tr>\n",
       "    <tr>\n",
       "      <th>51515</th>\n",
       "      <td>2005.0</td>\n",
       "      <td>8.0</td>\n",
       "      <td>228000.0</td>\n",
       "      <td>1.0</td>\n",
       "      <td>52</td>\n",
       "      <td>1</td>\n",
       "      <td>0</td>\n",
       "      <td>0</td>\n",
       "      <td>0</td>\n",
       "      <td>0</td>\n",
       "    </tr>\n",
       "  </tbody>\n",
       "</table>\n",
       "<p>14852 rows × 10 columns</p>\n",
       "</div>"
      ],
      "text/plain": [
       "       model_year  cylinders  odometer  is_4wd  days_listed  fuel_diesel  \\\n",
       "5          2014.0        6.0   57954.0     1.0           15            0   \n",
       "7          2013.0        6.0  109473.0     1.0           68            0   \n",
       "10         2011.0        8.0  128413.0     1.0           38            0   \n",
       "14         2009.0        8.0  132285.0     1.0           24            0   \n",
       "16         2010.0        8.0  130725.0     1.0           13            0   \n",
       "...           ...        ...       ...     ...          ...          ...   \n",
       "51494      2009.0        6.0   95021.0     1.0            8            0   \n",
       "51500      2012.0        6.0  157000.0     1.0           17            0   \n",
       "51509      2010.0        4.0  121778.0     1.0            8            0   \n",
       "51513      2014.0        8.0  154000.0     1.0           11            0   \n",
       "51515      2005.0        8.0  228000.0     1.0           52            1   \n",
       "\n",
       "       fuel_electric  fuel_gas  fuel_hybrid  fuel_other  \n",
       "5                  0         1            0           0  \n",
       "7                  0         1            0           0  \n",
       "10                 0         1            0           0  \n",
       "14                 0         1            0           0  \n",
       "16                 0         1            0           0  \n",
       "...              ...       ...          ...         ...  \n",
       "51494              0         1            0           0  \n",
       "51500              0         1            0           0  \n",
       "51509              0         1            0           0  \n",
       "51513              0         1            0           0  \n",
       "51515              0         0            0           0  \n",
       "\n",
       "[14852 rows x 10 columns]"
      ]
     },
     "execution_count": 127,
     "metadata": {},
     "output_type": "execute_result"
    }
   ],
   "source": [
    "X"
   ]
  },
  {
   "cell_type": "code",
   "execution_count": 128,
   "id": "9fb71203",
   "metadata": {},
   "outputs": [],
   "source": [
    "from sklearn.linear_model import Lasso"
   ]
  },
  {
   "cell_type": "code",
   "execution_count": 129,
   "id": "4c12333e",
   "metadata": {},
   "outputs": [
    {
     "data": {
      "text/plain": [
       "(14852, 10)"
      ]
     },
     "execution_count": 129,
     "metadata": {},
     "output_type": "execute_result"
    }
   ],
   "source": [
    "X.shape"
   ]
  },
  {
   "cell_type": "code",
   "execution_count": 130,
   "id": "4f49ee9f",
   "metadata": {},
   "outputs": [
    {
     "data": {
      "text/html": [
       "<div>\n",
       "<style scoped>\n",
       "    .dataframe tbody tr th:only-of-type {\n",
       "        vertical-align: middle;\n",
       "    }\n",
       "\n",
       "    .dataframe tbody tr th {\n",
       "        vertical-align: top;\n",
       "    }\n",
       "\n",
       "    .dataframe thead th {\n",
       "        text-align: right;\n",
       "    }\n",
       "</style>\n",
       "<table border=\"1\" class=\"dataframe\">\n",
       "  <thead>\n",
       "    <tr style=\"text-align: right;\">\n",
       "      <th></th>\n",
       "      <th>price</th>\n",
       "    </tr>\n",
       "  </thead>\n",
       "  <tbody>\n",
       "    <tr>\n",
       "      <th>5</th>\n",
       "      <td>14990</td>\n",
       "    </tr>\n",
       "    <tr>\n",
       "      <th>7</th>\n",
       "      <td>15990</td>\n",
       "    </tr>\n",
       "    <tr>\n",
       "      <th>10</th>\n",
       "      <td>19500</td>\n",
       "    </tr>\n",
       "    <tr>\n",
       "      <th>14</th>\n",
       "      <td>12990</td>\n",
       "    </tr>\n",
       "    <tr>\n",
       "      <th>16</th>\n",
       "      <td>14990</td>\n",
       "    </tr>\n",
       "    <tr>\n",
       "      <th>...</th>\n",
       "      <td>...</td>\n",
       "    </tr>\n",
       "    <tr>\n",
       "      <th>51494</th>\n",
       "      <td>7999</td>\n",
       "    </tr>\n",
       "    <tr>\n",
       "      <th>51500</th>\n",
       "      <td>6995</td>\n",
       "    </tr>\n",
       "    <tr>\n",
       "      <th>51509</th>\n",
       "      <td>5980</td>\n",
       "    </tr>\n",
       "    <tr>\n",
       "      <th>51513</th>\n",
       "      <td>17999</td>\n",
       "    </tr>\n",
       "    <tr>\n",
       "      <th>51515</th>\n",
       "      <td>12000</td>\n",
       "    </tr>\n",
       "  </tbody>\n",
       "</table>\n",
       "<p>14852 rows × 1 columns</p>\n",
       "</div>"
      ],
      "text/plain": [
       "       price\n",
       "5      14990\n",
       "7      15990\n",
       "10     19500\n",
       "14     12990\n",
       "16     14990\n",
       "...      ...\n",
       "51494   7999\n",
       "51500   6995\n",
       "51509   5980\n",
       "51513  17999\n",
       "51515  12000\n",
       "\n",
       "[14852 rows x 1 columns]"
      ]
     },
     "execution_count": 130,
     "metadata": {},
     "output_type": "execute_result"
    }
   ],
   "source": [
    "y"
   ]
  },
  {
   "cell_type": "markdown",
   "id": "73abd0f7",
   "metadata": {},
   "source": [
    "Lo que hace Lasso es que utiliza un hiperparametro de regularización, que castiga los valores elevados, para ello elimina los valores de los coeficientse que no son importantes para el modelo, haciendo que este sea mucho más sencillo. El hiperparametro es alpha. "
   ]
  },
  {
   "cell_type": "code",
   "execution_count": 131,
   "id": "b06eed32",
   "metadata": {},
   "outputs": [],
   "source": [
    "X_trainl, X_testl, y_trainl, y_testl = train_test_split(X,y, test_size=0.2, random_state=0)"
   ]
  },
  {
   "cell_type": "code",
   "execution_count": 132,
   "id": "f8fa931a",
   "metadata": {},
   "outputs": [],
   "source": [
    "modelo_lasso = make_pipeline(StandardScaler(with_mean=False), Lasso(alpha=1))"
   ]
  },
  {
   "cell_type": "code",
   "execution_count": 133,
   "id": "85d686bc",
   "metadata": {},
   "outputs": [
    {
     "data": {
      "text/plain": [
       "Pipeline(steps=[('standardscaler', StandardScaler(with_mean=False)),\n",
       "                ('lasso', Lasso(alpha=1))])"
      ]
     },
     "execution_count": 133,
     "metadata": {},
     "output_type": "execute_result"
    }
   ],
   "source": [
    "modelo_lasso.fit(X_trainl, y_trainl)"
   ]
  },
  {
   "cell_type": "code",
   "execution_count": 134,
   "id": "627a47cd",
   "metadata": {},
   "outputs": [
    {
     "name": "stdout",
     "output_type": "stream",
     "text": [
      "Metricas\n",
      "MSE: 56414625.27\n",
      "RMSE: 7510.97\n",
      "RAE: 5024.46\n",
      "R2: 0.54\n"
     ]
    }
   ],
   "source": [
    "y_predl = modelo_lasso.predict(X_testl)\n",
    "print(\"Metricas\")\n",
    "print(\"MSE: %.02f\" % mean_squared_error(y_testl, y_predl, squared=True))\n",
    "print(\"RMSE: %.02f\" % mean_squared_error(y_testl, y_predl, squared=False))\n",
    "print(\"RAE: %.02f\" % mean_absolute_error(y_testl, y_predl))\n",
    "print(\"R2: %.02f\" % r2_score(y_testl, y_predl))"
   ]
  },
  {
   "cell_type": "code",
   "execution_count": 135,
   "id": "fff5e02b",
   "metadata": {},
   "outputs": [],
   "source": [
    "# ahora con numero de particiones"
   ]
  },
  {
   "cell_type": "code",
   "execution_count": 136,
   "id": "1057af4c",
   "metadata": {},
   "outputs": [],
   "source": [
    "particionesl = KFold(n_splits=10, shuffle=True, random_state=42 )"
   ]
  },
  {
   "cell_type": "code",
   "execution_count": 137,
   "id": "9eb97a8f",
   "metadata": {},
   "outputs": [],
   "source": [
    "param_gridl = {\"lasso__alpha\":[1, 2, 3, 4, 5]}"
   ]
  },
  {
   "cell_type": "code",
   "execution_count": 138,
   "id": "3742fb3e",
   "metadata": {},
   "outputs": [],
   "source": [
    "modelo_lasso = make_pipeline(StandardScaler(with_mean=False), Lasso())"
   ]
  },
  {
   "cell_type": "code",
   "execution_count": 139,
   "id": "f8d24a7c",
   "metadata": {},
   "outputs": [
    {
     "data": {
      "text/plain": [
       "GridSearchCV(cv=KFold(n_splits=10, random_state=42, shuffle=True),\n",
       "             estimator=Pipeline(steps=[('standardscaler',\n",
       "                                        StandardScaler(with_mean=False)),\n",
       "                                       ('lasso', Lasso())]),\n",
       "             n_jobs=-1, param_grid={'lasso__alpha': [1, 2, 3, 4, 5]})"
      ]
     },
     "execution_count": 139,
     "metadata": {},
     "output_type": "execute_result"
    }
   ],
   "source": [
    "mejor_modelol = GridSearchCV(modelo_lasso, param_gridl, cv=particionesl, n_jobs=-1)\n",
    "mejor_modelol.fit(X_trainl, y_trainl)"
   ]
  },
  {
   "cell_type": "code",
   "execution_count": 140,
   "id": "e353ed26",
   "metadata": {},
   "outputs": [
    {
     "name": "stdout",
     "output_type": "stream",
     "text": [
      "Pipeline(steps=[('standardscaler', StandardScaler(with_mean=False)),\n",
      "                ('lasso', Lasso(alpha=5))])\n",
      "MAE 5025.06\n",
      "R2 0.54\n"
     ]
    }
   ],
   "source": [
    "print(mejor_modelol.best_estimator_)\n",
    "y_p = mejor_modelol.predict(X_testl)\n",
    "print(\"MAE %.2f\" %mean_absolute_error(y_testl, y_p))\n",
    "print(\"R2 %.2f\" %r2_score(y_testl, y_p))"
   ]
  },
  {
   "cell_type": "code",
   "execution_count": 141,
   "id": "9ea2430b",
   "metadata": {},
   "outputs": [
    {
     "name": "stdout",
     "output_type": "stream",
     "text": [
      "Mejor modelo Pipeline(steps=[('standardscaler', StandardScaler(with_mean=False)),\n",
      "                ('lasso', Lasso(alpha=1))])\n",
      "MAE 5024.46\n",
      "R2 0.54\n"
     ]
    }
   ],
   "source": [
    "# También se pueden utilizar otras metricas para hallar los parametros\n",
    "# esto depende de nuestras necesidades\n",
    "\n",
    "mejor_modeloll = GridSearchCV(modelo_lasso, param_gridl, scoring=\"neg_mean_absolute_error\", cv=particionesl, n_jobs=-1)\n",
    "mejor_modeloll.fit(X_trainl, y_trainl)\n",
    "y_p2 = mejor_modeloll.predict(X_testl)\n",
    "print(\"Mejor modelo {}\".format(mejor_modeloll.best_estimator_))\n",
    "print(\"MAE %.2f\" %mean_absolute_error(y_testl, y_p2))\n",
    "print(\"R2 %.2f\" %r2_score(y_testl, y_p2))"
   ]
  },
  {
   "cell_type": "code",
   "execution_count": 142,
   "id": "511ad5f0",
   "metadata": {},
   "outputs": [
    {
     "name": "stdout",
     "output_type": "stream",
     "text": [
      "MAE 5025.06\n",
      "R2 0.54\n",
      "Pipeline(steps=[('standardscaler', StandardScaler(with_mean=False)),\n",
      "                ('lasso', Lasso(alpha=5))])\n",
      "Mejor modelo Pipeline(steps=[('standardscaler', StandardScaler(with_mean=False)),\n",
      "                ('lasso', Lasso(alpha=1))])\n",
      "MAE 5024.46\n",
      "R2 0.54\n"
     ]
    }
   ],
   "source": [
    "particionesl = KFold(n_splits=10, shuffle=True, random_state=42)\n",
    "param_gridl = {\"lasso__alpha\": [1, 2, 3, 4, 5]}\n",
    "modelo_lasso = make_pipeline(StandardScaler(with_mean=False), Lasso())\n",
    "\n",
    "mejor_modelol = GridSearchCV(modelo_lasso, param_gridl, cv=particionesl, n_jobs=-1)\n",
    "mejor_modelol.fit(X_trainl, y_trainl)\n",
    "\n",
    "y_p = mejor_modelol.predict(X_testl)\n",
    "print(\"MAE %.2f\" % mean_absolute_error(y_testl, y_p))\n",
    "print(\"R2 %.2f\" % r2_score(y_testl, y_p))\n",
    "print(mejor_modelol.best_estimator_)\n",
    "\n",
    "mejor_modeloll = GridSearchCV(modelo_lasso, param_gridl, scoring=\"neg_mean_absolute_error\", cv=particionesl, n_jobs=-1)\n",
    "mejor_modeloll.fit(X_trainl, y_trainl)\n",
    "\n",
    "y_p2 = mejor_modeloll.predict(X_testl)\n",
    "print(\"Mejor modelo {}\".format(mejor_modeloll.best_estimator_))\n",
    "print(\"MAE %.2f\" % mean_absolute_error(y_testl, y_p2))\n",
    "print(\"R2 %.2f\" % r2_score(y_testl, y_p2))\n"
   ]
  },
  {
   "cell_type": "code",
   "execution_count": 143,
   "id": "592616fd",
   "metadata": {},
   "outputs": [
    {
     "name": "stdout",
     "output_type": "stream",
     "text": [
      "RMSE 8213.86\n",
      "MAE 4933.67\n",
      "R2 0.49\n"
     ]
    }
   ],
   "source": [
    "# Ahora podemos revisar los coeficientes que genero el modelo.\n",
    "\n",
    "modelo_final = mejor_modeloll.best_estimator_\n",
    "\n",
    "y_pred = modelo_final.predict(X_trainl)\n",
    "print(\"RMSE %.02f\"%mean_squared_error(y_trainl, y_pred, squared=False))\n",
    "print(\"MAE %.02f\"%mean_absolute_error(y_trainl, y_pred))\n",
    "print(\"R2 %.02f\"%r2_score(y_trainl, y_pred))"
   ]
  },
  {
   "cell_type": "code",
   "execution_count": 151,
   "id": "fa7994df",
   "metadata": {
    "scrolled": false
   },
   "outputs": [
    {
     "name": "stdout",
     "output_type": "stream",
     "text": [
      "[('standardscaler', StandardScaler(with_mean=False)), ('lasso', Lasso(alpha=1))]\n"
     ]
    },
    {
     "data": {
      "text/html": [
       "<div>\n",
       "<style scoped>\n",
       "    .dataframe tbody tr th:only-of-type {\n",
       "        vertical-align: middle;\n",
       "    }\n",
       "\n",
       "    .dataframe tbody tr th {\n",
       "        vertical-align: top;\n",
       "    }\n",
       "\n",
       "    .dataframe thead th {\n",
       "        text-align: right;\n",
       "    }\n",
       "</style>\n",
       "<table border=\"1\" class=\"dataframe\">\n",
       "  <thead>\n",
       "    <tr style=\"text-align: right;\">\n",
       "      <th></th>\n",
       "      <th>coeficientes</th>\n",
       "      <th>variables</th>\n",
       "    </tr>\n",
       "  </thead>\n",
       "  <tbody>\n",
       "    <tr>\n",
       "      <th>0</th>\n",
       "      <td>4681.558707</td>\n",
       "      <td>model_year</td>\n",
       "    </tr>\n",
       "    <tr>\n",
       "      <th>1</th>\n",
       "      <td>1546.799246</td>\n",
       "      <td>cylinders</td>\n",
       "    </tr>\n",
       "    <tr>\n",
       "      <th>2</th>\n",
       "      <td>-3306.747820</td>\n",
       "      <td>odometer</td>\n",
       "    </tr>\n",
       "    <tr>\n",
       "      <th>3</th>\n",
       "      <td>0.000000</td>\n",
       "      <td>is_4wd</td>\n",
       "    </tr>\n",
       "    <tr>\n",
       "      <th>4</th>\n",
       "      <td>-8.306436</td>\n",
       "      <td>days_listed</td>\n",
       "    </tr>\n",
       "    <tr>\n",
       "      <th>5</th>\n",
       "      <td>3934.386100</td>\n",
       "      <td>fuel_diesel</td>\n",
       "    </tr>\n",
       "    <tr>\n",
       "      <th>6</th>\n",
       "      <td>-258.007846</td>\n",
       "      <td>fuel_electric</td>\n",
       "    </tr>\n",
       "    <tr>\n",
       "      <th>7</th>\n",
       "      <td>-12.455274</td>\n",
       "      <td>fuel_gas</td>\n",
       "    </tr>\n",
       "    <tr>\n",
       "      <th>8</th>\n",
       "      <td>-51.031553</td>\n",
       "      <td>fuel_hybrid</td>\n",
       "    </tr>\n",
       "    <tr>\n",
       "      <th>9</th>\n",
       "      <td>117.882162</td>\n",
       "      <td>fuel_other</td>\n",
       "    </tr>\n",
       "  </tbody>\n",
       "</table>\n",
       "</div>"
      ],
      "text/plain": [
       "   coeficientes      variables\n",
       "0   4681.558707     model_year\n",
       "1   1546.799246      cylinders\n",
       "2  -3306.747820       odometer\n",
       "3      0.000000         is_4wd\n",
       "4     -8.306436    days_listed\n",
       "5   3934.386100    fuel_diesel\n",
       "6   -258.007846  fuel_electric\n",
       "7    -12.455274       fuel_gas\n",
       "8    -51.031553    fuel_hybrid\n",
       "9    117.882162     fuel_other"
      ]
     },
     "execution_count": 151,
     "metadata": {},
     "output_type": "execute_result"
    }
   ],
   "source": [
    "coeficientes = modelo_final.steps[-1][1].coef_\n",
    "\n",
    "variables = X_trainl.columns\n",
    "\n",
    "# Generar una tabla dataframe nueva\n",
    "print(modelo_final.steps)\n",
    "pd.DataFrame({\n",
    "    \"coeficientes\":coeficientes,\n",
    "    \"variables\":variables\n",
    "})"
   ]
  },
  {
   "cell_type": "markdown",
   "id": "6886d567",
   "metadata": {},
   "source": [
    "Cuando utilizas Pipeline en scikit-learn, estás encadenando varios pasos de procesamiento y un estimador final. Cada paso dentro del Pipeline se define como una tupla en la lista steps, donde el primer elemento de la tupla es el nombre del paso y el segundo elemento es el objeto transformador o estimador correspondiente.\n",
    "\n",
    "Para acceder al estimador final dentro del Pipeline y obtener los coeficientes, utilizamos modelo_final.steps[-1][1]. Explicaré cada parte de esta expresión:\n",
    "\n",
    "    modelo_final.steps: Es una lista que contiene todos los pasos definidos en el Pipeline.\n",
    "    [-1]: Accedemos al último paso dentro de la lista steps. El índice -1 se utiliza para referirse al último elemento de una lista.\n",
    "    [1]: Dentro de la tupla correspondiente al último paso, el segundo elemento [1] es el estimador final en sí mismo.\n",
    "\n",
    "Entonces, modelo_final.steps[-1][1] nos permite acceder al estimador final dentro del Pipeline. A continuación, podemos utilizar el atributo coef_ en ese estimador final para obtener los coeficientes del modelo.\n",
    "\n",
    "En resumen, modelo_final.steps[-1][1].coef_ se utiliza para acceder a los coeficientes del estimador final dentro del Pipeline en scikit-learn. Es importante tener en cuenta que los índices negativos se utilizan para referirse a elementos contados desde el final de la lista, donde -1 representa el último elemento."
   ]
  },
  {
   "cell_type": "markdown",
   "id": "7d6d22af",
   "metadata": {},
   "source": [
    "## Practica independiente Ridge y Lasso"
   ]
  },
  {
   "cell_type": "code",
   "execution_count": 146,
   "id": "d00f9887",
   "metadata": {},
   "outputs": [
    {
     "data": {
      "text/plain": [
       "(5466, 10)"
      ]
     },
     "execution_count": 146,
     "metadata": {},
     "output_type": "execute_result"
    }
   ],
   "source": [
    "datos = pd.read_csv(\"venta_inmuebles_data.csv\")\n",
    "datos.shape"
   ]
  },
  {
   "cell_type": "code",
   "execution_count": 147,
   "id": "c47d0a92",
   "metadata": {},
   "outputs": [
    {
     "data": {
      "text/plain": [
       "1"
      ]
     },
     "execution_count": 147,
     "metadata": {},
     "output_type": "execute_result"
    }
   ],
   "source": [
    "datos.duplicated().sum()"
   ]
  },
  {
   "cell_type": "code",
   "execution_count": 152,
   "id": "a296f26b",
   "metadata": {},
   "outputs": [
    {
     "data": {
      "text/plain": [
       "numero_cuartos                int64\n",
       "numero_baños                  int64\n",
       "area_de_ construcción_pie2    int64\n",
       "area_del lote_pie2            int64\n",
       "numero_pisos                  int64\n",
       "condición                     int64\n",
       "grado                         int64\n",
       "superficie_sótano_pie2        int64\n",
       "año_de_construcción           int64\n",
       "precio                        int64\n",
       "dtype: object"
      ]
     },
     "execution_count": 152,
     "metadata": {},
     "output_type": "execute_result"
    }
   ],
   "source": [
    "datos = datos.drop_duplicates().dropna()\n",
    "datos.dtypes"
   ]
  },
  {
   "cell_type": "code",
   "execution_count": 153,
   "id": "f0b0cc16",
   "metadata": {},
   "outputs": [],
   "source": [
    "# preparando los datos\n",
    "\n",
    "y = datos[[\"precio\"]]\n",
    "X = datos.drop([\"precio\"], axis=1)"
   ]
  },
  {
   "cell_type": "code",
   "execution_count": 154,
   "id": "d39bc80e",
   "metadata": {},
   "outputs": [],
   "source": [
    "# entrenamiento\n",
    "\n",
    "X_train_r, X_test_r, y_train_r, y_test_r = train_test_split(X, y, test_size=0.2, random_state=0)"
   ]
  },
  {
   "cell_type": "code",
   "execution_count": 187,
   "id": "119aa7ff",
   "metadata": {},
   "outputs": [
    {
     "name": "stdout",
     "output_type": "stream",
     "text": [
      "Metricas\n",
      "R2 0.54\n",
      "RMSE 120620.13\n",
      "MSE 14549215501.14\n",
      "MAE 95093.03\n"
     ]
    }
   ],
   "source": [
    "# Creando las particiones en como se dividirán los datos\n",
    "\n",
    "\n",
    "particiones = KFold(n_splits=10, shuffle=True, random_state=0)\n",
    "\n",
    "# Construcción del modelo ridge - normalizando primero los datos con una tuberia\n",
    "\n",
    "modelo_ridge_1 = make_pipeline(StandardScaler(with_mean=False), Ridge()) \n",
    "\n",
    "# creo ahora los parametros en diccionario\n",
    "\n",
    "param_grid = {\"ridge__alpha\":[0.1, 0,25, 0.5]} # estos serán los alphas que comparare para elegir el mejor modelo\n",
    "\n",
    "mejor_modelo_r = GridSearchCV(modelo_ridge_1, param_grid, cv=particiones, n_jobs=-1 ) #\n",
    "#esto va a verificar las grillas cual es el mejor alpha\n",
    "\n",
    "# Ajustar el modelo\n",
    "\n",
    "mejor_modelo_r.fit(X_train_r, y_train_r)\n",
    "mejor_modelo_r.best_estimator_\n",
    "\n",
    "# creamos el modelo final con el mejor modelo\n",
    "\n",
    "modelo_final_ridge = mejor_modelo_r.best_estimator_\n",
    "\n",
    "# predecimos\n",
    "\n",
    "y_pred_r = modelo_final_ridge.predict(X_test_r)\n",
    "\n",
    "# Metricas\n",
    "\n",
    "print(\"Metricas\")\n",
    "print(\"R2 %.02f\"%r2_score(y_test_r, y_pred_r))\n",
    "print(\"RMSE %.02f\"%mean_squared_error(y_test_r, y_pred_r, squared=False))\n",
    "print(\"MSE %.02f\"%mean_squared_error(y_test_r, y_pred_r, squared=True))\n",
    "print(\"MAE %.02f\"%mean_absolute_error(y_test_r, y_pred_r))\n"
   ]
  },
  {
   "cell_type": "code",
   "execution_count": null,
   "id": "9f4775b8",
   "metadata": {},
   "outputs": [],
   "source": []
  },
  {
   "cell_type": "code",
   "execution_count": 186,
   "id": "5e576251",
   "metadata": {},
   "outputs": [
    {
     "name": "stdout",
     "output_type": "stream",
     "text": [
      "Metricas\n",
      "R2 0.54\n",
      "RMSE 120686.08\n",
      "MSE 14565130443.85\n",
      "MAE 95101.97\n"
     ]
    }
   ],
   "source": [
    "# Modelo Lasso\n",
    "\n",
    "X_train_l, X_test_l, y_train_l, y_test_l = train_test_split(X, y, test_size=0.2, random_state=0)\n",
    "\n",
    "# Creando las particiones en como se dividirán los datos\n",
    "\n",
    "\n",
    "particiones = KFold(n_splits=10, shuffle=True, random_state=0)\n",
    "\n",
    "# Construcción del modelo ridge - normalizando primero los datos con una tuberia\n",
    "\n",
    "modelo_lasso_1 = make_pipeline(StandardScaler(with_mean=False), Lasso()) \n",
    "\n",
    "# creo ahora los parametros en diccionario\n",
    "\n",
    "param_grid = {\"lasso__alpha\":[0.1, 0,25, 0.5]} # estos serán los alphas que comparare para elegir el mejor modelo\n",
    "\n",
    "mejor_modelo_l = GridSearchCV(modelo_lasso_1, param_grid, cv=particiones, n_jobs=-1 ) #\n",
    "#esto va a verificar las grillas cual es el mejor alpha\n",
    "\n",
    "# Ajustar el modelo\n",
    "\n",
    "mejor_modelo_l.fit(X_train_l, y_train_l)\n",
    "mejor_modelo_l.best_estimator_\n",
    "\n",
    "# creamos el modelo final con el mejor modelo\n",
    "\n",
    "modelo_final_lasso = mejor_modelo_l.best_estimator_\n",
    "\n",
    "# predecimos\n",
    "\n",
    "y_pred_l = modelo_final_lasso.predict(X_test_l)\n",
    "\n",
    "# Metricas\n",
    "\n",
    "print(\"Metricas\")\n",
    "print(\"R2 %.02f\"%r2_score(y_test_l, y_pred_l))\n",
    "print(\"RMSE %.02f\"%mean_squared_error(y_test_l, y_pred_l, squared=False))\n",
    "print(\"MSE %.02f\"%mean_squared_error(y_test_l, y_pred_l, squared=True))\n",
    "print(\"MAE %.02f\"%mean_absolute_error(y_test_l, y_pred_l))\n",
    "\n"
   ]
  },
  {
   "cell_type": "code",
   "execution_count": 188,
   "id": "fe669fb6",
   "metadata": {},
   "outputs": [],
   "source": [
    "# Regresion lineal simple\n",
    "X_train_, X_test_, y_train_, y_test_ = train_test_split(X, y, test_size=0.2, random_state=0)\n",
    "\n",
    "modelo_lineal = LinearRegression()"
   ]
  },
  {
   "cell_type": "code",
   "execution_count": 194,
   "id": "93c878e3",
   "metadata": {},
   "outputs": [
    {
     "name": "stdout",
     "output_type": "stream",
     "text": [
      "Metricas\n",
      "R2 0.54\n",
      "RMSE 120686.09\n",
      "MSE 14565133371.50\n",
      "MAE 95100.90\n"
     ]
    }
   ],
   "source": [
    "modelo_lineal.fit(X_train_, y_train_)\n",
    "y_predict = modelo_lineal.predict(X_test_)\n",
    "print(\"Metricas\")\n",
    "print(\"R2 %.02f\"%r2_score(y_test_, y_predict))\n",
    "print(\"RMSE %.02f\"%mean_squared_error(y_test_, y_predict, squared=False))\n",
    "print(\"MSE %.02f\"%mean_squared_error(y_test_, y_predict, squared=True))\n",
    "print(\"MAE %.02f\"%mean_absolute_error(y_test_, y_predict))"
   ]
  },
  {
   "cell_type": "code",
   "execution_count": 201,
   "id": "a4d96723",
   "metadata": {},
   "outputs": [
    {
     "data": {
      "text/html": [
       "<div>\n",
       "<style scoped>\n",
       "    .dataframe tbody tr th:only-of-type {\n",
       "        vertical-align: middle;\n",
       "    }\n",
       "\n",
       "    .dataframe tbody tr th {\n",
       "        vertical-align: top;\n",
       "    }\n",
       "\n",
       "    .dataframe thead th {\n",
       "        text-align: right;\n",
       "    }\n",
       "</style>\n",
       "<table border=\"1\" class=\"dataframe\">\n",
       "  <thead>\n",
       "    <tr style=\"text-align: right;\">\n",
       "      <th></th>\n",
       "      <th>R2_Ridge</th>\n",
       "      <th>RMSE_Ridge</th>\n",
       "      <th>MSE_Ridge</th>\n",
       "      <th>MAE_Ridge</th>\n",
       "      <th>R2_Lasso</th>\n",
       "      <th>RMSE_Lasso</th>\n",
       "      <th>MSE_Lasso</th>\n",
       "      <th>MAE_Lasso</th>\n",
       "      <th>R2_Lineal</th>\n",
       "      <th>RMSE_Lineal</th>\n",
       "      <th>MSE_Lineal</th>\n",
       "      <th>MAE_Lineal</th>\n",
       "    </tr>\n",
       "  </thead>\n",
       "  <tbody>\n",
       "    <tr>\n",
       "      <th>0</th>\n",
       "      <td>0.54</td>\n",
       "      <td>120620.13</td>\n",
       "      <td>1.454922e+10</td>\n",
       "      <td>95093.03</td>\n",
       "      <td>0.54</td>\n",
       "      <td>120686.08</td>\n",
       "      <td>1.456513e+10</td>\n",
       "      <td>95101.97</td>\n",
       "      <td>0.54</td>\n",
       "      <td>120686.09</td>\n",
       "      <td>1.456513e+10</td>\n",
       "      <td>95100.9</td>\n",
       "    </tr>\n",
       "  </tbody>\n",
       "</table>\n",
       "</div>"
      ],
      "text/plain": [
       "   R2_Ridge  RMSE_Ridge     MSE_Ridge  MAE_Ridge  R2_Lasso  RMSE_Lasso  \\\n",
       "0      0.54   120620.13  1.454922e+10   95093.03      0.54   120686.08   \n",
       "\n",
       "      MSE_Lasso  MAE_Lasso  R2_Lineal  RMSE_Lineal    MSE_Lineal  MAE_Lineal  \n",
       "0  1.456513e+10   95101.97       0.54    120686.09  1.456513e+10     95100.9  "
      ]
     },
     "execution_count": 201,
     "metadata": {},
     "output_type": "execute_result"
    }
   ],
   "source": [
    "# construyendo una tabla con los 3 diccionarios\n",
    "nueva_tabla = pd.DataFrame({\n",
    "    \"R2_Ridge\": [round(r2_score(y_test_r, y_pred_r), 2)],\n",
    "    \"RMSE_Ridge\": [round(mean_squared_error(y_test_r, y_pred_r, squared=False), 2)],\n",
    "    \"MSE_Ridge\": [round(mean_squared_error(y_test_r, y_pred_r, squared=True), 2)],\n",
    "    \"MAE_Ridge\": [round(mean_absolute_error(y_test_r, y_pred_r), 2)],\n",
    "    \"R2_Lasso\": [round(r2_score(y_test_l, y_pred_l), 2)],\n",
    "    \"RMSE_Lasso\": [round(mean_squared_error(y_test_l, y_pred_l, squared=False), 2)],\n",
    "    \"MSE_Lasso\": [round(mean_squared_error(y_test_l, y_pred_l, squared=True), 2)],\n",
    "    \"MAE_Lasso\": [round(mean_absolute_error(y_test_l, y_pred_l), 2)],\n",
    "    \"R2_Lineal\": [round(r2_score(y_test_, y_predict), 2)],\n",
    "    \"RMSE_Lineal\": [round(mean_squared_error(y_test_, y_predict, squared=False), 2)],\n",
    "    \"MSE_Lineal\": [round(mean_squared_error(y_test_, y_predict, squared=True), 2)],\n",
    "    \"MAE_Lineal\": [round(mean_absolute_error(y_test_, y_predict), 2)]\n",
    "})\n",
    "nueva_tabla\n"
   ]
  },
  {
   "cell_type": "code",
   "execution_count": null,
   "id": "26f28f2a",
   "metadata": {},
   "outputs": [],
   "source": []
  }
 ],
 "metadata": {
  "kernelspec": {
   "display_name": "Python 3 (ipykernel)",
   "language": "python",
   "name": "python3"
  },
  "language_info": {
   "codemirror_mode": {
    "name": "ipython",
    "version": 3
   },
   "file_extension": ".py",
   "mimetype": "text/x-python",
   "name": "python",
   "nbconvert_exporter": "python",
   "pygments_lexer": "ipython3",
   "version": "3.9.13"
  }
 },
 "nbformat": 4,
 "nbformat_minor": 5
}
