{
 "cells": [
  {
   "cell_type": "markdown",
   "id": "96899dae-97a7-4019-a3cc-a2433bd28f43",
   "metadata": {},
   "source": [
    "# Ajuste de modelos estadísticos a datos con las pautas de Python\n",
    "\n",
    "## ¿Qué queremos decir con ajustar modelos a datos?\n",
    "\n",
    "Esto quiere decir que se ajustan los modelos a los datos y no al rever, describen los comportamientos o las distribuciones. Los modelos parten del moelos y las medidas de interes. \n",
    "\n",
    "Los modelos párametricos tienen la necesidad de conocer el tipo de distribución con el que se trabajará, pero al mismo tiempo deben tener una serie de datos numericos fijos que vienen siendo los parametros del modelo. \n",
    "\n",
    "Un modelo paramétrico es como una receta para hacer una torta. Para hacer una torta necesitas ciertos ingredientes y seguir ciertos pasos en un orden específico para que la torta quede bien. Un modelo paramétrico es similar: tienes que elegir ciertas \"cosas\" que quieres estudiar (variables), como el tiempo que hace afuera y cuánto se vende de helado, y luego elegir un tipo de \"receta\" estadística (modelo) para estudiar cómo estas \"cosas\" están relacionadas. El modelo te ayuda a entender cómo una cosa puede afectar a otra cosa, como el hecho de que cuando hace mucho calor la gente tiende a comprar más helado.\n",
    "\n",
    "De manera resumida, un modelo paramétrico es una herramienta matemática que te ayuda a entender cómo las cosas están relacionadas entre sí, de una manera que te permita hacer predicciones y entender cómo cambiar una cosa puede afectar a otra.\n",
    "\n",
    "## Tipos de variable y modelado estadístico\n",
    "\n",
    "Conocemos normalmente las variables categoricas y cuantitativas, las categoricas pueden ser ordinales y nominales, y las cuantitativas discretas y continuas, no obstante para el modelado estadístico se hablara de variables dependientes e independientes.\n",
    "\n",
    "### VARIABLES DEPENDIENTES - DV\n",
    "\n",
    "Estas también pueden conocerse como:\n",
    "\n",
    "* Variables de resultado\n",
    "* Variables de respuesta\n",
    "* Variables endogenas.\n",
    "* Variables de interés\n",
    "\n",
    "Estas son las variables que en la normalidad nos interesan modelar.\n",
    "\n",
    "\n",
    "### VARIABLES INDEPENDIENTES - IVS\n",
    "\n",
    "Algunos de los nombres que se pueden escuchar para estos datos son:\n",
    "\n",
    "* Variables predictoras\n",
    "* Covariables\n",
    "* Exogenas\n",
    "* Regresivas \n",
    "\n",
    "Estas son las variables que se utilizan para predecir a las variables dependientes de interés. \n",
    "\n",
    "**Las preguntas de investigacion son las que definen las variables dependientes e independientes** \n",
    "\n",
    "### Variables de Control \n",
    "\n",
    "Son variables que se incluyen si conocemos que puede tener cierta relación con la variable dependiente.\n",
    "\n",
    "Por ejemplo, si se desea estudiar la presión arterial por genero y se sabe que el peso corporal esta relacionado con la presion arterial, entonces podemos incluir esta variable y sería la de control.  \n",
    "\n",
    "\n",
    "## Diferentes diseños de estudio generan diferentes tipos de datos: implicaciones para el modelado\n",
    "\n",
    "Una de las consideraciones más importantes es conocer el diseño del estudio, como se seleccionaron las variables y como fue realizado el mismo, esto es muy importante saberlo para ajustar el modelo a los datos. \n",
    "\n",
    "En este sentido podríamos decir que estan importante como para definir las variables dependientes e independientes, pero también, para saber si dentro de una variable dependiente **existe correlación** entonces, si sabemos que se aplico un muestreo aleatorio simple **No deberia** existir correlacion entre las observaciones de la variable. En este sentido cuando saquemos la desviación estandar o el error estandar, esperariamos que estos errores o medidas de dispersion no sean tan altas proque suponemos que en el ejercicio de muestreo se realizo bien. \n",
    "\n",
    "### Ejemplo 1\n",
    "\n",
    "Se quiere calcular la diferencia en la felicidad media entre hombres y mujeres.\n",
    "\n",
    "1) Podría ajustarse un modelo que no suponga que todas las observaciones de la misma distribución. En este supuesto podríamos decir que la media cambia dependiendo de si somos un hombre o mujer, es decir que la distribución normal cambia dependiendo del género para el ejemplo. Pero si se condiciona la variable **genero** en el modelo, todas las observaciones serían independientes y tendrían la misma varianza. \n",
    "\n",
    "En estos supuestos tendríamos que observar que en un muestreo por conglomerado en donde se quiere conocer el rendimiento de los equipos de trabajo y se divide por tiendas, tendríamos tener en cuenta si existe correlación entre los empleados, porque esto podría existir. En este aso tendrían que ajustarse los parametros y debemos entender que tendremos menos información unica porque los datos pueden estar correlacionados lo que aumenta la variabilidad o son menos precisos\n",
    "\n",
    "## Objetivos cuando se hacen modelos estadísticos a los datos.\n",
    "\n",
    "* Podríamos estar interesados en hacer inferencias sobre las relaciones entre las variables en un conjunto de datos **podría ser el objetivo principal**\n",
    "\n",
    "* Pronosticos sobre resultados futuros basados en modelos ques e estimaron utilizando datos históricos \n",
    "\n",
    "En el objetivo **1** digamos que vamos hacer una predicción sobre si la edad afecta el rendimiento en una actividad.\n",
    "\n",
    "entonces la formula sería algo así:\n",
    "\n",
    "> regresion = a + b * age + c * age^2 + e\n",
    "\n",
    "**e** es el error o el rendimiento real menos el predicho basado en el modelo. \n",
    "\n",
    "Los errores normalmente se distribuyen con **media_error de 0 y varianza constante dependiendo de un valor de edad**\n",
    "\n",
    "Ahora, bajo el objetivo uno la idea es hacer inferencias sobre los parametros (variables), una hipotesis para trabajar esas inferencias es preguntarnos si los parametros son iguales a cero o se pueden formar intervalos de ocnfianza para ver si dentro de este parametro se incluye el valor 0 \n",
    "\n",
    "En el objetivo **2** podrían hacerse predicciones basadas en los modelos ajustados\n",
    "\n",
    "> perf = 5.11 + 0.24 * age + 0.26*age^2 + e\n",
    "\n",
    "### Ejercicio predictivo simple\n",
    "\n",
    "Recuerde que el modelo de regresión de interés es ingreso = a + b × edad + c × educación + e. Suponga que todas las tres estimaciones de los coeficientes en el modelo de ingreso anual son a = 50, b = 25 y c = 2000. ¿Cuál es el ingreso medio esperado para un adulto de 30 años con 16 años de educación?\n",
    "\n",
    "\n",
    "> regresion = 50 + 25 * 30 - 2000 * 16 + 0\n",
    "\n",
    "\n",
    "La inclusión de términos cuadráticos en un modelo de regresión depende de la relación que se espera entre la variable independiente y la variable dependiente. En el primer ejercicio, se espera que la relación entre la edad y el ingreso sea aproximadamente lineal, por lo que solo se incluye una variable lineal de edad en el modelo. En el segundo ejercicio, se espera que la relación entre la edad y el rendimiento deportivo no sea lineal, por lo que se incluyen términos cuadráticos en el modelo para capturar la posible curvatura de la relación. En resumen, la inclusión de términos cuadráticos depende del tipo de relación que se espera entre las variables en cuestión."
   ]
  },
  {
   "cell_type": "code",
   "execution_count": 12,
   "id": "df1145a9",
   "metadata": {},
   "outputs": [
    {
     "data": {
      "text/plain": [
       "32800"
      ]
     },
     "execution_count": 12,
     "metadata": {},
     "output_type": "execute_result"
    }
   ],
   "source": [
    "#¿Cuál es el ingreso medio esperado para un adulto de 30 años con 16 años de educación?\n",
    "regresion = 50 + (25 * 30) + (2000 * 16) + 0\n",
    "regresion "
   ]
  },
  {
   "cell_type": "code",
   "execution_count": 11,
   "id": "d0ed1fe7",
   "metadata": {},
   "outputs": [
    {
     "data": {
      "text/plain": [
       "512000"
      ]
     },
     "execution_count": 11,
     "metadata": {},
     "output_type": "execute_result"
    }
   ],
   "source": [
    "256*2000"
   ]
  },
  {
   "cell_type": "code",
   "execution_count": null,
   "id": "bfed1532",
   "metadata": {},
   "outputs": [],
   "source": []
  }
 ],
 "metadata": {
  "kernelspec": {
   "display_name": "Python 3 (ipykernel)",
   "language": "python",
   "name": "python3"
  },
  "language_info": {
   "codemirror_mode": {
    "name": "ipython",
    "version": 3
   },
   "file_extension": ".py",
   "mimetype": "text/x-python",
   "name": "python",
   "nbconvert_exporter": "python",
   "pygments_lexer": "ipython3",
   "version": "3.9.13"
  }
 },
 "nbformat": 4,
 "nbformat_minor": 5
}
