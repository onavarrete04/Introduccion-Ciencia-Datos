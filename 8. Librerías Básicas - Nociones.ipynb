{
 "cells": [
  {
   "cell_type": "markdown",
   "id": "04020e4e",
   "metadata": {},
   "source": [
    "# Numpy\n",
    "\n",
    "Matrices, es una cuadricula de valores entenos no negativos, que dan el largo y largo"
   ]
  },
  {
   "cell_type": "code",
   "execution_count": 2,
   "id": "8baafc37",
   "metadata": {},
   "outputs": [],
   "source": [
    "import numpy as np"
   ]
  },
  {
   "cell_type": "code",
   "execution_count": 8,
   "id": "80116436",
   "metadata": {},
   "outputs": [
    {
     "name": "stdout",
     "output_type": "stream",
     "text": [
      "(3, 1)\n"
     ]
    }
   ],
   "source": [
    "a = np.array([1,2,3]) # objeto básico de matriz usando el objeto lista\n",
    "\n",
    "type(a)\n",
    "\n",
    "a = np.array([[1],[2],[3]])\n",
    "print(np.shape(a))"
   ]
  },
  {
   "cell_type": "markdown",
   "id": "11fb3d19",
   "metadata": {},
   "source": [
    "Una de las carácteristicas de Numpy es que podemos ver la matriz que hemos creado"
   ]
  },
  {
   "cell_type": "code",
   "execution_count": 3,
   "id": "4fdf7d24",
   "metadata": {},
   "outputs": [
    {
     "name": "stdout",
     "output_type": "stream",
     "text": [
      "(3,)\n"
     ]
    }
   ],
   "source": [
    "print(np.shape(a))\n",
    "\n",
    "# -> (3,) -> muestra que es un objeto unidimensional"
   ]
  },
  {
   "cell_type": "code",
   "execution_count": 4,
   "id": "58c68cdf",
   "metadata": {},
   "outputs": [
    {
     "name": "stdout",
     "output_type": "stream",
     "text": [
      "(2, 2)\n"
     ]
    }
   ],
   "source": [
    "# matriz doble\n",
    "b = np.array([[1,2],[3,4]])\n",
    "\n",
    "print(np.shape(b))"
   ]
  },
  {
   "cell_type": "code",
   "execution_count": 6,
   "id": "a9f73185",
   "metadata": {},
   "outputs": [
    {
     "name": "stdout",
     "output_type": "stream",
     "text": [
      "[[0. 0.]\n",
      " [0. 0.]\n",
      " [0. 0.]]\n",
      "(3, 2)\n"
     ]
    }
   ],
   "source": [
    "# matriz con todos los ceros\n",
    "\n",
    "c = np.zeros((3,2))# 3 = elementos, 2 = dimensiones\n",
    "\n",
    "print(c)\n",
    "print(np.shape(c))"
   ]
  },
  {
   "cell_type": "code",
   "execution_count": 14,
   "id": "2e485940",
   "metadata": {},
   "outputs": [
    {
     "name": "stdout",
     "output_type": "stream",
     "text": [
      "[[5 5 5]\n",
      " [5 5 5]\n",
      " [5 5 5]]\n"
     ]
    }
   ],
   "source": [
    "e = np.full((3,3),5) # full recibe dos parametros, las dimensiones y elementos, y el valor que queremos mostrar\n",
    "\n",
    "print(e)"
   ]
  },
  {
   "cell_type": "code",
   "execution_count": 25,
   "id": "c35dd84e",
   "metadata": {},
   "outputs": [
    {
     "name": "stdout",
     "output_type": "stream",
     "text": [
      "[[0.53510435 0.48479161 0.50974305]\n",
      " [0.53168864 0.21520457 0.21083152]\n",
      " [0.25719768 0.41011942 0.51897401]]\n"
     ]
    }
   ],
   "source": [
    "g = np.random.random((int(3),int(3)))\n",
    "\n",
    "print(g)"
   ]
  },
  {
   "cell_type": "code",
   "execution_count": 31,
   "id": "867ad94c",
   "metadata": {},
   "outputs": [
    {
     "name": "stdout",
     "output_type": "stream",
     "text": [
      "0.7764063494593657\n"
     ]
    }
   ],
   "source": [
    "print(np.random.random())"
   ]
  },
  {
   "cell_type": "markdown",
   "id": "cc058da2",
   "metadata": {},
   "source": [
    "# Index"
   ]
  },
  {
   "cell_type": "code",
   "execution_count": 37,
   "id": "04956e00",
   "metadata": {},
   "outputs": [
    {
     "name": "stdout",
     "output_type": "stream",
     "text": [
      "[[2 2 2]\n",
      " [2 2 2]\n",
      " [2 2 2]\n",
      " [2 2 2]]\n"
     ]
    }
   ],
   "source": [
    "h = np.full((4,3),np.random.randint(4))\n",
    "\n",
    "print(h)"
   ]
  },
  {
   "cell_type": "code",
   "execution_count": 43,
   "id": "2c19f360",
   "metadata": {},
   "outputs": [
    {
     "name": "stdout",
     "output_type": "stream",
     "text": [
      "[[ 1  2  3  4]\n",
      " [ 5  6  7  8]\n",
      " [ 9 10 11 12]]\n"
     ]
    }
   ],
   "source": [
    "h = np.array([[1,2,3,4],\n",
    "              [5,6,7,8],\n",
    "              [9,10,11,12]])\n",
    "\n",
    "print(h)"
   ]
  },
  {
   "cell_type": "code",
   "execution_count": 50,
   "id": "d4a24702",
   "metadata": {},
   "outputs": [
    {
     "name": "stdout",
     "output_type": "stream",
     "text": [
      "[[2 3]\n",
      " [6 7]]\n"
     ]
    }
   ],
   "source": [
    "\n",
    "### Slice array to make a 2x2 sub-array\n",
    "i = h[:2, 1:3]\n",
    "\n",
    "print(i)\n"
   ]
  },
  {
   "cell_type": "code",
   "execution_count": 51,
   "id": "2db6bb6c",
   "metadata": {},
   "outputs": [
    {
     "name": "stdout",
     "output_type": "stream",
     "text": [
      "[[  1 333   3   4]\n",
      " [  5   6   7   8]\n",
      " [  9  10  11  12]]\n"
     ]
    }
   ],
   "source": [
    "# modificando la variable i y viendo las consecuencias\n",
    "# en la variable h\n",
    "\n",
    "i[0,0] = 333\n",
    "\n",
    "print(h)\n",
    "\n",
    "# en este caso como la matriz es una variable generada por\n",
    "# el array h, lo que pasa es que si modificamos el \n",
    "# subconjunto de la variable i, se modificara, la h\n",
    "# porque la h esta definida como una variable para i"
   ]
  },
  {
   "cell_type": "markdown",
   "id": "7b05e159",
   "metadata": {},
   "source": [
    "## Tipos de Array"
   ]
  },
  {
   "cell_type": "code",
   "execution_count": 3,
   "id": "2ceb9ccd",
   "metadata": {},
   "outputs": [
    {
     "name": "stdout",
     "output_type": "stream",
     "text": [
      "int64\n"
     ]
    }
   ],
   "source": [
    "j = np.array([1,2])\n",
    "\n",
    "print(j.dtype)"
   ]
  },
  {
   "cell_type": "code",
   "execution_count": 7,
   "id": "e0759c64",
   "metadata": {},
   "outputs": [
    {
     "name": "stdout",
     "output_type": "stream",
     "text": [
      "<class 'numpy.ndarray'>\n",
      "int64\n"
     ]
    }
   ],
   "source": [
    "# Forzar a que sea un tipo de dato\n",
    "l = np.array([1.0,2.0], dtype = np.int64)\n",
    "print(type(l))\n",
    "print(l.dtype)"
   ]
  },
  {
   "cell_type": "markdown",
   "id": "f3c18d6e",
   "metadata": {},
   "source": [
    "## Funciones matematicas para Arrays"
   ]
  },
  {
   "cell_type": "code",
   "execution_count": 10,
   "id": "f1cd0cc1",
   "metadata": {},
   "outputs": [
    {
     "name": "stdout",
     "output_type": "stream",
     "text": [
      "[[ 6.  8.]\n",
      " [10. 12.]]\n",
      "[[1.         1.41421356]\n",
      " [1.73205081 2.        ]]\n"
     ]
    }
   ],
   "source": [
    "# algebra lineal, operaciones aritmeticas\n",
    "\n",
    "x = np.array([[1,2],[3,4]], dtype= np.float64)\n",
    "y = np.array([[5,6],[7,8]], dtype= np.float64)\n",
    "\n",
    "print(x+y)\n",
    "print(np.sqrt(x))"
   ]
  },
  {
   "cell_type": "code",
   "execution_count": 12,
   "id": "1bb99332",
   "metadata": {},
   "outputs": [
    {
     "data": {
      "text/plain": [
       "array([4., 6.])"
      ]
     },
     "execution_count": 12,
     "metadata": {},
     "output_type": "execute_result"
    }
   ],
   "source": [
    "# Estadísticas en Numpy descriptivas\n",
    "\n",
    "np.sum(x)\n",
    "np.sum(x, axis = 0) \n",
    "# axis esta sumando el array x en su index 0, 1\n",
    "# [1,2] -> indx 0 \n",
    "# [3,4] -> indx 1\n",
    "# ___________\n",
    "# 4  6 \n",
    "# suma en columna"
   ]
  },
  {
   "cell_type": "code",
   "execution_count": 13,
   "id": "fcaf1a72",
   "metadata": {},
   "outputs": [
    {
     "data": {
      "text/plain": [
       "array([3., 7.])"
      ]
     },
     "execution_count": 13,
     "metadata": {},
     "output_type": "execute_result"
    }
   ],
   "source": [
    "np.sum(x, axis = 1)\n",
    "\n",
    "# [1, 2] = 3 | suma en fila\n",
    "# [3, 4] = 7\n",
    "# La suma del 1 indica que se sumará cada dimension\n",
    "# del array entre ellas, se implica en forma de fila"
   ]
  },
  {
   "cell_type": "markdown",
   "id": "ca7df8f5",
   "metadata": {},
   "source": [
    "# SciPy\n",
    "\n",
    "Utiliza una gran cantidad de funciones que operan en las matrices ampliando la posibilidad de generar aplicaciones científicas y de ingeniería.\n",
    "\n",
    "### SciPy.Stats\n",
    "\n",
    "Es un paquete que se encuentra dentro de la libreria SciPy, con funciones para distribuciones continuas y discretas, estadística descriptiva y pruebas estadísticas como T-test"
   ]
  },
  {
   "cell_type": "code",
   "execution_count": 14,
   "id": "61f767b2",
   "metadata": {},
   "outputs": [],
   "source": [
    "from scipy import stats\n",
    "import numpy as np"
   ]
  },
  {
   "cell_type": "code",
   "execution_count": 16,
   "id": "e1c547e3",
   "metadata": {},
   "outputs": [
    {
     "name": "stdout",
     "output_type": "stream",
     "text": [
      "[ 0.94992589  0.22081797  0.27806041  1.14185252 -0.52697968  0.50572417\n",
      " -0.44122536 -1.20044296  2.45149048  0.81622218]\n"
     ]
    }
   ],
   "source": [
    "# generación de variables aleatorias que es algo muy importante\n",
    "\n",
    "print(stats.norm.rvs(size=10)) \n",
    "\n",
    "# variables aleatorias normales () -> tamaño\n",
    "# (10) -> 10 variables aleatorias normales\n",
    "# se refiere a la distribución \"normal\"\n"
   ]
  },
  {
   "cell_type": "code",
   "execution_count": 18,
   "id": "e7633346",
   "metadata": {},
   "outputs": [
    {
     "data": {
      "image/png": "[encoded data removed]",
      "text/plain": [
       "<Figure size 432x288 with 1 Axes>"
      ]
     },
     "metadata": {
      "needs_background": "light"
     },
     "output_type": "display_data"
    }
   ],
   "source": [
    "# Ejemplo de función de densidad y probabilidad\n",
    "\n",
    "from pylab import *\n",
    "\n",
    "dx = .01\n",
    "X = np.arange(-2,2, dx)\n",
    "Y = exp(-X**2)\n",
    "\n",
    "Y /= (dx*Y).sum()\n",
    "\n",
    "CY = np.cumsum(Y*dx)\n",
    "\n",
    "plot(X, Y)\n",
    "plot(X,CY, 'r--')\n",
    "\n",
    "show()"
   ]
  },
  {
   "cell_type": "code",
   "execution_count": 20,
   "id": "74775a4c",
   "metadata": {},
   "outputs": [
    {
     "name": "stdout",
     "output_type": "stream",
     "text": [
      "[0.0668072  0.30853754 0.5        0.84134475 0.9331928  0.97724987\n",
      " 1.        ]\n"
     ]
    }
   ],
   "source": [
    "print(stats.norm.cdf(np.array([-1.5,-.5,0,1,1.5,2,6])))\n",
    "\n",
    "#  muestra los valoes exactos de densidad de probabilidad de \n",
    "# diferentes funciones"
   ]
  },
  {
   "cell_type": "markdown",
   "id": "4dede5c1",
   "metadata": {},
   "source": [
    "## Estadística Descriptiva"
   ]
  },
  {
   "cell_type": "code",
   "execution_count": 25,
   "id": "2cf75b3f",
   "metadata": {},
   "outputs": [],
   "source": [
    "np.random.seed(1234) # semilla aleatoria\n",
    "\n",
    "x = stats.t.rvs(10,size = 1000) # variables aleatorias, se establecen como valor x\n",
    "\n",
    "\n",
    "# funcion t = Una variable aleatoria continua t de Student."
   ]
  },
  {
   "cell_type": "code",
   "execution_count": 26,
   "id": "53f9eafe",
   "metadata": {},
   "outputs": [
    {
     "name": "stdout",
     "output_type": "stream",
     "text": [
      "Q1  -3.7081318682862507\n",
      "------------------------------\n",
      "Q3  5.489762351653657\n",
      "------------------------------\n",
      "Mean 0.03301501424446721\n",
      "------------------------------\n"
     ]
    },
    {
     "data": {
      "text/plain": [
       "DescribeResult(nobs=1000, minmax=(-3.7081318682862507, 5.489762351653657), mean=0.03301501424446721, variance=1.2180596486677358, skewness=0.017360162164788, kurtosis=0.9792361694613958)"
      ]
     },
     "execution_count": 26,
     "metadata": {},
     "output_type": "execute_result"
    }
   ],
   "source": [
    "#Datos resumen\n",
    "\n",
    "print(\"Q1 \",x.min())\n",
    "\n",
    "print(\"---\"*10)\n",
    "\n",
    "print(\"Q3 \",x.max())\n",
    "\n",
    "print(\"---\"*10)\n",
    "\n",
    "print(\"Mean\", x.mean())\n",
    "\n",
    "print(\"---\"*10)\n",
    "\n",
    "stats.describe(x)\n"
   ]
  },
  {
   "cell_type": "code",
   "execution_count": null,
   "id": "5fd81d6b",
   "metadata": {},
   "outputs": [],
   "source": []
  }
 ],
 "metadata": {
  "kernelspec": {
   "display_name": "Python 3 (ipykernel)",
   "language": "python",
   "name": "python3"
  },
  "language_info": {
   "codemirror_mode": {
    "name": "ipython",
    "version": 3
   },
   "file_extension": ".py",
   "mimetype": "text/x-python",
   "name": "python",
   "nbconvert_exporter": "python",
   "pygments_lexer": "ipython3",
   "version": "3.9.7"
  }
 },
 "nbformat": 4,
 "nbformat_minor": 5
}
