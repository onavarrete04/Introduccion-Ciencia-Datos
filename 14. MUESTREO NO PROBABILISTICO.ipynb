{
 "cells": [
  {
   "cell_type": "markdown",
   "id": "c208a5fa",
   "metadata": {},
   "source": [
    "Las características principales de las Muestras NO Probabilisticas son:\n",
    "\n",
    "+ No se pueden determinar las probabilidades de selección de dichas muestras.\n",
    "\n",
    "+ No hay selección aleatoria (no se controla el mecanismo de selección aleatoria).\n",
    "+ Los grupos pueden dividirse en estratos o cúmulos, pero los racimos de las etapas anteriores no se muestran. \n",
    "+ La información (datos) son muchos más baratos en relación con el muestreo probabilístico.\n",
    "\n",
    "#### Ejemplos\n",
    "\n",
    "1. Estudios de voluntarios para la vacuna covid19 en una institución académica. En este caso puntual los investigadores no tienen control sobre las probabilidades de selección, ni de quien finalmente va a estar en el estudio. \n",
    "\n",
    "2. Encuestas web, de la misma medida que la anterior, se estan buscando personas con la disposición para realizar el estudio, pero no hay un control de probabilidad de selección de las personas participantes en el estudio. En este caso puede ser habitual que pers onas de un mismo circulo e interes realice las encuestas, pidiendole al amigo, del amigo que la realice. \n",
    "\n",
    "3. Encuestas convenientes, pueden ser las personas que buscan encuestar a una persona en la calle sin ningún objetivo en particular, o las que se hacen en lugares como los salones de clase y las escuelas. \n",
    "\n",
    "4. Cuotas, en estos estudios se busca tener como mínimo un grupo de personas o unidades para obtener información, por ejemplo, se van a encuestar 10 hombres y 10 mujeres, pero solo nos interesa llegar a esa cuota. \n",
    "\n",
    "En todos los ejemplos anteriores no se pueden conocer/determinar antes del estudio las probabilidades de selección \n",
    "\n",
    "\n",
    "#### ¿Qué diferencia hay entre un estudio probabilistico y uno no probabilistico?\n",
    "\n",
    "Básicamente, en un estudio NO probabilístico no hay una base estadística para hacer inferencias sobre la población más grande de la que se selecciono la muestra, no conocemos la probabilidades de selección de las unidades y no se usó una selección aleatoria por lo cuál no hay una representatividad real de la muestra sobre la población. \n",
    "\n",
    "Por el contrario, si se conocen las probabilidades de selección, hay un muestreo de racimos aleatoriamente, y de las unidades aleatoriamente, esto permitirá conocer y ESTIMAR las características de la DISTRIBUCIÓN DE MUESTREO. \n",
    "\n",
    "Ahora, en el muestreo no probabilistico lo que sucede es que las personas o unidades (empresas, grupos, otras) no son seleccionadas al azar, no se evidencia una representatividad de la población, y esto hace que haya un sesgo de muestreo fuerte. Así, una encuesta en un portal web es respondida solo por las personas que estaban interesadas en visitar ese sitio web en particular.\n",
    "\n",
    "Hablando de esta situación y un problema recurrente es que ahora trabajamos con conceptos de BIG DATA, y muchas de esas muestras surgen de muestras no probabilisticas, estos datos surgen por conveniencia, y la dificultad es que muchos y muchas investigadoras utilizan este tipo de datos para hacer declaraciones sobre una población más grande. \n",
    "\n",
    "### Recomendaciones para usar muestras no probabilisticas.\n",
    "\n",
    "#### Seudo aleatorización:\n",
    "\n",
    "1. Se combinan los datos de una muestra no probabilística con una muestra probabilística, la clave es que las dos muestras recolecten medidas similares.\n",
    "2. Se utiliza la información conjunta para determinar la probabilidad de selección para los individuos de la musetra de no probabilidad, de ser incluidos en dicha muestra de no probabilidad. \n",
    "3. Ahora, tratamos con las probabilidades estimadas de selección de la muestra no probabilística como si fuera conocida, se utilizan los metodos de muestreo probabilisticos.\n",
    "\n",
    "Ahora, esto permite obtener un indicador, si esta en la muestra no probabilistica obtenemos 1, si esta en la muestra de probrabilidad obtendremos un 0.\n",
    "\n",
    "4. Regresión logística: Se usa este metodo para estimar la probabilidad de estar en esa muestra no probabilística como una función de todas las otras variables (factores género, raza, educación, etc). Cuando tengamos ya estas probabilidades podremos pensar en cuál habria sido la probabilidad para estar en este tipo de muestra (dataset). En este conjunto ya podríamos conocer la probabilidad de selección.\n",
    "\n",
    "#### Calibración\n",
    "\n",
    "En esta medida calculamos pesos para todas las unidades de respuesta en la muestra no probabilistica, esto permitirá reflejar una población conocida, por ejemplo, en una encuesta de conveniencia el 70% de los participantes son mujeres y el 30% hombres, pero nosotros en nuestra población que definimos, nuestra población era 50% de ambos generos, entonces en este caso lo que se hará es que como habiamos definido este objetivo, lo que haremos es reducir el peso de la participación del género femenino hasta que haya un 50% en los dos géneros. Esta característica es importante si observamos desequilibro en la variable que nos interesa. \n",
    "\n",
    "Las limitaciones que podremos tener es si el factor de ponderación no este asociada realmente con la variable de interés, no se va a reducir el sesgo de muestreo que pudo haber venido del muestreo no probabilistico.\n",
    "\n",
    "**Ejemplo Muestreo No Probabilístico** Se recogieron 100.000 datos de tweets por medio de una API, en esos tweets buscamos si hay un apoyo expresado al expresidente Trump, en eset escenario no podemos determinar la probabilidad de selección, no se seleccionaron aleatoriamente, además, los usuarios de Twitter no son una muestra de población más grande.\n",
    "\n",
    "\n",
    "### Distribución de Muestreo y Varianza de Muestreo\n",
    "\n"
   ]
  }
 ],
 "metadata": {
  "kernelspec": {
   "display_name": "Python 3 (ipykernel)",
   "language": "python",
   "name": "python3"
  },
  "language_info": {
   "codemirror_mode": {
    "name": "ipython",
    "version": 3
   },
   "file_extension": ".py",
   "mimetype": "text/x-python",
   "name": "python",
   "nbconvert_exporter": "python",
   "pygments_lexer": "ipython3",
   "version": "3.9.7"
  }
 },
 "nbformat": 4,
 "nbformat_minor": 5
}
