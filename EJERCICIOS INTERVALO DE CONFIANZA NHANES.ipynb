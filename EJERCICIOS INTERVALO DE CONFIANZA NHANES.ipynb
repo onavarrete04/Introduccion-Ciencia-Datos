{
 "cells": [
  {
   "cell_type": "code",
   "execution_count": 1,
   "id": "7b316090",
   "metadata": {},
   "outputs": [],
   "source": [
    "%matplotlib inline\n",
    "import matplotlib.pyplot as plt\n",
    "import pandas as pd\n",
    "import numpy as np\n",
    "import seaborn as sns\n",
    "import statsmodels.api as sm\n",
    "from scipy.stats import norm \n",
    "\n",
    "datos = pd.read_csv(\"nhanes_2015_2016.csv\")"
   ]
  },
  {
   "cell_type": "markdown",
   "id": "8da8bab8",
   "metadata": {},
   "source": [
    "# Cuaderno de prácticas para intervalos de confianza utilizando datos de NHANES\n",
    "Este cuaderno le dará la oportunidad de practicar el trabajo con intervalos de confianza utilizando los datos de NHANES.\n",
    "\n",
    "Puede ingresar su código en las celdas que dicen \"ingrese su código aquí\" y puede escribir las respuestas a las preguntas en las celdas que dicen \"Escriba Markdown y Latex\".\n",
    "\n",
    "Tenga en cuenta que la mayor parte del código que deberá escribir a continuación es muy similar al código que aparece en el cuaderno de estudio de caso. Tendrá que editar el código de ese bloc de notas en pequeñas formas para adaptarlo a las indicaciones a continuación.\n",
    "\n",
    "Para comenzar, usaremos las mismas importaciones de módulos y leeremos los datos de la misma manera que lo hicimos en el caso de estudio:"
   ]
  },
  {
   "cell_type": "markdown",
   "id": "7cdb8e63",
   "metadata": {},
   "source": [
    "### Pregunta 1\n",
    "Restrinja la muestra a mujeres entre 35 y 50 años, luego use la variable de estado civil DMDMARTL para dividir esta muestra en dos grupos: mujeres que actualmente están casadas y mujeres que actualmente no están casadas. Dentro de cada uno de estos grupos, calcule la proporción de mujeres que terminaron la universidad. Calcule los intervalos de confianza del 95% para cada una de estas proporciones."
   ]
  },
  {
   "cell_type": "code",
   "execution_count": 2,
   "id": "95c66d90",
   "metadata": {},
   "outputs": [
    {
     "data": {
      "text/plain": [
       "Index(['SEQN', 'ALQ101', 'ALQ110', 'ALQ130', 'SMQ020', 'RIAGENDR', 'RIDAGEYR',\n",
       "       'RIDRETH1', 'DMDCITZN', 'DMDEDUC2', 'DMDMARTL', 'DMDHHSIZ', 'WTINT2YR',\n",
       "       'SDMVPSU', 'SDMVSTRA', 'INDFMPIR', 'BPXSY1', 'BPXDI1', 'BPXSY2',\n",
       "       'BPXDI2', 'BMXWT', 'BMXHT', 'BMXBMI', 'BMXLEG', 'BMXARML', 'BMXARMC',\n",
       "       'BMXWAIST', 'HIQ210'],\n",
       "      dtype='object')"
      ]
     },
     "execution_count": 2,
     "metadata": {},
     "output_type": "execute_result"
    }
   ],
   "source": [
    "datos.columns"
   ]
  },
  {
   "cell_type": "code",
   "execution_count": 3,
   "id": "c06aeff3",
   "metadata": {},
   "outputs": [],
   "source": [
    "datos[\"GENDER\"] = datos.RIAGENDR.replace({1:\"Hombre\", 2:\"Mujer\"}) \n",
    "# crear un elemento de hombre o mujer más sencillo\n",
    "\n",
    "datos[\"N_EDUCATION\"] = datos.DMDEDUC2.replace({\n",
    "    1:\"Noveno\",\n",
    "    2:\"Noveno-Undecimo - NoGrade\",\n",
    "    3:\"Bachiller\",\n",
    "    4:\"Pregrado\",\n",
    "    5:\"Posgrado\",\n",
    "    7:\"Rechaza\",\n",
    "    9:\"No sabe\"\n",
    "        \n",
    "})\n",
    "\n",
    "datos[\"ESTADO_CIVIL\"] = datos.DMDMARTL.replace({\n",
    "    1:\"Casado\",\n",
    "    2:\"Viudo\",\n",
    "    3:\"Divorciado\",\n",
    "    4:\"Separado\",\n",
    "    5:\"No Casado\",\n",
    "    6:\"Union Libre\",\n",
    "    77:\"No sabe\"\n",
    "    \n",
    "}) \n",
    "\n",
    "df = datos.loc[(datos.RIDAGEYR >= 30) & (datos.RIDAGEYR < 50), [\"DMDMARTL\",\"GENDER\",\"N_EDUCATION\",\"ESTADO_CIVIL\"]]"
   ]
  },
  {
   "cell_type": "code",
   "execution_count": 4,
   "id": "6d03fcaa",
   "metadata": {},
   "outputs": [
    {
     "data": {
      "text/plain": [
       "(992, 4)"
      ]
     },
     "execution_count": 4,
     "metadata": {},
     "output_type": "execute_result"
    }
   ],
   "source": [
    "df = df.loc[datos.GENDER == \"Mujer\"]\n",
    "df.shape"
   ]
  },
  {
   "cell_type": "code",
   "execution_count": 5,
   "id": "7fbee17a",
   "metadata": {},
   "outputs": [
    {
     "data": {
      "text/html": [
       "<div>\n",
       "<style scoped>\n",
       "    .dataframe tbody tr th:only-of-type {\n",
       "        vertical-align: middle;\n",
       "    }\n",
       "\n",
       "    .dataframe tbody tr th {\n",
       "        vertical-align: top;\n",
       "    }\n",
       "\n",
       "    .dataframe thead th {\n",
       "        text-align: right;\n",
       "    }\n",
       "</style>\n",
       "<table border=\"1\" class=\"dataframe\">\n",
       "  <thead>\n",
       "    <tr style=\"text-align: right;\">\n",
       "      <th></th>\n",
       "      <th>Casado_mean</th>\n",
       "      <th>NoCasado_mean</th>\n",
       "      <th>Casado_count</th>\n",
       "      <th>NoCasado_count</th>\n",
       "    </tr>\n",
       "    <tr>\n",
       "      <th>N_EDUCATION</th>\n",
       "      <th></th>\n",
       "      <th></th>\n",
       "      <th></th>\n",
       "      <th></th>\n",
       "    </tr>\n",
       "  </thead>\n",
       "  <tbody>\n",
       "    <tr>\n",
       "      <th>Bachiller</th>\n",
       "      <td>0.457317</td>\n",
       "      <td>0.189024</td>\n",
       "      <td>75</td>\n",
       "      <td>31</td>\n",
       "    </tr>\n",
       "    <tr>\n",
       "      <th>Noveno</th>\n",
       "      <td>0.459184</td>\n",
       "      <td>0.163265</td>\n",
       "      <td>45</td>\n",
       "      <td>16</td>\n",
       "    </tr>\n",
       "    <tr>\n",
       "      <th>Noveno-Undecimo - NoGrade</th>\n",
       "      <td>0.469388</td>\n",
       "      <td>0.255102</td>\n",
       "      <td>46</td>\n",
       "      <td>25</td>\n",
       "    </tr>\n",
       "    <tr>\n",
       "      <th>Posgrado</th>\n",
       "      <td>0.675159</td>\n",
       "      <td>0.159236</td>\n",
       "      <td>212</td>\n",
       "      <td>50</td>\n",
       "    </tr>\n",
       "    <tr>\n",
       "      <th>Pregrado</th>\n",
       "      <td>0.528302</td>\n",
       "      <td>0.166667</td>\n",
       "      <td>168</td>\n",
       "      <td>53</td>\n",
       "    </tr>\n",
       "  </tbody>\n",
       "</table>\n",
       "</div>"
      ],
      "text/plain": [
       "                           Casado_mean  NoCasado_mean  Casado_count  \\\n",
       "N_EDUCATION                                                           \n",
       "Bachiller                     0.457317       0.189024            75   \n",
       "Noveno                        0.459184       0.163265            45   \n",
       "Noveno-Undecimo - NoGrade     0.469388       0.255102            46   \n",
       "Posgrado                      0.675159       0.159236           212   \n",
       "Pregrado                      0.528302       0.166667           168   \n",
       "\n",
       "                           NoCasado_count  \n",
       "N_EDUCATION                                \n",
       "Bachiller                              31  \n",
       "Noveno                                 16  \n",
       "Noveno-Undecimo - NoGrade              25  \n",
       "Posgrado                               50  \n",
       "Pregrado                               53  "
      ]
     },
     "execution_count": 5,
     "metadata": {},
     "output_type": "execute_result"
    }
   ],
   "source": [
    "\n",
    "dx = df.groupby([\"N_EDUCATION\",]).agg({\"ESTADO_CIVIL\": [lambda x: np.mean(x==\"Casado\"), \n",
    "                                                     lambda x: np.mean(x==\"No Casado\"), \n",
    "                                                     lambda x: sum(x==\"Casado\"), \n",
    "                                                     lambda x: sum(x==\"No Casado\")]})\n",
    "dx.columns = [\"Casado_mean\", \"NoCasado_mean\", \"Casado_count\", \"NoCasado_count\"]\n",
    "\n",
    "dx"
   ]
  },
  {
   "cell_type": "code",
   "execution_count": 6,
   "id": "c1e22dcc",
   "metadata": {},
   "outputs": [],
   "source": [
    "dx = dx.loc[dx.index == \"Pregrado\"] \n",
    "z = norm.ppf(0.5+(0.95/2))\n",
    "# separamos todos los datos de los demás, solo nos interesa las mujeres casadas en este caso"
   ]
  },
  {
   "cell_type": "code",
   "execution_count": 7,
   "id": "af03b70e",
   "metadata": {},
   "outputs": [],
   "source": [
    "# error estandar sqrt((p_hat * (1 - p_hat))/n)\n",
    "\n",
    "e_casadas = np.sqrt(dx.Casado_mean.Pregrado * (1 - dx.Casado_mean.Pregrado) / dx.Casado_count.Pregrado)\n",
    "e_nocasadas = np.sqrt(dx.NoCasado_mean.Pregrado * (1 - dx.NoCasado_mean.Pregrado) / dx.NoCasado_count.Pregrado)\n"
   ]
  },
  {
   "cell_type": "code",
   "execution_count": 8,
   "id": "f591bfea",
   "metadata": {},
   "outputs": [
    {
     "name": "stdout",
     "output_type": "stream",
     "text": [
      "(0.45281585414535674, 0.6037879194395489)\n"
     ]
    }
   ],
   "source": [
    "# intervalos de confianza (phat - z  * error_estandar)\n",
    "\n",
    "intervalo_casadas = (\n",
    "dx.Casado_mean.Pregrado - (z*e_casadas),\n",
    "dx.Casado_mean.Pregrado + (z*e_casadas)    \n",
    "    \n",
    ") \n",
    "print(intervalo_casadas)"
   ]
  },
  {
   "cell_type": "code",
   "execution_count": 9,
   "id": "22836331",
   "metadata": {},
   "outputs": [
    {
     "data": {
      "text/plain": [
       "(0.06633364126055258, 0.26699969207278074)"
      ]
     },
     "execution_count": 9,
     "metadata": {},
     "output_type": "execute_result"
    }
   ],
   "source": [
    "intervalo_nocasadas = (\n",
    "dx.NoCasado_mean.Pregrado - (z * e_nocasadas),\n",
    "dx.NoCasado_mean.Pregrado + (z * e_nocasadas)\n",
    "\n",
    ")\n",
    "\n",
    "intervalo_nocasadas"
   ]
  },
  {
   "cell_type": "markdown",
   "id": "254857b4",
   "metadata": {},
   "source": [
    "Q1a. Identifique cuál de los dos intervalos de confianza es más ancho y explique por qué es así."
   ]
  },
  {
   "cell_type": "code",
   "execution_count": 10,
   "id": "6f29b33f",
   "metadata": {},
   "outputs": [
    {
     "data": {
      "text/plain": [
       "0.15097206529419216"
      ]
     },
     "execution_count": 10,
     "metadata": {},
     "output_type": "execute_result"
    }
   ],
   "source": [
    "# Casadas\n",
    "\n",
    "0.6037879194395489 - 0.45281585414535674"
   ]
  },
  {
   "cell_type": "code",
   "execution_count": 11,
   "id": "209d49df",
   "metadata": {},
   "outputs": [
    {
     "data": {
      "text/plain": [
       "0.20066605081222816"
      ]
     },
     "execution_count": 11,
     "metadata": {},
     "output_type": "execute_result"
    }
   ],
   "source": [
    "# No casadas\n",
    "\n",
    "0.26699969207278074 - 0.06633364126055258"
   ]
  },
  {
   "cell_type": "markdown",
   "id": "86bf2432",
   "metadata": {},
   "source": [
    "El intervalo de confianza para la proporción de mujeres casadas presenta mayor amplitud, esto se debe a que si bien se presenta como una mejor estimación con una media de 0.52 frente a un 0.16 de las no casadas, y presenta una muestra más grande con 163 observaciones frente a las casadas con 53 observaciones, esta amplitud puede deberse a que dentro de la muestra hay mayor variabilidad lo que hace que haya dicha amplitud."
   ]
  },
  {
   "cell_type": "markdown",
   "id": "05932204",
   "metadata": {},
   "source": [
    "Q1b. Escriba 1-2 oraciones que resuman estos hallazgos para una audiencia que no sepa qué es un intervalo de confianza (el objetivo aquí es informar la sustancia de lo que aprendió sobre cómo se relacionan el estado civil y el nivel educativo, no enseñar a una persona qué es un intervalo de confianza). intervalo de confianza es).\n",
    "\n",
    "Un intervalo de confianza es un rango de valores en donde puede caer una estimación poblacional de interés, para este caso, utilizamos un intervalo de proporciones que nos muestra la probabilidad de mujeres casadas y no casadas que tienen un nivel educativo universitario, en esta medida, vemos que la mejor estimación es de las mujeres casadas, es decir el promedio más alto y también vemos que en esta estimación hay una mayor muestra, así, que el intervalo de confianza nos da con cierto grado de certeza unos parametros que nos indican en que rango puede caer el valor real de la población si es que pudieramos repetir en muchas ocasiones esta muestra de forma aleatoria, entonces, cada que se repitiera esta muestra, la media muestral tendría con un 95% de confianza que caer en los rangos antes evidenciados, eso no quiere decir que tenga que caer precisamente en el centro del rango de confianza. Igualmente, puede que si repitieramos estas muestras 100 o 1000 veces, algunos de los resultados pudieran estar por fuera de ese rango, esto se debe a la significancia con la que hemos trabajado que es del 0.05 lo que indica que es posible que los datos puedan estar por fuera de nuestro intervalo en algún momento. \n",
    "\n",
    "En sintesis el intervalo de confianza nos da cierta certeza de donde podría caer el dato verdadero poblacional o parametro de interes, no obstante, este intervalo depende también del tamaño de la muestra y la variabilidad de la misma, entre mayor sea la muestra, también podremos trabajar con lo indicado en el teorema de limite central. "
   ]
  },
  {
   "cell_type": "markdown",
   "id": "8f06071e",
   "metadata": {},
   "source": [
    "## Pregunta 2\n",
    "Construya un intervalo de confianza del 95% para la proporción de mujeres fumadoras. Construya un intervalo de confianza del 95% para la proporción de fumadores que son hombres. Construya un intervalo de confianza del 95% para la diferencia entre esas dos proporciones de género."
   ]
  },
  {
   "cell_type": "code",
   "execution_count": 12,
   "id": "2ec4c263",
   "metadata": {},
   "outputs": [],
   "source": [
    "datos[\"SMOKERS\"] = datos.SMQ020.replace({1:\"Si\",2:\"No\", 7:np.nan, 9:np.nan})\n",
    "\n",
    "df = datos.loc[:,[\"SMOKERS\",\"GENDER\"]].dropna()"
   ]
  },
  {
   "cell_type": "code",
   "execution_count": 22,
   "id": "548be712",
   "metadata": {},
   "outputs": [
    {
     "data": {
      "text/html": [
       "<div>\n",
       "<style scoped>\n",
       "    .dataframe tbody tr th:only-of-type {\n",
       "        vertical-align: middle;\n",
       "    }\n",
       "\n",
       "    .dataframe tbody tr th {\n",
       "        vertical-align: top;\n",
       "    }\n",
       "\n",
       "    .dataframe thead th {\n",
       "        text-align: right;\n",
       "    }\n",
       "</style>\n",
       "<table border=\"1\" class=\"dataframe\">\n",
       "  <thead>\n",
       "    <tr style=\"text-align: right;\">\n",
       "      <th></th>\n",
       "      <th>Proporcion</th>\n",
       "      <th>Muestra</th>\n",
       "    </tr>\n",
       "    <tr>\n",
       "      <th>GENDER</th>\n",
       "      <th></th>\n",
       "      <th></th>\n",
       "    </tr>\n",
       "  </thead>\n",
       "  <tbody>\n",
       "    <tr>\n",
       "      <th>Hombre</th>\n",
       "      <td>0.499824</td>\n",
       "      <td>2753</td>\n",
       "    </tr>\n",
       "    <tr>\n",
       "      <th>Mujer</th>\n",
       "      <td>0.460342</td>\n",
       "      <td>2972</td>\n",
       "    </tr>\n",
       "  </tbody>\n",
       "</table>\n",
       "</div>"
      ],
      "text/plain": [
       "        Proporcion  Muestra\n",
       "GENDER                     \n",
       "Hombre    0.499824     2753\n",
       "Mujer     0.460342     2972"
      ]
     },
     "execution_count": 22,
     "metadata": {},
     "output_type": "execute_result"
    }
   ],
   "source": [
    "fumadores = df.groupby(\"GENDER\").agg({\"SMOKERS\":[lambda x: np.mean(x==\"Si\"), np.size],\n",
    "                                     \"SMOKERS\":[lambda x: np.std(x==\"Si\"), np.size]\n",
    "                                     \n",
    "                                     })\n",
    "fumadores.columns = [\"Proporcion\",\"Muestra\"]\n",
    "fumadores"
   ]
  },
  {
   "cell_type": "code",
   "execution_count": 25,
   "id": "6a70383d",
   "metadata": {},
   "outputs": [
    {
     "data": {
      "text/html": [
       "<div>\n",
       "<style scoped>\n",
       "    .dataframe tbody tr th:only-of-type {\n",
       "        vertical-align: middle;\n",
       "    }\n",
       "\n",
       "    .dataframe tbody tr th {\n",
       "        vertical-align: top;\n",
       "    }\n",
       "\n",
       "    .dataframe thead th {\n",
       "        text-align: right;\n",
       "    }\n",
       "</style>\n",
       "<table border=\"1\" class=\"dataframe\">\n",
       "  <thead>\n",
       "    <tr style=\"text-align: right;\">\n",
       "      <th></th>\n",
       "      <th>Proporcion</th>\n",
       "      <th>Desviacion_estandar</th>\n",
       "      <th>Muestra</th>\n",
       "    </tr>\n",
       "    <tr>\n",
       "      <th>GENDER</th>\n",
       "      <th></th>\n",
       "      <th></th>\n",
       "      <th></th>\n",
       "    </tr>\n",
       "  </thead>\n",
       "  <tbody>\n",
       "    <tr>\n",
       "      <th>Hombre</th>\n",
       "      <td>0.513258</td>\n",
       "      <td>0.499824</td>\n",
       "      <td>2753</td>\n",
       "    </tr>\n",
       "    <tr>\n",
       "      <th>Mujer</th>\n",
       "      <td>0.304845</td>\n",
       "      <td>0.460342</td>\n",
       "      <td>2972</td>\n",
       "    </tr>\n",
       "  </tbody>\n",
       "</table>\n",
       "</div>"
      ],
      "text/plain": [
       "        Proporcion  Desviacion_estandar  Muestra\n",
       "GENDER                                          \n",
       "Hombre    0.513258             0.499824     2753\n",
       "Mujer     0.304845             0.460342     2972"
      ]
     },
     "execution_count": 25,
     "metadata": {},
     "output_type": "execute_result"
    }
   ],
   "source": [
    "fumadores = df.groupby(\"GENDER\").agg({\"SMOKERS\":[lambda x: np.mean(x==\"Si\"), \n",
    "                                                 lambda x: np.std(x==\"Si\"), \n",
    "                                                 np.size]})\n",
    "fumadores.columns = [\"Proporcion\",\"Desviacion_estandar\",\"Muestra\"]\n",
    "fumadores"
   ]
  },
  {
   "cell_type": "code",
   "execution_count": 27,
   "id": "f645b31c",
   "metadata": {},
   "outputs": [],
   "source": [
    "p_male = fumadores.Proporcion.Hombre\n",
    "p_female = fumadores.Proporcion.Mujer\n",
    "\n",
    "std_male = fumadores.Desviacion_estandar.Hombre\n",
    "std_male = fumadores.Desviacion_estandar.Mujer"
   ]
  },
  {
   "cell_type": "code",
   "execution_count": 28,
   "id": "74cdd0a0",
   "metadata": {},
   "outputs": [],
   "source": [
    "# error estandar sqrt((p_hat * (1 - p_hat))/n)\n",
    "e_male = np.sqrt(p_male * (1-p_male)/fumadores.Muestra.Hombre)\n",
    "e_female = np.sqrt(p_female * (1-p_female)/fumadores.Muestra.Mujer)"
   ]
  },
  {
   "cell_type": "code",
   "execution_count": 29,
   "id": "3cfdbcb1",
   "metadata": {},
   "outputs": [],
   "source": [
    "# intervalo con norm.interval\n",
    "\n",
    "confianza_1 = norm.interval(confidence=0.95, loc=p_male, scale=e_male)\n",
    "confianza_2 = norm.interval(confidence=0.95, loc=p_female, scale=e_female)\n",
    "\n",
    "e_juntos = np.sqrt(e_male**2 + e_female**2)\n",
    "\n",
    "confianza_partes = norm.interval(confidence=0.95, loc= p_male - p_female, scale=e_juntos)\n",
    "\n"
   ]
  },
  {
   "cell_type": "code",
   "execution_count": 34,
   "id": "9abc51fc",
   "metadata": {},
   "outputs": [
    {
     "name": "stdout",
     "output_type": "stream",
     "text": [
      "(0.49458749263718593, 0.5319290347874418)\n",
      "(0.28829498798612146, 0.3213954561592352)\n",
      "(0.18346293260460997, 0.2333631506746611)\n"
     ]
    },
    {
     "data": {
      "text/plain": [
       "0.04990021807005113"
      ]
     },
     "execution_count": 34,
     "metadata": {},
     "output_type": "execute_result"
    }
   ],
   "source": [
    "print(confianza_1)\n",
    "print(confianza_2)\n",
    "print(confianza_partes)\n",
    "\n"
   ]
  },
  {
   "cell_type": "markdown",
   "id": "dd580642",
   "metadata": {},
   "source": [
    "Q2a. ¿Por qué podría ser relevante informar las proporciones de género separadas y la diferencia entre las proporciones de género?\n",
    "\n",
    "Porque puede haber enfoque de análisis en el que se usa la mejor estimación, de esta medida cuando trabajamos con este enfoque utilizamos el p_hat de esa proporción para crear los intervalos y hacer las inferencias correspondientes. Ahora, es importante para este caso informar el género porque es un parametro de interés que busca analizarse y esta variable tiene impacto en las proporciones evidenciadas. \n",
    "\n",
    "**La información separada por género nos permite hacer comparaciones y contrastes entre hombres y mujeres y detectar posibles diferencias significativas en sus comportamientos. Además, la diferencia entre las proporciones de género nos permite identificar si existe una posible asociación entre la variable de interés (fumar) y el género. Todo esto es relevante para comprender mejor el fenómeno estudiado y obtener conclusiones más precisas y útiles.**"
   ]
  },
  {
   "cell_type": "markdown",
   "id": "d8373211",
   "metadata": {},
   "source": [
    "Q2b. ¿Cómo se compara el ancho del intervalo de confianza para la diferencia entre las proporciones de género con el ancho de los intervalos de confianza para las proporciones de género separadas?\n",
    "\n",
    "\n",
    "Podemos comparar los intervalos restando limite inferior y limite superior de cada  uno de ellos\n",
    "\n",
    "**Hombres fumadores**\n",
    "\n",
    "> 0.5319290347874418 - 0.49458749263718593 = 0.03734154215025587\n",
    "\n",
    "**Mujeres fumadoras**\n",
    "> 0.3213954561592352 - 0.28829498798612146 = 0.03310046817311374\n",
    "\n",
    "**Diferencia Intervalo**\n",
    ">0.2333631506746611 -  0.18346293260460997 = 0.04990021807005113\n",
    "\n",
    "Lo que podemos observar es que los intervalos separados, vemos que existe un mayor ancho en el intervalo, el intervalo más amplio es el de mujeres que puede estar asociado a que fuman en una menor proporción y su muestra es mucho más pequeña que los otros intervalos. Finalmente el intervalo diferencia tiene el menor ancho de todos los intervalos y puede deberse a que trabaja con toda la población, no obstante, en este se estan viendo a hombres y mujeres. \n",
    "\n",
    "**Además, en términos de la interpretación de los resultados, el intervalo de confianza para la diferencia de proporciones de género es útil para comparar las proporciones de género y determinar si hay una diferencia estadísticamente significativa entre ellas. Por otro lado, los intervalos de confianza para las proporciones de género separadas son útiles para entender la distribución de las proporciones en cada grupo.**\n",
    "\n",
    "En resumen, los tres intervalos de confianza son importantes para obtener información sobre las proporciones de género y su diferencia, pero cada uno proporciona diferentes tipos de información y debe ser interpretado en consecuencia"
   ]
  },
  {
   "cell_type": "markdown",
   "id": "48a9cbdb",
   "metadata": {},
   "source": [
    "Complemento: La significancia estadística se refiere a la probabilidad de que los resultados obtenidos en una prueba o análisis estadístico sean debido al azar o a la variabilidad natural de los datos, en lugar de ser un resultado real y significativo. En otras palabras, la significancia estadística se refiere a la probabilidad de que la diferencia observada entre dos grupos o muestras no se deba a la casualidad o al azar, sino a una diferencia real entre los grupos o muestras.\n",
    "\n",
    "En el caso de los intervalos de confianza que has calculado, se puede decir que la diferencia entre las proporciones de género en cuanto a fumadores es estadísticamente significativa si el intervalo de confianza de la diferencia no incluye cero. Es decir, si el intervalo de confianza de la diferencia entre las proporciones de género excluye el valor cero, se puede decir que la diferencia es estadísticamente significativa. Por otro lado, si el intervalo de confianza de la diferencia incluye el valor cero, se puede decir que no hay evidencia suficiente para afirmar que la diferencia es estadísticamente significativa.\n",
    "\n",
    "En cuanto al ancho del intervalo de diferencia, si bien es importante tener en cuenta el ancho del intervalo, es posible que no siempre sea una medida adecuada para evaluar la significancia estadística. En algunos casos, un intervalo más ancho puede ser necesario para obtener una estimación precisa de la diferencia, mientras que en otros casos, un intervalo más estrecho puede ser suficiente para detectar una diferencia significativa. En este caso, lo importante es evaluar si el intervalo de confianza de la diferencia incluye o no el valor cero para determinar si la diferencia es estadísticamente significativa o no."
   ]
  },
  {
   "cell_type": "markdown",
   "id": "db8e8432",
   "metadata": {},
   "source": [
    "## Pregunta 3\n",
    "Construya un intervalo de 95% para la altura (BMXHT) en centímetros. Luego convierta la altura de centímetros a pulgadas dividiendo por 2,54 y construya un intervalo de confianza del 95 % para la altura en pulgadas. Finalmente, convierta los puntos finales (los límites de confianza inferior y superior) del intervalo de confianza de pulgadas a centímetros."
   ]
  },
  {
   "cell_type": "code",
   "execution_count": 45,
   "id": "1e5e3ae7",
   "metadata": {},
   "outputs": [],
   "source": [
    "dx = datos.loc[:,\"BMXHT\"].dropna().to_frame()\n",
    "dx[\"PULGADAS\"] = dx[\"BMXHT\"] * 2.54"
   ]
  },
  {
   "cell_type": "code",
   "execution_count": 50,
   "id": "5ae90368",
   "metadata": {},
   "outputs": [
    {
     "name": "stdout",
     "output_type": "stream",
     "text": [
      "(421.3366001971714, 422.66899895671554)\n",
      "(165.88055125872887, 166.40511769949427)\n",
      "421.3366001971713 422.6689989567154\n"
     ]
    }
   ],
   "source": [
    "from statsmodels.stats.weightstats import DescrStatsW\n",
    "\n",
    "print(DescrStatsW(dx[\"BMXHT\"]).zconfint_mean())\n",
    "print(DescrStatsW(dx[\"PULGADAS\"]).zconfint_mean())\n",
    "\n",
    "\n",
    "print(165.88055125872887*2.54, 166.40511769949427*2.54 )\n"
   ]
  },
  {
   "cell_type": "markdown",
   "id": "c95a128b",
   "metadata": {},
   "source": [
    "Q3a. Describa cómo se relaciona el intervalo de confianza construido en centímetros con el intervalo de confianza construido en pulgadas."
   ]
  },
  {
   "cell_type": "code",
   "execution_count": 53,
   "id": "51591bc2",
   "metadata": {},
   "outputs": [
    {
     "name": "stdout",
     "output_type": "stream",
     "text": [
      "0.5245664407653976\n",
      "1.3323987595441054\n"
     ]
    }
   ],
   "source": [
    "print(166.40511769949427 -165.88055125872887 )\n",
    "print(166.40511769949427*2.54 - 165.88055125872887*2.54 )"
   ]
  },
  {
   "cell_type": "markdown",
   "id": "952ee8e1",
   "metadata": {},
   "source": [
    "En que el intervalo se mantiene igual de ancho, si bien el intervalo en pulgadas pareciera menos amplio, este mantiene el mismo ancho que el primero, pero al ser su unidad de medida mayor pareciera mayor, pero conservan las dos su ancho. "
   ]
  },
  {
   "cell_type": "markdown",
   "id": "c070985b",
   "metadata": {},
   "source": [
    "## Pregunta 4\n",
    "\n",
    "Divida la muestra con base en franjas de edad de 10 años, es decir, los grupos resultantes consistirán en personas con edades entre 18 y 28, 29 y 38, etc. Construya intervalos de confianza del 95 % para la diferencia entre el IMC medio para mujeres y hombres dentro de cada franja de edad."
   ]
  },
  {
   "cell_type": "code",
   "execution_count": 76,
   "id": "135bdce9",
   "metadata": {},
   "outputs": [
    {
     "data": {
      "text/html": [
       "<div>\n",
       "<style scoped>\n",
       "    .dataframe tbody tr th:only-of-type {\n",
       "        vertical-align: middle;\n",
       "    }\n",
       "\n",
       "    .dataframe tbody tr th {\n",
       "        vertical-align: top;\n",
       "    }\n",
       "\n",
       "    .dataframe thead tr th {\n",
       "        text-align: left;\n",
       "    }\n",
       "\n",
       "    .dataframe thead tr:last-of-type th {\n",
       "        text-align: right;\n",
       "    }\n",
       "</style>\n",
       "<table border=\"1\" class=\"dataframe\">\n",
       "  <thead>\n",
       "    <tr>\n",
       "      <th></th>\n",
       "      <th colspan=\"6\" halign=\"left\">BMXBMI</th>\n",
       "      <th>DIFERENCIA_MEDIAS</th>\n",
       "    </tr>\n",
       "    <tr>\n",
       "      <th></th>\n",
       "      <th colspan=\"2\" halign=\"left\">mean</th>\n",
       "      <th colspan=\"2\" halign=\"left\">std</th>\n",
       "      <th colspan=\"2\" halign=\"left\">size</th>\n",
       "      <th></th>\n",
       "    </tr>\n",
       "    <tr>\n",
       "      <th>GENDER</th>\n",
       "      <th>Hombre</th>\n",
       "      <th>Mujer</th>\n",
       "      <th>Hombre</th>\n",
       "      <th>Mujer</th>\n",
       "      <th>Hombre</th>\n",
       "      <th>Mujer</th>\n",
       "      <th></th>\n",
       "    </tr>\n",
       "    <tr>\n",
       "      <th>EDAD</th>\n",
       "      <th></th>\n",
       "      <th></th>\n",
       "      <th></th>\n",
       "      <th></th>\n",
       "      <th></th>\n",
       "      <th></th>\n",
       "      <th></th>\n",
       "    </tr>\n",
       "  </thead>\n",
       "  <tbody>\n",
       "    <tr>\n",
       "      <th>(18, 28]</th>\n",
       "      <td>27.058186</td>\n",
       "      <td>28.019433</td>\n",
       "      <td>6.679515</td>\n",
       "      <td>8.048854</td>\n",
       "      <td>452</td>\n",
       "      <td>494</td>\n",
       "      <td>0.961247</td>\n",
       "    </tr>\n",
       "    <tr>\n",
       "      <th>(28, 38]</th>\n",
       "      <td>29.697180</td>\n",
       "      <td>29.943443</td>\n",
       "      <td>6.726690</td>\n",
       "      <td>7.959097</td>\n",
       "      <td>461</td>\n",
       "      <td>488</td>\n",
       "      <td>0.246263</td>\n",
       "    </tr>\n",
       "    <tr>\n",
       "      <th>(38, 48]</th>\n",
       "      <td>29.514646</td>\n",
       "      <td>31.003733</td>\n",
       "      <td>6.104950</td>\n",
       "      <td>8.044642</td>\n",
       "      <td>396</td>\n",
       "      <td>509</td>\n",
       "      <td>1.489086</td>\n",
       "    </tr>\n",
       "    <tr>\n",
       "      <th>(48, 58]</th>\n",
       "      <td>29.385132</td>\n",
       "      <td>30.787361</td>\n",
       "      <td>6.151534</td>\n",
       "      <td>7.647590</td>\n",
       "      <td>417</td>\n",
       "      <td>451</td>\n",
       "      <td>1.402230</td>\n",
       "    </tr>\n",
       "    <tr>\n",
       "      <th>(58, 68]</th>\n",
       "      <td>29.232462</td>\n",
       "      <td>31.054664</td>\n",
       "      <td>5.959024</td>\n",
       "      <td>7.779502</td>\n",
       "      <td>459</td>\n",
       "      <td>461</td>\n",
       "      <td>1.822202</td>\n",
       "    </tr>\n",
       "    <tr>\n",
       "      <th>(68, 78]</th>\n",
       "      <td>28.720270</td>\n",
       "      <td>30.537818</td>\n",
       "      <td>5.336652</td>\n",
       "      <td>6.780588</td>\n",
       "      <td>296</td>\n",
       "      <td>275</td>\n",
       "      <td>1.817548</td>\n",
       "    </tr>\n",
       "    <tr>\n",
       "      <th>(78, 88]</th>\n",
       "      <td>27.464368</td>\n",
       "      <td>27.850000</td>\n",
       "      <td>4.695650</td>\n",
       "      <td>5.483781</td>\n",
       "      <td>174</td>\n",
       "      <td>198</td>\n",
       "      <td>0.385632</td>\n",
       "    </tr>\n",
       "  </tbody>\n",
       "</table>\n",
       "</div>"
      ],
      "text/plain": [
       "             BMXBMI                                              \\\n",
       "               mean                  std             size         \n",
       "GENDER       Hombre      Mujer    Hombre     Mujer Hombre Mujer   \n",
       "EDAD                                                              \n",
       "(18, 28]  27.058186  28.019433  6.679515  8.048854    452   494   \n",
       "(28, 38]  29.697180  29.943443  6.726690  7.959097    461   488   \n",
       "(38, 48]  29.514646  31.003733  6.104950  8.044642    396   509   \n",
       "(48, 58]  29.385132  30.787361  6.151534  7.647590    417   451   \n",
       "(58, 68]  29.232462  31.054664  5.959024  7.779502    459   461   \n",
       "(68, 78]  28.720270  30.537818  5.336652  6.780588    296   275   \n",
       "(78, 88]  27.464368  27.850000  4.695650  5.483781    174   198   \n",
       "\n",
       "         DIFERENCIA_MEDIAS  \n",
       "                            \n",
       "GENDER                      \n",
       "EDAD                        \n",
       "(18, 28]          0.961247  \n",
       "(28, 38]          0.246263  \n",
       "(38, 48]          1.489086  \n",
       "(48, 58]          1.402230  \n",
       "(58, 68]          1.822202  \n",
       "(68, 78]          1.817548  \n",
       "(78, 88]          0.385632  "
      ]
     },
     "execution_count": 76,
     "metadata": {},
     "output_type": "execute_result"
    }
   ],
   "source": [
    "datos[\"EDAD\"] = pd.cut(datos.RIDAGEYR, [18,28,38,48,58,68,78,88])\n",
    "\n",
    "df = datos.loc[:, [\"GENDER\", \"EDAD\",\"BMXBMI\"]].dropna()\n",
    "\n",
    "dx = df.groupby([\"EDAD\",\"GENDER\"]).agg({\"BMXBMI\": [np.mean, np.std, np.size]}).unstack()\n",
    "\n",
    "dx[\"DIFERENCIA_MEDIAS\"] = dx.loc[:, ('BMXBMI', 'mean', 'Mujer')] - dx.loc[:, ('BMXBMI', 'mean', 'Hombre')]\n",
    "dx"
   ]
  },
  {
   "cell_type": "code",
   "execution_count": 77,
   "id": "4153616b",
   "metadata": {},
   "outputs": [
    {
     "data": {
      "text/plain": [
       "MultiIndex([(           'BMXBMI', 'mean', 'Hombre'),\n",
       "            (           'BMXBMI', 'mean',  'Mujer'),\n",
       "            (           'BMXBMI',  'std', 'Hombre'),\n",
       "            (           'BMXBMI',  'std',  'Mujer'),\n",
       "            (           'BMXBMI', 'size', 'Hombre'),\n",
       "            (           'BMXBMI', 'size',  'Mujer'),\n",
       "            ('DIFERENCIA_MEDIAS',     '',       '')],\n",
       "           names=[None, None, 'GENDER'])"
      ]
     },
     "execution_count": 77,
     "metadata": {},
     "output_type": "execute_result"
    }
   ],
   "source": [
    "dx.columns"
   ]
  },
  {
   "cell_type": "code",
   "execution_count": 85,
   "id": "4820adea",
   "metadata": {},
   "outputs": [
    {
     "data": {
      "text/html": [
       "<div>\n",
       "<style scoped>\n",
       "    .dataframe tbody tr th:only-of-type {\n",
       "        vertical-align: middle;\n",
       "    }\n",
       "\n",
       "    .dataframe tbody tr th {\n",
       "        vertical-align: top;\n",
       "    }\n",
       "\n",
       "    .dataframe thead tr th {\n",
       "        text-align: left;\n",
       "    }\n",
       "\n",
       "    .dataframe thead tr:last-of-type th {\n",
       "        text-align: right;\n",
       "    }\n",
       "</style>\n",
       "<table border=\"1\" class=\"dataframe\">\n",
       "  <thead>\n",
       "    <tr>\n",
       "      <th></th>\n",
       "      <th colspan=\"6\" halign=\"left\">BMXBMI</th>\n",
       "      <th>DIFERENCIA_MEDIAS</th>\n",
       "      <th colspan=\"5\" halign=\"left\">BMXBMI</th>\n",
       "    </tr>\n",
       "    <tr>\n",
       "      <th></th>\n",
       "      <th colspan=\"2\" halign=\"left\">mean</th>\n",
       "      <th colspan=\"2\" halign=\"left\">std</th>\n",
       "      <th colspan=\"2\" halign=\"left\">size</th>\n",
       "      <th></th>\n",
       "      <th colspan=\"2\" halign=\"left\">e_estandar</th>\n",
       "      <th>e_std_diferencia</th>\n",
       "      <th>Inf_dif</th>\n",
       "      <th>Sup_dif</th>\n",
       "    </tr>\n",
       "    <tr>\n",
       "      <th>GENDER</th>\n",
       "      <th>Hombre</th>\n",
       "      <th>Mujer</th>\n",
       "      <th>Hombre</th>\n",
       "      <th>Mujer</th>\n",
       "      <th>Hombre</th>\n",
       "      <th>Mujer</th>\n",
       "      <th></th>\n",
       "      <th>Mujer</th>\n",
       "      <th>Hombre</th>\n",
       "      <th></th>\n",
       "      <th></th>\n",
       "      <th></th>\n",
       "    </tr>\n",
       "    <tr>\n",
       "      <th>EDAD</th>\n",
       "      <th></th>\n",
       "      <th></th>\n",
       "      <th></th>\n",
       "      <th></th>\n",
       "      <th></th>\n",
       "      <th></th>\n",
       "      <th></th>\n",
       "      <th></th>\n",
       "      <th></th>\n",
       "      <th></th>\n",
       "      <th></th>\n",
       "      <th></th>\n",
       "    </tr>\n",
       "  </thead>\n",
       "  <tbody>\n",
       "    <tr>\n",
       "      <th>(18, 28]</th>\n",
       "      <td>27.058186</td>\n",
       "      <td>28.019433</td>\n",
       "      <td>6.679515</td>\n",
       "      <td>8.048854</td>\n",
       "      <td>452</td>\n",
       "      <td>494</td>\n",
       "      <td>0.961247</td>\n",
       "      <td>0.362135</td>\n",
       "      <td>0.314178</td>\n",
       "      <td>0.479426</td>\n",
       "      <td>0.021589</td>\n",
       "      <td>1.900906</td>\n",
       "    </tr>\n",
       "    <tr>\n",
       "      <th>(28, 38]</th>\n",
       "      <td>29.697180</td>\n",
       "      <td>29.943443</td>\n",
       "      <td>6.726690</td>\n",
       "      <td>7.959097</td>\n",
       "      <td>461</td>\n",
       "      <td>488</td>\n",
       "      <td>0.246263</td>\n",
       "      <td>0.360291</td>\n",
       "      <td>0.313293</td>\n",
       "      <td>0.477454</td>\n",
       "      <td>-0.689530</td>\n",
       "      <td>1.182056</td>\n",
       "    </tr>\n",
       "    <tr>\n",
       "      <th>(38, 48]</th>\n",
       "      <td>29.514646</td>\n",
       "      <td>31.003733</td>\n",
       "      <td>6.104950</td>\n",
       "      <td>8.044642</td>\n",
       "      <td>396</td>\n",
       "      <td>509</td>\n",
       "      <td>1.489086</td>\n",
       "      <td>0.356572</td>\n",
       "      <td>0.306785</td>\n",
       "      <td>0.470384</td>\n",
       "      <td>0.567151</td>\n",
       "      <td>2.411022</td>\n",
       "    </tr>\n",
       "    <tr>\n",
       "      <th>(48, 58]</th>\n",
       "      <td>29.385132</td>\n",
       "      <td>30.787361</td>\n",
       "      <td>6.151534</td>\n",
       "      <td>7.647590</td>\n",
       "      <td>417</td>\n",
       "      <td>451</td>\n",
       "      <td>1.402230</td>\n",
       "      <td>0.360111</td>\n",
       "      <td>0.301242</td>\n",
       "      <td>0.469496</td>\n",
       "      <td>0.482034</td>\n",
       "      <td>2.322425</td>\n",
       "    </tr>\n",
       "    <tr>\n",
       "      <th>(58, 68]</th>\n",
       "      <td>29.232462</td>\n",
       "      <td>31.054664</td>\n",
       "      <td>5.959024</td>\n",
       "      <td>7.779502</td>\n",
       "      <td>459</td>\n",
       "      <td>461</td>\n",
       "      <td>1.822202</td>\n",
       "      <td>0.362328</td>\n",
       "      <td>0.278143</td>\n",
       "      <td>0.456777</td>\n",
       "      <td>0.926936</td>\n",
       "      <td>2.717468</td>\n",
       "    </tr>\n",
       "    <tr>\n",
       "      <th>(68, 78]</th>\n",
       "      <td>28.720270</td>\n",
       "      <td>30.537818</td>\n",
       "      <td>5.336652</td>\n",
       "      <td>6.780588</td>\n",
       "      <td>296</td>\n",
       "      <td>275</td>\n",
       "      <td>1.817548</td>\n",
       "      <td>0.408885</td>\n",
       "      <td>0.310187</td>\n",
       "      <td>0.513228</td>\n",
       "      <td>0.811640</td>\n",
       "      <td>2.823455</td>\n",
       "    </tr>\n",
       "    <tr>\n",
       "      <th>(78, 88]</th>\n",
       "      <td>27.464368</td>\n",
       "      <td>27.850000</td>\n",
       "      <td>4.695650</td>\n",
       "      <td>5.483781</td>\n",
       "      <td>174</td>\n",
       "      <td>198</td>\n",
       "      <td>0.385632</td>\n",
       "      <td>0.389715</td>\n",
       "      <td>0.355976</td>\n",
       "      <td>0.527823</td>\n",
       "      <td>-0.648882</td>\n",
       "      <td>1.420146</td>\n",
       "    </tr>\n",
       "  </tbody>\n",
       "</table>\n",
       "</div>"
      ],
      "text/plain": [
       "             BMXBMI                                              \\\n",
       "               mean                  std             size         \n",
       "GENDER       Hombre      Mujer    Hombre     Mujer Hombre Mujer   \n",
       "EDAD                                                              \n",
       "(18, 28]  27.058186  28.019433  6.679515  8.048854    452   494   \n",
       "(28, 38]  29.697180  29.943443  6.726690  7.959097    461   488   \n",
       "(38, 48]  29.514646  31.003733  6.104950  8.044642    396   509   \n",
       "(48, 58]  29.385132  30.787361  6.151534  7.647590    417   451   \n",
       "(58, 68]  29.232462  31.054664  5.959024  7.779502    459   461   \n",
       "(68, 78]  28.720270  30.537818  5.336652  6.780588    296   275   \n",
       "(78, 88]  27.464368  27.850000  4.695650  5.483781    174   198   \n",
       "\n",
       "         DIFERENCIA_MEDIAS     BMXBMI                                       \\\n",
       "                           e_estandar           e_std_diferencia   Inf_dif   \n",
       "GENDER                          Mujer    Hombre                              \n",
       "EDAD                                                                         \n",
       "(18, 28]          0.961247   0.362135  0.314178         0.479426  0.021589   \n",
       "(28, 38]          0.246263   0.360291  0.313293         0.477454 -0.689530   \n",
       "(38, 48]          1.489086   0.356572  0.306785         0.470384  0.567151   \n",
       "(48, 58]          1.402230   0.360111  0.301242         0.469496  0.482034   \n",
       "(58, 68]          1.822202   0.362328  0.278143         0.456777  0.926936   \n",
       "(68, 78]          1.817548   0.408885  0.310187         0.513228  0.811640   \n",
       "(78, 88]          0.385632   0.389715  0.355976         0.527823 -0.648882   \n",
       "\n",
       "                    \n",
       "           Sup_dif  \n",
       "GENDER              \n",
       "EDAD                \n",
       "(18, 28]  1.900906  \n",
       "(28, 38]  1.182056  \n",
       "(38, 48]  2.411022  \n",
       "(48, 58]  2.322425  \n",
       "(58, 68]  2.717468  \n",
       "(68, 78]  2.823455  \n",
       "(78, 88]  1.420146  "
      ]
     },
     "execution_count": 85,
     "metadata": {},
     "output_type": "execute_result"
    }
   ],
   "source": [
    "# error estandar por género\n",
    "dx[\"BMXBMI\", \"e_estandar\", \"Mujer\"] = dx[\"BMXBMI\",\"std\",\"Mujer\"]/np.sqrt(dx[\"BMXBMI\",\"size\",\"Mujer\"])\n",
    "dx[\"BMXBMI\", \"e_estandar\", \"Hombre\"] = dx[\"BMXBMI\",\"std\",\"Hombre\"]/np.sqrt(dx[\"BMXBMI\",\"size\",\"Hombre\"])\n",
    "\n",
    "# diferencia error estandar por género e_estimado_partes1 = np.sqrt(e_mujer**2 + e_hombre**2)\n",
    "\n",
    "dx[\"BMXBMI\", \"e_std_diferencia\", \"\"] = np.sqrt(dx[\"BMXBMI\",\"e_estandar\",\"Mujer\"]**2 + dx[\"BMXBMI\",\"e_estandar\",\"Hombre\"]**2)\n",
    "\n",
    "# calculando z\n",
    "\n",
    "z = norm.ppf(0.5+(0.95/2))\n",
    "\n",
    "# Intervalos # mean_dif - (z * e_estimado_partes1)\n",
    "\n",
    "# Inferior\n",
    "\n",
    "dx[\"BMXBMI\",\"Inf_dif\",\"\"] = dx[('DIFERENCIA_MEDIAS','','')] - (z * dx[\"BMXBMI\", \"e_std_diferencia\", \"\"])\n",
    "\n",
    "# superior\n",
    "dx[\"BMXBMI\",\"Sup_dif\",\"\"] = dx[('DIFERENCIA_MEDIAS','','')] + (z * dx[\"BMXBMI\", \"e_std_diferencia\", \"\"])\n",
    "dx"
   ]
  },
  {
   "cell_type": "markdown",
   "id": "45844e1b",
   "metadata": {},
   "source": [
    "Q4a. ¿Cómo difieren los anchos de estos intervalos de confianza? Proporcione una explicación de cualquier diferencia sustancial en los anchos de los intervalos de confianza que observe."
   ]
  },
  {
   "cell_type": "code",
   "execution_count": 86,
   "id": "d9b1258b",
   "metadata": {},
   "outputs": [
    {
     "data": {
      "text/plain": [
       "EDAD\n",
       "(18, 28]    1.879317\n",
       "(28, 38]    1.871586\n",
       "(38, 48]    1.843872\n",
       "(48, 58]    1.840391\n",
       "(58, 68]    1.790532\n",
       "(68, 78]    2.011815\n",
       "(78, 88]    2.069028\n",
       "Name: (BMXBMI, dif_inter, ), dtype: float64"
      ]
     },
     "execution_count": 86,
     "metadata": {},
     "output_type": "execute_result"
    }
   ],
   "source": [
    "dx[\"BMXBMI\",\"dif_inter\",\"\"] = dx[\"BMXBMI\",\"Sup_dif\",\"\"] - dx[\"BMXBMI\",\"Inf_dif\",\"\"]\n",
    "dx[\"BMXBMI\",\"dif_inter\",\"\"]"
   ]
  },
  {
   "cell_type": "markdown",
   "id": "a00c5ca0",
   "metadata": {},
   "source": [
    "En los rangos de 18-28 hasta el 38 - 48 no presentan una diferencia en su ancho tan notable, posteriormente en el rango  58 - 88 hace que el ancho vaya aumentando sucesivamente en el intervalo. "
   ]
  },
  {
   "cell_type": "markdown",
   "id": "cf3c3ebb",
   "metadata": {},
   "source": [
    "**Correcto, los anchos de los intervalos de confianza aumentan a medida que aumenta la edad. Esto puede deberse a varios factores. Por ejemplo, a medida que envejecemos, es más probable que las personas tengan diferentes afecciones médicas y tomen diferentes medicamentos, lo que puede afectar su IMC. Además, a medida que envejecemos, nuestro metabolismo disminuye y podemos perder masa muscular, lo que también puede afectar nuestro IMC. En general, cuanto más grande es la muestra, más precisa es la estimación de la media y, por lo tanto, más estrecho es el intervalo de confianza. En este caso, las muestras en los grupos de edad más avanzada son más pequeñas, lo que puede explicar por qué los intervalos de confianza son más anchos.**"
   ]
  },
  {
   "cell_type": "markdown",
   "id": "c39f2ccb",
   "metadata": {},
   "source": [
    "### Pregunta 5\n",
    "Construya un intervalo de confianza del 95 % para la primera y la segunda medición de la presión arterial sistólica y para la diferencia entre la primera y la segunda medición de la presión arterial sistólica en un sujeto."
   ]
  },
  {
   "cell_type": "code",
   "execution_count": 87,
   "id": "0d18b847",
   "metadata": {},
   "outputs": [
    {
     "data": {
      "text/plain": [
       "Index(['SEQN', 'ALQ101', 'ALQ110', 'ALQ130', 'SMQ020', 'RIAGENDR', 'RIDAGEYR',\n",
       "       'RIDRETH1', 'DMDCITZN', 'DMDEDUC2', 'DMDMARTL', 'DMDHHSIZ', 'WTINT2YR',\n",
       "       'SDMVPSU', 'SDMVSTRA', 'INDFMPIR', 'BPXSY1', 'BPXDI1', 'BPXSY2',\n",
       "       'BPXDI2', 'BMXWT', 'BMXHT', 'BMXBMI', 'BMXLEG', 'BMXARML', 'BMXARMC',\n",
       "       'BMXWAIST', 'HIQ210', 'GENDER', 'N_EDUCATION', 'ESTADO_CIVIL',\n",
       "       'SMOKERS', 'EDAD'],\n",
       "      dtype='object')"
      ]
     },
     "execution_count": 87,
     "metadata": {},
     "output_type": "execute_result"
    }
   ],
   "source": [
    "datos.columns"
   ]
  },
  {
   "cell_type": "code",
   "execution_count": 90,
   "id": "d438eca2",
   "metadata": {},
   "outputs": [
    {
     "name": "stdout",
     "output_type": "stream",
     "text": [
      "(124.59378718804363, 125.5831545143218)\n",
      "(123.92688534371334, 124.90008429681563)\n"
     ]
    }
   ],
   "source": [
    "df = datos.loc[:,[\"BPXSY1\", \"BPXSY2\"]].dropna()\n",
    "\n",
    "# primer intervalo BPXSY1 \n",
    "\n",
    "print(DescrStatsW(df[\"BPXSY1\"]).zconfint_mean())\n",
    "\n",
    "# Segundo intervalo BPXSY2\n",
    "\n",
    "print(DescrStatsW(df[\"BPXSY2\"]).zconfint_mean())"
   ]
  },
  {
   "cell_type": "code",
   "execution_count": 103,
   "id": "cd99c763",
   "metadata": {},
   "outputs": [
    {
     "data": {
      "text/plain": [
       "(-0.018909477898867322, 1.368881539735335)"
      ]
     },
     "execution_count": 103,
     "metadata": {},
     "output_type": "execute_result"
    }
   ],
   "source": [
    "# e_estimado_partes1 = np.sqrt(e_mujer**2 + e_hombre**2)\n",
    "\n",
    "mean1 = df.BPXSY1.mean()\n",
    "mean2 = df.BPXSY2.mean()\n",
    "std1 = df.BPXSY1.std()\n",
    "std2 = df.BPXSY2.std()\n",
    "\n",
    "# diferencia media \n",
    "\n",
    "m_diff = mean1 - mean2\n",
    "\n",
    "# error estandar std_muestra/sqrt(n)\n",
    "\n",
    "e1 = std1/np.sqrt(df.BPXSY1.size)\n",
    "e2 = std2/np.sqrt(df.BPXSY2.size)\n",
    "\n",
    "# diferencia error estandar e_estimado_dif = np.sqrt(e_estimado1**2 + e_estimado2**2)\n",
    "\n",
    "e_diff = np.sqrt(e1**2 + e2**2)\n",
    "\n",
    "# intervalo diferencias (media_muestral1 - media_muestral2) ± z*(sqrt((std_muestral1^2/n1) + (std_muestral2^2/n2)))\n",
    "\n",
    "intervalos = (\n",
    "    \n",
    "    m_diff - z*(np.sqrt((std1 ** 2/df.BPXSY1.size) + (std2**2/df.BPXSY2.size))),\n",
    "    m_diff + z*(np.sqrt((std1 ** 2/df.BPXSY1.size) + (std2**2/df.BPXSY2.size)))\n",
    ")\n",
    "intervalos"
   ]
  },
  {
   "cell_type": "markdown",
   "id": "bce33eaf",
   "metadata": {},
   "source": [
    "Q5a. Con base en estos intervalos de confianza, ¿diría que una diferencia de cero entre los valores medios de la población de la primera y segunda medidas de presión arterial sistólica es consistente con los datos?\n"
   ]
  },
  {
   "cell_type": "code",
   "execution_count": 113,
   "id": "69682947",
   "metadata": {},
   "outputs": [
    {
     "name": "stdout",
     "output_type": "stream",
     "text": [
      "P Value: 0.000000000000000\n",
      "0.9622872947976285\n"
     ]
    }
   ],
   "source": [
    "from scipy.stats import pearsonr\n",
    "\n",
    "a = pearsonr(df.BPXSY1, df.BPXSY2)\n",
    "print(\"P Value: {:.15f}\".format(a[1]))\n",
    "print(a[0])"
   ]
  },
  {
   "cell_type": "markdown",
   "id": "842b202e",
   "metadata": {},
   "source": [
    "La respuesta es no porque en el marco de los datos observamos que si bien se incluye el 0 dentro del intervalo de confianza, el pvalue es consistente en que existe una correlación positiva y si esa diferencia fuera 0 significaría que no hay correlación, ahora, no es posible descartar que el valor real sea 0 porque ese es un rango presente en el intervalo, no obstante también podría darse un valor positivo, o un valor negativo de 0, es decir un -0.018"
   ]
  },
  {
   "cell_type": "code",
   "execution_count": 114,
   "id": "ce6201a7",
   "metadata": {},
   "outputs": [
    {
     "name": "stdout",
     "output_type": "stream",
     "text": [
      "0.9893673262781704\n",
      "0.9731989531022975\n"
     ]
    }
   ],
   "source": [
    "print(125.5831545143218-124.59378718804363 )\n",
    "print(124.90008429681563-123.92688534371334 )"
   ]
  },
  {
   "cell_type": "markdown",
   "id": "8a78deec",
   "metadata": {},
   "source": [
    "P5b. Discuta cómo se compara el ancho del intervalo de confianza para la diferencia dentro del sujeto con el ancho de los intervalos de confianza para la primera y la segunda medida."
   ]
  },
  {
   "cell_type": "code",
   "execution_count": 115,
   "id": "3e22ee13",
   "metadata": {},
   "outputs": [
    {
     "name": "stdout",
     "output_type": "stream",
     "text": [
      "0.9893673262781704\n",
      "0.9731989531022975\n"
     ]
    },
    {
     "data": {
      "text/plain": [
       "1.3877910176342025"
      ]
     },
     "execution_count": 115,
     "metadata": {},
     "output_type": "execute_result"
    }
   ],
   "source": [
    "print(125.5831545143218-124.59378718804363 )\n",
    "print(124.90008429681563-123.92688534371334 )\n",
    "(1.368881539735335 -(-0.018909477898867322))"
   ]
  },
  {
   "cell_type": "markdown",
   "id": "a1bd5ed9",
   "metadata": {},
   "source": [
    "El ancho de los intervalos 1 y 2 de presion sistolica son consistentes con diferencia de casi una unidad, es decir, se mantiene el ancho, no obstante, para el caso del intervalo de diferencias, podemos ver un intervalo más reducido, es decir mucho más preciso. "
   ]
  },
  {
   "cell_type": "markdown",
   "id": "6be56192",
   "metadata": {},
   "source": [
    "## Pregunta 6\n",
    "Construya un intervalo de confianza del 95% para la diferencia media entre la edad promedio de un fumador y la edad promedio de un no fumador.\n",
    "\n"
   ]
  },
  {
   "cell_type": "code",
   "execution_count": 139,
   "id": "399ed6d5",
   "metadata": {},
   "outputs": [
    {
     "data": {
      "text/html": [
       "<div>\n",
       "<style scoped>\n",
       "    .dataframe tbody tr th:only-of-type {\n",
       "        vertical-align: middle;\n",
       "    }\n",
       "\n",
       "    .dataframe tbody tr th {\n",
       "        vertical-align: top;\n",
       "    }\n",
       "\n",
       "    .dataframe thead th {\n",
       "        text-align: right;\n",
       "    }\n",
       "</style>\n",
       "<table border=\"1\" class=\"dataframe\">\n",
       "  <thead>\n",
       "    <tr style=\"text-align: right;\">\n",
       "      <th></th>\n",
       "      <th>mean_si</th>\n",
       "      <th>std_si</th>\n",
       "      <th>n_si</th>\n",
       "      <th>mean_no</th>\n",
       "      <th>std_no</th>\n",
       "      <th>n_no</th>\n",
       "      <th>n_dif</th>\n",
       "    </tr>\n",
       "    <tr>\n",
       "      <th>RIDAGEYR</th>\n",
       "      <th></th>\n",
       "      <th></th>\n",
       "      <th></th>\n",
       "      <th></th>\n",
       "      <th></th>\n",
       "      <th></th>\n",
       "      <th></th>\n",
       "    </tr>\n",
       "  </thead>\n",
       "  <tbody>\n",
       "    <tr>\n",
       "      <th>18</th>\n",
       "      <td>0.052632</td>\n",
       "      <td>0.223297</td>\n",
       "      <td>133</td>\n",
       "      <td>0.947368</td>\n",
       "      <td>0.223297</td>\n",
       "      <td>133</td>\n",
       "      <td>-0.894737</td>\n",
       "    </tr>\n",
       "    <tr>\n",
       "      <th>19</th>\n",
       "      <td>0.171875</td>\n",
       "      <td>0.377272</td>\n",
       "      <td>128</td>\n",
       "      <td>0.828125</td>\n",
       "      <td>0.377272</td>\n",
       "      <td>128</td>\n",
       "      <td>-0.656250</td>\n",
       "    </tr>\n",
       "    <tr>\n",
       "      <th>20</th>\n",
       "      <td>0.215190</td>\n",
       "      <td>0.410954</td>\n",
       "      <td>79</td>\n",
       "      <td>0.784810</td>\n",
       "      <td>0.410954</td>\n",
       "      <td>79</td>\n",
       "      <td>-0.569620</td>\n",
       "    </tr>\n",
       "    <tr>\n",
       "      <th>21</th>\n",
       "      <td>0.305085</td>\n",
       "      <td>0.460443</td>\n",
       "      <td>59</td>\n",
       "      <td>0.694915</td>\n",
       "      <td>0.460443</td>\n",
       "      <td>59</td>\n",
       "      <td>-0.389831</td>\n",
       "    </tr>\n",
       "    <tr>\n",
       "      <th>22</th>\n",
       "      <td>0.284211</td>\n",
       "      <td>0.451038</td>\n",
       "      <td>95</td>\n",
       "      <td>0.715789</td>\n",
       "      <td>0.451038</td>\n",
       "      <td>95</td>\n",
       "      <td>-0.431579</td>\n",
       "    </tr>\n",
       "    <tr>\n",
       "      <th>...</th>\n",
       "      <td>...</td>\n",
       "      <td>...</td>\n",
       "      <td>...</td>\n",
       "      <td>...</td>\n",
       "      <td>...</td>\n",
       "      <td>...</td>\n",
       "      <td>...</td>\n",
       "    </tr>\n",
       "    <tr>\n",
       "      <th>76</th>\n",
       "      <td>0.431818</td>\n",
       "      <td>0.495329</td>\n",
       "      <td>44</td>\n",
       "      <td>0.568182</td>\n",
       "      <td>0.495329</td>\n",
       "      <td>44</td>\n",
       "      <td>-0.136364</td>\n",
       "    </tr>\n",
       "    <tr>\n",
       "      <th>77</th>\n",
       "      <td>0.581395</td>\n",
       "      <td>0.493330</td>\n",
       "      <td>43</td>\n",
       "      <td>0.418605</td>\n",
       "      <td>0.493330</td>\n",
       "      <td>43</td>\n",
       "      <td>0.162791</td>\n",
       "    </tr>\n",
       "    <tr>\n",
       "      <th>78</th>\n",
       "      <td>0.404255</td>\n",
       "      <td>0.490747</td>\n",
       "      <td>47</td>\n",
       "      <td>0.574468</td>\n",
       "      <td>0.494423</td>\n",
       "      <td>47</td>\n",
       "      <td>-0.170213</td>\n",
       "    </tr>\n",
       "    <tr>\n",
       "      <th>79</th>\n",
       "      <td>0.542857</td>\n",
       "      <td>0.498160</td>\n",
       "      <td>35</td>\n",
       "      <td>0.457143</td>\n",
       "      <td>0.498160</td>\n",
       "      <td>35</td>\n",
       "      <td>0.085714</td>\n",
       "    </tr>\n",
       "    <tr>\n",
       "      <th>80</th>\n",
       "      <td>0.448980</td>\n",
       "      <td>0.497390</td>\n",
       "      <td>343</td>\n",
       "      <td>0.542274</td>\n",
       "      <td>0.498210</td>\n",
       "      <td>343</td>\n",
       "      <td>-0.093294</td>\n",
       "    </tr>\n",
       "  </tbody>\n",
       "</table>\n",
       "<p>63 rows × 7 columns</p>\n",
       "</div>"
      ],
      "text/plain": [
       "           mean_si    std_si  n_si   mean_no    std_no  n_no     n_dif\n",
       "RIDAGEYR                                                              \n",
       "18        0.052632  0.223297   133  0.947368  0.223297   133 -0.894737\n",
       "19        0.171875  0.377272   128  0.828125  0.377272   128 -0.656250\n",
       "20        0.215190  0.410954    79  0.784810  0.410954    79 -0.569620\n",
       "21        0.305085  0.460443    59  0.694915  0.460443    59 -0.389831\n",
       "22        0.284211  0.451038    95  0.715789  0.451038    95 -0.431579\n",
       "...            ...       ...   ...       ...       ...   ...       ...\n",
       "76        0.431818  0.495329    44  0.568182  0.495329    44 -0.136364\n",
       "77        0.581395  0.493330    43  0.418605  0.493330    43  0.162791\n",
       "78        0.404255  0.490747    47  0.574468  0.494423    47 -0.170213\n",
       "79        0.542857  0.498160    35  0.457143  0.498160    35  0.085714\n",
       "80        0.448980  0.497390   343  0.542274  0.498210   343 -0.093294\n",
       "\n",
       "[63 rows x 7 columns]"
      ]
     },
     "execution_count": 139,
     "metadata": {},
     "output_type": "execute_result"
    }
   ],
   "source": [
    "df = datos.loc[:,[\"GENDER\",\"RIDAGEYR\", \"SMOKERS\"]]\n",
    "\n",
    "dx = df.groupby([\"RIDAGEYR\"]).agg({\"SMOKERS\":[lambda x: np.mean(x==\"Si\"),\n",
    "                                              lambda x: np.std(x==\"Si\", ddof=0), \n",
    "                                              np.size, lambda x: np.mean(x==\"No\"),\n",
    "                                              lambda x: np.std(x==\"No\", ddof=0), \n",
    "                                              np.size\n",
    "                                             ]\n",
    "                                  })\n",
    "dx.columns = [\"mean_si\",\"std_si\",\"n_si\",\"mean_no\",\"std_no\",\"n_no\"]\n",
    "dx[\"n_dif\"] = dx[\"mean_si\"] - dx[\"mean_no\"]\n",
    "dx"
   ]
  },
  {
   "cell_type": "code",
   "execution_count": 134,
   "id": "5756c548",
   "metadata": {},
   "outputs": [],
   "source": [
    "# error estandar std_muestra/sqrt(n)\n",
    "\n",
    "dx[\"e_si\"] =    dx[\"std_si\"]/np.sqrt(dx.n_si)\n",
    "dx[\"e_no\"] =    dx[\"std_no\"]/np.sqrt(dx.n_no)\n",
    "\n",
    "# diferencia error estandar e_estimado_dif = np.sqrt(e_estimado1**2 + e_estimado2**2)\n",
    "\n",
    "dx[\"e_diff\"] = np.sqrt(dx[\"e_si\"]**2 + dx[\"e_no\"]**2)\n",
    "\n",
    "# # intervalo diferencias (media_muestral1 - media_muestral2) ± z*(sqrt((std_muestral1^2/n1) + (std_muestral2^2/n2)))\n",
    "\n"
   ]
  },
  {
   "cell_type": "code",
   "execution_count": 144,
   "id": "5ec0394e",
   "metadata": {},
   "outputs": [],
   "source": [
    "dx[\"i_inf\"] = dx.n_dif - z*(np.sqrt((dx.std_si ** 2/dx.n_si) + (dx.std_no**2/dx.n_no)))\n",
    "dx[\"i_sup\"] = dx.n_dif + z*(np.sqrt((dx.std_si ** 2/dx.n_si) + (dx.std_no**2/dx.n_no)))\n"
   ]
  },
  {
   "cell_type": "code",
   "execution_count": 145,
   "id": "14a71324",
   "metadata": {},
   "outputs": [
    {
     "data": {
      "text/html": [
       "<div>\n",
       "<style scoped>\n",
       "    .dataframe tbody tr th:only-of-type {\n",
       "        vertical-align: middle;\n",
       "    }\n",
       "\n",
       "    .dataframe tbody tr th {\n",
       "        vertical-align: top;\n",
       "    }\n",
       "\n",
       "    .dataframe thead th {\n",
       "        text-align: right;\n",
       "    }\n",
       "</style>\n",
       "<table border=\"1\" class=\"dataframe\">\n",
       "  <thead>\n",
       "    <tr style=\"text-align: right;\">\n",
       "      <th></th>\n",
       "      <th>mean_si</th>\n",
       "      <th>std_si</th>\n",
       "      <th>n_si</th>\n",
       "      <th>mean_no</th>\n",
       "      <th>std_no</th>\n",
       "      <th>n_no</th>\n",
       "      <th>n_dif</th>\n",
       "      <th>i_inf</th>\n",
       "      <th>i_sup</th>\n",
       "    </tr>\n",
       "    <tr>\n",
       "      <th>RIDAGEYR</th>\n",
       "      <th></th>\n",
       "      <th></th>\n",
       "      <th></th>\n",
       "      <th></th>\n",
       "      <th></th>\n",
       "      <th></th>\n",
       "      <th></th>\n",
       "      <th></th>\n",
       "      <th></th>\n",
       "    </tr>\n",
       "  </thead>\n",
       "  <tbody>\n",
       "    <tr>\n",
       "      <th>18</th>\n",
       "      <td>0.052632</td>\n",
       "      <td>0.223297</td>\n",
       "      <td>133</td>\n",
       "      <td>0.947368</td>\n",
       "      <td>0.223297</td>\n",
       "      <td>133</td>\n",
       "      <td>-0.894737</td>\n",
       "      <td>-0.948405</td>\n",
       "      <td>-0.841068</td>\n",
       "    </tr>\n",
       "    <tr>\n",
       "      <th>19</th>\n",
       "      <td>0.171875</td>\n",
       "      <td>0.377272</td>\n",
       "      <td>128</td>\n",
       "      <td>0.828125</td>\n",
       "      <td>0.377272</td>\n",
       "      <td>128</td>\n",
       "      <td>-0.656250</td>\n",
       "      <td>-0.748680</td>\n",
       "      <td>-0.563820</td>\n",
       "    </tr>\n",
       "    <tr>\n",
       "      <th>20</th>\n",
       "      <td>0.215190</td>\n",
       "      <td>0.410954</td>\n",
       "      <td>79</td>\n",
       "      <td>0.784810</td>\n",
       "      <td>0.410954</td>\n",
       "      <td>79</td>\n",
       "      <td>-0.569620</td>\n",
       "      <td>-0.697777</td>\n",
       "      <td>-0.441463</td>\n",
       "    </tr>\n",
       "    <tr>\n",
       "      <th>21</th>\n",
       "      <td>0.305085</td>\n",
       "      <td>0.460443</td>\n",
       "      <td>59</td>\n",
       "      <td>0.694915</td>\n",
       "      <td>0.460443</td>\n",
       "      <td>59</td>\n",
       "      <td>-0.389831</td>\n",
       "      <td>-0.555985</td>\n",
       "      <td>-0.223676</td>\n",
       "    </tr>\n",
       "    <tr>\n",
       "      <th>22</th>\n",
       "      <td>0.284211</td>\n",
       "      <td>0.451038</td>\n",
       "      <td>95</td>\n",
       "      <td>0.715789</td>\n",
       "      <td>0.451038</td>\n",
       "      <td>95</td>\n",
       "      <td>-0.431579</td>\n",
       "      <td>-0.559846</td>\n",
       "      <td>-0.303312</td>\n",
       "    </tr>\n",
       "    <tr>\n",
       "      <th>...</th>\n",
       "      <td>...</td>\n",
       "      <td>...</td>\n",
       "      <td>...</td>\n",
       "      <td>...</td>\n",
       "      <td>...</td>\n",
       "      <td>...</td>\n",
       "      <td>...</td>\n",
       "      <td>...</td>\n",
       "      <td>...</td>\n",
       "    </tr>\n",
       "    <tr>\n",
       "      <th>76</th>\n",
       "      <td>0.431818</td>\n",
       "      <td>0.495329</td>\n",
       "      <td>44</td>\n",
       "      <td>0.568182</td>\n",
       "      <td>0.495329</td>\n",
       "      <td>44</td>\n",
       "      <td>-0.136364</td>\n",
       "      <td>-0.343345</td>\n",
       "      <td>0.070618</td>\n",
       "    </tr>\n",
       "    <tr>\n",
       "      <th>77</th>\n",
       "      <td>0.581395</td>\n",
       "      <td>0.493330</td>\n",
       "      <td>43</td>\n",
       "      <td>0.418605</td>\n",
       "      <td>0.493330</td>\n",
       "      <td>43</td>\n",
       "      <td>0.162791</td>\n",
       "      <td>-0.045738</td>\n",
       "      <td>0.371320</td>\n",
       "    </tr>\n",
       "    <tr>\n",
       "      <th>78</th>\n",
       "      <td>0.404255</td>\n",
       "      <td>0.490747</td>\n",
       "      <td>47</td>\n",
       "      <td>0.574468</td>\n",
       "      <td>0.494423</td>\n",
       "      <td>47</td>\n",
       "      <td>-0.170213</td>\n",
       "      <td>-0.369371</td>\n",
       "      <td>0.028946</td>\n",
       "    </tr>\n",
       "    <tr>\n",
       "      <th>79</th>\n",
       "      <td>0.542857</td>\n",
       "      <td>0.498160</td>\n",
       "      <td>35</td>\n",
       "      <td>0.457143</td>\n",
       "      <td>0.498160</td>\n",
       "      <td>35</td>\n",
       "      <td>0.085714</td>\n",
       "      <td>-0.147684</td>\n",
       "      <td>0.319113</td>\n",
       "    </tr>\n",
       "    <tr>\n",
       "      <th>80</th>\n",
       "      <td>0.448980</td>\n",
       "      <td>0.497390</td>\n",
       "      <td>343</td>\n",
       "      <td>0.542274</td>\n",
       "      <td>0.498210</td>\n",
       "      <td>343</td>\n",
       "      <td>-0.093294</td>\n",
       "      <td>-0.167797</td>\n",
       "      <td>-0.018792</td>\n",
       "    </tr>\n",
       "  </tbody>\n",
       "</table>\n",
       "<p>63 rows × 9 columns</p>\n",
       "</div>"
      ],
      "text/plain": [
       "           mean_si    std_si  n_si   mean_no    std_no  n_no     n_dif  \\\n",
       "RIDAGEYR                                                                 \n",
       "18        0.052632  0.223297   133  0.947368  0.223297   133 -0.894737   \n",
       "19        0.171875  0.377272   128  0.828125  0.377272   128 -0.656250   \n",
       "20        0.215190  0.410954    79  0.784810  0.410954    79 -0.569620   \n",
       "21        0.305085  0.460443    59  0.694915  0.460443    59 -0.389831   \n",
       "22        0.284211  0.451038    95  0.715789  0.451038    95 -0.431579   \n",
       "...            ...       ...   ...       ...       ...   ...       ...   \n",
       "76        0.431818  0.495329    44  0.568182  0.495329    44 -0.136364   \n",
       "77        0.581395  0.493330    43  0.418605  0.493330    43  0.162791   \n",
       "78        0.404255  0.490747    47  0.574468  0.494423    47 -0.170213   \n",
       "79        0.542857  0.498160    35  0.457143  0.498160    35  0.085714   \n",
       "80        0.448980  0.497390   343  0.542274  0.498210   343 -0.093294   \n",
       "\n",
       "             i_inf     i_sup  \n",
       "RIDAGEYR                      \n",
       "18       -0.948405 -0.841068  \n",
       "19       -0.748680 -0.563820  \n",
       "20       -0.697777 -0.441463  \n",
       "21       -0.555985 -0.223676  \n",
       "22       -0.559846 -0.303312  \n",
       "...            ...       ...  \n",
       "76       -0.343345  0.070618  \n",
       "77       -0.045738  0.371320  \n",
       "78       -0.369371  0.028946  \n",
       "79       -0.147684  0.319113  \n",
       "80       -0.167797 -0.018792  \n",
       "\n",
       "[63 rows x 9 columns]"
      ]
     },
     "execution_count": 145,
     "metadata": {},
     "output_type": "execute_result"
    }
   ],
   "source": [
    "dx"
   ]
  },
  {
   "cell_type": "markdown",
   "id": "e3640556",
   "metadata": {},
   "source": [
    "Q6a. Utilice técnicas gráficas y numéricas para comparar la variación en las edades de los fumadores con la variación en las edades de los no fumadores."
   ]
  },
  {
   "cell_type": "code",
   "execution_count": 146,
   "id": "b131ca91",
   "metadata": {},
   "outputs": [
    {
     "data": {
      "image/png": "[encoded data removed]",
      "text/plain": [
       "<Figure size 640x480 with 1 Axes>"
      ]
     },
     "metadata": {},
     "output_type": "display_data"
    }
   ],
   "source": [
    "# Diferencia entre generos por fumadores \n",
    "import matplotlib.pyplot as plt\n",
    "\n",
    "# Histograma de edades de fumadores\n",
    "plt.hist(df[df[\"SMOKERS\"]==\"Si\"][\"RIDAGEYR\"], alpha=0.5, label=\"Fumadores\")\n",
    "# Histograma de edades de no fumadores\n",
    "plt.hist(df[df[\"SMOKERS\"]==\"No\"][\"RIDAGEYR\"], alpha=0.5, label=\"No Fumadores\")\n",
    "\n",
    "plt.legend(loc=\"upper right\")\n",
    "plt.xlabel(\"Edades\")\n",
    "plt.ylabel(\"Frecuencia\")\n",
    "plt.title(\"Distribución de edades de fumadores y no fumadores\")\n",
    "plt.show()\n"
   ]
  },
  {
   "cell_type": "code",
   "execution_count": 147,
   "id": "76edf05b",
   "metadata": {},
   "outputs": [
    {
     "data": {
      "image/png": "[encoded data removed]",
      "text/plain": [
       "<Figure size 640x480 with 1 Axes>"
      ]
     },
     "metadata": {},
     "output_type": "display_data"
    }
   ],
   "source": [
    "import seaborn as sns\n",
    "\n",
    "# Boxplot de edades de fumadores y no fumadores\n",
    "sns.boxplot(x=\"SMOKERS\", y=\"RIDAGEYR\", data=df)\n",
    "plt.xlabel(\"Fumadores\")\n",
    "plt.ylabel(\"Edades\")\n",
    "plt.title(\"Variación en las edades de fumadores y no fumadores\")\n",
    "plt.show()\n"
   ]
  },
  {
   "cell_type": "code",
   "execution_count": 148,
   "id": "829a0f0c",
   "metadata": {},
   "outputs": [
    {
     "name": "stdout",
     "output_type": "stream",
     "text": [
      "Desviación estándar de las edades de fumadores: 17.461140920034683\n",
      "Desviación estándar de las edades de no fumadores: 18.54328622905512\n"
     ]
    }
   ],
   "source": [
    "std_fumadores = df[df[\"SMOKERS\"]==\"Si\"][\"RIDAGEYR\"].std()\n",
    "std_no_fumadores = df[df[\"SMOKERS\"]==\"No\"][\"RIDAGEYR\"].std()\n",
    "\n",
    "print(\"Desviación estándar de las edades de fumadores:\", std_fumadores)\n",
    "print(\"Desviación estándar de las edades de no fumadores:\", std_no_fumadores)\n"
   ]
  },
  {
   "cell_type": "markdown",
   "id": "5d719e74",
   "metadata": {},
   "source": [
    "¿Parece que la incertidumbre sobre la edad media de los fumadores o la incertidumbre sobre la edad media de los no fumadores contribuyeron más a la incertidumbre de la diferencia media en la que nos estamos centrando aquí?\n",
    "\n",
    "Los no fumadores tienen una mayor incertidumbre lo que hace que haya mayor variabilidad, además su muestra es mucho más pequeña que la de los fuma"
   ]
  }
 ],
 "metadata": {
  "kernelspec": {
   "display_name": "Python 3 (ipykernel)",
   "language": "python",
   "name": "python3"
  },
  "language_info": {
   "codemirror_mode": {
    "name": "ipython",
    "version": 3
   },
   "file_extension": ".py",
   "mimetype": "text/x-python",
   "name": "python",
   "nbconvert_exporter": "python",
   "pygments_lexer": "ipython3",
   "version": "3.9.13"
  }
 },
 "nbformat": 4,
 "nbformat_minor": 5
}
