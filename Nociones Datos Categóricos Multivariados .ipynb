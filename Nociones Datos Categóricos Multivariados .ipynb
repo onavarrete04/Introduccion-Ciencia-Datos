{
 "cells": [
  {
   "cell_type": "markdown",
   "id": "e3e8f299",
   "metadata": {},
   "source": [
    "## Datos Categóricos Multivariados\n",
    "\n",
    "Pensemos en que hay un conjunto de catos cualitativos o categóricos, genero, estado marital, entre otros, si hablaramos de los dos anteriores, hablariamos de datos bivariados, porque son dos variables, entonces, multivariados o multivariables serían siempre que fueran más de dos variables. \n"
   ]
  }
 ],
 "metadata": {
  "kernelspec": {
   "display_name": "Python 3 (ipykernel)",
   "language": "python",
   "name": "python3"
  },
  "language_info": {
   "codemirror_mode": {
    "name": "ipython",
    "version": 3
   },
   "file_extension": ".py",
   "mimetype": "text/x-python",
   "name": "python",
   "nbconvert_exporter": "python",
   "pygments_lexer": "ipython3",
   "version": "3.9.7"
  }
 },
 "nbformat": 4,
 "nbformat_minor": 5
}
