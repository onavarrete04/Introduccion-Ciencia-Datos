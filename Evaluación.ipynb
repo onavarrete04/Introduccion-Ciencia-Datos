{
 "cells": [
  {
   "cell_type": "code",
   "execution_count": 1,
   "id": "f36eb93d",
   "metadata": {},
   "outputs": [],
   "source": [
    "import numpy as np\n",
    "import pandas as pd\n",
    "import seaborn as sns\n",
    "import scipy.stats as stats\n",
    "%matplotlib inline\n",
    "import matplotlib.pyplot as plt\n",
    "pd.set_option(\"display.max_columns\",100)\n",
    "path = \"Cartwheeldata.csv\""
   ]
  },
  {
   "cell_type": "code",
   "execution_count": 2,
   "id": "5ca3cedf",
   "metadata": {},
   "outputs": [],
   "source": [
    "df = pd.read_csv(\"Cartwheeldata.csv\")"
   ]
  },
  {
   "cell_type": "code",
   "execution_count": 3,
   "id": "d3100aec",
   "metadata": {},
   "outputs": [
    {
     "data": {
      "text/html": [
       "<div>\n",
       "<style scoped>\n",
       "    .dataframe tbody tr th:only-of-type {\n",
       "        vertical-align: middle;\n",
       "    }\n",
       "\n",
       "    .dataframe tbody tr th {\n",
       "        vertical-align: top;\n",
       "    }\n",
       "\n",
       "    .dataframe thead th {\n",
       "        text-align: right;\n",
       "    }\n",
       "</style>\n",
       "<table border=\"1\" class=\"dataframe\">\n",
       "  <thead>\n",
       "    <tr style=\"text-align: right;\">\n",
       "      <th></th>\n",
       "      <th>ID</th>\n",
       "      <th>Age</th>\n",
       "      <th>Gender</th>\n",
       "      <th>GenderGroup</th>\n",
       "      <th>Glasses</th>\n",
       "      <th>GlassesGroup</th>\n",
       "      <th>Height</th>\n",
       "      <th>Wingspan</th>\n",
       "      <th>CWDistance</th>\n",
       "      <th>Complete</th>\n",
       "      <th>CompleteGroup</th>\n",
       "      <th>Score</th>\n",
       "    </tr>\n",
       "  </thead>\n",
       "  <tbody>\n",
       "    <tr>\n",
       "      <th>0</th>\n",
       "      <td>1</td>\n",
       "      <td>56</td>\n",
       "      <td>F</td>\n",
       "      <td>1</td>\n",
       "      <td>Y</td>\n",
       "      <td>1</td>\n",
       "      <td>62.0</td>\n",
       "      <td>61.0</td>\n",
       "      <td>79</td>\n",
       "      <td>Y</td>\n",
       "      <td>1</td>\n",
       "      <td>7</td>\n",
       "    </tr>\n",
       "    <tr>\n",
       "      <th>1</th>\n",
       "      <td>2</td>\n",
       "      <td>26</td>\n",
       "      <td>F</td>\n",
       "      <td>1</td>\n",
       "      <td>Y</td>\n",
       "      <td>1</td>\n",
       "      <td>62.0</td>\n",
       "      <td>60.0</td>\n",
       "      <td>70</td>\n",
       "      <td>Y</td>\n",
       "      <td>1</td>\n",
       "      <td>8</td>\n",
       "    </tr>\n",
       "    <tr>\n",
       "      <th>2</th>\n",
       "      <td>3</td>\n",
       "      <td>33</td>\n",
       "      <td>F</td>\n",
       "      <td>1</td>\n",
       "      <td>Y</td>\n",
       "      <td>1</td>\n",
       "      <td>66.0</td>\n",
       "      <td>64.0</td>\n",
       "      <td>85</td>\n",
       "      <td>Y</td>\n",
       "      <td>1</td>\n",
       "      <td>7</td>\n",
       "    </tr>\n",
       "    <tr>\n",
       "      <th>3</th>\n",
       "      <td>4</td>\n",
       "      <td>39</td>\n",
       "      <td>F</td>\n",
       "      <td>1</td>\n",
       "      <td>N</td>\n",
       "      <td>0</td>\n",
       "      <td>64.0</td>\n",
       "      <td>63.0</td>\n",
       "      <td>87</td>\n",
       "      <td>Y</td>\n",
       "      <td>1</td>\n",
       "      <td>10</td>\n",
       "    </tr>\n",
       "    <tr>\n",
       "      <th>4</th>\n",
       "      <td>5</td>\n",
       "      <td>27</td>\n",
       "      <td>M</td>\n",
       "      <td>2</td>\n",
       "      <td>N</td>\n",
       "      <td>0</td>\n",
       "      <td>73.0</td>\n",
       "      <td>75.0</td>\n",
       "      <td>72</td>\n",
       "      <td>N</td>\n",
       "      <td>0</td>\n",
       "      <td>4</td>\n",
       "    </tr>\n",
       "  </tbody>\n",
       "</table>\n",
       "</div>"
      ],
      "text/plain": [
       "   ID  Age Gender  GenderGroup Glasses  GlassesGroup  Height  Wingspan  \\\n",
       "0   1   56      F            1       Y             1    62.0      61.0   \n",
       "1   2   26      F            1       Y             1    62.0      60.0   \n",
       "2   3   33      F            1       Y             1    66.0      64.0   \n",
       "3   4   39      F            1       N             0    64.0      63.0   \n",
       "4   5   27      M            2       N             0    73.0      75.0   \n",
       "\n",
       "   CWDistance Complete  CompleteGroup  Score  \n",
       "0          79        Y              1      7  \n",
       "1          70        Y              1      8  \n",
       "2          85        Y              1      7  \n",
       "3          87        Y              1     10  \n",
       "4          72        N              0      4  "
      ]
     },
     "execution_count": 3,
     "metadata": {},
     "output_type": "execute_result"
    }
   ],
   "source": [
    "df.head()"
   ]
  },
  {
   "cell_type": "markdown",
   "id": "845fb1c0",
   "metadata": {},
   "source": [
    "¿Cómo describirías la relación entre \"Altura\" y \"Envergadura\"?\n",
    "Preguntas que puedes hacer:\n",
    "\n",
    "¿Es lineal?\n",
    "¿Hay valores atípicos?\n",
    "¿Son sus rangos similares o diferentes?\n",
    "¿De qué otra forma podrías describir la relación?\n",
    "\n",
    "Ahora veamos dos variables que todavía no suponemos que tengan una relación fuerte, 'Wingspan' y 'CWDistance'"
   ]
  },
  {
   "cell_type": "code",
   "execution_count": 4,
   "id": "7b7bbe96",
   "metadata": {},
   "outputs": [
    {
     "data": {
      "image/png": "[encoded data removed]",
      "text/plain": [
       "<Figure size 720x360 with 2 Axes>"
      ]
     },
     "metadata": {
      "needs_background": "light"
     },
     "output_type": "display_data"
    }
   ],
   "source": [
    "# Distribución\n",
    "plt.figure(figsize=(10,5))\n",
    "plt.grid()\n",
    "plt.subplot(1,2,1)\n",
    "plt.hist(x=df.Height)\n",
    "plt.title(\"Height\")\n",
    "plt.grid()\n",
    "# Trazando Y\n",
    "plt.subplot(1,2,2)\n",
    "plt.hist(x=df.Wingspan)\n",
    "plt.title(\"Wingspan\")\n",
    "plt.grid()"
   ]
  },
  {
   "cell_type": "code",
   "execution_count": 5,
   "id": "5db1d8ee",
   "metadata": {},
   "outputs": [
    {
     "data": {
      "text/plain": [
       "<seaborn.axisgrid.FacetGrid at 0x7f2b34a406a0>"
      ]
     },
     "execution_count": 5,
     "metadata": {},
     "output_type": "execute_result"
    },
    {
     "data": {
      "image/png": "[encoded data removed]",
      "text/plain": [
       "<Figure size 360x360 with 1 Axes>"
      ]
     },
     "metadata": {
      "needs_background": "light"
     },
     "output_type": "display_data"
    },
    {
     "data": {
      "image/png": "[encoded data removed]",
      "text/plain": [
       "<Figure size 360x360 with 1 Axes>"
      ]
     },
     "metadata": {
      "needs_background": "light"
     },
     "output_type": "display_data"
    }
   ],
   "source": [
    "sns.displot(df.Height)\n",
    "sns.displot(df.Wingspan)"
   ]
  },
  {
   "cell_type": "code",
   "execution_count": 6,
   "id": "75c9e705",
   "metadata": {},
   "outputs": [
    {
     "data": {
      "image/png": "[encoded data removed]",
      "text/plain": [
       "<Figure size 432x288 with 1 Axes>"
      ]
     },
     "metadata": {
      "needs_background": "light"
     },
     "output_type": "display_data"
    },
    {
     "data": {
      "text/plain": [
       "<AxesSubplot:xlabel='Wingspan'>"
      ]
     },
     "execution_count": 6,
     "metadata": {},
     "output_type": "execute_result"
    },
    {
     "data": {
      "image/png": "[encoded data removed]",
      "text/plain": [
       "<Figure size 432x288 with 1 Axes>"
      ]
     },
     "metadata": {
      "needs_background": "light"
     },
     "output_type": "display_data"
    }
   ],
   "source": [
    "sns.boxplot(x=df.Height)\n",
    "plt.show()\n",
    "sns.boxplot(x=df.Wingspan)"
   ]
  },
  {
   "cell_type": "code",
   "execution_count": 7,
   "id": "b9681d6c",
   "metadata": {},
   "outputs": [
    {
     "data": {
      "text/plain": [
       "<AxesSubplot:xlabel='Height', ylabel='Wingspan'>"
      ]
     },
     "execution_count": 7,
     "metadata": {},
     "output_type": "execute_result"
    },
    {
     "data": {
      "image/png": "[encoded data removed]",
      "text/plain": [
       "<Figure size 432x288 with 1 Axes>"
      ]
     },
     "metadata": {
      "needs_background": "light"
     },
     "output_type": "display_data"
    }
   ],
   "source": [
    "sns.regplot(x=\"Height\", y=\"Wingspan\",data=df , scatter_kws={\"alpha\":0.3})"
   ]
  },
  {
   "cell_type": "code",
   "execution_count": 18,
   "id": "00e1c329",
   "metadata": {},
   "outputs": [
    {
     "data": {
      "text/plain": [
       "<seaborn.axisgrid.FacetGrid at 0x7f2b346e4670>"
      ]
     },
     "execution_count": 18,
     "metadata": {},
     "output_type": "execute_result"
    },
    {
     "data": {
      "image/png": "[encoded data removed]",
      "text/plain": [
       "<Figure size 440x216 with 2 Axes>"
      ]
     },
     "metadata": {
      "needs_background": "light"
     },
     "output_type": "display_data"
    }
   ],
   "source": [
    "sns.FacetGrid(df, col=\"Gender\").map(plt.scatter,\"Wingspan\",\"Height\",alpha=0.4).add_legend()"
   ]
  },
  {
   "cell_type": "code",
   "execution_count": 8,
   "id": "e451dc0d",
   "metadata": {},
   "outputs": [
    {
     "name": "stdout",
     "output_type": "stream",
     "text": [
      "0.9540180704953922 1.5868358307934386e-13\n"
     ]
    }
   ],
   "source": [
    "dP = df[[\"Height\", \"Wingspan\"]].dropna()\n",
    "r, p = stats.pearsonr(dP.Height, dP.Wingspan) # -> esta es una forma de gráficar e incluir r y p, pero estos datos deben tener la misma longitud\n",
    "print(r,p)\n",
    "# r -> correlación\n",
    "# p -> p-valor"
   ]
  },
  {
   "cell_type": "markdown",
   "id": "77d7839f",
   "metadata": {},
   "source": [
    "En primera medida podemos observar que tiene una correlación/asociación positiva alta, que indican que a medida que aumenta la estatura, igualmente aumenta la envergadura. Observamos que no hay una distribución similar, pudiento ver en la variable Emvergadura  un comportamiento bimodal, igualmente, la variable Altura evidencia un comportamiento unimodal sesgado hacia la derecha. Ambas variables no evidencian datos atipicos.   "
   ]
  },
  {
   "cell_type": "code",
   "execution_count": 9,
   "id": "152fab40",
   "metadata": {},
   "outputs": [
    {
     "name": "stdout",
     "output_type": "stream",
     "text": [
      "0.2976618436234315 0.1484274577822956\n"
     ]
    }
   ],
   "source": [
    "dP = df[[\"CWDistance\", \"Wingspan\"]].dropna()\n",
    "r, p = stats.pearsonr(dP.CWDistance, dP.Wingspan) # -> esta es una forma de gráficar e incluir r y p, pero estos datos deben tener la misma longitud\n",
    "print(r,p)\n",
    "# r -> correlación\n",
    "# p -> p-valor"
   ]
  },
  {
   "cell_type": "code",
   "execution_count": 10,
   "id": "caca6d6f",
   "metadata": {},
   "outputs": [
    {
     "data": {
      "text/plain": [
       "<AxesSubplot:xlabel='CWDistance', ylabel='Wingspan'>"
      ]
     },
     "execution_count": 10,
     "metadata": {},
     "output_type": "execute_result"
    },
    {
     "data": {
      "image/png": "[encoded data removed]",
      "text/plain": [
       "<Figure size 432x288 with 1 Axes>"
      ]
     },
     "metadata": {
      "needs_background": "light"
     },
     "output_type": "display_data"
    }
   ],
   "source": [
    "sns.regplot(x=\"CWDistance\", y=\"Wingspan\",data=df,fit_reg=False , scatter_kws={\"alpha\":0.3})"
   ]
  },
  {
   "cell_type": "markdown",
   "id": "a2bc468f",
   "metadata": {},
   "source": [
    "La correlación entre la variable Wingspan (envergadura) y CWDistance (distancia rueda de carro) presentan es baja, estando sobre los 0.3 y no se evidencia que la relación sea líneal, por lo que se concluye que la asociación entre estas variables es baja y es no lineal. "
   ]
  },
  {
   "cell_type": "markdown",
   "id": "1dd9bbc4",
   "metadata": {},
   "source": [
    "¿Cómo describiría la relación entre \"Wingspan\" y \"CWDistance\"?\n",
    "\n",
    "¿Es lineal?\n",
    "¿Hay valores atípicos?\n",
    "¿Son sus rangos similares o diferentes?\n",
    "¿De qué otra forma podrías describir la relación?\n",
    "\n",
    "Hagamos el mismo gráfico que el anterior, pero ahora incluyamos \"Género\" como esquema de color incluyendo el argumento\n",
    "\n",
    "hue=df['Género']\n",
    "en la función Seaborn"
   ]
  },
  {
   "cell_type": "code",
   "execution_count": 20,
   "id": "3da053bd",
   "metadata": {},
   "outputs": [
    {
     "data": {
      "image/png": "[encoded data removed]",
      "text/plain": [
       "<Figure size 432x288 with 1 Axes>"
      ]
     },
     "metadata": {
      "needs_background": "light"
     },
     "output_type": "display_data"
    },
    {
     "data": {
      "text/plain": [
       "<AxesSubplot:xlabel='Wingspan'>"
      ]
     },
     "execution_count": 20,
     "metadata": {},
     "output_type": "execute_result"
    },
    {
     "data": {
      "image/png": "[encoded data removed]",
      "text/plain": [
       "<Figure size 432x288 with 1 Axes>"
      ]
     },
     "metadata": {
      "needs_background": "light"
     },
     "output_type": "display_data"
    }
   ],
   "source": [
    "sns.boxplot(x=df.CWDistance)\n",
    "plt.show()\n",
    "sns.boxplot(x=df.Wingspan)"
   ]
  },
  {
   "cell_type": "code",
   "execution_count": 12,
   "id": "89a9210d",
   "metadata": {},
   "outputs": [
    {
     "data": {
      "image/png": "[encoded data removed]",
      "text/plain": [
       "<Figure size 720x360 with 2 Axes>"
      ]
     },
     "metadata": {
      "needs_background": "light"
     },
     "output_type": "display_data"
    }
   ],
   "source": [
    "plt.figure(figsize=(10,5))\n",
    "plt.grid()\n",
    "plt.subplot(1,2,1)\n",
    "plt.hist(x=df.CWDistance)\n",
    "plt.title(\"CWDistance\")\n",
    "plt.grid()\n",
    "\n",
    "plt.subplot(1,2,2)\n",
    "plt.hist(x=df.Wingspan)\n",
    "plt.title(\"Wingspan\")\n",
    "plt.grid()"
   ]
  },
  {
   "cell_type": "code",
   "execution_count": 13,
   "id": "b90d6375",
   "metadata": {},
   "outputs": [
    {
     "data": {
      "text/plain": [
       "Index(['ID', 'Age', 'Gender', 'GenderGroup', 'Glasses', 'GlassesGroup',\n",
       "       'Height', 'Wingspan', 'CWDistance', 'Complete', 'CompleteGroup',\n",
       "       'Score'],\n",
       "      dtype='object')"
      ]
     },
     "execution_count": 13,
     "metadata": {},
     "output_type": "execute_result"
    }
   ],
   "source": [
    "df.columns"
   ]
  },
  {
   "cell_type": "code",
   "execution_count": 14,
   "id": "0ec56558",
   "metadata": {},
   "outputs": [
    {
     "data": {
      "text/plain": [
       "<seaborn.axisgrid.FacetGrid at 0x7f2b33e5b730>"
      ]
     },
     "execution_count": 14,
     "metadata": {},
     "output_type": "execute_result"
    },
    {
     "data": {
      "image/png": "[encoded data removed]",
      "text/plain": [
       "<Figure size 440x216 with 2 Axes>"
      ]
     },
     "metadata": {
      "needs_background": "light"
     },
     "output_type": "display_data"
    }
   ],
   "source": [
    "sns.FacetGrid(df, col=\"Gender\").map(plt.scatter,\"CWDistance\",\"Height\",alpha=0.4).add_legend()"
   ]
  },
  {
   "cell_type": "code",
   "execution_count": 15,
   "id": "11421224",
   "metadata": {},
   "outputs": [
    {
     "name": "stdout",
     "output_type": "stream",
     "text": [
      "F: 0.45812100078494783 P: 0.13419996776801232\n",
      "M: 0.27476207389072843 P: 0.3636081114947553\n"
     ]
    }
   ],
   "source": [
    "dP = df[(df.Gender==\"F\")].dropna()\n",
    "r, p = stats.pearsonr(dP.CWDistance, dP.Wingspan) # -> esta es una forma de gráficar e incluir r y p, pero estos datos deben tener la misma longitud\n",
    "print(\"F:\",r,\"P:\",p)\n",
    "# r -> correlación\n",
    "# p -> p-valor\n",
    "dP = df[(df.Gender==\"M\")].dropna()\n",
    "r, p = stats.pearsonr(dP.CWDistance, dP.Wingspan) # -> esta es una forma de gráficar e incluir r y p, pero estos datos deben tener la misma longitud\n",
    "print(\"M:\",r,\"P:\",p)\n",
    "# r -> correlación\n",
    "# p -> p-valor"
   ]
  },
  {
   "cell_type": "markdown",
   "id": "6667f1d4",
   "metadata": {},
   "source": [
    "Podemos ver que la relación entre las variables Distancia y Altura por Género cambian, así, en la asociación Masculina de estas dos variables persiste siendo baja, no obstante, por Género Femenino la asociacion cambia a moderada, estando sobre los 0.46, sin embargo el valor P, nos muestra un 0.4, este resultado nos indica que la hipotesis nula es correcta. "
   ]
  },
  {
   "cell_type": "code",
   "execution_count": 16,
   "id": "553b5c9a",
   "metadata": {},
   "outputs": [
    {
     "data": {
      "text/plain": [
       "<AxesSubplot:xlabel='Glasses', ylabel='CWDistance'>"
      ]
     },
     "execution_count": 16,
     "metadata": {},
     "output_type": "execute_result"
    },
    {
     "data": {
      "image/png": "[encoded data removed]",
      "text/plain": [
       "<Figure size 432x288 with 1 Axes>"
      ]
     },
     "metadata": {
      "needs_background": "light"
     },
     "output_type": "display_data"
    }
   ],
   "source": [
    "sns.barplot(x=df.Glasses, y=df.CWDistance)"
   ]
  },
  {
   "cell_type": "code",
   "execution_count": 17,
   "id": "915f093b",
   "metadata": {},
   "outputs": [
    {
     "data": {
      "text/plain": [
       "<AxesSubplot:xlabel='Glasses', ylabel='CWDistance'>"
      ]
     },
     "execution_count": 17,
     "metadata": {},
     "output_type": "execute_result"
    },
    {
     "data": {
      "image/png": "[encoded data removed]",
      "text/plain": [
       "<Figure size 432x288 with 1 Axes>"
      ]
     },
     "metadata": {
      "needs_background": "light"
     },
     "output_type": "display_data"
    }
   ],
   "source": [
    "sns.barplot(x=df.Glasses, y=df.CWDistance, hue=df.Gender)"
   ]
  },
  {
   "cell_type": "markdown",
   "id": "4c395f6c",
   "metadata": {},
   "source": [
    "Es mayor el comportamiento de las personas que utilizan gafas bajo una pequeña proporción, repecto a las "
   ]
  },
  {
   "cell_type": "code",
   "execution_count": null,
   "id": "2ded137c",
   "metadata": {},
   "outputs": [],
   "source": []
  }
 ],
 "metadata": {
  "kernelspec": {
   "display_name": "Python 3 (ipykernel)",
   "language": "python",
   "name": "python3"
  },
  "language_info": {
   "codemirror_mode": {
    "name": "ipython",
    "version": 3
   },
   "file_extension": ".py",
   "mimetype": "text/x-python",
   "name": "python",
   "nbconvert_exporter": "python",
   "pygments_lexer": "ipython3",
   "version": "3.9.7"
  }
 },
 "nbformat": 4,
 "nbformat_minor": 5
}
