{
 "cells": [
  {
   "cell_type": "markdown",
   "id": "460b4a24",
   "metadata": {},
   "source": [
    "### Utilizando Jupyter Notebook\n",
    "\n",
    "Markadown permite usar el uso de simbolos para generar o crear listas, enlas url, incrustar imagenes y mucho mas\n",
    "\n",
    "# h1\n",
    "## h2\n",
    "### h3}}\n",
    "\n",
    "**asteriscos** o __asteriscos__\n",
    "**asteriscos y  __asteriscos__**\n",
    "ver esta -> ~~Oscar Hola~~ "
   ]
  },
  {
   "cell_type": "markdown",
   "id": "8c0da6d6",
   "metadata": {},
   "source": [
    "Listas:\n",
    "1. Primero\n",
    "2. Segundo\n",
    "    * Hola\n",
    "3. Tercero\n",
    "- cuarto\n",
    "+ quinto"
   ]
  },
  {
   "cell_type": "markdown",
   "id": "639f97ab",
   "metadata": {},
   "source": [
    "Las variables se guardaran localmente, pero si se reinicia el documento, es necesario reiniciar las variables porque estas se perderan"
   ]
  }
 ],
 "metadata": {
  "kernelspec": {
   "display_name": "Python 3 (ipykernel)",
   "language": "python",
   "name": "python3"
  },
  "language_info": {
   "codemirror_mode": {
    "name": "ipython",
    "version": 3
   },
   "file_extension": ".py",
   "mimetype": "text/x-python",
   "name": "python",
   "nbconvert_exporter": "python",
   "pygments_lexer": "ipython3",
   "version": "3.9.7"
  }
 },
 "nbformat": 4,
 "nbformat_minor": 5
}
