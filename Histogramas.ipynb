{
 "cells": [
  {
   "cell_type": "markdown",
   "id": "313c1652",
   "metadata": {},
   "source": [
    "## Histogramas\n",
    "\n",
    "Son la primera visualización gráfica de nuestros datos. Los histogramas no son iguales a los gráficos de barras, los gráficos de barras son para datos categóricos, mientras los histogramas son para datos cuantitativos.\n",
    "\n",
    "### Forma\n",
    "\n",
    "Se refiere a la forma del histograma, es decir, la figura que se realice, por lo cuál podemos ver forma de campana, o concentración hacia la derecha o a la izquierda.\n",
    "\n",
    "### Centro\n",
    "\n",
    "Es el valor númerico de la media o mediana, que puede representarse de manera gráfica dentro de la figura. \n",
    "\n",
    "### Propagación\n",
    "\n",
    "Es el rango al que llegan nuestros datos, en este momento hablaremos de rango, cuartil, desviación estándar o varianza. \n",
    "\n",
    "### Valores atípicos\n",
    "\n",
    "Son los datos que estan lejos de la mayor parte de los datos, por lo cuál se consideran atipicos, siendo algo extraño. \n",
    "\n",
    "\n",
    "\n",
    "##### Remomorar\n",
    "\n",
    "* Cuantitativo Discreto: Valor númerico donde se toma un valor entero, ejemplo, número de vueltas de una moneda, número de hijos de una casa.\n",
    "\n",
    "* Cuantitativo Continuo: Valor númerico flotante, por ejemplo, peso de una persona, kilometros recorridos por un auto."
   ]
  },
  {
   "cell_type": "markdown",
   "id": "e7ec0050",
   "metadata": {},
   "source": [
    "#### Ejemplo Numeros Resumen\n",
    "\n",
    "+ Min\n",
    "+ 1mer Cuartil (25%) \n",
    "+ Media, aveces llamado (50%)\n",
    "+ 3cer Cuartil llamada (75%)\n",
    "+ Max\n",
    "+ IQ2 = Q3 - Q1. Normalmente cuando hay un sesgo hacia la derecha o izquierda, sería relevante hacer esta estimación para que sepamos en donde estan cayendo los datos.\n",
    "\n",
    "La desviación estándar analiza qué tan lejos están los valores de la media. \n"
   ]
  },
  {
   "cell_type": "markdown",
   "id": "6fa67629",
   "metadata": {},
   "source": [
    "### Distribuciones \n",
    "\n",
    "De manera gráfica podremos ver cuál es la distribución de nusetras variables.\n",
    "\n",
    "+ Campana: En un estudio que se verifica la cantidad de sueño que tienen los estudiantes universitarios se observo que dormian cerca de 8 horas siendo nuestra media o también llamado promedio, para ello se definio que tenia una desviación estandar de 1.7, así, si quisieramos conocer un un z-score (punto de desviación de estandar de un objeto) la calculariamos de la siguiente manera: punto u observación - media bien llamada promedio dividido por la desviación estandar. "
   ]
  }
 ],
 "metadata": {
  "kernelspec": {
   "display_name": "Python 3 (ipykernel)",
   "language": "python",
   "name": "python3"
  },
  "language_info": {
   "codemirror_mode": {
    "name": "ipython",
    "version": 3
   },
   "file_extension": ".py",
   "mimetype": "text/x-python",
   "name": "python",
   "nbconvert_exporter": "python",
   "pygments_lexer": "ipython3",
   "version": "3.9.7"
  }
 },
 "nbformat": 4,
 "nbformat_minor": 5
}
