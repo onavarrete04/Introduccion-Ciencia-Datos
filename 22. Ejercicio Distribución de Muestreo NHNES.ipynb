{
 "cells": [
  {
   "cell_type": "markdown",
   "id": "156030f1",
   "metadata": {},
   "source": [
    "# Distribuciones muestrales\n",
    "\n",
    "En este cuaderno utilizaremos los datos de la NHANES para explorar las distribuciones muestrales de la estadística. Este es un tema algo más conceptual que el que hemos encontrado antes al trabajar con los datos de la NHANES. Algunas de las ilustraciones que se tratan a continuación no son cosas que se harían típicamente en un análisis de datos, sino que pretenden aclarar algunos conceptos importantes sobre los métodos estadísticos. Sin embargo, incluso estos métodos tienen sus usos en la práctica, por ejemplo, los enfoques demostrados a continuación pueden utilizarse para demostrar cómo se comporta una estadística en un entorno \"no estándar\", o para evaluar cuántos datos se necesitan para responder a una pregunta con confianza.\n",
    "\n"
   ]
  },
  {
   "cell_type": "code",
   "execution_count": 20,
   "id": "574285ef",
   "metadata": {},
   "outputs": [],
   "source": [
    "%matplotlib inline\n",
    "import matplotlib.pyplot as plt\n",
    "import seaborn as sns\n",
    "import pandas as pd\n",
    "import numpy as np"
   ]
  },
  {
   "cell_type": "code",
   "execution_count": 3,
   "id": "cb192dfd",
   "metadata": {},
   "outputs": [],
   "source": [
    "df = pd.read_csv(\"nhanes_2015_2016.csv\")"
   ]
  },
  {
   "cell_type": "markdown",
   "id": "72a254be",
   "metadata": {},
   "source": [
    "# Distribución muestral de la media\n",
    "Las distribuciones de muestreo describen cómo varía el valor de una estadística calculada a partir de datos cuando se obtienen muestras repetidas de datos. Esto puede explorarse matemáticamente o utilizando un ordenador para simular datos repetidos de una población hipotética. Cuando se trabaja con datos no simulados (es decir, de un estudio como la NHANES), normalmente no tenemos la capacidad de obtener explícitamente una \"copia independiente\" de la muestra para \"ver\" realmente su distribución muestral. Sin embargo, podemos hacer una \"submuestra\" de un conjunto de datos para imitar lo que ocurriría si tomáramos una muestra repetida de la población que la produjo. Una submuestra es una muestra aleatoria extraída de un conjunto de datos mayor, que contiene sólo una fracción de sus observaciones.\n",
    "\n",
    "En la celda del cuaderno que aparece a continuación, submuestreamos repetidamente dos subconjuntos disjuntos de tamaño 100 de los datos de la NHANES, calculamos la media de la presión arterial sistólica dentro de cada uno de estos dos subconjuntos y, a continuación, calculamos la diferencia entre estas dos medias. Esta diferencia refleja la \"variación fortuita\" que se habría observado si el proyecto NHANES sólo hubiera contado con los recursos necesarios para muestrear a 100 participantes para su estudio. Al muestrear dos subconjuntos de tamaño 100 y comparar las medias calculadas resultantes, podemos ver cómo los hallazgos de dos investigadores que estudian independientemente la misma población podrían diferir entre sí por azar.\n",
    "\n",
    "El proceso de submuestreo descrito anteriormente se repite 1.000 veces, por lo que podemos ver cómo dos muestras de tamaño 100 de la población de la NHANES tienden a diferir en términos de su presión arterial sistólica media.\n",
    "\n"
   ]
  },
  {
   "cell_type": "code",
   "execution_count": 6,
   "id": "76aa518f",
   "metadata": {},
   "outputs": [],
   "source": [
    "m = 100 # tamaño de la muestra\n",
    "sbp = [] #Almacenamiento de las diferencias medias de nuestras submuestras\n",
    "\n",
    "for i in range(1000):\n",
    "    dx = df.sample(2*m) # se requieren dos submuestras (2*m)\n",
    "    dx1 = dx.iloc[0:m, :] # Primeras submuestra\n",
    "    dx2 = dx.iloc[m:, :] # segunda submuestra\n",
    "    sbp.append(dx1.BPXSY1.mean() - dx2.BPXSY1.mean()) # diferencia de valores de media de BPXSY1\n",
    "    "
   ]
  },
  {
   "cell_type": "code",
   "execution_count": 11,
   "id": "e779402b",
   "metadata": {},
   "outputs": [
    {
     "data": {
      "text/plain": [
       "<AxesSubplot:ylabel='Count'>"
      ]
     },
     "execution_count": 11,
     "metadata": {},
     "output_type": "execute_result"
    },
    {
     "data": {
      "image/png": "[encoded data removed]",
      "text/plain": [
       "<Figure size 432x288 with 1 Axes>"
      ]
     },
     "metadata": {
      "needs_background": "light"
     },
     "output_type": "display_data"
    }
   ],
   "source": [
    "sns.histplot(x=sbp, kde=True)"
   ]
  },
  {
   "cell_type": "markdown",
   "id": "ec9541e6",
   "metadata": {},
   "source": [
    "Observamos el histograma de las 1000 diferencias medias generadas anteriormente. Vemos que suelen estar entre 5 negativo y 5 positivo. Esto significa que dos investigadores que estudian de forma independiente la presión arterial en la misma población pueden obtener por casualidad resultados que difieren en unas 5 unidades, pero es bastante improbable que obtengan resultados que difieran por casualidad en más de 10 unidades.\n",
    "\n"
   ]
  },
  {
   "cell_type": "code",
   "execution_count": 13,
   "id": "471443e2",
   "metadata": {},
   "outputs": [
    {
     "data": {
      "text/plain": [
       "count    1000.000000\n",
       "mean       -0.000696\n",
       "std         2.698640\n",
       "min        -8.763983\n",
       "25%        -1.779108\n",
       "50%        -0.031035\n",
       "75%         1.914611\n",
       "max         8.461431\n",
       "dtype: float64"
      ]
     },
     "execution_count": 13,
     "metadata": {},
     "output_type": "execute_result"
    }
   ],
   "source": [
    "pd.Series(sbp).describe()"
   ]
  },
  {
   "cell_type": "markdown",
   "id": "669e19b7",
   "metadata": {},
   "source": [
    "Los resultados mostrados anteriormente indican que la media de la presión arterial sistólica calculada para dos muestras, cada una de ellas con 100 personas, suele diferir en unos 2,8 mm/Hg (la desviación estándar), y rara vez difiere en más de 5 mm/Hg.\n",
    "\n",
    "El tamaño de la muestra es un factor determinante de las fluctuaciones del azar en cualquier estadística. Arriba utilizamos muestras de tamaño 100, abajo realizamos el mismo análisis utilizando muestras de tamaño 400."
   ]
  },
  {
   "cell_type": "code",
   "execution_count": 14,
   "id": "87ad2c58",
   "metadata": {},
   "outputs": [
    {
     "data": {
      "text/plain": [
       "count    1000.000000\n",
       "mean        0.050219\n",
       "std         1.339600\n",
       "min        -3.846154\n",
       "25%        -0.800802\n",
       "50%         0.032231\n",
       "75%         0.935521\n",
       "max         4.062135\n",
       "dtype: float64"
      ]
     },
     "execution_count": 14,
     "metadata": {},
     "output_type": "execute_result"
    },
    {
     "data": {
      "image/png": "[encoded data removed]",
      "text/plain": [
       "<Figure size 432x288 with 1 Axes>"
      ]
     },
     "metadata": {
      "needs_background": "light"
     },
     "output_type": "display_data"
    }
   ],
   "source": [
    "m = 400 # tamaño muestra\n",
    "sbp = []\n",
    "\n",
    "for i in range(1000):\n",
    "    dx = df.sample(2*m)\n",
    "    dx1 = dx.iloc[0:m,:]\n",
    "    dx2 = dx.iloc[m:, :]\n",
    "    sbp.append(dx1.BPXSY1.mean()-dx2.BPXSY1.mean())\n",
    "\n",
    "sns.histplot(sbp, kde=True)\n",
    "pd.Series(sbp).describe()"
   ]
  },
  {
   "cell_type": "markdown",
   "id": "5bbf3815",
   "metadata": {},
   "source": [
    "Vemos que con muestras de tamaño 400, la desviación estándar es de alrededor de 1,38, que es casi la mitad de lo que era cuando utilizábamos muestras de tamaño 100. La menor desviación estándar indica que las fluctuaciones fortuitas de la presión arterial sistólica media son menores cuando tenemos un tamaño de muestra mayor. Esto implica que somos capaces de estimar la presión arterial sistólica media de la población con más precisión cuando tenemos muestras de tamaño 400 en comparación con cuando tenemos muestras de tamaño 100.\n",
    "\n",
    "Es importante destacar que el aumento del tamaño de la muestra en un factor de 4 (de 100 a 400) condujo a una reducción de la desviación estándar en un factor de 2. Este comportamiento de escala es muy común en estadística: el aumento del tamaño de la muestra en un factor de K conduce a una reducción de la desviación estándar en un factor de sqrt(K). Así, para un aumento del factor 4 en el tamaño de la muestra, vemos una reducción del factor 2 en la desviación estándar. Del mismo modo, para un aumento del factor 9 en el tamaño de la muestra, normalmente veremos una reducción del factor 3 en la desviación estándar."
   ]
  },
  {
   "cell_type": "markdown",
   "id": "e15d6c47",
   "metadata": {},
   "source": [
    "# Distribución muestral del coeficiente de correlación\n",
    "Como se ha comentado en las clases, muchos estadísticos más complejos que la media muestral se comportan de forma similar a la media en cuanto a su comportamiento muestral. A continuación, modificamos el análisis de submuestreo anterior para considerar el coeficiente de correlación de Pearson entre la presión arterial sistólica y la diastólica. Obsérvese que la desviación estándar sigue disminuyendo en aproximadamente un factor de 2 cuando el tamaño de la muestra se multiplica por cuatro (de 100 a 400).\n",
    "\n",
    "Este breve programa de Python utiliza bucles for anidados. El bucle exterior gestiona el tamaño de la muestra, y el bucle interior obtiene 1000 submuestras con un tamaño de muestra determinado, calcula los coeficientes de correlación de dos submuestras y registra su diferencia."
   ]
  },
  {
   "cell_type": "code",
   "execution_count": 21,
   "id": "ac5c312d",
   "metadata": {},
   "outputs": [
    {
     "name": "stdout",
     "output_type": "stream",
     "text": [
      "m=100 0.12402975508979215 0.1414213562373095\n",
      "m=400 0.06366966761925218 0.07071067811865475\n"
     ]
    }
   ],
   "source": [
    "for m in 100, 400: # m = tamaño de las submuestras (100 y 400)\n",
    "    sbp = [] #guarda la relación de coeficientes de diferentes muestras\n",
    "    for i in range(1000):\n",
    "        dx = df.sample(2*m)\n",
    "        dx1 = dx.iloc[0:m, :]\n",
    "        dx2 = dx.iloc[m: , :]\n",
    "        r1 = np.corrcoef(dx1.loc[:,[\"BPXSY1\",\"BPXDI1\"]].dropna().T)\n",
    "        r2 = np.corrcoef(dx2.loc[:,[\"BPXSY1\",\"BPXDI1\"]].dropna().T)\n",
    "        sbp.append(r1-r2)\n",
    "    print(\"m=%d\"%m, np.std(sbp), np.sqrt(2/m))"
   ]
  },
  {
   "cell_type": "markdown",
   "id": "3fe08832",
   "metadata": {},
   "source": [
    "La simulación anterior muestra que cuando el tamaño de la submuestra aumenta de 100 a 400 (un factor de 4), la desviación estándar de la diferencia entre dos coeficientes de correlación disminuye aproximadamente en un factor de 2. La expresión matemática sqrt(2 / m) es una aproximación a esta desviación estándar que puede calcularse sin acceso a ningún dato."
   ]
  },
  {
   "cell_type": "markdown",
   "id": "40a6fcb0",
   "metadata": {},
   "source": [
    "## Forma Distribuciones de Muestreo"
   ]
  },
  {
   "cell_type": "markdown",
   "id": "05f32014",
   "metadata": {},
   "source": [
    "Antes nos hemos centrado en la magnitud de la diferencia entre una estadística calculada sobre dos muestras independientes de una población. En cambio, aquí nos centramos en la forma de la distribución de los estadísticos calculados sobre submuestras. Como se ha comentado en las clases, el teorema del límite central implica que muchos (pero no todos) los estadísticos tienen distribuciones muestrales aproximadamente normales, aunque los datos subyacentes no se acerquen a una distribución normal.\n",
    "\n",
    "Ilustraremos este fenómeno utilizando los datos de la presión arterial sistólica del estudio NHANES. En primer lugar, utilizaremos un histograma para observar la distribución de los valores individuales de la presión arterial sistólica. Obsérvese que está algo sesgada hacia la derecha."
   ]
  },
  {
   "cell_type": "code",
   "execution_count": 22,
   "id": "a667c7ca",
   "metadata": {},
   "outputs": [
    {
     "data": {
      "text/plain": [
       "<AxesSubplot:xlabel='BPXSY1', ylabel='Count'>"
      ]
     },
     "execution_count": 22,
     "metadata": {},
     "output_type": "execute_result"
    },
    {
     "data": {
      "image/png": "[encoded data removed]",
      "text/plain": [
       "<Figure size 432x288 with 1 Axes>"
      ]
     },
     "metadata": {
      "needs_background": "light"
     },
     "output_type": "display_data"
    }
   ],
   "source": [
    "sns.histplot(x=df.BPXSY1.dropna(), kde = True)"
   ]
  },
  {
   "cell_type": "markdown",
   "id": "9fe9e7e0",
   "metadata": {},
   "source": [
    "A continuación, calculamos 1000 medias muestrales de 1000 submuestras de tamaño 50 e inspeccionamos su distribución."
   ]
  },
  {
   "cell_type": "code",
   "execution_count": 33,
   "id": "b423f3e6",
   "metadata": {},
   "outputs": [
    {
     "name": "stderr",
     "output_type": "stream",
     "text": [
      "/home/oscar/anaconda3/lib/python3.9/site-packages/seaborn/distributions.py:2619: FutureWarning: `distplot` is a deprecated function and will be removed in a future version. Please adapt your code to use either `displot` (a figure-level function with similar flexibility) or `histplot` (an axes-level function for histograms).\n",
      "  warnings.warn(msg, FutureWarning)\n"
     ]
    },
    {
     "data": {
      "text/plain": [
       "[<matplotlib.lines.Line2D at 0x7f65c9b0adf0>]"
      ]
     },
     "execution_count": 33,
     "metadata": {},
     "output_type": "execute_result"
    },
    {
     "data": {
      "image/png": "[encoded data removed]",
      "text/plain": [
       "<Figure size 432x288 with 1 Axes>"
      ]
     },
     "metadata": {
      "needs_background": "light"
     },
     "output_type": "display_data"
    }
   ],
   "source": [
    "m = 50\n",
    "sbp = []\n",
    "for i in range(1000):\n",
    "    dx = df.sample(m)\n",
    "    sbp.append(dx.BPXSY1.dropna().mean())\n",
    "sns.distplot(x=sbp, kde=True)\n",
    "# Las líneas siguientes trazan la densidad de una aproximación normal a los datos generados anteriormente\n",
    "x = np.linspace(np.min(sbp), np.max(sbp),100)\n",
    "from scipy.stats.distributions import norm\n",
    "y = norm.pdf(x, np.mean(sbp), np.std(sbp))\n",
    "plt.plot(x,y,color=\"orange\")"
   ]
  },
  {
   "cell_type": "markdown",
   "id": "288545ed",
   "metadata": {},
   "source": [
    "Los gráficos anteriores muestran que, si bien la distribución de las medidas individuales de presión arterial sistólica está algo sesgada hacia la derecha, la distribución de las medias del tamaño 50 es aproximadamente simétrica. La distribución de las medias también es aproximadamente normal, como muestra la curva naranja, que es la aproximación normal que mejor se ajusta a los datos."
   ]
  },
  {
   "cell_type": "code",
   "execution_count": 34,
   "id": "d1503316",
   "metadata": {},
   "outputs": [
    {
     "name": "stdout",
     "output_type": "stream",
     "text": [
      "[100.09299998647415, 100.71877584655846, 99.5808198230117]\n"
     ]
    }
   ],
   "source": [
    "import random\n",
    "random.seed(123)\n",
    "mu = 100\n",
    "sigma = 1\n",
    "random.normalvariate(mu,sigma)\n",
    "m = [random.normalvariate(mu,sigma) for i in range(3)]\n",
    "print(m)"
   ]
  },
  {
   "cell_type": "code",
   "execution_count": null,
   "id": "1f060e40",
   "metadata": {},
   "outputs": [],
   "source": [
    "import numpy as np\n",
    "np.random.seed(123)\n",
    "\n",
    "p = [i for i in range(1,101)]\n",
    "m = np.random.choice(p,10)\n",
    "print(m)\n"
   ]
  }
 ],
 "metadata": {
  "kernelspec": {
   "display_name": "Python 3 (ipykernel)",
   "language": "python",
   "name": "python3"
  },
  "language_info": {
   "codemirror_mode": {
    "name": "ipython",
    "version": 3
   },
   "file_extension": ".py",
   "mimetype": "text/x-python",
   "name": "python",
   "nbconvert_exporter": "python",
   "pygments_lexer": "ipython3",
   "version": "3.9.7"
  }
 },
 "nbformat": 4,
 "nbformat_minor": 5
}
