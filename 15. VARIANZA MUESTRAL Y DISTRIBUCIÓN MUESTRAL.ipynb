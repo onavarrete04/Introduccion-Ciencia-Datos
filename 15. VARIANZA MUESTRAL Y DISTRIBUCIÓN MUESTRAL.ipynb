{
 "cells": [
  {
   "cell_type": "markdown",
   "id": "57cd8c1d",
   "metadata": {},
   "source": [
    "# Distribución de Muestreo\n",
    "\n",
    "+ Recordemos: Cuando seleccionamos muestras de probabilidad es para hacer inferencias sobre una población más grande. Estas declaraciones starán basadas en la distribución de muestreo.\n",
    "\n",
    "Una distribución **muestral** es diferente a una distribución de valores de una variable, la distribución de **muestra** es la distribución de estimaciones de las encuestas que veriamos.\n",
    "\n",
    "Una propiedad clave de distribución de muestreo es que describe lo que veriamos si tuvieramos el lujo de dibujasr miles de muestras probabilísticas utilizando el mismo diseño y midiendo las unidadades en cada uno de ellos, y luego calculando una estimación basada en todas las medidas que recogemos. \n",
    "\n",
    "Normalmente, esta distribución es muy diferente en apariencia a una distribución de valores de una variable de interés.\n",
    "\n",
    "Entre mayor sea el tamaño de la muestra cuando seleccionamos  una muestra de probabilidad, esta se verá como una distribución normal independientemente de la estimación que estamos calculando. \n",
    "\n",
    "\n",
    "# Varianza de Muestreo\n",
    "\n",
    "Es la variabilidad de las estimaciones que estan descritas por la distribución de muestreo.\n",
    "\n",
    "\n",
    "# Error de muestreo\n",
    "\n",
    "Por el hecho de que no medidmos a todos en una población dada y solo se mide una muestra de unidades en esa población, la estimación basada en esa muestra no será exactamente igual al valor de la poblacion, solo queremos que nuestras estimaciones a través de estas hipotéticas muestras repetidas sean iguales a esa cantidad de población en promedio. Es decir, que el promedio de todas esas estimaciones será igual a esa población cantidad, y eso significará que tenemos inferencias imparciales.\n",
    "\n",
    "La variabilidad de los errores de muestreo describen la varianza de la distribución de muestreo, si se viera toda la distribución de estimaciones de la muestra, y cuanto rebotara al rededor del verdadero valor de la población que estamos tratando de estimar, a eso es lo que se le denomina como varianza de muestreo.  \n",
    "\n",
    "Con un tamaño de muestra de probabilidad mayor, en teoria deberia haber menos errores de muestreo, y los errores de muestreo serán menos variables, esto es porque entre más nos acerquemos a medir la población total de muestreo, menor error vamos a tener al respecto, esto es un elemento crítico al momento de hacer inferencias para la población, entre más tamaño en muestra probabilistica, menor es la varianza de muestreo. \n",
    "\n",
    "Ahora, la propagación de la distribución de muestreo, de todas las estimaciones hipoteticas que se podrían calcular, esta se hace más pequeña a medida que el tamaño de la muestar se hace más grande, lo que significa que nuestras estimaciones son menos variables.  "
   ]
  },
  {
   "cell_type": "markdown",
   "id": "f902900a",
   "metadata": {},
   "source": [
    "# ¿Por qué es importante la varianza de muestreo?\n",
    "\n",
    "En la práctica solo tenemos recursos para seleccionar una muestra, y las característica de este diseño, podremos hacer inferencias sobre donde la mayoría de las estimaciones basadas en un diseño de muestra particular caeran y eso nos dirá algo de la población, por lo tanto podremos hacer declaraciones sobre valores probables de los parámetros problacionales que dan cuenta de los errores de muestreo que susrgen del muestreo aleatorio de probabilidad y también podremos hablar de lo variables que podrían ser nuestras estimaciones, es decir, cuanta incertidumbre habrá en la estimación que estamos tratando de calcular  "
   ]
  },
  {
   "cell_type": "code",
   "execution_count": null,
   "id": "cd82210a",
   "metadata": {},
   "outputs": [],
   "source": []
  }
 ],
 "metadata": {
  "kernelspec": {
   "display_name": "Python 3 (ipykernel)",
   "language": "python",
   "name": "python3"
  },
  "language_info": {
   "codemirror_mode": {
    "name": "ipython",
    "version": 3
   },
   "file_extension": ".py",
   "mimetype": "text/x-python",
   "name": "python",
   "nbconvert_exporter": "python",
   "pygments_lexer": "ipython3",
   "version": "3.9.7"
  }
 },
 "nbformat": 4,
 "nbformat_minor": 5
}
