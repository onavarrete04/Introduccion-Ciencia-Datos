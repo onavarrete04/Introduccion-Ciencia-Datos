{
 "cells": [
  {
   "cell_type": "code",
   "execution_count": 1,
   "id": "6d67ad27",
   "metadata": {},
   "outputs": [
    {
     "data": {
      "text/html": [
       "<div>\n",
       "<style scoped>\n",
       "    .dataframe tbody tr th:only-of-type {\n",
       "        vertical-align: middle;\n",
       "    }\n",
       "\n",
       "    .dataframe tbody tr th {\n",
       "        vertical-align: top;\n",
       "    }\n",
       "\n",
       "    .dataframe thead th {\n",
       "        text-align: right;\n",
       "    }\n",
       "</style>\n",
       "<table border=\"1\" class=\"dataframe\">\n",
       "  <thead>\n",
       "    <tr style=\"text-align: right;\">\n",
       "      <th></th>\n",
       "      <th>Día</th>\n",
       "      <th>Mes</th>\n",
       "      <th>Año</th>\n",
       "      <th>Departamento</th>\n",
       "      <th>Municipio</th>\n",
       "      <th>Lugar de Ocurrencia</th>\n",
       "      <th>Modalidad</th>\n",
       "      <th>Motivo Argumentado</th>\n",
       "      <th>Autor Presunto</th>\n",
       "      <th>Autor Confirmado</th>\n",
       "      <th>Exigencia</th>\n",
       "      <th>Tipo de Desenlace</th>\n",
       "      <th>Primera Fuente</th>\n",
       "    </tr>\n",
       "  </thead>\n",
       "  <tbody>\n",
       "    <tr>\n",
       "      <th>0</th>\n",
       "      <td>7</td>\n",
       "      <td>2</td>\n",
       "      <td>1970</td>\n",
       "      <td>MAGDALENA</td>\n",
       "      <td>SANTA MARTA</td>\n",
       "      <td>Cabecera</td>\n",
       "      <td>Sobre una persona específica</td>\n",
       "      <td>Secuestro Económico</td>\n",
       "      <td>Delincuencia Común</td>\n",
       "      <td>.</td>\n",
       "      <td>Dinero</td>\n",
       "      <td>Liberado Tras Pago</td>\n",
       "      <td>Prensa</td>\n",
       "    </tr>\n",
       "    <tr>\n",
       "      <th>1</th>\n",
       "      <td>31</td>\n",
       "      <td>3</td>\n",
       "      <td>1970</td>\n",
       "      <td>META</td>\n",
       "      <td>VILLAVICENCIO</td>\n",
       "      <td>Cabecera</td>\n",
       "      <td>Sobre una persona específica</td>\n",
       "      <td>Secuestro Económico</td>\n",
       "      <td>Delincuencia Común</td>\n",
       "      <td>.</td>\n",
       "      <td>NaN</td>\n",
       "      <td>Liberado Tras Pago</td>\n",
       "      <td>Prensa</td>\n",
       "    </tr>\n",
       "    <tr>\n",
       "      <th>2</th>\n",
       "      <td>20</td>\n",
       "      <td>5</td>\n",
       "      <td>1970</td>\n",
       "      <td>CASANARE</td>\n",
       "      <td>YOPAL</td>\n",
       "      <td>NaN</td>\n",
       "      <td>NaN</td>\n",
       "      <td>NaN</td>\n",
       "      <td>.</td>\n",
       "      <td>.</td>\n",
       "      <td>NaN</td>\n",
       "      <td>NaN</td>\n",
       "      <td>Entrevistas</td>\n",
       "    </tr>\n",
       "    <tr>\n",
       "      <th>3</th>\n",
       "      <td>9</td>\n",
       "      <td>6</td>\n",
       "      <td>1970</td>\n",
       "      <td>CALDAS</td>\n",
       "      <td>MANIZALES</td>\n",
       "      <td>Resto</td>\n",
       "      <td>Sobre una persona específica</td>\n",
       "      <td>Secuestro Económico</td>\n",
       "      <td>Guerrilla-ELN</td>\n",
       "      <td>Guerrilla-ELN</td>\n",
       "      <td>Dinero</td>\n",
       "      <td>Liberado Tras Pago</td>\n",
       "      <td>Publicaciones</td>\n",
       "    </tr>\n",
       "    <tr>\n",
       "      <th>4</th>\n",
       "      <td>23</td>\n",
       "      <td>3</td>\n",
       "      <td>1971</td>\n",
       "      <td>QUINDIO</td>\n",
       "      <td>MONTENEGRO</td>\n",
       "      <td>Resto</td>\n",
       "      <td>Emboscada</td>\n",
       "      <td>Secuestro Económico</td>\n",
       "      <td>Otros</td>\n",
       "      <td>Otros</td>\n",
       "      <td>Dinero</td>\n",
       "      <td>Asesinado en Cautiverio</td>\n",
       "      <td>Sentencias</td>\n",
       "    </tr>\n",
       "    <tr>\n",
       "      <th>...</th>\n",
       "      <td>...</td>\n",
       "      <td>...</td>\n",
       "      <td>...</td>\n",
       "      <td>...</td>\n",
       "      <td>...</td>\n",
       "      <td>...</td>\n",
       "      <td>...</td>\n",
       "      <td>...</td>\n",
       "      <td>...</td>\n",
       "      <td>...</td>\n",
       "      <td>...</td>\n",
       "      <td>...</td>\n",
       "      <td>...</td>\n",
       "    </tr>\n",
       "    <tr>\n",
       "      <th>39053</th>\n",
       "      <td>30</td>\n",
       "      <td>12</td>\n",
       "      <td>2010</td>\n",
       "      <td>ANTIOQUIA</td>\n",
       "      <td>MEDELLIN</td>\n",
       "      <td>NaN</td>\n",
       "      <td>NaN</td>\n",
       "      <td>NaN</td>\n",
       "      <td>.</td>\n",
       "      <td>.</td>\n",
       "      <td>NaN</td>\n",
       "      <td>NaN</td>\n",
       "      <td>Fiscalía</td>\n",
       "    </tr>\n",
       "    <tr>\n",
       "      <th>39054</th>\n",
       "      <td>30</td>\n",
       "      <td>12</td>\n",
       "      <td>2010</td>\n",
       "      <td>CORDOBA</td>\n",
       "      <td>MONTELIBANO</td>\n",
       "      <td>NaN</td>\n",
       "      <td>NaN</td>\n",
       "      <td>NaN</td>\n",
       "      <td>BACRIM</td>\n",
       "      <td>.</td>\n",
       "      <td>NaN</td>\n",
       "      <td>NaN</td>\n",
       "      <td>Fiscalía</td>\n",
       "    </tr>\n",
       "    <tr>\n",
       "      <th>39055</th>\n",
       "      <td>30</td>\n",
       "      <td>12</td>\n",
       "      <td>2010</td>\n",
       "      <td>CORDOBA</td>\n",
       "      <td>MONTELIBANO</td>\n",
       "      <td>NaN</td>\n",
       "      <td>NaN</td>\n",
       "      <td>NaN</td>\n",
       "      <td>BACRIM</td>\n",
       "      <td>.</td>\n",
       "      <td>NaN</td>\n",
       "      <td>NaN</td>\n",
       "      <td>Fiscalía</td>\n",
       "    </tr>\n",
       "    <tr>\n",
       "      <th>39056</th>\n",
       "      <td>30</td>\n",
       "      <td>12</td>\n",
       "      <td>2010</td>\n",
       "      <td>CORDOBA</td>\n",
       "      <td>MONTERIA</td>\n",
       "      <td>NaN</td>\n",
       "      <td>NaN</td>\n",
       "      <td>NaN</td>\n",
       "      <td>.</td>\n",
       "      <td>.</td>\n",
       "      <td>NaN</td>\n",
       "      <td>NaN</td>\n",
       "      <td>Fiscalía</td>\n",
       "    </tr>\n",
       "    <tr>\n",
       "      <th>39057</th>\n",
       "      <td>31</td>\n",
       "      <td>12</td>\n",
       "      <td>2010</td>\n",
       "      <td>TOLIMA</td>\n",
       "      <td>IBAGUE</td>\n",
       "      <td>NaN</td>\n",
       "      <td>NaN</td>\n",
       "      <td>NaN</td>\n",
       "      <td>.</td>\n",
       "      <td>.</td>\n",
       "      <td>NaN</td>\n",
       "      <td>NaN</td>\n",
       "      <td>Fiscalía</td>\n",
       "    </tr>\n",
       "  </tbody>\n",
       "</table>\n",
       "<p>39058 rows × 13 columns</p>\n",
       "</div>"
      ],
      "text/plain": [
       "       Día  Mes    Año Departamento      Municipio Lugar de Ocurrencia  \\\n",
       "0        7     2  1970    MAGDALENA    SANTA MARTA            Cabecera   \n",
       "1       31     3  1970         META  VILLAVICENCIO            Cabecera   \n",
       "2       20     5  1970     CASANARE          YOPAL                 NaN   \n",
       "3        9     6  1970       CALDAS      MANIZALES               Resto   \n",
       "4       23     3  1971      QUINDIO     MONTENEGRO               Resto   \n",
       "...    ...   ...   ...          ...            ...                 ...   \n",
       "39053   30    12  2010    ANTIOQUIA       MEDELLIN                 NaN   \n",
       "39054   30    12  2010      CORDOBA    MONTELIBANO                 NaN   \n",
       "39055   30    12  2010      CORDOBA    MONTELIBANO                 NaN   \n",
       "39056   30    12  2010      CORDOBA       MONTERIA                 NaN   \n",
       "39057   31    12  2010       TOLIMA         IBAGUE                 NaN   \n",
       "\n",
       "                          Modalidad   Motivo Argumentado      Autor Presunto  \\\n",
       "0      Sobre una persona específica  Secuestro Económico  Delincuencia Común   \n",
       "1      Sobre una persona específica  Secuestro Económico  Delincuencia Común   \n",
       "2                               NaN                  NaN                   .   \n",
       "3      Sobre una persona específica  Secuestro Económico       Guerrilla-ELN   \n",
       "4                         Emboscada  Secuestro Económico               Otros   \n",
       "...                             ...                  ...                 ...   \n",
       "39053                           NaN                  NaN                   .   \n",
       "39054                           NaN                  NaN              BACRIM   \n",
       "39055                           NaN                  NaN              BACRIM   \n",
       "39056                           NaN                  NaN                   .   \n",
       "39057                           NaN                  NaN                   .   \n",
       "\n",
       "      Autor Confirmado Exigencia        Tipo de Desenlace Primera Fuente  \n",
       "0                    .    Dinero       Liberado Tras Pago         Prensa  \n",
       "1                    .       NaN       Liberado Tras Pago         Prensa  \n",
       "2                    .       NaN                      NaN    Entrevistas  \n",
       "3        Guerrilla-ELN    Dinero       Liberado Tras Pago  Publicaciones  \n",
       "4                Otros    Dinero  Asesinado en Cautiverio     Sentencias  \n",
       "...                ...       ...                      ...            ...  \n",
       "39053                .       NaN                      NaN       Fiscalía  \n",
       "39054                .       NaN                      NaN       Fiscalía  \n",
       "39055                .       NaN                      NaN       Fiscalía  \n",
       "39056                .       NaN                      NaN       Fiscalía  \n",
       "39057                .       NaN                      NaN       Fiscalía  \n",
       "\n",
       "[39058 rows x 13 columns]"
      ]
     },
     "execution_count": 1,
     "metadata": {},
     "output_type": "execute_result"
    }
   ],
   "source": [
    "import pandas as pd\n",
    "import datetime\n",
    "\n",
    "datos = pd.read_csv(\"SecuestrosColombia1970-2010.csv\")\n",
    "datos"
   ]
  },
  {
   "cell_type": "code",
   "execution_count": 2,
   "id": "2a1b4ce6",
   "metadata": {},
   "outputs": [
    {
     "data": {
      "text/plain": [
       "Día                     int64\n",
       "Mes                     int64\n",
       "Año                     int64\n",
       "Departamento           object\n",
       "Municipio              object\n",
       "Lugar de Ocurrencia    object\n",
       "Modalidad              object\n",
       "Motivo Argumentado     object\n",
       "Autor Presunto         object\n",
       "Autor Confirmado       object\n",
       "Exigencia              object\n",
       "Tipo de Desenlace      object\n",
       "Primera Fuente         object\n",
       "dtype: object"
      ]
     },
     "execution_count": 2,
     "metadata": {},
     "output_type": "execute_result"
    }
   ],
   "source": [
    "datos.dtypes"
   ]
  },
  {
   "cell_type": "code",
   "execution_count": 3,
   "id": "4367f3c5",
   "metadata": {},
   "outputs": [
    {
     "data": {
      "text/plain": [
       "(39058, 13)"
      ]
     },
     "execution_count": 3,
     "metadata": {},
     "output_type": "execute_result"
    }
   ],
   "source": [
    "datos.shape"
   ]
  },
  {
   "cell_type": "code",
   "execution_count": 4,
   "id": "1316eb51",
   "metadata": {},
   "outputs": [
    {
     "data": {
      "text/plain": [
       "Día                        0\n",
       "Mes                        0\n",
       "Año                        0\n",
       "Departamento            1781\n",
       "Municipio               1819\n",
       "Lugar de Ocurrencia     8772\n",
       "Modalidad               6318\n",
       "Motivo Argumentado     20094\n",
       "Autor Presunto             0\n",
       "Autor Confirmado          57\n",
       "Exigencia              21804\n",
       "Tipo de Desenlace      10449\n",
       "Primera Fuente            43\n",
       "dtype: int64"
      ]
     },
     "execution_count": 4,
     "metadata": {},
     "output_type": "execute_result"
    }
   ],
   "source": [
    "datos.isnull().sum()"
   ]
  },
  {
   "cell_type": "code",
   "execution_count": 5,
   "id": "3aca1407",
   "metadata": {},
   "outputs": [],
   "source": [
    "# Eliminar las columnas\n",
    "datos = datos.drop([\"Lugar de Ocurrencia\", \"Motivo Argumentado\", \"Exigencia\", \"Tipo de Desenlace\"], axis=1)\n",
    "\n",
    "# se eliminan estas listas por la gran cantidad de datos faltantes, por ejemplo, en motivo argumentado falta\n",
    "# más del 50% de los datos."
   ]
  },
  {
   "cell_type": "code",
   "execution_count": 6,
   "id": "2fcb0ecc",
   "metadata": {},
   "outputs": [
    {
     "data": {
      "text/plain": [
       "Día                    0\n",
       "Mes                    0\n",
       "Año                    0\n",
       "Departamento        1781\n",
       "Municipio           1819\n",
       "Modalidad           6318\n",
       "Autor Presunto         0\n",
       "Autor Confirmado      57\n",
       "Primera Fuente        43\n",
       "dtype: int64"
      ]
     },
     "execution_count": 6,
     "metadata": {},
     "output_type": "execute_result"
    }
   ],
   "source": [
    "datos.isnull().sum()"
   ]
  },
  {
   "cell_type": "code",
   "execution_count": 7,
   "id": "ae4a622b",
   "metadata": {},
   "outputs": [
    {
     "data": {
      "text/plain": [
       "array(['MAGDALENA', 'META', 'CASANARE', 'CALDAS', 'QUINDIO', 'SANTANDER',\n",
       "       'BOGOTA D. C.', nan, 'TOLIMA', 'VALLE DEL CAUCA', 'ANTIOQUIA',\n",
       "       'BOYACA', 'CAUCA', 'BOLIVAR', 'NARINO', 'CESAR', 'CORDOBA',\n",
       "       'CUNDINAMARCA', 'HUILA', 'RISARALDA', 'LA GUAJIRA',\n",
       "       'N. DE SANTANDER', 'CAQUETA', 'ATLANTICO', 'PUTUMAYO', 'VAUPES',\n",
       "       'ARAUCA', 'GUAVIARE', 'SUCRE', 'VICHADA', 'CHOCO', ' ', 'GUAINIA',\n",
       "       'AMAZONAS', 'SAN ANDRES'], dtype=object)"
      ]
     },
     "execution_count": 7,
     "metadata": {},
     "output_type": "execute_result"
    }
   ],
   "source": [
    "#verificando la repetición de datos\n",
    "\n",
    "datos.Departamento.unique()"
   ]
  },
  {
   "cell_type": "code",
   "execution_count": 8,
   "id": "9117011a",
   "metadata": {},
   "outputs": [
    {
     "data": {
      "text/plain": [
       "dtype('O')"
      ]
     },
     "execution_count": 8,
     "metadata": {},
     "output_type": "execute_result"
    }
   ],
   "source": [
    "datos[\"Fecha\"] = datos[\"Día\"].astype(str) + \"/\" + datos[\"Mes \"].astype(str) + \"/\" + datos[\"Año\"].astype(str)\n",
    "datos[\"Fecha\"].dtype"
   ]
  },
  {
   "cell_type": "code",
   "execution_count": 9,
   "id": "ab244581",
   "metadata": {},
   "outputs": [
    {
     "data": {
      "text/plain": [
       "dtype('<M8[ns]')"
      ]
     },
     "execution_count": 9,
     "metadata": {},
     "output_type": "execute_result"
    }
   ],
   "source": [
    "# dandole formate datetime \n",
    "\n",
    "datos[\"Fecha\"]= pd.to_datetime(datos[\"Fecha\"], format=\"%d/%m/%Y\")\n",
    "datos.Fecha.dtype"
   ]
  },
  {
   "cell_type": "code",
   "execution_count": 10,
   "id": "856ab969",
   "metadata": {},
   "outputs": [
    {
     "data": {
      "text/plain": [
       "Día                    0\n",
       "Mes                    0\n",
       "Año                    0\n",
       "Departamento        1781\n",
       "Municipio           1819\n",
       "Modalidad           6318\n",
       "Autor Presunto         0\n",
       "Autor Confirmado      57\n",
       "Primera Fuente        43\n",
       "Fecha                  0\n",
       "dtype: int64"
      ]
     },
     "execution_count": 10,
     "metadata": {},
     "output_type": "execute_result"
    }
   ],
   "source": [
    "datos.isnull().sum()"
   ]
  },
  {
   "cell_type": "code",
   "execution_count": 15,
   "id": "5f46fe06",
   "metadata": {},
   "outputs": [
    {
     "data": {
      "text/plain": [
       "12       False\n",
       "15       False\n",
       "20       False\n",
       "147      False\n",
       "150      False\n",
       "         ...  \n",
       "38297    False\n",
       "38302    False\n",
       "38492     True\n",
       "38714     True\n",
       "38848     True\n",
       "Name: Departamento, Length: 1819, dtype: bool"
      ]
     },
     "execution_count": 15,
     "metadata": {},
     "output_type": "execute_result"
    }
   ],
   "source": [
    "b = datos.loc[datos.Municipio.isnull(), [\"Departamento\",\"Municipio\"]]\n",
    "b.Departamento.notnull()"
   ]
  },
  {
   "cell_type": "code",
   "execution_count": null,
   "id": "70f3183d",
   "metadata": {},
   "outputs": [],
   "source": []
  }
 ],
 "metadata": {
  "kernelspec": {
   "display_name": "Python 3 (ipykernel)",
   "language": "python",
   "name": "python3"
  },
  "language_info": {
   "codemirror_mode": {
    "name": "ipython",
    "version": 3
   },
   "file_extension": ".py",
   "mimetype": "text/x-python",
   "name": "python",
   "nbconvert_exporter": "python",
   "pygments_lexer": "ipython3",
   "version": "3.9.13"
  }
 },
 "nbformat": 4,
 "nbformat_minor": 5
}
