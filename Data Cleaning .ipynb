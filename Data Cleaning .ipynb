{
 "cells": [
  {
   "cell_type": "code",
   "execution_count": 1,
   "id": "6d67ad27",
   "metadata": {},
   "outputs": [
    {
     "data": {
      "text/html": [
       "<div>\n",
       "<style scoped>\n",
       "    .dataframe tbody tr th:only-of-type {\n",
       "        vertical-align: middle;\n",
       "    }\n",
       "\n",
       "    .dataframe tbody tr th {\n",
       "        vertical-align: top;\n",
       "    }\n",
       "\n",
       "    .dataframe thead th {\n",
       "        text-align: right;\n",
       "    }\n",
       "</style>\n",
       "<table border=\"1\" class=\"dataframe\">\n",
       "  <thead>\n",
       "    <tr style=\"text-align: right;\">\n",
       "      <th></th>\n",
       "      <th>Día</th>\n",
       "      <th>Mes</th>\n",
       "      <th>Año</th>\n",
       "      <th>Departamento</th>\n",
       "      <th>Municipio</th>\n",
       "      <th>Lugar de Ocurrencia</th>\n",
       "      <th>Modalidad</th>\n",
       "      <th>Motivo Argumentado</th>\n",
       "      <th>Autor Presunto</th>\n",
       "      <th>Autor Confirmado</th>\n",
       "      <th>Exigencia</th>\n",
       "      <th>Tipo de Desenlace</th>\n",
       "      <th>Primera Fuente</th>\n",
       "    </tr>\n",
       "  </thead>\n",
       "  <tbody>\n",
       "    <tr>\n",
       "      <th>0</th>\n",
       "      <td>7</td>\n",
       "      <td>2</td>\n",
       "      <td>1970</td>\n",
       "      <td>MAGDALENA</td>\n",
       "      <td>SANTA MARTA</td>\n",
       "      <td>Cabecera</td>\n",
       "      <td>Sobre una persona específica</td>\n",
       "      <td>Secuestro Económico</td>\n",
       "      <td>Delincuencia Común</td>\n",
       "      <td>.</td>\n",
       "      <td>Dinero</td>\n",
       "      <td>Liberado Tras Pago</td>\n",
       "      <td>Prensa</td>\n",
       "    </tr>\n",
       "    <tr>\n",
       "      <th>1</th>\n",
       "      <td>31</td>\n",
       "      <td>3</td>\n",
       "      <td>1970</td>\n",
       "      <td>META</td>\n",
       "      <td>VILLAVICENCIO</td>\n",
       "      <td>Cabecera</td>\n",
       "      <td>Sobre una persona específica</td>\n",
       "      <td>Secuestro Económico</td>\n",
       "      <td>Delincuencia Común</td>\n",
       "      <td>.</td>\n",
       "      <td>NaN</td>\n",
       "      <td>Liberado Tras Pago</td>\n",
       "      <td>Prensa</td>\n",
       "    </tr>\n",
       "    <tr>\n",
       "      <th>2</th>\n",
       "      <td>20</td>\n",
       "      <td>5</td>\n",
       "      <td>1970</td>\n",
       "      <td>CASANARE</td>\n",
       "      <td>YOPAL</td>\n",
       "      <td>NaN</td>\n",
       "      <td>NaN</td>\n",
       "      <td>NaN</td>\n",
       "      <td>.</td>\n",
       "      <td>.</td>\n",
       "      <td>NaN</td>\n",
       "      <td>NaN</td>\n",
       "      <td>Entrevistas</td>\n",
       "    </tr>\n",
       "    <tr>\n",
       "      <th>3</th>\n",
       "      <td>9</td>\n",
       "      <td>6</td>\n",
       "      <td>1970</td>\n",
       "      <td>CALDAS</td>\n",
       "      <td>MANIZALES</td>\n",
       "      <td>Resto</td>\n",
       "      <td>Sobre una persona específica</td>\n",
       "      <td>Secuestro Económico</td>\n",
       "      <td>Guerrilla-ELN</td>\n",
       "      <td>Guerrilla-ELN</td>\n",
       "      <td>Dinero</td>\n",
       "      <td>Liberado Tras Pago</td>\n",
       "      <td>Publicaciones</td>\n",
       "    </tr>\n",
       "    <tr>\n",
       "      <th>4</th>\n",
       "      <td>23</td>\n",
       "      <td>3</td>\n",
       "      <td>1971</td>\n",
       "      <td>QUINDIO</td>\n",
       "      <td>MONTENEGRO</td>\n",
       "      <td>Resto</td>\n",
       "      <td>Emboscada</td>\n",
       "      <td>Secuestro Económico</td>\n",
       "      <td>Otros</td>\n",
       "      <td>Otros</td>\n",
       "      <td>Dinero</td>\n",
       "      <td>Asesinado en Cautiverio</td>\n",
       "      <td>Sentencias</td>\n",
       "    </tr>\n",
       "    <tr>\n",
       "      <th>...</th>\n",
       "      <td>...</td>\n",
       "      <td>...</td>\n",
       "      <td>...</td>\n",
       "      <td>...</td>\n",
       "      <td>...</td>\n",
       "      <td>...</td>\n",
       "      <td>...</td>\n",
       "      <td>...</td>\n",
       "      <td>...</td>\n",
       "      <td>...</td>\n",
       "      <td>...</td>\n",
       "      <td>...</td>\n",
       "      <td>...</td>\n",
       "    </tr>\n",
       "    <tr>\n",
       "      <th>39053</th>\n",
       "      <td>30</td>\n",
       "      <td>12</td>\n",
       "      <td>2010</td>\n",
       "      <td>ANTIOQUIA</td>\n",
       "      <td>MEDELLIN</td>\n",
       "      <td>NaN</td>\n",
       "      <td>NaN</td>\n",
       "      <td>NaN</td>\n",
       "      <td>.</td>\n",
       "      <td>.</td>\n",
       "      <td>NaN</td>\n",
       "      <td>NaN</td>\n",
       "      <td>Fiscalía</td>\n",
       "    </tr>\n",
       "    <tr>\n",
       "      <th>39054</th>\n",
       "      <td>30</td>\n",
       "      <td>12</td>\n",
       "      <td>2010</td>\n",
       "      <td>CORDOBA</td>\n",
       "      <td>MONTELIBANO</td>\n",
       "      <td>NaN</td>\n",
       "      <td>NaN</td>\n",
       "      <td>NaN</td>\n",
       "      <td>BACRIM</td>\n",
       "      <td>.</td>\n",
       "      <td>NaN</td>\n",
       "      <td>NaN</td>\n",
       "      <td>Fiscalía</td>\n",
       "    </tr>\n",
       "    <tr>\n",
       "      <th>39055</th>\n",
       "      <td>30</td>\n",
       "      <td>12</td>\n",
       "      <td>2010</td>\n",
       "      <td>CORDOBA</td>\n",
       "      <td>MONTELIBANO</td>\n",
       "      <td>NaN</td>\n",
       "      <td>NaN</td>\n",
       "      <td>NaN</td>\n",
       "      <td>BACRIM</td>\n",
       "      <td>.</td>\n",
       "      <td>NaN</td>\n",
       "      <td>NaN</td>\n",
       "      <td>Fiscalía</td>\n",
       "    </tr>\n",
       "    <tr>\n",
       "      <th>39056</th>\n",
       "      <td>30</td>\n",
       "      <td>12</td>\n",
       "      <td>2010</td>\n",
       "      <td>CORDOBA</td>\n",
       "      <td>MONTERIA</td>\n",
       "      <td>NaN</td>\n",
       "      <td>NaN</td>\n",
       "      <td>NaN</td>\n",
       "      <td>.</td>\n",
       "      <td>.</td>\n",
       "      <td>NaN</td>\n",
       "      <td>NaN</td>\n",
       "      <td>Fiscalía</td>\n",
       "    </tr>\n",
       "    <tr>\n",
       "      <th>39057</th>\n",
       "      <td>31</td>\n",
       "      <td>12</td>\n",
       "      <td>2010</td>\n",
       "      <td>TOLIMA</td>\n",
       "      <td>IBAGUE</td>\n",
       "      <td>NaN</td>\n",
       "      <td>NaN</td>\n",
       "      <td>NaN</td>\n",
       "      <td>.</td>\n",
       "      <td>.</td>\n",
       "      <td>NaN</td>\n",
       "      <td>NaN</td>\n",
       "      <td>Fiscalía</td>\n",
       "    </tr>\n",
       "  </tbody>\n",
       "</table>\n",
       "<p>39058 rows × 13 columns</p>\n",
       "</div>"
      ],
      "text/plain": [
       "       Día  Mes    Año Departamento      Municipio Lugar de Ocurrencia  \\\n",
       "0        7     2  1970    MAGDALENA    SANTA MARTA            Cabecera   \n",
       "1       31     3  1970         META  VILLAVICENCIO            Cabecera   \n",
       "2       20     5  1970     CASANARE          YOPAL                 NaN   \n",
       "3        9     6  1970       CALDAS      MANIZALES               Resto   \n",
       "4       23     3  1971      QUINDIO     MONTENEGRO               Resto   \n",
       "...    ...   ...   ...          ...            ...                 ...   \n",
       "39053   30    12  2010    ANTIOQUIA       MEDELLIN                 NaN   \n",
       "39054   30    12  2010      CORDOBA    MONTELIBANO                 NaN   \n",
       "39055   30    12  2010      CORDOBA    MONTELIBANO                 NaN   \n",
       "39056   30    12  2010      CORDOBA       MONTERIA                 NaN   \n",
       "39057   31    12  2010       TOLIMA         IBAGUE                 NaN   \n",
       "\n",
       "                          Modalidad   Motivo Argumentado      Autor Presunto  \\\n",
       "0      Sobre una persona específica  Secuestro Económico  Delincuencia Común   \n",
       "1      Sobre una persona específica  Secuestro Económico  Delincuencia Común   \n",
       "2                               NaN                  NaN                   .   \n",
       "3      Sobre una persona específica  Secuestro Económico       Guerrilla-ELN   \n",
       "4                         Emboscada  Secuestro Económico               Otros   \n",
       "...                             ...                  ...                 ...   \n",
       "39053                           NaN                  NaN                   .   \n",
       "39054                           NaN                  NaN              BACRIM   \n",
       "39055                           NaN                  NaN              BACRIM   \n",
       "39056                           NaN                  NaN                   .   \n",
       "39057                           NaN                  NaN                   .   \n",
       "\n",
       "      Autor Confirmado Exigencia        Tipo de Desenlace Primera Fuente  \n",
       "0                    .    Dinero       Liberado Tras Pago         Prensa  \n",
       "1                    .       NaN       Liberado Tras Pago         Prensa  \n",
       "2                    .       NaN                      NaN    Entrevistas  \n",
       "3        Guerrilla-ELN    Dinero       Liberado Tras Pago  Publicaciones  \n",
       "4                Otros    Dinero  Asesinado en Cautiverio     Sentencias  \n",
       "...                ...       ...                      ...            ...  \n",
       "39053                .       NaN                      NaN       Fiscalía  \n",
       "39054                .       NaN                      NaN       Fiscalía  \n",
       "39055                .       NaN                      NaN       Fiscalía  \n",
       "39056                .       NaN                      NaN       Fiscalía  \n",
       "39057                .       NaN                      NaN       Fiscalía  \n",
       "\n",
       "[39058 rows x 13 columns]"
      ]
     },
     "execution_count": 1,
     "metadata": {},
     "output_type": "execute_result"
    }
   ],
   "source": [
    "import pandas as pd\n",
    "import matplotlib.pyplot as plt\n",
    "import seaborn as sns\n",
    "import datetime\n",
    "import numpy as np\n",
    "from scipy.stats import spearmanr\n",
    "%matplotlib inline \n",
    "datos = pd.read_csv(\"SecuestrosColombia1970-2010.csv\")\n",
    "datos"
   ]
  },
  {
   "cell_type": "code",
   "execution_count": 2,
   "id": "2a1b4ce6",
   "metadata": {},
   "outputs": [
    {
     "data": {
      "text/plain": [
       "Día                     int64\n",
       "Mes                     int64\n",
       "Año                     int64\n",
       "Departamento           object\n",
       "Municipio              object\n",
       "Lugar de Ocurrencia    object\n",
       "Modalidad              object\n",
       "Motivo Argumentado     object\n",
       "Autor Presunto         object\n",
       "Autor Confirmado       object\n",
       "Exigencia              object\n",
       "Tipo de Desenlace      object\n",
       "Primera Fuente         object\n",
       "dtype: object"
      ]
     },
     "execution_count": 2,
     "metadata": {},
     "output_type": "execute_result"
    }
   ],
   "source": [
    "datos.dtypes"
   ]
  },
  {
   "cell_type": "code",
   "execution_count": 3,
   "id": "4367f3c5",
   "metadata": {},
   "outputs": [
    {
     "data": {
      "text/plain": [
       "(39058, 13)"
      ]
     },
     "execution_count": 3,
     "metadata": {},
     "output_type": "execute_result"
    }
   ],
   "source": [
    "datos.shape"
   ]
  },
  {
   "cell_type": "code",
   "execution_count": 4,
   "id": "1316eb51",
   "metadata": {},
   "outputs": [
    {
     "data": {
      "text/plain": [
       "Día                        0\n",
       "Mes                        0\n",
       "Año                        0\n",
       "Departamento            1781\n",
       "Municipio               1819\n",
       "Lugar de Ocurrencia     8772\n",
       "Modalidad               6318\n",
       "Motivo Argumentado     20094\n",
       "Autor Presunto             0\n",
       "Autor Confirmado          57\n",
       "Exigencia              21804\n",
       "Tipo de Desenlace      10449\n",
       "Primera Fuente            43\n",
       "dtype: int64"
      ]
     },
     "execution_count": 4,
     "metadata": {},
     "output_type": "execute_result"
    }
   ],
   "source": [
    "datos.isnull().sum()"
   ]
  },
  {
   "cell_type": "code",
   "execution_count": 5,
   "id": "3aca1407",
   "metadata": {},
   "outputs": [],
   "source": [
    "# Eliminar las columnas\n",
    "datos = datos.drop([\"Lugar de Ocurrencia\", \"Motivo Argumentado\", \"Exigencia\", \"Tipo de Desenlace\"], axis=1)\n",
    "\n",
    "# se eliminan estas listas por la gran cantidad de datos faltantes, por ejemplo, en motivo argumentado falta\n",
    "# más del 50% de los datos."
   ]
  },
  {
   "cell_type": "code",
   "execution_count": 6,
   "id": "2fcb0ecc",
   "metadata": {},
   "outputs": [
    {
     "data": {
      "text/plain": [
       "Día                    0\n",
       "Mes                    0\n",
       "Año                    0\n",
       "Departamento        1781\n",
       "Municipio           1819\n",
       "Modalidad           6318\n",
       "Autor Presunto         0\n",
       "Autor Confirmado      57\n",
       "Primera Fuente        43\n",
       "dtype: int64"
      ]
     },
     "execution_count": 6,
     "metadata": {},
     "output_type": "execute_result"
    }
   ],
   "source": [
    "datos.isnull().sum()"
   ]
  },
  {
   "cell_type": "code",
   "execution_count": 7,
   "id": "ae4a622b",
   "metadata": {},
   "outputs": [
    {
     "data": {
      "text/plain": [
       "array(['MAGDALENA', 'META', 'CASANARE', 'CALDAS', 'QUINDIO', 'SANTANDER',\n",
       "       'BOGOTA D. C.', nan, 'TOLIMA', 'VALLE DEL CAUCA', 'ANTIOQUIA',\n",
       "       'BOYACA', 'CAUCA', 'BOLIVAR', 'NARINO', 'CESAR', 'CORDOBA',\n",
       "       'CUNDINAMARCA', 'HUILA', 'RISARALDA', 'LA GUAJIRA',\n",
       "       'N. DE SANTANDER', 'CAQUETA', 'ATLANTICO', 'PUTUMAYO', 'VAUPES',\n",
       "       'ARAUCA', 'GUAVIARE', 'SUCRE', 'VICHADA', 'CHOCO', ' ', 'GUAINIA',\n",
       "       'AMAZONAS', 'SAN ANDRES'], dtype=object)"
      ]
     },
     "execution_count": 7,
     "metadata": {},
     "output_type": "execute_result"
    }
   ],
   "source": [
    "#verificando la repetición de datos\n",
    "\n",
    "datos.Departamento.unique()"
   ]
  },
  {
   "cell_type": "code",
   "execution_count": 8,
   "id": "9117011a",
   "metadata": {},
   "outputs": [
    {
     "data": {
      "text/plain": [
       "dtype('O')"
      ]
     },
     "execution_count": 8,
     "metadata": {},
     "output_type": "execute_result"
    }
   ],
   "source": [
    "datos[\"Fecha\"] = datos[\"Día\"].astype(str) + \"/\" + datos[\"Mes \"].astype(str) + \"/\" + datos[\"Año\"].astype(str)\n",
    "datos[\"Fecha\"].dtype"
   ]
  },
  {
   "cell_type": "code",
   "execution_count": 9,
   "id": "ab244581",
   "metadata": {},
   "outputs": [
    {
     "data": {
      "text/plain": [
       "dtype('<M8[ns]')"
      ]
     },
     "execution_count": 9,
     "metadata": {},
     "output_type": "execute_result"
    }
   ],
   "source": [
    "# dandole formate datetime \n",
    "\n",
    "datos[\"Fecha\"]= pd.to_datetime(datos[\"Fecha\"], format=\"%d/%m/%Y\")\n",
    "datos.Fecha.dtype"
   ]
  },
  {
   "cell_type": "code",
   "execution_count": 10,
   "id": "856ab969",
   "metadata": {},
   "outputs": [
    {
     "data": {
      "text/plain": [
       "Día                    0\n",
       "Mes                    0\n",
       "Año                    0\n",
       "Departamento        1781\n",
       "Municipio           1819\n",
       "Modalidad           6318\n",
       "Autor Presunto         0\n",
       "Autor Confirmado      57\n",
       "Primera Fuente        43\n",
       "Fecha                  0\n",
       "dtype: int64"
      ]
     },
     "execution_count": 10,
     "metadata": {},
     "output_type": "execute_result"
    }
   ],
   "source": [
    "datos.isnull().sum()"
   ]
  },
  {
   "cell_type": "code",
   "execution_count": 11,
   "id": "5f46fe06",
   "metadata": {},
   "outputs": [
    {
     "data": {
      "text/plain": [
       "12       False\n",
       "15       False\n",
       "20       False\n",
       "147      False\n",
       "150      False\n",
       "         ...  \n",
       "38297    False\n",
       "38302    False\n",
       "38492     True\n",
       "38714     True\n",
       "38848     True\n",
       "Name: Departamento, Length: 1819, dtype: bool"
      ]
     },
     "execution_count": 11,
     "metadata": {},
     "output_type": "execute_result"
    }
   ],
   "source": [
    "b = datos.loc[datos.Municipio.isnull(), [\"Departamento\",\"Municipio\"]]\n",
    "b.Departamento.notnull()"
   ]
  },
  {
   "cell_type": "code",
   "execution_count": 12,
   "id": "70f3183d",
   "metadata": {},
   "outputs": [
    {
     "data": {
      "text/plain": [
       "Día                          int64\n",
       "Mes                          int64\n",
       "Año                          int64\n",
       "Departamento                object\n",
       "Municipio                   object\n",
       "Modalidad                   object\n",
       "Autor Presunto              object\n",
       "Autor Confirmado            object\n",
       "Primera Fuente              object\n",
       "Fecha               datetime64[ns]\n",
       "dtype: object"
      ]
     },
     "execution_count": 12,
     "metadata": {},
     "output_type": "execute_result"
    }
   ],
   "source": [
    "datos.dtypes"
   ]
  },
  {
   "cell_type": "markdown",
   "id": "f6114771-f470-4ab6-8d1a-10163e6097f9",
   "metadata": {},
   "source": [
    "## ¿Cuantos registros tiene la base de datos?"
   ]
  },
  {
   "cell_type": "code",
   "execution_count": 13,
   "id": "926c01f5-45e4-4889-8544-472b6049c3ee",
   "metadata": {},
   "outputs": [
    {
     "name": "stdout",
     "output_type": "stream",
     "text": [
      "La base de datos tiene 10  columnas y  39058 observaciones\n"
     ]
    }
   ],
   "source": [
    "\n",
    "print(\"La base de datos tiene\",datos.shape[1],\" columnas y \",datos.shape[0],\"observaciones\")"
   ]
  },
  {
   "cell_type": "markdown",
   "id": "1a4e95c9-f510-48d3-b810-a6c9bebb6b90",
   "metadata": {},
   "source": [
    "¿Cuántos secuestros hay en la base de datos y cuántos de ellos tienen datos faltantes? Esto nos dará una idea de la calidad de la base de datos."
   ]
  },
  {
   "cell_type": "code",
   "execution_count": 14,
   "id": "1d46dbe3-11f5-4b33-af8d-53c2950d7bf0",
   "metadata": {},
   "outputs": [
    {
     "name": "stdout",
     "output_type": "stream",
     "text": [
      "La base de dato presenta los siguientes datos faltantes \n",
      " Día                    0\n",
      "Mes                    0\n",
      "Año                    0\n",
      "Departamento        1781\n",
      "Municipio           1819\n",
      "Modalidad           6318\n",
      "Autor Presunto         0\n",
      "Autor Confirmado      57\n",
      "Primera Fuente        43\n",
      "Fecha                  0\n",
      "dtype: int64\n"
     ]
    }
   ],
   "source": [
    "print(\"La base de dato presenta los siguientes datos faltantes \\n\", datos.isnull().sum())"
   ]
  },
  {
   "cell_type": "markdown",
   "id": "ee656984-1067-4968-a2b4-1ab940749eeb",
   "metadata": {},
   "source": [
    "# ¿Cuál es el rango de fechas de la base de datos? Esto nos permitirá ver si tenemos suficiente información a lo largo del tiempo para analizar patrones."
   ]
  },
  {
   "cell_type": "code",
   "execution_count": 15,
   "id": "72e88554-60e5-4813-abb7-fbbdeceffb8f",
   "metadata": {},
   "outputs": [
    {
     "data": {
      "text/plain": [
       "count                            39058\n",
       "mean     2000-04-12 05:34:54.669465856\n",
       "min                1970-02-07 00:00:00\n",
       "25%                1997-11-20 00:00:00\n",
       "50%                2000-10-19 00:00:00\n",
       "75%                2003-12-26 00:00:00\n",
       "max                2010-12-31 00:00:00\n",
       "Name: Fecha, dtype: object"
      ]
     },
     "execution_count": 15,
     "metadata": {},
     "output_type": "execute_result"
    }
   ],
   "source": [
    "datos.Fecha.describe(datetime_is_numeric=True)\n"
   ]
  },
  {
   "cell_type": "code",
   "execution_count": 16,
   "id": "3a5afced-116c-47d8-a90c-a5012eda23e7",
   "metadata": {},
   "outputs": [
    {
     "data": {
      "text/plain": [
       "Día                          int64\n",
       "Mes                          int64\n",
       "Año                          int64\n",
       "Departamento                object\n",
       "Municipio                   object\n",
       "Modalidad                   object\n",
       "Autor Presunto              object\n",
       "Autor Confirmado            object\n",
       "Primera Fuente              object\n",
       "Fecha               datetime64[ns]\n",
       "dtype: object"
      ]
     },
     "execution_count": 16,
     "metadata": {},
     "output_type": "execute_result"
    }
   ],
   "source": [
    "datos.dtypes"
   ]
  },
  {
   "cell_type": "markdown",
   "id": "76426794-1f72-4e87-b05b-6af92f0478ce",
   "metadata": {},
   "source": [
    "# ¿Cuáles son los departamentos y municipios con mayor número de secuestros registrados? "
   ]
  },
  {
   "cell_type": "code",
   "execution_count": 17,
   "id": "4aea7033-4f08-49cd-9b4c-4907e7b26da4",
   "metadata": {},
   "outputs": [
    {
     "data": {
      "text/plain": [
       "Departamento     Municipio    \n",
       "BOGOTA D. C.     BOGOTA D.C.      2576\n",
       "ANTIOQUIA        MEDELLIN         1920\n",
       "VALLE DEL CAUCA  CALI             1341\n",
       "CESAR            VALLEDUPAR        737\n",
       "META             VILLAVICENCIO     685\n",
       "Name: Municipio, dtype: int64"
      ]
     },
     "execution_count": 17,
     "metadata": {},
     "output_type": "execute_result"
    }
   ],
   "source": [
    "datos.groupby([\"Departamento\"]).Municipio.value_counts().sort_values(ascending=False).head(5)"
   ]
  },
  {
   "cell_type": "code",
   "execution_count": 18,
   "id": "d08b4d9d-0ee8-4165-bb5a-94f0f89fd9bf",
   "metadata": {},
   "outputs": [
    {
     "data": {
      "text/plain": [
       "ANTIOQUIA          6898\n",
       "VALLE DEL CAUCA    2729\n",
       "CESAR              2622\n",
       "BOGOTA D. C.       2576\n",
       "SANTANDER          2007\n",
       "Name: Departamento, dtype: int64"
      ]
     },
     "execution_count": 18,
     "metadata": {},
     "output_type": "execute_result"
    }
   ],
   "source": [
    "datos.Departamento.value_counts().sort_values(ascending=False).head(5)"
   ]
  },
  {
   "cell_type": "code",
   "execution_count": 19,
   "id": "9db8bd75-8104-4f2e-b973-e9124cefc969",
   "metadata": {},
   "outputs": [
    {
     "data": {
      "text/plain": [
       "BOGOTA D.C.      2576\n",
       "MEDELLIN         1920\n",
       "CALI             1341\n",
       "VALLEDUPAR        737\n",
       "VILLAVICENCIO     685\n",
       "Name: Municipio, dtype: int64"
      ]
     },
     "execution_count": 19,
     "metadata": {},
     "output_type": "execute_result"
    }
   ],
   "source": [
    "datos.Municipio.value_counts().sort_values(ascending=False).head(5)"
   ]
  },
  {
   "cell_type": "markdown",
   "id": "14085a1d-105f-4cb9-95b0-84e137e48818",
   "metadata": {},
   "source": [
    "   "
   ]
  },
  {
   "cell_type": "markdown",
   "id": "8292df80-252b-4c9f-95dd-6c9b7139a204",
   "metadata": {},
   "source": [
    "# ¿Cuál es la distribución de los secuestros a lo largo de los años?"
   ]
  },
  {
   "cell_type": "code",
   "execution_count": 20,
   "id": "7f738f66-3643-4f82-bce9-485c7fb48f4a",
   "metadata": {},
   "outputs": [
    {
     "data": {
      "text/plain": [
       "(31537, 10)"
      ]
     },
     "execution_count": 20,
     "metadata": {},
     "output_type": "execute_result"
    }
   ],
   "source": [
    "dx = datos.loc[:].dropna()\n",
    "dx = dx.replace(\" \", np.nan).dropna(subset=[\"Modalidad\"])\n",
    "dx.shape"
   ]
  },
  {
   "cell_type": "code",
   "execution_count": 21,
   "id": "66f85544-7ced-4669-af83-c2a3579c82e6",
   "metadata": {},
   "outputs": [
    {
     "data": {
      "text/plain": [
       "<seaborn.axisgrid.FacetGrid at 0x7f5b4375fb50>"
      ]
     },
     "execution_count": 21,
     "metadata": {},
     "output_type": "execute_result"
    },
    {
     "data": {
      "image/png": "[encoded data removed]",
      "text/plain": [
       "<Figure size 1200x800 with 5 Axes>"
      ]
     },
     "metadata": {},
     "output_type": "display_data"
    }
   ],
   "source": [
    "g = sns.FacetGrid(dx, col=\"Modalidad\", col_wrap=3, height=4)\n",
    "g.map(sns.histplot, \"Fecha\")\n"
   ]
  },
  {
   "cell_type": "code",
   "execution_count": 22,
   "id": "bf1f9103-f230-44c0-a65f-67b20bc454d9",
   "metadata": {},
   "outputs": [],
   "source": [
    "df = dx.groupby([\"Departamento\", \"Modalidad\"]).agg({\"Modalidad\": [np.size]})\n",
    "df.columns = [\"Cantidad\"]\n",
    "df.reset_index(inplace=True)"
   ]
  },
  {
   "cell_type": "code",
   "execution_count": 23,
   "id": "896c597f-d20a-4ef6-a727-605c69259120",
   "metadata": {},
   "outputs": [
    {
     "data": {
      "image/png": "[encoded data removed]",
      "text/plain": [
       "<Figure size 1000x600 with 1 Axes>"
      ]
     },
     "metadata": {},
     "output_type": "display_data"
    }
   ],
   "source": [
    "plt.figure(figsize=(10,6))\n",
    "sns.countplot(x=df.Modalidad.dropna())\n",
    "plt.xlabel('Modalidad')\n",
    "plt.ylabel('Cantidad')\n",
    "plt.show()"
   ]
  },
  {
   "cell_type": "code",
   "execution_count": 24,
   "id": "aa01bae7-e06c-4b7a-a211-8f4be6e8c0bc",
   "metadata": {},
   "outputs": [
    {
     "data": {
      "text/plain": [
       "<AxesSubplot:xlabel='Departamento', ylabel='count'>"
      ]
     },
     "execution_count": 24,
     "metadata": {},
     "output_type": "execute_result"
    },
    {
     "data": {
      "image/png": "[encoded data removed]",
      "text/plain": [
       "<Figure size 1500x500 with 1 Axes>"
      ]
     },
     "metadata": {},
     "output_type": "display_data"
    }
   ],
   "source": [
    "plt.figure(figsize= (15,5))\n",
    "plt.xticks(rotation=90)\n",
    "\n",
    "sns.countplot(x= dx.Departamento)\n"
   ]
  },
  {
   "cell_type": "code",
   "execution_count": 25,
   "id": "92462be5-ebd4-4f4c-aa11-99c3740a13bb",
   "metadata": {},
   "outputs": [
    {
     "data": {
      "text/plain": [
       "<AxesSubplot:xlabel='Fecha', ylabel='Count'>"
      ]
     },
     "execution_count": 25,
     "metadata": {},
     "output_type": "execute_result"
    },
    {
     "data": {
      "image/png": "[encoded data removed]",
      "text/plain": [
       "<Figure size 640x480 with 1 Axes>"
      ]
     },
     "metadata": {},
     "output_type": "display_data"
    }
   ],
   "source": [
    "#df.groupby(df['Fecha'].dt.year)['Modalidad'].count()\n",
    "sns.histplot(x=dx.Fecha.dt.year)"
   ]
  },
  {
   "cell_type": "code",
   "execution_count": 26,
   "id": "dc0bd27c-d589-4641-a55a-78cad2e8c858",
   "metadata": {},
   "outputs": [
    {
     "data": {
      "text/plain": [
       "Desconocido                       29975\n",
       "Guerrilla-FARC                     3310\n",
       "Guerrilla-ELN                      2719\n",
       "Delincuencia Común                 1026\n",
       "Delincuencia Organizada             625\n",
       "Grupos Paramilitares                377\n",
       "Otros                               266\n",
       "Guerrilla-ERP                       175\n",
       "Guerrilla-EPL                       131\n",
       "Guerrilla No Identificada            61\n",
       "Guerrilla Conjunta                   58\n",
       "Guerrilla-M19                        38\n",
       "Narcotraficantes                     38\n",
       "Agentes de Estado-Policía            37\n",
       "Guerrilla-Disidencia ELN             32\n",
       "Comunidad                            30\n",
       "Agentes de Estado-Ejército           19\n",
       "Varios Autores                       17\n",
       "Guerrilla-Disidencia FARC            15\n",
       "Familiares                           12\n",
       "Agentes de Estado-DAS                 9\n",
       "Agentes o Exagentes del Estado        8\n",
       "Guerrilla-Disidencia M19              7\n",
       "Otros Grupos o Bandas                 6\n",
       "BACRIM                                6\n",
       "Desmovilizados Guerrilla              3\n",
       "Guerrilla-ADO                         1\n",
       "Name: Autor Confirmado, dtype: int64"
      ]
     },
     "execution_count": 26,
     "metadata": {},
     "output_type": "execute_result"
    }
   ],
   "source": [
    "dx = datos.dropna(subset=[\"Autor Presunto\", \"Autor Confirmado\"]).copy()\n",
    "dx[\"Autor Confirmado\"] = dx[\"Autor Confirmado\"].fillna(\"Desconocido\")\n",
    "dx[\"Autor Confirmado\"] = dx[\"Autor Confirmado\"].replace({\".\":\"Desconocido\"})\n",
    "dx[\"Autor Confirmado\"].value_counts()\n",
    "\n",
    "# Los datos Nan se catalogan como desconocidos"
   ]
  },
  {
   "cell_type": "markdown",
   "id": "0800aa83-9c35-4d32-bde9-474545aba84a",
   "metadata": {},
   "source": [
    "# ¿Hay una relación  entre los autores presuntos y confirmados de los incidentes reportados en el conjunto de datos? \n",
    "\n"
   ]
  },
  {
   "cell_type": "code",
   "execution_count": null,
   "id": "1b742113-f689-410f-8d23-729abf8305c1",
   "metadata": {},
   "outputs": [],
   "source": []
  },
  {
   "cell_type": "code",
   "execution_count": 27,
   "id": "35766d6d-008c-4863-b5a3-c43e2297cedd",
   "metadata": {},
   "outputs": [
    {
     "data": {
      "text/html": [
       "<div>\n",
       "<style scoped>\n",
       "    .dataframe tbody tr th:only-of-type {\n",
       "        vertical-align: middle;\n",
       "    }\n",
       "\n",
       "    .dataframe tbody tr th {\n",
       "        vertical-align: top;\n",
       "    }\n",
       "\n",
       "    .dataframe thead tr th {\n",
       "        text-align: left;\n",
       "    }\n",
       "\n",
       "    .dataframe thead tr:last-of-type th {\n",
       "        text-align: right;\n",
       "    }\n",
       "</style>\n",
       "<table border=\"1\" class=\"dataframe\">\n",
       "  <thead>\n",
       "    <tr>\n",
       "      <th></th>\n",
       "      <th>Autor Confirmado</th>\n",
       "    </tr>\n",
       "    <tr>\n",
       "      <th></th>\n",
       "      <th>size</th>\n",
       "    </tr>\n",
       "    <tr>\n",
       "      <th>Autor Presunto</th>\n",
       "      <th></th>\n",
       "    </tr>\n",
       "  </thead>\n",
       "  <tbody>\n",
       "    <tr>\n",
       "      <th>.</th>\n",
       "      <td>9972</td>\n",
       "    </tr>\n",
       "    <tr>\n",
       "      <th>Guerrilla-FARC</th>\n",
       "      <td>9416</td>\n",
       "    </tr>\n",
       "    <tr>\n",
       "      <th>Guerrilla-ELN</th>\n",
       "      <td>7254</td>\n",
       "    </tr>\n",
       "    <tr>\n",
       "      <th>Delincuencia Común</th>\n",
       "      <td>6582</td>\n",
       "    </tr>\n",
       "    <tr>\n",
       "      <th>Grupos Paramilitares</th>\n",
       "      <td>2153</td>\n",
       "    </tr>\n",
       "    <tr>\n",
       "      <th>Delincuencia Organizada</th>\n",
       "      <td>924</td>\n",
       "    </tr>\n",
       "    <tr>\n",
       "      <th>Guerrilla-M19</th>\n",
       "      <td>555</td>\n",
       "    </tr>\n",
       "    <tr>\n",
       "      <th>Guerrilla No Identificada</th>\n",
       "      <td>328</td>\n",
       "    </tr>\n",
       "    <tr>\n",
       "      <th>Guerrilla Conjunta</th>\n",
       "      <td>312</td>\n",
       "    </tr>\n",
       "    <tr>\n",
       "      <th>Otros</th>\n",
       "      <td>277</td>\n",
       "    </tr>\n",
       "    <tr>\n",
       "      <th>Guerrilla-EPL</th>\n",
       "      <td>228</td>\n",
       "    </tr>\n",
       "    <tr>\n",
       "      <th>Varios Autores</th>\n",
       "      <td>219</td>\n",
       "    </tr>\n",
       "    <tr>\n",
       "      <th>Guerrilla-ERP</th>\n",
       "      <td>137</td>\n",
       "    </tr>\n",
       "    <tr>\n",
       "      <th>Guerrilla-Disidencia ELN</th>\n",
       "      <td>102</td>\n",
       "    </tr>\n",
       "    <tr>\n",
       "      <th>BACRIM</th>\n",
       "      <td>91</td>\n",
       "    </tr>\n",
       "    <tr>\n",
       "      <th>Familiares</th>\n",
       "      <td>78</td>\n",
       "    </tr>\n",
       "    <tr>\n",
       "      <th>Narcotraficantes</th>\n",
       "      <td>72</td>\n",
       "    </tr>\n",
       "    <tr>\n",
       "      <th>Otros Grupos o Bandas</th>\n",
       "      <td>64</td>\n",
       "    </tr>\n",
       "    <tr>\n",
       "      <th>Agentes de Estado-Policía</th>\n",
       "      <td>45</td>\n",
       "    </tr>\n",
       "    <tr>\n",
       "      <th>Grupos Indígenas</th>\n",
       "      <td>31</td>\n",
       "    </tr>\n",
       "    <tr>\n",
       "      <th>Comunidad</th>\n",
       "      <td>28</td>\n",
       "    </tr>\n",
       "    <tr>\n",
       "      <th>Agentes o Exagentes del Estado</th>\n",
       "      <td>26</td>\n",
       "    </tr>\n",
       "    <tr>\n",
       "      <th>Agentes de Estado-Ejército</th>\n",
       "      <td>26</td>\n",
       "    </tr>\n",
       "    <tr>\n",
       "      <th>Guerrilla-Disidencia ERP</th>\n",
       "      <td>24</td>\n",
       "    </tr>\n",
       "    <tr>\n",
       "      <th>Guerrilla-Disidencia FARC</th>\n",
       "      <td>18</td>\n",
       "    </tr>\n",
       "    <tr>\n",
       "      <th>Guerrilla-Disidencia EPL</th>\n",
       "      <td>12</td>\n",
       "    </tr>\n",
       "    <tr>\n",
       "      <th>Agentes de Estado-DAS</th>\n",
       "      <td>12</td>\n",
       "    </tr>\n",
       "    <tr>\n",
       "      <th>Desmovilizados Guerrilla</th>\n",
       "      <td>10</td>\n",
       "    </tr>\n",
       "    <tr>\n",
       "      <th>Guerrilla-ADO</th>\n",
       "      <td>3</td>\n",
       "    </tr>\n",
       "    <tr>\n",
       "      <th>Guerrilla-Disidencia M19</th>\n",
       "      <td>1</td>\n",
       "    </tr>\n",
       "    <tr>\n",
       "      <th>Agentes y Exagentes del Estado</th>\n",
       "      <td>1</td>\n",
       "    </tr>\n",
       "  </tbody>\n",
       "</table>\n",
       "</div>"
      ],
      "text/plain": [
       "                               Autor Confirmado\n",
       "                                           size\n",
       "Autor Presunto                                 \n",
       ".                                          9972\n",
       "Guerrilla-FARC                             9416\n",
       "Guerrilla-ELN                              7254\n",
       "Delincuencia Común                         6582\n",
       "Grupos Paramilitares                       2153\n",
       "Delincuencia Organizada                     924\n",
       "Guerrilla-M19                               555\n",
       "Guerrilla No Identificada                   328\n",
       "Guerrilla Conjunta                          312\n",
       "Otros                                       277\n",
       "Guerrilla-EPL                               228\n",
       "Varios Autores                              219\n",
       "Guerrilla-ERP                               137\n",
       "Guerrilla-Disidencia ELN                    102\n",
       "BACRIM                                       91\n",
       "Familiares                                   78\n",
       "Narcotraficantes                             72\n",
       "Otros Grupos o Bandas                        64\n",
       "Agentes de Estado-Policía                    45\n",
       "Grupos Indígenas                             31\n",
       "Comunidad                                    28\n",
       "Agentes o Exagentes del Estado               26\n",
       "Agentes de Estado-Ejército                   26\n",
       "Guerrilla-Disidencia ERP                     24\n",
       "Guerrilla-Disidencia FARC                    18\n",
       "Guerrilla-Disidencia EPL                     12\n",
       "Agentes de Estado-DAS                        12\n",
       "Desmovilizados Guerrilla                     10\n",
       "Guerrilla-ADO                                 3\n",
       "Guerrilla-Disidencia M19                      1\n",
       "Agentes y Exagentes del Estado                1"
      ]
     },
     "execution_count": 27,
     "metadata": {},
     "output_type": "execute_result"
    }
   ],
   "source": [
    "a = dx.groupby([\"Autor Presunto\"]).agg({\"Autor Confirmado\":[np.size] })\n",
    "a = a.sort_values(by=[(\"Autor Confirmado\", \"size\")], ascending=False)\n",
    "a"
   ]
  },
  {
   "cell_type": "code",
   "execution_count": 28,
   "id": "3e266b17-02cd-4a85-903d-5176758b2b99",
   "metadata": {},
   "outputs": [
    {
     "data": {
      "text/plain": [
       "count           39001\n",
       "unique             27\n",
       "top       Desconocido\n",
       "freq            29975\n",
       "Name: Autor Confirmado, dtype: object"
      ]
     },
     "execution_count": 28,
     "metadata": {},
     "output_type": "execute_result"
    }
   ],
   "source": [
    "dx[\"Autor Confirmado\"].describe()"
   ]
  },
  {
   "cell_type": "code",
   "execution_count": 29,
   "id": "8abcb2e6-6ffc-4495-be1f-f4bff8c468ea",
   "metadata": {},
   "outputs": [
    {
     "data": {
      "image/png": "[encoded data removed]",
      "text/plain": [
       "<Figure size 1000x800 with 1 Axes>"
      ]
     },
     "metadata": {},
     "output_type": "display_data"
    }
   ],
   "source": [
    "plt.figure(figsize=(10, 8))\n",
    "plt.barh(a.index, a[(\"Autor Confirmado\", \"size\")])\n",
    "plt.title(\"Número de casos por tipo de autor presunto\")\n",
    "plt.xlabel(\"Número de casos\")\n",
    "plt.show()"
   ]
  },
  {
   "cell_type": "markdown",
   "id": "7ffb6504-eb1f-4e3e-9dfe-aa990c342c42",
   "metadata": {},
   "source": [
    "# Definir las hipótesis nula y alternativa\n",
    "+ H0 = \"No hay diferencia significativa en la media de secuestros del periodo 2000 y 2005 al periodo 2006 y 2010\"\n",
    "+ Ha = \"Hay al menos una diferencia significativa en el número de secuestros\"\n",
    "+ Confianza 95%"
   ]
  },
  {
   "cell_type": "code",
   "execution_count": 30,
   "id": "ab6894e4-222a-4b70-b0a5-4b2966dc4942",
   "metadata": {},
   "outputs": [
    {
     "name": "stdout",
     "output_type": "stream",
     "text": [
      "(1999.7258004887954, 1999.848729697082)\n"
     ]
    }
   ],
   "source": [
    "from scipy.stats import norm \n",
    "\n",
    "año = datos.Fecha.dt.year\n",
    "\n",
    "\n",
    "std = año.std()\n",
    "mean = año.mean()\n",
    "n  = año.size\n",
    "z = norm.ppf(0.5+(0.95/2))\n",
    "# error estandar\n",
    "\n",
    "e_rr = std/np.sqrt(n)\n",
    "\n",
    "# estadistica z\n",
    "\n",
    "stats_z = mean / e_rr\n",
    "stats_z\n",
    "\n",
    "# pvalue\n",
    "\n",
    "pvalue = 2 * (norm.cdf(-abs(stats_z)))\n",
    "pvalue\n",
    "\n",
    "# intervalo \n",
    "\n",
    "intervalo = (\n",
    "mean - (z * e_rr),\n",
    "mean + (z * e_rr)\n",
    ")\n",
    "print(intervalo)"
   ]
  },
  {
   "cell_type": "code",
   "execution_count": 31,
   "id": "8436fd7c-77c5-4d18-b1c5-0f436ba70236",
   "metadata": {},
   "outputs": [
    {
     "data": {
      "text/plain": [
       "(1999.7258004887954, 1999.848729697082)"
      ]
     },
     "execution_count": 31,
     "metadata": {},
     "output_type": "execute_result"
    }
   ],
   "source": [
    "intervalo = norm.interval(confidence = 0.95, loc = mean, scale=e_rr)\n",
    "\n",
    "intervalo "
   ]
  },
  {
   "cell_type": "code",
   "execution_count": 32,
   "id": "ac4631cd-ebd1-4dda-a8f2-24f6b37ed544",
   "metadata": {},
   "outputs": [
    {
     "data": {
      "text/html": [
       "<div>\n",
       "<style scoped>\n",
       "    .dataframe tbody tr th:only-of-type {\n",
       "        vertical-align: middle;\n",
       "    }\n",
       "\n",
       "    .dataframe tbody tr th {\n",
       "        vertical-align: top;\n",
       "    }\n",
       "\n",
       "    .dataframe thead th {\n",
       "        text-align: right;\n",
       "    }\n",
       "</style>\n",
       "<table border=\"1\" class=\"dataframe\">\n",
       "  <thead>\n",
       "    <tr style=\"text-align: right;\">\n",
       "      <th></th>\n",
       "      <th>Fecha</th>\n",
       "      <th>Cantidad</th>\n",
       "    </tr>\n",
       "  </thead>\n",
       "  <tbody>\n",
       "    <tr>\n",
       "      <th>0</th>\n",
       "      <td>2000</td>\n",
       "      <td>3547</td>\n",
       "    </tr>\n",
       "    <tr>\n",
       "      <th>1</th>\n",
       "      <td>2001</td>\n",
       "      <td>3545</td>\n",
       "    </tr>\n",
       "    <tr>\n",
       "      <th>2</th>\n",
       "      <td>1999</td>\n",
       "      <td>3354</td>\n",
       "    </tr>\n",
       "    <tr>\n",
       "      <th>3</th>\n",
       "      <td>2002</td>\n",
       "      <td>3306</td>\n",
       "    </tr>\n",
       "    <tr>\n",
       "      <th>4</th>\n",
       "      <td>1998</td>\n",
       "      <td>3278</td>\n",
       "    </tr>\n",
       "    <tr>\n",
       "      <th>5</th>\n",
       "      <td>2003</td>\n",
       "      <td>2303</td>\n",
       "    </tr>\n",
       "    <tr>\n",
       "      <th>6</th>\n",
       "      <td>1997</td>\n",
       "      <td>2100</td>\n",
       "    </tr>\n",
       "    <tr>\n",
       "      <th>7</th>\n",
       "      <td>2004</td>\n",
       "      <td>1773</td>\n",
       "    </tr>\n",
       "    <tr>\n",
       "      <th>8</th>\n",
       "      <td>2008</td>\n",
       "      <td>1455</td>\n",
       "    </tr>\n",
       "    <tr>\n",
       "      <th>9</th>\n",
       "      <td>2007</td>\n",
       "      <td>1384</td>\n",
       "    </tr>\n",
       "    <tr>\n",
       "      <th>10</th>\n",
       "      <td>2006</td>\n",
       "      <td>1350</td>\n",
       "    </tr>\n",
       "    <tr>\n",
       "      <th>11</th>\n",
       "      <td>2005</td>\n",
       "      <td>1283</td>\n",
       "    </tr>\n",
       "    <tr>\n",
       "      <th>12</th>\n",
       "      <td>1996</td>\n",
       "      <td>1269</td>\n",
       "    </tr>\n",
       "    <tr>\n",
       "      <th>13</th>\n",
       "      <td>2010</td>\n",
       "      <td>1252</td>\n",
       "    </tr>\n",
       "    <tr>\n",
       "      <th>14</th>\n",
       "      <td>2009</td>\n",
       "      <td>1252</td>\n",
       "    </tr>\n",
       "    <tr>\n",
       "      <th>15</th>\n",
       "      <td>1990</td>\n",
       "      <td>1122</td>\n",
       "    </tr>\n",
       "    <tr>\n",
       "      <th>16</th>\n",
       "      <td>1992</td>\n",
       "      <td>912</td>\n",
       "    </tr>\n",
       "    <tr>\n",
       "      <th>17</th>\n",
       "      <td>1991</td>\n",
       "      <td>766</td>\n",
       "    </tr>\n",
       "    <tr>\n",
       "      <th>18</th>\n",
       "      <td>1994</td>\n",
       "      <td>691</td>\n",
       "    </tr>\n",
       "    <tr>\n",
       "      <th>19</th>\n",
       "      <td>1995</td>\n",
       "      <td>509</td>\n",
       "    </tr>\n",
       "    <tr>\n",
       "      <th>20</th>\n",
       "      <td>1993</td>\n",
       "      <td>354</td>\n",
       "    </tr>\n",
       "    <tr>\n",
       "      <th>21</th>\n",
       "      <td>1985</td>\n",
       "      <td>346</td>\n",
       "    </tr>\n",
       "    <tr>\n",
       "      <th>22</th>\n",
       "      <td>1988</td>\n",
       "      <td>335</td>\n",
       "    </tr>\n",
       "    <tr>\n",
       "      <th>23</th>\n",
       "      <td>1989</td>\n",
       "      <td>280</td>\n",
       "    </tr>\n",
       "    <tr>\n",
       "      <th>24</th>\n",
       "      <td>1980</td>\n",
       "      <td>279</td>\n",
       "    </tr>\n",
       "    <tr>\n",
       "      <th>25</th>\n",
       "      <td>1986</td>\n",
       "      <td>154</td>\n",
       "    </tr>\n",
       "    <tr>\n",
       "      <th>26</th>\n",
       "      <td>1984</td>\n",
       "      <td>150</td>\n",
       "    </tr>\n",
       "    <tr>\n",
       "      <th>27</th>\n",
       "      <td>1987</td>\n",
       "      <td>132</td>\n",
       "    </tr>\n",
       "    <tr>\n",
       "      <th>28</th>\n",
       "      <td>1983</td>\n",
       "      <td>124</td>\n",
       "    </tr>\n",
       "    <tr>\n",
       "      <th>29</th>\n",
       "      <td>1982</td>\n",
       "      <td>114</td>\n",
       "    </tr>\n",
       "    <tr>\n",
       "      <th>30</th>\n",
       "      <td>1981</td>\n",
       "      <td>92</td>\n",
       "    </tr>\n",
       "    <tr>\n",
       "      <th>31</th>\n",
       "      <td>1973</td>\n",
       "      <td>59</td>\n",
       "    </tr>\n",
       "    <tr>\n",
       "      <th>32</th>\n",
       "      <td>1977</td>\n",
       "      <td>39</td>\n",
       "    </tr>\n",
       "    <tr>\n",
       "      <th>33</th>\n",
       "      <td>1978</td>\n",
       "      <td>37</td>\n",
       "    </tr>\n",
       "    <tr>\n",
       "      <th>34</th>\n",
       "      <td>1976</td>\n",
       "      <td>27</td>\n",
       "    </tr>\n",
       "    <tr>\n",
       "      <th>35</th>\n",
       "      <td>1975</td>\n",
       "      <td>27</td>\n",
       "    </tr>\n",
       "    <tr>\n",
       "      <th>36</th>\n",
       "      <td>1971</td>\n",
       "      <td>19</td>\n",
       "    </tr>\n",
       "    <tr>\n",
       "      <th>37</th>\n",
       "      <td>1972</td>\n",
       "      <td>15</td>\n",
       "    </tr>\n",
       "    <tr>\n",
       "      <th>38</th>\n",
       "      <td>1979</td>\n",
       "      <td>11</td>\n",
       "    </tr>\n",
       "    <tr>\n",
       "      <th>39</th>\n",
       "      <td>1974</td>\n",
       "      <td>9</td>\n",
       "    </tr>\n",
       "    <tr>\n",
       "      <th>40</th>\n",
       "      <td>1970</td>\n",
       "      <td>4</td>\n",
       "    </tr>\n",
       "  </tbody>\n",
       "</table>\n",
       "</div>"
      ],
      "text/plain": [
       "    Fecha  Cantidad\n",
       "0    2000      3547\n",
       "1    2001      3545\n",
       "2    1999      3354\n",
       "3    2002      3306\n",
       "4    1998      3278\n",
       "5    2003      2303\n",
       "6    1997      2100\n",
       "7    2004      1773\n",
       "8    2008      1455\n",
       "9    2007      1384\n",
       "10   2006      1350\n",
       "11   2005      1283\n",
       "12   1996      1269\n",
       "13   2010      1252\n",
       "14   2009      1252\n",
       "15   1990      1122\n",
       "16   1992       912\n",
       "17   1991       766\n",
       "18   1994       691\n",
       "19   1995       509\n",
       "20   1993       354\n",
       "21   1985       346\n",
       "22   1988       335\n",
       "23   1989       280\n",
       "24   1980       279\n",
       "25   1986       154\n",
       "26   1984       150\n",
       "27   1987       132\n",
       "28   1983       124\n",
       "29   1982       114\n",
       "30   1981        92\n",
       "31   1973        59\n",
       "32   1977        39\n",
       "33   1978        37\n",
       "34   1976        27\n",
       "35   1975        27\n",
       "36   1971        19\n",
       "37   1972        15\n",
       "38   1979        11\n",
       "39   1974         9\n",
       "40   1970         4"
      ]
     },
     "execution_count": 32,
     "metadata": {},
     "output_type": "execute_result"
    }
   ],
   "source": [
    "dl = datos.Fecha.dt.year\n",
    "\n",
    "\n",
    "dx = dl.groupby(dl).agg([np.size]).sort_values(by=\"size\",ascending=False).reset_index()\n",
    "dx.columns = [\"Fecha\",\"Cantidad\"]\n",
    "\n",
    "dx"
   ]
  },
  {
   "cell_type": "code",
   "execution_count": 81,
   "id": "ca0a7a60-26e6-4730-8590-e2c01be85ec5",
   "metadata": {},
   "outputs": [
    {
     "name": "stdout",
     "output_type": "stream",
     "text": [
      "ztest  [2.90511224]\n",
      "Pvalue [0.00367121]\n",
      "intervalos (array([418.89651378]), array([2156.23681956]))\n"
     ]
    }
   ],
   "source": [
    "# Definir las dos muestras a comparar\n",
    "secuestros_2000_2005 = dx.loc[(dx[\"Fecha\"] >= 2000) & (dx[\"Fecha\"] <= 2005), [\"Cantidad\"]]\n",
    "secuestros_2006_2010 = dx.loc[(dx[\"Fecha\"] >= 2006) & (dx[\"Fecha\"] <= 2010), [\"Cantidad\"]]\n",
    "\n",
    "# Calcular la media y la desviación estándar de cada muestra\n",
    "mean_2000_2005 = secuestros_2000_2005.mean()\n",
    "std_2000_2005 = secuestros_2000_2005.std()\n",
    "n1 = secuestros_2000_2005.size\n",
    "\n",
    "mean_2006_2010 = secuestros_2006_2010.mean()\n",
    "std_2006_2010 = secuestros_2006_2010.std()\n",
    "n2 = secuestros_2006_2010.size\n",
    "\n",
    "# err \n",
    "e_df_mean = np.sqrt(((n1 - 1) * std_2000_2005 ** 2 + (n2 - 1) * std_2006_2010 **2) / (n1 + n2 - 2)) * np.sqrt(1/n1 + 1/n2)\n",
    "\n",
    "# Definir el nivel de significancia y el valor crítico correspondiente\n",
    "\n",
    "zcritico = norm.ppf(0.50+(0.95/2))\n",
    "\n",
    "# Calcular el valor del estadístico de prueba utilizando la fórmula z = (x1 - x2) / SE\n",
    "\n",
    "\n",
    "ztest_ = (mean_2000_2005 - mean_2006_2010) / e_df_mean\n",
    "ztest_\n",
    "# Comparar el valor del estadístico de prueba con el valor crítico y tomar una decisión sobre la hipótesis nula\n",
    "\n",
    "pvalue = 2 * (norm.cdf(-abs(ztest_)))\n",
    "pvalue\n",
    "print(\"ztest \",ztest_.values)\n",
    "print(\"Pvalue\",pvalue)\n",
    "\n",
    "# intervalo\n",
    "\n",
    "intervalos = (\n",
    "(mean_2000_2005.values - mean_2006_2010.values) - (z * e_df_mean.values),\n",
    "(mean_2000_2005.values - mean_2006_2010.values) + (z * e_df_mean.values)\n",
    ")\n",
    "print(\"intervalos\", intervalos)"
   ]
  },
  {
   "cell_type": "code",
   "execution_count": 82,
   "id": "7954fac8-b9f1-4457-963a-aded61d88f2e",
   "metadata": {},
   "outputs": [
    {
     "data": {
      "text/plain": [
       "(2.9051122407751815, 0.0036712142352196275)"
      ]
     },
     "execution_count": 82,
     "metadata": {},
     "output_type": "execute_result"
    }
   ],
   "source": [
    "from statsmodels.stats.weightstats import ztest\n",
    "pvalue = ztest(secuestros_2000_2005[\"Cantidad\"], secuestros_2006_2010[\"Cantidad\"])\n",
    "# corroborando resultados\n",
    "pvalue"
   ]
  },
  {
   "cell_type": "code",
   "execution_count": null,
   "id": "a2298bc0-68d9-4f69-9d14-c47f45c111b2",
   "metadata": {},
   "outputs": [],
   "source": []
  },
  {
   "cell_type": "code",
   "execution_count": null,
   "id": "7ee19f51-6121-458f-b148-01c75b456fea",
   "metadata": {},
   "outputs": [],
   "source": []
  },
  {
   "cell_type": "code",
   "execution_count": null,
   "id": "52866705-0027-4752-a4e4-7d1261e7b7a1",
   "metadata": {},
   "outputs": [],
   "source": []
  },
  {
   "cell_type": "code",
   "execution_count": null,
   "id": "f9e09057-aff0-4072-8318-e8d63a8d8095",
   "metadata": {},
   "outputs": [],
   "source": []
  },
  {
   "cell_type": "code",
   "execution_count": null,
   "id": "f1996a10-48d5-48d0-a0a7-3a12f2d734f6",
   "metadata": {},
   "outputs": [],
   "source": []
  }
 ],
 "metadata": {
  "kernelspec": {
   "display_name": "Python 3 (ipykernel)",
   "language": "python",
   "name": "python3"
  },
  "language_info": {
   "codemirror_mode": {
    "name": "ipython",
    "version": 3
   },
   "file_extension": ".py",
   "mimetype": "text/x-python",
   "name": "python",
   "nbconvert_exporter": "python",
   "pygments_lexer": "ipython3",
   "version": "3.9.13"
  }
 },
 "nbformat": 4,
 "nbformat_minor": 5
}
