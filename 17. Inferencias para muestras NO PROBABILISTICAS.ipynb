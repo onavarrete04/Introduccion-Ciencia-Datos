{
 "cells": [
  {
   "cell_type": "markdown",
   "id": "f688999c",
   "metadata": {},
   "source": [
    "Una de las dificultades de las muestras No probabilisticas es que no permiten confiar en la teoria del muestreo para hacer inferencias poblacionales basadas en distribuciones de muestreo esperadas.\n",
    "\n",
    "La teoria del muestreo es un área metematica que permite hacer inferencias de caracteristicas de las poblaciones en las cuales estan basadas estas distribuciones hipoteticas de muestreo. Son las matemáticas las que permiten estimar las caracteristicas de esas distribuciones de muestreo, determinar si son imparciales o no, ver la desviación de estandar de esas distribuciones, y en este punto cuando hablamos de muestras no probabilisticas no podremos confiar en estos datos matematicas para hacer inferencias poblacionales, pero hay otros enfoques para tratar de hacer inferencia poblacional. \n",
    "\n",
    "## Formas:\n",
    "\n",
    "# Pseudo-aleatorización\n",
    "\n",
    "Como ya se ha mencionado anteriormente (cuaderno jupyter 14) en esta técnica se combinan datos de una muestra no probabilistica, con datos de una muestra probabilistica.\n",
    "\n",
    "Por ejemplo, se quiere medir la presión arterial, la edad y la étnia racial en una muestra de voluntarios, cuando hablamos de voluntarios estamos hablando de una muestra no probabilistica. Ahora combinaremos estos datos con una muestra de probabilidad, para este caso la encuesta de salud NHANES, en este punto y de manera operativa, apilamos las dos muestras en una encima de la otra, aqui veremos los datos superpuestos, y veremos que hay datos adicionales de una muestra respecto a otra, pero tendrá que haber variables iguales. Ahora creamos una variable binaria, en el que colocamos 1 si el individuo es de una muestra no probabilistica y 0 si si es de una probabilistica. Aqui en este punto, se encajará el modelo de **regresión logistica** que básicamente intenta predecir la probabilidad de tener (1) en la variable binaria creada, o en palabras simples, la probabilidad de estar en la muestra no probabilistica, este modelo nos va a permitir ponderar los casos de no probabilidad por un valor simple de uno, ahora de maenra técnica hay un metodo matematico para esta nueva vertiente que debe ser revisada\n",
    "\n",
    "\n",
    "\n",
    "# Modelado poblacional \n",
    "\n",
    "Usamos el modelo predictivo, para predecir cantitadades totales de muestra, por ejemplo, tenemos un conjunto de datos sobre todos en la población, y tenemos una información auxiliar general sobre todos en esa poblacion y en la muestra no probabilistica dada solo recogemos  las mediciones de las variables de interes para un pequeño subconjunto de esa población total, para todos los demas hay valores faltantes en esas variables de encuesta que estamos tratando de medir , sabiando aun que contamos con la información auxiliar, bajo esa idea se encaja un **modelo de regresión y se usa ese modelo derivado de la muestra no probabilistica** para hacer predicciones de lo que todas las otras personas de la población podrían haber dicho si hubieran sido parte de la muestra no probabilistica. Dadas las predicciones de las variables de interes que no fueron incluidos en la mustra no probabilistica calculamos nuestras estimaciones de intereses usando el total de estimaciones sobre las variables de interés basadas en esas predicciones, este enfoque permite en recoger información auxiliar, pero no necesariamente debe incluir la misma información de la musetra no probabilistica y también se basa en tener buenos datos predictivos de las variables de interes   "
   ]
  }
 ],
 "metadata": {
  "kernelspec": {
   "display_name": "Python 3 (ipykernel)",
   "language": "python",
   "name": "python3"
  },
  "language_info": {
   "codemirror_mode": {
    "name": "ipython",
    "version": 3
   },
   "file_extension": ".py",
   "mimetype": "text/x-python",
   "name": "python",
   "nbconvert_exporter": "python",
   "pygments_lexer": "ipython3",
   "version": "3.9.7"
  }
 },
 "nbformat": 4,
 "nbformat_minor": 5
}
