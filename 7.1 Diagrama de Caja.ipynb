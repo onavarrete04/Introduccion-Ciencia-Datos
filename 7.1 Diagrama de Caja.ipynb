{
 "cells": [
  {
   "cell_type": "markdown",
   "id": "97d1648b",
   "metadata": {},
   "source": [
    "## Diagrama de Caja\n",
    "\n",
    "#### Cinco Datos de Resumen\n",
    "\n",
    "+ Min\n",
    "+ 1mer cuartil\n",
    "+ Media\n",
    "+ 3cer cuartil\n",
    "+ Max\n",
    "\n",
    "El diagrama de caja o llamado boxplot tomará estos cinco datos de resumen y nos reflejará de manera visual los mismos. \n",
    "\n",
    "Inicialmente en la caja se mostraran los cuartiles Q1 y Q3 que son las paredes laterales de la caja, y luego mostrará la Media que se reflejará como una linea en vertical en medio de la caja, finalmente, se mostrará los datos mínimos y máximos y si es el caso, se mostrará un signo (+) o (-) que representará los datos atipicos de los datos observables. \n",
    "\n",
    "Dentro de las desventajas de los diagramas de caja es que en ocasiones no hay la posibilidad de ver algunas cáracteristicas de los datos, entre ellas su distribución, para ello los histogramas proporcionan de mejor manera la forma de como estan los datos. "
   ]
  }
 ],
 "metadata": {
  "kernelspec": {
   "display_name": "Python 3 (ipykernel)",
   "language": "python",
   "name": "python3"
  },
  "language_info": {
   "codemirror_mode": {
    "name": "ipython",
    "version": 3
   },
   "file_extension": ".py",
   "mimetype": "text/x-python",
   "name": "python",
   "nbconvert_exporter": "python",
   "pygments_lexer": "ipython3",
   "version": "3.9.7"
  }
 },
 "nbformat": 4,
 "nbformat_minor": 5
}
