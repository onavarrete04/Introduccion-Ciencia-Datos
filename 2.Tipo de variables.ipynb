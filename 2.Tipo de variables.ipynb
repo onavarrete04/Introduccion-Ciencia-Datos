{
 "cells": [
  {
   "cell_type": "markdown",
   "id": "216543cd",
   "metadata": {},
   "source": [
    "### Tipo de variable\n",
    "\n",
    "En los datos pueden haber diferentes tipos de variable que debemos tener en cuenta para aplicar procesos estadísticos, por ejemplo, el indice de masa corporal puede ser un valor al que se le genere una media aritmetica. Sin embargo, un tipo de datos que indique la raza, el cuál se codifique númericamente no podría tener una media aritmetica porque el valor no sería realmente concluyente, entendiendo que para cada raza hay una codificación diferente, por lo cuál aplicar la media aritmetica como metodo estadístico no sería relevante para ese conjunto de datos, sin embargo, para el tipo de datos de raza (categóricos o cualitativos) se pueden aplicar otros metodos de análisis. \n",
    "\n",
    "> Hay que tener en cuenta que para el dato de la raza, hay algunos métodos de análisis les gusta tomar el promedio como variable categórica / cualitativa. \n",
    "\n",
    "### Variables cuantitativas\n",
    "\n",
    "Es una cantidad númerica medible que permite realizar facilmente operaciones aritmeticas, por ejemplo, el indice de masa corporal.\n",
    "\n",
    "#### Tipos de variables cuantitativas\n",
    "\n",
    "1. ##### Continuos\n",
    "\n",
    "Podría tomar cualquier valor dentro de un intervalo y podría ser muchos muchos valores posibles, como un gran tabla de indice de masa corporal, o el peso, la altura, el tiempo que toma determinada actividad (correr, saltar, hacer una tarea) \n",
    "\n",
    "2. ##### Discretos\n",
    "\n",
    "Es un número finito de números contables, por ejemplo, número de niños en un hogar, entendiendo, que no vamos a tener un numero de hijos 2.5, o 2.3, sino siempre son números enteros. \n",
    "\n",
    "### Variables categóricas o cualitativas\n",
    "\n",
    "Estas variables permiten clasificar individuos o elementos en diferentes grupos, teniendo en cuenta cáracteristicas similares o iguales, ejemplo el genero, nivel de escolaridad.\n",
    "\n",
    "#### Tipos de variables categóricas o cualitativas\n",
    "\n",
    "1. ##### Ordinal\n",
    "\n",
    "Tienen un tipo de orden o clasificación asociado, por ejemplo número de clasificación en la universidad; primer semestre, segundo semestre, octavo semestre, etc. o en los trabajos juniors o seniors. \n",
    "\n",
    "2. ##### Nominal\n",
    "\n",
    "No tienen ninguna clasificación asociada, por ejemplo, raza, género, estado civil. \n",
    "\n",
    "\n",
    "### Casos\n",
    "-----------------------------------------\n",
    "\n",
    "> La edad de una persona es representada como un valor entero normalmente, por lo que podríamos pensar que es un tipo de variable cuantitativa discreta, pero como se establece con un valor relacionado con el tiempo; algunos investigadores les interesaría utilizar este tipo de valor como cuantitativo continuo, entendiendo que hay estados en algunos paises como EE.UU que para poder conducir se deben tener 14 años con 9 meses de edad como mínimo, por lo cuál para un tipo de investigación que involucre el estudio desde que edad inician sus clases de conducción las personas de un estado, lo más apropiado establecer la edad como un valor cuantitativo continuo. \n",
    "\n",
    "> En una investigación se desea saber si una persona es mayor de edad o menor de edad, y si bien la edad puede ser representada como un número entero, podemos codificar la información colocando 0 cuando son menores de edad y 1 cuando son mayores de edad, por lo anterior, convertiriamos este dato en información categórica o cualitativa, pero se considera varlable nominal categórica, porque puede codificarse tambien como A como mayor y M como menor, y sería categórica nominal porque no tienen ninguna clasificación asociada, y podría ser cualitativa ordinal si queremos clasificar las personas que ingresan en la universidad y su tipo de edad.   "
   ]
  },
  {
   "cell_type": "markdown",
   "id": "c990f874",
   "metadata": {},
   "source": []
  },
  {
   "cell_type": "markdown",
   "id": "91618d0c",
   "metadata": {},
   "source": []
  }
 ],
 "metadata": {
  "kernelspec": {
   "display_name": "Python 3 (ipykernel)",
   "language": "python",
   "name": "python3"
  },
  "language_info": {
   "codemirror_mode": {
    "name": "ipython",
    "version": 3
   },
   "file_extension": ".py",
   "mimetype": "text/x-python",
   "name": "python",
   "nbconvert_exporter": "python",
   "pygments_lexer": "ipython3",
   "version": "3.9.13"
  }
 },
 "nbformat": 4,
 "nbformat_minor": 5
}
