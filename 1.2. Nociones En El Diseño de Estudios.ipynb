{
 "cells": [
  {
   "cell_type": "markdown",
   "id": "4b516d0f",
   "metadata": {},
   "source": [
    "# Nociones En El Diseño De Estudios\n",
    "\n",
    "\n",
    "Existe un gran espectro de diseño de estudios desde análisis exploratorio con datos aleatorios, hasta diseño de estudios con datos alineados a preguntas especificas. El diseño de estudio abarca toda la preparación de la investigación basada en datos.\n",
    "Igualmente, existen campos de estudio donde ya se han consolidado metodologías de estudio de datos de las cuales podemos aprender muchísimas experiencias.\n",
    "\n",
    "1. Ensayos Médicos: Grandes estudios para la creación de medicamentos.\n",
    "2. Industria manufacturera: Estudios de fiabilidad y garantía.\n",
    "3. Opinión publica, que incluyen mucha información.\n",
    "4. Otras.\n",
    "\n",
    "La tarea es encajar de manera adecuada el diseño del estudio, entendiendo que en ocasiones el diseño puede responder a varias categorías."
   ]
  },
  {
   "cell_type": "markdown",
   "id": "8f9599a8",
   "metadata": {},
   "source": [
    "### Estudios Exploratorios vs Estudios Confirmatorios\n",
    "\n",
    "Los estudios exploratorios de investigación están fundados en recoger o recopilar datos sin tener una pregunta previa o una hipótesis ya diseñada, y están encaminados a indagar y generar un acercamiento especifico con los datos o una variable especifica, para ir conociendo poco a poco el camino y hacernos una idea de los mismos. Por el contrario, los estudios confirmatorios están alineados con los métodos de investigación científica, por lo que se pre-diseñan hipótesis falseables (son sometidas a diferentes pruebas que puedan refutarlas o confirmarlas) para luego recoger la información y validar si la hipótesis es correcta o no, este método tiene el objetivo de responder a la hipótesis por medio de todo el conjunto de datos. \n",
    " \n",
    "\n",
    "En las hipótesis falseables se pueden ver:\n",
    "\n",
    "> Hipótesis Nula, que básicamente refleja la situación ideal de ese proceso (evidencia muestral) y se representa con Ho y es contraría al proceso de investigación.\n",
    "\n",
    "> Hipótesis Alterna, que resumen nuestras sospechas o inferencias previas sobre el proceso, se presenta con Ha.\n",
    "\n",
    "Ambos estudios pueden ser informativos, sin embargo, hay que tener precaución por problemas de sobreajuste:\n",
    "\n",
    "1. P-HACKING: Crear valores estadísticos inexistentes o artificiales por un mal uso de los datos, es decir, se hace una hipotesis: Los osos de goma evitan el dolor de cabeza, sin embargo, al evaluar los datos estadísticos nos damos cuenta que el p-valor (probabilidad de que un estudio calculado suceda) es menor al 5% (0.05) lo que evidencia que no hay significación estadística, pero el investigador decide manipular los datos, teniendo solo en cuenta aquellos que tienen un p-valor menor al 5% lo que hará en definitiva que el metodo llegue a un error. \n",
    "\n",
    "2. Overfitting: En palabras coloquiales y como he podido absorber este conocimiento, es entendiendo que el modelo estadístico esta teniendo en cuenta otros datos (ruido que asocia a la incertidumbre) de sobremanera, lo que impide que el proceso no sea adecuado. Sin embargo, para mí este es un primer abordaje a este concepto.\n",
    "\n",
    "3. Multiple testing: Se puede llegar al error cuando testeamos de manera incorrecta. Me encuentro entendiendo aún este elemento en estadística. \n",
    "\n",
    "\n",
    "### Estudios Comparativos vs Estudios No Comparativos\n",
    "\n",
    "Los estudios No Comparativos tienen el objeto de predecir cantidades absolutas, por ejemplo, predecir el aumento de ingresos de una empresa en un año, o el aumento de valor de acciones de una empresa, o la valorización de un terreno, y por el contrario, el comparativo quiere tomar un elemento de referencia y ver las diferencias de los mismos en contextos diferentes, por ejemplo, la producción de manzanas por hectárea utilizando determinado fertilizante, la preferencia de los votantes por un candidato entre otras.  \n",
    "\n",
    "\n",
    "### Estudios de Observación vs Estudios Experimentales\n",
    "\n",
    "Las investigaciones de observaciones están sustentadas en la auto-selección de las unidades en grupos, y en las experimentales el investigador puede tratar a las unidades de diferentes maneras, pudiendo incluir elementos de manipulación o asignación de los sujetos a un tratamiento. \n",
    "\n",
    "Para estudios de observación se podrían ver estudios que comparen el promedio de vida de las personas que fuman vs las que no, o el estado de una patología cancerosa en pulmón de una persona que fuma vs otra que no. \n",
    "\n",
    "Para estudios de experimentación, se puede observar el rendimiento de una legumbre modificada genéticamente vs una legumbre sin modificar, dividiendo en las mismas parcelas cada espacio, y que aleatoriamente se siembre la semilla modificada y la que no, o también, se use en la misma semilla fertilizante y en otras aleatoriamente no. \n",
    "\n",
    "En los experimentales existe un factor de aleatoriedad en los que se incluye un tratamiento diferente, y en las investigaciones por observación, los sujetos están expuestos a una condición (general) por lo tanto es más pasivo\n",
    "\n",
    "\n",
    "### Tipo de Hipotesis:\n",
    "\n",
    "1. Comparación: Como su nombre indica, esta comparando dos elementos, por ejemplo, ¿El salario medio en Europa es menor que el salario medio en EEUU?\n",
    "\n",
    "2. Relación o Asociación: Asocia un elemento con un resultado ¿Beber frecuentemente alcohol esta relacionado con padecer cáncer?\n",
    "\n",
    "3. Causalidad: ¿Las visitas en una web es la causa de éxito en un proyecto?\n",
    "\n",
    "### P VALOR\n",
    "\n",
    "El P-VALOR es la probabilidad error que existe en el proceso y bajo esta incertidumbre se puede elegir la hipótesis. \n",
    "\n",
    "Si la incertidumbre es muy grande, significa que hay una mayor probabilidad de fallar en ese estudio.\n",
    "\n",
    "> P-VALOR = 0.08 significa que el estudio fallara 8 de cada 100 veces cada de vamos y es una incertidumbre demasiado alta.\n",
    "    \n",
    "Entonces nos vamos a quedar con el Ho si el valor es P-VALOR es mayor al 5% (0.05)\n",
    "\n",
    "<strong>H1 > 0.05 </strong>\n",
    "\n",
    "o nos vamos a quedar con el Ha (hipotesis alternativa) si el P-VALOR es menor al 5%.\n",
    "\n",
    "<strong>H1 < 0.05 </strong>"
   ]
  },
  {
   "cell_type": "markdown",
   "id": "c71edf0f",
   "metadata": {},
   "source": [
    "### Estudio de potencia\n",
    "\n",
    "Permite evaluar si el diseño de un estudio puede producir resultados significativos, y su calculo depende del análisis que se va a ejecutar.\n",
    "\n",
    "### Sesgo\n",
    "\n",
    "Las mediciones están sistemáticamente fuera del objetivo de investigación, o la muestra no es representativa en el foco de estudio, los sesgos pueden aparecer en todos los diseños de los estudios, pero los estudios observacionales tienden a ser más vulnerables a estos. \n",
    "\n",
    "### Conclusiones\n",
    "\n",
    "Entre más datos más información se genera, pero también es muy importante saber como se recogen esos datos, porque si en una investigación se obtienen muchos datos pero no se relacionan directamente con los focos de interés, pues los resultados no serán concluyentes. Igualmente, durante los procesos del diseño de estudios deben tenerse en cuenta los posibles errores y el sesgo que aporta o puede aportar el grupo investigador, con el fin de preveer estso errores.  "
   ]
  },
  {
   "cell_type": "code",
   "execution_count": null,
   "id": "0eed5ab8",
   "metadata": {},
   "outputs": [],
   "source": []
  }
 ],
 "metadata": {
  "kernelspec": {
   "display_name": "Python 3 (ipykernel)",
   "language": "python",
   "name": "python3"
  },
  "language_info": {
   "codemirror_mode": {
    "name": "ipython",
    "version": 3
   },
   "file_extension": ".py",
   "mimetype": "text/x-python",
   "name": "python",
   "nbconvert_exporter": "python",
   "pygments_lexer": "ipython3",
   "version": "3.9.13"
  }
 },
 "nbformat": 4,
 "nbformat_minor": 5
}
