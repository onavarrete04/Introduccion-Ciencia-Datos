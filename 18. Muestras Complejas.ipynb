{
 "cells": [
  {
   "cell_type": "markdown",
   "id": "ed9ef60c",
   "metadata": {},
   "source": [
    "# Características de muestras complejas.\n",
    "\n",
    "1. Estratificación. Se define como la división de la población más grande. Por ejemplo, podemos dividir a Colombia en Departamentos, o  los Departamentos en Municipios, o los Municipios en Barrios. La idea con la estratificación es disminuir la varianza de muestreo. Ejemplo:\n",
    "\n",
    "    + Asignación proporcional: Nuestra población fue definida como el 70% de la población del estrato 1 y el 30% del estrato 2, así que si midieramos 100 unidades, 70 de esos individuos serían muestreados en el primer estrato y los 30 individuos restantes en el segundo. \n",
    "    \n",
    "    \n",
    "En general, la estratificación sirve para disminuir la varianza muestral, en palabras sencillas, disminuye la posibilidad de que hayamos incluido dentro de nuestra muestra unidades no representativas de la población, y que por ese motivo haya un aumento en nuestros errores.\n",
    "\n",
    "2. Clusterin / Conglomerados. Se produce un muestreo aleatorio de grupos más grandes de población y hay más etapas en el proceso, con el mismo ejemplo, Colombia en Departamentos, Departamentos en Municipios, Municipios en Barrios, y Barrios en  Casas, Casas en individuos. En este punto si bien compensamos en costos, nos aumenta la variabilidad, más aún si elegimos clusters diferentes, es decir los racimos son diferentes, ejemplo, elegimos un barrio en Santamarta y un barrio en Nariño, los dos racimos son distintos por las dinamicas socioculturales, y por lo tanto podría esto aumentar nuestra variabilidad, pero, estamos compesnando en costos. \n",
    "\n",
    "\n",
    "En ambos casos debemos tener en cuenta las probabilidades de selección de las unidades, esto debido a que con la estratificación o el conglomerado, las unidades seleccionadas pueden cambiar su probabilidad de selección y si no se tiene en cuenta esto, puede tenerse una imagen sesgada de la población. Por lo tal, deben crearse pesos como una herramienta para asegurar que la muestra se parezca a la población total.\n",
    "\n",
    "## ¿Cuando usamos los pesos de analizis y como funcionan?\n",
    "\n",
    "Si mi probabilidad de ser incluido en una prueba compleja era de 1/100 eso significa que estoy representandome, y represento a otras 99 personas. \n",
    "\n",
    "Ahora, soy una persona afro y mi probabilidad de elección es de (1/100) pero en la selección de las personas afro solo el 50% respondieron a la encuesta, eso debo tenerlo en cuenta como subgrupo, entonces la probabilidad ajustada sería:\n",
    "\n",
    "(1/100) * (1/05) = 200 \n",
    "\n",
    "Es decir, en consecuencia con el diseño de la encuesta, la unidad debera responder por ella misma y por otras 99 personas y nuevamente, tendrá que responder por las personas que no respondieron a la solicitud de encuesta real. Es decir que al final, la unidad encuestada habla por ella misma y por otras 199 unidades. \n",
    "\n",
    "El no uso de estos pesos, puede conducir a sesgo, debido a que con la medida de recolección de la información habrá personas que no querran responder a la encuesta de determinado subgrupo, y si eso no se tiene en cuenta, no habrá representatividad en las mismas, por tal motivo eso debe tenerse en cuenta. El problema de esto, es que pueden aumentar la varianza de muestreo de las estimaciones ponderadas, es decir que si hay mucha variabilidad en nuestros pesos, habrá mucha variabilidad en nuestras estimaciones a través de las muestras repetidas. \n",
    "\n",
    "### Error analitico.\n",
    "\n",
    "Es un error al identificar caracteristicas de muestreo. Por eso es importante saber de donde vienen los datos, y que tipo de diseño de muestra se utilizo para empezar a analizar los datos. \n",
    "\n",
    "\n",
    "\n"
   ]
  },
  {
   "cell_type": "code",
   "execution_count": null,
   "id": "fb36c1e8",
   "metadata": {},
   "outputs": [],
   "source": []
  }
 ],
 "metadata": {
  "kernelspec": {
   "display_name": "Python 3 (ipykernel)",
   "language": "python",
   "name": "python3"
  },
  "language_info": {
   "codemirror_mode": {
    "name": "ipython",
    "version": 3
   },
   "file_extension": ".py",
   "mimetype": "text/x-python",
   "name": "python",
   "nbconvert_exporter": "python",
   "pygments_lexer": "ipython3",
   "version": "3.9.7"
  }
 },
 "nbformat": 4,
 "nbformat_minor": 5
}
