{
 "cells": [
  {
   "cell_type": "markdown",
   "id": "cad15f5a",
   "metadata": {},
   "source": [
    "## Datos Categóricos\n",
    "\n",
    "Clasifica individuos o elementos en diferentes grupos. \n",
    "\n",
    "En muchas ocasiones tendremos varias categorías, y una de las formás de generar resumen por dichas categorías puede ser por una tabla de frecuencias con conteos o porcentajes.\n",
    "\n",
    "### Visualización Datos Categóricos\n",
    "\n",
    "La forma más común de visualizar datos categóricoes es con un gráfico de barras, otra forma común es la torta, pero en ocasiones no es recomendable por varias razones **problemas con el etiquetado, las rebanadas pueden resultar muy pequeñas, en ocasiones es dificil saber cual es la rebanada más grande**.\n"
   ]
  },
  {
   "cell_type": "code",
   "execution_count": null,
   "id": "20cf72ee",
   "metadata": {},
   "outputs": [],
   "source": []
  }
 ],
 "metadata": {
  "kernelspec": {
   "display_name": "Python 3 (ipykernel)",
   "language": "python",
   "name": "python3"
  },
  "language_info": {
   "codemirror_mode": {
    "name": "ipython",
    "version": 3
   },
   "file_extension": ".py",
   "mimetype": "text/x-python",
   "name": "python",
   "nbconvert_exporter": "python",
   "pygments_lexer": "ipython3",
   "version": "3.9.7"
  }
 },
 "nbformat": 4,
 "nbformat_minor": 5
}
