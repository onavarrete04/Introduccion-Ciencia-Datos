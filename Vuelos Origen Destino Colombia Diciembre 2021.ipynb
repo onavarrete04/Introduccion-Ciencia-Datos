{
 "cells": [
  {
   "cell_type": "markdown",
   "id": "17ea9fc8",
   "metadata": {},
   "source": [
    "## Caso Origen Destino Colombia Mes 2021\n",
    "\n",
    "Primera práctica manejando datos públicos de Colombia para hacer visualizaciones y analísis estadístico. El primer paso que vamos a realizar es importar las librerias de python con las que trabajaremos."
   ]
  },
  {
   "cell_type": "code",
   "execution_count": 1,
   "id": "29784b3d",
   "metadata": {},
   "outputs": [],
   "source": [
    "%matplotlib inline\n",
    "# Añadir los gráficos en el cuaderno, se usa dentro de los cuadernos jupyter\n",
    "import matplotlib.pyplot as plt\n",
    "import seaborn as sns\n",
    "import pandas as pd\n",
    "import numpy as np\n",
    "from scipy.stats import iqr"
   ]
  },
  {
   "cell_type": "markdown",
   "id": "1c8b7c41",
   "metadata": {},
   "source": [
    "Ahora vamos a importar los datos con los que vamos a trabajar las visualizaciones, teniendo en cuenta que hay palabras reservadas dentro de python, ejemplo, data, esto quiere decir que en algunas librerias la palabra data ya esta predefinida como parametro, y la idea es tener una buena práctica y no usar palabras reservadas porque podriamos producir errores en nuestros programas."
   ]
  },
  {
   "cell_type": "code",
   "execution_count": 19,
   "id": "3438b65c",
   "metadata": {},
   "outputs": [],
   "source": [
    "# df = data frame - dimesión columna, dimensión filas\n",
    "\n",
    "# Con pandas vamos a abrir nuestro archivo\n",
    "df = pd.read_csv(\"Base de Datos Origen - Destino Diciembre 2021.csv\")"
   ]
  },
  {
   "cell_type": "markdown",
   "id": "1d20ce3c",
   "metadata": {},
   "source": [
    "Primera visualización de nuestros datos para hacernos una idea de ellos, irlos conociendo, conocer el tipo de variables y observaciones existentes, para ello, vamos a ver primero vamos a representar nuestros datos en forma de tabla, y luego podremos obtener valores estadísticos de los mismos. "
   ]
  },
  {
   "cell_type": "code",
   "execution_count": 32,
   "id": "5c1a9e8f",
   "metadata": {},
   "outputs": [
    {
     "data": {
      "text/html": [
       "<div>\n",
       "<style scoped>\n",
       "    .dataframe tbody tr th:only-of-type {\n",
       "        vertical-align: middle;\n",
       "    }\n",
       "\n",
       "    .dataframe tbody tr th {\n",
       "        vertical-align: top;\n",
       "    }\n",
       "\n",
       "    .dataframe thead th {\n",
       "        text-align: right;\n",
       "    }\n",
       "</style>\n",
       "<table border=\"1\" class=\"dataframe\">\n",
       "  <thead>\n",
       "    <tr style=\"text-align: right;\">\n",
       "      <th></th>\n",
       "      <th>Sigla Empresa</th>\n",
       "      <th>Nombre</th>\n",
       "      <th>Fecha</th>\n",
       "      <th>Año</th>\n",
       "      <th>Número de Mes</th>\n",
       "      <th>Origen</th>\n",
       "      <th>Nombre.1</th>\n",
       "      <th>Ciudad Origen</th>\n",
       "      <th>Pais Origen</th>\n",
       "      <th>Destino</th>\n",
       "      <th>Nombre.2</th>\n",
       "      <th>Ciudad Destino</th>\n",
       "      <th>Pais Destino</th>\n",
       "      <th>Tráfico (N/I)</th>\n",
       "      <th>Tipo Vuelo</th>\n",
       "      <th>Pasajeros</th>\n",
       "      <th>PesoCargaYCorreo</th>\n",
       "    </tr>\n",
       "  </thead>\n",
       "  <tbody>\n",
       "    <tr>\n",
       "      <th>0</th>\n",
       "      <td>0EC</td>\n",
       "      <td>SAE</td>\n",
       "      <td>01-dic-21 00:00:00</td>\n",
       "      <td>2021</td>\n",
       "      <td>12</td>\n",
       "      <td>A02</td>\n",
       "      <td>CAÑO COLORADO</td>\n",
       "      <td>PUERTO INIRIDA</td>\n",
       "      <td>COLOMBIA</td>\n",
       "      <td>IDA</td>\n",
       "      <td>CESAR GAVIRIA TRUJILLO</td>\n",
       "      <td>PUERTO INIRIDA</td>\n",
       "      <td>COLOMBIA</td>\n",
       "      <td>N</td>\n",
       "      <td>T</td>\n",
       "      <td>3.0</td>\n",
       "      <td>13</td>\n",
       "    </tr>\n",
       "    <tr>\n",
       "      <th>1</th>\n",
       "      <td>0EC</td>\n",
       "      <td>SAE</td>\n",
       "      <td>01-dic-21 00:00:00</td>\n",
       "      <td>2021</td>\n",
       "      <td>12</td>\n",
       "      <td>A07</td>\n",
       "      <td>MORICHAL VIEJO</td>\n",
       "      <td>SAN JOSE DEL GUAVIARE</td>\n",
       "      <td>COLOMBIA</td>\n",
       "      <td>SJE</td>\n",
       "      <td>SAN JOSE DEL GUAVIARE- JORGE E GONZ</td>\n",
       "      <td>SAN JOSE DEL GUAVIARE</td>\n",
       "      <td>COLOMBIA</td>\n",
       "      <td>N</td>\n",
       "      <td>T</td>\n",
       "      <td>10.0</td>\n",
       "      <td>58</td>\n",
       "    </tr>\n",
       "    <tr>\n",
       "      <th>2</th>\n",
       "      <td>0EC</td>\n",
       "      <td>SAE</td>\n",
       "      <td>01-dic-21 00:00:00</td>\n",
       "      <td>2021</td>\n",
       "      <td>12</td>\n",
       "      <td>A08</td>\n",
       "      <td>EL PLACER</td>\n",
       "      <td>CUMARIBO</td>\n",
       "      <td>COLOMBIA</td>\n",
       "      <td>GYM</td>\n",
       "      <td>GUAYMARAL</td>\n",
       "      <td>CHIA</td>\n",
       "      <td>COLOMBIA</td>\n",
       "      <td>N</td>\n",
       "      <td>T</td>\n",
       "      <td>3.0</td>\n",
       "      <td>15</td>\n",
       "    </tr>\n",
       "    <tr>\n",
       "      <th>3</th>\n",
       "      <td>0EC</td>\n",
       "      <td>SAE</td>\n",
       "      <td>01-dic-21 00:00:00</td>\n",
       "      <td>2021</td>\n",
       "      <td>12</td>\n",
       "      <td>A09</td>\n",
       "      <td>PUNTA TIGRE</td>\n",
       "      <td>PUERTO INIRIDA</td>\n",
       "      <td>COLOMBIA</td>\n",
       "      <td>MVP</td>\n",
       "      <td>MITU</td>\n",
       "      <td>MITU</td>\n",
       "      <td>COLOMBIA</td>\n",
       "      <td>N</td>\n",
       "      <td>T</td>\n",
       "      <td>2.0</td>\n",
       "      <td>45</td>\n",
       "    </tr>\n",
       "    <tr>\n",
       "      <th>4</th>\n",
       "      <td>0EC</td>\n",
       "      <td>SAE</td>\n",
       "      <td>01-dic-21 00:00:00</td>\n",
       "      <td>2021</td>\n",
       "      <td>12</td>\n",
       "      <td>A13</td>\n",
       "      <td>MIRITI PARANA</td>\n",
       "      <td>MIRITI-PARANA</td>\n",
       "      <td>COLOMBIA</td>\n",
       "      <td>LET</td>\n",
       "      <td>LETICIA-ALFREDO VASQUEZ COBO</td>\n",
       "      <td>LETICIA</td>\n",
       "      <td>COLOMBIA</td>\n",
       "      <td>N</td>\n",
       "      <td>T</td>\n",
       "      <td>4.0</td>\n",
       "      <td>0</td>\n",
       "    </tr>\n",
       "  </tbody>\n",
       "</table>\n",
       "</div>"
      ],
      "text/plain": [
       "  Sigla Empresa Nombre               Fecha   Año  Número de Mes Origen  \\\n",
       "0           0EC    SAE  01-dic-21 00:00:00  2021             12    A02   \n",
       "1           0EC    SAE  01-dic-21 00:00:00  2021             12    A07   \n",
       "2           0EC    SAE  01-dic-21 00:00:00  2021             12    A08   \n",
       "3           0EC    SAE  01-dic-21 00:00:00  2021             12    A09   \n",
       "4           0EC    SAE  01-dic-21 00:00:00  2021             12    A13   \n",
       "\n",
       "         Nombre.1          Ciudad Origen Pais Origen Destino  \\\n",
       "0   CAÑO COLORADO         PUERTO INIRIDA    COLOMBIA     IDA   \n",
       "1  MORICHAL VIEJO  SAN JOSE DEL GUAVIARE    COLOMBIA     SJE   \n",
       "2       EL PLACER               CUMARIBO    COLOMBIA     GYM   \n",
       "3     PUNTA TIGRE         PUERTO INIRIDA    COLOMBIA     MVP   \n",
       "4   MIRITI PARANA          MIRITI-PARANA    COLOMBIA     LET   \n",
       "\n",
       "                              Nombre.2         Ciudad Destino Pais Destino  \\\n",
       "0               CESAR GAVIRIA TRUJILLO         PUERTO INIRIDA     COLOMBIA   \n",
       "1  SAN JOSE DEL GUAVIARE- JORGE E GONZ  SAN JOSE DEL GUAVIARE     COLOMBIA   \n",
       "2                            GUAYMARAL                   CHIA     COLOMBIA   \n",
       "3                                 MITU                   MITU     COLOMBIA   \n",
       "4         LETICIA-ALFREDO VASQUEZ COBO                LETICIA     COLOMBIA   \n",
       "\n",
       "  Tráfico (N/I) Tipo Vuelo  Pasajeros PesoCargaYCorreo  \n",
       "0             N          T        3.0               13  \n",
       "1             N          T       10.0               58  \n",
       "2             N          T        3.0               15  \n",
       "3             N          T        2.0               45  \n",
       "4             N          T        4.0                0  "
      ]
     },
     "execution_count": 32,
     "metadata": {},
     "output_type": "execute_result"
    }
   ],
   "source": [
    "df.head()"
   ]
  },
  {
   "cell_type": "code",
   "execution_count": 33,
   "id": "32ff73e7",
   "metadata": {},
   "outputs": [
    {
     "data": {
      "text/plain": [
       "Sigla Empresa        object\n",
       "Nombre               object\n",
       "Fecha                object\n",
       "Año                   int64\n",
       "Número de Mes         int64\n",
       "Origen               object\n",
       "Nombre.1             object\n",
       "Ciudad Origen        object\n",
       "Pais Origen          object\n",
       "Destino              object\n",
       "Nombre.2             object\n",
       "Ciudad Destino       object\n",
       "Pais Destino         object\n",
       "Tráfico (N/I)        object\n",
       "Tipo Vuelo           object\n",
       "Pasajeros           float64\n",
       "PesoCargaYCorreo     object\n",
       "dtype: object"
      ]
     },
     "execution_count": 33,
     "metadata": {},
     "output_type": "execute_result"
    }
   ],
   "source": [
    "# Veremos tipos de variables de nuestro data frame\n",
    "\n",
    "df.dtypes"
   ]
  },
  {
   "cell_type": "code",
   "execution_count": 48,
   "id": "09dbda41",
   "metadata": {},
   "outputs": [],
   "source": [
    "# como vemos el pesoCargaYCorreo es un objeto, es decir es un string, y sería importante que ese dato fuera \n",
    "# un entero o float por si quisieramos hacer calculos con el\n",
    "df = df[~df['PesoCargaYCorreo'].isnull()] # elimina NaN en los datos\n",
    "\n"
   ]
  },
  {
   "cell_type": "code",
   "execution_count": 61,
   "id": "7337086a",
   "metadata": {},
   "outputs": [],
   "source": [
    "df[\"PesoCargaYCorreo\"] = df[\"PesoCargaYCorreo\"].str.replace(\",\",\"\")\n",
    "df[\"PesoCargaYCorreo\"] = df['PesoCargaYCorreo'].astype('int', errors=\"ignore\")\n",
    "\n"
   ]
  },
  {
   "cell_type": "code",
   "execution_count": null,
   "id": "6dc56c99",
   "metadata": {},
   "outputs": [],
   "source": [
    "\n"
   ]
  },
  {
   "cell_type": "code",
   "execution_count": null,
   "id": "7f4277e7",
   "metadata": {},
   "outputs": [],
   "source": []
  },
  {
   "cell_type": "markdown",
   "id": "e7fe30d6",
   "metadata": {},
   "source": []
  },
  {
   "cell_type": "markdown",
   "id": "b742b156",
   "metadata": {},
   "source": [
    "De manera preliminar podemos observar que los viajeros o turistase dirigen en mayor proporción desde Bogotá, y si bien eso parece normal porque conocemos la dinamica turística y de transporte de Colombia, puede ser un valor importante si esque estamos evaluando datos turísticos de otros paises, ahora, se observa que hay un total de 6102 observaciones en esta variable."
   ]
  },
  {
   "cell_type": "code",
   "execution_count": 89,
   "id": "e489ad74",
   "metadata": {},
   "outputs": [
    {
     "name": "stdout",
     "output_type": "stream",
     "text": [
      "BOGOTA                  1033\n",
      "RIONEGRO - ANTIOQUIA     318\n",
      "CARTAGENA                294\n",
      "CALI                     245\n",
      "MITU                     206\n",
      "                        ... \n",
      "MENDOZA                    1\n",
      "MAR DE LA PLATA            1\n",
      "COMODORO                   1\n",
      "CORDOBA                    1\n",
      "TARAPOTO                   1\n",
      "Name: Ciudad Origen, Length: 410, dtype: int64\n"
     ]
    },
    {
     "data": {
      "text/plain": [
       "6102"
      ]
     },
     "execution_count": 89,
     "metadata": {},
     "output_type": "execute_result"
    }
   ],
   "source": [
    "print(df[\"Ciudad Origen\"].value_counts())\n",
    "df[\"Ciudad Origen\"].value_counts().sum()"
   ]
  },
  {
   "cell_type": "markdown",
   "id": "98dac1e3",
   "metadata": {},
   "source": [
    "También podemos conocer que el destino predilecto por los viajeros es Bogotá, esto puede a dos situaciones, la primera es que se utilizan en mayor medida los servicios de transporte de Bogotá por tener un desarrollo en infraestructura, o que en la base de datos se esten reportando datos de los mismos usuarios ida y vuelta. "
   ]
  },
  {
   "cell_type": "code",
   "execution_count": 92,
   "id": "ffebec6e",
   "metadata": {},
   "outputs": [
    {
     "name": "stdout",
     "output_type": "stream",
     "text": [
      "BOGOTA - ELDORADO                 1019\n",
      "RIONEGRO - JOSE M. CORDOVA         378\n",
      "CARTAGENA - RAFAEL NUQEZ           241\n",
      "CALI - ALFONSO BONILLA ARAGON      230\n",
      "BARRANQUILLA-E. CORTISSOZ          166\n",
      "                                  ... \n",
      "EL PLACER                            1\n",
      "MAJAGUILLO                           1\n",
      "BUENOS AIRES/AEROPARQUE, JORGE       1\n",
      "ALBANY                               1\n",
      "TARAPOTO                             1\n",
      "Name: Nombre.2, Length: 522, dtype: int64\n"
     ]
    },
    {
     "data": {
      "text/plain": [
       "6102"
      ]
     },
     "execution_count": 92,
     "metadata": {},
     "output_type": "execute_result"
    }
   ],
   "source": [
    "print(df[\"Nombre.2\"].value_counts())\n",
    "df[\"Nombre.2\"].value_counts().sum()"
   ]
  },
  {
   "cell_type": "code",
   "execution_count": 100,
   "id": "b903ee32",
   "metadata": {},
   "outputs": [
    {
     "data": {
      "text/plain": [
       "<seaborn.axisgrid.FacetGrid at 0x7fd3632b6b20>"
      ]
     },
     "execution_count": 100,
     "metadata": {},
     "output_type": "execute_result"
    },
    {
     "data": {
      "image/png": "[encoded data removed]",
      "text/plain": [
       "<Figure size 360x360 with 1 Axes>"
      ]
     },
     "metadata": {
      "needs_background": "light"
     },
     "output_type": "display_data"
    }
   ],
   "source": [
    "sns.displot(df.Pasajeros.dropna())"
   ]
  },
  {
   "cell_type": "code",
   "execution_count": 101,
   "id": "9310deb8",
   "metadata": {},
   "outputs": [
    {
     "name": "stderr",
     "output_type": "stream",
     "text": [
      "/home/oscar/anaconda3/lib/python3.9/site-packages/seaborn/_decorators.py:36: FutureWarning: Pass the following variable as a keyword arg: x. From version 0.12, the only valid positional argument will be `data`, and passing other arguments without an explicit keyword will result in an error or misinterpretation.\n",
      "  warnings.warn(\n"
     ]
    },
    {
     "data": {
      "text/plain": [
       "<AxesSubplot:xlabel='Pasajeros'>"
      ]
     },
     "execution_count": 101,
     "metadata": {},
     "output_type": "execute_result"
    },
    {
     "data": {
      "image/png": "[encoded data removed]",
      "text/plain": [
       "<Figure size 432x288 with 1 Axes>"
      ]
     },
     "metadata": {
      "needs_background": "light"
     },
     "output_type": "display_data"
    }
   ],
   "source": [
    "sns.boxplot(df.Pasajeros)"
   ]
  },
  {
   "cell_type": "code",
   "execution_count": 102,
   "id": "9ccd8f90",
   "metadata": {},
   "outputs": [
    {
     "data": {
      "text/plain": [
       "count    6101.000000\n",
       "mean       57.373927\n",
       "std       136.382396\n",
       "min         0.000000\n",
       "25%         2.000000\n",
       "50%         7.795000\n",
       "75%        38.000000\n",
       "max       999.000000\n",
       "Name: Pasajeros, dtype: float64"
      ]
     },
     "execution_count": 102,
     "metadata": {},
     "output_type": "execute_result"
    }
   ],
   "source": [
    "df.Pasajeros.describe()"
   ]
  },
  {
   "cell_type": "code",
   "execution_count": 103,
   "id": "506e9bbd",
   "metadata": {},
   "outputs": [
    {
     "data": {
      "text/plain": [
       "0.000      948\n",
       "1.000      377\n",
       "2.000      359\n",
       "3.000      232\n",
       "4.000      208\n",
       "          ... \n",
       "2.364        1\n",
       "519.000      1\n",
       "616.000      1\n",
       "5.420        1\n",
       "7.071        1\n",
       "Name: Pasajeros, Length: 1098, dtype: int64"
      ]
     },
     "execution_count": 103,
     "metadata": {},
     "output_type": "execute_result"
    }
   ],
   "source": [
    "df.Pasajeros.value_counts()"
   ]
  },
  {
   "cell_type": "code",
   "execution_count": 105,
   "id": "61af5fd8",
   "metadata": {},
   "outputs": [
    {
     "data": {
      "text/plain": [
       "Ciudad Origen  Pasajeros\n",
       "ABENDEEN       1.0          1\n",
       "               15.0         1\n",
       "ABIDJAN        18.0         1\n",
       "ABU DHABI      6.0          1\n",
       "ACANDI         0.0          1\n",
       "                           ..\n",
       "ZURICH         87.0         1\n",
       "               114.0        1\n",
       "               167.0        1\n",
       "               237.0        1\n",
       "               411.0        1\n",
       "Name: Pasajeros, Length: 3739, dtype: int64"
      ]
     },
     "execution_count": 105,
     "metadata": {},
     "output_type": "execute_result"
    }
   ],
   "source": [
    "df.groupby(\"Ciudad Origen\")[\"Pasajeros\"].value_counts()"
   ]
  },
  {
   "cell_type": "code",
   "execution_count": null,
   "id": "da55ddb9",
   "metadata": {},
   "outputs": [],
   "source": []
  }
 ],
 "metadata": {
  "kernelspec": {
   "display_name": "Python 3 (ipykernel)",
   "language": "python",
   "name": "python3"
  },
  "language_info": {
   "codemirror_mode": {
    "name": "ipython",
    "version": 3
   },
   "file_extension": ".py",
   "mimetype": "text/x-python",
   "name": "python",
   "nbconvert_exporter": "python",
   "pygments_lexer": "ipython3",
   "version": "3.9.7"
  }
 },
 "nbformat": 4,
 "nbformat_minor": 5
}
