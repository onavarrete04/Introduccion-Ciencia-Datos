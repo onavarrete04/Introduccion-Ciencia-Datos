{
 "cells": [
  {
   "cell_type": "markdown",
   "id": "74b82fa1",
   "metadata": {},
   "source": [
    "\n",
    "PRUEBA TÉCNICA ANALÍTICA\n",
    "\n",
    "\n",
    "\n",
    "\n"
   ]
  },
  {
   "cell_type": "code",
   "execution_count": 1,
   "id": "13c1b073",
   "metadata": {},
   "outputs": [],
   "source": [
    "import pandas as pd\n",
    "import matplotlib.pyplot as plt\n",
    "# Importamos pandas para manipular datos\n"
   ]
  },
  {
   "cell_type": "code",
   "execution_count": 2,
   "id": "737705d2",
   "metadata": {},
   "outputs": [],
   "source": [
    "df = pd.read_csv(\"PRUEBA_B1M.csv\")\n",
    "df2 = pd.read_csv(\"Prueba_B2_ATR.csv\")\n",
    "df3 = pd.read_csv(\"PRUEBA_B3M.csv\")"
   ]
  },
  {
   "cell_type": "code",
   "execution_count": 3,
   "id": "fe18c10e",
   "metadata": {},
   "outputs": [
    {
     "name": "stdout",
     "output_type": "stream",
     "text": [
      "<class 'pandas.core.frame.DataFrame'>\n",
      "RangeIndex: 1000000 entries, 0 to 999999\n",
      "Data columns (total 8 columns):\n",
      " #   Column         Non-Null Count    Dtype  \n",
      "---  ------         --------------    -----  \n",
      " 0   Unnamed: 0     1000000 non-null  int64  \n",
      " 1   CCA            1000000 non-null  float64\n",
      " 2   ID             1000000 non-null  object \n",
      " 3   CODIGOTX       1000000 non-null  object \n",
      " 4   MOTIVOCAPTURA  999999 non-null   object \n",
      " 5   VALOR          1000000 non-null  object \n",
      " 6   NATURALEZA     999996 non-null   object \n",
      " 7   AREA           1000000 non-null  int64  \n",
      "dtypes: float64(1), int64(2), object(5)\n",
      "memory usage: 61.0+ MB\n"
     ]
    }
   ],
   "source": [
    "df.info()"
   ]
  },
  {
   "cell_type": "code",
   "execution_count": 4,
   "id": "ec67b446",
   "metadata": {},
   "outputs": [
    {
     "data": {
      "text/html": [
       "<div>\n",
       "<style scoped>\n",
       "    .dataframe tbody tr th:only-of-type {\n",
       "        vertical-align: middle;\n",
       "    }\n",
       "\n",
       "    .dataframe tbody tr th {\n",
       "        vertical-align: top;\n",
       "    }\n",
       "\n",
       "    .dataframe thead th {\n",
       "        text-align: right;\n",
       "    }\n",
       "</style>\n",
       "<table border=\"1\" class=\"dataframe\">\n",
       "  <thead>\n",
       "    <tr style=\"text-align: right;\">\n",
       "      <th></th>\n",
       "      <th>Unnamed: 0</th>\n",
       "      <th>CCA</th>\n",
       "      <th>ID</th>\n",
       "      <th>CODIGOTX</th>\n",
       "      <th>MOTIVOCAPTURA</th>\n",
       "      <th>VALOR</th>\n",
       "      <th>NATURALEZA</th>\n",
       "      <th>AREA</th>\n",
       "    </tr>\n",
       "  </thead>\n",
       "  <tbody>\n",
       "    <tr>\n",
       "      <th>0</th>\n",
       "      <td>1</td>\n",
       "      <td>359885.0</td>\n",
       "      <td>CA_c_359885</td>\n",
       "      <td>70#</td>\n",
       "      <td>70</td>\n",
       "      <td>$18244,190000000002</td>\n",
       "      <td>D</td>\n",
       "      <td>9724</td>\n",
       "    </tr>\n",
       "    <tr>\n",
       "      <th>1</th>\n",
       "      <td>2</td>\n",
       "      <td>2685396.0</td>\n",
       "      <td>CA_c_3878818</td>\n",
       "      <td>70#</td>\n",
       "      <td>70</td>\n",
       "      <td>$3302,14</td>\n",
       "      <td>D</td>\n",
       "      <td>9770</td>\n",
       "    </tr>\n",
       "    <tr>\n",
       "      <th>2</th>\n",
       "      <td>3</td>\n",
       "      <td>2325317.0</td>\n",
       "      <td>CA_c_2716720</td>\n",
       "      <td>CF#</td>\n",
       "      <td>Y6</td>\n",
       "      <td>$16275,68</td>\n",
       "      <td>D</td>\n",
       "      <td>9724</td>\n",
       "    </tr>\n",
       "    <tr>\n",
       "      <th>3</th>\n",
       "      <td>4</td>\n",
       "      <td>46495.0</td>\n",
       "      <td>CA_c_46495</td>\n",
       "      <td>70#</td>\n",
       "      <td>70</td>\n",
       "      <td>$12520,27</td>\n",
       "      <td>D</td>\n",
       "      <td>9724</td>\n",
       "    </tr>\n",
       "    <tr>\n",
       "      <th>4</th>\n",
       "      <td>5</td>\n",
       "      <td>4541380.0</td>\n",
       "      <td>CA_c_6498042</td>\n",
       "      <td>70#</td>\n",
       "      <td>70</td>\n",
       "      <td>$7516,9</td>\n",
       "      <td>D</td>\n",
       "      <td>9724</td>\n",
       "    </tr>\n",
       "  </tbody>\n",
       "</table>\n",
       "</div>"
      ],
      "text/plain": [
       "   Unnamed: 0        CCA            ID CODIGOTX MOTIVOCAPTURA  \\\n",
       "0           1   359885.0   CA_c_359885      70#            70   \n",
       "1           2  2685396.0  CA_c_3878818      70#            70   \n",
       "2           3  2325317.0  CA_c_2716720      CF#            Y6   \n",
       "3           4    46495.0    CA_c_46495      70#            70   \n",
       "4           5  4541380.0  CA_c_6498042      70#            70   \n",
       "\n",
       "                 VALOR NATURALEZA  AREA  \n",
       "0  $18244,190000000002          D  9724  \n",
       "1             $3302,14          D  9770  \n",
       "2            $16275,68          D  9724  \n",
       "3            $12520,27          D  9724  \n",
       "4              $7516,9          D  9724  "
      ]
     },
     "execution_count": 4,
     "metadata": {},
     "output_type": "execute_result"
    }
   ],
   "source": [
    "df.head()"
   ]
  },
  {
   "cell_type": "markdown",
   "id": "68a60e71",
   "metadata": {},
   "source": []
  },
  {
   "cell_type": "code",
   "execution_count": 5,
   "id": "82f4219c",
   "metadata": {},
   "outputs": [
    {
     "data": {
      "text/plain": [
       "count    1000000.000000\n",
       "mean        9743.121076\n",
       "std          126.916919\n",
       "min         5435.000000\n",
       "25%         9724.000000\n",
       "50%         9724.000000\n",
       "75%         9770.000000\n",
       "max         9999.000000\n",
       "Name: AREA, dtype: float64"
      ]
     },
     "execution_count": 5,
     "metadata": {},
     "output_type": "execute_result"
    }
   ],
   "source": [
    "# Vamos a obtener una medida descriptiva estadística de los datos \n",
    "\n",
    "df.AREA.describe()"
   ]
  },
  {
   "cell_type": "markdown",
   "id": "c1dfaae4",
   "metadata": {},
   "source": [
    "Observando los datos nos damos cuenta que se esta solicitando que la variable VALOR sea un dato numeric, es decir, que sea un dato float64 (decimal) y que la variable area sea un tipo de dato object es decir, una cadena de caracteres (string)"
   ]
  },
  {
   "cell_type": "code",
   "execution_count": 6,
   "id": "564ac995",
   "metadata": {},
   "outputs": [
    {
     "name": "stderr",
     "output_type": "stream",
     "text": [
      "/tmp/ipykernel_9838/3390589693.py:3: FutureWarning: The default value of regex will change from True to False in a future version. In addition, single character regular expressions will *not* be treated as literal strings when regex=True.\n",
      "  df.VALOR = df.VALOR.str.replace(\"$\",\"\") # Antes de convertirlo en un float/numeric, le quitamos el elemento $\n"
     ]
    },
    {
     "name": "stdout",
     "output_type": "stream",
     "text": [
      "<class 'pandas.core.frame.DataFrame'>\n",
      "RangeIndex: 1000000 entries, 0 to 999999\n",
      "Data columns (total 8 columns):\n",
      " #   Column         Non-Null Count    Dtype  \n",
      "---  ------         --------------    -----  \n",
      " 0   Unnamed: 0     1000000 non-null  int64  \n",
      " 1   CCA            1000000 non-null  float64\n",
      " 2   ID             1000000 non-null  object \n",
      " 3   CODIGOTX       1000000 non-null  object \n",
      " 4   MOTIVOCAPTURA  999999 non-null   object \n",
      " 5   VALOR          1000000 non-null  float64\n",
      " 6   NATURALEZA     999996 non-null   object \n",
      " 7   AREA           1000000 non-null  int64  \n",
      "dtypes: float64(2), int64(2), object(4)\n",
      "memory usage: 61.0+ MB\n"
     ]
    }
   ],
   "source": [
    "# Cambiando las variables\n",
    "\n",
    "df.VALOR = df.VALOR.str.replace(\"$\",\"\") # Antes de convertirlo en un float/numeric, le quitamos el elemento $\n",
    "df.VALOR = df.VALOR.str.replace(\",\",\"\") # también le quitaremos la , recordando que un decimal es con el signo .\n",
    "df.VALOR = df.VALOR.astype(float)\n",
    "\n",
    "\n",
    "df.info()\n",
    "\n",
    "# out -> ya podemos ver que convertimos la variable valor a un numeric, es decir a un float64"
   ]
  },
  {
   "cell_type": "code",
   "execution_count": 7,
   "id": "26af9a46",
   "metadata": {},
   "outputs": [],
   "source": [
    "# convertir la variable area en un object, a un string\n",
    "\n",
    "df.AREA = df.AREA.astype(\"object\")"
   ]
  },
  {
   "cell_type": "code",
   "execution_count": 8,
   "id": "49d74a91",
   "metadata": {},
   "outputs": [],
   "source": [
    "# Eliminando la tabla UNNAMED debido a que es un requerimiento no solicitado\n",
    "\n",
    "df = df.drop([\"Unnamed: 0\"], axis = 1)"
   ]
  },
  {
   "cell_type": "code",
   "execution_count": 9,
   "id": "28a3f8bb",
   "metadata": {},
   "outputs": [
    {
     "name": "stdout",
     "output_type": "stream",
     "text": [
      "<class 'pandas.core.frame.DataFrame'>\n",
      "RangeIndex: 1000000 entries, 0 to 999999\n",
      "Data columns (total 7 columns):\n",
      " #   Column         Non-Null Count    Dtype  \n",
      "---  ------         --------------    -----  \n",
      " 0   CCA            1000000 non-null  float64\n",
      " 1   ID             1000000 non-null  object \n",
      " 2   CODIGOTX       1000000 non-null  object \n",
      " 3   MOTIVOCAPTURA  999999 non-null   object \n",
      " 4   VALOR          1000000 non-null  float64\n",
      " 5   NATURALEZA     999996 non-null   object \n",
      " 6   AREA           1000000 non-null  object \n",
      "dtypes: float64(2), object(5)\n",
      "memory usage: 53.4+ MB\n"
     ]
    }
   ],
   "source": [
    "df.info()"
   ]
  },
  {
   "cell_type": "code",
   "execution_count": 10,
   "id": "dccffd55",
   "metadata": {},
   "outputs": [
    {
     "name": "stdout",
     "output_type": "stream",
     "text": [
      "<class 'pandas.core.frame.DataFrame'>\n",
      "RangeIndex: 548 entries, 0 to 547\n",
      "Data columns (total 3 columns):\n",
      " #   Column         Non-Null Count  Dtype  \n",
      "---  ------         --------------  -----  \n",
      " 0   CODIGOTX       548 non-null    object \n",
      " 1   MOTIVOCAPTURA  548 non-null    object \n",
      " 2   ATRIB          548 non-null    float64\n",
      "dtypes: float64(1), object(2)\n",
      "memory usage: 13.0+ KB\n"
     ]
    }
   ],
   "source": [
    "df2.info()"
   ]
  },
  {
   "cell_type": "markdown",
   "id": "5b7191c0",
   "metadata": {},
   "source": [
    "La base de datos 2 esta conforme a las especificaciones dadas, no es necesario limpiar la información."
   ]
  },
  {
   "cell_type": "code",
   "execution_count": 11,
   "id": "4fc5055d",
   "metadata": {},
   "outputs": [
    {
     "name": "stdout",
     "output_type": "stream",
     "text": [
      "<class 'pandas.core.frame.DataFrame'>\n",
      "RangeIndex: 200000 entries, 0 to 199999\n",
      "Data columns (total 8 columns):\n",
      " #   Column         Non-Null Count   Dtype \n",
      "---  ------         --------------   ----- \n",
      " 0   Unnamed: 0     200000 non-null  int64 \n",
      " 1   CCA            200000 non-null  int64 \n",
      " 2   ID             200000 non-null  object\n",
      " 3   CODIGOTX       200000 non-null  object\n",
      " 4   MOTIVOCAPTURA  200000 non-null  object\n",
      " 5   VALOR          200000 non-null  object\n",
      " 6   NATURALEZA     200000 non-null  object\n",
      " 7   AREA           200000 non-null  int64 \n",
      "dtypes: int64(3), object(5)\n",
      "memory usage: 12.2+ MB\n"
     ]
    }
   ],
   "source": [
    "# Se hace necesario limpiar la base de datos 3 conforme a las especificaciones dadas, en este caso\n",
    "# vamos a cambiar los tipos de datos Unnamed, CCA, VALOR, AREA\n",
    "\n",
    "df3.info()"
   ]
  },
  {
   "cell_type": "code",
   "execution_count": 12,
   "id": "fd0e517b",
   "metadata": {},
   "outputs": [
    {
     "name": "stderr",
     "output_type": "stream",
     "text": [
      "/tmp/ipykernel_9838/591398810.py:3: FutureWarning: The default value of regex will change from True to False in a future version. In addition, single character regular expressions will *not* be treated as literal strings when regex=True.\n",
      "  df3.VALOR = df3.VALOR.str.replace(\"$\",\"\")\n"
     ]
    },
    {
     "data": {
      "text/html": [
       "<div>\n",
       "<style scoped>\n",
       "    .dataframe tbody tr th:only-of-type {\n",
       "        vertical-align: middle;\n",
       "    }\n",
       "\n",
       "    .dataframe tbody tr th {\n",
       "        vertical-align: top;\n",
       "    }\n",
       "\n",
       "    .dataframe thead th {\n",
       "        text-align: right;\n",
       "    }\n",
       "</style>\n",
       "<table border=\"1\" class=\"dataframe\">\n",
       "  <thead>\n",
       "    <tr style=\"text-align: right;\">\n",
       "      <th></th>\n",
       "      <th>CCA</th>\n",
       "      <th>ID</th>\n",
       "      <th>CODIGOTX</th>\n",
       "      <th>MOTIVOCAPTURA</th>\n",
       "      <th>VALOR</th>\n",
       "      <th>NATURALEZA</th>\n",
       "      <th>AREA</th>\n",
       "    </tr>\n",
       "  </thead>\n",
       "  <tbody>\n",
       "    <tr>\n",
       "      <th>0</th>\n",
       "      <td>32917</td>\n",
       "      <td>CA_c_32917</td>\n",
       "      <td>70#</td>\n",
       "      <td>70</td>\n",
       "      <td>2143655.0</td>\n",
       "      <td>D</td>\n",
       "      <td>9724</td>\n",
       "    </tr>\n",
       "    <tr>\n",
       "      <th>1</th>\n",
       "      <td>1474941</td>\n",
       "      <td>CA_c_1474941</td>\n",
       "      <td>70#</td>\n",
       "      <td>70</td>\n",
       "      <td>2114609.0</td>\n",
       "      <td>D</td>\n",
       "      <td>9770</td>\n",
       "    </tr>\n",
       "    <tr>\n",
       "      <th>2</th>\n",
       "      <td>2342398</td>\n",
       "      <td>CA_c_2733801</td>\n",
       "      <td>CF#</td>\n",
       "      <td>Y6</td>\n",
       "      <td>267636.0</td>\n",
       "      <td>D</td>\n",
       "      <td>9724</td>\n",
       "    </tr>\n",
       "    <tr>\n",
       "      <th>3</th>\n",
       "      <td>684941</td>\n",
       "      <td>CA_c_684941</td>\n",
       "      <td>70#</td>\n",
       "      <td>70</td>\n",
       "      <td>705702.0</td>\n",
       "      <td>D</td>\n",
       "      <td>9724</td>\n",
       "    </tr>\n",
       "    <tr>\n",
       "      <th>4</th>\n",
       "      <td>2143744</td>\n",
       "      <td>CA_c_2143744</td>\n",
       "      <td>CF#</td>\n",
       "      <td>Y6</td>\n",
       "      <td>1367845.0</td>\n",
       "      <td>D</td>\n",
       "      <td>9770</td>\n",
       "    </tr>\n",
       "    <tr>\n",
       "      <th>...</th>\n",
       "      <td>...</td>\n",
       "      <td>...</td>\n",
       "      <td>...</td>\n",
       "      <td>...</td>\n",
       "      <td>...</td>\n",
       "      <td>...</td>\n",
       "      <td>...</td>\n",
       "    </tr>\n",
       "    <tr>\n",
       "      <th>199995</th>\n",
       "      <td>786061</td>\n",
       "      <td>CA_c_786061</td>\n",
       "      <td>70#</td>\n",
       "      <td>70</td>\n",
       "      <td>1439792.0</td>\n",
       "      <td>D</td>\n",
       "      <td>9724</td>\n",
       "    </tr>\n",
       "    <tr>\n",
       "      <th>199996</th>\n",
       "      <td>485888</td>\n",
       "      <td>CA_c_485888</td>\n",
       "      <td>70#</td>\n",
       "      <td>70</td>\n",
       "      <td>1860845.0</td>\n",
       "      <td>D</td>\n",
       "      <td>9724</td>\n",
       "    </tr>\n",
       "    <tr>\n",
       "      <th>199997</th>\n",
       "      <td>1972720</td>\n",
       "      <td>CA_c_1972720</td>\n",
       "      <td>70#</td>\n",
       "      <td>70</td>\n",
       "      <td>2571792.0</td>\n",
       "      <td>D</td>\n",
       "      <td>9770</td>\n",
       "    </tr>\n",
       "    <tr>\n",
       "      <th>199998</th>\n",
       "      <td>4096168</td>\n",
       "      <td>CA_c_6052830</td>\n",
       "      <td>70#</td>\n",
       "      <td>70</td>\n",
       "      <td>1136542.0</td>\n",
       "      <td>D</td>\n",
       "      <td>9724</td>\n",
       "    </tr>\n",
       "    <tr>\n",
       "      <th>199999</th>\n",
       "      <td>2925791</td>\n",
       "      <td>CA_c_4119213</td>\n",
       "      <td>70#</td>\n",
       "      <td>70</td>\n",
       "      <td>1882972.0</td>\n",
       "      <td>D</td>\n",
       "      <td>9770</td>\n",
       "    </tr>\n",
       "  </tbody>\n",
       "</table>\n",
       "<p>200000 rows × 7 columns</p>\n",
       "</div>"
      ],
      "text/plain": [
       "            CCA            ID CODIGOTX MOTIVOCAPTURA      VALOR NATURALEZA  \\\n",
       "0         32917    CA_c_32917      70#            70  2143655.0          D   \n",
       "1       1474941  CA_c_1474941      70#            70  2114609.0          D   \n",
       "2       2342398  CA_c_2733801      CF#            Y6   267636.0          D   \n",
       "3        684941   CA_c_684941      70#            70   705702.0          D   \n",
       "4       2143744  CA_c_2143744      CF#            Y6  1367845.0          D   \n",
       "...         ...           ...      ...           ...        ...        ...   \n",
       "199995   786061   CA_c_786061      70#            70  1439792.0          D   \n",
       "199996   485888   CA_c_485888      70#            70  1860845.0          D   \n",
       "199997  1972720  CA_c_1972720      70#            70  2571792.0          D   \n",
       "199998  4096168  CA_c_6052830      70#            70  1136542.0          D   \n",
       "199999  2925791  CA_c_4119213      70#            70  1882972.0          D   \n",
       "\n",
       "        AREA  \n",
       "0       9724  \n",
       "1       9770  \n",
       "2       9724  \n",
       "3       9724  \n",
       "4       9770  \n",
       "...      ...  \n",
       "199995  9724  \n",
       "199996  9724  \n",
       "199997  9770  \n",
       "199998  9724  \n",
       "199999  9770  \n",
       "\n",
       "[200000 rows x 7 columns]"
      ]
     },
     "execution_count": 12,
     "metadata": {},
     "output_type": "execute_result"
    }
   ],
   "source": [
    "df3 = df3.drop([\"Unnamed: 0\"], axis = 1) # Eliminando Unnamed\n",
    "#df3 = df3.CCA.astype(\"object\")\n",
    "df3.VALOR = df3.VALOR.str.replace(\"$\",\"\") \n",
    "df3.VALOR = df3.VALOR.str.replace(\",\",\"\") \n",
    "df3.VALOR = df3.VALOR.astype(float)\n",
    "df3.AREA = df3.AREA.astype(\"object\")\n",
    "\n",
    "df3"
   ]
  },
  {
   "cell_type": "code",
   "execution_count": 13,
   "id": "6b4381b6",
   "metadata": {},
   "outputs": [],
   "source": [
    "#df3 = df3[\"CCA\"].astype(str) ASÍ SE CAMBIA el CCA -> El cambio del CCA aveces daña la base de datos, no se sabe por qué\n",
    "df3.AREA = df3.AREA.astype(\"object\")"
   ]
  },
  {
   "cell_type": "code",
   "execution_count": 14,
   "id": "b2f4a4d4",
   "metadata": {},
   "outputs": [
    {
     "data": {
      "text/plain": [
       "0         9724\n",
       "1         9770\n",
       "2         9724\n",
       "3         9724\n",
       "4         9770\n",
       "          ... \n",
       "199995    9724\n",
       "199996    9724\n",
       "199997    9770\n",
       "199998    9724\n",
       "199999    9770\n",
       "Name: AREA, Length: 200000, dtype: object"
      ]
     },
     "execution_count": 14,
     "metadata": {},
     "output_type": "execute_result"
    }
   ],
   "source": [
    "df3.AREA"
   ]
  },
  {
   "cell_type": "markdown",
   "id": "5cdddf5b",
   "metadata": {},
   "source": [
    "1. El punto 1 ya fue solucionado, todos los tipos de datos se han convertido según lo especificado en las tablas como se puede ver de manera anterior."
   ]
  },
  {
   "cell_type": "code",
   "execution_count": 15,
   "id": "a42ba3a5",
   "metadata": {},
   "outputs": [
    {
     "data": {
      "text/plain": [
       "50000000.0    304\n",
       "1000000.0      21\n",
       "15000000.0     20\n",
       "30000000.0     15\n",
       "5000000.0      10\n",
       "             ... \n",
       "9000000.0       1\n",
       "1000.0          1\n",
       "14000000.0      1\n",
       "33000000.0      1\n",
       "320000.0        1\n",
       "Name: ATRIB, Length: 78, dtype: int64"
      ]
     },
     "execution_count": 15,
     "metadata": {},
     "output_type": "execute_result"
    }
   ],
   "source": [
    "# Trabajando en las atribuciones PRUEBA_B2_ATR\n",
    "\n",
    "\n",
    "\n",
    "dx = df.loc[:,\"VALOR\"] # se establece uan variable solo con los valores de la base de datos 1\n",
    "dx2 = df2.loc[:,\"ATRIB\"] # se establece variable con la base de datos 2\n",
    "\n",
    "# Desempeño esperado\n",
    "dx2.value_counts() "
   ]
  },
  {
   "cell_type": "code",
   "execution_count": 16,
   "id": "b3cbca44",
   "metadata": {},
   "outputs": [],
   "source": [
    "import seaborn as sns\n",
    "import numpy as np"
   ]
  },
  {
   "cell_type": "code",
   "execution_count": 17,
   "id": "5b498d0f",
   "metadata": {},
   "outputs": [
    {
     "name": "stdout",
     "output_type": "stream",
     "text": [
      "count    5.480000e+02\n",
      "mean     5.083466e+07\n",
      "std      3.007928e+08\n",
      "min      1.000000e+03\n",
      "25%      7.000000e+06\n",
      "50%      5.000000e+07\n",
      "75%      5.000000e+07\n",
      "max      5.000000e+09\n",
      "Name: ATRIB, dtype: float64\n",
      "50834664.61313868\n",
      "50000000.0\n",
      "300518227.99126244\n"
     ]
    }
   ],
   "source": [
    "print(dx2.describe())\n",
    "print(np.mean(dx2))\n",
    "print(np.median(dx2))\n",
    "print(np.std(dx2))\n"
   ]
  },
  {
   "cell_type": "code",
   "execution_count": 18,
   "id": "447197bf",
   "metadata": {},
   "outputs": [
    {
     "name": "stdout",
     "output_type": "stream",
     "text": [
      "count    1.000000e+06\n",
      "mean     1.979330e+15\n",
      "std      7.748712e+15\n",
      "min      1.563000e+03\n",
      "25%      8.453540e+05\n",
      "50%      1.612174e+06\n",
      "75%      2.385407e+06\n",
      "max      8.191940e+16\n",
      "Name: VALOR, dtype: float64\n",
      "1979329726088496.5\n",
      "1612174.0\n",
      "7748708149454762.0\n",
      "8.19194e+16\n"
     ]
    }
   ],
   "source": [
    "print(dx.describe())\n",
    "print(np.mean(dx))\n",
    "print(np.median(dx))\n",
    "print(np.std(dx))\n",
    "print(dx.max())"
   ]
  },
  {
   "cell_type": "code",
   "execution_count": 19,
   "id": "72080b43",
   "metadata": {},
   "outputs": [],
   "source": [
    "from scipy import stats\n",
    "\n",
    "norma = stats.zscore(dx2)\n"
   ]
  },
  {
   "cell_type": "code",
   "execution_count": 20,
   "id": "2d0c9cb4",
   "metadata": {},
   "outputs": [
    {
     "name": "stderr",
     "output_type": "stream",
     "text": [
      "/home/oscar/anaconda3/lib/python3.9/site-packages/seaborn/_decorators.py:36: FutureWarning: Pass the following variable as a keyword arg: x. From version 0.12, the only valid positional argument will be `data`, and passing other arguments without an explicit keyword will result in an error or misinterpretation.\n",
      "  warnings.warn(\n"
     ]
    },
    {
     "data": {
      "image/png": "[encoded data removed]",
      "text/plain": [
       "<Figure size 432x288 with 1 Axes>"
      ]
     },
     "metadata": {
      "needs_background": "light"
     },
     "output_type": "display_data"
    },
    {
     "name": "stderr",
     "output_type": "stream",
     "text": [
      "/home/oscar/anaconda3/lib/python3.9/site-packages/seaborn/_decorators.py:36: FutureWarning: Pass the following variable as a keyword arg: x. From version 0.12, the only valid positional argument will be `data`, and passing other arguments without an explicit keyword will result in an error or misinterpretation.\n",
      "  warnings.warn(\n"
     ]
    },
    {
     "data": {
      "image/png": "[encoded data removed]",
      "text/plain": [
       "<Figure size 432x288 with 1 Axes>"
      ]
     },
     "metadata": {
      "needs_background": "light"
     },
     "output_type": "display_data"
    },
    {
     "name": "stdout",
     "output_type": "stream",
     "text": [
      "count    1.000000e+06\n",
      "mean     1.979330e+15\n",
      "std      7.748712e+15\n",
      "min      1.563000e+03\n",
      "25%      8.453540e+05\n",
      "50%      1.612174e+06\n",
      "75%      2.385407e+06\n",
      "max      8.191940e+16\n",
      "Name: VALOR, dtype: float64\n"
     ]
    }
   ],
   "source": [
    "sns.boxplot(dx)\n",
    "plt.show()\n",
    "sns.boxplot(dx2)\n",
    "plt.show()\n",
    "\n",
    "print(dx.describe())"
   ]
  },
  {
   "cell_type": "markdown",
   "id": "5513f128",
   "metadata": {},
   "source": [
    "Podemos observar que según lo esperado en el diagrama de caja 2, se esperaba que la variable ATRIB de la base de datos atribuciones fuera desde un rango de 1000.0 hasta los 5.000.000.000.0  para generar prestamos a sus clientes, la mediana de los datos estan sobre los 50.000.000.0, es decir, microprestamos (según la moneda dada) y se esperaba justamente que hubiera un rango atipico de prestamos que tuviera como máximo un tope de 5.000.000.000.0, igualmente, observamos una desviación estandár  300792799.293. \n",
    "\n",
    "No obstante, según lo visto en la caja 1 que se refiere a la variable valor de lo prestado en el trismetre báse de datos PRUEBA_B1M.csv, evidencia grán cantidad de datos atipicos que no estuvieron contemplados de manera estrategica de manera previa. Así, el rango mínimo de prestamo estuvo registrado entre los 1500.0 y el máximo registrado estuvo en 8.191940e+16, estando muy por encima de lo calculado por el banco, siendo superior hasta del rango atipico"
   ]
  },
  {
   "cell_type": "code",
   "execution_count": 21,
   "id": "50de43de",
   "metadata": {},
   "outputs": [],
   "source": [
    "import scipy.stats"
   ]
  },
  {
   "cell_type": "code",
   "execution_count": 22,
   "id": "58716279",
   "metadata": {},
   "outputs": [
    {
     "data": {
      "image/png": "[encoded data removed]",
      "text/plain": [
       "<Figure size 576x396 with 1 Axes>"
      ]
     },
     "metadata": {},
     "output_type": "display_data"
    },
    {
     "data": {
      "image/png": "[encoded data removed]",
      "text/plain": [
       "<Figure size 576x396 with 1 Axes>"
      ]
     },
     "metadata": {},
     "output_type": "display_data"
    }
   ],
   "source": [
    "plt.style.use('seaborn')\n",
    "\n",
    "x = dx2\n",
    "x = np.sort(x) # ordena los datos\n",
    "\n",
    "mean = np.mean(dx2)\n",
    "std= np.std(dx2)\n",
    "\n",
    "y = scipy.stats.norm.pdf(x,mean,std)\n",
    "plt.plot(x,y)\n",
    "plt.title(\"Distrubición de Probabilidad Acumulada Atribuciones\",fontsize=14)\n",
    "\n",
    "plt.xlabel(\"Dolares\")\n",
    "plt.ylabel(\"Probabilidad\")\n",
    "plt.show()\n",
    "\n",
    "\n",
    "plt.style.use('seaborn')\n",
    "\n",
    "x = dx\n",
    "x = np.sort(x) # ordena los datos\n",
    "\n",
    "mean = np.mean(dx)\n",
    "std= np.std(dx)\n",
    "\n",
    "y = scipy.stats.norm.pdf(x,mean,std)\n",
    "plt.plot(x,y)\n",
    "plt.title(\"Distrubición de Probabilidad Acumulada Movimientos\",fontsize=14)\n",
    "\n",
    "plt.xlabel(\"Dolares\")\n",
    "plt.ylabel(\"Probabilidad\")\n",
    "plt.show()"
   ]
  },
  {
   "cell_type": "markdown",
   "id": "685d34d9",
   "metadata": {},
   "source": [
    "La probabilidad calculada de hacer grandes prestamos era muy reducida y eso era lo esperado por el banco, esto con el fin de disminuir el riesgo por el impago. No obstante se observaron grandes movimientos superando hasta los valores atipicos observados como topes máximos. Si bien las distribuciones de la gráfica "
   ]
  },
  {
   "cell_type": "code",
   "execution_count": 33,
   "id": "29df1e17",
   "metadata": {},
   "outputs": [
    {
     "data": {
      "text/html": [
       "<div>\n",
       "<style scoped>\n",
       "    .dataframe tbody tr th:only-of-type {\n",
       "        vertical-align: middle;\n",
       "    }\n",
       "\n",
       "    .dataframe tbody tr th {\n",
       "        vertical-align: top;\n",
       "    }\n",
       "\n",
       "    .dataframe thead th {\n",
       "        text-align: right;\n",
       "    }\n",
       "</style>\n",
       "<table border=\"1\" class=\"dataframe\">\n",
       "  <thead>\n",
       "    <tr style=\"text-align: right;\">\n",
       "      <th></th>\n",
       "      <th>CCA</th>\n",
       "      <th>ID</th>\n",
       "      <th>CODIGOTX</th>\n",
       "      <th>MOTIVOCAPTURA</th>\n",
       "      <th>VALOR</th>\n",
       "      <th>NATURALEZA</th>\n",
       "      <th>AREA</th>\n",
       "    </tr>\n",
       "  </thead>\n",
       "  <tbody>\n",
       "    <tr>\n",
       "      <th>0</th>\n",
       "      <td>359885.0</td>\n",
       "      <td>CA_c_359885</td>\n",
       "      <td>70#</td>\n",
       "      <td>70</td>\n",
       "      <td>1.824419e+16</td>\n",
       "      <td>D</td>\n",
       "      <td>9724</td>\n",
       "    </tr>\n",
       "    <tr>\n",
       "      <th>1</th>\n",
       "      <td>2685396.0</td>\n",
       "      <td>CA_c_3878818</td>\n",
       "      <td>70#</td>\n",
       "      <td>70</td>\n",
       "      <td>3.302140e+05</td>\n",
       "      <td>D</td>\n",
       "      <td>9770</td>\n",
       "    </tr>\n",
       "    <tr>\n",
       "      <th>2</th>\n",
       "      <td>2325317.0</td>\n",
       "      <td>CA_c_2716720</td>\n",
       "      <td>CF#</td>\n",
       "      <td>Y6</td>\n",
       "      <td>1.627568e+06</td>\n",
       "      <td>D</td>\n",
       "      <td>9724</td>\n",
       "    </tr>\n",
       "    <tr>\n",
       "      <th>3</th>\n",
       "      <td>46495.0</td>\n",
       "      <td>CA_c_46495</td>\n",
       "      <td>70#</td>\n",
       "      <td>70</td>\n",
       "      <td>1.252027e+06</td>\n",
       "      <td>D</td>\n",
       "      <td>9724</td>\n",
       "    </tr>\n",
       "    <tr>\n",
       "      <th>4</th>\n",
       "      <td>4541380.0</td>\n",
       "      <td>CA_c_6498042</td>\n",
       "      <td>70#</td>\n",
       "      <td>70</td>\n",
       "      <td>7.516900e+04</td>\n",
       "      <td>D</td>\n",
       "      <td>9724</td>\n",
       "    </tr>\n",
       "  </tbody>\n",
       "</table>\n",
       "</div>"
      ],
      "text/plain": [
       "         CCA            ID CODIGOTX MOTIVOCAPTURA         VALOR NATURALEZA  \\\n",
       "0   359885.0   CA_c_359885      70#            70  1.824419e+16          D   \n",
       "1  2685396.0  CA_c_3878818      70#            70  3.302140e+05          D   \n",
       "2  2325317.0  CA_c_2716720      CF#            Y6  1.627568e+06          D   \n",
       "3    46495.0    CA_c_46495      70#            70  1.252027e+06          D   \n",
       "4  4541380.0  CA_c_6498042      70#            70  7.516900e+04          D   \n",
       "\n",
       "   AREA  \n",
       "0  9724  \n",
       "1  9770  \n",
       "2  9724  \n",
       "3  9724  \n",
       "4  9724  "
      ]
     },
     "execution_count": 33,
     "metadata": {},
     "output_type": "execute_result"
    }
   ],
   "source": [
    "df.head()"
   ]
  },
  {
   "cell_type": "code",
   "execution_count": 41,
   "id": "72367eb0",
   "metadata": {},
   "outputs": [
    {
     "data": {
      "text/plain": [
       "AREA  VALOR       NATURALEZA\n",
       "5435  1063148.0   C             1\n",
       "      10748874.0  C             1\n",
       "      11225833.0  C             1\n",
       "      11393919.0  C             1\n",
       "      11686411.0  C             1\n",
       "                               ..\n",
       "9995  761326.0    D             1\n",
       "9996  4467466.0   C             1\n",
       "9999  308353.0    D             1\n",
       "      962512.0    D             1\n",
       "      17799164.0  C             1\n",
       "Name: NATURALEZA, Length: 951145, dtype: int64"
      ]
     },
     "execution_count": 41,
     "metadata": {},
     "output_type": "execute_result"
    }
   ],
   "source": [
    "df.groupby([\"AREA\",\"VALOR\"])[\"NATURALEZA\"].value_counts()"
   ]
  },
  {
   "cell_type": "code",
   "execution_count": 42,
   "id": "d8b7c52f",
   "metadata": {},
   "outputs": [
    {
     "name": "stderr",
     "output_type": "stream",
     "text": [
      "/home/oscar/anaconda3/lib/python3.9/site-packages/seaborn/_decorators.py:36: FutureWarning: Pass the following variable as a keyword arg: x. From version 0.12, the only valid positional argument will be `data`, and passing other arguments without an explicit keyword will result in an error or misinterpretation.\n",
      "  warnings.warn(\n"
     ]
    },
    {
     "data": {
      "text/plain": [
       "<AxesSubplot:xlabel='NATURALEZA', ylabel='count'>"
      ]
     },
     "execution_count": 42,
     "metadata": {},
     "output_type": "execute_result"
    },
    {
     "data": {
      "image/png": "[encoded data removed]",
      "text/plain": [
       "<Figure size 576x396 with 1 Axes>"
      ]
     },
     "metadata": {},
     "output_type": "display_data"
    }
   ],
   "source": [
    "sns.countplot(df.NATURALEZA)"
   ]
  },
  {
   "cell_type": "markdown",
   "id": "91a8a741",
   "metadata": {},
   "source": [
    "La mayor parte de las transacciones se dieron bajo la naturaleza D, "
   ]
  },
  {
   "cell_type": "code",
   "execution_count": 47,
   "id": "580d47d7",
   "metadata": {},
   "outputs": [
    {
     "data": {
      "text/plain": [
       "D     970480\n",
       "C      23857\n",
       "RA      5545\n",
       "c         98\n",
       "d         16\n",
       "Name: NATURALEZA, dtype: int64"
      ]
     },
     "execution_count": 47,
     "metadata": {},
     "output_type": "execute_result"
    }
   ],
   "source": [
    "df.NATURALEZA.value_counts()"
   ]
  },
  {
   "cell_type": "code",
   "execution_count": 67,
   "id": "ef7b700a",
   "metadata": {},
   "outputs": [
    {
     "data": {
      "text/plain": [
       "<AxesSubplot:xlabel='VALOR', ylabel='NATURALEZA'>"
      ]
     },
     "execution_count": 67,
     "metadata": {},
     "output_type": "execute_result"
    },
    {
     "data": {
      "image/png": "[encoded data removed]",
      "text/plain": [
       "<Figure size 576x396 with 1 Axes>"
      ]
     },
     "metadata": {},
     "output_type": "display_data"
    }
   ],
   "source": [
    "sns.boxplot(x=df.VALOR, y=df.NATURALEZA)"
   ]
  },
  {
   "cell_type": "markdown",
   "id": "f0138846",
   "metadata": {},
   "source": [
    "Todas las categorías de naturaleza presentan datos atípicos, con expeción a la naturaleza d, que es el tipo de prestamos más reducidos, con una proporción casí nula dentro del conjunto de datos, siendo la modalidad menos usada, a medida que el número de prestamos aumenta por naturaleza, los casos atípicos aumentan con ella, con cada conjunto."
   ]
  },
  {
   "cell_type": "markdown",
   "id": "f87109ca",
   "metadata": {},
   "source": [
    "3. El punto 3 tiene ya gráficas para hacer un análisis, de lo que he entendido de los datos esto es lo que se ha podido hacer, por el conjunto de los datos se necesita buen espacio para procesarlos."
   ]
  },
  {
   "cell_type": "markdown",
   "id": "97bc5de7",
   "metadata": {},
   "source": [
    "  "
   ]
  },
  {
   "cell_type": "code",
   "execution_count": 155,
   "id": "4a89dffa",
   "metadata": {},
   "outputs": [],
   "source": [
    "# Vamos a establecer una variable con los datos que \n",
    "# queremos predecir, en este caso, el ejercicio pide\n",
    "# predecir las transacciones por categoria\n",
    "\n",
    "\n",
    "\n",
    "\n",
    "\n",
    "# Regresión logistico traza una linea en la mitad de los\n",
    "# datos, el arbol de decisión traza preguntas que despues\n",
    "# mostrara un resultado o no"
   ]
  },
  {
   "cell_type": "markdown",
   "id": "5cdcd4e1",
   "metadata": {},
   "source": [
    "\n",
    "\n"
   ]
  },
  {
   "cell_type": "code",
   "execution_count": 159,
   "id": "09297606",
   "metadata": {},
   "outputs": [],
   "source": [
    "# Necesitamos convertir la naturaleza de los prsetamos a enteros\n",
    "\n",
    "df3[\"NATURALEZA-NUMERICO\"] = df.NATURALEZA.replace({\"D\":1,\"C\":2,\"RA\":3,\"c\":4,\"d\":5})"
   ]
  },
  {
   "cell_type": "code",
   "execution_count": 168,
   "id": "fc00da17",
   "metadata": {},
   "outputs": [],
   "source": [
    "y = df3.VALOR.dropna() # será el dato que queremos predecir\n"
   ]
  },
  {
   "cell_type": "code",
   "execution_count": 170,
   "id": "63706a88",
   "metadata": {},
   "outputs": [],
   "source": [
    "datos_caracteristicas = [\"NATURALEZA-NUMERICO\", ]\n",
    "X=df3[datos_caracteristicas]\n"
   ]
  },
  {
   "cell_type": "code",
   "execution_count": 164,
   "id": "4941a20f",
   "metadata": {},
   "outputs": [
    {
     "data": {
      "text/plain": [
       "Index(['NATURALEZA-NUMERICO'], dtype='object')"
      ]
     },
     "execution_count": 164,
     "metadata": {},
     "output_type": "execute_result"
    }
   ],
   "source": [
    "X.columns"
   ]
  },
  {
   "cell_type": "code",
   "execution_count": 165,
   "id": "7495da9d",
   "metadata": {},
   "outputs": [
    {
     "data": {
      "text/html": [
       "<div>\n",
       "<style scoped>\n",
       "    .dataframe tbody tr th:only-of-type {\n",
       "        vertical-align: middle;\n",
       "    }\n",
       "\n",
       "    .dataframe tbody tr th {\n",
       "        vertical-align: top;\n",
       "    }\n",
       "\n",
       "    .dataframe thead th {\n",
       "        text-align: right;\n",
       "    }\n",
       "</style>\n",
       "<table border=\"1\" class=\"dataframe\">\n",
       "  <thead>\n",
       "    <tr style=\"text-align: right;\">\n",
       "      <th></th>\n",
       "      <th>NATURALEZA-NUMERICO</th>\n",
       "    </tr>\n",
       "  </thead>\n",
       "  <tbody>\n",
       "    <tr>\n",
       "      <th>count</th>\n",
       "      <td>199999.00000</td>\n",
       "    </tr>\n",
       "    <tr>\n",
       "      <th>mean</th>\n",
       "      <td>1.03514</td>\n",
       "    </tr>\n",
       "    <tr>\n",
       "      <th>std</th>\n",
       "      <td>0.21332</td>\n",
       "    </tr>\n",
       "    <tr>\n",
       "      <th>min</th>\n",
       "      <td>1.00000</td>\n",
       "    </tr>\n",
       "    <tr>\n",
       "      <th>25%</th>\n",
       "      <td>1.00000</td>\n",
       "    </tr>\n",
       "    <tr>\n",
       "      <th>50%</th>\n",
       "      <td>1.00000</td>\n",
       "    </tr>\n",
       "    <tr>\n",
       "      <th>75%</th>\n",
       "      <td>1.00000</td>\n",
       "    </tr>\n",
       "    <tr>\n",
       "      <th>max</th>\n",
       "      <td>5.00000</td>\n",
       "    </tr>\n",
       "  </tbody>\n",
       "</table>\n",
       "</div>"
      ],
      "text/plain": [
       "       NATURALEZA-NUMERICO\n",
       "count         199999.00000\n",
       "mean               1.03514\n",
       "std                0.21332\n",
       "min                1.00000\n",
       "25%                1.00000\n",
       "50%                1.00000\n",
       "75%                1.00000\n",
       "max                5.00000"
      ]
     },
     "execution_count": 165,
     "metadata": {},
     "output_type": "execute_result"
    }
   ],
   "source": [
    "X.describe()"
   ]
  },
  {
   "cell_type": "code",
   "execution_count": 166,
   "id": "0c8951ab",
   "metadata": {},
   "outputs": [],
   "source": [
    "from sklearn.tree import DecisionTreeRegressor"
   ]
  },
  {
   "cell_type": "code",
   "execution_count": 173,
   "id": "f44b5d2e",
   "metadata": {},
   "outputs": [
    {
     "ename": "ValueError",
     "evalue": "Number of labels=200000 does not match number of samples=199999",
     "output_type": "error",
     "traceback": [
      "\u001b[0;31m---------------------------------------------------------------------------\u001b[0m",
      "\u001b[0;31mValueError\u001b[0m                                Traceback (most recent call last)",
      "\u001b[0;32m/tmp/ipykernel_9838/1545409552.py\u001b[0m in \u001b[0;36m<module>\u001b[0;34m\u001b[0m\n\u001b[1;32m      3\u001b[0m \u001b[0;34m\u001b[0m\u001b[0m\n\u001b[1;32m      4\u001b[0m \u001b[0mmodelo_naturaleza\u001b[0m \u001b[0;34m=\u001b[0m \u001b[0mDecisionTreeRegressor\u001b[0m\u001b[0;34m(\u001b[0m\u001b[0mrandom_state\u001b[0m\u001b[0;34m=\u001b[0m\u001b[0;36m0\u001b[0m\u001b[0;34m)\u001b[0m\u001b[0;34m\u001b[0m\u001b[0;34m\u001b[0m\u001b[0m\n\u001b[0;32m----> 5\u001b[0;31m \u001b[0mmodelo_naturaleza\u001b[0m\u001b[0;34m.\u001b[0m\u001b[0mfit\u001b[0m\u001b[0;34m(\u001b[0m\u001b[0mX\u001b[0m\u001b[0;34m,\u001b[0m\u001b[0my\u001b[0m\u001b[0;34m)\u001b[0m\u001b[0;34m\u001b[0m\u001b[0;34m\u001b[0m\u001b[0m\n\u001b[0m",
      "\u001b[0;32m~/anaconda3/lib/python3.9/site-packages/sklearn/tree/_classes.py\u001b[0m in \u001b[0;36mfit\u001b[0;34m(self, X, y, sample_weight, check_input, X_idx_sorted)\u001b[0m\n\u001b[1;32m   1250\u001b[0m         \"\"\"\n\u001b[1;32m   1251\u001b[0m \u001b[0;34m\u001b[0m\u001b[0m\n\u001b[0;32m-> 1252\u001b[0;31m         super().fit(\n\u001b[0m\u001b[1;32m   1253\u001b[0m             \u001b[0mX\u001b[0m\u001b[0;34m,\u001b[0m \u001b[0my\u001b[0m\u001b[0;34m,\u001b[0m\u001b[0;34m\u001b[0m\u001b[0;34m\u001b[0m\u001b[0m\n\u001b[1;32m   1254\u001b[0m             \u001b[0msample_weight\u001b[0m\u001b[0;34m=\u001b[0m\u001b[0msample_weight\u001b[0m\u001b[0;34m,\u001b[0m\u001b[0;34m\u001b[0m\u001b[0;34m\u001b[0m\u001b[0m\n",
      "\u001b[0;32m~/anaconda3/lib/python3.9/site-packages/sklearn/tree/_classes.py\u001b[0m in \u001b[0;36mfit\u001b[0;34m(self, X, y, sample_weight, check_input, X_idx_sorted)\u001b[0m\n\u001b[1;32m    280\u001b[0m \u001b[0;34m\u001b[0m\u001b[0m\n\u001b[1;32m    281\u001b[0m         \u001b[0;32mif\u001b[0m \u001b[0mlen\u001b[0m\u001b[0;34m(\u001b[0m\u001b[0my\u001b[0m\u001b[0;34m)\u001b[0m \u001b[0;34m!=\u001b[0m \u001b[0mn_samples\u001b[0m\u001b[0;34m:\u001b[0m\u001b[0;34m\u001b[0m\u001b[0;34m\u001b[0m\u001b[0m\n\u001b[0;32m--> 282\u001b[0;31m             raise ValueError(\"Number of labels=%d does not match \"\n\u001b[0m\u001b[1;32m    283\u001b[0m                              \"number of samples=%d\" % (len(y), n_samples))\n\u001b[1;32m    284\u001b[0m         \u001b[0;32mif\u001b[0m \u001b[0;32mnot\u001b[0m \u001b[0;36m0\u001b[0m \u001b[0;34m<=\u001b[0m \u001b[0mself\u001b[0m\u001b[0;34m.\u001b[0m\u001b[0mmin_weight_fraction_leaf\u001b[0m \u001b[0;34m<=\u001b[0m \u001b[0;36m0.5\u001b[0m\u001b[0;34m:\u001b[0m\u001b[0;34m\u001b[0m\u001b[0;34m\u001b[0m\u001b[0m\n",
      "\u001b[0;31mValueError\u001b[0m: Number of labels=200000 does not match number of samples=199999"
     ]
    }
   ],
   "source": [
    "X = X.dropna()\n",
    "y= y.dropna()\n",
    "\n",
    "modelo_naturaleza = DecisionTreeRegressor(random_state=0)\n",
    "modelo_naturaleza.fit(X,y)"
   ]
  },
  {
   "cell_type": "code",
   "execution_count": 179,
   "id": "4d424324",
   "metadata": {},
   "outputs": [
    {
     "data": {
      "text/plain": [
       "200000"
      ]
     },
     "execution_count": 179,
     "metadata": {},
     "output_type": "execute_result"
    }
   ],
   "source": [
    "df3[\"NATURALEZA-NUMERICO\"].count()\n",
    "df3.VALOR.count()"
   ]
  },
  {
   "cell_type": "code",
   "execution_count": null,
   "id": "812b4e8d",
   "metadata": {},
   "outputs": [],
   "source": []
  },
  {
   "cell_type": "code",
   "execution_count": null,
   "id": "efcb5666",
   "metadata": {},
   "outputs": [],
   "source": []
  }
 ],
 "metadata": {
  "kernelspec": {
   "display_name": "Python 3 (ipykernel)",
   "language": "python",
   "name": "python3"
  },
  "language_info": {
   "codemirror_mode": {
    "name": "ipython",
    "version": 3
   },
   "file_extension": ".py",
   "mimetype": "text/x-python",
   "name": "python",
   "nbconvert_exporter": "python",
   "pygments_lexer": "ipython3",
   "version": "3.9.7"
  }
 },
 "nbformat": 4,
 "nbformat_minor": 5
}
